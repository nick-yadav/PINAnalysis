{
 "cells": [
  {
   "cell_type": "markdown",
   "id": "53a324b5",
   "metadata": {},
   "source": [
    "# PINIR Data Preprocessing - Page-2"
   ]
  },
  {
   "cell_type": "code",
   "execution_count": 1,
   "id": "d8a4660d",
   "metadata": {},
   "outputs": [],
   "source": [
    "import pandas as pd\n",
    "import numpy as np"
   ]
  },
  {
   "cell_type": "code",
   "execution_count": 2,
   "id": "24e7c075",
   "metadata": {},
   "outputs": [],
   "source": [
    "pd.set_option('display.max_columns',None)\n",
    "pd.set_option('display.max_rows',None)"
   ]
  },
  {
   "cell_type": "code",
   "execution_count": 3,
   "id": "9b8d73cc",
   "metadata": {},
   "outputs": [],
   "source": [
    "pd.reset_option('display.max_columns')\n",
    "pd.reset_option('display.max_rows')"
   ]
  },
  {
   "cell_type": "code",
   "execution_count": 4,
   "id": "21413a14",
   "metadata": {},
   "outputs": [],
   "source": [
    "pd.set_option('display.max_colwidth',2000)"
   ]
  },
  {
   "cell_type": "code",
   "execution_count": 5,
   "id": "74b8fda3",
   "metadata": {},
   "outputs": [],
   "source": [
    "pd.reset_option('display.max_colwidth')"
   ]
  },
  {
   "cell_type": "markdown",
   "id": "d95f890b",
   "metadata": {},
   "source": [
    "## Domains- PI Sequence Analysis\n",
    "File Used *PINIR_Pin2Sequences.csv* created using python program *DomainFinder.py*"
   ]
  },
  {
   "cell_type": "code",
   "execution_count": 14,
   "id": "d8d62129",
   "metadata": {},
   "outputs": [],
   "source": [
    "pin2_sequences=pd.read_csv('data/1_pi_general_features.csv')"
   ]
  },
  {
   "cell_type": "code",
   "execution_count": 15,
   "id": "2f4f1e98",
   "metadata": {},
   "outputs": [
    {
     "data": {
      "text/html": [
       "<div>\n",
       "<style scoped>\n",
       "    .dataframe tbody tr th:only-of-type {\n",
       "        vertical-align: middle;\n",
       "    }\n",
       "\n",
       "    .dataframe tbody tr th {\n",
       "        vertical-align: top;\n",
       "    }\n",
       "\n",
       "    .dataframe thead th {\n",
       "        text-align: right;\n",
       "    }\n",
       "</style>\n",
       "<table border=\"1\" class=\"dataframe\">\n",
       "  <thead>\n",
       "    <tr style=\"text-align: right;\">\n",
       "      <th></th>\n",
       "      <th>UniprotID</th>\n",
       "      <th>EntryName</th>\n",
       "      <th>Status</th>\n",
       "      <th>ProteinNames</th>\n",
       "      <th>Sequence</th>\n",
       "      <th>SignalPeptide</th>\n",
       "      <th>GeneNames</th>\n",
       "      <th>OrganismID</th>\n",
       "      <th>Organism</th>\n",
       "      <th>TaxonomicLineage(ALL)</th>\n",
       "      <th>...</th>\n",
       "      <th>Function[CC]</th>\n",
       "      <th>GeneOntologyIDs</th>\n",
       "      <th>GeneOntology(GO)</th>\n",
       "      <th>GeneOntology(cellularcomponent)</th>\n",
       "      <th>GeneOntology(molecularfunction)</th>\n",
       "      <th>PubMedID</th>\n",
       "      <th>Cross-reference(InterPro)</th>\n",
       "      <th>Cross-reference(Pfam)</th>\n",
       "      <th>Cross-reference(MEROPS)</th>\n",
       "      <th>Cross-reference(EMBL)</th>\n",
       "    </tr>\n",
       "  </thead>\n",
       "  <tbody>\n",
       "    <tr>\n",
       "      <th>0</th>\n",
       "      <td>P05119</td>\n",
       "      <td>IP21_SOLLC</td>\n",
       "      <td>reviewed</td>\n",
       "      <td>Wound-induced proteinase inhibitor 2 (Wound-in...</td>\n",
       "      <td>MAVHKEVNFVAYLLIVLGMFLYVDAKACTRECGNLGFGICPRSEGS...</td>\n",
       "      <td>SIGNAL 1..25</td>\n",
       "      <td>NaN</td>\n",
       "      <td>4081</td>\n",
       "      <td>Solanum lycopersicum (Tomato) (Lycopersicon es...</td>\n",
       "      <td>cellular organisms, Eukaryota, Viridiplantae, ...</td>\n",
       "      <td>...</td>\n",
       "      <td>FUNCTION: Potent inhibitor of both trypsin and...</td>\n",
       "      <td>GO:0004867; GO:0005576</td>\n",
       "      <td>extracellular region [GO:0005576]; serine-type...</td>\n",
       "      <td>extracellular region [GO:0005576]</td>\n",
       "      <td>serine-type endopeptidase inhibitor activity [...</td>\n",
       "      <td>3838986; 12684499</td>\n",
       "      <td>IPR003465;</td>\n",
       "      <td>PF02428;</td>\n",
       "      <td>I20.003;</td>\n",
       "      <td>K03291;</td>\n",
       "    </tr>\n",
       "    <tr>\n",
       "      <th>1</th>\n",
       "      <td>P84813</td>\n",
       "      <td>POTM1_SOLTU</td>\n",
       "      <td>reviewed</td>\n",
       "      <td>Potamin-1 (PT-1) (Fragment)</td>\n",
       "      <td>DICTNCCAGTKGCNTTSANGAFICEGQSDPKKPKACPLNCDPHIAYA</td>\n",
       "      <td>NaN</td>\n",
       "      <td>NaN</td>\n",
       "      <td>4113</td>\n",
       "      <td>Solanum tuberosum (Potato)</td>\n",
       "      <td>cellular organisms, Eukaryota, Viridiplantae, ...</td>\n",
       "      <td>...</td>\n",
       "      <td>FUNCTION: Inhibitor of serine proteases chymot...</td>\n",
       "      <td>GO:0004867; GO:0031640; GO:0050830; GO:0050832</td>\n",
       "      <td>serine-type endopeptidase inhibitor activity [...</td>\n",
       "      <td>NaN</td>\n",
       "      <td>serine-type endopeptidase inhibitor activity [...</td>\n",
       "      <td>15809084</td>\n",
       "      <td>IPR003465;</td>\n",
       "      <td>PF02428;</td>\n",
       "      <td>NaN</td>\n",
       "      <td>NaN</td>\n",
       "    </tr>\n",
       "  </tbody>\n",
       "</table>\n",
       "<p>2 rows × 23 columns</p>\n",
       "</div>"
      ],
      "text/plain": [
       "  UniprotID    EntryName    Status  \\\n",
       "0    P05119   IP21_SOLLC  reviewed   \n",
       "1    P84813  POTM1_SOLTU  reviewed   \n",
       "\n",
       "                                        ProteinNames  \\\n",
       "0  Wound-induced proteinase inhibitor 2 (Wound-in...   \n",
       "1                        Potamin-1 (PT-1) (Fragment)   \n",
       "\n",
       "                                            Sequence SignalPeptide GeneNames  \\\n",
       "0  MAVHKEVNFVAYLLIVLGMFLYVDAKACTRECGNLGFGICPRSEGS...  SIGNAL 1..25       NaN   \n",
       "1    DICTNCCAGTKGCNTTSANGAFICEGQSDPKKPKACPLNCDPHIAYA           NaN       NaN   \n",
       "\n",
       "   OrganismID                                           Organism  \\\n",
       "0        4081  Solanum lycopersicum (Tomato) (Lycopersicon es...   \n",
       "1        4113                         Solanum tuberosum (Potato)   \n",
       "\n",
       "                               TaxonomicLineage(ALL)  ...  \\\n",
       "0  cellular organisms, Eukaryota, Viridiplantae, ...  ...   \n",
       "1  cellular organisms, Eukaryota, Viridiplantae, ...  ...   \n",
       "\n",
       "                                        Function[CC]  \\\n",
       "0  FUNCTION: Potent inhibitor of both trypsin and...   \n",
       "1  FUNCTION: Inhibitor of serine proteases chymot...   \n",
       "\n",
       "                                  GeneOntologyIDs  \\\n",
       "0                          GO:0004867; GO:0005576   \n",
       "1  GO:0004867; GO:0031640; GO:0050830; GO:0050832   \n",
       "\n",
       "                                    GeneOntology(GO)  \\\n",
       "0  extracellular region [GO:0005576]; serine-type...   \n",
       "1  serine-type endopeptidase inhibitor activity [...   \n",
       "\n",
       "     GeneOntology(cellularcomponent)  \\\n",
       "0  extracellular region [GO:0005576]   \n",
       "1                                NaN   \n",
       "\n",
       "                     GeneOntology(molecularfunction)           PubMedID  \\\n",
       "0  serine-type endopeptidase inhibitor activity [...  3838986; 12684499   \n",
       "1  serine-type endopeptidase inhibitor activity [...           15809084   \n",
       "\n",
       "  Cross-reference(InterPro) Cross-reference(Pfam) Cross-reference(MEROPS)  \\\n",
       "0                IPR003465;              PF02428;                I20.003;   \n",
       "1                IPR003465;              PF02428;                     NaN   \n",
       "\n",
       "  Cross-reference(EMBL)  \n",
       "0               K03291;  \n",
       "1                   NaN  \n",
       "\n",
       "[2 rows x 23 columns]"
      ]
     },
     "execution_count": 15,
     "metadata": {},
     "output_type": "execute_result"
    }
   ],
   "source": [
    "pin2_sequences.head(2)"
   ]
  },
  {
   "cell_type": "code",
   "execution_count": 16,
   "id": "14d8aeba",
   "metadata": {},
   "outputs": [
    {
     "data": {
      "text/plain": [
       "Index(['UniprotID', 'EntryName', 'Status', 'ProteinNames', 'Sequence',\n",
       "       'SignalPeptide', 'GeneNames', 'OrganismID', 'Organism',\n",
       "       'TaxonomicLineage(ALL)', 'GeneOntology(biologicalprocess)', 'Length',\n",
       "       'Mass', 'Function[CC]', 'GeneOntologyIDs', 'GeneOntology(GO)',\n",
       "       'GeneOntology(cellularcomponent)', 'GeneOntology(molecularfunction)',\n",
       "       'PubMedID', 'Cross-reference(InterPro)', 'Cross-reference(Pfam)',\n",
       "       'Cross-reference(MEROPS)', 'Cross-reference(EMBL)'],\n",
       "      dtype='object')"
      ]
     },
     "execution_count": 16,
     "metadata": {},
     "output_type": "execute_result"
    }
   ],
   "source": [
    "pin2_sequences.columns"
   ]
  },
  {
   "cell_type": "code",
   "execution_count": 17,
   "id": "82a60ab0",
   "metadata": {},
   "outputs": [],
   "source": [
    "pin2_sequences=pin2_sequences[['UniprotID','Sequence','OrganismID','Organism']]"
   ]
  },
  {
   "cell_type": "code",
   "execution_count": 18,
   "id": "32a2f760",
   "metadata": {},
   "outputs": [
    {
     "data": {
      "text/html": [
       "<div>\n",
       "<style scoped>\n",
       "    .dataframe tbody tr th:only-of-type {\n",
       "        vertical-align: middle;\n",
       "    }\n",
       "\n",
       "    .dataframe tbody tr th {\n",
       "        vertical-align: top;\n",
       "    }\n",
       "\n",
       "    .dataframe thead th {\n",
       "        text-align: right;\n",
       "    }\n",
       "</style>\n",
       "<table border=\"1\" class=\"dataframe\">\n",
       "  <thead>\n",
       "    <tr style=\"text-align: right;\">\n",
       "      <th></th>\n",
       "      <th>UniprotID</th>\n",
       "      <th>Sequence</th>\n",
       "      <th>OrganismID</th>\n",
       "      <th>Organism</th>\n",
       "    </tr>\n",
       "  </thead>\n",
       "  <tbody>\n",
       "    <tr>\n",
       "      <th>0</th>\n",
       "      <td>P05119</td>\n",
       "      <td>MAVHKEVNFVAYLLIVLGMFLYVDAKACTRECGNLGFGICPRSEGS...</td>\n",
       "      <td>4081</td>\n",
       "      <td>Solanum lycopersicum (Tomato) (Lycopersicon es...</td>\n",
       "    </tr>\n",
       "    <tr>\n",
       "      <th>1</th>\n",
       "      <td>P84813</td>\n",
       "      <td>DICTNCCAGTKGCNTTSANGAFICEGQSDPKKPKACPLNCDPHIAYA</td>\n",
       "      <td>4113</td>\n",
       "      <td>Solanum tuberosum (Potato)</td>\n",
       "    </tr>\n",
       "  </tbody>\n",
       "</table>\n",
       "</div>"
      ],
      "text/plain": [
       "  UniprotID                                           Sequence  OrganismID  \\\n",
       "0    P05119  MAVHKEVNFVAYLLIVLGMFLYVDAKACTRECGNLGFGICPRSEGS...        4081   \n",
       "1    P84813    DICTNCCAGTKGCNTTSANGAFICEGQSDPKKPKACPLNCDPHIAYA        4113   \n",
       "\n",
       "                                            Organism  \n",
       "0  Solanum lycopersicum (Tomato) (Lycopersicon es...  \n",
       "1                         Solanum tuberosum (Potato)  "
      ]
     },
     "execution_count": 18,
     "metadata": {},
     "output_type": "execute_result"
    }
   ],
   "source": [
    "pin2_sequences.head(2)"
   ]
  },
  {
   "cell_type": "code",
   "execution_count": 19,
   "id": "0959d709",
   "metadata": {},
   "outputs": [
    {
     "data": {
      "text/plain": [
       "UniprotID     452\n",
       "Sequence      452\n",
       "OrganismID    452\n",
       "Organism      452\n",
       "dtype: int64"
      ]
     },
     "execution_count": 19,
     "metadata": {},
     "output_type": "execute_result"
    }
   ],
   "source": [
    "pin2_sequences.count()"
   ]
  },
  {
   "cell_type": "code",
   "execution_count": 21,
   "id": "e7b6625b",
   "metadata": {},
   "outputs": [],
   "source": [
    "# pin2_sequences.to_csv('data/14_PIN_II_sequences.csv',index=False)## Creating PIN II sequences file"
   ]
  },
  {
   "cell_type": "code",
   "execution_count": 22,
   "id": "b5e5769e",
   "metadata": {},
   "outputs": [],
   "source": [
    "domains=pd.read_csv('data/6_Domains.csv')"
   ]
  },
  {
   "cell_type": "code",
   "execution_count": 23,
   "id": "f5bdf9cf",
   "metadata": {},
   "outputs": [
    {
     "data": {
      "text/plain": [
       "Index(['domainID', 'domain', 'variant'], dtype='object')"
      ]
     },
     "execution_count": 23,
     "metadata": {},
     "output_type": "execute_result"
    }
   ],
   "source": [
    "domains.columns"
   ]
  },
  {
   "cell_type": "code",
   "execution_count": 24,
   "id": "3a7e5449",
   "metadata": {},
   "outputs": [
    {
     "data": {
      "text/plain": [
       "698"
      ]
     },
     "execution_count": 24,
     "metadata": {},
     "output_type": "execute_result"
    }
   ],
   "source": [
    "domains.domainID.count()"
   ]
  },
  {
   "cell_type": "code",
   "execution_count": 25,
   "id": "876d2ca3",
   "metadata": {},
   "outputs": [
    {
     "data": {
      "text/html": [
       "<div>\n",
       "<style scoped>\n",
       "    .dataframe tbody tr th:only-of-type {\n",
       "        vertical-align: middle;\n",
       "    }\n",
       "\n",
       "    .dataframe tbody tr th {\n",
       "        vertical-align: top;\n",
       "    }\n",
       "\n",
       "    .dataframe thead th {\n",
       "        text-align: right;\n",
       "    }\n",
       "</style>\n",
       "<table border=\"1\" class=\"dataframe\">\n",
       "  <thead>\n",
       "    <tr style=\"text-align: right;\">\n",
       "      <th></th>\n",
       "      <th>domainID</th>\n",
       "      <th>domain</th>\n",
       "      <th>variant</th>\n",
       "    </tr>\n",
       "  </thead>\n",
       "  <tbody>\n",
       "    <tr>\n",
       "      <th>0</th>\n",
       "      <td>IRD-1</td>\n",
       "      <td>QICINCCAGKKGCNYFSADGTFICEGESEYVSEVNDNLEKHCPRNC...</td>\n",
       "      <td>1</td>\n",
       "    </tr>\n",
       "    <tr>\n",
       "      <th>1</th>\n",
       "      <td>IRD-2</td>\n",
       "      <td>QICTNCCAGKKGCMYFSDDGTFICEGESEYVSEVPVDNKPCPRNCD...</td>\n",
       "      <td>1</td>\n",
       "    </tr>\n",
       "  </tbody>\n",
       "</table>\n",
       "</div>"
      ],
      "text/plain": [
       "  domainID                                             domain  variant\n",
       "0    IRD-1  QICINCCAGKKGCNYFSADGTFICEGESEYVSEVNDNLEKHCPRNC...        1\n",
       "1    IRD-2  QICTNCCAGKKGCMYFSDDGTFICEGESEYVSEVPVDNKPCPRNCD...        1"
      ]
     },
     "execution_count": 25,
     "metadata": {},
     "output_type": "execute_result"
    }
   ],
   "source": [
    "domains.head(2)"
   ]
  },
  {
   "cell_type": "markdown",
   "id": "fb5e9f7f",
   "metadata": {},
   "source": [
    "### Finding the new PIN-II PI sequences"
   ]
  },
  {
   "cell_type": "code",
   "execution_count": 31,
   "id": "0c2953de",
   "metadata": {},
   "outputs": [],
   "source": [
    "old_seq=pd.read_csv('data/PIN_II_sequences.csv')"
   ]
  },
  {
   "cell_type": "code",
   "execution_count": 32,
   "id": "098b1ccc",
   "metadata": {},
   "outputs": [
    {
     "data": {
      "text/html": [
       "<div>\n",
       "<style scoped>\n",
       "    .dataframe tbody tr th:only-of-type {\n",
       "        vertical-align: middle;\n",
       "    }\n",
       "\n",
       "    .dataframe tbody tr th {\n",
       "        vertical-align: top;\n",
       "    }\n",
       "\n",
       "    .dataframe thead th {\n",
       "        text-align: right;\n",
       "    }\n",
       "</style>\n",
       "<table border=\"1\" class=\"dataframe\">\n",
       "  <thead>\n",
       "    <tr style=\"text-align: right;\">\n",
       "      <th></th>\n",
       "      <th>UniprotID</th>\n",
       "      <th>Sequence</th>\n",
       "      <th>OrganismID</th>\n",
       "      <th>Organism</th>\n",
       "    </tr>\n",
       "  </thead>\n",
       "  <tbody>\n",
       "    <tr>\n",
       "      <th>0</th>\n",
       "      <td>P05119</td>\n",
       "      <td>MAVHKEVNFVAYLLIVLGMFLYVDAKACTRECGNLGFGICPRSEGS...</td>\n",
       "      <td>4081</td>\n",
       "      <td>Solanum lycopersicum (Tomato) (Lycopersicon es...</td>\n",
       "    </tr>\n",
       "    <tr>\n",
       "      <th>1</th>\n",
       "      <td>P84813</td>\n",
       "      <td>DICTNCCAGTKGCNTTSANGAFICEGQSDPKKPKACPLNCDPHIAYA</td>\n",
       "      <td>4113</td>\n",
       "      <td>Solanum tuberosum (Potato)</td>\n",
       "    </tr>\n",
       "  </tbody>\n",
       "</table>\n",
       "</div>"
      ],
      "text/plain": [
       "  UniprotID                                           Sequence  OrganismID  \\\n",
       "0    P05119  MAVHKEVNFVAYLLIVLGMFLYVDAKACTRECGNLGFGICPRSEGS...        4081   \n",
       "1    P84813    DICTNCCAGTKGCNTTSANGAFICEGQSDPKKPKACPLNCDPHIAYA        4113   \n",
       "\n",
       "                                            Organism  \n",
       "0  Solanum lycopersicum (Tomato) (Lycopersicon es...  \n",
       "1                         Solanum tuberosum (Potato)  "
      ]
     },
     "execution_count": 32,
     "metadata": {},
     "output_type": "execute_result"
    }
   ],
   "source": [
    "old_seq.head(2)"
   ]
  },
  {
   "cell_type": "code",
   "execution_count": 33,
   "id": "4450fbf2",
   "metadata": {},
   "outputs": [
    {
     "data": {
      "text/plain": [
       "415"
      ]
     },
     "execution_count": 33,
     "metadata": {},
     "output_type": "execute_result"
    }
   ],
   "source": [
    "old_seq.Sequence.count()"
   ]
  },
  {
   "cell_type": "code",
   "execution_count": 44,
   "id": "46afb85b",
   "metadata": {},
   "outputs": [
    {
     "data": {
      "text/plain": [
       "414"
      ]
     },
     "execution_count": 44,
     "metadata": {},
     "output_type": "execute_result"
    }
   ],
   "source": [
    "old_seq.Sequence.isin(pin2_sequences.Sequence).sum()"
   ]
  },
  {
   "cell_type": "code",
   "execution_count": 46,
   "id": "3213f5b7",
   "metadata": {},
   "outputs": [
    {
     "data": {
      "text/html": [
       "<div>\n",
       "<style scoped>\n",
       "    .dataframe tbody tr th:only-of-type {\n",
       "        vertical-align: middle;\n",
       "    }\n",
       "\n",
       "    .dataframe tbody tr th {\n",
       "        vertical-align: top;\n",
       "    }\n",
       "\n",
       "    .dataframe thead th {\n",
       "        text-align: right;\n",
       "    }\n",
       "</style>\n",
       "<table border=\"1\" class=\"dataframe\">\n",
       "  <thead>\n",
       "    <tr style=\"text-align: right;\">\n",
       "      <th></th>\n",
       "      <th>UniprotID</th>\n",
       "      <th>Sequence</th>\n",
       "    </tr>\n",
       "  </thead>\n",
       "  <tbody>\n",
       "    <tr>\n",
       "      <th>378</th>\n",
       "      <td>A0A2I4FPH4</td>\n",
       "      <td>MAKYMSFGLTVLLLVYGAILLGSINPQIKIFMIMSVKACPLYCLDVEYMTCQSSGEKKLNPSCNCCLAPKNCTVHLVDGTSIYCKGN</td>\n",
       "    </tr>\n",
       "  </tbody>\n",
       "</table>\n",
       "</div>"
      ],
      "text/plain": [
       "      UniprotID  \\\n",
       "378  A0A2I4FPH4   \n",
       "\n",
       "                                                                                    Sequence  \n",
       "378  MAKYMSFGLTVLLLVYGAILLGSINPQIKIFMIMSVKACPLYCLDVEYMTCQSSGEKKLNPSCNCCLAPKNCTVHLVDGTSIYCKGN  "
      ]
     },
     "execution_count": 46,
     "metadata": {},
     "output_type": "execute_result"
    }
   ],
   "source": [
    "old_seq.loc[~old_seq.Sequence.isin(pin2_sequences.Sequence),['UniprotID','Sequence']]"
   ]
  },
  {
   "cell_type": "code",
   "execution_count": 47,
   "id": "8bd1efbc",
   "metadata": {},
   "outputs": [
    {
     "data": {
      "text/plain": [
       "452"
      ]
     },
     "execution_count": 47,
     "metadata": {},
     "output_type": "execute_result"
    }
   ],
   "source": [
    "pin2_sequences.Sequence.count()"
   ]
  },
  {
   "cell_type": "code",
   "execution_count": 76,
   "id": "63136c81",
   "metadata": {},
   "outputs": [
    {
     "data": {
      "text/plain": [
       "417"
      ]
     },
     "execution_count": 76,
     "metadata": {},
     "output_type": "execute_result"
    }
   ],
   "source": [
    "pin2_sequences.Sequence.isin(old_seq.Sequence).sum()"
   ]
  },
  {
   "cell_type": "code",
   "execution_count": 77,
   "id": "037f5f23",
   "metadata": {},
   "outputs": [
    {
     "data": {
      "text/plain": [
       "414"
      ]
     },
     "execution_count": 77,
     "metadata": {},
     "output_type": "execute_result"
    }
   ],
   "source": [
    "pin2_sequences.UniprotID.isin(old_seq.UniprotID).sum()"
   ]
  },
  {
   "cell_type": "code",
   "execution_count": 83,
   "id": "a2444c36",
   "metadata": {},
   "outputs": [],
   "source": [
    "uniID_417=pin2_sequences.loc[pin2_sequences.Sequence.isin(old_seq.Sequence),['UniprotID']]"
   ]
  },
  {
   "cell_type": "code",
   "execution_count": 84,
   "id": "8f47ec87",
   "metadata": {},
   "outputs": [],
   "source": [
    "uniID_414=pin2_sequences.loc[pin2_sequences.UniprotID.isin(old_seq.UniprotID),['UniprotID']]"
   ]
  },
  {
   "cell_type": "code",
   "execution_count": 85,
   "id": "65153816",
   "metadata": {},
   "outputs": [
    {
     "data": {
      "text/plain": [
       "UniprotID    417\n",
       "dtype: int64"
      ]
     },
     "execution_count": 85,
     "metadata": {},
     "output_type": "execute_result"
    }
   ],
   "source": [
    "uniID_417.count()"
   ]
  },
  {
   "cell_type": "code",
   "execution_count": 86,
   "id": "d7820dd2",
   "metadata": {},
   "outputs": [
    {
     "data": {
      "text/plain": [
       "UniprotID    414\n",
       "dtype: int64"
      ]
     },
     "execution_count": 86,
     "metadata": {},
     "output_type": "execute_result"
    }
   ],
   "source": [
    "uniID_414.count()"
   ]
  },
  {
   "cell_type": "code",
   "execution_count": 88,
   "id": "eb67945a",
   "metadata": {},
   "outputs": [
    {
     "data": {
      "text/plain": [
       "UniprotID    3\n",
       "dtype: int64"
      ]
     },
     "execution_count": 88,
     "metadata": {},
     "output_type": "execute_result"
    }
   ],
   "source": [
    "uniID_417.loc[~uniID_417.UniprotID.isin(uniID_414.UniprotID),].count()"
   ]
  },
  {
   "cell_type": "code",
   "execution_count": 92,
   "id": "acc7c775",
   "metadata": {},
   "outputs": [],
   "source": [
    "## These three UniprotID in new file have there sequences similar to some record in old file\n",
    "## But there Uniprot IDs doesn't match"
   ]
  },
  {
   "cell_type": "code",
   "execution_count": 89,
   "id": "f6feb688",
   "metadata": {},
   "outputs": [
    {
     "data": {
      "text/plain": [
       "66     A0A6P6UW59\n",
       "73     A0A6P6UNR4\n",
       "248    A0A6J5TTZ0\n",
       "Name: UniprotID, dtype: object"
      ]
     },
     "execution_count": 89,
     "metadata": {},
     "output_type": "execute_result"
    }
   ],
   "source": [
    "uniID_417.loc[~uniID_417.UniprotID.isin(uniID_414.UniprotID),]['UniprotID']"
   ]
  },
  {
   "cell_type": "code",
   "execution_count": 51,
   "id": "5f8da1a3",
   "metadata": {},
   "outputs": [
    {
     "data": {
      "text/plain": [
       "UniprotID    35\n",
       "Sequence     35\n",
       "dtype: int64"
      ]
     },
     "execution_count": 51,
     "metadata": {},
     "output_type": "execute_result"
    }
   ],
   "source": [
    "pin2_sequences.loc[~pin2_sequences.Sequence.isin(old_seq.Sequence),['UniprotID','Sequence']].count()"
   ]
  },
  {
   "cell_type": "code",
   "execution_count": 97,
   "id": "50d64e62",
   "metadata": {
    "scrolled": true
   },
   "outputs": [
    {
     "data": {
      "text/html": [
       "<div>\n",
       "<style scoped>\n",
       "    .dataframe tbody tr th:only-of-type {\n",
       "        vertical-align: middle;\n",
       "    }\n",
       "\n",
       "    .dataframe tbody tr th {\n",
       "        vertical-align: top;\n",
       "    }\n",
       "\n",
       "    .dataframe thead th {\n",
       "        text-align: right;\n",
       "    }\n",
       "</style>\n",
       "<table border=\"1\" class=\"dataframe\">\n",
       "  <thead>\n",
       "    <tr style=\"text-align: right;\">\n",
       "      <th></th>\n",
       "      <th>UniprotID</th>\n",
       "      <th>Sequence</th>\n",
       "      <th>OrganismID</th>\n",
       "      <th>Organism</th>\n",
       "    </tr>\n",
       "  </thead>\n",
       "  <tbody>\n",
       "    <tr>\n",
       "      <th>22</th>\n",
       "      <td>A0A6N2M3G1</td>\n",
       "      <td>MSSTTTNTSPTTNSTAINSNSKNGSNQDPGSYFIDVARQYSSPIGP...</td>\n",
       "      <td>40686</td>\n",
       "      <td>Salix viminalis (Common osier) (Basket willow)</td>\n",
       "    </tr>\n",
       "    <tr>\n",
       "      <th>23</th>\n",
       "      <td>A0A6N2LRF0</td>\n",
       "      <td>MSSTTTNTSPTTNSTAINSNSKNGSNQDPGSYFIDVARQYSSPIGP...</td>\n",
       "      <td>40686</td>\n",
       "      <td>Salix viminalis (Common osier) (Basket willow)</td>\n",
       "    </tr>\n",
       "  </tbody>\n",
       "</table>\n",
       "</div>"
      ],
      "text/plain": [
       "     UniprotID                                           Sequence  OrganismID  \\\n",
       "22  A0A6N2M3G1  MSSTTTNTSPTTNSTAINSNSKNGSNQDPGSYFIDVARQYSSPIGP...       40686   \n",
       "23  A0A6N2LRF0  MSSTTTNTSPTTNSTAINSNSKNGSNQDPGSYFIDVARQYSSPIGP...       40686   \n",
       "\n",
       "                                          Organism  \n",
       "22  Salix viminalis (Common osier) (Basket willow)  \n",
       "23  Salix viminalis (Common osier) (Basket willow)  "
      ]
     },
     "execution_count": 97,
     "metadata": {},
     "output_type": "execute_result"
    }
   ],
   "source": [
    "pin2_sequences.loc[~pin2_sequences.Sequence.isin(old_seq.Sequence),['UniprotID','Sequence','OrganismID','Organism']].head(2)"
   ]
  },
  {
   "cell_type": "code",
   "execution_count": 53,
   "id": "82f34a11",
   "metadata": {},
   "outputs": [],
   "source": [
    "# pin2_sequences.loc[~pin2_sequences.Sequence.isin(old_seq.Sequence),['UniprotID','Sequence','OrganismID','Organism']].to_csv('data/New_PIN_II_sequences.csv',index=False)## Creating New PIN II sequences file"
   ]
  },
  {
   "cell_type": "markdown",
   "id": "4e4f1742",
   "metadata": {},
   "source": [
    "#### To find which of the 698 Domains are present in 452 PIN2 sequences imported from Uniprot we ran the Python Program DomainFinder.py, which gave the output file PINIR_SequencesDomains.csv which has 1309 records. Here we Analyse that file."
   ]
  },
  {
   "cell_type": "code",
   "execution_count": 99,
   "id": "b4f0e026",
   "metadata": {},
   "outputs": [],
   "source": [
    "seq_dom=pd.read_csv('data/PINIR_SequencesDomains.csv',usecols=['UniprotID', 'Sequence', 'OrganismID', 'Organism',\n",
    "       'DomainID', 'Domain', 'DomainStartPosition', 'DomainEndPosition'])"
   ]
  },
  {
   "cell_type": "code",
   "execution_count": 100,
   "id": "675e9f8d",
   "metadata": {},
   "outputs": [
    {
     "data": {
      "text/plain": [
       "UniprotID              1309\n",
       "Sequence               1309\n",
       "OrganismID             1309\n",
       "Organism               1309\n",
       "DomainID               1309\n",
       "Domain                 1309\n",
       "DomainStartPosition    1309\n",
       "DomainEndPosition      1309\n",
       "dtype: int64"
      ]
     },
     "execution_count": 100,
     "metadata": {},
     "output_type": "execute_result"
    }
   ],
   "source": [
    "seq_dom.count()"
   ]
  },
  {
   "cell_type": "code",
   "execution_count": 102,
   "id": "01fc39c1",
   "metadata": {},
   "outputs": [],
   "source": [
    "# seq_dom.to_csv('data/15_Sequences_Domains.csv',index=False)"
   ]
  },
  {
   "cell_type": "code",
   "execution_count": 103,
   "id": "e4469656",
   "metadata": {},
   "outputs": [
    {
     "data": {
      "text/html": [
       "<div>\n",
       "<style scoped>\n",
       "    .dataframe tbody tr th:only-of-type {\n",
       "        vertical-align: middle;\n",
       "    }\n",
       "\n",
       "    .dataframe tbody tr th {\n",
       "        vertical-align: top;\n",
       "    }\n",
       "\n",
       "    .dataframe thead th {\n",
       "        text-align: right;\n",
       "    }\n",
       "</style>\n",
       "<table border=\"1\" class=\"dataframe\">\n",
       "  <thead>\n",
       "    <tr style=\"text-align: right;\">\n",
       "      <th></th>\n",
       "      <th>UniprotID</th>\n",
       "      <th>Sequence</th>\n",
       "      <th>OrganismID</th>\n",
       "      <th>Organism</th>\n",
       "      <th>DomainID</th>\n",
       "      <th>Domain</th>\n",
       "      <th>DomainStartPosition</th>\n",
       "      <th>DomainEndPosition</th>\n",
       "    </tr>\n",
       "  </thead>\n",
       "  <tbody>\n",
       "    <tr>\n",
       "      <th>0</th>\n",
       "      <td>P05119</td>\n",
       "      <td>MAVHKEVNFVAYLLIVLGMFLYVDAKACTRECGNLGFGICPRSEGS...</td>\n",
       "      <td>4081</td>\n",
       "      <td>Solanum lycopersicum (Tomato) (Lycopersicon es...</td>\n",
       "      <td>IRD-62</td>\n",
       "      <td>PICINCCSGYKGCNYYNSFGKFICEGESDPKRPNACTFNCDPNIAY...</td>\n",
       "      <td>49</td>\n",
       "      <td>100</td>\n",
       "    </tr>\n",
       "    <tr>\n",
       "      <th>1</th>\n",
       "      <td>P05119</td>\n",
       "      <td>MAVHKEVNFVAYLLIVLGMFLYVDAKACTRECGNLGFGICPRSEGS...</td>\n",
       "      <td>4081</td>\n",
       "      <td>Solanum lycopersicum (Tomato) (Lycopersicon es...</td>\n",
       "      <td>IRD-405</td>\n",
       "      <td>NACTFNCDPNIAYSRCPRSQGKSLIYPTGCTTCCTGYKGCYYFGKD...</td>\n",
       "      <td>82</td>\n",
       "      <td>134</td>\n",
       "    </tr>\n",
       "    <tr>\n",
       "      <th>2</th>\n",
       "      <td>P05119</td>\n",
       "      <td>MAVHKEVNFVAYLLIVLGMFLYVDAKACTRECGNLGFGICPRSEGS...</td>\n",
       "      <td>4081</td>\n",
       "      <td>Solanum lycopersicum (Tomato) (Lycopersicon es...</td>\n",
       "      <td>IRD-456</td>\n",
       "      <td>KACTRECGNLGFGICPRSEGSPLNPICINCCSGYKGCNYYNSFGKF...</td>\n",
       "      <td>25</td>\n",
       "      <td>74</td>\n",
       "    </tr>\n",
       "    <tr>\n",
       "      <th>3</th>\n",
       "      <td>P84813</td>\n",
       "      <td>DICTNCCAGTKGCNTTSANGAFICEGQSDPKKPKACPLNCDPHIAYA</td>\n",
       "      <td>4113</td>\n",
       "      <td>Solanum tuberosum (Potato)</td>\n",
       "      <td>IRD-54</td>\n",
       "      <td>DICTNCCAGTKGCNTTSANGAFICEGQSDPKKPKACPLNCDPHIAYA</td>\n",
       "      <td>0</td>\n",
       "      <td>46</td>\n",
       "    </tr>\n",
       "    <tr>\n",
       "      <th>4</th>\n",
       "      <td>P01080</td>\n",
       "      <td>MDVHKEVNFVAYLLIVLGLLVLVSAMDVDAKACIRECGNLGFGICP...</td>\n",
       "      <td>4113</td>\n",
       "      <td>Solanum tuberosum (Potato)</td>\n",
       "      <td>IRD-56</td>\n",
       "      <td>PICTNCCAGYKGCNYYSANGAFICEGQSDPKKPKACPLNCDPHIAY...</td>\n",
       "      <td>54</td>\n",
       "      <td>105</td>\n",
       "    </tr>\n",
       "  </tbody>\n",
       "</table>\n",
       "</div>"
      ],
      "text/plain": [
       "  UniprotID                                           Sequence  OrganismID  \\\n",
       "0    P05119  MAVHKEVNFVAYLLIVLGMFLYVDAKACTRECGNLGFGICPRSEGS...        4081   \n",
       "1    P05119  MAVHKEVNFVAYLLIVLGMFLYVDAKACTRECGNLGFGICPRSEGS...        4081   \n",
       "2    P05119  MAVHKEVNFVAYLLIVLGMFLYVDAKACTRECGNLGFGICPRSEGS...        4081   \n",
       "3    P84813    DICTNCCAGTKGCNTTSANGAFICEGQSDPKKPKACPLNCDPHIAYA        4113   \n",
       "4    P01080  MDVHKEVNFVAYLLIVLGLLVLVSAMDVDAKACIRECGNLGFGICP...        4113   \n",
       "\n",
       "                                            Organism DomainID  \\\n",
       "0  Solanum lycopersicum (Tomato) (Lycopersicon es...   IRD-62   \n",
       "1  Solanum lycopersicum (Tomato) (Lycopersicon es...  IRD-405   \n",
       "2  Solanum lycopersicum (Tomato) (Lycopersicon es...  IRD-456   \n",
       "3                         Solanum tuberosum (Potato)   IRD-54   \n",
       "4                         Solanum tuberosum (Potato)   IRD-56   \n",
       "\n",
       "                                              Domain  DomainStartPosition  \\\n",
       "0  PICINCCSGYKGCNYYNSFGKFICEGESDPKRPNACTFNCDPNIAY...                   49   \n",
       "1  NACTFNCDPNIAYSRCPRSQGKSLIYPTGCTTCCTGYKGCYYFGKD...                   82   \n",
       "2  KACTRECGNLGFGICPRSEGSPLNPICINCCSGYKGCNYYNSFGKF...                   25   \n",
       "3    DICTNCCAGTKGCNTTSANGAFICEGQSDPKKPKACPLNCDPHIAYA                    0   \n",
       "4  PICTNCCAGYKGCNYYSANGAFICEGQSDPKKPKACPLNCDPHIAY...                   54   \n",
       "\n",
       "   DomainEndPosition  \n",
       "0                100  \n",
       "1                134  \n",
       "2                 74  \n",
       "3                 46  \n",
       "4                105  "
      ]
     },
     "execution_count": 103,
     "metadata": {},
     "output_type": "execute_result"
    }
   ],
   "source": [
    "seq_dom.head()"
   ]
  },
  {
   "cell_type": "code",
   "execution_count": 6,
   "id": "fe2fc1e7",
   "metadata": {},
   "outputs": [],
   "source": [
    "seq_dom=pd.read_csv('data/15_Sequences_Domains.csv')"
   ]
  },
  {
   "cell_type": "code",
   "execution_count": 7,
   "id": "ede9ede6",
   "metadata": {},
   "outputs": [
    {
     "data": {
      "text/html": [
       "<div>\n",
       "<style scoped>\n",
       "    .dataframe tbody tr th:only-of-type {\n",
       "        vertical-align: middle;\n",
       "    }\n",
       "\n",
       "    .dataframe tbody tr th {\n",
       "        vertical-align: top;\n",
       "    }\n",
       "\n",
       "    .dataframe thead th {\n",
       "        text-align: right;\n",
       "    }\n",
       "</style>\n",
       "<table border=\"1\" class=\"dataframe\">\n",
       "  <thead>\n",
       "    <tr style=\"text-align: right;\">\n",
       "      <th></th>\n",
       "      <th>UniprotID</th>\n",
       "      <th>Sequence</th>\n",
       "      <th>OrganismID</th>\n",
       "      <th>Organism</th>\n",
       "      <th>DomainID</th>\n",
       "      <th>Domain</th>\n",
       "      <th>DomainStartPosition</th>\n",
       "      <th>DomainEndPosition</th>\n",
       "    </tr>\n",
       "  </thead>\n",
       "  <tbody>\n",
       "    <tr>\n",
       "      <th>0</th>\n",
       "      <td>P05119</td>\n",
       "      <td>MAVHKEVNFVAYLLIVLGMFLYVDAKACTRECGNLGFGICPRSEGS...</td>\n",
       "      <td>4081</td>\n",
       "      <td>Solanum lycopersicum (Tomato) (Lycopersicon es...</td>\n",
       "      <td>IRD-62</td>\n",
       "      <td>PICINCCSGYKGCNYYNSFGKFICEGESDPKRPNACTFNCDPNIAY...</td>\n",
       "      <td>49</td>\n",
       "      <td>100</td>\n",
       "    </tr>\n",
       "    <tr>\n",
       "      <th>1</th>\n",
       "      <td>P05119</td>\n",
       "      <td>MAVHKEVNFVAYLLIVLGMFLYVDAKACTRECGNLGFGICPRSEGS...</td>\n",
       "      <td>4081</td>\n",
       "      <td>Solanum lycopersicum (Tomato) (Lycopersicon es...</td>\n",
       "      <td>IRD-405</td>\n",
       "      <td>NACTFNCDPNIAYSRCPRSQGKSLIYPTGCTTCCTGYKGCYYFGKD...</td>\n",
       "      <td>82</td>\n",
       "      <td>134</td>\n",
       "    </tr>\n",
       "    <tr>\n",
       "      <th>2</th>\n",
       "      <td>P05119</td>\n",
       "      <td>MAVHKEVNFVAYLLIVLGMFLYVDAKACTRECGNLGFGICPRSEGS...</td>\n",
       "      <td>4081</td>\n",
       "      <td>Solanum lycopersicum (Tomato) (Lycopersicon es...</td>\n",
       "      <td>IRD-456</td>\n",
       "      <td>KACTRECGNLGFGICPRSEGSPLNPICINCCSGYKGCNYYNSFGKF...</td>\n",
       "      <td>25</td>\n",
       "      <td>74</td>\n",
       "    </tr>\n",
       "    <tr>\n",
       "      <th>3</th>\n",
       "      <td>P84813</td>\n",
       "      <td>DICTNCCAGTKGCNTTSANGAFICEGQSDPKKPKACPLNCDPHIAYA</td>\n",
       "      <td>4113</td>\n",
       "      <td>Solanum tuberosum (Potato)</td>\n",
       "      <td>IRD-54</td>\n",
       "      <td>DICTNCCAGTKGCNTTSANGAFICEGQSDPKKPKACPLNCDPHIAYA</td>\n",
       "      <td>0</td>\n",
       "      <td>46</td>\n",
       "    </tr>\n",
       "    <tr>\n",
       "      <th>4</th>\n",
       "      <td>P01080</td>\n",
       "      <td>MDVHKEVNFVAYLLIVLGLLVLVSAMDVDAKACIRECGNLGFGICP...</td>\n",
       "      <td>4113</td>\n",
       "      <td>Solanum tuberosum (Potato)</td>\n",
       "      <td>IRD-56</td>\n",
       "      <td>PICTNCCAGYKGCNYYSANGAFICEGQSDPKKPKACPLNCDPHIAY...</td>\n",
       "      <td>54</td>\n",
       "      <td>105</td>\n",
       "    </tr>\n",
       "  </tbody>\n",
       "</table>\n",
       "</div>"
      ],
      "text/plain": [
       "  UniprotID                                           Sequence  OrganismID  \\\n",
       "0    P05119  MAVHKEVNFVAYLLIVLGMFLYVDAKACTRECGNLGFGICPRSEGS...        4081   \n",
       "1    P05119  MAVHKEVNFVAYLLIVLGMFLYVDAKACTRECGNLGFGICPRSEGS...        4081   \n",
       "2    P05119  MAVHKEVNFVAYLLIVLGMFLYVDAKACTRECGNLGFGICPRSEGS...        4081   \n",
       "3    P84813    DICTNCCAGTKGCNTTSANGAFICEGQSDPKKPKACPLNCDPHIAYA        4113   \n",
       "4    P01080  MDVHKEVNFVAYLLIVLGLLVLVSAMDVDAKACIRECGNLGFGICP...        4113   \n",
       "\n",
       "                                            Organism DomainID  \\\n",
       "0  Solanum lycopersicum (Tomato) (Lycopersicon es...   IRD-62   \n",
       "1  Solanum lycopersicum (Tomato) (Lycopersicon es...  IRD-405   \n",
       "2  Solanum lycopersicum (Tomato) (Lycopersicon es...  IRD-456   \n",
       "3                         Solanum tuberosum (Potato)   IRD-54   \n",
       "4                         Solanum tuberosum (Potato)   IRD-56   \n",
       "\n",
       "                                              Domain  DomainStartPosition  \\\n",
       "0  PICINCCSGYKGCNYYNSFGKFICEGESDPKRPNACTFNCDPNIAY...                   49   \n",
       "1  NACTFNCDPNIAYSRCPRSQGKSLIYPTGCTTCCTGYKGCYYFGKD...                   82   \n",
       "2  KACTRECGNLGFGICPRSEGSPLNPICINCCSGYKGCNYYNSFGKF...                   25   \n",
       "3    DICTNCCAGTKGCNTTSANGAFICEGQSDPKKPKACPLNCDPHIAYA                    0   \n",
       "4  PICTNCCAGYKGCNYYSANGAFICEGQSDPKKPKACPLNCDPHIAY...                   54   \n",
       "\n",
       "   DomainEndPosition  \n",
       "0                100  \n",
       "1                134  \n",
       "2                 74  \n",
       "3                 46  \n",
       "4                105  "
      ]
     },
     "execution_count": 7,
     "metadata": {},
     "output_type": "execute_result"
    }
   ],
   "source": [
    "seq_dom.head()"
   ]
  },
  {
   "cell_type": "code",
   "execution_count": 8,
   "id": "ae1f0aa3",
   "metadata": {},
   "outputs": [
    {
     "data": {
      "text/plain": [
       "103"
      ]
     },
     "execution_count": 8,
     "metadata": {},
     "output_type": "execute_result"
    }
   ],
   "source": [
    "seq_dom.OrganismID.nunique()"
   ]
  },
  {
   "cell_type": "code",
   "execution_count": 11,
   "id": "a6af1d7b",
   "metadata": {},
   "outputs": [
    {
     "data": {
      "text/plain": [
       "690"
      ]
     },
     "execution_count": 11,
     "metadata": {},
     "output_type": "execute_result"
    }
   ],
   "source": [
    "seq_dom.DomainID.nunique()## Total number of unique domains found in PI sequences"
   ]
  },
  {
   "cell_type": "code",
   "execution_count": 12,
   "id": "39e568e9",
   "metadata": {},
   "outputs": [],
   "source": [
    "## Total No. of Domains:698\n",
    "## Domains found atleast once insequences: 690\n",
    "## Total No. of Domains not found even once: 698-690= 8\n",
    "## Following are these 8 Domains"
   ]
  },
  {
   "cell_type": "code",
   "execution_count": 13,
   "id": "2e199766",
   "metadata": {},
   "outputs": [],
   "source": [
    "domains=pd.read_csv('data/6_Domains.csv')"
   ]
  },
  {
   "cell_type": "code",
   "execution_count": 14,
   "id": "245b184f",
   "metadata": {},
   "outputs": [
    {
     "data": {
      "text/plain": [
       "domainID    698\n",
       "domain      698\n",
       "variant     698\n",
       "dtype: int64"
      ]
     },
     "execution_count": 14,
     "metadata": {},
     "output_type": "execute_result"
    }
   ],
   "source": [
    "domains.count()"
   ]
  },
  {
   "cell_type": "code",
   "execution_count": 16,
   "id": "885c6de1",
   "metadata": {},
   "outputs": [
    {
     "data": {
      "text/plain": [
       "690"
      ]
     },
     "execution_count": 16,
     "metadata": {},
     "output_type": "execute_result"
    }
   ],
   "source": [
    "domains.domainID.isin(seq_dom.DomainID.unique()).sum()"
   ]
  },
  {
   "cell_type": "code",
   "execution_count": 17,
   "id": "27890e81",
   "metadata": {},
   "outputs": [
    {
     "data": {
      "text/html": [
       "<div>\n",
       "<style scoped>\n",
       "    .dataframe tbody tr th:only-of-type {\n",
       "        vertical-align: middle;\n",
       "    }\n",
       "\n",
       "    .dataframe tbody tr th {\n",
       "        vertical-align: top;\n",
       "    }\n",
       "\n",
       "    .dataframe thead th {\n",
       "        text-align: right;\n",
       "    }\n",
       "</style>\n",
       "<table border=\"1\" class=\"dataframe\">\n",
       "  <thead>\n",
       "    <tr style=\"text-align: right;\">\n",
       "      <th></th>\n",
       "      <th>domainID</th>\n",
       "      <th>domain</th>\n",
       "      <th>variant</th>\n",
       "    </tr>\n",
       "  </thead>\n",
       "  <tbody>\n",
       "    <tr>\n",
       "      <th>234</th>\n",
       "      <td>IRD-235</td>\n",
       "      <td>PICTNCCAGFKGCNYYSAHGTFICEGQSDPRNPKACPRNCDPHIAY...</td>\n",
       "      <td>1</td>\n",
       "    </tr>\n",
       "    <tr>\n",
       "      <th>304</th>\n",
       "      <td>IRD-305</td>\n",
       "      <td>KACPLYCLDVEYMTCQSSGEKKLNPSCNCCLAPKNCTVHLVDGTSI...</td>\n",
       "      <td>2</td>\n",
       "    </tr>\n",
       "    <tr>\n",
       "      <th>325</th>\n",
       "      <td>IRD-326</td>\n",
       "      <td>KVCPQYCTQDAGYMTCPSSGNKQLNPPCNCCLAPKGCTVYHADGTA...</td>\n",
       "      <td>2</td>\n",
       "    </tr>\n",
       "    <tr>\n",
       "      <th>327</th>\n",
       "      <td>IRD-328</td>\n",
       "      <td>NACPQYCLDYAYMTCPSSGSQKLDPACNCCLAQGCTLYLADGTSTYCD</td>\n",
       "      <td>2</td>\n",
       "    </tr>\n",
       "    <tr>\n",
       "      <th>344</th>\n",
       "      <td>IRD-345</td>\n",
       "      <td>KMCLQVCDNEVAYMTCPSSGDEKISGVCVNCCTADEGCKLYRMAQNP</td>\n",
       "      <td>2</td>\n",
       "    </tr>\n",
       "    <tr>\n",
       "      <th>373</th>\n",
       "      <td>IRD-374</td>\n",
       "      <td>KPCPDICLDYAYMTCPSSGNQKLDPACNCCFAPGCTLYLPDGTSTYCN</td>\n",
       "      <td>2</td>\n",
       "    </tr>\n",
       "    <tr>\n",
       "      <th>422</th>\n",
       "      <td>IRD-423</td>\n",
       "      <td>KPCTKECGHLGFGICPRSQGSPQNPICTNCCAGFKGCNYYSAHGTF...</td>\n",
       "      <td>2</td>\n",
       "    </tr>\n",
       "    <tr>\n",
       "      <th>485</th>\n",
       "      <td>IRD-486</td>\n",
       "      <td>KACPRNCDPHIAYSKCPRSGGKTFIYPTGCTTCCTGYKGCYYFGKN...</td>\n",
       "      <td>2</td>\n",
       "    </tr>\n",
       "  </tbody>\n",
       "</table>\n",
       "</div>"
      ],
      "text/plain": [
       "    domainID                                             domain  variant\n",
       "234  IRD-235  PICTNCCAGFKGCNYYSAHGTFICEGQSDPRNPKACPRNCDPHIAY...        1\n",
       "304  IRD-305  KACPLYCLDVEYMTCQSSGEKKLNPSCNCCLAPKNCTVHLVDGTSI...        2\n",
       "325  IRD-326  KVCPQYCTQDAGYMTCPSSGNKQLNPPCNCCLAPKGCTVYHADGTA...        2\n",
       "327  IRD-328   NACPQYCLDYAYMTCPSSGSQKLDPACNCCLAQGCTLYLADGTSTYCD        2\n",
       "344  IRD-345    KMCLQVCDNEVAYMTCPSSGDEKISGVCVNCCTADEGCKLYRMAQNP        2\n",
       "373  IRD-374   KPCPDICLDYAYMTCPSSGNQKLDPACNCCFAPGCTLYLPDGTSTYCN        2\n",
       "422  IRD-423  KPCTKECGHLGFGICPRSQGSPQNPICTNCCAGFKGCNYYSAHGTF...        2\n",
       "485  IRD-486  KACPRNCDPHIAYSKCPRSGGKTFIYPTGCTTCCTGYKGCYYFGKN...        2"
      ]
     },
     "execution_count": 17,
     "metadata": {},
     "output_type": "execute_result"
    }
   ],
   "source": [
    "filt=domains.domainID.isin(seq_dom.DomainID.unique())\n",
    "domains.loc[~filt,:]"
   ]
  },
  {
   "cell_type": "code",
   "execution_count": 18,
   "id": "39e88b93",
   "metadata": {},
   "outputs": [],
   "source": [
    "## Saving these Domains in file 16_Domains_notFoundInSequences_8.csv"
   ]
  },
  {
   "cell_type": "code",
   "execution_count": 21,
   "id": "1dc50025",
   "metadata": {},
   "outputs": [],
   "source": [
    "## domains.loc[~filt,:].to_csv('data/16_Domains_notFoundInSequences_8.csv',index=False)"
   ]
  },
  {
   "cell_type": "code",
   "execution_count": 22,
   "id": "21716f55",
   "metadata": {},
   "outputs": [
    {
     "data": {
      "text/plain": [
       "387"
      ]
     },
     "execution_count": 22,
     "metadata": {},
     "output_type": "execute_result"
    }
   ],
   "source": [
    "seq_dom.UniprotID.nunique()## Total No. of Unique Uniprot Sequences in which domains found"
   ]
  },
  {
   "cell_type": "code",
   "execution_count": 23,
   "id": "acc99e2b",
   "metadata": {},
   "outputs": [],
   "source": [
    "## Total number of PI Sequences: 452\n",
    "## Sequences in which Domains found: 387\n",
    "## Total number of sequences in which NO Domains found: 452-387= 65\n",
    "## Following are these 65 PI Sequences"
   ]
  },
  {
   "cell_type": "code",
   "execution_count": 24,
   "id": "c45a7d82",
   "metadata": {},
   "outputs": [],
   "source": [
    "pin2_sequences=pd.read_csv('data/14_PIN_II_sequences.csv')"
   ]
  },
  {
   "cell_type": "code",
   "execution_count": 25,
   "id": "fe68b1fb",
   "metadata": {},
   "outputs": [
    {
     "data": {
      "text/plain": [
       "UniprotID     452\n",
       "Sequence      452\n",
       "OrganismID    452\n",
       "Organism      452\n",
       "dtype: int64"
      ]
     },
     "execution_count": 25,
     "metadata": {},
     "output_type": "execute_result"
    }
   ],
   "source": [
    "pin2_sequences.count()"
   ]
  },
  {
   "cell_type": "code",
   "execution_count": 28,
   "id": "437722da",
   "metadata": {},
   "outputs": [
    {
     "data": {
      "text/plain": [
       "UniprotID     65\n",
       "Sequence      65\n",
       "OrganismID    65\n",
       "Organism      65\n",
       "dtype: int64"
      ]
     },
     "execution_count": 28,
     "metadata": {},
     "output_type": "execute_result"
    }
   ],
   "source": [
    "filt=pin2_sequences.UniprotID.isin(seq_dom.UniprotID.unique())\n",
    "pin2_sequences.loc[~filt,:].count()"
   ]
  },
  {
   "cell_type": "code",
   "execution_count": 29,
   "id": "bfd8c173",
   "metadata": {},
   "outputs": [],
   "source": [
    "## Saving these PI Sequences in file 17_PIN_II_sequences_inWhichNoDomainsFound_65.csv"
   ]
  },
  {
   "cell_type": "code",
   "execution_count": 31,
   "id": "d98e83ff",
   "metadata": {},
   "outputs": [],
   "source": [
    "## pin2_sequences.loc[~filt,:].to_csv('data/17_PIN_II_sequences_inWhichNoDomainsFound_65.csv',index=False)"
   ]
  },
  {
   "cell_type": "code",
   "execution_count": 33,
   "id": "a8dd9c4f",
   "metadata": {},
   "outputs": [
    {
     "data": {
      "text/plain": [
       "UniprotID              1309\n",
       "Sequence               1309\n",
       "OrganismID             1309\n",
       "Organism               1309\n",
       "DomainID               1309\n",
       "Domain                 1309\n",
       "DomainStartPosition    1309\n",
       "DomainEndPosition      1309\n",
       "dtype: int64"
      ]
     },
     "execution_count": 33,
     "metadata": {},
     "output_type": "execute_result"
    }
   ],
   "source": [
    "seq_dom.count()"
   ]
  },
  {
   "cell_type": "markdown",
   "id": "780637a7",
   "metadata": {},
   "source": [
    "### Adding Organism and Domain Details to 15_Sequences_Domains.csv file"
   ]
  },
  {
   "cell_type": "code",
   "execution_count": 34,
   "id": "02e51acf",
   "metadata": {},
   "outputs": [],
   "source": [
    "seq_dom=pd.read_csv('data/15_Sequences_Domains.csv')"
   ]
  },
  {
   "cell_type": "code",
   "execution_count": 36,
   "id": "ff719e21",
   "metadata": {},
   "outputs": [
    {
     "data": {
      "text/html": [
       "<div>\n",
       "<style scoped>\n",
       "    .dataframe tbody tr th:only-of-type {\n",
       "        vertical-align: middle;\n",
       "    }\n",
       "\n",
       "    .dataframe tbody tr th {\n",
       "        vertical-align: top;\n",
       "    }\n",
       "\n",
       "    .dataframe thead th {\n",
       "        text-align: right;\n",
       "    }\n",
       "</style>\n",
       "<table border=\"1\" class=\"dataframe\">\n",
       "  <thead>\n",
       "    <tr style=\"text-align: right;\">\n",
       "      <th></th>\n",
       "      <th>UniprotID</th>\n",
       "      <th>Sequence</th>\n",
       "      <th>OrganismID</th>\n",
       "      <th>Organism</th>\n",
       "      <th>DomainID</th>\n",
       "      <th>Domain</th>\n",
       "      <th>DomainStartPosition</th>\n",
       "      <th>DomainEndPosition</th>\n",
       "    </tr>\n",
       "  </thead>\n",
       "  <tbody>\n",
       "    <tr>\n",
       "      <th>0</th>\n",
       "      <td>P05119</td>\n",
       "      <td>MAVHKEVNFVAYLLIVLGMFLYVDAKACTRECGNLGFGICPRSEGS...</td>\n",
       "      <td>4081</td>\n",
       "      <td>Solanum lycopersicum (Tomato) (Lycopersicon es...</td>\n",
       "      <td>IRD-62</td>\n",
       "      <td>PICINCCSGYKGCNYYNSFGKFICEGESDPKRPNACTFNCDPNIAY...</td>\n",
       "      <td>49</td>\n",
       "      <td>100</td>\n",
       "    </tr>\n",
       "    <tr>\n",
       "      <th>1</th>\n",
       "      <td>P05119</td>\n",
       "      <td>MAVHKEVNFVAYLLIVLGMFLYVDAKACTRECGNLGFGICPRSEGS...</td>\n",
       "      <td>4081</td>\n",
       "      <td>Solanum lycopersicum (Tomato) (Lycopersicon es...</td>\n",
       "      <td>IRD-405</td>\n",
       "      <td>NACTFNCDPNIAYSRCPRSQGKSLIYPTGCTTCCTGYKGCYYFGKD...</td>\n",
       "      <td>82</td>\n",
       "      <td>134</td>\n",
       "    </tr>\n",
       "  </tbody>\n",
       "</table>\n",
       "</div>"
      ],
      "text/plain": [
       "  UniprotID                                           Sequence  OrganismID  \\\n",
       "0    P05119  MAVHKEVNFVAYLLIVLGMFLYVDAKACTRECGNLGFGICPRSEGS...        4081   \n",
       "1    P05119  MAVHKEVNFVAYLLIVLGMFLYVDAKACTRECGNLGFGICPRSEGS...        4081   \n",
       "\n",
       "                                            Organism DomainID  \\\n",
       "0  Solanum lycopersicum (Tomato) (Lycopersicon es...   IRD-62   \n",
       "1  Solanum lycopersicum (Tomato) (Lycopersicon es...  IRD-405   \n",
       "\n",
       "                                              Domain  DomainStartPosition  \\\n",
       "0  PICINCCSGYKGCNYYNSFGKFICEGESDPKRPNACTFNCDPNIAY...                   49   \n",
       "1  NACTFNCDPNIAYSRCPRSQGKSLIYPTGCTTCCTGYKGCYYFGKD...                   82   \n",
       "\n",
       "   DomainEndPosition  \n",
       "0                100  \n",
       "1                134  "
      ]
     },
     "execution_count": 36,
     "metadata": {},
     "output_type": "execute_result"
    }
   ],
   "source": [
    "seq_dom.head(2)"
   ]
  },
  {
   "cell_type": "code",
   "execution_count": 37,
   "id": "9535cd2e",
   "metadata": {},
   "outputs": [],
   "source": [
    "## Adding Organisms Details from Organisms.csv"
   ]
  },
  {
   "cell_type": "code",
   "execution_count": 38,
   "id": "6d95fc11",
   "metadata": {},
   "outputs": [],
   "source": [
    "organisms=pd.read_csv('data/5_Organisms.csv',usecols=['OrganismID','Genus','Species','Solanaceae'])"
   ]
  },
  {
   "cell_type": "code",
   "execution_count": 40,
   "id": "e5c11ff2",
   "metadata": {},
   "outputs": [
    {
     "data": {
      "text/html": [
       "<div>\n",
       "<style scoped>\n",
       "    .dataframe tbody tr th:only-of-type {\n",
       "        vertical-align: middle;\n",
       "    }\n",
       "\n",
       "    .dataframe tbody tr th {\n",
       "        vertical-align: top;\n",
       "    }\n",
       "\n",
       "    .dataframe thead th {\n",
       "        text-align: right;\n",
       "    }\n",
       "</style>\n",
       "<table border=\"1\" class=\"dataframe\">\n",
       "  <thead>\n",
       "    <tr style=\"text-align: right;\">\n",
       "      <th></th>\n",
       "      <th>OrganismID</th>\n",
       "      <th>Genus</th>\n",
       "      <th>Species</th>\n",
       "      <th>Solanaceae</th>\n",
       "    </tr>\n",
       "  </thead>\n",
       "  <tbody>\n",
       "    <tr>\n",
       "      <th>0</th>\n",
       "      <td>3476</td>\n",
       "      <td>Parasponia</td>\n",
       "      <td>Parasponia andersonii</td>\n",
       "      <td>0</td>\n",
       "    </tr>\n",
       "    <tr>\n",
       "      <th>1</th>\n",
       "      <td>3562</td>\n",
       "      <td>Spinacia</td>\n",
       "      <td>Spinacia oleracea</td>\n",
       "      <td>0</td>\n",
       "    </tr>\n",
       "  </tbody>\n",
       "</table>\n",
       "</div>"
      ],
      "text/plain": [
       "   OrganismID       Genus                 Species  Solanaceae\n",
       "0        3476  Parasponia  Parasponia andersonii            0\n",
       "1        3562    Spinacia      Spinacia oleracea            0"
      ]
     },
     "execution_count": 40,
     "metadata": {},
     "output_type": "execute_result"
    }
   ],
   "source": [
    "organisms.head(2)"
   ]
  },
  {
   "cell_type": "code",
   "execution_count": 41,
   "id": "450a4565",
   "metadata": {},
   "outputs": [],
   "source": [
    "seq_dom_organism=pd.merge(seq_dom,organisms,on='OrganismID',how='left')"
   ]
  },
  {
   "cell_type": "code",
   "execution_count": 42,
   "id": "46d1ad64",
   "metadata": {},
   "outputs": [
    {
     "data": {
      "text/plain": [
       "Index(['UniprotID', 'Sequence', 'OrganismID', 'Organism', 'DomainID', 'Domain',\n",
       "       'DomainStartPosition', 'DomainEndPosition', 'Genus', 'Species',\n",
       "       'Solanaceae'],\n",
       "      dtype='object')"
      ]
     },
     "execution_count": 42,
     "metadata": {},
     "output_type": "execute_result"
    }
   ],
   "source": [
    "seq_dom_organism.columns"
   ]
  },
  {
   "cell_type": "code",
   "execution_count": 43,
   "id": "3bf3e188",
   "metadata": {},
   "outputs": [],
   "source": [
    "seq_dom_organism=seq_dom_organism[['UniprotID', 'Sequence', 'OrganismID', 'Organism', 'Genus', 'Species',\n",
    "       'Solanaceae', 'DomainID', 'Domain',\n",
    "       'DomainStartPosition', 'DomainEndPosition']]"
   ]
  },
  {
   "cell_type": "code",
   "execution_count": 45,
   "id": "f5e1d26d",
   "metadata": {},
   "outputs": [
    {
     "data": {
      "text/html": [
       "<div>\n",
       "<style scoped>\n",
       "    .dataframe tbody tr th:only-of-type {\n",
       "        vertical-align: middle;\n",
       "    }\n",
       "\n",
       "    .dataframe tbody tr th {\n",
       "        vertical-align: top;\n",
       "    }\n",
       "\n",
       "    .dataframe thead th {\n",
       "        text-align: right;\n",
       "    }\n",
       "</style>\n",
       "<table border=\"1\" class=\"dataframe\">\n",
       "  <thead>\n",
       "    <tr style=\"text-align: right;\">\n",
       "      <th></th>\n",
       "      <th>UniprotID</th>\n",
       "      <th>Sequence</th>\n",
       "      <th>OrganismID</th>\n",
       "      <th>Organism</th>\n",
       "      <th>Genus</th>\n",
       "      <th>Species</th>\n",
       "      <th>Solanaceae</th>\n",
       "      <th>DomainID</th>\n",
       "      <th>Domain</th>\n",
       "      <th>DomainStartPosition</th>\n",
       "      <th>DomainEndPosition</th>\n",
       "    </tr>\n",
       "  </thead>\n",
       "  <tbody>\n",
       "    <tr>\n",
       "      <th>0</th>\n",
       "      <td>P05119</td>\n",
       "      <td>MAVHKEVNFVAYLLIVLGMFLYVDAKACTRECGNLGFGICPRSEGS...</td>\n",
       "      <td>4081</td>\n",
       "      <td>Solanum lycopersicum (Tomato) (Lycopersicon es...</td>\n",
       "      <td>Solanum</td>\n",
       "      <td>Solanum lycopersicum</td>\n",
       "      <td>1</td>\n",
       "      <td>IRD-62</td>\n",
       "      <td>PICINCCSGYKGCNYYNSFGKFICEGESDPKRPNACTFNCDPNIAY...</td>\n",
       "      <td>49</td>\n",
       "      <td>100</td>\n",
       "    </tr>\n",
       "  </tbody>\n",
       "</table>\n",
       "</div>"
      ],
      "text/plain": [
       "  UniprotID                                           Sequence  OrganismID  \\\n",
       "0    P05119  MAVHKEVNFVAYLLIVLGMFLYVDAKACTRECGNLGFGICPRSEGS...        4081   \n",
       "\n",
       "                                            Organism    Genus  \\\n",
       "0  Solanum lycopersicum (Tomato) (Lycopersicon es...  Solanum   \n",
       "\n",
       "                 Species  Solanaceae DomainID  \\\n",
       "0  Solanum lycopersicum            1   IRD-62   \n",
       "\n",
       "                                              Domain  DomainStartPosition  \\\n",
       "0  PICINCCSGYKGCNYYNSFGKFICEGESDPKRPNACTFNCDPNIAY...                   49   \n",
       "\n",
       "   DomainEndPosition  \n",
       "0                100  "
      ]
     },
     "execution_count": 45,
     "metadata": {},
     "output_type": "execute_result"
    }
   ],
   "source": [
    "seq_dom_organism.head(1)"
   ]
  },
  {
   "cell_type": "code",
   "execution_count": 46,
   "id": "0e5b21c2",
   "metadata": {},
   "outputs": [
    {
     "data": {
      "text/plain": [
       "UniprotID              1309\n",
       "Sequence               1309\n",
       "OrganismID             1309\n",
       "Organism               1309\n",
       "Genus                  1309\n",
       "Species                1309\n",
       "Solanaceae             1309\n",
       "DomainID               1309\n",
       "Domain                 1309\n",
       "DomainStartPosition    1309\n",
       "DomainEndPosition      1309\n",
       "dtype: int64"
      ]
     },
     "execution_count": 46,
     "metadata": {},
     "output_type": "execute_result"
    }
   ],
   "source": [
    "seq_dom_organism.count()"
   ]
  },
  {
   "cell_type": "code",
   "execution_count": 47,
   "id": "c601d770",
   "metadata": {},
   "outputs": [],
   "source": [
    "## Creating new Sequence_Domains_Organism File with Organism Information included"
   ]
  },
  {
   "cell_type": "code",
   "execution_count": 49,
   "id": "866c88e4",
   "metadata": {},
   "outputs": [],
   "source": [
    "## seq_dom_organism.to_csv('data/18_Sequences_Domains_Organisms.csv',index=False)"
   ]
  },
  {
   "cell_type": "code",
   "execution_count": 50,
   "id": "bf490d76",
   "metadata": {},
   "outputs": [],
   "source": [
    "## Adding Domains Details from 11_Domain_RCL_Linker.csv"
   ]
  },
  {
   "cell_type": "code",
   "execution_count": 51,
   "id": "14e123b6",
   "metadata": {},
   "outputs": [],
   "source": [
    "seq_dom_organism=pd.read_csv('data/18_Sequences_Domains_Organisms.csv')"
   ]
  },
  {
   "cell_type": "code",
   "execution_count": 52,
   "id": "00a6a1f2",
   "metadata": {},
   "outputs": [
    {
     "data": {
      "text/html": [
       "<div>\n",
       "<style scoped>\n",
       "    .dataframe tbody tr th:only-of-type {\n",
       "        vertical-align: middle;\n",
       "    }\n",
       "\n",
       "    .dataframe tbody tr th {\n",
       "        vertical-align: top;\n",
       "    }\n",
       "\n",
       "    .dataframe thead th {\n",
       "        text-align: right;\n",
       "    }\n",
       "</style>\n",
       "<table border=\"1\" class=\"dataframe\">\n",
       "  <thead>\n",
       "    <tr style=\"text-align: right;\">\n",
       "      <th></th>\n",
       "      <th>UniprotID</th>\n",
       "      <th>Sequence</th>\n",
       "      <th>OrganismID</th>\n",
       "      <th>Organism</th>\n",
       "      <th>Genus</th>\n",
       "      <th>Species</th>\n",
       "      <th>Solanaceae</th>\n",
       "      <th>DomainID</th>\n",
       "      <th>Domain</th>\n",
       "      <th>DomainStartPosition</th>\n",
       "      <th>DomainEndPosition</th>\n",
       "    </tr>\n",
       "  </thead>\n",
       "  <tbody>\n",
       "    <tr>\n",
       "      <th>0</th>\n",
       "      <td>P05119</td>\n",
       "      <td>MAVHKEVNFVAYLLIVLGMFLYVDAKACTRECGNLGFGICPRSEGS...</td>\n",
       "      <td>4081</td>\n",
       "      <td>Solanum lycopersicum (Tomato) (Lycopersicon es...</td>\n",
       "      <td>Solanum</td>\n",
       "      <td>Solanum lycopersicum</td>\n",
       "      <td>1</td>\n",
       "      <td>IRD-62</td>\n",
       "      <td>PICINCCSGYKGCNYYNSFGKFICEGESDPKRPNACTFNCDPNIAY...</td>\n",
       "      <td>49</td>\n",
       "      <td>100</td>\n",
       "    </tr>\n",
       "  </tbody>\n",
       "</table>\n",
       "</div>"
      ],
      "text/plain": [
       "  UniprotID                                           Sequence  OrganismID  \\\n",
       "0    P05119  MAVHKEVNFVAYLLIVLGMFLYVDAKACTRECGNLGFGICPRSEGS...        4081   \n",
       "\n",
       "                                            Organism    Genus  \\\n",
       "0  Solanum lycopersicum (Tomato) (Lycopersicon es...  Solanum   \n",
       "\n",
       "                 Species  Solanaceae DomainID  \\\n",
       "0  Solanum lycopersicum            1   IRD-62   \n",
       "\n",
       "                                              Domain  DomainStartPosition  \\\n",
       "0  PICINCCSGYKGCNYYNSFGKFICEGESDPKRPNACTFNCDPNIAY...                   49   \n",
       "\n",
       "   DomainEndPosition  \n",
       "0                100  "
      ]
     },
     "execution_count": 52,
     "metadata": {},
     "output_type": "execute_result"
    }
   ],
   "source": [
    "seq_dom_organism.head(1)"
   ]
  },
  {
   "cell_type": "code",
   "execution_count": 53,
   "id": "6627f5a2",
   "metadata": {},
   "outputs": [],
   "source": [
    "dom_rcl_linker=pd.read_csv('data/11_Domain_RCL_Linker.csv',usecols=['domainID','DomainType', 'RclID', 'RCL', 'P2Residue',\n",
    "       'P1Residue', 'P1primeResidue', 'targetProtease', 'tpID',\n",
    "       'RCL_startPosition', 'RCL_endPosition', 'linkerID', 'Linker',\n",
    "       'LinkerType', 'Linker_startPosition', 'Linker_endPosition'])"
   ]
  },
  {
   "cell_type": "code",
   "execution_count": 54,
   "id": "c0bb4d73",
   "metadata": {},
   "outputs": [
    {
     "data": {
      "text/plain": [
       "Index(['domainID', 'DomainType', 'RclID', 'RCL', 'P2Residue', 'P1Residue',\n",
       "       'P1primeResidue', 'targetProtease', 'tpID', 'RCL_startPosition',\n",
       "       'RCL_endPosition', 'linkerID', 'Linker', 'LinkerType',\n",
       "       'Linker_startPosition', 'Linker_endPosition'],\n",
       "      dtype='object')"
      ]
     },
     "execution_count": 54,
     "metadata": {},
     "output_type": "execute_result"
    }
   ],
   "source": [
    "dom_rcl_linker.columns"
   ]
  },
  {
   "cell_type": "code",
   "execution_count": 55,
   "id": "fd3056be",
   "metadata": {},
   "outputs": [],
   "source": [
    "dom_rcl_linker.rename(columns={'domainID':'DomainID'},inplace=True)"
   ]
  },
  {
   "cell_type": "code",
   "execution_count": 56,
   "id": "6a1b8edf",
   "metadata": {},
   "outputs": [
    {
     "data": {
      "text/html": [
       "<div>\n",
       "<style scoped>\n",
       "    .dataframe tbody tr th:only-of-type {\n",
       "        vertical-align: middle;\n",
       "    }\n",
       "\n",
       "    .dataframe tbody tr th {\n",
       "        vertical-align: top;\n",
       "    }\n",
       "\n",
       "    .dataframe thead th {\n",
       "        text-align: right;\n",
       "    }\n",
       "</style>\n",
       "<table border=\"1\" class=\"dataframe\">\n",
       "  <thead>\n",
       "    <tr style=\"text-align: right;\">\n",
       "      <th></th>\n",
       "      <th>DomainID</th>\n",
       "      <th>DomainType</th>\n",
       "      <th>RclID</th>\n",
       "      <th>RCL</th>\n",
       "      <th>P2Residue</th>\n",
       "      <th>P1Residue</th>\n",
       "      <th>P1primeResidue</th>\n",
       "      <th>targetProtease</th>\n",
       "      <th>tpID</th>\n",
       "      <th>RCL_startPosition</th>\n",
       "      <th>RCL_endPosition</th>\n",
       "      <th>linkerID</th>\n",
       "      <th>Linker</th>\n",
       "      <th>LinkerType</th>\n",
       "      <th>Linker_startPosition</th>\n",
       "      <th>Linker_endPosition</th>\n",
       "    </tr>\n",
       "  </thead>\n",
       "  <tbody>\n",
       "    <tr>\n",
       "      <th>0</th>\n",
       "      <td>IRD-1</td>\n",
       "      <td>3.0</td>\n",
       "      <td>RL-1</td>\n",
       "      <td>CPRNC</td>\n",
       "      <td>P</td>\n",
       "      <td>R</td>\n",
       "      <td>N</td>\n",
       "      <td>Trypsin</td>\n",
       "      <td>TP-1</td>\n",
       "      <td>41</td>\n",
       "      <td>45</td>\n",
       "      <td>NaN</td>\n",
       "      <td>NaN</td>\n",
       "      <td>NaN</td>\n",
       "      <td>NaN</td>\n",
       "      <td>NaN</td>\n",
       "    </tr>\n",
       "    <tr>\n",
       "      <th>1</th>\n",
       "      <td>IRD-2</td>\n",
       "      <td>3.0</td>\n",
       "      <td>RL-1</td>\n",
       "      <td>CPRNC</td>\n",
       "      <td>P</td>\n",
       "      <td>R</td>\n",
       "      <td>N</td>\n",
       "      <td>Trypsin</td>\n",
       "      <td>TP-1</td>\n",
       "      <td>40</td>\n",
       "      <td>44</td>\n",
       "      <td>NaN</td>\n",
       "      <td>NaN</td>\n",
       "      <td>NaN</td>\n",
       "      <td>NaN</td>\n",
       "      <td>NaN</td>\n",
       "    </tr>\n",
       "  </tbody>\n",
       "</table>\n",
       "</div>"
      ],
      "text/plain": [
       "  DomainID  DomainType RclID    RCL P2Residue P1Residue P1primeResidue  \\\n",
       "0    IRD-1         3.0  RL-1  CPRNC         P         R              N   \n",
       "1    IRD-2         3.0  RL-1  CPRNC         P         R              N   \n",
       "\n",
       "  targetProtease  tpID  RCL_startPosition  RCL_endPosition linkerID Linker  \\\n",
       "0        Trypsin  TP-1                 41               45      NaN    NaN   \n",
       "1        Trypsin  TP-1                 40               44      NaN    NaN   \n",
       "\n",
       "   LinkerType  Linker_startPosition  Linker_endPosition  \n",
       "0         NaN                   NaN                 NaN  \n",
       "1         NaN                   NaN                 NaN  "
      ]
     },
     "execution_count": 56,
     "metadata": {},
     "output_type": "execute_result"
    }
   ],
   "source": [
    "dom_rcl_linker.head(2)"
   ]
  },
  {
   "cell_type": "code",
   "execution_count": 57,
   "id": "49caa00d",
   "metadata": {},
   "outputs": [],
   "source": [
    "seq_dom_rcl_linker_organism=pd.merge(seq_dom_organism,dom_rcl_linker,on='DomainID',how='left')"
   ]
  },
  {
   "cell_type": "code",
   "execution_count": 58,
   "id": "61c70e27",
   "metadata": {},
   "outputs": [
    {
     "data": {
      "text/html": [
       "<div>\n",
       "<style scoped>\n",
       "    .dataframe tbody tr th:only-of-type {\n",
       "        vertical-align: middle;\n",
       "    }\n",
       "\n",
       "    .dataframe tbody tr th {\n",
       "        vertical-align: top;\n",
       "    }\n",
       "\n",
       "    .dataframe thead th {\n",
       "        text-align: right;\n",
       "    }\n",
       "</style>\n",
       "<table border=\"1\" class=\"dataframe\">\n",
       "  <thead>\n",
       "    <tr style=\"text-align: right;\">\n",
       "      <th></th>\n",
       "      <th>UniprotID</th>\n",
       "      <th>Sequence</th>\n",
       "      <th>OrganismID</th>\n",
       "      <th>Organism</th>\n",
       "      <th>Genus</th>\n",
       "      <th>Species</th>\n",
       "      <th>Solanaceae</th>\n",
       "      <th>DomainID</th>\n",
       "      <th>Domain</th>\n",
       "      <th>DomainStartPosition</th>\n",
       "      <th>...</th>\n",
       "      <th>P1primeResidue</th>\n",
       "      <th>targetProtease</th>\n",
       "      <th>tpID</th>\n",
       "      <th>RCL_startPosition</th>\n",
       "      <th>RCL_endPosition</th>\n",
       "      <th>linkerID</th>\n",
       "      <th>Linker</th>\n",
       "      <th>LinkerType</th>\n",
       "      <th>Linker_startPosition</th>\n",
       "      <th>Linker_endPosition</th>\n",
       "    </tr>\n",
       "  </thead>\n",
       "  <tbody>\n",
       "    <tr>\n",
       "      <th>0</th>\n",
       "      <td>P05119</td>\n",
       "      <td>MAVHKEVNFVAYLLIVLGMFLYVDAKACTRECGNLGFGICPRSEGS...</td>\n",
       "      <td>4081</td>\n",
       "      <td>Solanum lycopersicum (Tomato) (Lycopersicon es...</td>\n",
       "      <td>Solanum</td>\n",
       "      <td>Solanum lycopersicum</td>\n",
       "      <td>1</td>\n",
       "      <td>IRD-62</td>\n",
       "      <td>PICINCCSGYKGCNYYNSFGKFICEGESDPKRPNACTFNCDPNIAY...</td>\n",
       "      <td>49</td>\n",
       "      <td>...</td>\n",
       "      <td>N</td>\n",
       "      <td>Chymotrypsin</td>\n",
       "      <td>TP-2</td>\n",
       "      <td>35.0</td>\n",
       "      <td>39.0</td>\n",
       "      <td>L-21</td>\n",
       "      <td>DPKRP</td>\n",
       "      <td>1.0</td>\n",
       "      <td>28.0</td>\n",
       "      <td>32.0</td>\n",
       "    </tr>\n",
       "    <tr>\n",
       "      <th>1</th>\n",
       "      <td>P05119</td>\n",
       "      <td>MAVHKEVNFVAYLLIVLGMFLYVDAKACTRECGNLGFGICPRSEGS...</td>\n",
       "      <td>4081</td>\n",
       "      <td>Solanum lycopersicum (Tomato) (Lycopersicon es...</td>\n",
       "      <td>Solanum</td>\n",
       "      <td>Solanum lycopersicum</td>\n",
       "      <td>1</td>\n",
       "      <td>IRD-405</td>\n",
       "      <td>NACTFNCDPNIAYSRCPRSQGKSLIYPTGCTTCCTGYKGCYYFGKD...</td>\n",
       "      <td>82</td>\n",
       "      <td>...</td>\n",
       "      <td>N</td>\n",
       "      <td>Chymotrypsin</td>\n",
       "      <td>TP-2</td>\n",
       "      <td>2.0</td>\n",
       "      <td>6.0</td>\n",
       "      <td>NaN</td>\n",
       "      <td>NaN</td>\n",
       "      <td>NaN</td>\n",
       "      <td>NaN</td>\n",
       "      <td>NaN</td>\n",
       "    </tr>\n",
       "  </tbody>\n",
       "</table>\n",
       "<p>2 rows × 26 columns</p>\n",
       "</div>"
      ],
      "text/plain": [
       "  UniprotID                                           Sequence  OrganismID  \\\n",
       "0    P05119  MAVHKEVNFVAYLLIVLGMFLYVDAKACTRECGNLGFGICPRSEGS...        4081   \n",
       "1    P05119  MAVHKEVNFVAYLLIVLGMFLYVDAKACTRECGNLGFGICPRSEGS...        4081   \n",
       "\n",
       "                                            Organism    Genus  \\\n",
       "0  Solanum lycopersicum (Tomato) (Lycopersicon es...  Solanum   \n",
       "1  Solanum lycopersicum (Tomato) (Lycopersicon es...  Solanum   \n",
       "\n",
       "                 Species  Solanaceae DomainID  \\\n",
       "0  Solanum lycopersicum            1   IRD-62   \n",
       "1  Solanum lycopersicum            1  IRD-405   \n",
       "\n",
       "                                              Domain  DomainStartPosition  \\\n",
       "0  PICINCCSGYKGCNYYNSFGKFICEGESDPKRPNACTFNCDPNIAY...                   49   \n",
       "1  NACTFNCDPNIAYSRCPRSQGKSLIYPTGCTTCCTGYKGCYYFGKD...                   82   \n",
       "\n",
       "   ...  P1primeResidue  targetProtease  tpID RCL_startPosition  \\\n",
       "0  ...               N    Chymotrypsin  TP-2              35.0   \n",
       "1  ...               N    Chymotrypsin  TP-2               2.0   \n",
       "\n",
       "  RCL_endPosition linkerID Linker LinkerType Linker_startPosition  \\\n",
       "0            39.0     L-21  DPKRP        1.0                 28.0   \n",
       "1             6.0      NaN    NaN        NaN                  NaN   \n",
       "\n",
       "   Linker_endPosition  \n",
       "0                32.0  \n",
       "1                 NaN  \n",
       "\n",
       "[2 rows x 26 columns]"
      ]
     },
     "execution_count": 58,
     "metadata": {},
     "output_type": "execute_result"
    }
   ],
   "source": [
    "seq_dom_rcl_linker_organism.head(2)"
   ]
  },
  {
   "cell_type": "code",
   "execution_count": 59,
   "id": "8a5348ab",
   "metadata": {},
   "outputs": [
    {
     "data": {
      "text/plain": [
       "1309"
      ]
     },
     "execution_count": 59,
     "metadata": {},
     "output_type": "execute_result"
    }
   ],
   "source": [
    "seq_dom_rcl_linker_organism.UniprotID.count()"
   ]
  },
  {
   "cell_type": "code",
   "execution_count": 60,
   "id": "a834e49d",
   "metadata": {},
   "outputs": [
    {
     "data": {
      "text/plain": [
       "Index(['UniprotID', 'Sequence', 'OrganismID', 'Organism', 'Genus', 'Species',\n",
       "       'Solanaceae', 'DomainID', 'Domain', 'DomainStartPosition',\n",
       "       'DomainEndPosition', 'DomainType', 'RclID', 'RCL', 'P2Residue',\n",
       "       'P1Residue', 'P1primeResidue', 'targetProtease', 'tpID',\n",
       "       'RCL_startPosition', 'RCL_endPosition', 'linkerID', 'Linker',\n",
       "       'LinkerType', 'Linker_startPosition', 'Linker_endPosition'],\n",
       "      dtype='object')"
      ]
     },
     "execution_count": 60,
     "metadata": {},
     "output_type": "execute_result"
    }
   ],
   "source": [
    "seq_dom_rcl_linker_organism.columns"
   ]
  },
  {
   "cell_type": "code",
   "execution_count": 61,
   "id": "4756f794",
   "metadata": {},
   "outputs": [],
   "source": [
    "## Creating new Sequence_Domains_RCL_Linker_Organism File with Organism,Doamin,RCL,LinkervInformation included"
   ]
  },
  {
   "cell_type": "code",
   "execution_count": 63,
   "id": "7453e361",
   "metadata": {},
   "outputs": [],
   "source": [
    "## seq_dom_rcl_linker_organism.to_csv('data/19_Sequences_Domains_RCL_Linker_Organisms.csv',index=False)"
   ]
  },
  {
   "cell_type": "code",
   "execution_count": 64,
   "id": "f664f9d9",
   "metadata": {},
   "outputs": [
    {
     "data": {
      "text/plain": [
       "3"
      ]
     },
     "execution_count": 64,
     "metadata": {},
     "output_type": "execute_result"
    }
   ],
   "source": [
    "seq_dom_rcl_linker_organism.RclID.isna().sum()"
   ]
  },
  {
   "cell_type": "code",
   "execution_count": 65,
   "id": "5c6d6d7d",
   "metadata": {},
   "outputs": [
    {
     "data": {
      "text/html": [
       "<div>\n",
       "<style scoped>\n",
       "    .dataframe tbody tr th:only-of-type {\n",
       "        vertical-align: middle;\n",
       "    }\n",
       "\n",
       "    .dataframe tbody tr th {\n",
       "        vertical-align: top;\n",
       "    }\n",
       "\n",
       "    .dataframe thead th {\n",
       "        text-align: right;\n",
       "    }\n",
       "</style>\n",
       "<table border=\"1\" class=\"dataframe\">\n",
       "  <thead>\n",
       "    <tr style=\"text-align: right;\">\n",
       "      <th></th>\n",
       "      <th>UniprotID</th>\n",
       "      <th>Sequence</th>\n",
       "      <th>OrganismID</th>\n",
       "      <th>Organism</th>\n",
       "      <th>Genus</th>\n",
       "      <th>Species</th>\n",
       "      <th>Solanaceae</th>\n",
       "      <th>DomainID</th>\n",
       "      <th>Domain</th>\n",
       "      <th>DomainStartPosition</th>\n",
       "      <th>...</th>\n",
       "      <th>P1primeResidue</th>\n",
       "      <th>targetProtease</th>\n",
       "      <th>tpID</th>\n",
       "      <th>RCL_startPosition</th>\n",
       "      <th>RCL_endPosition</th>\n",
       "      <th>linkerID</th>\n",
       "      <th>Linker</th>\n",
       "      <th>LinkerType</th>\n",
       "      <th>Linker_startPosition</th>\n",
       "      <th>Linker_endPosition</th>\n",
       "    </tr>\n",
       "  </thead>\n",
       "  <tbody>\n",
       "    <tr>\n",
       "      <th>50</th>\n",
       "      <td>A0A3Q7IU74</td>\n",
       "      <td>MVGFSWITSPAATELEMIALDWLGKALKLPDRFISTGEENTFPYST...</td>\n",
       "      <td>4081</td>\n",
       "      <td>Solanum lycopersicum (Tomato) (Lycopersicon es...</td>\n",
       "      <td>Solanum</td>\n",
       "      <td>Solanum lycopersicum</td>\n",
       "      <td>1</td>\n",
       "      <td>IRD-71</td>\n",
       "      <td>GICTNCCAGKKRCNYFSADGTFICEGESKFVSEADNNHGKPCPRIA...</td>\n",
       "      <td>173</td>\n",
       "      <td>...</td>\n",
       "      <td>NaN</td>\n",
       "      <td>NaN</td>\n",
       "      <td>NaN</td>\n",
       "      <td>NaN</td>\n",
       "      <td>NaN</td>\n",
       "      <td>NaN</td>\n",
       "      <td>NaN</td>\n",
       "      <td>NaN</td>\n",
       "      <td>NaN</td>\n",
       "      <td>NaN</td>\n",
       "    </tr>\n",
       "    <tr>\n",
       "      <th>988</th>\n",
       "      <td>A0A097J9C0</td>\n",
       "      <td>PKEVSFLAFLLVLEILLLHVDAKACSEENAENHICTNCCAGRKGCN...</td>\n",
       "      <td>4072</td>\n",
       "      <td>Capsicum annuum (Capsicum pepper)</td>\n",
       "      <td>Capsicum</td>\n",
       "      <td>Capsicum annuum</td>\n",
       "      <td>1</td>\n",
       "      <td>IRD-148</td>\n",
       "      <td>RLCTNCCAGRKGCNYYSADGTFICEGESDPNNPKACPRNRDPNIAY...</td>\n",
       "      <td>148</td>\n",
       "      <td>...</td>\n",
       "      <td>NaN</td>\n",
       "      <td>NaN</td>\n",
       "      <td>NaN</td>\n",
       "      <td>NaN</td>\n",
       "      <td>NaN</td>\n",
       "      <td>NaN</td>\n",
       "      <td>NaN</td>\n",
       "      <td>NaN</td>\n",
       "      <td>NaN</td>\n",
       "      <td>NaN</td>\n",
       "    </tr>\n",
       "    <tr>\n",
       "      <th>1221</th>\n",
       "      <td>A0A2P5EHN1</td>\n",
       "      <td>MAATNKLSVILPLLVIAATLVALQPENVAGKVCPQLCLGAEYMTCG...</td>\n",
       "      <td>63057</td>\n",
       "      <td>Trema orientale (Charcoal tree) (Celtis orient...</td>\n",
       "      <td>Trema</td>\n",
       "      <td>Trema orientale</td>\n",
       "      <td>0</td>\n",
       "      <td>IRD-688</td>\n",
       "      <td>KVCPQLCLGAEYMTCGSSDERLNPSCNCCLAPQGCTLYFSDGTSQYCA</td>\n",
       "      <td>30</td>\n",
       "      <td>...</td>\n",
       "      <td>NaN</td>\n",
       "      <td>NaN</td>\n",
       "      <td>NaN</td>\n",
       "      <td>NaN</td>\n",
       "      <td>NaN</td>\n",
       "      <td>NaN</td>\n",
       "      <td>NaN</td>\n",
       "      <td>NaN</td>\n",
       "      <td>NaN</td>\n",
       "      <td>NaN</td>\n",
       "    </tr>\n",
       "  </tbody>\n",
       "</table>\n",
       "<p>3 rows × 26 columns</p>\n",
       "</div>"
      ],
      "text/plain": [
       "       UniprotID                                           Sequence  \\\n",
       "50    A0A3Q7IU74  MVGFSWITSPAATELEMIALDWLGKALKLPDRFISTGEENTFPYST...   \n",
       "988   A0A097J9C0  PKEVSFLAFLLVLEILLLHVDAKACSEENAENHICTNCCAGRKGCN...   \n",
       "1221  A0A2P5EHN1  MAATNKLSVILPLLVIAATLVALQPENVAGKVCPQLCLGAEYMTCG...   \n",
       "\n",
       "      OrganismID                                           Organism     Genus  \\\n",
       "50          4081  Solanum lycopersicum (Tomato) (Lycopersicon es...   Solanum   \n",
       "988         4072                  Capsicum annuum (Capsicum pepper)  Capsicum   \n",
       "1221       63057  Trema orientale (Charcoal tree) (Celtis orient...     Trema   \n",
       "\n",
       "                    Species  Solanaceae DomainID  \\\n",
       "50    Solanum lycopersicum            1   IRD-71   \n",
       "988        Capsicum annuum            1  IRD-148   \n",
       "1221       Trema orientale            0  IRD-688   \n",
       "\n",
       "                                                 Domain  DomainStartPosition  \\\n",
       "50    GICTNCCAGKKRCNYFSADGTFICEGESKFVSEADNNHGKPCPRIA...                  173   \n",
       "988   RLCTNCCAGRKGCNYYSADGTFICEGESDPNNPKACPRNRDPNIAY...                  148   \n",
       "1221   KVCPQLCLGAEYMTCGSSDERLNPSCNCCLAPQGCTLYFSDGTSQYCA                   30   \n",
       "\n",
       "      ...  P1primeResidue  targetProtease tpID RCL_startPosition  \\\n",
       "50    ...             NaN             NaN  NaN               NaN   \n",
       "988   ...             NaN             NaN  NaN               NaN   \n",
       "1221  ...             NaN             NaN  NaN               NaN   \n",
       "\n",
       "     RCL_endPosition linkerID Linker LinkerType Linker_startPosition  \\\n",
       "50               NaN      NaN    NaN        NaN                  NaN   \n",
       "988              NaN      NaN    NaN        NaN                  NaN   \n",
       "1221             NaN      NaN    NaN        NaN                  NaN   \n",
       "\n",
       "      Linker_endPosition  \n",
       "50                   NaN  \n",
       "988                  NaN  \n",
       "1221                 NaN  \n",
       "\n",
       "[3 rows x 26 columns]"
      ]
     },
     "execution_count": 65,
     "metadata": {},
     "output_type": "execute_result"
    }
   ],
   "source": [
    "seq_dom_rcl_linker_organism.loc[seq_dom_rcl_linker_organism.RclID.isna(),:]"
   ]
  },
  {
   "cell_type": "code",
   "execution_count": null,
   "id": "c1ffbee3",
   "metadata": {},
   "outputs": [],
   "source": []
  }
 ],
 "metadata": {
  "kernelspec": {
   "display_name": "Python 3",
   "language": "python",
   "name": "python3"
  },
  "language_info": {
   "codemirror_mode": {
    "name": "ipython",
    "version": 3
   },
   "file_extension": ".py",
   "mimetype": "text/x-python",
   "name": "python",
   "nbconvert_exporter": "python",
   "pygments_lexer": "ipython3",
   "version": "3.9.4"
  }
 },
 "nbformat": 4,
 "nbformat_minor": 5
}
