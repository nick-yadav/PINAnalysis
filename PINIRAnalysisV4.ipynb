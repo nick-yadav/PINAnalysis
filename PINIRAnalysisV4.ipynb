{
 "cells": [
  {
   "cell_type": "markdown",
   "metadata": {},
   "source": [
    "# This file uses the dom_rcl_linker.csv which has been prepared in the file CommentMS.ipynb file using the program IdentifyDomainType.py. Also the Organism info (seq_details_with_organism_info.csv) has been prepared in file NidhiQueryAnalysis.ipynb\n"
   ]
  },
  {
   "cell_type": "code",
   "execution_count": 1,
   "metadata": {},
   "outputs": [],
   "source": [
    "import pandas as pd\n",
    "import numpy as np"
   ]
  },
  {
   "cell_type": "code",
   "execution_count": 2,
   "metadata": {},
   "outputs": [],
   "source": [
    "import matplotlib.pyplot as plt\n",
    "import seaborn as sns"
   ]
  },
  {
   "cell_type": "code",
   "execution_count": 3,
   "metadata": {},
   "outputs": [],
   "source": [
    "%matplotlib inline\n",
    "sns.set()"
   ]
  },
  {
   "cell_type": "code",
   "execution_count": 26,
   "metadata": {},
   "outputs": [],
   "source": [
    "pd.set_option('display.max_rows',None)"
   ]
  },
  {
   "cell_type": "code",
   "execution_count": null,
   "metadata": {},
   "outputs": [],
   "source": [
    "dom_rcl_linker=pd.read_csv('PINIRV4/dom_rcl_linker.csv')"
   ]
  },
  {
   "cell_type": "code",
   "execution_count": 10,
   "metadata": {},
   "outputs": [
    {
     "data": {
      "text/html": [
       "<div>\n",
       "<style scoped>\n",
       "    .dataframe tbody tr th:only-of-type {\n",
       "        vertical-align: middle;\n",
       "    }\n",
       "\n",
       "    .dataframe tbody tr th {\n",
       "        vertical-align: top;\n",
       "    }\n",
       "\n",
       "    .dataframe thead th {\n",
       "        text-align: right;\n",
       "    }\n",
       "</style>\n",
       "<table border=\"1\" class=\"dataframe\">\n",
       "  <thead>\n",
       "    <tr style=\"text-align: right;\">\n",
       "      <th></th>\n",
       "      <th>id</th>\n",
       "      <th>domainID</th>\n",
       "      <th>Domain</th>\n",
       "      <th>RclID</th>\n",
       "      <th>RCL</th>\n",
       "      <th>RCL_startPosition</th>\n",
       "      <th>RCL_endPosition</th>\n",
       "      <th>DomainType</th>\n",
       "      <th>linkerID</th>\n",
       "      <th>Linker</th>\n",
       "      <th>LinkerType</th>\n",
       "      <th>Linker_startPosition</th>\n",
       "      <th>Linker_endPosition</th>\n",
       "    </tr>\n",
       "  </thead>\n",
       "  <tbody>\n",
       "    <tr>\n",
       "      <th>0</th>\n",
       "      <td>1</td>\n",
       "      <td>IRD-1</td>\n",
       "      <td>QICINCCAGKKGCNYFSADGTFICEGESEYVSEVNDNLEKHCPRNC...</td>\n",
       "      <td>RL-1</td>\n",
       "      <td>CPRNC</td>\n",
       "      <td>41</td>\n",
       "      <td>45</td>\n",
       "      <td>3</td>\n",
       "      <td>NaN</td>\n",
       "      <td>NaN</td>\n",
       "      <td>NaN</td>\n",
       "      <td>NaN</td>\n",
       "      <td>NaN</td>\n",
       "    </tr>\n",
       "    <tr>\n",
       "      <th>1</th>\n",
       "      <td>2</td>\n",
       "      <td>IRD-2</td>\n",
       "      <td>QICTNCCAGKKGCMYFSDDGTFICEGESEYVSEVPVDNKPCPRNCD...</td>\n",
       "      <td>RL-1</td>\n",
       "      <td>CPRNC</td>\n",
       "      <td>40</td>\n",
       "      <td>44</td>\n",
       "      <td>3</td>\n",
       "      <td>NaN</td>\n",
       "      <td>NaN</td>\n",
       "      <td>NaN</td>\n",
       "      <td>NaN</td>\n",
       "      <td>NaN</td>\n",
       "    </tr>\n",
       "  </tbody>\n",
       "</table>\n",
       "</div>"
      ],
      "text/plain": [
       "   id domainID                                             Domain RclID  \\\n",
       "0   1    IRD-1  QICINCCAGKKGCNYFSADGTFICEGESEYVSEVNDNLEKHCPRNC...  RL-1   \n",
       "1   2    IRD-2  QICTNCCAGKKGCMYFSDDGTFICEGESEYVSEVPVDNKPCPRNCD...  RL-1   \n",
       "\n",
       "     RCL  RCL_startPosition  RCL_endPosition  DomainType linkerID Linker  \\\n",
       "0  CPRNC                 41               45           3      NaN    NaN   \n",
       "1  CPRNC                 40               44           3      NaN    NaN   \n",
       "\n",
       "   LinkerType  Linker_startPosition  Linker_endPosition  \n",
       "0         NaN                   NaN                 NaN  \n",
       "1         NaN                   NaN                 NaN  "
      ]
     },
     "execution_count": 10,
     "metadata": {},
     "output_type": "execute_result"
    }
   ],
   "source": [
    "dom_rcl_linker.head(2)"
   ]
  },
  {
   "cell_type": "code",
   "execution_count": 12,
   "metadata": {},
   "outputs": [
    {
     "data": {
      "text/plain": [
       "695"
      ]
     },
     "execution_count": 12,
     "metadata": {},
     "output_type": "execute_result"
    }
   ],
   "source": [
    "dom_rcl_linker.id.count()"
   ]
  },
  {
   "cell_type": "code",
   "execution_count": 7,
   "metadata": {},
   "outputs": [],
   "source": [
    "rcl_tp=pd.read_csv('PINIRV4/rcl_targetProtease.csv')"
   ]
  },
  {
   "cell_type": "code",
   "execution_count": 9,
   "metadata": {},
   "outputs": [
    {
     "data": {
      "text/html": [
       "<div>\n",
       "<style scoped>\n",
       "    .dataframe tbody tr th:only-of-type {\n",
       "        vertical-align: middle;\n",
       "    }\n",
       "\n",
       "    .dataframe tbody tr th {\n",
       "        vertical-align: top;\n",
       "    }\n",
       "\n",
       "    .dataframe thead th {\n",
       "        text-align: right;\n",
       "    }\n",
       "</style>\n",
       "<table border=\"1\" class=\"dataframe\">\n",
       "  <thead>\n",
       "    <tr style=\"text-align: right;\">\n",
       "      <th></th>\n",
       "      <th>id</th>\n",
       "      <th>RclID</th>\n",
       "      <th>Rcl</th>\n",
       "      <th>targetProtease</th>\n",
       "      <th>tpID</th>\n",
       "    </tr>\n",
       "  </thead>\n",
       "  <tbody>\n",
       "    <tr>\n",
       "      <th>0</th>\n",
       "      <td>1</td>\n",
       "      <td>RL-1</td>\n",
       "      <td>CPRNC</td>\n",
       "      <td>Trypsin</td>\n",
       "      <td>TP-1</td>\n",
       "    </tr>\n",
       "    <tr>\n",
       "      <th>1</th>\n",
       "      <td>2</td>\n",
       "      <td>RL-2</td>\n",
       "      <td>CPLNC</td>\n",
       "      <td>Chymotrypsin</td>\n",
       "      <td>TP-2</td>\n",
       "    </tr>\n",
       "  </tbody>\n",
       "</table>\n",
       "</div>"
      ],
      "text/plain": [
       "   id RclID    Rcl targetProtease  tpID\n",
       "0   1  RL-1  CPRNC        Trypsin  TP-1\n",
       "1   2  RL-2  CPLNC   Chymotrypsin  TP-2"
      ]
     },
     "execution_count": 9,
     "metadata": {},
     "output_type": "execute_result"
    }
   ],
   "source": [
    "rcl_tp.head(2)"
   ]
  },
  {
   "cell_type": "code",
   "execution_count": 13,
   "metadata": {},
   "outputs": [
    {
     "data": {
      "text/plain": [
       "63"
      ]
     },
     "execution_count": 13,
     "metadata": {},
     "output_type": "execute_result"
    }
   ],
   "source": [
    "rcl_tp.id.count()"
   ]
  },
  {
   "cell_type": "code",
   "execution_count": 14,
   "metadata": {},
   "outputs": [],
   "source": [
    "# Adding Target Protease information to dom_rcl_linker"
   ]
  },
  {
   "cell_type": "code",
   "execution_count": 17,
   "metadata": {},
   "outputs": [],
   "source": [
    "dom_rcl_linker_tp=pd.merge(dom_rcl_linker,rcl_tp,on='RclID',how='left')"
   ]
  },
  {
   "cell_type": "code",
   "execution_count": 21,
   "metadata": {},
   "outputs": [
    {
     "data": {
      "text/html": [
       "<div>\n",
       "<style scoped>\n",
       "    .dataframe tbody tr th:only-of-type {\n",
       "        vertical-align: middle;\n",
       "    }\n",
       "\n",
       "    .dataframe tbody tr th {\n",
       "        vertical-align: top;\n",
       "    }\n",
       "\n",
       "    .dataframe thead th {\n",
       "        text-align: right;\n",
       "    }\n",
       "</style>\n",
       "<table border=\"1\" class=\"dataframe\">\n",
       "  <thead>\n",
       "    <tr style=\"text-align: right;\">\n",
       "      <th></th>\n",
       "      <th>id_x</th>\n",
       "      <th>domainID</th>\n",
       "      <th>Domain</th>\n",
       "      <th>RclID</th>\n",
       "      <th>RCL</th>\n",
       "      <th>RCL_startPosition</th>\n",
       "      <th>RCL_endPosition</th>\n",
       "      <th>DomainType</th>\n",
       "      <th>linkerID</th>\n",
       "      <th>Linker</th>\n",
       "      <th>LinkerType</th>\n",
       "      <th>Linker_startPosition</th>\n",
       "      <th>Linker_endPosition</th>\n",
       "      <th>id_y</th>\n",
       "      <th>Rcl</th>\n",
       "      <th>targetProtease</th>\n",
       "      <th>tpID</th>\n",
       "    </tr>\n",
       "  </thead>\n",
       "  <tbody>\n",
       "    <tr>\n",
       "      <th>0</th>\n",
       "      <td>1</td>\n",
       "      <td>IRD-1</td>\n",
       "      <td>QICINCCAGKKGCNYFSADGTFICEGESEYVSEVNDNLEKHCPRNC...</td>\n",
       "      <td>RL-1</td>\n",
       "      <td>CPRNC</td>\n",
       "      <td>41</td>\n",
       "      <td>45</td>\n",
       "      <td>3</td>\n",
       "      <td>NaN</td>\n",
       "      <td>NaN</td>\n",
       "      <td>NaN</td>\n",
       "      <td>NaN</td>\n",
       "      <td>NaN</td>\n",
       "      <td>1</td>\n",
       "      <td>CPRNC</td>\n",
       "      <td>Trypsin</td>\n",
       "      <td>TP-1</td>\n",
       "    </tr>\n",
       "    <tr>\n",
       "      <th>1</th>\n",
       "      <td>2</td>\n",
       "      <td>IRD-2</td>\n",
       "      <td>QICTNCCAGKKGCMYFSDDGTFICEGESEYVSEVPVDNKPCPRNCD...</td>\n",
       "      <td>RL-1</td>\n",
       "      <td>CPRNC</td>\n",
       "      <td>40</td>\n",
       "      <td>44</td>\n",
       "      <td>3</td>\n",
       "      <td>NaN</td>\n",
       "      <td>NaN</td>\n",
       "      <td>NaN</td>\n",
       "      <td>NaN</td>\n",
       "      <td>NaN</td>\n",
       "      <td>1</td>\n",
       "      <td>CPRNC</td>\n",
       "      <td>Trypsin</td>\n",
       "      <td>TP-1</td>\n",
       "    </tr>\n",
       "    <tr>\n",
       "      <th>2</th>\n",
       "      <td>3</td>\n",
       "      <td>IRD-3</td>\n",
       "      <td>QICTNCCAGKKGCMYFSNDGTFICEGESEYVSEVPVDNKPCPRNCD...</td>\n",
       "      <td>RL-1</td>\n",
       "      <td>CPRNC</td>\n",
       "      <td>40</td>\n",
       "      <td>44</td>\n",
       "      <td>3</td>\n",
       "      <td>NaN</td>\n",
       "      <td>NaN</td>\n",
       "      <td>NaN</td>\n",
       "      <td>NaN</td>\n",
       "      <td>NaN</td>\n",
       "      <td>1</td>\n",
       "      <td>CPRNC</td>\n",
       "      <td>Trypsin</td>\n",
       "      <td>TP-1</td>\n",
       "    </tr>\n",
       "    <tr>\n",
       "      <th>3</th>\n",
       "      <td>4</td>\n",
       "      <td>IRD-4</td>\n",
       "      <td>VGCTNCCSGTEGCNYYSANGTFICEGQTKKTIDETNKACPRNCNPR...</td>\n",
       "      <td>RL-1</td>\n",
       "      <td>CPRNC</td>\n",
       "      <td>38</td>\n",
       "      <td>42</td>\n",
       "      <td>3</td>\n",
       "      <td>NaN</td>\n",
       "      <td>NaN</td>\n",
       "      <td>NaN</td>\n",
       "      <td>NaN</td>\n",
       "      <td>NaN</td>\n",
       "      <td>1</td>\n",
       "      <td>CPRNC</td>\n",
       "      <td>Trypsin</td>\n",
       "      <td>TP-1</td>\n",
       "    </tr>\n",
       "    <tr>\n",
       "      <th>4</th>\n",
       "      <td>5</td>\n",
       "      <td>IRD-5</td>\n",
       "      <td>LGCTNCCAGSLGCNYYSANGTFICEGESEIKVETIETEVETMVEPN...</td>\n",
       "      <td>RL-1</td>\n",
       "      <td>CPRNC</td>\n",
       "      <td>48</td>\n",
       "      <td>52</td>\n",
       "      <td>3</td>\n",
       "      <td>NaN</td>\n",
       "      <td>NaN</td>\n",
       "      <td>NaN</td>\n",
       "      <td>NaN</td>\n",
       "      <td>NaN</td>\n",
       "      <td>1</td>\n",
       "      <td>CPRNC</td>\n",
       "      <td>Trypsin</td>\n",
       "      <td>TP-1</td>\n",
       "    </tr>\n",
       "  </tbody>\n",
       "</table>\n",
       "</div>"
      ],
      "text/plain": [
       "   id_x domainID                                             Domain RclID  \\\n",
       "0     1    IRD-1  QICINCCAGKKGCNYFSADGTFICEGESEYVSEVNDNLEKHCPRNC...  RL-1   \n",
       "1     2    IRD-2  QICTNCCAGKKGCMYFSDDGTFICEGESEYVSEVPVDNKPCPRNCD...  RL-1   \n",
       "2     3    IRD-3  QICTNCCAGKKGCMYFSNDGTFICEGESEYVSEVPVDNKPCPRNCD...  RL-1   \n",
       "3     4    IRD-4  VGCTNCCSGTEGCNYYSANGTFICEGQTKKTIDETNKACPRNCNPR...  RL-1   \n",
       "4     5    IRD-5  LGCTNCCAGSLGCNYYSANGTFICEGESEIKVETIETEVETMVEPN...  RL-1   \n",
       "\n",
       "     RCL  RCL_startPosition  RCL_endPosition  DomainType linkerID Linker  \\\n",
       "0  CPRNC                 41               45           3      NaN    NaN   \n",
       "1  CPRNC                 40               44           3      NaN    NaN   \n",
       "2  CPRNC                 40               44           3      NaN    NaN   \n",
       "3  CPRNC                 38               42           3      NaN    NaN   \n",
       "4  CPRNC                 48               52           3      NaN    NaN   \n",
       "\n",
       "   LinkerType  Linker_startPosition  Linker_endPosition  id_y    Rcl  \\\n",
       "0         NaN                   NaN                 NaN     1  CPRNC   \n",
       "1         NaN                   NaN                 NaN     1  CPRNC   \n",
       "2         NaN                   NaN                 NaN     1  CPRNC   \n",
       "3         NaN                   NaN                 NaN     1  CPRNC   \n",
       "4         NaN                   NaN                 NaN     1  CPRNC   \n",
       "\n",
       "  targetProtease  tpID  \n",
       "0        Trypsin  TP-1  \n",
       "1        Trypsin  TP-1  \n",
       "2        Trypsin  TP-1  \n",
       "3        Trypsin  TP-1  \n",
       "4        Trypsin  TP-1  "
      ]
     },
     "execution_count": 21,
     "metadata": {},
     "output_type": "execute_result"
    }
   ],
   "source": [
    "dom_rcl_linker_tp.head()"
   ]
  },
  {
   "cell_type": "code",
   "execution_count": null,
   "metadata": {},
   "outputs": [],
   "source": []
  },
  {
   "cell_type": "code",
   "execution_count": 31,
   "metadata": {},
   "outputs": [],
   "source": [
    "dom_rcl_linker_tp=dom_rcl_linker_tp[['id_x', 'domainID', 'Domain','DomainType', 'RclID', 'RCL', 'RCL_startPosition',\n",
    "       'RCL_endPosition', 'linkerID', 'Linker', 'LinkerType',\n",
    "       'Linker_startPosition', 'Linker_endPosition','tpID','targetProtease' ]]"
   ]
  },
  {
   "cell_type": "code",
   "execution_count": 34,
   "metadata": {},
   "outputs": [
    {
     "data": {
      "text/plain": [
       "TP-1    396\n",
       "TP-2    177\n",
       "TP-4    110\n",
       "TP-3     12\n",
       "Name: tpID, dtype: int64"
      ]
     },
     "execution_count": 34,
     "metadata": {},
     "output_type": "execute_result"
    }
   ],
   "source": [
    "dom_rcl_linker_tp.tpID.value_counts()"
   ]
  },
  {
   "cell_type": "code",
   "execution_count": 35,
   "metadata": {},
   "outputs": [],
   "source": [
    "dom_rcl_linker_tp.rename(columns={'id_x':'id'},inplace=True)"
   ]
  },
  {
   "cell_type": "code",
   "execution_count": 43,
   "metadata": {},
   "outputs": [],
   "source": [
    "#dom_rcl_linker_tp.to_csv('PINIRV4/dom_rcl_linker_tp.csv',index=False)# Making a new file with Domain,RCL,Linker,TP info"
   ]
  },
  {
   "cell_type": "code",
   "execution_count": 42,
   "metadata": {},
   "outputs": [
    {
     "data": {
      "text/html": [
       "<div>\n",
       "<style scoped>\n",
       "    .dataframe tbody tr th:only-of-type {\n",
       "        vertical-align: middle;\n",
       "    }\n",
       "\n",
       "    .dataframe tbody tr th {\n",
       "        vertical-align: top;\n",
       "    }\n",
       "\n",
       "    .dataframe thead th {\n",
       "        text-align: right;\n",
       "    }\n",
       "</style>\n",
       "<table border=\"1\" class=\"dataframe\">\n",
       "  <thead>\n",
       "    <tr style=\"text-align: right;\">\n",
       "      <th></th>\n",
       "      <th>id</th>\n",
       "      <th>domainID</th>\n",
       "      <th>Domain</th>\n",
       "      <th>DomainType</th>\n",
       "      <th>RclID</th>\n",
       "      <th>RCL</th>\n",
       "      <th>RCL_startPosition</th>\n",
       "      <th>RCL_endPosition</th>\n",
       "      <th>linkerID</th>\n",
       "      <th>Linker</th>\n",
       "      <th>LinkerType</th>\n",
       "      <th>Linker_startPosition</th>\n",
       "      <th>Linker_endPosition</th>\n",
       "      <th>tpID</th>\n",
       "      <th>targetProtease</th>\n",
       "    </tr>\n",
       "  </thead>\n",
       "  <tbody>\n",
       "    <tr>\n",
       "      <th>0</th>\n",
       "      <td>1</td>\n",
       "      <td>IRD-1</td>\n",
       "      <td>QICINCCAGKKGCNYFSADGTFICEGESEYVSEVNDNLEKHCPRNC...</td>\n",
       "      <td>3</td>\n",
       "      <td>RL-1</td>\n",
       "      <td>CPRNC</td>\n",
       "      <td>41</td>\n",
       "      <td>45</td>\n",
       "      <td>NaN</td>\n",
       "      <td>NaN</td>\n",
       "      <td>NaN</td>\n",
       "      <td>NaN</td>\n",
       "      <td>NaN</td>\n",
       "      <td>TP-1</td>\n",
       "      <td>Trypsin</td>\n",
       "    </tr>\n",
       "    <tr>\n",
       "      <th>1</th>\n",
       "      <td>2</td>\n",
       "      <td>IRD-2</td>\n",
       "      <td>QICTNCCAGKKGCMYFSDDGTFICEGESEYVSEVPVDNKPCPRNCD...</td>\n",
       "      <td>3</td>\n",
       "      <td>RL-1</td>\n",
       "      <td>CPRNC</td>\n",
       "      <td>40</td>\n",
       "      <td>44</td>\n",
       "      <td>NaN</td>\n",
       "      <td>NaN</td>\n",
       "      <td>NaN</td>\n",
       "      <td>NaN</td>\n",
       "      <td>NaN</td>\n",
       "      <td>TP-1</td>\n",
       "      <td>Trypsin</td>\n",
       "    </tr>\n",
       "    <tr>\n",
       "      <th>2</th>\n",
       "      <td>3</td>\n",
       "      <td>IRD-3</td>\n",
       "      <td>QICTNCCAGKKGCMYFSNDGTFICEGESEYVSEVPVDNKPCPRNCD...</td>\n",
       "      <td>3</td>\n",
       "      <td>RL-1</td>\n",
       "      <td>CPRNC</td>\n",
       "      <td>40</td>\n",
       "      <td>44</td>\n",
       "      <td>NaN</td>\n",
       "      <td>NaN</td>\n",
       "      <td>NaN</td>\n",
       "      <td>NaN</td>\n",
       "      <td>NaN</td>\n",
       "      <td>TP-1</td>\n",
       "      <td>Trypsin</td>\n",
       "    </tr>\n",
       "    <tr>\n",
       "      <th>3</th>\n",
       "      <td>4</td>\n",
       "      <td>IRD-4</td>\n",
       "      <td>VGCTNCCSGTEGCNYYSANGTFICEGQTKKTIDETNKACPRNCNPR...</td>\n",
       "      <td>3</td>\n",
       "      <td>RL-1</td>\n",
       "      <td>CPRNC</td>\n",
       "      <td>38</td>\n",
       "      <td>42</td>\n",
       "      <td>NaN</td>\n",
       "      <td>NaN</td>\n",
       "      <td>NaN</td>\n",
       "      <td>NaN</td>\n",
       "      <td>NaN</td>\n",
       "      <td>TP-1</td>\n",
       "      <td>Trypsin</td>\n",
       "    </tr>\n",
       "    <tr>\n",
       "      <th>4</th>\n",
       "      <td>5</td>\n",
       "      <td>IRD-5</td>\n",
       "      <td>LGCTNCCAGSLGCNYYSANGTFICEGESEIKVETIETEVETMVEPN...</td>\n",
       "      <td>3</td>\n",
       "      <td>RL-1</td>\n",
       "      <td>CPRNC</td>\n",
       "      <td>48</td>\n",
       "      <td>52</td>\n",
       "      <td>NaN</td>\n",
       "      <td>NaN</td>\n",
       "      <td>NaN</td>\n",
       "      <td>NaN</td>\n",
       "      <td>NaN</td>\n",
       "      <td>TP-1</td>\n",
       "      <td>Trypsin</td>\n",
       "    </tr>\n",
       "  </tbody>\n",
       "</table>\n",
       "</div>"
      ],
      "text/plain": [
       "   id domainID                                             Domain  DomainType  \\\n",
       "0   1    IRD-1  QICINCCAGKKGCNYFSADGTFICEGESEYVSEVNDNLEKHCPRNC...           3   \n",
       "1   2    IRD-2  QICTNCCAGKKGCMYFSDDGTFICEGESEYVSEVPVDNKPCPRNCD...           3   \n",
       "2   3    IRD-3  QICTNCCAGKKGCMYFSNDGTFICEGESEYVSEVPVDNKPCPRNCD...           3   \n",
       "3   4    IRD-4  VGCTNCCSGTEGCNYYSANGTFICEGQTKKTIDETNKACPRNCNPR...           3   \n",
       "4   5    IRD-5  LGCTNCCAGSLGCNYYSANGTFICEGESEIKVETIETEVETMVEPN...           3   \n",
       "\n",
       "  RclID    RCL  RCL_startPosition  RCL_endPosition linkerID Linker  \\\n",
       "0  RL-1  CPRNC                 41               45      NaN    NaN   \n",
       "1  RL-1  CPRNC                 40               44      NaN    NaN   \n",
       "2  RL-1  CPRNC                 40               44      NaN    NaN   \n",
       "3  RL-1  CPRNC                 38               42      NaN    NaN   \n",
       "4  RL-1  CPRNC                 48               52      NaN    NaN   \n",
       "\n",
       "   LinkerType  Linker_startPosition  Linker_endPosition  tpID targetProtease  \n",
       "0         NaN                   NaN                 NaN  TP-1        Trypsin  \n",
       "1         NaN                   NaN                 NaN  TP-1        Trypsin  \n",
       "2         NaN                   NaN                 NaN  TP-1        Trypsin  \n",
       "3         NaN                   NaN                 NaN  TP-1        Trypsin  \n",
       "4         NaN                   NaN                 NaN  TP-1        Trypsin  "
      ]
     },
     "execution_count": 42,
     "metadata": {},
     "output_type": "execute_result"
    }
   ],
   "source": [
    "dom_rcl_linker_tp.head()"
   ]
  },
  {
   "cell_type": "code",
   "execution_count": 56,
   "metadata": {},
   "outputs": [],
   "source": [
    "seq_dom_rcl_tp=pd.read_csv('PINIRV4/Sequence_Domain_RCL_TargetProtease_Data.csv')"
   ]
  },
  {
   "cell_type": "code",
   "execution_count": 57,
   "metadata": {},
   "outputs": [
    {
     "data": {
      "text/html": [
       "<div>\n",
       "<style scoped>\n",
       "    .dataframe tbody tr th:only-of-type {\n",
       "        vertical-align: middle;\n",
       "    }\n",
       "\n",
       "    .dataframe tbody tr th {\n",
       "        vertical-align: top;\n",
       "    }\n",
       "\n",
       "    .dataframe thead th {\n",
       "        text-align: right;\n",
       "    }\n",
       "</style>\n",
       "<table border=\"1\" class=\"dataframe\">\n",
       "  <thead>\n",
       "    <tr style=\"text-align: right;\">\n",
       "      <th></th>\n",
       "      <th>id</th>\n",
       "      <th>FastaSeqID</th>\n",
       "      <th>Fasta</th>\n",
       "      <th>fastaLength</th>\n",
       "      <th>DomainID</th>\n",
       "      <th>domain</th>\n",
       "      <th>startDPosition</th>\n",
       "      <th>endDPosition</th>\n",
       "      <th>RclID</th>\n",
       "      <th>Rcl</th>\n",
       "      <th>startRPosition</th>\n",
       "      <th>endRPosition</th>\n",
       "      <th>RclStartPosition</th>\n",
       "      <th>RclEndPosition</th>\n",
       "      <th>tpID</th>\n",
       "      <th>TargetProtease</th>\n",
       "    </tr>\n",
       "  </thead>\n",
       "  <tbody>\n",
       "    <tr>\n",
       "      <th>0</th>\n",
       "      <td>163</td>\n",
       "      <td>K4D750</td>\n",
       "      <td>MAIHKVALLLLLGIILLVSNVEHTNAKARTEQCDPRIAFGICPHLQ...</td>\n",
       "      <td>360</td>\n",
       "      <td>IRD-1</td>\n",
       "      <td>QICINCCAGKKGCNYFSADGTFICEGESEYVSEVNDNLEKHCPRNC...</td>\n",
       "      <td>51</td>\n",
       "      <td>108</td>\n",
       "      <td>RL-1</td>\n",
       "      <td>CPRNC</td>\n",
       "      <td>41</td>\n",
       "      <td>45</td>\n",
       "      <td>91</td>\n",
       "      <td>95</td>\n",
       "      <td>TP-1</td>\n",
       "      <td>Trypsin</td>\n",
       "    </tr>\n",
       "    <tr>\n",
       "      <th>1</th>\n",
       "      <td>132</td>\n",
       "      <td>E9JGT0</td>\n",
       "      <td>MAIYKVALLLLFGMIVLGSNADGKPCTRECDTRIAYGICPLSETKR...</td>\n",
       "      <td>155</td>\n",
       "      <td>IRD-3</td>\n",
       "      <td>QICTNCCAGKKGCMYFSNDGTFICEGESEYVSEVPVDNKPCPRNCD...</td>\n",
       "      <td>48</td>\n",
       "      <td>104</td>\n",
       "      <td>RL-1</td>\n",
       "      <td>CPRNC</td>\n",
       "      <td>40</td>\n",
       "      <td>44</td>\n",
       "      <td>87</td>\n",
       "      <td>91</td>\n",
       "      <td>TP-1</td>\n",
       "      <td>Trypsin</td>\n",
       "    </tr>\n",
       "    <tr>\n",
       "      <th>2</th>\n",
       "      <td>34</td>\n",
       "      <td>Q7M222</td>\n",
       "      <td>MAFNKVALLILFAIFAGTVLLLSEVDAANACPRNCNPSIQYGRCPK...</td>\n",
       "      <td>146</td>\n",
       "      <td>IRD-4</td>\n",
       "      <td>VGCTNCCSGTEGCNYYSANGTFICEGQTKKTIDETNKACPRNCNPR...</td>\n",
       "      <td>53</td>\n",
       "      <td>107</td>\n",
       "      <td>RL-1</td>\n",
       "      <td>CPRNC</td>\n",
       "      <td>38</td>\n",
       "      <td>42</td>\n",
       "      <td>90</td>\n",
       "      <td>94</td>\n",
       "      <td>TP-1</td>\n",
       "      <td>Trypsin</td>\n",
       "    </tr>\n",
       "    <tr>\n",
       "      <th>3</th>\n",
       "      <td>79</td>\n",
       "      <td>A0A1S4BIG0</td>\n",
       "      <td>MAVHKAGFLSLLLLFGIFLLLSELEYADAKACTRNCNPRIRYGRCP...</td>\n",
       "      <td>168</td>\n",
       "      <td>IRD-5</td>\n",
       "      <td>LGCTNCCAGSLGCNYYSANGTFICEGESEIKVETIETEVETMVEPN...</td>\n",
       "      <td>54</td>\n",
       "      <td>113</td>\n",
       "      <td>RL-1</td>\n",
       "      <td>CPRNC</td>\n",
       "      <td>48</td>\n",
       "      <td>52</td>\n",
       "      <td>101</td>\n",
       "      <td>105</td>\n",
       "      <td>TP-1</td>\n",
       "      <td>Trypsin</td>\n",
       "    </tr>\n",
       "    <tr>\n",
       "      <th>4</th>\n",
       "      <td>75</td>\n",
       "      <td>A0A1S3Z2Q3</td>\n",
       "      <td>MAVHKVGFLSLLLLFGTFLLLSEVDYADAKACTRNCNPRIRYGRCP...</td>\n",
       "      <td>294</td>\n",
       "      <td>IRD-6</td>\n",
       "      <td>VGCTNCCAAKKGCNYFSANGTFVCEGETETKVETIETEVETMVELN...</td>\n",
       "      <td>132</td>\n",
       "      <td>191</td>\n",
       "      <td>RL-5</td>\n",
       "      <td>CPFNC</td>\n",
       "      <td>48</td>\n",
       "      <td>52</td>\n",
       "      <td>179</td>\n",
       "      <td>183</td>\n",
       "      <td>TP-2</td>\n",
       "      <td>Chymotrypsin</td>\n",
       "    </tr>\n",
       "  </tbody>\n",
       "</table>\n",
       "</div>"
      ],
      "text/plain": [
       "    id  FastaSeqID                                              Fasta  \\\n",
       "0  163      K4D750  MAIHKVALLLLLGIILLVSNVEHTNAKARTEQCDPRIAFGICPHLQ...   \n",
       "1  132      E9JGT0  MAIYKVALLLLFGMIVLGSNADGKPCTRECDTRIAYGICPLSETKR...   \n",
       "2   34      Q7M222  MAFNKVALLILFAIFAGTVLLLSEVDAANACPRNCNPSIQYGRCPK...   \n",
       "3   79  A0A1S4BIG0  MAVHKAGFLSLLLLFGIFLLLSELEYADAKACTRNCNPRIRYGRCP...   \n",
       "4   75  A0A1S3Z2Q3  MAVHKVGFLSLLLLFGTFLLLSEVDYADAKACTRNCNPRIRYGRCP...   \n",
       "\n",
       "   fastaLength DomainID                                             domain  \\\n",
       "0          360    IRD-1  QICINCCAGKKGCNYFSADGTFICEGESEYVSEVNDNLEKHCPRNC...   \n",
       "1          155    IRD-3  QICTNCCAGKKGCMYFSNDGTFICEGESEYVSEVPVDNKPCPRNCD...   \n",
       "2          146    IRD-4  VGCTNCCSGTEGCNYYSANGTFICEGQTKKTIDETNKACPRNCNPR...   \n",
       "3          168    IRD-5  LGCTNCCAGSLGCNYYSANGTFICEGESEIKVETIETEVETMVEPN...   \n",
       "4          294    IRD-6  VGCTNCCAAKKGCNYFSANGTFVCEGETETKVETIETEVETMVELN...   \n",
       "\n",
       "   startDPosition  endDPosition RclID    Rcl  startRPosition  endRPosition  \\\n",
       "0              51           108  RL-1  CPRNC              41            45   \n",
       "1              48           104  RL-1  CPRNC              40            44   \n",
       "2              53           107  RL-1  CPRNC              38            42   \n",
       "3              54           113  RL-1  CPRNC              48            52   \n",
       "4             132           191  RL-5  CPFNC              48            52   \n",
       "\n",
       "   RclStartPosition  RclEndPosition  tpID TargetProtease  \n",
       "0                91              95  TP-1        Trypsin  \n",
       "1                87              91  TP-1        Trypsin  \n",
       "2                90              94  TP-1        Trypsin  \n",
       "3               101             105  TP-1        Trypsin  \n",
       "4               179             183  TP-2   Chymotrypsin  "
      ]
     },
     "execution_count": 57,
     "metadata": {},
     "output_type": "execute_result"
    }
   ],
   "source": [
    "seq_dom_rcl_tp.head()"
   ]
  },
  {
   "cell_type": "code",
   "execution_count": 58,
   "metadata": {},
   "outputs": [
    {
     "data": {
      "text/plain": [
       "1289"
      ]
     },
     "execution_count": 58,
     "metadata": {},
     "output_type": "execute_result"
    }
   ],
   "source": [
    "seq_dom_rcl_tp.id.count()"
   ]
  },
  {
   "cell_type": "code",
   "execution_count": 59,
   "metadata": {},
   "outputs": [
    {
     "data": {
      "text/plain": [
       "695"
      ]
     },
     "execution_count": 59,
     "metadata": {},
     "output_type": "execute_result"
    }
   ],
   "source": [
    "dom_rcl_linker_tp.id.count()"
   ]
  },
  {
   "cell_type": "code",
   "execution_count": 61,
   "metadata": {},
   "outputs": [
    {
     "data": {
      "text/plain": [
       "Index(['id', 'domainID', 'Domain', 'DomainType', 'RclID', 'RCL',\n",
       "       'RCL_startPosition', 'RCL_endPosition', 'linkerID', 'Linker',\n",
       "       'LinkerType', 'Linker_startPosition', 'Linker_endPosition', 'tpID',\n",
       "       'targetProtease'],\n",
       "      dtype='object')"
      ]
     },
     "execution_count": 61,
     "metadata": {},
     "output_type": "execute_result"
    }
   ],
   "source": [
    "dom_rcl_linker_tp.columns"
   ]
  },
  {
   "cell_type": "markdown",
   "metadata": {},
   "source": [
    "# Adding dom->Linker information from dom_rcl_linker_tp to seq_dom_rcl_tp"
   ]
  },
  {
   "cell_type": "code",
   "execution_count": 65,
   "metadata": {},
   "outputs": [],
   "source": [
    "dom_linker=dom_rcl_linker_tp[['domainID','Domain', 'DomainType','linkerID', 'Linker',\n",
    "       'Linker_startPosition', 'Linker_endPosition']]"
   ]
  },
  {
   "cell_type": "code",
   "execution_count": 66,
   "metadata": {},
   "outputs": [
    {
     "data": {
      "text/html": [
       "<div>\n",
       "<style scoped>\n",
       "    .dataframe tbody tr th:only-of-type {\n",
       "        vertical-align: middle;\n",
       "    }\n",
       "\n",
       "    .dataframe tbody tr th {\n",
       "        vertical-align: top;\n",
       "    }\n",
       "\n",
       "    .dataframe thead th {\n",
       "        text-align: right;\n",
       "    }\n",
       "</style>\n",
       "<table border=\"1\" class=\"dataframe\">\n",
       "  <thead>\n",
       "    <tr style=\"text-align: right;\">\n",
       "      <th></th>\n",
       "      <th>domainID</th>\n",
       "      <th>Domain</th>\n",
       "      <th>DomainType</th>\n",
       "      <th>linkerID</th>\n",
       "      <th>Linker</th>\n",
       "      <th>Linker_startPosition</th>\n",
       "      <th>Linker_endPosition</th>\n",
       "    </tr>\n",
       "  </thead>\n",
       "  <tbody>\n",
       "    <tr>\n",
       "      <th>0</th>\n",
       "      <td>IRD-1</td>\n",
       "      <td>QICINCCAGKKGCNYFSADGTFICEGESEYVSEVNDNLEKHCPRNC...</td>\n",
       "      <td>3</td>\n",
       "      <td>NaN</td>\n",
       "      <td>NaN</td>\n",
       "      <td>NaN</td>\n",
       "      <td>NaN</td>\n",
       "    </tr>\n",
       "    <tr>\n",
       "      <th>1</th>\n",
       "      <td>IRD-2</td>\n",
       "      <td>QICTNCCAGKKGCMYFSDDGTFICEGESEYVSEVPVDNKPCPRNCD...</td>\n",
       "      <td>3</td>\n",
       "      <td>NaN</td>\n",
       "      <td>NaN</td>\n",
       "      <td>NaN</td>\n",
       "      <td>NaN</td>\n",
       "    </tr>\n",
       "    <tr>\n",
       "      <th>2</th>\n",
       "      <td>IRD-3</td>\n",
       "      <td>QICTNCCAGKKGCMYFSNDGTFICEGESEYVSEVPVDNKPCPRNCD...</td>\n",
       "      <td>3</td>\n",
       "      <td>NaN</td>\n",
       "      <td>NaN</td>\n",
       "      <td>NaN</td>\n",
       "      <td>NaN</td>\n",
       "    </tr>\n",
       "    <tr>\n",
       "      <th>3</th>\n",
       "      <td>IRD-4</td>\n",
       "      <td>VGCTNCCSGTEGCNYYSANGTFICEGQTKKTIDETNKACPRNCNPR...</td>\n",
       "      <td>3</td>\n",
       "      <td>NaN</td>\n",
       "      <td>NaN</td>\n",
       "      <td>NaN</td>\n",
       "      <td>NaN</td>\n",
       "    </tr>\n",
       "    <tr>\n",
       "      <th>4</th>\n",
       "      <td>IRD-5</td>\n",
       "      <td>LGCTNCCAGSLGCNYYSANGTFICEGESEIKVETIETEVETMVEPN...</td>\n",
       "      <td>3</td>\n",
       "      <td>NaN</td>\n",
       "      <td>NaN</td>\n",
       "      <td>NaN</td>\n",
       "      <td>NaN</td>\n",
       "    </tr>\n",
       "  </tbody>\n",
       "</table>\n",
       "</div>"
      ],
      "text/plain": [
       "  domainID                                             Domain  DomainType  \\\n",
       "0    IRD-1  QICINCCAGKKGCNYFSADGTFICEGESEYVSEVNDNLEKHCPRNC...           3   \n",
       "1    IRD-2  QICTNCCAGKKGCMYFSDDGTFICEGESEYVSEVPVDNKPCPRNCD...           3   \n",
       "2    IRD-3  QICTNCCAGKKGCMYFSNDGTFICEGESEYVSEVPVDNKPCPRNCD...           3   \n",
       "3    IRD-4  VGCTNCCSGTEGCNYYSANGTFICEGQTKKTIDETNKACPRNCNPR...           3   \n",
       "4    IRD-5  LGCTNCCAGSLGCNYYSANGTFICEGESEIKVETIETEVETMVEPN...           3   \n",
       "\n",
       "  linkerID Linker  Linker_startPosition  Linker_endPosition  \n",
       "0      NaN    NaN                   NaN                 NaN  \n",
       "1      NaN    NaN                   NaN                 NaN  \n",
       "2      NaN    NaN                   NaN                 NaN  \n",
       "3      NaN    NaN                   NaN                 NaN  \n",
       "4      NaN    NaN                   NaN                 NaN  "
      ]
     },
     "execution_count": 66,
     "metadata": {},
     "output_type": "execute_result"
    }
   ],
   "source": [
    "dom_linker.head()"
   ]
  },
  {
   "cell_type": "code",
   "execution_count": 68,
   "metadata": {},
   "outputs": [],
   "source": [
    "dom_linker.rename(columns={'domainID':'DomainID'},inplace=True)"
   ]
  },
  {
   "cell_type": "code",
   "execution_count": 69,
   "metadata": {},
   "outputs": [
    {
     "data": {
      "text/html": [
       "<div>\n",
       "<style scoped>\n",
       "    .dataframe tbody tr th:only-of-type {\n",
       "        vertical-align: middle;\n",
       "    }\n",
       "\n",
       "    .dataframe tbody tr th {\n",
       "        vertical-align: top;\n",
       "    }\n",
       "\n",
       "    .dataframe thead th {\n",
       "        text-align: right;\n",
       "    }\n",
       "</style>\n",
       "<table border=\"1\" class=\"dataframe\">\n",
       "  <thead>\n",
       "    <tr style=\"text-align: right;\">\n",
       "      <th></th>\n",
       "      <th>DomainID</th>\n",
       "      <th>Domain</th>\n",
       "      <th>DomainType</th>\n",
       "      <th>linkerID</th>\n",
       "      <th>Linker</th>\n",
       "      <th>Linker_startPosition</th>\n",
       "      <th>Linker_endPosition</th>\n",
       "    </tr>\n",
       "  </thead>\n",
       "  <tbody>\n",
       "    <tr>\n",
       "      <th>0</th>\n",
       "      <td>IRD-1</td>\n",
       "      <td>QICINCCAGKKGCNYFSADGTFICEGESEYVSEVNDNLEKHCPRNC...</td>\n",
       "      <td>3</td>\n",
       "      <td>NaN</td>\n",
       "      <td>NaN</td>\n",
       "      <td>NaN</td>\n",
       "      <td>NaN</td>\n",
       "    </tr>\n",
       "    <tr>\n",
       "      <th>1</th>\n",
       "      <td>IRD-2</td>\n",
       "      <td>QICTNCCAGKKGCMYFSDDGTFICEGESEYVSEVPVDNKPCPRNCD...</td>\n",
       "      <td>3</td>\n",
       "      <td>NaN</td>\n",
       "      <td>NaN</td>\n",
       "      <td>NaN</td>\n",
       "      <td>NaN</td>\n",
       "    </tr>\n",
       "    <tr>\n",
       "      <th>2</th>\n",
       "      <td>IRD-3</td>\n",
       "      <td>QICTNCCAGKKGCMYFSNDGTFICEGESEYVSEVPVDNKPCPRNCD...</td>\n",
       "      <td>3</td>\n",
       "      <td>NaN</td>\n",
       "      <td>NaN</td>\n",
       "      <td>NaN</td>\n",
       "      <td>NaN</td>\n",
       "    </tr>\n",
       "    <tr>\n",
       "      <th>3</th>\n",
       "      <td>IRD-4</td>\n",
       "      <td>VGCTNCCSGTEGCNYYSANGTFICEGQTKKTIDETNKACPRNCNPR...</td>\n",
       "      <td>3</td>\n",
       "      <td>NaN</td>\n",
       "      <td>NaN</td>\n",
       "      <td>NaN</td>\n",
       "      <td>NaN</td>\n",
       "    </tr>\n",
       "    <tr>\n",
       "      <th>4</th>\n",
       "      <td>IRD-5</td>\n",
       "      <td>LGCTNCCAGSLGCNYYSANGTFICEGESEIKVETIETEVETMVEPN...</td>\n",
       "      <td>3</td>\n",
       "      <td>NaN</td>\n",
       "      <td>NaN</td>\n",
       "      <td>NaN</td>\n",
       "      <td>NaN</td>\n",
       "    </tr>\n",
       "  </tbody>\n",
       "</table>\n",
       "</div>"
      ],
      "text/plain": [
       "  DomainID                                             Domain  DomainType  \\\n",
       "0    IRD-1  QICINCCAGKKGCNYFSADGTFICEGESEYVSEVNDNLEKHCPRNC...           3   \n",
       "1    IRD-2  QICTNCCAGKKGCMYFSDDGTFICEGESEYVSEVPVDNKPCPRNCD...           3   \n",
       "2    IRD-3  QICTNCCAGKKGCMYFSNDGTFICEGESEYVSEVPVDNKPCPRNCD...           3   \n",
       "3    IRD-4  VGCTNCCSGTEGCNYYSANGTFICEGQTKKTIDETNKACPRNCNPR...           3   \n",
       "4    IRD-5  LGCTNCCAGSLGCNYYSANGTFICEGESEIKVETIETEVETMVEPN...           3   \n",
       "\n",
       "  linkerID Linker  Linker_startPosition  Linker_endPosition  \n",
       "0      NaN    NaN                   NaN                 NaN  \n",
       "1      NaN    NaN                   NaN                 NaN  \n",
       "2      NaN    NaN                   NaN                 NaN  \n",
       "3      NaN    NaN                   NaN                 NaN  \n",
       "4      NaN    NaN                   NaN                 NaN  "
      ]
     },
     "execution_count": 69,
     "metadata": {},
     "output_type": "execute_result"
    }
   ],
   "source": [
    "dom_linker.head()"
   ]
  },
  {
   "cell_type": "code",
   "execution_count": 73,
   "metadata": {},
   "outputs": [],
   "source": [
    "seq_dom_rcl_linker_tp=pd.merge(seq_dom_rcl_tp,dom_linker,on='DomainID',how='left')"
   ]
  },
  {
   "cell_type": "code",
   "execution_count": 74,
   "metadata": {},
   "outputs": [
    {
     "data": {
      "text/html": [
       "<div>\n",
       "<style scoped>\n",
       "    .dataframe tbody tr th:only-of-type {\n",
       "        vertical-align: middle;\n",
       "    }\n",
       "\n",
       "    .dataframe tbody tr th {\n",
       "        vertical-align: top;\n",
       "    }\n",
       "\n",
       "    .dataframe thead th {\n",
       "        text-align: right;\n",
       "    }\n",
       "</style>\n",
       "<table border=\"1\" class=\"dataframe\">\n",
       "  <thead>\n",
       "    <tr style=\"text-align: right;\">\n",
       "      <th></th>\n",
       "      <th>id</th>\n",
       "      <th>FastaSeqID</th>\n",
       "      <th>Fasta</th>\n",
       "      <th>fastaLength</th>\n",
       "      <th>DomainID</th>\n",
       "      <th>domain</th>\n",
       "      <th>startDPosition</th>\n",
       "      <th>endDPosition</th>\n",
       "      <th>RclID</th>\n",
       "      <th>Rcl</th>\n",
       "      <th>...</th>\n",
       "      <th>RclStartPosition</th>\n",
       "      <th>RclEndPosition</th>\n",
       "      <th>tpID</th>\n",
       "      <th>TargetProtease</th>\n",
       "      <th>Domain</th>\n",
       "      <th>DomainType</th>\n",
       "      <th>linkerID</th>\n",
       "      <th>Linker</th>\n",
       "      <th>Linker_startPosition</th>\n",
       "      <th>Linker_endPosition</th>\n",
       "    </tr>\n",
       "  </thead>\n",
       "  <tbody>\n",
       "  </tbody>\n",
       "</table>\n",
       "<p>0 rows × 22 columns</p>\n",
       "</div>"
      ],
      "text/plain": [
       "Empty DataFrame\n",
       "Columns: [id, FastaSeqID, Fasta, fastaLength, DomainID, domain, startDPosition, endDPosition, RclID, Rcl, startRPosition, endRPosition, RclStartPosition, RclEndPosition, tpID, TargetProtease, Domain, DomainType, linkerID, Linker, Linker_startPosition, Linker_endPosition]\n",
       "Index: []\n",
       "\n",
       "[0 rows x 22 columns]"
      ]
     },
     "execution_count": 74,
     "metadata": {},
     "output_type": "execute_result"
    }
   ],
   "source": [
    "seq_dom_rcl_linker_tp.loc[seq_dom_rcl_linker_tp.domain!=seq_dom_rcl_linker_tp.Domain,:]"
   ]
  },
  {
   "cell_type": "code",
   "execution_count": 162,
   "metadata": {},
   "outputs": [
    {
     "data": {
      "text/plain": [
       "id                             1289\n",
       "FastaID                        1289\n",
       "Fasta                          1289\n",
       "fastaLength                    1289\n",
       "DomainID                       1289\n",
       "DomainType                     1289\n",
       "domain                         1289\n",
       "startDPosition                 1289\n",
       "endDPosition                   1289\n",
       "RclID                          1289\n",
       "Rcl                            1289\n",
       "startRPosition                 1289\n",
       "endRPosition                   1289\n",
       "RclStartPosition               1289\n",
       "RclEndPosition                 1289\n",
       "linkerID                       1013\n",
       "Linker                         1013\n",
       "LinkerStartPositionInDomain    1013\n",
       "LinkerEndPositionInDomain      1013\n",
       "tpID                           1289\n",
       "TargetProtease                 1289\n",
       "dtype: int64"
      ]
     },
     "execution_count": 162,
     "metadata": {},
     "output_type": "execute_result"
    }
   ],
   "source": [
    "seq_dom_rcl_linker_tp.count()"
   ]
  },
  {
   "cell_type": "code",
   "execution_count": 168,
   "metadata": {},
   "outputs": [
    {
     "data": {
      "text/plain": [
       "2    256\n",
       "1    238\n",
       "3    200\n",
       "Name: DomainType, dtype: int64"
      ]
     },
     "execution_count": 168,
     "metadata": {},
     "output_type": "execute_result"
    }
   ],
   "source": [
    "seq_dom_rcl_linker_tp[['DomainID','DomainType']].drop_duplicates().DomainType.value_counts()\n",
    "# The file dom_rcl_linker_tp.csv had 695 records with Type 3 Domain Type as 201 whereas here it is 200 i.e. means\n",
    "# one Domain Type 3 (without Linker) was not found in sequences"
   ]
  },
  {
   "cell_type": "code",
   "execution_count": 76,
   "metadata": {},
   "outputs": [
    {
     "data": {
      "text/plain": [
       "Index(['id', 'FastaSeqID', 'Fasta', 'fastaLength', 'DomainID', 'domain',\n",
       "       'startDPosition', 'endDPosition', 'RclID', 'Rcl', 'startRPosition',\n",
       "       'endRPosition', 'RclStartPosition', 'RclEndPosition', 'tpID',\n",
       "       'TargetProtease', 'Domain', 'DomainType', 'linkerID', 'Linker',\n",
       "       'Linker_startPosition', 'Linker_endPosition'],\n",
       "      dtype='object')"
      ]
     },
     "execution_count": 76,
     "metadata": {},
     "output_type": "execute_result"
    }
   ],
   "source": [
    "seq_dom_rcl_linker_tp.columns"
   ]
  },
  {
   "cell_type": "code",
   "execution_count": 77,
   "metadata": {},
   "outputs": [],
   "source": [
    "seq_dom_rcl_linker_tp=seq_dom_rcl_linker_tp[['id', 'FastaSeqID', 'Fasta', 'fastaLength', 'DomainID','DomainType','domain',\n",
    "       'startDPosition', 'endDPosition', 'RclID', 'Rcl', 'startRPosition',\n",
    "       'endRPosition', 'RclStartPosition', 'RclEndPosition','linkerID', 'Linker',\n",
    "       'Linker_startPosition', 'Linker_endPosition','tpID','TargetProtease']]"
   ]
  },
  {
   "cell_type": "code",
   "execution_count": 78,
   "metadata": {},
   "outputs": [
    {
     "data": {
      "text/html": [
       "<div>\n",
       "<style scoped>\n",
       "    .dataframe tbody tr th:only-of-type {\n",
       "        vertical-align: middle;\n",
       "    }\n",
       "\n",
       "    .dataframe tbody tr th {\n",
       "        vertical-align: top;\n",
       "    }\n",
       "\n",
       "    .dataframe thead th {\n",
       "        text-align: right;\n",
       "    }\n",
       "</style>\n",
       "<table border=\"1\" class=\"dataframe\">\n",
       "  <thead>\n",
       "    <tr style=\"text-align: right;\">\n",
       "      <th></th>\n",
       "      <th>id</th>\n",
       "      <th>FastaSeqID</th>\n",
       "      <th>Fasta</th>\n",
       "      <th>fastaLength</th>\n",
       "      <th>DomainID</th>\n",
       "      <th>DomainType</th>\n",
       "      <th>domain</th>\n",
       "      <th>startDPosition</th>\n",
       "      <th>endDPosition</th>\n",
       "      <th>RclID</th>\n",
       "      <th>...</th>\n",
       "      <th>startRPosition</th>\n",
       "      <th>endRPosition</th>\n",
       "      <th>RclStartPosition</th>\n",
       "      <th>RclEndPosition</th>\n",
       "      <th>linkerID</th>\n",
       "      <th>Linker</th>\n",
       "      <th>Linker_startPosition</th>\n",
       "      <th>Linker_endPosition</th>\n",
       "      <th>tpID</th>\n",
       "      <th>TargetProtease</th>\n",
       "    </tr>\n",
       "  </thead>\n",
       "  <tbody>\n",
       "    <tr>\n",
       "      <th>0</th>\n",
       "      <td>163</td>\n",
       "      <td>K4D750</td>\n",
       "      <td>MAIHKVALLLLLGIILLVSNVEHTNAKARTEQCDPRIAFGICPHLQ...</td>\n",
       "      <td>360</td>\n",
       "      <td>IRD-1</td>\n",
       "      <td>3</td>\n",
       "      <td>QICINCCAGKKGCNYFSADGTFICEGESEYVSEVNDNLEKHCPRNC...</td>\n",
       "      <td>51</td>\n",
       "      <td>108</td>\n",
       "      <td>RL-1</td>\n",
       "      <td>...</td>\n",
       "      <td>41</td>\n",
       "      <td>45</td>\n",
       "      <td>91</td>\n",
       "      <td>95</td>\n",
       "      <td>NaN</td>\n",
       "      <td>NaN</td>\n",
       "      <td>NaN</td>\n",
       "      <td>NaN</td>\n",
       "      <td>TP-1</td>\n",
       "      <td>Trypsin</td>\n",
       "    </tr>\n",
       "    <tr>\n",
       "      <th>1</th>\n",
       "      <td>132</td>\n",
       "      <td>E9JGT0</td>\n",
       "      <td>MAIYKVALLLLFGMIVLGSNADGKPCTRECDTRIAYGICPLSETKR...</td>\n",
       "      <td>155</td>\n",
       "      <td>IRD-3</td>\n",
       "      <td>3</td>\n",
       "      <td>QICTNCCAGKKGCMYFSNDGTFICEGESEYVSEVPVDNKPCPRNCD...</td>\n",
       "      <td>48</td>\n",
       "      <td>104</td>\n",
       "      <td>RL-1</td>\n",
       "      <td>...</td>\n",
       "      <td>40</td>\n",
       "      <td>44</td>\n",
       "      <td>87</td>\n",
       "      <td>91</td>\n",
       "      <td>NaN</td>\n",
       "      <td>NaN</td>\n",
       "      <td>NaN</td>\n",
       "      <td>NaN</td>\n",
       "      <td>TP-1</td>\n",
       "      <td>Trypsin</td>\n",
       "    </tr>\n",
       "    <tr>\n",
       "      <th>2</th>\n",
       "      <td>34</td>\n",
       "      <td>Q7M222</td>\n",
       "      <td>MAFNKVALLILFAIFAGTVLLLSEVDAANACPRNCNPSIQYGRCPK...</td>\n",
       "      <td>146</td>\n",
       "      <td>IRD-4</td>\n",
       "      <td>3</td>\n",
       "      <td>VGCTNCCSGTEGCNYYSANGTFICEGQTKKTIDETNKACPRNCNPR...</td>\n",
       "      <td>53</td>\n",
       "      <td>107</td>\n",
       "      <td>RL-1</td>\n",
       "      <td>...</td>\n",
       "      <td>38</td>\n",
       "      <td>42</td>\n",
       "      <td>90</td>\n",
       "      <td>94</td>\n",
       "      <td>NaN</td>\n",
       "      <td>NaN</td>\n",
       "      <td>NaN</td>\n",
       "      <td>NaN</td>\n",
       "      <td>TP-1</td>\n",
       "      <td>Trypsin</td>\n",
       "    </tr>\n",
       "    <tr>\n",
       "      <th>3</th>\n",
       "      <td>79</td>\n",
       "      <td>A0A1S4BIG0</td>\n",
       "      <td>MAVHKAGFLSLLLLFGIFLLLSELEYADAKACTRNCNPRIRYGRCP...</td>\n",
       "      <td>168</td>\n",
       "      <td>IRD-5</td>\n",
       "      <td>3</td>\n",
       "      <td>LGCTNCCAGSLGCNYYSANGTFICEGESEIKVETIETEVETMVEPN...</td>\n",
       "      <td>54</td>\n",
       "      <td>113</td>\n",
       "      <td>RL-1</td>\n",
       "      <td>...</td>\n",
       "      <td>48</td>\n",
       "      <td>52</td>\n",
       "      <td>101</td>\n",
       "      <td>105</td>\n",
       "      <td>NaN</td>\n",
       "      <td>NaN</td>\n",
       "      <td>NaN</td>\n",
       "      <td>NaN</td>\n",
       "      <td>TP-1</td>\n",
       "      <td>Trypsin</td>\n",
       "    </tr>\n",
       "    <tr>\n",
       "      <th>4</th>\n",
       "      <td>75</td>\n",
       "      <td>A0A1S3Z2Q3</td>\n",
       "      <td>MAVHKVGFLSLLLLFGTFLLLSEVDYADAKACTRNCNPRIRYGRCP...</td>\n",
       "      <td>294</td>\n",
       "      <td>IRD-6</td>\n",
       "      <td>3</td>\n",
       "      <td>VGCTNCCAAKKGCNYFSANGTFVCEGETETKVETIETEVETMVELN...</td>\n",
       "      <td>132</td>\n",
       "      <td>191</td>\n",
       "      <td>RL-5</td>\n",
       "      <td>...</td>\n",
       "      <td>48</td>\n",
       "      <td>52</td>\n",
       "      <td>179</td>\n",
       "      <td>183</td>\n",
       "      <td>NaN</td>\n",
       "      <td>NaN</td>\n",
       "      <td>NaN</td>\n",
       "      <td>NaN</td>\n",
       "      <td>TP-2</td>\n",
       "      <td>Chymotrypsin</td>\n",
       "    </tr>\n",
       "  </tbody>\n",
       "</table>\n",
       "<p>5 rows × 21 columns</p>\n",
       "</div>"
      ],
      "text/plain": [
       "    id  FastaSeqID                                              Fasta  \\\n",
       "0  163      K4D750  MAIHKVALLLLLGIILLVSNVEHTNAKARTEQCDPRIAFGICPHLQ...   \n",
       "1  132      E9JGT0  MAIYKVALLLLFGMIVLGSNADGKPCTRECDTRIAYGICPLSETKR...   \n",
       "2   34      Q7M222  MAFNKVALLILFAIFAGTVLLLSEVDAANACPRNCNPSIQYGRCPK...   \n",
       "3   79  A0A1S4BIG0  MAVHKAGFLSLLLLFGIFLLLSELEYADAKACTRNCNPRIRYGRCP...   \n",
       "4   75  A0A1S3Z2Q3  MAVHKVGFLSLLLLFGTFLLLSEVDYADAKACTRNCNPRIRYGRCP...   \n",
       "\n",
       "   fastaLength DomainID  DomainType  \\\n",
       "0          360    IRD-1           3   \n",
       "1          155    IRD-3           3   \n",
       "2          146    IRD-4           3   \n",
       "3          168    IRD-5           3   \n",
       "4          294    IRD-6           3   \n",
       "\n",
       "                                              domain  startDPosition  \\\n",
       "0  QICINCCAGKKGCNYFSADGTFICEGESEYVSEVNDNLEKHCPRNC...              51   \n",
       "1  QICTNCCAGKKGCMYFSNDGTFICEGESEYVSEVPVDNKPCPRNCD...              48   \n",
       "2  VGCTNCCSGTEGCNYYSANGTFICEGQTKKTIDETNKACPRNCNPR...              53   \n",
       "3  LGCTNCCAGSLGCNYYSANGTFICEGESEIKVETIETEVETMVEPN...              54   \n",
       "4  VGCTNCCAAKKGCNYFSANGTFVCEGETETKVETIETEVETMVELN...             132   \n",
       "\n",
       "   endDPosition RclID  ... startRPosition  endRPosition  RclStartPosition  \\\n",
       "0           108  RL-1  ...             41            45                91   \n",
       "1           104  RL-1  ...             40            44                87   \n",
       "2           107  RL-1  ...             38            42                90   \n",
       "3           113  RL-1  ...             48            52               101   \n",
       "4           191  RL-5  ...             48            52               179   \n",
       "\n",
       "   RclEndPosition  linkerID Linker Linker_startPosition  Linker_endPosition  \\\n",
       "0              95       NaN    NaN                  NaN                 NaN   \n",
       "1              91       NaN    NaN                  NaN                 NaN   \n",
       "2              94       NaN    NaN                  NaN                 NaN   \n",
       "3             105       NaN    NaN                  NaN                 NaN   \n",
       "4             183       NaN    NaN                  NaN                 NaN   \n",
       "\n",
       "   tpID TargetProtease  \n",
       "0  TP-1        Trypsin  \n",
       "1  TP-1        Trypsin  \n",
       "2  TP-1        Trypsin  \n",
       "3  TP-1        Trypsin  \n",
       "4  TP-2   Chymotrypsin  \n",
       "\n",
       "[5 rows x 21 columns]"
      ]
     },
     "execution_count": 78,
     "metadata": {},
     "output_type": "execute_result"
    }
   ],
   "source": [
    "seq_dom_rcl_linker_tp.head()"
   ]
  },
  {
   "cell_type": "code",
   "execution_count": 79,
   "metadata": {},
   "outputs": [],
   "source": [
    "seq_dom_rcl_linker_tp.rename(columns={'Linker_startPosition':'LinkerStartPositionInDomain','Linker_endPosition':'LinkerEndPositionInDomain'},inplace=True)"
   ]
  },
  {
   "cell_type": "code",
   "execution_count": 80,
   "metadata": {},
   "outputs": [
    {
     "data": {
      "text/html": [
       "<div>\n",
       "<style scoped>\n",
       "    .dataframe tbody tr th:only-of-type {\n",
       "        vertical-align: middle;\n",
       "    }\n",
       "\n",
       "    .dataframe tbody tr th {\n",
       "        vertical-align: top;\n",
       "    }\n",
       "\n",
       "    .dataframe thead th {\n",
       "        text-align: right;\n",
       "    }\n",
       "</style>\n",
       "<table border=\"1\" class=\"dataframe\">\n",
       "  <thead>\n",
       "    <tr style=\"text-align: right;\">\n",
       "      <th></th>\n",
       "      <th>id</th>\n",
       "      <th>FastaSeqID</th>\n",
       "      <th>Fasta</th>\n",
       "      <th>fastaLength</th>\n",
       "      <th>DomainID</th>\n",
       "      <th>DomainType</th>\n",
       "      <th>domain</th>\n",
       "      <th>startDPosition</th>\n",
       "      <th>endDPosition</th>\n",
       "      <th>RclID</th>\n",
       "      <th>...</th>\n",
       "      <th>startRPosition</th>\n",
       "      <th>endRPosition</th>\n",
       "      <th>RclStartPosition</th>\n",
       "      <th>RclEndPosition</th>\n",
       "      <th>linkerID</th>\n",
       "      <th>Linker</th>\n",
       "      <th>LinkerStartPositionInDomain</th>\n",
       "      <th>LinkerEndPositionInDomain</th>\n",
       "      <th>tpID</th>\n",
       "      <th>TargetProtease</th>\n",
       "    </tr>\n",
       "  </thead>\n",
       "  <tbody>\n",
       "    <tr>\n",
       "      <th>0</th>\n",
       "      <td>163</td>\n",
       "      <td>K4D750</td>\n",
       "      <td>MAIHKVALLLLLGIILLVSNVEHTNAKARTEQCDPRIAFGICPHLQ...</td>\n",
       "      <td>360</td>\n",
       "      <td>IRD-1</td>\n",
       "      <td>3</td>\n",
       "      <td>QICINCCAGKKGCNYFSADGTFICEGESEYVSEVNDNLEKHCPRNC...</td>\n",
       "      <td>51</td>\n",
       "      <td>108</td>\n",
       "      <td>RL-1</td>\n",
       "      <td>...</td>\n",
       "      <td>41</td>\n",
       "      <td>45</td>\n",
       "      <td>91</td>\n",
       "      <td>95</td>\n",
       "      <td>NaN</td>\n",
       "      <td>NaN</td>\n",
       "      <td>NaN</td>\n",
       "      <td>NaN</td>\n",
       "      <td>TP-1</td>\n",
       "      <td>Trypsin</td>\n",
       "    </tr>\n",
       "  </tbody>\n",
       "</table>\n",
       "<p>1 rows × 21 columns</p>\n",
       "</div>"
      ],
      "text/plain": [
       "    id FastaSeqID                                              Fasta  \\\n",
       "0  163     K4D750  MAIHKVALLLLLGIILLVSNVEHTNAKARTEQCDPRIAFGICPHLQ...   \n",
       "\n",
       "   fastaLength DomainID  DomainType  \\\n",
       "0          360    IRD-1           3   \n",
       "\n",
       "                                              domain  startDPosition  \\\n",
       "0  QICINCCAGKKGCNYFSADGTFICEGESEYVSEVNDNLEKHCPRNC...              51   \n",
       "\n",
       "   endDPosition RclID  ... startRPosition  endRPosition  RclStartPosition  \\\n",
       "0           108  RL-1  ...             41            45                91   \n",
       "\n",
       "   RclEndPosition  linkerID Linker LinkerStartPositionInDomain  \\\n",
       "0              95       NaN    NaN                         NaN   \n",
       "\n",
       "   LinkerEndPositionInDomain  tpID TargetProtease  \n",
       "0                        NaN  TP-1        Trypsin  \n",
       "\n",
       "[1 rows x 21 columns]"
      ]
     },
     "execution_count": 80,
     "metadata": {},
     "output_type": "execute_result"
    }
   ],
   "source": [
    "seq_dom_rcl_linker_tp.head(1)"
   ]
  },
  {
   "cell_type": "code",
   "execution_count": 94,
   "metadata": {},
   "outputs": [],
   "source": [
    "#seq_dom_rcl_linker_tp.to_csv('PINIRV4/seq_dom_rcl_linker_tp.csv',index=False)## Creating a file with Seq->Dom->RCL->Linker->TP info"
   ]
  },
  {
   "cell_type": "markdown",
   "metadata": {},
   "source": [
    "# Adding Seq->Organism info from seq_details_with_organism_info.csv to seq_dom_rcl_linker_tp"
   ]
  },
  {
   "cell_type": "code",
   "execution_count": 4,
   "metadata": {},
   "outputs": [],
   "source": [
    "seq_with_org_info=pd.read_csv('PINIRV4/seq_details_with_organism_info.csv')#Reading the file with data about  relation with seq and Organism"
   ]
  },
  {
   "cell_type": "code",
   "execution_count": 5,
   "metadata": {},
   "outputs": [
    {
     "data": {
      "text/html": [
       "<div>\n",
       "<style scoped>\n",
       "    .dataframe tbody tr th:only-of-type {\n",
       "        vertical-align: middle;\n",
       "    }\n",
       "\n",
       "    .dataframe tbody tr th {\n",
       "        vertical-align: top;\n",
       "    }\n",
       "\n",
       "    .dataframe thead th {\n",
       "        text-align: right;\n",
       "    }\n",
       "</style>\n",
       "<table border=\"1\" class=\"dataframe\">\n",
       "  <thead>\n",
       "    <tr style=\"text-align: right;\">\n",
       "      <th></th>\n",
       "      <th>FastaID</th>\n",
       "      <th>DomainID</th>\n",
       "      <th>RclID</th>\n",
       "      <th>Rcl</th>\n",
       "      <th>tpID</th>\n",
       "      <th>TargetProtease</th>\n",
       "      <th>OrganismID</th>\n",
       "      <th>Organism</th>\n",
       "      <th>Length</th>\n",
       "      <th>Mass</th>\n",
       "    </tr>\n",
       "  </thead>\n",
       "  <tbody>\n",
       "    <tr>\n",
       "      <th>0</th>\n",
       "      <td>A0A022Q5A4</td>\n",
       "      <td>IRD-300</td>\n",
       "      <td>RL-27</td>\n",
       "      <td>CPLYC</td>\n",
       "      <td>TP-2</td>\n",
       "      <td>Chymotrypsin</td>\n",
       "      <td>4155</td>\n",
       "      <td>Erythranthe guttata (Yellow monkey flower) (Mi...</td>\n",
       "      <td>66</td>\n",
       "      <td>7094</td>\n",
       "    </tr>\n",
       "    <tr>\n",
       "      <th>1</th>\n",
       "      <td>A0A023UDB8</td>\n",
       "      <td>IRD-467</td>\n",
       "      <td>RL-9</td>\n",
       "      <td>CTLEC</td>\n",
       "      <td>TP-2</td>\n",
       "      <td>Chymotrypsin</td>\n",
       "      <td>4113</td>\n",
       "      <td>Solanum tuberosum (Potato)</td>\n",
       "      <td>154</td>\n",
       "      <td>16657</td>\n",
       "    </tr>\n",
       "    <tr>\n",
       "      <th>2</th>\n",
       "      <td>A0A023UDB8</td>\n",
       "      <td>IRD-240</td>\n",
       "      <td>RL-1</td>\n",
       "      <td>CPRNC</td>\n",
       "      <td>TP-1</td>\n",
       "      <td>Trypsin</td>\n",
       "      <td>4113</td>\n",
       "      <td>Solanum tuberosum (Potato)</td>\n",
       "      <td>154</td>\n",
       "      <td>16657</td>\n",
       "    </tr>\n",
       "    <tr>\n",
       "      <th>3</th>\n",
       "      <td>A0A023UDB8</td>\n",
       "      <td>IRD-237</td>\n",
       "      <td>RL-1</td>\n",
       "      <td>CPRNC</td>\n",
       "      <td>TP-1</td>\n",
       "      <td>Trypsin</td>\n",
       "      <td>4113</td>\n",
       "      <td>Solanum tuberosum (Potato)</td>\n",
       "      <td>154</td>\n",
       "      <td>16657</td>\n",
       "    </tr>\n",
       "    <tr>\n",
       "      <th>4</th>\n",
       "      <td>A0A023UDB8</td>\n",
       "      <td>IRD-489</td>\n",
       "      <td>RL-1</td>\n",
       "      <td>CPRNC</td>\n",
       "      <td>TP-1</td>\n",
       "      <td>Trypsin</td>\n",
       "      <td>4113</td>\n",
       "      <td>Solanum tuberosum (Potato)</td>\n",
       "      <td>154</td>\n",
       "      <td>16657</td>\n",
       "    </tr>\n",
       "  </tbody>\n",
       "</table>\n",
       "</div>"
      ],
      "text/plain": [
       "      FastaID DomainID  RclID    Rcl  tpID TargetProtease  OrganismID  \\\n",
       "0  A0A022Q5A4  IRD-300  RL-27  CPLYC  TP-2   Chymotrypsin        4155   \n",
       "1  A0A023UDB8  IRD-467   RL-9  CTLEC  TP-2   Chymotrypsin        4113   \n",
       "2  A0A023UDB8  IRD-240   RL-1  CPRNC  TP-1        Trypsin        4113   \n",
       "3  A0A023UDB8  IRD-237   RL-1  CPRNC  TP-1        Trypsin        4113   \n",
       "4  A0A023UDB8  IRD-489   RL-1  CPRNC  TP-1        Trypsin        4113   \n",
       "\n",
       "                                            Organism  Length   Mass  \n",
       "0  Erythranthe guttata (Yellow monkey flower) (Mi...      66   7094  \n",
       "1                         Solanum tuberosum (Potato)     154  16657  \n",
       "2                         Solanum tuberosum (Potato)     154  16657  \n",
       "3                         Solanum tuberosum (Potato)     154  16657  \n",
       "4                         Solanum tuberosum (Potato)     154  16657  "
      ]
     },
     "execution_count": 5,
     "metadata": {},
     "output_type": "execute_result"
    }
   ],
   "source": [
    "seq_with_org_info.head()"
   ]
  },
  {
   "cell_type": "code",
   "execution_count": 6,
   "metadata": {},
   "outputs": [],
   "source": [
    "seq_org_details=seq_with_org_info[['FastaID','OrganismID','Organism','Length','Mass']].drop_duplicates()"
   ]
  },
  {
   "cell_type": "code",
   "execution_count": 7,
   "metadata": {},
   "outputs": [
    {
     "data": {
      "text/html": [
       "<div>\n",
       "<style scoped>\n",
       "    .dataframe tbody tr th:only-of-type {\n",
       "        vertical-align: middle;\n",
       "    }\n",
       "\n",
       "    .dataframe tbody tr th {\n",
       "        vertical-align: top;\n",
       "    }\n",
       "\n",
       "    .dataframe thead th {\n",
       "        text-align: right;\n",
       "    }\n",
       "</style>\n",
       "<table border=\"1\" class=\"dataframe\">\n",
       "  <thead>\n",
       "    <tr style=\"text-align: right;\">\n",
       "      <th></th>\n",
       "      <th>FastaID</th>\n",
       "      <th>OrganismID</th>\n",
       "      <th>Organism</th>\n",
       "      <th>Length</th>\n",
       "      <th>Mass</th>\n",
       "    </tr>\n",
       "  </thead>\n",
       "  <tbody>\n",
       "    <tr>\n",
       "      <th>0</th>\n",
       "      <td>A0A022Q5A4</td>\n",
       "      <td>4155</td>\n",
       "      <td>Erythranthe guttata (Yellow monkey flower) (Mi...</td>\n",
       "      <td>66</td>\n",
       "      <td>7094</td>\n",
       "    </tr>\n",
       "    <tr>\n",
       "      <th>1</th>\n",
       "      <td>A0A023UDB8</td>\n",
       "      <td>4113</td>\n",
       "      <td>Solanum tuberosum (Potato)</td>\n",
       "      <td>154</td>\n",
       "      <td>16657</td>\n",
       "    </tr>\n",
       "    <tr>\n",
       "      <th>5</th>\n",
       "      <td>A0A059BUH3</td>\n",
       "      <td>71139</td>\n",
       "      <td>Eucalyptus grandis (Flooded gum)</td>\n",
       "      <td>80</td>\n",
       "      <td>8212</td>\n",
       "    </tr>\n",
       "    <tr>\n",
       "      <th>6</th>\n",
       "      <td>A0A059PYZ4</td>\n",
       "      <td>131158</td>\n",
       "      <td>Saccharum hybrid cultivar R570</td>\n",
       "      <td>83</td>\n",
       "      <td>9123</td>\n",
       "    </tr>\n",
       "    <tr>\n",
       "      <th>7</th>\n",
       "      <td>A0A059Q2U6</td>\n",
       "      <td>131158</td>\n",
       "      <td>Saccharum hybrid cultivar R570</td>\n",
       "      <td>66</td>\n",
       "      <td>7077</td>\n",
       "    </tr>\n",
       "  </tbody>\n",
       "</table>\n",
       "</div>"
      ],
      "text/plain": [
       "      FastaID  OrganismID                                           Organism  \\\n",
       "0  A0A022Q5A4        4155  Erythranthe guttata (Yellow monkey flower) (Mi...   \n",
       "1  A0A023UDB8        4113                         Solanum tuberosum (Potato)   \n",
       "5  A0A059BUH3       71139                   Eucalyptus grandis (Flooded gum)   \n",
       "6  A0A059PYZ4      131158                     Saccharum hybrid cultivar R570   \n",
       "7  A0A059Q2U6      131158                     Saccharum hybrid cultivar R570   \n",
       "\n",
       "   Length   Mass  \n",
       "0      66   7094  \n",
       "1     154  16657  \n",
       "5      80   8212  \n",
       "6      83   9123  \n",
       "7      66   7077  "
      ]
     },
     "execution_count": 7,
     "metadata": {},
     "output_type": "execute_result"
    }
   ],
   "source": [
    "seq_org_details.head()"
   ]
  },
  {
   "cell_type": "code",
   "execution_count": 8,
   "metadata": {},
   "outputs": [],
   "source": [
    "seq_dom_rcl_linker_tp=pd.read_csv('PINIRV4/seq_dom_rcl_linker_tp.csv')"
   ]
  },
  {
   "cell_type": "code",
   "execution_count": 9,
   "metadata": {},
   "outputs": [
    {
     "data": {
      "text/html": [
       "<div>\n",
       "<style scoped>\n",
       "    .dataframe tbody tr th:only-of-type {\n",
       "        vertical-align: middle;\n",
       "    }\n",
       "\n",
       "    .dataframe tbody tr th {\n",
       "        vertical-align: top;\n",
       "    }\n",
       "\n",
       "    .dataframe thead th {\n",
       "        text-align: right;\n",
       "    }\n",
       "</style>\n",
       "<table border=\"1\" class=\"dataframe\">\n",
       "  <thead>\n",
       "    <tr style=\"text-align: right;\">\n",
       "      <th></th>\n",
       "      <th>id</th>\n",
       "      <th>FastaSeqID</th>\n",
       "      <th>Fasta</th>\n",
       "      <th>fastaLength</th>\n",
       "      <th>DomainID</th>\n",
       "      <th>DomainType</th>\n",
       "      <th>domain</th>\n",
       "      <th>startDPosition</th>\n",
       "      <th>endDPosition</th>\n",
       "      <th>RclID</th>\n",
       "      <th>...</th>\n",
       "      <th>startRPosition</th>\n",
       "      <th>endRPosition</th>\n",
       "      <th>RclStartPosition</th>\n",
       "      <th>RclEndPosition</th>\n",
       "      <th>linkerID</th>\n",
       "      <th>Linker</th>\n",
       "      <th>LinkerStartPositionInDomain</th>\n",
       "      <th>LinkerEndPositionInDomain</th>\n",
       "      <th>tpID</th>\n",
       "      <th>TargetProtease</th>\n",
       "    </tr>\n",
       "  </thead>\n",
       "  <tbody>\n",
       "    <tr>\n",
       "      <th>997</th>\n",
       "      <td>286</td>\n",
       "      <td>A0A022Q5A4</td>\n",
       "      <td>ILLVLESNAQYASAKVCPLYCIINQGIYMTCPSSGSQKLEPVCNCC...</td>\n",
       "      <td>66</td>\n",
       "      <td>IRD-300</td>\n",
       "      <td>3</td>\n",
       "      <td>KVCPLYCIINQGIYMTCPSSGSQKLEPVCNCCLAKTGCKLYRDNGT...</td>\n",
       "      <td>14</td>\n",
       "      <td>64</td>\n",
       "      <td>RL-27</td>\n",
       "      <td>...</td>\n",
       "      <td>2</td>\n",
       "      <td>6</td>\n",
       "      <td>15</td>\n",
       "      <td>19</td>\n",
       "      <td>NaN</td>\n",
       "      <td>NaN</td>\n",
       "      <td>NaN</td>\n",
       "      <td>NaN</td>\n",
       "      <td>TP-2</td>\n",
       "      <td>Chymotrypsin</td>\n",
       "    </tr>\n",
       "    <tr>\n",
       "      <th>1101</th>\n",
       "      <td>195</td>\n",
       "      <td>A0A023UDB8</td>\n",
       "      <td>MAVHKEVNFVAYLLIVLGLLVLVSAMEHVDAKACTLECGNLGFGIC...</td>\n",
       "      <td>154</td>\n",
       "      <td>IRD-467</td>\n",
       "      <td>2</td>\n",
       "      <td>KACTLECGNLGFGICPRSEGSPENRICTNCCAGYKGCNYYSANGAF...</td>\n",
       "      <td>31</td>\n",
       "      <td>80</td>\n",
       "      <td>RL-9</td>\n",
       "      <td>...</td>\n",
       "      <td>2</td>\n",
       "      <td>6</td>\n",
       "      <td>32</td>\n",
       "      <td>36</td>\n",
       "      <td>L-47</td>\n",
       "      <td>EGSPE</td>\n",
       "      <td>18.0</td>\n",
       "      <td>22.0</td>\n",
       "      <td>TP-2</td>\n",
       "      <td>Chymotrypsin</td>\n",
       "    </tr>\n",
       "    <tr>\n",
       "      <th>977</th>\n",
       "      <td>195</td>\n",
       "      <td>A0A023UDB8</td>\n",
       "      <td>MAVHKEVNFVAYLLIVLGLLVLVSAMEHVDAKACTLECGNLGFGIC...</td>\n",
       "      <td>154</td>\n",
       "      <td>IRD-240</td>\n",
       "      <td>1</td>\n",
       "      <td>RICTNCCAGYKGCNYYSANGAFICEGESDPKNPNVCPRNCDTNIAY...</td>\n",
       "      <td>55</td>\n",
       "      <td>105</td>\n",
       "      <td>RL-1</td>\n",
       "      <td>...</td>\n",
       "      <td>35</td>\n",
       "      <td>39</td>\n",
       "      <td>89</td>\n",
       "      <td>93</td>\n",
       "      <td>L-3</td>\n",
       "      <td>DPKNP</td>\n",
       "      <td>28.0</td>\n",
       "      <td>32.0</td>\n",
       "      <td>TP-1</td>\n",
       "      <td>Trypsin</td>\n",
       "    </tr>\n",
       "    <tr>\n",
       "      <th>975</th>\n",
       "      <td>195</td>\n",
       "      <td>A0A023UDB8</td>\n",
       "      <td>MAVHKEVNFVAYLLIVLGLLVLVSAMEHVDAKACTLECGNLGFGIC...</td>\n",
       "      <td>154</td>\n",
       "      <td>IRD-237</td>\n",
       "      <td>1</td>\n",
       "      <td>RICTNCCAGYKGCNYYSANGAFICEGESDPKNPNVCPRNCDTNIAY...</td>\n",
       "      <td>55</td>\n",
       "      <td>106</td>\n",
       "      <td>RL-1</td>\n",
       "      <td>...</td>\n",
       "      <td>35</td>\n",
       "      <td>39</td>\n",
       "      <td>89</td>\n",
       "      <td>93</td>\n",
       "      <td>L-3</td>\n",
       "      <td>DPKNP</td>\n",
       "      <td>28.0</td>\n",
       "      <td>32.0</td>\n",
       "      <td>TP-1</td>\n",
       "      <td>Trypsin</td>\n",
       "    </tr>\n",
       "    <tr>\n",
       "      <th>1114</th>\n",
       "      <td>195</td>\n",
       "      <td>A0A023UDB8</td>\n",
       "      <td>MAVHKEVNFVAYLLIVLGLLVLVSAMEHVDAKACTLECGNLGFGIC...</td>\n",
       "      <td>154</td>\n",
       "      <td>IRD-489</td>\n",
       "      <td>3</td>\n",
       "      <td>NVCPRNCDTNIAYSKCLRSEGKSLIYPTGCTTCCTGYKGCYYFGKN...</td>\n",
       "      <td>88</td>\n",
       "      <td>140</td>\n",
       "      <td>RL-1</td>\n",
       "      <td>...</td>\n",
       "      <td>2</td>\n",
       "      <td>6</td>\n",
       "      <td>89</td>\n",
       "      <td>93</td>\n",
       "      <td>NaN</td>\n",
       "      <td>NaN</td>\n",
       "      <td>NaN</td>\n",
       "      <td>NaN</td>\n",
       "      <td>TP-1</td>\n",
       "      <td>Trypsin</td>\n",
       "    </tr>\n",
       "  </tbody>\n",
       "</table>\n",
       "<p>5 rows × 21 columns</p>\n",
       "</div>"
      ],
      "text/plain": [
       "       id  FastaSeqID                                              Fasta  \\\n",
       "997   286  A0A022Q5A4  ILLVLESNAQYASAKVCPLYCIINQGIYMTCPSSGSQKLEPVCNCC...   \n",
       "1101  195  A0A023UDB8  MAVHKEVNFVAYLLIVLGLLVLVSAMEHVDAKACTLECGNLGFGIC...   \n",
       "977   195  A0A023UDB8  MAVHKEVNFVAYLLIVLGLLVLVSAMEHVDAKACTLECGNLGFGIC...   \n",
       "975   195  A0A023UDB8  MAVHKEVNFVAYLLIVLGLLVLVSAMEHVDAKACTLECGNLGFGIC...   \n",
       "1114  195  A0A023UDB8  MAVHKEVNFVAYLLIVLGLLVLVSAMEHVDAKACTLECGNLGFGIC...   \n",
       "\n",
       "      fastaLength DomainID  DomainType  \\\n",
       "997            66  IRD-300           3   \n",
       "1101          154  IRD-467           2   \n",
       "977           154  IRD-240           1   \n",
       "975           154  IRD-237           1   \n",
       "1114          154  IRD-489           3   \n",
       "\n",
       "                                                 domain  startDPosition  \\\n",
       "997   KVCPLYCIINQGIYMTCPSSGSQKLEPVCNCCLAKTGCKLYRDNGT...              14   \n",
       "1101  KACTLECGNLGFGICPRSEGSPENRICTNCCAGYKGCNYYSANGAF...              31   \n",
       "977   RICTNCCAGYKGCNYYSANGAFICEGESDPKNPNVCPRNCDTNIAY...              55   \n",
       "975   RICTNCCAGYKGCNYYSANGAFICEGESDPKNPNVCPRNCDTNIAY...              55   \n",
       "1114  NVCPRNCDTNIAYSKCLRSEGKSLIYPTGCTTCCTGYKGCYYFGKN...              88   \n",
       "\n",
       "      endDPosition  RclID  ... startRPosition  endRPosition  RclStartPosition  \\\n",
       "997             64  RL-27  ...              2             6                15   \n",
       "1101            80   RL-9  ...              2             6                32   \n",
       "977            105   RL-1  ...             35            39                89   \n",
       "975            106   RL-1  ...             35            39                89   \n",
       "1114           140   RL-1  ...              2             6                89   \n",
       "\n",
       "      RclEndPosition  linkerID Linker LinkerStartPositionInDomain  \\\n",
       "997               19       NaN    NaN                         NaN   \n",
       "1101              36      L-47  EGSPE                        18.0   \n",
       "977               93       L-3  DPKNP                        28.0   \n",
       "975               93       L-3  DPKNP                        28.0   \n",
       "1114              93       NaN    NaN                         NaN   \n",
       "\n",
       "      LinkerEndPositionInDomain  tpID TargetProtease  \n",
       "997                         NaN  TP-2   Chymotrypsin  \n",
       "1101                       22.0  TP-2   Chymotrypsin  \n",
       "977                        32.0  TP-1        Trypsin  \n",
       "975                        32.0  TP-1        Trypsin  \n",
       "1114                        NaN  TP-1        Trypsin  \n",
       "\n",
       "[5 rows x 21 columns]"
      ]
     },
     "execution_count": 9,
     "metadata": {},
     "output_type": "execute_result"
    }
   ],
   "source": [
    "seq_dom_rcl_linker_tp.sort_values(by='FastaSeqID').head()"
   ]
  },
  {
   "cell_type": "code",
   "execution_count": 10,
   "metadata": {},
   "outputs": [],
   "source": [
    "seq_dom_rcl_linker_tp.rename(columns={'FastaSeqID':'FastaID'},inplace=True)"
   ]
  },
  {
   "cell_type": "code",
   "execution_count": 11,
   "metadata": {},
   "outputs": [
    {
     "data": {
      "text/html": [
       "<div>\n",
       "<style scoped>\n",
       "    .dataframe tbody tr th:only-of-type {\n",
       "        vertical-align: middle;\n",
       "    }\n",
       "\n",
       "    .dataframe tbody tr th {\n",
       "        vertical-align: top;\n",
       "    }\n",
       "\n",
       "    .dataframe thead th {\n",
       "        text-align: right;\n",
       "    }\n",
       "</style>\n",
       "<table border=\"1\" class=\"dataframe\">\n",
       "  <thead>\n",
       "    <tr style=\"text-align: right;\">\n",
       "      <th></th>\n",
       "      <th>id</th>\n",
       "      <th>FastaID</th>\n",
       "      <th>Fasta</th>\n",
       "      <th>fastaLength</th>\n",
       "      <th>DomainID</th>\n",
       "      <th>DomainType</th>\n",
       "      <th>domain</th>\n",
       "      <th>startDPosition</th>\n",
       "      <th>endDPosition</th>\n",
       "      <th>RclID</th>\n",
       "      <th>...</th>\n",
       "      <th>startRPosition</th>\n",
       "      <th>endRPosition</th>\n",
       "      <th>RclStartPosition</th>\n",
       "      <th>RclEndPosition</th>\n",
       "      <th>linkerID</th>\n",
       "      <th>Linker</th>\n",
       "      <th>LinkerStartPositionInDomain</th>\n",
       "      <th>LinkerEndPositionInDomain</th>\n",
       "      <th>tpID</th>\n",
       "      <th>TargetProtease</th>\n",
       "    </tr>\n",
       "  </thead>\n",
       "  <tbody>\n",
       "    <tr>\n",
       "      <th>997</th>\n",
       "      <td>286</td>\n",
       "      <td>A0A022Q5A4</td>\n",
       "      <td>ILLVLESNAQYASAKVCPLYCIINQGIYMTCPSSGSQKLEPVCNCC...</td>\n",
       "      <td>66</td>\n",
       "      <td>IRD-300</td>\n",
       "      <td>3</td>\n",
       "      <td>KVCPLYCIINQGIYMTCPSSGSQKLEPVCNCCLAKTGCKLYRDNGT...</td>\n",
       "      <td>14</td>\n",
       "      <td>64</td>\n",
       "      <td>RL-27</td>\n",
       "      <td>...</td>\n",
       "      <td>2</td>\n",
       "      <td>6</td>\n",
       "      <td>15</td>\n",
       "      <td>19</td>\n",
       "      <td>NaN</td>\n",
       "      <td>NaN</td>\n",
       "      <td>NaN</td>\n",
       "      <td>NaN</td>\n",
       "      <td>TP-2</td>\n",
       "      <td>Chymotrypsin</td>\n",
       "    </tr>\n",
       "    <tr>\n",
       "      <th>1101</th>\n",
       "      <td>195</td>\n",
       "      <td>A0A023UDB8</td>\n",
       "      <td>MAVHKEVNFVAYLLIVLGLLVLVSAMEHVDAKACTLECGNLGFGIC...</td>\n",
       "      <td>154</td>\n",
       "      <td>IRD-467</td>\n",
       "      <td>2</td>\n",
       "      <td>KACTLECGNLGFGICPRSEGSPENRICTNCCAGYKGCNYYSANGAF...</td>\n",
       "      <td>31</td>\n",
       "      <td>80</td>\n",
       "      <td>RL-9</td>\n",
       "      <td>...</td>\n",
       "      <td>2</td>\n",
       "      <td>6</td>\n",
       "      <td>32</td>\n",
       "      <td>36</td>\n",
       "      <td>L-47</td>\n",
       "      <td>EGSPE</td>\n",
       "      <td>18.0</td>\n",
       "      <td>22.0</td>\n",
       "      <td>TP-2</td>\n",
       "      <td>Chymotrypsin</td>\n",
       "    </tr>\n",
       "  </tbody>\n",
       "</table>\n",
       "<p>2 rows × 21 columns</p>\n",
       "</div>"
      ],
      "text/plain": [
       "       id     FastaID                                              Fasta  \\\n",
       "997   286  A0A022Q5A4  ILLVLESNAQYASAKVCPLYCIINQGIYMTCPSSGSQKLEPVCNCC...   \n",
       "1101  195  A0A023UDB8  MAVHKEVNFVAYLLIVLGLLVLVSAMEHVDAKACTLECGNLGFGIC...   \n",
       "\n",
       "      fastaLength DomainID  DomainType  \\\n",
       "997            66  IRD-300           3   \n",
       "1101          154  IRD-467           2   \n",
       "\n",
       "                                                 domain  startDPosition  \\\n",
       "997   KVCPLYCIINQGIYMTCPSSGSQKLEPVCNCCLAKTGCKLYRDNGT...              14   \n",
       "1101  KACTLECGNLGFGICPRSEGSPENRICTNCCAGYKGCNYYSANGAF...              31   \n",
       "\n",
       "      endDPosition  RclID  ... startRPosition  endRPosition  RclStartPosition  \\\n",
       "997             64  RL-27  ...              2             6                15   \n",
       "1101            80   RL-9  ...              2             6                32   \n",
       "\n",
       "      RclEndPosition  linkerID Linker LinkerStartPositionInDomain  \\\n",
       "997               19       NaN    NaN                         NaN   \n",
       "1101              36      L-47  EGSPE                        18.0   \n",
       "\n",
       "      LinkerEndPositionInDomain  tpID TargetProtease  \n",
       "997                         NaN  TP-2   Chymotrypsin  \n",
       "1101                       22.0  TP-2   Chymotrypsin  \n",
       "\n",
       "[2 rows x 21 columns]"
      ]
     },
     "execution_count": 11,
     "metadata": {},
     "output_type": "execute_result"
    }
   ],
   "source": [
    "seq_dom_rcl_linker_tp.sort_values(by='FastaID').head(2)"
   ]
  },
  {
   "cell_type": "code",
   "execution_count": 12,
   "metadata": {},
   "outputs": [
    {
     "data": {
      "text/html": [
       "<div>\n",
       "<style scoped>\n",
       "    .dataframe tbody tr th:only-of-type {\n",
       "        vertical-align: middle;\n",
       "    }\n",
       "\n",
       "    .dataframe tbody tr th {\n",
       "        vertical-align: top;\n",
       "    }\n",
       "\n",
       "    .dataframe thead th {\n",
       "        text-align: right;\n",
       "    }\n",
       "</style>\n",
       "<table border=\"1\" class=\"dataframe\">\n",
       "  <thead>\n",
       "    <tr style=\"text-align: right;\">\n",
       "      <th></th>\n",
       "      <th>FastaID</th>\n",
       "      <th>OrganismID</th>\n",
       "      <th>Organism</th>\n",
       "      <th>Length</th>\n",
       "      <th>Mass</th>\n",
       "    </tr>\n",
       "  </thead>\n",
       "  <tbody>\n",
       "    <tr>\n",
       "      <th>0</th>\n",
       "      <td>A0A022Q5A4</td>\n",
       "      <td>4155</td>\n",
       "      <td>Erythranthe guttata (Yellow monkey flower) (Mi...</td>\n",
       "      <td>66</td>\n",
       "      <td>7094</td>\n",
       "    </tr>\n",
       "    <tr>\n",
       "      <th>1</th>\n",
       "      <td>A0A023UDB8</td>\n",
       "      <td>4113</td>\n",
       "      <td>Solanum tuberosum (Potato)</td>\n",
       "      <td>154</td>\n",
       "      <td>16657</td>\n",
       "    </tr>\n",
       "  </tbody>\n",
       "</table>\n",
       "</div>"
      ],
      "text/plain": [
       "      FastaID  OrganismID                                           Organism  \\\n",
       "0  A0A022Q5A4        4155  Erythranthe guttata (Yellow monkey flower) (Mi...   \n",
       "1  A0A023UDB8        4113                         Solanum tuberosum (Potato)   \n",
       "\n",
       "   Length   Mass  \n",
       "0      66   7094  \n",
       "1     154  16657  "
      ]
     },
     "execution_count": 12,
     "metadata": {},
     "output_type": "execute_result"
    }
   ],
   "source": [
    "seq_org_details.head(2)"
   ]
  },
  {
   "cell_type": "code",
   "execution_count": 13,
   "metadata": {},
   "outputs": [],
   "source": [
    "seq_org_dom_rcl_linker_tp=pd.merge(seq_dom_rcl_linker_tp,seq_org_details,on='FastaID',how='left')"
   ]
  },
  {
   "cell_type": "code",
   "execution_count": 14,
   "metadata": {},
   "outputs": [
    {
     "data": {
      "text/html": [
       "<div>\n",
       "<style scoped>\n",
       "    .dataframe tbody tr th:only-of-type {\n",
       "        vertical-align: middle;\n",
       "    }\n",
       "\n",
       "    .dataframe tbody tr th {\n",
       "        vertical-align: top;\n",
       "    }\n",
       "\n",
       "    .dataframe thead th {\n",
       "        text-align: right;\n",
       "    }\n",
       "</style>\n",
       "<table border=\"1\" class=\"dataframe\">\n",
       "  <thead>\n",
       "    <tr style=\"text-align: right;\">\n",
       "      <th></th>\n",
       "      <th>id</th>\n",
       "      <th>FastaID</th>\n",
       "      <th>Fasta</th>\n",
       "      <th>fastaLength</th>\n",
       "      <th>DomainID</th>\n",
       "      <th>DomainType</th>\n",
       "      <th>domain</th>\n",
       "      <th>startDPosition</th>\n",
       "      <th>endDPosition</th>\n",
       "      <th>RclID</th>\n",
       "      <th>...</th>\n",
       "      <th>linkerID</th>\n",
       "      <th>Linker</th>\n",
       "      <th>LinkerStartPositionInDomain</th>\n",
       "      <th>LinkerEndPositionInDomain</th>\n",
       "      <th>tpID</th>\n",
       "      <th>TargetProtease</th>\n",
       "      <th>OrganismID</th>\n",
       "      <th>Organism</th>\n",
       "      <th>Length</th>\n",
       "      <th>Mass</th>\n",
       "    </tr>\n",
       "  </thead>\n",
       "  <tbody>\n",
       "    <tr>\n",
       "      <th>0</th>\n",
       "      <td>163</td>\n",
       "      <td>K4D750</td>\n",
       "      <td>MAIHKVALLLLLGIILLVSNVEHTNAKARTEQCDPRIAFGICPHLQ...</td>\n",
       "      <td>360</td>\n",
       "      <td>IRD-1</td>\n",
       "      <td>3</td>\n",
       "      <td>QICINCCAGKKGCNYFSADGTFICEGESEYVSEVNDNLEKHCPRNC...</td>\n",
       "      <td>51</td>\n",
       "      <td>108</td>\n",
       "      <td>RL-1</td>\n",
       "      <td>...</td>\n",
       "      <td>NaN</td>\n",
       "      <td>NaN</td>\n",
       "      <td>NaN</td>\n",
       "      <td>NaN</td>\n",
       "      <td>TP-1</td>\n",
       "      <td>Trypsin</td>\n",
       "      <td>4081</td>\n",
       "      <td>Solanum lycopersicum (Tomato) (Lycopersicon es...</td>\n",
       "      <td>360</td>\n",
       "      <td>39280</td>\n",
       "    </tr>\n",
       "  </tbody>\n",
       "</table>\n",
       "<p>1 rows × 25 columns</p>\n",
       "</div>"
      ],
      "text/plain": [
       "    id FastaID                                              Fasta  \\\n",
       "0  163  K4D750  MAIHKVALLLLLGIILLVSNVEHTNAKARTEQCDPRIAFGICPHLQ...   \n",
       "\n",
       "   fastaLength DomainID  DomainType  \\\n",
       "0          360    IRD-1           3   \n",
       "\n",
       "                                              domain  startDPosition  \\\n",
       "0  QICINCCAGKKGCNYFSADGTFICEGESEYVSEVNDNLEKHCPRNC...              51   \n",
       "\n",
       "   endDPosition RclID  ... linkerID  Linker  LinkerStartPositionInDomain  \\\n",
       "0           108  RL-1  ...      NaN     NaN                          NaN   \n",
       "\n",
       "   LinkerEndPositionInDomain  tpID TargetProtease OrganismID  \\\n",
       "0                        NaN  TP-1        Trypsin       4081   \n",
       "\n",
       "                                            Organism  Length   Mass  \n",
       "0  Solanum lycopersicum (Tomato) (Lycopersicon es...     360  39280  \n",
       "\n",
       "[1 rows x 25 columns]"
      ]
     },
     "execution_count": 14,
     "metadata": {},
     "output_type": "execute_result"
    }
   ],
   "source": [
    "seq_org_dom_rcl_linker_tp.head(1)"
   ]
  },
  {
   "cell_type": "code",
   "execution_count": 15,
   "metadata": {},
   "outputs": [
    {
     "data": {
      "text/plain": [
       "Index(['id', 'FastaID', 'Fasta', 'fastaLength', 'DomainID', 'DomainType',\n",
       "       'domain', 'startDPosition', 'endDPosition', 'RclID', 'Rcl',\n",
       "       'startRPosition', 'endRPosition', 'RclStartPosition', 'RclEndPosition',\n",
       "       'linkerID', 'Linker', 'LinkerStartPositionInDomain',\n",
       "       'LinkerEndPositionInDomain', 'tpID', 'TargetProtease', 'OrganismID',\n",
       "       'Organism', 'Length', 'Mass'],\n",
       "      dtype='object')"
      ]
     },
     "execution_count": 15,
     "metadata": {},
     "output_type": "execute_result"
    }
   ],
   "source": [
    "seq_org_dom_rcl_linker_tp.columns"
   ]
  },
  {
   "cell_type": "code",
   "execution_count": 16,
   "metadata": {},
   "outputs": [
    {
     "data": {
      "text/html": [
       "<div>\n",
       "<style scoped>\n",
       "    .dataframe tbody tr th:only-of-type {\n",
       "        vertical-align: middle;\n",
       "    }\n",
       "\n",
       "    .dataframe tbody tr th {\n",
       "        vertical-align: top;\n",
       "    }\n",
       "\n",
       "    .dataframe thead th {\n",
       "        text-align: right;\n",
       "    }\n",
       "</style>\n",
       "<table border=\"1\" class=\"dataframe\">\n",
       "  <thead>\n",
       "    <tr style=\"text-align: right;\">\n",
       "      <th></th>\n",
       "      <th>FastaID</th>\n",
       "      <th>fastaLength</th>\n",
       "      <th>OrganismID</th>\n",
       "      <th>Length</th>\n",
       "      <th>Mass</th>\n",
       "    </tr>\n",
       "  </thead>\n",
       "  <tbody>\n",
       "    <tr>\n",
       "      <th>997</th>\n",
       "      <td>A0A022Q5A4</td>\n",
       "      <td>66</td>\n",
       "      <td>4155</td>\n",
       "      <td>66</td>\n",
       "      <td>7094</td>\n",
       "    </tr>\n",
       "    <tr>\n",
       "      <th>1101</th>\n",
       "      <td>A0A023UDB8</td>\n",
       "      <td>154</td>\n",
       "      <td>4113</td>\n",
       "      <td>154</td>\n",
       "      <td>16657</td>\n",
       "    </tr>\n",
       "    <tr>\n",
       "      <th>977</th>\n",
       "      <td>A0A023UDB8</td>\n",
       "      <td>154</td>\n",
       "      <td>4113</td>\n",
       "      <td>154</td>\n",
       "      <td>16657</td>\n",
       "    </tr>\n",
       "    <tr>\n",
       "      <th>975</th>\n",
       "      <td>A0A023UDB8</td>\n",
       "      <td>154</td>\n",
       "      <td>4113</td>\n",
       "      <td>154</td>\n",
       "      <td>16657</td>\n",
       "    </tr>\n",
       "    <tr>\n",
       "      <th>1114</th>\n",
       "      <td>A0A023UDB8</td>\n",
       "      <td>154</td>\n",
       "      <td>4113</td>\n",
       "      <td>154</td>\n",
       "      <td>16657</td>\n",
       "    </tr>\n",
       "  </tbody>\n",
       "</table>\n",
       "</div>"
      ],
      "text/plain": [
       "         FastaID  fastaLength  OrganismID  Length   Mass\n",
       "997   A0A022Q5A4           66        4155      66   7094\n",
       "1101  A0A023UDB8          154        4113     154  16657\n",
       "977   A0A023UDB8          154        4113     154  16657\n",
       "975   A0A023UDB8          154        4113     154  16657\n",
       "1114  A0A023UDB8          154        4113     154  16657"
      ]
     },
     "execution_count": 16,
     "metadata": {},
     "output_type": "execute_result"
    }
   ],
   "source": [
    "seq_org_dom_rcl_linker_tp[['FastaID','fastaLength','OrganismID','Length','Mass']].sort_values(by='FastaID').head()"
   ]
  },
  {
   "cell_type": "code",
   "execution_count": 17,
   "metadata": {},
   "outputs": [],
   "source": [
    "seq_org_dom_rcl_linker_tp=seq_org_dom_rcl_linker_tp[['id', 'FastaID', 'Fasta', 'Length', 'Mass', 'OrganismID',\n",
    "       'Organism', 'DomainID', 'DomainType','domain', 'startDPosition', 'endDPosition', 'RclID', 'Rcl',\n",
    "       'startRPosition', 'endRPosition', 'RclStartPosition', 'RclEndPosition',\n",
    "       'linkerID', 'Linker', 'LinkerStartPositionInDomain',\n",
    "       'LinkerEndPositionInDomain', 'tpID', 'TargetProtease']]"
   ]
  },
  {
   "cell_type": "code",
   "execution_count": 18,
   "metadata": {},
   "outputs": [
    {
     "data": {
      "text/html": [
       "<div>\n",
       "<style scoped>\n",
       "    .dataframe tbody tr th:only-of-type {\n",
       "        vertical-align: middle;\n",
       "    }\n",
       "\n",
       "    .dataframe tbody tr th {\n",
       "        vertical-align: top;\n",
       "    }\n",
       "\n",
       "    .dataframe thead th {\n",
       "        text-align: right;\n",
       "    }\n",
       "</style>\n",
       "<table border=\"1\" class=\"dataframe\">\n",
       "  <thead>\n",
       "    <tr style=\"text-align: right;\">\n",
       "      <th></th>\n",
       "      <th>id</th>\n",
       "      <th>FastaID</th>\n",
       "      <th>Fasta</th>\n",
       "      <th>Length</th>\n",
       "      <th>Mass</th>\n",
       "      <th>OrganismID</th>\n",
       "      <th>Organism</th>\n",
       "      <th>DomainID</th>\n",
       "      <th>DomainType</th>\n",
       "      <th>domain</th>\n",
       "      <th>...</th>\n",
       "      <th>startRPosition</th>\n",
       "      <th>endRPosition</th>\n",
       "      <th>RclStartPosition</th>\n",
       "      <th>RclEndPosition</th>\n",
       "      <th>linkerID</th>\n",
       "      <th>Linker</th>\n",
       "      <th>LinkerStartPositionInDomain</th>\n",
       "      <th>LinkerEndPositionInDomain</th>\n",
       "      <th>tpID</th>\n",
       "      <th>TargetProtease</th>\n",
       "    </tr>\n",
       "  </thead>\n",
       "  <tbody>\n",
       "    <tr>\n",
       "      <th>0</th>\n",
       "      <td>163</td>\n",
       "      <td>K4D750</td>\n",
       "      <td>MAIHKVALLLLLGIILLVSNVEHTNAKARTEQCDPRIAFGICPHLQ...</td>\n",
       "      <td>360</td>\n",
       "      <td>39280</td>\n",
       "      <td>4081</td>\n",
       "      <td>Solanum lycopersicum (Tomato) (Lycopersicon es...</td>\n",
       "      <td>IRD-1</td>\n",
       "      <td>3</td>\n",
       "      <td>QICINCCAGKKGCNYFSADGTFICEGESEYVSEVNDNLEKHCPRNC...</td>\n",
       "      <td>...</td>\n",
       "      <td>41</td>\n",
       "      <td>45</td>\n",
       "      <td>91</td>\n",
       "      <td>95</td>\n",
       "      <td>NaN</td>\n",
       "      <td>NaN</td>\n",
       "      <td>NaN</td>\n",
       "      <td>NaN</td>\n",
       "      <td>TP-1</td>\n",
       "      <td>Trypsin</td>\n",
       "    </tr>\n",
       "  </tbody>\n",
       "</table>\n",
       "<p>1 rows × 24 columns</p>\n",
       "</div>"
      ],
      "text/plain": [
       "    id FastaID                                              Fasta  Length  \\\n",
       "0  163  K4D750  MAIHKVALLLLLGIILLVSNVEHTNAKARTEQCDPRIAFGICPHLQ...     360   \n",
       "\n",
       "    Mass  OrganismID                                           Organism  \\\n",
       "0  39280        4081  Solanum lycopersicum (Tomato) (Lycopersicon es...   \n",
       "\n",
       "  DomainID  DomainType                                             domain  \\\n",
       "0    IRD-1           3  QICINCCAGKKGCNYFSADGTFICEGESEYVSEVNDNLEKHCPRNC...   \n",
       "\n",
       "   ...  startRPosition  endRPosition RclStartPosition RclEndPosition  \\\n",
       "0  ...              41            45               91             95   \n",
       "\n",
       "   linkerID  Linker  LinkerStartPositionInDomain  LinkerEndPositionInDomain  \\\n",
       "0       NaN     NaN                          NaN                        NaN   \n",
       "\n",
       "   tpID TargetProtease  \n",
       "0  TP-1        Trypsin  \n",
       "\n",
       "[1 rows x 24 columns]"
      ]
     },
     "execution_count": 18,
     "metadata": {},
     "output_type": "execute_result"
    }
   ],
   "source": [
    "seq_org_dom_rcl_linker_tp.head(1)"
   ]
  },
  {
   "cell_type": "code",
   "execution_count": 19,
   "metadata": {},
   "outputs": [],
   "source": [
    "#seq_org_dom_rcl_linker_tp.rename(columns={'FastaID':'UniprotID'},inplace=True)"
   ]
  },
  {
   "cell_type": "code",
   "execution_count": 20,
   "metadata": {},
   "outputs": [],
   "source": [
    "#seq_org_dom_rcl_linker_tp.rename(columns={'Fasta':'Sequence'},inplace=True)"
   ]
  },
  {
   "cell_type": "code",
   "execution_count": 21,
   "metadata": {},
   "outputs": [
    {
     "data": {
      "text/html": [
       "<div>\n",
       "<style scoped>\n",
       "    .dataframe tbody tr th:only-of-type {\n",
       "        vertical-align: middle;\n",
       "    }\n",
       "\n",
       "    .dataframe tbody tr th {\n",
       "        vertical-align: top;\n",
       "    }\n",
       "\n",
       "    .dataframe thead th {\n",
       "        text-align: right;\n",
       "    }\n",
       "</style>\n",
       "<table border=\"1\" class=\"dataframe\">\n",
       "  <thead>\n",
       "    <tr style=\"text-align: right;\">\n",
       "      <th></th>\n",
       "      <th>id</th>\n",
       "      <th>UniprotID</th>\n",
       "      <th>Sequence</th>\n",
       "      <th>Length</th>\n",
       "      <th>Mass</th>\n",
       "      <th>OrganismID</th>\n",
       "      <th>Organism</th>\n",
       "      <th>DomainID</th>\n",
       "      <th>DomainType</th>\n",
       "      <th>domain</th>\n",
       "      <th>...</th>\n",
       "      <th>startRPosition</th>\n",
       "      <th>endRPosition</th>\n",
       "      <th>RclStartPosition</th>\n",
       "      <th>RclEndPosition</th>\n",
       "      <th>linkerID</th>\n",
       "      <th>Linker</th>\n",
       "      <th>LinkerStartPositionInDomain</th>\n",
       "      <th>LinkerEndPositionInDomain</th>\n",
       "      <th>tpID</th>\n",
       "      <th>TargetProtease</th>\n",
       "    </tr>\n",
       "  </thead>\n",
       "  <tbody>\n",
       "    <tr>\n",
       "      <th>0</th>\n",
       "      <td>163</td>\n",
       "      <td>K4D750</td>\n",
       "      <td>MAIHKVALLLLLGIILLVSNVEHTNAKARTEQCDPRIAFGICPHLQ...</td>\n",
       "      <td>360</td>\n",
       "      <td>39280</td>\n",
       "      <td>4081</td>\n",
       "      <td>Solanum lycopersicum (Tomato) (Lycopersicon es...</td>\n",
       "      <td>IRD-1</td>\n",
       "      <td>3</td>\n",
       "      <td>QICINCCAGKKGCNYFSADGTFICEGESEYVSEVNDNLEKHCPRNC...</td>\n",
       "      <td>...</td>\n",
       "      <td>41</td>\n",
       "      <td>45</td>\n",
       "      <td>91</td>\n",
       "      <td>95</td>\n",
       "      <td>NaN</td>\n",
       "      <td>NaN</td>\n",
       "      <td>NaN</td>\n",
       "      <td>NaN</td>\n",
       "      <td>TP-1</td>\n",
       "      <td>Trypsin</td>\n",
       "    </tr>\n",
       "  </tbody>\n",
       "</table>\n",
       "<p>1 rows × 24 columns</p>\n",
       "</div>"
      ],
      "text/plain": [
       "    id UniprotID                                           Sequence  Length  \\\n",
       "0  163    K4D750  MAIHKVALLLLLGIILLVSNVEHTNAKARTEQCDPRIAFGICPHLQ...     360   \n",
       "\n",
       "    Mass  OrganismID                                           Organism  \\\n",
       "0  39280        4081  Solanum lycopersicum (Tomato) (Lycopersicon es...   \n",
       "\n",
       "  DomainID  DomainType                                             domain  \\\n",
       "0    IRD-1           3  QICINCCAGKKGCNYFSADGTFICEGESEYVSEVNDNLEKHCPRNC...   \n",
       "\n",
       "   ...  startRPosition  endRPosition RclStartPosition RclEndPosition  \\\n",
       "0  ...              41            45               91             95   \n",
       "\n",
       "   linkerID  Linker  LinkerStartPositionInDomain  LinkerEndPositionInDomain  \\\n",
       "0       NaN     NaN                          NaN                        NaN   \n",
       "\n",
       "   tpID TargetProtease  \n",
       "0  TP-1        Trypsin  \n",
       "\n",
       "[1 rows x 24 columns]"
      ]
     },
     "execution_count": 21,
     "metadata": {},
     "output_type": "execute_result"
    }
   ],
   "source": [
    "seq_org_dom_rcl_linker_tp.head(1)"
   ]
  },
  {
   "cell_type": "code",
   "execution_count": 22,
   "metadata": {},
   "outputs": [],
   "source": [
    "## Adding Solanacae, NON Solanacae info"
   ]
  },
  {
   "cell_type": "code",
   "execution_count": 28,
   "metadata": {},
   "outputs": [],
   "source": [
    "org1=pd.read_excel('PINIRV4//OrganismList.xlsx',usecols=['OrganismID','Solanaceae'])"
   ]
  },
  {
   "cell_type": "code",
   "execution_count": 29,
   "metadata": {},
   "outputs": [
    {
     "data": {
      "text/html": [
       "<div>\n",
       "<style scoped>\n",
       "    .dataframe tbody tr th:only-of-type {\n",
       "        vertical-align: middle;\n",
       "    }\n",
       "\n",
       "    .dataframe tbody tr th {\n",
       "        vertical-align: top;\n",
       "    }\n",
       "\n",
       "    .dataframe thead th {\n",
       "        text-align: right;\n",
       "    }\n",
       "</style>\n",
       "<table border=\"1\" class=\"dataframe\">\n",
       "  <thead>\n",
       "    <tr style=\"text-align: right;\">\n",
       "      <th></th>\n",
       "      <th>OrganismID</th>\n",
       "      <th>Solanaceae</th>\n",
       "    </tr>\n",
       "  </thead>\n",
       "  <tbody>\n",
       "    <tr>\n",
       "      <th>0</th>\n",
       "      <td>3476</td>\n",
       "      <td>0</td>\n",
       "    </tr>\n",
       "    <tr>\n",
       "      <th>1</th>\n",
       "      <td>3562</td>\n",
       "      <td>0</td>\n",
       "    </tr>\n",
       "  </tbody>\n",
       "</table>\n",
       "</div>"
      ],
      "text/plain": [
       "   OrganismID  Solanaceae\n",
       "0        3476           0\n",
       "1        3562           0"
      ]
     },
     "execution_count": 29,
     "metadata": {},
     "output_type": "execute_result"
    }
   ],
   "source": [
    "org1.head(2)"
   ]
  },
  {
   "cell_type": "code",
   "execution_count": 30,
   "metadata": {},
   "outputs": [
    {
     "data": {
      "text/plain": [
       "94"
      ]
     },
     "execution_count": 30,
     "metadata": {},
     "output_type": "execute_result"
    }
   ],
   "source": [
    "org1.OrganismID.count()"
   ]
  },
  {
   "cell_type": "code",
   "execution_count": 41,
   "metadata": {},
   "outputs": [
    {
     "data": {
      "text/plain": [
       "0    61\n",
       "1    33\n",
       "Name: Solanaceae, dtype: int64"
      ]
     },
     "execution_count": 41,
     "metadata": {},
     "output_type": "execute_result"
    }
   ],
   "source": [
    "org1.Solanaceae.value_counts()"
   ]
  },
  {
   "cell_type": "code",
   "execution_count": 31,
   "metadata": {},
   "outputs": [
    {
     "data": {
      "text/plain": [
       "92"
      ]
     },
     "execution_count": 31,
     "metadata": {},
     "output_type": "execute_result"
    }
   ],
   "source": [
    "seq_org_dom_rcl_linker_tp.OrganismID.nunique()"
   ]
  },
  {
   "cell_type": "code",
   "execution_count": 40,
   "metadata": {},
   "outputs": [
    {
     "data": {
      "text/plain": [
       "0    60\n",
       "1    32\n",
       "Name: Solanaceae, dtype: int64"
      ]
     },
     "execution_count": 40,
     "metadata": {},
     "output_type": "execute_result"
    }
   ],
   "source": [
    "pd.merge(seq_org_dom_rcl_linker_tp,org1,on='OrganismID',how='left')[['OrganismID','Solanaceae']].drop_duplicates().Solanaceae.value_counts()"
   ]
  },
  {
   "cell_type": "code",
   "execution_count": 45,
   "metadata": {},
   "outputs": [
    {
     "data": {
      "text/html": [
       "<div>\n",
       "<style scoped>\n",
       "    .dataframe tbody tr th:only-of-type {\n",
       "        vertical-align: middle;\n",
       "    }\n",
       "\n",
       "    .dataframe tbody tr th {\n",
       "        vertical-align: top;\n",
       "    }\n",
       "\n",
       "    .dataframe thead th {\n",
       "        text-align: right;\n",
       "    }\n",
       "</style>\n",
       "<table border=\"1\" class=\"dataframe\">\n",
       "  <thead>\n",
       "    <tr style=\"text-align: right;\">\n",
       "      <th></th>\n",
       "      <th>id</th>\n",
       "      <th>UniprotID</th>\n",
       "      <th>Sequence</th>\n",
       "      <th>Length</th>\n",
       "      <th>Mass</th>\n",
       "      <th>OrganismID</th>\n",
       "      <th>Organism</th>\n",
       "      <th>DomainID</th>\n",
       "      <th>DomainType</th>\n",
       "      <th>domain</th>\n",
       "      <th>...</th>\n",
       "      <th>endRPosition</th>\n",
       "      <th>RclStartPosition</th>\n",
       "      <th>RclEndPosition</th>\n",
       "      <th>linkerID</th>\n",
       "      <th>Linker</th>\n",
       "      <th>LinkerStartPositionInDomain</th>\n",
       "      <th>LinkerEndPositionInDomain</th>\n",
       "      <th>tpID</th>\n",
       "      <th>TargetProtease</th>\n",
       "      <th>Solanaceae</th>\n",
       "    </tr>\n",
       "  </thead>\n",
       "  <tbody>\n",
       "    <tr>\n",
       "      <th>0</th>\n",
       "      <td>163</td>\n",
       "      <td>K4D750</td>\n",
       "      <td>MAIHKVALLLLLGIILLVSNVEHTNAKARTEQCDPRIAFGICPHLQ...</td>\n",
       "      <td>360</td>\n",
       "      <td>39280</td>\n",
       "      <td>4081</td>\n",
       "      <td>Solanum lycopersicum (Tomato) (Lycopersicon es...</td>\n",
       "      <td>IRD-1</td>\n",
       "      <td>3</td>\n",
       "      <td>QICINCCAGKKGCNYFSADGTFICEGESEYVSEVNDNLEKHCPRNC...</td>\n",
       "      <td>...</td>\n",
       "      <td>45</td>\n",
       "      <td>91</td>\n",
       "      <td>95</td>\n",
       "      <td>NaN</td>\n",
       "      <td>NaN</td>\n",
       "      <td>NaN</td>\n",
       "      <td>NaN</td>\n",
       "      <td>TP-1</td>\n",
       "      <td>Trypsin</td>\n",
       "      <td>1</td>\n",
       "    </tr>\n",
       "  </tbody>\n",
       "</table>\n",
       "<p>1 rows × 25 columns</p>\n",
       "</div>"
      ],
      "text/plain": [
       "    id UniprotID                                           Sequence  Length  \\\n",
       "0  163    K4D750  MAIHKVALLLLLGIILLVSNVEHTNAKARTEQCDPRIAFGICPHLQ...     360   \n",
       "\n",
       "    Mass  OrganismID                                           Organism  \\\n",
       "0  39280        4081  Solanum lycopersicum (Tomato) (Lycopersicon es...   \n",
       "\n",
       "  DomainID  DomainType                                             domain  \\\n",
       "0    IRD-1           3  QICINCCAGKKGCNYFSADGTFICEGESEYVSEVNDNLEKHCPRNC...   \n",
       "\n",
       "   ...  endRPosition  RclStartPosition RclEndPosition linkerID  Linker  \\\n",
       "0  ...            45                91             95      NaN     NaN   \n",
       "\n",
       "   LinkerStartPositionInDomain  LinkerEndPositionInDomain  tpID  \\\n",
       "0                          NaN                        NaN  TP-1   \n",
       "\n",
       "  TargetProtease Solanaceae  \n",
       "0        Trypsin          1  \n",
       "\n",
       "[1 rows x 25 columns]"
      ]
     },
     "execution_count": 45,
     "metadata": {},
     "output_type": "execute_result"
    }
   ],
   "source": [
    "pd.merge(seq_org_dom_rcl_linker_tp,org1,on='OrganismID',how='left').head(1)"
   ]
  },
  {
   "cell_type": "code",
   "execution_count": 46,
   "metadata": {},
   "outputs": [],
   "source": [
    "seq_org_dom_rcl_linker_tp=pd.merge(seq_org_dom_rcl_linker_tp,org1,on='OrganismID',how='left')"
   ]
  },
  {
   "cell_type": "code",
   "execution_count": 47,
   "metadata": {},
   "outputs": [
    {
     "data": {
      "text/html": [
       "<div>\n",
       "<style scoped>\n",
       "    .dataframe tbody tr th:only-of-type {\n",
       "        vertical-align: middle;\n",
       "    }\n",
       "\n",
       "    .dataframe tbody tr th {\n",
       "        vertical-align: top;\n",
       "    }\n",
       "\n",
       "    .dataframe thead th {\n",
       "        text-align: right;\n",
       "    }\n",
       "</style>\n",
       "<table border=\"1\" class=\"dataframe\">\n",
       "  <thead>\n",
       "    <tr style=\"text-align: right;\">\n",
       "      <th></th>\n",
       "      <th>id</th>\n",
       "      <th>UniprotID</th>\n",
       "      <th>Sequence</th>\n",
       "      <th>Length</th>\n",
       "      <th>Mass</th>\n",
       "      <th>OrganismID</th>\n",
       "      <th>Organism</th>\n",
       "      <th>DomainID</th>\n",
       "      <th>DomainType</th>\n",
       "      <th>domain</th>\n",
       "      <th>...</th>\n",
       "      <th>endRPosition</th>\n",
       "      <th>RclStartPosition</th>\n",
       "      <th>RclEndPosition</th>\n",
       "      <th>linkerID</th>\n",
       "      <th>Linker</th>\n",
       "      <th>LinkerStartPositionInDomain</th>\n",
       "      <th>LinkerEndPositionInDomain</th>\n",
       "      <th>tpID</th>\n",
       "      <th>TargetProtease</th>\n",
       "      <th>Solanaceae</th>\n",
       "    </tr>\n",
       "  </thead>\n",
       "  <tbody>\n",
       "    <tr>\n",
       "      <th>0</th>\n",
       "      <td>163</td>\n",
       "      <td>K4D750</td>\n",
       "      <td>MAIHKVALLLLLGIILLVSNVEHTNAKARTEQCDPRIAFGICPHLQ...</td>\n",
       "      <td>360</td>\n",
       "      <td>39280</td>\n",
       "      <td>4081</td>\n",
       "      <td>Solanum lycopersicum (Tomato) (Lycopersicon es...</td>\n",
       "      <td>IRD-1</td>\n",
       "      <td>3</td>\n",
       "      <td>QICINCCAGKKGCNYFSADGTFICEGESEYVSEVNDNLEKHCPRNC...</td>\n",
       "      <td>...</td>\n",
       "      <td>45</td>\n",
       "      <td>91</td>\n",
       "      <td>95</td>\n",
       "      <td>NaN</td>\n",
       "      <td>NaN</td>\n",
       "      <td>NaN</td>\n",
       "      <td>NaN</td>\n",
       "      <td>TP-1</td>\n",
       "      <td>Trypsin</td>\n",
       "      <td>1</td>\n",
       "    </tr>\n",
       "  </tbody>\n",
       "</table>\n",
       "<p>1 rows × 25 columns</p>\n",
       "</div>"
      ],
      "text/plain": [
       "    id UniprotID                                           Sequence  Length  \\\n",
       "0  163    K4D750  MAIHKVALLLLLGIILLVSNVEHTNAKARTEQCDPRIAFGICPHLQ...     360   \n",
       "\n",
       "    Mass  OrganismID                                           Organism  \\\n",
       "0  39280        4081  Solanum lycopersicum (Tomato) (Lycopersicon es...   \n",
       "\n",
       "  DomainID  DomainType                                             domain  \\\n",
       "0    IRD-1           3  QICINCCAGKKGCNYFSADGTFICEGESEYVSEVNDNLEKHCPRNC...   \n",
       "\n",
       "   ...  endRPosition  RclStartPosition RclEndPosition linkerID  Linker  \\\n",
       "0  ...            45                91             95      NaN     NaN   \n",
       "\n",
       "   LinkerStartPositionInDomain  LinkerEndPositionInDomain  tpID  \\\n",
       "0                          NaN                        NaN  TP-1   \n",
       "\n",
       "  TargetProtease Solanaceae  \n",
       "0        Trypsin          1  \n",
       "\n",
       "[1 rows x 25 columns]"
      ]
     },
     "execution_count": 47,
     "metadata": {},
     "output_type": "execute_result"
    }
   ],
   "source": [
    "seq_org_dom_rcl_linker_tp.head(1)"
   ]
  },
  {
   "cell_type": "code",
   "execution_count": 48,
   "metadata": {},
   "outputs": [
    {
     "data": {
      "text/plain": [
       "Index(['id', 'UniprotID', 'Sequence', 'Length', 'Mass', 'OrganismID',\n",
       "       'Organism', 'DomainID', 'DomainType', 'domain', 'startDPosition',\n",
       "       'endDPosition', 'RclID', 'Rcl', 'startRPosition', 'endRPosition',\n",
       "       'RclStartPosition', 'RclEndPosition', 'linkerID', 'Linker',\n",
       "       'LinkerStartPositionInDomain', 'LinkerEndPositionInDomain', 'tpID',\n",
       "       'TargetProtease', 'Solanaceae'],\n",
       "      dtype='object')"
      ]
     },
     "execution_count": 48,
     "metadata": {},
     "output_type": "execute_result"
    }
   ],
   "source": [
    "seq_org_dom_rcl_linker_tp.columns"
   ]
  },
  {
   "cell_type": "code",
   "execution_count": 49,
   "metadata": {},
   "outputs": [],
   "source": [
    "seq_org_dom_rcl_linker_tp=seq_org_dom_rcl_linker_tp[['id', 'UniprotID', 'Sequence', 'Length', 'Mass', 'OrganismID',\n",
    "       'Organism', 'Solanaceae', 'DomainID', 'DomainType', 'domain', 'startDPosition',\n",
    "       'endDPosition', 'RclID', 'Rcl', 'startRPosition', 'endRPosition',\n",
    "       'RclStartPosition', 'RclEndPosition', 'linkerID', 'Linker',\n",
    "       'LinkerStartPositionInDomain', 'LinkerEndPositionInDomain', 'tpID',\n",
    "       'TargetProtease']]"
   ]
  },
  {
   "cell_type": "code",
   "execution_count": 51,
   "metadata": {},
   "outputs": [
    {
     "data": {
      "text/html": [
       "<div>\n",
       "<style scoped>\n",
       "    .dataframe tbody tr th:only-of-type {\n",
       "        vertical-align: middle;\n",
       "    }\n",
       "\n",
       "    .dataframe tbody tr th {\n",
       "        vertical-align: top;\n",
       "    }\n",
       "\n",
       "    .dataframe thead th {\n",
       "        text-align: right;\n",
       "    }\n",
       "</style>\n",
       "<table border=\"1\" class=\"dataframe\">\n",
       "  <thead>\n",
       "    <tr style=\"text-align: right;\">\n",
       "      <th></th>\n",
       "      <th>id</th>\n",
       "      <th>UniprotID</th>\n",
       "      <th>Sequence</th>\n",
       "      <th>Length</th>\n",
       "      <th>Mass</th>\n",
       "      <th>OrganismID</th>\n",
       "      <th>Organism</th>\n",
       "      <th>Solanaceae</th>\n",
       "      <th>DomainID</th>\n",
       "      <th>DomainType</th>\n",
       "      <th>...</th>\n",
       "      <th>startRPosition</th>\n",
       "      <th>endRPosition</th>\n",
       "      <th>RclStartPosition</th>\n",
       "      <th>RclEndPosition</th>\n",
       "      <th>linkerID</th>\n",
       "      <th>Linker</th>\n",
       "      <th>LinkerStartPositionInDomain</th>\n",
       "      <th>LinkerEndPositionInDomain</th>\n",
       "      <th>tpID</th>\n",
       "      <th>TargetProtease</th>\n",
       "    </tr>\n",
       "  </thead>\n",
       "  <tbody>\n",
       "    <tr>\n",
       "      <th>0</th>\n",
       "      <td>163</td>\n",
       "      <td>K4D750</td>\n",
       "      <td>MAIHKVALLLLLGIILLVSNVEHTNAKARTEQCDPRIAFGICPHLQ...</td>\n",
       "      <td>360</td>\n",
       "      <td>39280</td>\n",
       "      <td>4081</td>\n",
       "      <td>Solanum lycopersicum (Tomato) (Lycopersicon es...</td>\n",
       "      <td>1</td>\n",
       "      <td>IRD-1</td>\n",
       "      <td>3</td>\n",
       "      <td>...</td>\n",
       "      <td>41</td>\n",
       "      <td>45</td>\n",
       "      <td>91</td>\n",
       "      <td>95</td>\n",
       "      <td>NaN</td>\n",
       "      <td>NaN</td>\n",
       "      <td>NaN</td>\n",
       "      <td>NaN</td>\n",
       "      <td>TP-1</td>\n",
       "      <td>Trypsin</td>\n",
       "    </tr>\n",
       "  </tbody>\n",
       "</table>\n",
       "<p>1 rows × 25 columns</p>\n",
       "</div>"
      ],
      "text/plain": [
       "    id UniprotID                                           Sequence  Length  \\\n",
       "0  163    K4D750  MAIHKVALLLLLGIILLVSNVEHTNAKARTEQCDPRIAFGICPHLQ...     360   \n",
       "\n",
       "    Mass  OrganismID                                           Organism  \\\n",
       "0  39280        4081  Solanum lycopersicum (Tomato) (Lycopersicon es...   \n",
       "\n",
       "   Solanaceae DomainID  DomainType  ... startRPosition  endRPosition  \\\n",
       "0           1    IRD-1           3  ...             41            45   \n",
       "\n",
       "   RclStartPosition RclEndPosition linkerID  Linker  \\\n",
       "0                91             95      NaN     NaN   \n",
       "\n",
       "   LinkerStartPositionInDomain  LinkerEndPositionInDomain  tpID TargetProtease  \n",
       "0                          NaN                        NaN  TP-1        Trypsin  \n",
       "\n",
       "[1 rows x 25 columns]"
      ]
     },
     "execution_count": 51,
     "metadata": {},
     "output_type": "execute_result"
    }
   ],
   "source": [
    "seq_org_dom_rcl_linker_tp.head(1)"
   ]
  },
  {
   "cell_type": "code",
   "execution_count": 98,
   "metadata": {},
   "outputs": [
    {
     "data": {
      "text/plain": [
       "1289"
      ]
     },
     "execution_count": 98,
     "metadata": {},
     "output_type": "execute_result"
    }
   ],
   "source": [
    "seq_org_dom_rcl_linker_tp.id.count()"
   ]
  },
  {
   "cell_type": "code",
   "execution_count": 101,
   "metadata": {},
   "outputs": [
    {
     "data": {
      "text/plain": [
       "75"
      ]
     },
     "execution_count": 101,
     "metadata": {},
     "output_type": "execute_result"
    }
   ],
   "source": [
    "seq_org_dom_rcl_linker_tp.linkerID.nunique()"
   ]
  },
  {
   "cell_type": "code",
   "execution_count": null,
   "metadata": {},
   "outputs": [],
   "source": [
    "## Adding Linker Type information"
   ]
  },
  {
   "cell_type": "code",
   "execution_count": 96,
   "metadata": {},
   "outputs": [],
   "source": [
    "linker=pd.read_csv('PINIRV4/Linkers.csv')"
   ]
  },
  {
   "cell_type": "code",
   "execution_count": 97,
   "metadata": {},
   "outputs": [
    {
     "data": {
      "text/html": [
       "<div>\n",
       "<style scoped>\n",
       "    .dataframe tbody tr th:only-of-type {\n",
       "        vertical-align: middle;\n",
       "    }\n",
       "\n",
       "    .dataframe tbody tr th {\n",
       "        vertical-align: top;\n",
       "    }\n",
       "\n",
       "    .dataframe thead th {\n",
       "        text-align: right;\n",
       "    }\n",
       "</style>\n",
       "<table border=\"1\" class=\"dataframe\">\n",
       "  <thead>\n",
       "    <tr style=\"text-align: right;\">\n",
       "      <th></th>\n",
       "      <th>id</th>\n",
       "      <th>linkerID</th>\n",
       "      <th>linker</th>\n",
       "      <th>type</th>\n",
       "    </tr>\n",
       "  </thead>\n",
       "  <tbody>\n",
       "    <tr>\n",
       "      <th>0</th>\n",
       "      <td>1</td>\n",
       "      <td>L-1</td>\n",
       "      <td>DPRNP</td>\n",
       "      <td>1</td>\n",
       "    </tr>\n",
       "    <tr>\n",
       "      <th>1</th>\n",
       "      <td>2</td>\n",
       "      <td>L-2</td>\n",
       "      <td>GPKNP</td>\n",
       "      <td>1</td>\n",
       "    </tr>\n",
       "    <tr>\n",
       "      <th>2</th>\n",
       "      <td>3</td>\n",
       "      <td>L-3</td>\n",
       "      <td>DPKNP</td>\n",
       "      <td>1</td>\n",
       "    </tr>\n",
       "    <tr>\n",
       "      <th>3</th>\n",
       "      <td>4</td>\n",
       "      <td>L-4</td>\n",
       "      <td>DPRNS</td>\n",
       "      <td>1</td>\n",
       "    </tr>\n",
       "    <tr>\n",
       "      <th>4</th>\n",
       "      <td>5</td>\n",
       "      <td>L-5</td>\n",
       "      <td>DPNNP</td>\n",
       "      <td>1</td>\n",
       "    </tr>\n",
       "  </tbody>\n",
       "</table>\n",
       "</div>"
      ],
      "text/plain": [
       "   id linkerID linker  type\n",
       "0   1      L-1  DPRNP     1\n",
       "1   2      L-2  GPKNP     1\n",
       "2   3      L-3  DPKNP     1\n",
       "3   4      L-4  DPRNS     1\n",
       "4   5      L-5  DPNNP     1"
      ]
     },
     "execution_count": 97,
     "metadata": {},
     "output_type": "execute_result"
    }
   ],
   "source": [
    "linker.head()"
   ]
  },
  {
   "cell_type": "code",
   "execution_count": 99,
   "metadata": {},
   "outputs": [
    {
     "data": {
      "text/plain": [
       "78"
      ]
     },
     "execution_count": 99,
     "metadata": {},
     "output_type": "execute_result"
    }
   ],
   "source": [
    "linker.id.count()"
   ]
  },
  {
   "cell_type": "code",
   "execution_count": 102,
   "metadata": {},
   "outputs": [],
   "source": [
    "linker=linker[['linkerID','type']]"
   ]
  },
  {
   "cell_type": "code",
   "execution_count": 106,
   "metadata": {},
   "outputs": [
    {
     "data": {
      "text/plain": [
       "75"
      ]
     },
     "execution_count": 106,
     "metadata": {},
     "output_type": "execute_result"
    }
   ],
   "source": [
    "pd.merge(seq_org_dom_rcl_linker_tp,linker,on='linkerID',how='left').linkerID.nunique()"
   ]
  },
  {
   "cell_type": "code",
   "execution_count": 110,
   "metadata": {},
   "outputs": [],
   "source": [
    "seq_org_dom_rcl_linker_tp=pd.merge(seq_org_dom_rcl_linker_tp,linker,on='linkerID',how='left')"
   ]
  },
  {
   "cell_type": "code",
   "execution_count": 112,
   "metadata": {},
   "outputs": [
    {
     "data": {
      "text/html": [
       "<div>\n",
       "<style scoped>\n",
       "    .dataframe tbody tr th:only-of-type {\n",
       "        vertical-align: middle;\n",
       "    }\n",
       "\n",
       "    .dataframe tbody tr th {\n",
       "        vertical-align: top;\n",
       "    }\n",
       "\n",
       "    .dataframe thead th {\n",
       "        text-align: right;\n",
       "    }\n",
       "</style>\n",
       "<table border=\"1\" class=\"dataframe\">\n",
       "  <thead>\n",
       "    <tr style=\"text-align: right;\">\n",
       "      <th></th>\n",
       "      <th>id</th>\n",
       "      <th>UniprotID</th>\n",
       "      <th>Sequence</th>\n",
       "      <th>Length</th>\n",
       "      <th>Mass</th>\n",
       "      <th>OrganismID</th>\n",
       "      <th>Organism</th>\n",
       "      <th>Solanaceae</th>\n",
       "      <th>DomainID</th>\n",
       "      <th>DomainType</th>\n",
       "      <th>...</th>\n",
       "      <th>endRPosition</th>\n",
       "      <th>RclStartPosition</th>\n",
       "      <th>RclEndPosition</th>\n",
       "      <th>linkerID</th>\n",
       "      <th>Linker</th>\n",
       "      <th>LinkerStartPositionInDomain</th>\n",
       "      <th>LinkerEndPositionInDomain</th>\n",
       "      <th>tpID</th>\n",
       "      <th>TargetProtease</th>\n",
       "      <th>type</th>\n",
       "    </tr>\n",
       "  </thead>\n",
       "  <tbody>\n",
       "    <tr>\n",
       "      <th>0</th>\n",
       "      <td>163</td>\n",
       "      <td>K4D750</td>\n",
       "      <td>MAIHKVALLLLLGIILLVSNVEHTNAKARTEQCDPRIAFGICPHLQ...</td>\n",
       "      <td>360</td>\n",
       "      <td>39280</td>\n",
       "      <td>4081</td>\n",
       "      <td>Solanum lycopersicum (Tomato) (Lycopersicon es...</td>\n",
       "      <td>1</td>\n",
       "      <td>IRD-1</td>\n",
       "      <td>3</td>\n",
       "      <td>...</td>\n",
       "      <td>45</td>\n",
       "      <td>91</td>\n",
       "      <td>95</td>\n",
       "      <td>NaN</td>\n",
       "      <td>NaN</td>\n",
       "      <td>NaN</td>\n",
       "      <td>NaN</td>\n",
       "      <td>TP-1</td>\n",
       "      <td>Trypsin</td>\n",
       "      <td>NaN</td>\n",
       "    </tr>\n",
       "    <tr>\n",
       "      <th>1</th>\n",
       "      <td>132</td>\n",
       "      <td>E9JGT0</td>\n",
       "      <td>MAIYKVALLLLFGMIVLGSNADGKPCTRECDTRIAYGICPLSETKR...</td>\n",
       "      <td>155</td>\n",
       "      <td>16978</td>\n",
       "      <td>4112</td>\n",
       "      <td>Solanum nigrum (Black nightshade)</td>\n",
       "      <td>1</td>\n",
       "      <td>IRD-3</td>\n",
       "      <td>3</td>\n",
       "      <td>...</td>\n",
       "      <td>44</td>\n",
       "      <td>87</td>\n",
       "      <td>91</td>\n",
       "      <td>NaN</td>\n",
       "      <td>NaN</td>\n",
       "      <td>NaN</td>\n",
       "      <td>NaN</td>\n",
       "      <td>TP-1</td>\n",
       "      <td>Trypsin</td>\n",
       "      <td>NaN</td>\n",
       "    </tr>\n",
       "  </tbody>\n",
       "</table>\n",
       "<p>2 rows × 26 columns</p>\n",
       "</div>"
      ],
      "text/plain": [
       "    id UniprotID                                           Sequence  Length  \\\n",
       "0  163    K4D750  MAIHKVALLLLLGIILLVSNVEHTNAKARTEQCDPRIAFGICPHLQ...     360   \n",
       "1  132    E9JGT0  MAIYKVALLLLFGMIVLGSNADGKPCTRECDTRIAYGICPLSETKR...     155   \n",
       "\n",
       "    Mass  OrganismID                                           Organism  \\\n",
       "0  39280        4081  Solanum lycopersicum (Tomato) (Lycopersicon es...   \n",
       "1  16978        4112                  Solanum nigrum (Black nightshade)   \n",
       "\n",
       "   Solanaceae DomainID  DomainType  ... endRPosition  RclStartPosition  \\\n",
       "0           1    IRD-1           3  ...           45                91   \n",
       "1           1    IRD-3           3  ...           44                87   \n",
       "\n",
       "   RclEndPosition linkerID Linker  LinkerStartPositionInDomain  \\\n",
       "0              95      NaN    NaN                          NaN   \n",
       "1              91      NaN    NaN                          NaN   \n",
       "\n",
       "   LinkerEndPositionInDomain  tpID  TargetProtease type  \n",
       "0                        NaN  TP-1         Trypsin  NaN  \n",
       "1                        NaN  TP-1         Trypsin  NaN  \n",
       "\n",
       "[2 rows x 26 columns]"
      ]
     },
     "execution_count": 112,
     "metadata": {},
     "output_type": "execute_result"
    }
   ],
   "source": [
    "seq_org_dom_rcl_linker_tp.head(2)"
   ]
  },
  {
   "cell_type": "code",
   "execution_count": 114,
   "metadata": {},
   "outputs": [],
   "source": [
    "#seq_org_dom_rcl_linker_tp.rename(columns={'type':'LinkerType'},inplace=True)"
   ]
  },
  {
   "cell_type": "code",
   "execution_count": 120,
   "metadata": {},
   "outputs": [
    {
     "data": {
      "text/html": [
       "<div>\n",
       "<style scoped>\n",
       "    .dataframe tbody tr th:only-of-type {\n",
       "        vertical-align: middle;\n",
       "    }\n",
       "\n",
       "    .dataframe tbody tr th {\n",
       "        vertical-align: top;\n",
       "    }\n",
       "\n",
       "    .dataframe thead th {\n",
       "        text-align: right;\n",
       "    }\n",
       "</style>\n",
       "<table border=\"1\" class=\"dataframe\">\n",
       "  <thead>\n",
       "    <tr style=\"text-align: right;\">\n",
       "      <th></th>\n",
       "      <th>DomainID</th>\n",
       "      <th>DomainType</th>\n",
       "      <th>linkerID</th>\n",
       "      <th>LinkerType</th>\n",
       "    </tr>\n",
       "  </thead>\n",
       "  <tbody>\n",
       "    <tr>\n",
       "      <th>16</th>\n",
       "      <td>IRD-19</td>\n",
       "      <td>1</td>\n",
       "      <td>L-58</td>\n",
       "      <td>2.0</td>\n",
       "    </tr>\n",
       "    <tr>\n",
       "      <th>433</th>\n",
       "      <td>IRD-454</td>\n",
       "      <td>2</td>\n",
       "      <td>L-1</td>\n",
       "      <td>1.0</td>\n",
       "    </tr>\n",
       "  </tbody>\n",
       "</table>\n",
       "</div>"
      ],
      "text/plain": [
       "    DomainID  DomainType linkerID  LinkerType\n",
       "16    IRD-19           1     L-58         2.0\n",
       "433  IRD-454           2      L-1         1.0"
      ]
     },
     "execution_count": 120,
     "metadata": {},
     "output_type": "execute_result"
    }
   ],
   "source": [
    "seq_org_dom_rcl_linker_tp[['DomainID','DomainType','linkerID','LinkerType']].loc[~seq_org_dom_rcl_linker_tp.LinkerType.isna(),:].loc[seq_org_dom_rcl_linker_tp.DomainType!=seq_org_dom_rcl_linker_tp.LinkerType,:]"
   ]
  },
  {
   "cell_type": "code",
   "execution_count": 121,
   "metadata": {},
   "outputs": [],
   "source": [
    "## Cross Verifying it with dom_rcl_linker_tp.csv"
   ]
  },
  {
   "cell_type": "code",
   "execution_count": 122,
   "metadata": {},
   "outputs": [],
   "source": [
    "dom_rcl_linker_tp=pd.read_csv('PINIRV4/dom_rcl_linker_tp.csv')"
   ]
  },
  {
   "cell_type": "code",
   "execution_count": 127,
   "metadata": {},
   "outputs": [
    {
     "data": {
      "text/html": [
       "<div>\n",
       "<style scoped>\n",
       "    .dataframe tbody tr th:only-of-type {\n",
       "        vertical-align: middle;\n",
       "    }\n",
       "\n",
       "    .dataframe tbody tr th {\n",
       "        vertical-align: top;\n",
       "    }\n",
       "\n",
       "    .dataframe thead th {\n",
       "        text-align: right;\n",
       "    }\n",
       "</style>\n",
       "<table border=\"1\" class=\"dataframe\">\n",
       "  <thead>\n",
       "    <tr style=\"text-align: right;\">\n",
       "      <th></th>\n",
       "      <th>domainID</th>\n",
       "      <th>DomainType</th>\n",
       "      <th>linkerID</th>\n",
       "      <th>LinkerType</th>\n",
       "    </tr>\n",
       "  </thead>\n",
       "  <tbody>\n",
       "    <tr>\n",
       "      <th>18</th>\n",
       "      <td>IRD-19</td>\n",
       "      <td>1</td>\n",
       "      <td>L-58</td>\n",
       "      <td>2.0</td>\n",
       "    </tr>\n",
       "    <tr>\n",
       "      <th>451</th>\n",
       "      <td>IRD-454</td>\n",
       "      <td>2</td>\n",
       "      <td>L-1</td>\n",
       "      <td>1.0</td>\n",
       "    </tr>\n",
       "  </tbody>\n",
       "</table>\n",
       "</div>"
      ],
      "text/plain": [
       "    domainID  DomainType linkerID  LinkerType\n",
       "18    IRD-19           1     L-58         2.0\n",
       "451  IRD-454           2      L-1         1.0"
      ]
     },
     "execution_count": 127,
     "metadata": {},
     "output_type": "execute_result"
    }
   ],
   "source": [
    "dom_rcl_linker_tp[['domainID','DomainType','linkerID','LinkerType']].loc[~dom_rcl_linker_tp.LinkerType.isna(),:].loc[dom_rcl_linker_tp.DomainType!=dom_rcl_linker_tp.LinkerType,:]"
   ]
  },
  {
   "cell_type": "code",
   "execution_count": 130,
   "metadata": {},
   "outputs": [
    {
     "data": {
      "text/plain": [
       "Index(['id', 'UniprotID', 'Sequence', 'Length', 'Mass', 'OrganismID',\n",
       "       'Organism', 'Solanaceae', 'DomainID', 'DomainType', 'domain',\n",
       "       'startDPosition', 'endDPosition', 'RclID', 'Rcl', 'startRPosition',\n",
       "       'endRPosition', 'RclStartPosition', 'RclEndPosition', 'linkerID',\n",
       "       'Linker', 'LinkerStartPositionInDomain', 'LinkerEndPositionInDomain',\n",
       "       'tpID', 'TargetProtease', 'LinkerType'],\n",
       "      dtype='object')"
      ]
     },
     "execution_count": 130,
     "metadata": {},
     "output_type": "execute_result"
    }
   ],
   "source": [
    "seq_org_dom_rcl_linker_tp.columns"
   ]
  },
  {
   "cell_type": "code",
   "execution_count": 131,
   "metadata": {},
   "outputs": [],
   "source": [
    "seq_org_dom_rcl_linker_tp=seq_org_dom_rcl_linker_tp[['id', 'UniprotID', 'Sequence', 'Length', 'Mass', 'OrganismID',\n",
    "       'Organism', 'Solanaceae', 'DomainID', 'DomainType', 'domain',\n",
    "       'startDPosition', 'endDPosition', 'RclID', 'Rcl', 'startRPosition',\n",
    "       'endRPosition', 'RclStartPosition', 'RclEndPosition', 'linkerID',\n",
    "       'Linker', 'LinkerType', 'LinkerStartPositionInDomain', 'LinkerEndPositionInDomain',\n",
    "       'tpID', 'TargetProtease']]"
   ]
  },
  {
   "cell_type": "code",
   "execution_count": 132,
   "metadata": {},
   "outputs": [],
   "source": [
    "## Creating a file with complete relation between Sequence,Organism,Domain,RCL,Linker,TargetProtease"
   ]
  },
  {
   "cell_type": "code",
   "execution_count": 134,
   "metadata": {},
   "outputs": [],
   "source": [
    "#seq_org_dom_rcl_linker_tp.to_csv('PINIRV4/Sequence_Organism_Domain_RCL_Linker_TargetProtease.csv',index=False)"
   ]
  },
  {
   "cell_type": "code",
   "execution_count": 128,
   "metadata": {},
   "outputs": [],
   "source": [
    "## Adding the Genus information to seq_org_dom_rcl_linker_tp.csv"
   ]
  },
  {
   "cell_type": "code",
   "execution_count": 124,
   "metadata": {},
   "outputs": [],
   "source": [
    "seq_org_dom_rcl_linker_tp=pd.read_csv('PINIRV4/Sequence_Organism_Domain_RCL_Linker_TargetProtease.csv')"
   ]
  },
  {
   "cell_type": "code",
   "execution_count": 129,
   "metadata": {},
   "outputs": [
    {
     "data": {
      "text/plain": [
       "Index(['id', 'UniprotID', 'Sequence', 'Length', 'Mass', 'OrganismID',\n",
       "       'Organism', 'Solanaceae', 'DomainID', 'DomainType', 'domain',\n",
       "       'startDPosition', 'endDPosition', 'RclID', 'Rcl', 'startRPosition',\n",
       "       'endRPosition', 'RclStartPosition', 'RclEndPosition', 'linkerID',\n",
       "       'Linker', 'LinkerType', 'LinkerStartPositionInDomain',\n",
       "       'LinkerEndPositionInDomain', 'tpID', 'TargetProtease'],\n",
       "      dtype='object')"
      ]
     },
     "execution_count": 129,
     "metadata": {},
     "output_type": "execute_result"
    }
   ],
   "source": [
    "seq_org_dom_rcl_linker_tp.columns"
   ]
  },
  {
   "cell_type": "code",
   "execution_count": 130,
   "metadata": {},
   "outputs": [
    {
     "data": {
      "text/html": [
       "<div>\n",
       "<style scoped>\n",
       "    .dataframe tbody tr th:only-of-type {\n",
       "        vertical-align: middle;\n",
       "    }\n",
       "\n",
       "    .dataframe tbody tr th {\n",
       "        vertical-align: top;\n",
       "    }\n",
       "\n",
       "    .dataframe thead th {\n",
       "        text-align: right;\n",
       "    }\n",
       "</style>\n",
       "<table border=\"1\" class=\"dataframe\">\n",
       "  <thead>\n",
       "    <tr style=\"text-align: right;\">\n",
       "      <th></th>\n",
       "      <th>id</th>\n",
       "      <th>UniprotID</th>\n",
       "      <th>OrganismID</th>\n",
       "      <th>Organism</th>\n",
       "    </tr>\n",
       "  </thead>\n",
       "  <tbody>\n",
       "    <tr>\n",
       "      <th>0</th>\n",
       "      <td>163</td>\n",
       "      <td>K4D750</td>\n",
       "      <td>4081</td>\n",
       "      <td>Solanum lycopersicum (Tomato) (Lycopersicon es...</td>\n",
       "    </tr>\n",
       "  </tbody>\n",
       "</table>\n",
       "</div>"
      ],
      "text/plain": [
       "    id UniprotID  OrganismID  \\\n",
       "0  163    K4D750        4081   \n",
       "\n",
       "                                            Organism  \n",
       "0  Solanum lycopersicum (Tomato) (Lycopersicon es...  "
      ]
     },
     "execution_count": 130,
     "metadata": {},
     "output_type": "execute_result"
    }
   ],
   "source": [
    "seq_org_dom_rcl_linker_tp[['id', 'UniprotID','OrganismID','Organism',]].head(1)"
   ]
  },
  {
   "cell_type": "code",
   "execution_count": 131,
   "metadata": {},
   "outputs": [
    {
     "data": {
      "text/plain": [
       "1289"
      ]
     },
     "execution_count": 131,
     "metadata": {},
     "output_type": "execute_result"
    }
   ],
   "source": [
    "seq_org_dom_rcl_linker_tp.id.count()"
   ]
  },
  {
   "cell_type": "code",
   "execution_count": 136,
   "metadata": {},
   "outputs": [],
   "source": [
    "#seq_org_dom_rcl_linker_tp['Genus']=seq_org_dom_rcl_linker_tp['Organism'].apply(lambda x:x.split()[0])## Ading Genus Col."
   ]
  },
  {
   "cell_type": "code",
   "execution_count": 135,
   "metadata": {},
   "outputs": [
    {
     "data": {
      "text/plain": [
       "1289"
      ]
     },
     "execution_count": 135,
     "metadata": {},
     "output_type": "execute_result"
    }
   ],
   "source": [
    "seq_org_dom_rcl_linker_tp[['id', 'UniprotID','OrganismID','Organism','Genus']].id.count()"
   ]
  },
  {
   "cell_type": "code",
   "execution_count": 137,
   "metadata": {},
   "outputs": [
    {
     "data": {
      "text/plain": [
       "Index(['id', 'UniprotID', 'Sequence', 'Length', 'Mass', 'OrganismID',\n",
       "       'Organism', 'Solanaceae', 'DomainID', 'DomainType', 'domain',\n",
       "       'startDPosition', 'endDPosition', 'RclID', 'Rcl', 'startRPosition',\n",
       "       'endRPosition', 'RclStartPosition', 'RclEndPosition', 'linkerID',\n",
       "       'Linker', 'LinkerType', 'LinkerStartPositionInDomain',\n",
       "       'LinkerEndPositionInDomain', 'tpID', 'TargetProtease', 'Genus'],\n",
       "      dtype='object')"
      ]
     },
     "execution_count": 137,
     "metadata": {},
     "output_type": "execute_result"
    }
   ],
   "source": [
    "seq_org_dom_rcl_linker_tp.columns"
   ]
  },
  {
   "cell_type": "code",
   "execution_count": 138,
   "metadata": {},
   "outputs": [],
   "source": [
    "seq_org_dom_rcl_linker_tp=seq_org_dom_rcl_linker_tp[['id', 'UniprotID', 'Sequence', 'Length', 'Mass', 'OrganismID',\n",
    "       'Organism', 'Solanaceae', 'Genus', 'DomainID', 'DomainType', 'domain',\n",
    "       'startDPosition', 'endDPosition', 'RclID', 'Rcl', 'startRPosition',\n",
    "       'endRPosition', 'RclStartPosition', 'RclEndPosition', 'linkerID',\n",
    "       'Linker', 'LinkerType', 'LinkerStartPositionInDomain',\n",
    "       'LinkerEndPositionInDomain', 'tpID', 'TargetProtease']]"
   ]
  },
  {
   "cell_type": "code",
   "execution_count": 140,
   "metadata": {},
   "outputs": [
    {
     "data": {
      "text/html": [
       "<div>\n",
       "<style scoped>\n",
       "    .dataframe tbody tr th:only-of-type {\n",
       "        vertical-align: middle;\n",
       "    }\n",
       "\n",
       "    .dataframe tbody tr th {\n",
       "        vertical-align: top;\n",
       "    }\n",
       "\n",
       "    .dataframe thead th {\n",
       "        text-align: right;\n",
       "    }\n",
       "</style>\n",
       "<table border=\"1\" class=\"dataframe\">\n",
       "  <thead>\n",
       "    <tr style=\"text-align: right;\">\n",
       "      <th></th>\n",
       "      <th>id</th>\n",
       "      <th>UniprotID</th>\n",
       "      <th>Sequence</th>\n",
       "      <th>Length</th>\n",
       "      <th>Mass</th>\n",
       "      <th>OrganismID</th>\n",
       "      <th>Organism</th>\n",
       "      <th>Solanaceae</th>\n",
       "      <th>Genus</th>\n",
       "      <th>DomainID</th>\n",
       "      <th>...</th>\n",
       "      <th>endRPosition</th>\n",
       "      <th>RclStartPosition</th>\n",
       "      <th>RclEndPosition</th>\n",
       "      <th>linkerID</th>\n",
       "      <th>Linker</th>\n",
       "      <th>LinkerType</th>\n",
       "      <th>LinkerStartPositionInDomain</th>\n",
       "      <th>LinkerEndPositionInDomain</th>\n",
       "      <th>tpID</th>\n",
       "      <th>TargetProtease</th>\n",
       "    </tr>\n",
       "  </thead>\n",
       "  <tbody>\n",
       "    <tr>\n",
       "      <th>0</th>\n",
       "      <td>163</td>\n",
       "      <td>K4D750</td>\n",
       "      <td>MAIHKVALLLLLGIILLVSNVEHTNAKARTEQCDPRIAFGICPHLQ...</td>\n",
       "      <td>360</td>\n",
       "      <td>39280</td>\n",
       "      <td>4081</td>\n",
       "      <td>Solanum lycopersicum (Tomato) (Lycopersicon es...</td>\n",
       "      <td>1</td>\n",
       "      <td>Solanum</td>\n",
       "      <td>IRD-1</td>\n",
       "      <td>...</td>\n",
       "      <td>45</td>\n",
       "      <td>91</td>\n",
       "      <td>95</td>\n",
       "      <td>NaN</td>\n",
       "      <td>NaN</td>\n",
       "      <td>NaN</td>\n",
       "      <td>NaN</td>\n",
       "      <td>NaN</td>\n",
       "      <td>TP-1</td>\n",
       "      <td>Trypsin</td>\n",
       "    </tr>\n",
       "  </tbody>\n",
       "</table>\n",
       "<p>1 rows × 27 columns</p>\n",
       "</div>"
      ],
      "text/plain": [
       "    id UniprotID                                           Sequence  Length  \\\n",
       "0  163    K4D750  MAIHKVALLLLLGIILLVSNVEHTNAKARTEQCDPRIAFGICPHLQ...     360   \n",
       "\n",
       "    Mass  OrganismID                                           Organism  \\\n",
       "0  39280        4081  Solanum lycopersicum (Tomato) (Lycopersicon es...   \n",
       "\n",
       "   Solanaceae    Genus DomainID  ...  endRPosition RclStartPosition  \\\n",
       "0           1  Solanum    IRD-1  ...            45               91   \n",
       "\n",
       "   RclEndPosition  linkerID Linker LinkerType  LinkerStartPositionInDomain  \\\n",
       "0              95       NaN    NaN        NaN                          NaN   \n",
       "\n",
       "   LinkerEndPositionInDomain  tpID  TargetProtease  \n",
       "0                        NaN  TP-1         Trypsin  \n",
       "\n",
       "[1 rows x 27 columns]"
      ]
     },
     "execution_count": 140,
     "metadata": {},
     "output_type": "execute_result"
    }
   ],
   "source": [
    "seq_org_dom_rcl_linker_tp.head(1)"
   ]
  },
  {
   "cell_type": "code",
   "execution_count": null,
   "metadata": {},
   "outputs": [],
   "source": [
    "## Saving Sequence_Organism_Domain_RCL_Linker_TargetProtease.csv with Genus Information"
   ]
  },
  {
   "cell_type": "code",
   "execution_count": 142,
   "metadata": {},
   "outputs": [],
   "source": [
    "## seq_org_dom_rcl_linker_tp.to_csv('PINIRV4/Sequence_Organism_Domain_RCL_Linker_TargetProtease.csv',index=False)"
   ]
  },
  {
   "cell_type": "code",
   "execution_count": null,
   "metadata": {},
   "outputs": [],
   "source": []
  },
  {
   "cell_type": "code",
   "execution_count": 143,
   "metadata": {},
   "outputs": [],
   "source": [
    "pinir=pd.read_csv('PINIRV4/Sequence_Organism_Domain_RCL_Linker_TargetProtease.csv')"
   ]
  },
  {
   "cell_type": "code",
   "execution_count": 144,
   "metadata": {},
   "outputs": [
    {
     "name": "stdout",
     "output_type": "stream",
     "text": [
      "<class 'pandas.core.frame.DataFrame'>\n",
      "RangeIndex: 1289 entries, 0 to 1288\n",
      "Data columns (total 27 columns):\n",
      "id                             1289 non-null int64\n",
      "UniprotID                      1289 non-null object\n",
      "Sequence                       1289 non-null object\n",
      "Length                         1289 non-null int64\n",
      "Mass                           1289 non-null int64\n",
      "OrganismID                     1289 non-null int64\n",
      "Organism                       1289 non-null object\n",
      "Solanaceae                     1289 non-null int64\n",
      "Genus                          1289 non-null object\n",
      "DomainID                       1289 non-null object\n",
      "DomainType                     1289 non-null int64\n",
      "domain                         1289 non-null object\n",
      "startDPosition                 1289 non-null int64\n",
      "endDPosition                   1289 non-null int64\n",
      "RclID                          1289 non-null object\n",
      "Rcl                            1289 non-null object\n",
      "startRPosition                 1289 non-null int64\n",
      "endRPosition                   1289 non-null int64\n",
      "RclStartPosition               1289 non-null int64\n",
      "RclEndPosition                 1289 non-null int64\n",
      "linkerID                       1013 non-null object\n",
      "Linker                         1013 non-null object\n",
      "LinkerType                     1013 non-null float64\n",
      "LinkerStartPositionInDomain    1013 non-null float64\n",
      "LinkerEndPositionInDomain      1013 non-null float64\n",
      "tpID                           1289 non-null object\n",
      "TargetProtease                 1289 non-null object\n",
      "dtypes: float64(3), int64(12), object(12)\n",
      "memory usage: 211.5+ KB\n"
     ]
    }
   ],
   "source": [
    "pinir.info()\n",
    "# These are records for 371 sequences. \n",
    "# A sequence can have multiple Domains\n",
    "# Different sequences can belong to same Organism\n",
    "# A Domain has one RCL and one Linker\n",
    "# Different Domains may have same RCL Or Linker\n",
    "# Each RCL has one TargetProtease"
   ]
  },
  {
   "cell_type": "code",
   "execution_count": 145,
   "metadata": {},
   "outputs": [
    {
     "data": {
      "text/plain": [
       "Index(['id', 'UniprotID', 'Sequence', 'Length', 'Mass', 'OrganismID',\n",
       "       'Organism', 'Solanaceae', 'Genus', 'DomainID', 'DomainType', 'domain',\n",
       "       'startDPosition', 'endDPosition', 'RclID', 'Rcl', 'startRPosition',\n",
       "       'endRPosition', 'RclStartPosition', 'RclEndPosition', 'linkerID',\n",
       "       'Linker', 'LinkerType', 'LinkerStartPositionInDomain',\n",
       "       'LinkerEndPositionInDomain', 'tpID', 'TargetProtease'],\n",
       "      dtype='object')"
      ]
     },
     "execution_count": 145,
     "metadata": {},
     "output_type": "execute_result"
    }
   ],
   "source": [
    "pinir.columns"
   ]
  },
  {
   "cell_type": "code",
   "execution_count": 144,
   "metadata": {},
   "outputs": [],
   "source": [
    "# Extracting the required fields, leaving the positional fields"
   ]
  },
  {
   "cell_type": "code",
   "execution_count": 146,
   "metadata": {},
   "outputs": [],
   "source": [
    "pinir=pinir[['UniprotID', 'OrganismID',\n",
    "       'Organism', 'Solanaceae','Genus','DomainID', 'DomainType', 'RclID', 'Rcl','linkerID', 'Linker','LinkerType',\n",
    "       'tpID','TargetProtease']]"
   ]
  },
  {
   "cell_type": "code",
   "execution_count": 147,
   "metadata": {},
   "outputs": [
    {
     "data": {
      "text/html": [
       "<div>\n",
       "<style scoped>\n",
       "    .dataframe tbody tr th:only-of-type {\n",
       "        vertical-align: middle;\n",
       "    }\n",
       "\n",
       "    .dataframe tbody tr th {\n",
       "        vertical-align: top;\n",
       "    }\n",
       "\n",
       "    .dataframe thead th {\n",
       "        text-align: right;\n",
       "    }\n",
       "</style>\n",
       "<table border=\"1\" class=\"dataframe\">\n",
       "  <thead>\n",
       "    <tr style=\"text-align: right;\">\n",
       "      <th></th>\n",
       "      <th>UniprotID</th>\n",
       "      <th>OrganismID</th>\n",
       "      <th>Organism</th>\n",
       "      <th>Solanaceae</th>\n",
       "      <th>Genus</th>\n",
       "      <th>DomainID</th>\n",
       "      <th>DomainType</th>\n",
       "      <th>RclID</th>\n",
       "      <th>Rcl</th>\n",
       "      <th>linkerID</th>\n",
       "      <th>Linker</th>\n",
       "      <th>LinkerType</th>\n",
       "      <th>tpID</th>\n",
       "      <th>TargetProtease</th>\n",
       "    </tr>\n",
       "  </thead>\n",
       "  <tbody>\n",
       "    <tr>\n",
       "      <th>0</th>\n",
       "      <td>K4D750</td>\n",
       "      <td>4081</td>\n",
       "      <td>Solanum lycopersicum (Tomato) (Lycopersicon es...</td>\n",
       "      <td>1</td>\n",
       "      <td>Solanum</td>\n",
       "      <td>IRD-1</td>\n",
       "      <td>3</td>\n",
       "      <td>RL-1</td>\n",
       "      <td>CPRNC</td>\n",
       "      <td>NaN</td>\n",
       "      <td>NaN</td>\n",
       "      <td>NaN</td>\n",
       "      <td>TP-1</td>\n",
       "      <td>Trypsin</td>\n",
       "    </tr>\n",
       "    <tr>\n",
       "      <th>1</th>\n",
       "      <td>E9JGT0</td>\n",
       "      <td>4112</td>\n",
       "      <td>Solanum nigrum (Black nightshade)</td>\n",
       "      <td>1</td>\n",
       "      <td>Solanum</td>\n",
       "      <td>IRD-3</td>\n",
       "      <td>3</td>\n",
       "      <td>RL-1</td>\n",
       "      <td>CPRNC</td>\n",
       "      <td>NaN</td>\n",
       "      <td>NaN</td>\n",
       "      <td>NaN</td>\n",
       "      <td>TP-1</td>\n",
       "      <td>Trypsin</td>\n",
       "    </tr>\n",
       "    <tr>\n",
       "      <th>2</th>\n",
       "      <td>Q7M222</td>\n",
       "      <td>4081</td>\n",
       "      <td>Solanum lycopersicum (Tomato) (Lycopersicon es...</td>\n",
       "      <td>1</td>\n",
       "      <td>Solanum</td>\n",
       "      <td>IRD-4</td>\n",
       "      <td>3</td>\n",
       "      <td>RL-1</td>\n",
       "      <td>CPRNC</td>\n",
       "      <td>NaN</td>\n",
       "      <td>NaN</td>\n",
       "      <td>NaN</td>\n",
       "      <td>TP-1</td>\n",
       "      <td>Trypsin</td>\n",
       "    </tr>\n",
       "    <tr>\n",
       "      <th>3</th>\n",
       "      <td>A0A1S4BIG0</td>\n",
       "      <td>4097</td>\n",
       "      <td>Nicotiana tabacum (Common tobacco)</td>\n",
       "      <td>1</td>\n",
       "      <td>Nicotiana</td>\n",
       "      <td>IRD-5</td>\n",
       "      <td>3</td>\n",
       "      <td>RL-1</td>\n",
       "      <td>CPRNC</td>\n",
       "      <td>NaN</td>\n",
       "      <td>NaN</td>\n",
       "      <td>NaN</td>\n",
       "      <td>TP-1</td>\n",
       "      <td>Trypsin</td>\n",
       "    </tr>\n",
       "    <tr>\n",
       "      <th>4</th>\n",
       "      <td>A0A1S3Z2Q3</td>\n",
       "      <td>4097</td>\n",
       "      <td>Nicotiana tabacum (Common tobacco)</td>\n",
       "      <td>1</td>\n",
       "      <td>Nicotiana</td>\n",
       "      <td>IRD-6</td>\n",
       "      <td>3</td>\n",
       "      <td>RL-5</td>\n",
       "      <td>CPFNC</td>\n",
       "      <td>NaN</td>\n",
       "      <td>NaN</td>\n",
       "      <td>NaN</td>\n",
       "      <td>TP-2</td>\n",
       "      <td>Chymotrypsin</td>\n",
       "    </tr>\n",
       "  </tbody>\n",
       "</table>\n",
       "</div>"
      ],
      "text/plain": [
       "    UniprotID  OrganismID                                           Organism  \\\n",
       "0      K4D750        4081  Solanum lycopersicum (Tomato) (Lycopersicon es...   \n",
       "1      E9JGT0        4112                  Solanum nigrum (Black nightshade)   \n",
       "2      Q7M222        4081  Solanum lycopersicum (Tomato) (Lycopersicon es...   \n",
       "3  A0A1S4BIG0        4097                 Nicotiana tabacum (Common tobacco)   \n",
       "4  A0A1S3Z2Q3        4097                 Nicotiana tabacum (Common tobacco)   \n",
       "\n",
       "   Solanaceae      Genus DomainID  DomainType RclID    Rcl linkerID Linker  \\\n",
       "0           1    Solanum    IRD-1           3  RL-1  CPRNC      NaN    NaN   \n",
       "1           1    Solanum    IRD-3           3  RL-1  CPRNC      NaN    NaN   \n",
       "2           1    Solanum    IRD-4           3  RL-1  CPRNC      NaN    NaN   \n",
       "3           1  Nicotiana    IRD-5           3  RL-1  CPRNC      NaN    NaN   \n",
       "4           1  Nicotiana    IRD-6           3  RL-5  CPFNC      NaN    NaN   \n",
       "\n",
       "   LinkerType  tpID TargetProtease  \n",
       "0         NaN  TP-1        Trypsin  \n",
       "1         NaN  TP-1        Trypsin  \n",
       "2         NaN  TP-1        Trypsin  \n",
       "3         NaN  TP-1        Trypsin  \n",
       "4         NaN  TP-2   Chymotrypsin  "
      ]
     },
     "execution_count": 147,
     "metadata": {},
     "output_type": "execute_result"
    }
   ],
   "source": [
    "pinir.head()"
   ]
  },
  {
   "cell_type": "code",
   "execution_count": 140,
   "metadata": {},
   "outputs": [
    {
     "data": {
      "text/plain": [
       "371"
      ]
     },
     "execution_count": 140,
     "metadata": {},
     "output_type": "execute_result"
    }
   ],
   "source": [
    "pinir.UniprotID.nunique()"
   ]
  },
  {
   "cell_type": "code",
   "execution_count": 141,
   "metadata": {},
   "outputs": [
    {
     "data": {
      "text/plain": [
       "694"
      ]
     },
     "execution_count": 141,
     "metadata": {},
     "output_type": "execute_result"
    }
   ],
   "source": [
    "pinir.DomainID.nunique()"
   ]
  },
  {
   "cell_type": "code",
   "execution_count": 142,
   "metadata": {},
   "outputs": [
    {
     "data": {
      "text/plain": [
       "63"
      ]
     },
     "execution_count": 142,
     "metadata": {},
     "output_type": "execute_result"
    }
   ],
   "source": [
    "pinir.RclID.nunique()"
   ]
  },
  {
   "cell_type": "code",
   "execution_count": 143,
   "metadata": {},
   "outputs": [
    {
     "data": {
      "text/plain": [
       "75"
      ]
     },
     "execution_count": 143,
     "metadata": {},
     "output_type": "execute_result"
    }
   ],
   "source": [
    "pinir.linkerID.nunique()"
   ]
  },
  {
   "cell_type": "code",
   "execution_count": 144,
   "metadata": {},
   "outputs": [
    {
     "data": {
      "text/plain": [
       "92"
      ]
     },
     "execution_count": 144,
     "metadata": {},
     "output_type": "execute_result"
    }
   ],
   "source": [
    "pinir.OrganismID.nunique()"
   ]
  },
  {
   "cell_type": "code",
   "execution_count": 145,
   "metadata": {},
   "outputs": [
    {
     "data": {
      "text/plain": [
       "2    256\n",
       "1    238\n",
       "3    200\n",
       "Name: DomainType, dtype: int64"
      ]
     },
     "execution_count": 145,
     "metadata": {},
     "output_type": "execute_result"
    }
   ],
   "source": [
    "pinir[['DomainID', 'DomainType', 'RclID', 'Rcl','linkerID', 'Linker',\n",
    "       'tpID','TargetProtease']].drop_duplicates().DomainType.value_counts()\n",
    "# The file dom_rcl_linker_tp.csv had 695 records with Type 3 Domain Type as 201 whereas here it is 200 i.e. means\n",
    "# one Domain Type 3 (without Linker) was not found in sequences"
   ]
  },
  {
   "cell_type": "code",
   "execution_count": 161,
   "metadata": {},
   "outputs": [
    {
     "data": {
      "text/plain": [
       "array([nan, 'L-46', 'L-58', 'L-24', 'L-23', 'L-14', 'L-11', 'L-16',\n",
       "       'L-17', 'L-13', 'L-18', 'L-20', 'L-21', 'L-4', 'L-5', 'L-7', 'L-9',\n",
       "       'L-8', 'L-3', 'L-1', 'L-55', 'L-76', 'L-56', 'L-66', 'L-50',\n",
       "       'L-68', 'L-71', 'L-73', 'L-52', 'L-54', 'L-78', 'L-41', 'L-69',\n",
       "       'L-42', 'L-43', 'L-44', 'L-45', 'L-47', 'L-48', 'L-49', 'L-70',\n",
       "       'L-75', 'L-74', 'L-39', 'L-61', 'L-34', 'L-62', 'L-64', 'L-65',\n",
       "       'L-67', 'L-37', 'L-36', 'L-30', 'L-31', 'L-32', 'L-33', 'L-28',\n",
       "       'L-29', 'L-27', 'L-26', 'L-25', 'L-22', 'L-12', 'L-15', 'L-19',\n",
       "       'L-6', 'L-10', 'L-2', 'L-72', 'L-57', 'L-51', 'L-53', 'L-77',\n",
       "       'L-40', 'L-38', 'L-35'], dtype=object)"
      ]
     },
     "execution_count": 161,
     "metadata": {},
     "output_type": "execute_result"
    }
   ],
   "source": [
    "pinir.linkerID.unique()"
   ]
  },
  {
   "cell_type": "code",
   "execution_count": 170,
   "metadata": {},
   "outputs": [
    {
     "data": {
      "text/plain": [
       "75"
      ]
     },
     "execution_count": 170,
     "metadata": {},
     "output_type": "execute_result"
    }
   ],
   "source": [
    "pinir.linkerID.nunique()"
   ]
  },
  {
   "cell_type": "code",
   "execution_count": 172,
   "metadata": {},
   "outputs": [
    {
     "data": {
      "text/plain": [
       "array(['L-46', 'L-58', 'L-24', 'L-23', 'L-14', 'L-11', 'L-16', 'L-17',\n",
       "       'L-13', 'L-18', 'L-20', 'L-21', 'L-4', 'L-5', 'L-7', 'L-9', 'L-8',\n",
       "       'L-3', 'L-1', 'L-55', 'L-76', 'L-56', 'L-66', 'L-50', 'L-68',\n",
       "       'L-71', 'L-73', 'L-52', 'L-54', 'L-78', 'L-41', 'L-69', 'L-42',\n",
       "       'L-43', 'L-44', 'L-45', 'L-47', 'L-48', 'L-49', 'L-70', 'L-75',\n",
       "       'L-74', 'L-39', 'L-61', 'L-34', 'L-62', 'L-64', 'L-65', 'L-67',\n",
       "       'L-37', 'L-36', 'L-30', 'L-31', 'L-32', 'L-33', 'L-28', 'L-29',\n",
       "       'L-27', 'L-26', 'L-25', 'L-22', 'L-12', 'L-15', 'L-19', 'L-6',\n",
       "       'L-10', 'L-2', 'L-72', 'L-57', 'L-51', 'L-53', 'L-77', 'L-40',\n",
       "       'L-38', 'L-35'], dtype=object)"
      ]
     },
     "execution_count": 172,
     "metadata": {},
     "output_type": "execute_result"
    }
   ],
   "source": [
    "pinir.loc[~pinir.linkerID.isna(),:].linkerID.unique()"
   ]
  },
  {
   "cell_type": "code",
   "execution_count": 171,
   "metadata": {},
   "outputs": [
    {
     "data": {
      "text/plain": [
       "75"
      ]
     },
     "execution_count": 171,
     "metadata": {},
     "output_type": "execute_result"
    }
   ],
   "source": [
    "pinir.loc[~pinir.linkerID.isna(),:].linkerID.nunique()"
   ]
  },
  {
   "cell_type": "code",
   "execution_count": 178,
   "metadata": {},
   "outputs": [
    {
     "data": {
      "text/plain": [
       "linkerID      75\n",
       "LinkerType    75\n",
       "dtype: int64"
      ]
     },
     "execution_count": 178,
     "metadata": {},
     "output_type": "execute_result"
    }
   ],
   "source": [
    "pinir.loc[~pinir.linkerID.isna(),['linkerID','LinkerType']].drop_duplicates().count()"
   ]
  },
  {
   "cell_type": "code",
   "execution_count": 180,
   "metadata": {},
   "outputs": [
    {
     "data": {
      "text/plain": [
       "2.0    51\n",
       "1.0    24\n",
       "Name: LinkerType, dtype: int64"
      ]
     },
     "execution_count": 180,
     "metadata": {},
     "output_type": "execute_result"
    }
   ],
   "source": [
    "pinir.loc[~pinir.linkerID.isna(),['linkerID','LinkerType']].drop_duplicates().LinkerType.value_counts()"
   ]
  },
  {
   "cell_type": "code",
   "execution_count": 181,
   "metadata": {},
   "outputs": [
    {
     "data": {
      "text/html": [
       "<div>\n",
       "<style scoped>\n",
       "    .dataframe tbody tr th:only-of-type {\n",
       "        vertical-align: middle;\n",
       "    }\n",
       "\n",
       "    .dataframe tbody tr th {\n",
       "        vertical-align: top;\n",
       "    }\n",
       "\n",
       "    .dataframe thead th {\n",
       "        text-align: right;\n",
       "    }\n",
       "</style>\n",
       "<table border=\"1\" class=\"dataframe\">\n",
       "  <thead>\n",
       "    <tr style=\"text-align: right;\">\n",
       "      <th></th>\n",
       "      <th>UniprotID</th>\n",
       "      <th>OrganismID</th>\n",
       "      <th>Organism</th>\n",
       "      <th>Solanaceae</th>\n",
       "      <th>DomainID</th>\n",
       "      <th>DomainType</th>\n",
       "      <th>RclID</th>\n",
       "      <th>Rcl</th>\n",
       "      <th>linkerID</th>\n",
       "      <th>Linker</th>\n",
       "      <th>LinkerType</th>\n",
       "      <th>tpID</th>\n",
       "      <th>TargetProtease</th>\n",
       "    </tr>\n",
       "  </thead>\n",
       "  <tbody>\n",
       "    <tr>\n",
       "      <th>0</th>\n",
       "      <td>K4D750</td>\n",
       "      <td>4081</td>\n",
       "      <td>Solanum lycopersicum (Tomato) (Lycopersicon es...</td>\n",
       "      <td>1</td>\n",
       "      <td>IRD-1</td>\n",
       "      <td>3</td>\n",
       "      <td>RL-1</td>\n",
       "      <td>CPRNC</td>\n",
       "      <td>NaN</td>\n",
       "      <td>NaN</td>\n",
       "      <td>NaN</td>\n",
       "      <td>TP-1</td>\n",
       "      <td>Trypsin</td>\n",
       "    </tr>\n",
       "    <tr>\n",
       "      <th>1</th>\n",
       "      <td>E9JGT0</td>\n",
       "      <td>4112</td>\n",
       "      <td>Solanum nigrum (Black nightshade)</td>\n",
       "      <td>1</td>\n",
       "      <td>IRD-3</td>\n",
       "      <td>3</td>\n",
       "      <td>RL-1</td>\n",
       "      <td>CPRNC</td>\n",
       "      <td>NaN</td>\n",
       "      <td>NaN</td>\n",
       "      <td>NaN</td>\n",
       "      <td>TP-1</td>\n",
       "      <td>Trypsin</td>\n",
       "    </tr>\n",
       "  </tbody>\n",
       "</table>\n",
       "</div>"
      ],
      "text/plain": [
       "  UniprotID  OrganismID                                           Organism  \\\n",
       "0    K4D750        4081  Solanum lycopersicum (Tomato) (Lycopersicon es...   \n",
       "1    E9JGT0        4112                  Solanum nigrum (Black nightshade)   \n",
       "\n",
       "   Solanaceae DomainID  DomainType RclID    Rcl linkerID Linker  LinkerType  \\\n",
       "0           1    IRD-1           3  RL-1  CPRNC      NaN    NaN         NaN   \n",
       "1           1    IRD-3           3  RL-1  CPRNC      NaN    NaN         NaN   \n",
       "\n",
       "   tpID TargetProtease  \n",
       "0  TP-1        Trypsin  \n",
       "1  TP-1        Trypsin  "
      ]
     },
     "execution_count": 181,
     "metadata": {},
     "output_type": "execute_result"
    }
   ],
   "source": [
    "pinir.head(2)"
   ]
  },
  {
   "cell_type": "code",
   "execution_count": 184,
   "metadata": {},
   "outputs": [
    {
     "data": {
      "text/plain": [
       "1013"
      ]
     },
     "execution_count": 184,
     "metadata": {},
     "output_type": "execute_result"
    }
   ],
   "source": [
    "pinir.LinkerType.count()"
   ]
  },
  {
   "cell_type": "code",
   "execution_count": 183,
   "metadata": {},
   "outputs": [
    {
     "data": {
      "text/plain": [
       "2.0    508\n",
       "1.0    505\n",
       "Name: LinkerType, dtype: int64"
      ]
     },
     "execution_count": 183,
     "metadata": {},
     "output_type": "execute_result"
    }
   ],
   "source": [
    "pinir.LinkerType.value_counts()"
   ]
  },
  {
   "cell_type": "code",
   "execution_count": 186,
   "metadata": {},
   "outputs": [
    {
     "data": {
      "text/plain": [
       "LinkerType  Linker\n",
       "1.0         DPNNP     209\n",
       "            DPRNP     166\n",
       "            DPKNP      49\n",
       "            DPKKP      15\n",
       "            DPNHP      15\n",
       "            DPRKP       9\n",
       "            DPRNS       7\n",
       "            DPKRP       5\n",
       "            ESDEP       5\n",
       "            GPKNP       4\n",
       "            DPRKT       3\n",
       "            GPNNP       3\n",
       "            DLRNP       2\n",
       "            DPINP       2\n",
       "            DPKEGP      2\n",
       "            DLKNP       1\n",
       "            DNNHG       1\n",
       "            DPNNS       1\n",
       "            DPNSP       1\n",
       "            DPNTP       1\n",
       "            DPTNP       1\n",
       "            HPKNP       1\n",
       "            HPNNP       1\n",
       "            NPENP       1\n",
       "2.0         EEKKN     142\n",
       "            EGNAE     129\n",
       "            EGSPE      29\n",
       "            EEKKD      28\n",
       "            EEKNN      16\n",
       "            EASAE      14\n",
       "                     ... \n",
       "            EGSPQ       3\n",
       "            ETKRV       3\n",
       "            GGKTF       3\n",
       "            KEKKN       3\n",
       "            QGSPQ       3\n",
       "            EEDKN       2\n",
       "            EEKKT       2\n",
       "            EENAE       2\n",
       "            EGNRV       2\n",
       "            EGSAK       2\n",
       "            EGSPR       2\n",
       "            EKKDN       2\n",
       "            ETKRI       2\n",
       "            GGNTI       2\n",
       "            KISNK       2\n",
       "            EAKKN       1\n",
       "            EEKKS       1\n",
       "            EETKN       1\n",
       "            EGGAE       1\n",
       "            EGNTE       1\n",
       "            EGNVE       1\n",
       "            EGSPT       1\n",
       "            EISNK       1\n",
       "            EKDNN       1\n",
       "            GGNAE       1\n",
       "            GGNTL       1\n",
       "            GRNTI       1\n",
       "            KEKDN       1\n",
       "            QEKKN       1\n",
       "            RGKTL       1\n",
       "Name: Linker, Length: 75, dtype: int64"
      ]
     },
     "execution_count": 186,
     "metadata": {},
     "output_type": "execute_result"
    }
   ],
   "source": [
    "pinir.groupby('LinkerType').Linker.value_counts()"
   ]
  },
  {
   "cell_type": "code",
   "execution_count": null,
   "metadata": {},
   "outputs": [],
   "source": [
    "#pinir.groupby('LinkerType').Linker.value_counts().to_csv('PINIRV4/d20_LinkerSequenceDiversityAndVariation.csv')"
   ]
  },
  {
   "cell_type": "code",
   "execution_count": 192,
   "metadata": {},
   "outputs": [
    {
     "data": {
      "text/html": [
       "<div>\n",
       "<style scoped>\n",
       "    .dataframe tbody tr th:only-of-type {\n",
       "        vertical-align: middle;\n",
       "    }\n",
       "\n",
       "    .dataframe tbody tr th {\n",
       "        vertical-align: top;\n",
       "    }\n",
       "\n",
       "    .dataframe thead th {\n",
       "        text-align: right;\n",
       "    }\n",
       "</style>\n",
       "<table border=\"1\" class=\"dataframe\">\n",
       "  <thead>\n",
       "    <tr style=\"text-align: right;\">\n",
       "      <th></th>\n",
       "      <th>Organism</th>\n",
       "      <th>Linker</th>\n",
       "      <th>LinkerType</th>\n",
       "    </tr>\n",
       "  </thead>\n",
       "  <tbody>\n",
       "    <tr>\n",
       "      <th>14</th>\n",
       "      <td>Solanum tuberosum (Potato)</td>\n",
       "      <td>EGSPK</td>\n",
       "      <td>2.0</td>\n",
       "    </tr>\n",
       "    <tr>\n",
       "      <th>16</th>\n",
       "      <td>Solanum lycopersicum (Tomato) (Lycopersicon es...</td>\n",
       "      <td>EKDNN</td>\n",
       "      <td>2.0</td>\n",
       "    </tr>\n",
       "    <tr>\n",
       "      <th>33</th>\n",
       "      <td>Solanum lycopersicum (Tomato) (Lycopersicon es...</td>\n",
       "      <td>ESDEP</td>\n",
       "      <td>1.0</td>\n",
       "    </tr>\n",
       "    <tr>\n",
       "      <th>34</th>\n",
       "      <td>Nicotiana tabacum (Common tobacco)</td>\n",
       "      <td>ESDEP</td>\n",
       "      <td>1.0</td>\n",
       "    </tr>\n",
       "    <tr>\n",
       "      <th>35</th>\n",
       "      <td>Nicotiana tabacum (Common tobacco)</td>\n",
       "      <td>ESDEP</td>\n",
       "      <td>1.0</td>\n",
       "    </tr>\n",
       "  </tbody>\n",
       "</table>\n",
       "</div>"
      ],
      "text/plain": [
       "                                             Organism Linker  LinkerType\n",
       "14                         Solanum tuberosum (Potato)  EGSPK         2.0\n",
       "16  Solanum lycopersicum (Tomato) (Lycopersicon es...  EKDNN         2.0\n",
       "33  Solanum lycopersicum (Tomato) (Lycopersicon es...  ESDEP         1.0\n",
       "34                 Nicotiana tabacum (Common tobacco)  ESDEP         1.0\n",
       "35                 Nicotiana tabacum (Common tobacco)  ESDEP         1.0"
      ]
     },
     "execution_count": 192,
     "metadata": {},
     "output_type": "execute_result"
    }
   ],
   "source": [
    "pinir[['Organism','Linker','LinkerType']].loc[~pinir.Linker.isna(),:].head()"
   ]
  },
  {
   "cell_type": "code",
   "execution_count": 196,
   "metadata": {},
   "outputs": [],
   "source": [
    "#pinir[['Organism','Linker','LinkerType']].loc[~pinir.Linker.isna(),:].groupby('LinkerType').Organism.value_counts().to_csv('PINIRV4/LinkerOrganismDistribution.csv')"
   ]
  },
  {
   "cell_type": "code",
   "execution_count": 198,
   "metadata": {},
   "outputs": [
    {
     "data": {
      "text/plain": [
       "LinkerType  Organism                                                           \n",
       "1.0         Capsicum annuum (Bell pepper)                                          226\n",
       "            Nicotiana tabacum (Common tobacco)                                      49\n",
       "            Solanum tuberosum (Potato)                                              36\n",
       "            Nicotiana sylvestris (Wood tobacco) (South American tobacco)            25\n",
       "            Nicotiana attenuata (Coyote tobacco)                                    22\n",
       "            Nicotiana obtusifolia                                                   14\n",
       "            Solanum lycopersicum (Tomato) (Lycopersicon esculentum)                 14\n",
       "            Capsicum chinense (Scotch bonnet) (Bonnet pepper)                       13\n",
       "            Nicotiana glutinosa (Tobacco)                                           12\n",
       "            Capsicum baccatum (Peruvian pepper)                                     10\n",
       "            Nicotiana alata (Winged tobacco) (Persian tobacco)                       8\n",
       "            Nicotiana acuminata (Acuminate tobacco)                                  6\n",
       "            Nicotiana rustica (Aztec tobacco)                                        6\n",
       "            Nicotiana clevelandii (Wild tobacco)                                     5\n",
       "            Nicotiana miersii                                                        5\n",
       "            Nicotiana occidentalis subsp. hesperis                                   5\n",
       "            Nicotiana pauciflora                                                     5\n",
       "            Nicotiana quadrivalvis                                                   5\n",
       "            Nicotiana repanda                                                        5\n",
       "            Nicotiana linearis                                                       4\n",
       "            Nicotiana megalosiphon                                                   4\n",
       "            Nicotiana simulans                                                       4\n",
       "            Nicotiana spegazzinii                                                    4\n",
       "            Nicotiana umbratica                                                      4\n",
       "            Nicotiana benthamiana                                                    3\n",
       "            Solanum chacoense (Chaco potato)                                         3\n",
       "            Solanum americanum (American black nightshade) (Solanum nodiflorum)      2\n",
       "            Solanum nigrum (Black nightshade)                                        2\n",
       "            Nicotiana cavicola                                                       1\n",
       "            Nicotiana corymbosa                                                      1\n",
       "            Solanum melongena (Eggplant) (Aubergine)                                 1\n",
       "            Solanum phureja                                                          1\n",
       "2.0         Capsicum annuum (Bell pepper)                                          164\n",
       "            Nicotiana tabacum (Common tobacco)                                      61\n",
       "            Solanum tuberosum (Potato)                                              38\n",
       "            Nicotiana sylvestris (Wood tobacco) (South American tobacco)            31\n",
       "            Solanum lycopersicum (Tomato) (Lycopersicon esculentum)                 28\n",
       "            Nicotiana attenuata (Coyote tobacco)                                    24\n",
       "            Nicotiana obtusifolia                                                   16\n",
       "            Nicotiana glutinosa (Tobacco)                                           14\n",
       "            Capsicum chinense (Scotch bonnet) (Bonnet pepper)                       13\n",
       "            Capsicum baccatum (Peruvian pepper)                                     11\n",
       "            Nicotiana alata (Winged tobacco) (Persian tobacco)                      10\n",
       "            Nicotiana acuminata (Acuminate tobacco)                                  7\n",
       "            Nicotiana rustica (Aztec tobacco)                                        7\n",
       "            Nicotiana clevelandii (Wild tobacco)                                     6\n",
       "            Nicotiana miersii                                                        6\n",
       "            Nicotiana occidentalis subsp. hesperis                                   6\n",
       "            Nicotiana pauciflora                                                     6\n",
       "            Nicotiana quadrivalvis                                                   6\n",
       "            Nicotiana repanda                                                        6\n",
       "            Solanum americanum (American black nightshade) (Solanum nodiflorum)      6\n",
       "            Nicotiana linearis                                                       5\n",
       "            Nicotiana megalosiphon                                                   5\n",
       "            Nicotiana simulans                                                       5\n",
       "            Nicotiana spegazzinii                                                    5\n",
       "            Nicotiana umbratica                                                      5\n",
       "            Nicotiana benthamiana                                                    4\n",
       "            Solanum chacoense (Chaco potato)                                         4\n",
       "            Solanum nigrum (Black nightshade)                                        4\n",
       "            Nicotiana cavicola                                                       2\n",
       "            Nicotiana corymbosa                                                      2\n",
       "            Solanum phureja                                                          1\n",
       "Name: Organism, dtype: int64"
      ]
     },
     "execution_count": 198,
     "metadata": {},
     "output_type": "execute_result"
    }
   ],
   "source": [
    "pinir[['Organism','Linker','LinkerType']].loc[~pinir.Linker.isna(),:].groupby('LinkerType').Organism.value_counts()"
   ]
  },
  {
   "cell_type": "code",
   "execution_count": 203,
   "metadata": {},
   "outputs": [],
   "source": [
    "#pinir.groupby('Organism').Linker.value_counts().to_csv('PINIRV4/d21_d22_LinkerDistributionAcrossOrganism.csv')"
   ]
  },
  {
   "cell_type": "code",
   "execution_count": 202,
   "metadata": {},
   "outputs": [
    {
     "data": {
      "text/plain": [
       "Organism                                                             Linker\n",
       "Capsicum annuum (Bell pepper)                                        DPNNP     196\n",
       "                                                                     EGNAE     123\n",
       "                                                                     DPNHP      13\n",
       "                                                                     EASAE      10\n",
       "                                                                     DPKNP       6\n",
       "                                                                     EGSAE       6\n",
       "                                                                     GLAKI       6\n",
       "                                                                     QGETL       6\n",
       "                                                                     GPNNP       3\n",
       "                                                                     DPRKP       2\n",
       "                                                                     DPRKT       2\n",
       "                                                                     EENAE       2\n",
       "                                                                     EGKTI       2\n",
       "                                                                     EGSPK       2\n",
       "                                                                     GSTKL       2\n",
       "                                                                     DPNNS       1\n",
       "                                                                     DPNSP       1\n",
       "                                                                     DPNTP       1\n",
       "                                                                     EGGAE       1\n",
       "                                                                     EGNVE       1\n",
       "                                                                     GGNAE       1\n",
       "                                                                     GGNTI       1\n",
       "                                                                     GRNTI       1\n",
       "                                                                     HPNNP       1\n",
       "Capsicum baccatum (Peruvian pepper)                                  DPNNP       6\n",
       "                                                                     EGNAE       3\n",
       "                                                                     EASAE       2\n",
       "                                                                     DPKEGP      1\n",
       "                                                                     DPKNP       1\n",
       "                                                                     DPNHP       1\n",
       "                                                                     DPRKP       1\n",
       "                                                                     EGKTI       1\n",
       "                                                                     EGSAE       1\n",
       "                                                                     EGSAK       1\n",
       "                                                                     EGSPK       1\n",
       "                                                                     GLAKI       1\n",
       "                                                                     QGETL       1\n",
       "Capsicum chinense (Scotch bonnet) (Bonnet pepper)                    DPNNP       6\n",
       "                                                                     DPKNP       3\n",
       "                                                                     EGNAE       3\n",
       "                                                                     EASAE       2\n",
       "                                                                     DPKEGP      1\n",
       "                                                                     DPNHP       1\n",
       "                                                                     DPRKP       1\n",
       "                                                                     DPRKT       1\n",
       "                                                                     EGKTI       1\n",
       "                                                                     EGNTE       1\n",
       "                                                                     EGSAK       1\n",
       "                                                                     EGSPK       1\n",
       "                                                                     GGNTI       1\n",
       "                                                                     GLAKI       1\n",
       "                                                                     GSTKL       1\n",
       "                                                                     QGETL       1\n",
       "Nicotiana acuminata (Acuminate tobacco)                              DPRNP       6\n",
       "                                                                     EEKDN       4\n",
       "                                                                     EEKNN       2\n",
       "                                                                     EEKKN       1\n",
       "Nicotiana alata (Winged tobacco) (Persian tobacco)                   EEKKN      10\n",
       "                                                                     DPRNP       5\n",
       "                                                                     DPKNP       3\n",
       "Nicotiana attenuata (Coyote tobacco)                                 DPRNP      18\n",
       "                                                                     EEKKN      18\n",
       "                                                                     DLRNP       2\n",
       "                                                                     EEKNN       2\n",
       "                                                                     DPKNP       1\n",
       "                                                                     EEKDN       1\n",
       "                                                                     EGETI       1\n",
       "                                                                     ESDEP       1\n",
       "                                                                     GDEQI       1\n",
       "                                                                     GLVKI       1\n",
       "Nicotiana benthamiana                                                DPRNP       3\n",
       "                                                                     EEKKN       3\n",
       "                                                                     EEKTN       1\n",
       "Nicotiana cavicola                                                   EEKKN       2\n",
       "                                                                     DPRNP       1\n",
       "Nicotiana clevelandii (Wild tobacco)                                 DPRNP       5\n",
       "                                                                     EEKKN       3\n",
       "                                                                     EEKKD       2\n",
       "                                                                     EEKDN       1\n",
       "Nicotiana corymbosa                                                  DPRNP       1\n",
       "                                                                     EEKDN       1\n",
       "                                                                     EEKKN       1\n",
       "Nicotiana glutinosa (Tobacco)                                        EEKKN       6\n",
       "                                                                     EEKNN       6\n",
       "                                                                     DPKNP       4\n",
       "                                                                     DPRNP       4\n",
       "                                                                     GPKNP       4\n",
       "                                                                     EEKKT       2\n",
       "Nicotiana linearis                                                   DPRNP       3\n",
       "                                                                     EEKKN       2\n",
       "                                                                     DPKNP       1\n",
       "                                                                     EEKNN       1\n",
       "                                                                     EETKN       1\n",
       "                                                                     EKEDN       1\n",
       "Nicotiana megalosiphon                                               DPRNP       4\n",
       "                                                                     EEKKN       3\n",
       "                                                                     EEKKS       1\n",
       "                                                                     EEKTN       1\n",
       "Nicotiana miersii                                                    EEKKN       5\n",
       "                                                                     DPRNP       4\n",
       "                                                                     DPKNP       1\n",
       "                                                                     EAKKN       1\n",
       "Nicotiana obtusifolia                                                DPRNP      10\n",
       "                                                                     EEKKN      10\n",
       "                                                                     EEKKD       6\n",
       "                                                                     DPINP       2\n",
       "                                                                     DPKNP       2\n",
       "Nicotiana occidentalis subsp. hesperis                               DPRNP       5\n",
       "                                                                     EEKKN       5\n",
       "                                                                     EEKTN       1\n",
       "Nicotiana pauciflora                                                 EEKKN       6\n",
       "                                                                     DPRNP       5\n",
       "Nicotiana quadrivalvis                                               DPRNP       5\n",
       "                                                                     EEKKN       3\n",
       "                                                                     EEKKD       2\n",
       "                                                                     EEKDN       1\n",
       "Nicotiana repanda                                                    DPRNP       4\n",
       "                                                                     EEKKN       3\n",
       "                                                                     DPNNP       1\n",
       "                                                                     EEKTN       1\n",
       "                                                                     KEKKN       1\n",
       "                                                                     QEKKN       1\n",
       "Nicotiana rustica (Aztec tobacco)                                    DPRNP       6\n",
       "                                                                     EEKKN       5\n",
       "                                                                     EEKKD       2\n",
       "Nicotiana simulans                                                   DPRNP       4\n",
       "                                                                     EEKKN       4\n",
       "                                                                     EEKTN       1\n",
       "Nicotiana spegazzinii                                                EEKKN       3\n",
       "                                                                     DPRNP       2\n",
       "                                                                     DPKNP       1\n",
       "                                                                     DPTNP       1\n",
       "                                                                     EEKNN       1\n",
       "                                                                     EKEDN       1\n",
       "Nicotiana sylvestris (Wood tobacco) (South American tobacco)         DPRNP      23\n",
       "                                                                     EEKKN      19\n",
       "                                                                     EEKDN       2\n",
       "                                                                     EEKNN       2\n",
       "                                                                     EKKDN       2\n",
       "                                                                     GNKKF       2\n",
       "                                                                     DPKNP       1\n",
       "                                                                     EGETI       1\n",
       "                                                                     ESDEP       1\n",
       "                                                                     GDEQI       1\n",
       "                                                                     GLVKI       1\n",
       "                                                                     KEKKN       1\n",
       "Nicotiana tabacum (Common tobacco)                                   DPRNP      38\n",
       "                                                                     EEKKN      25\n",
       "                                                                     EEKKD      16\n",
       "                                                                     DPRNS       7\n",
       "                                                                     GNKKF       4\n",
       "                                                                     DPKNP       2\n",
       "                                                                     EEDKN       2\n",
       "                                                                     EEKDN       2\n",
       "                                                                     EEKNN       2\n",
       "                                                                     EGETI       2\n",
       "                                                                     EKEDN       2\n",
       "                                                                     ESDEP       2\n",
       "                                                                     GDEQI       2\n",
       "                                                                     GLVKI       2\n",
       "                                                                     KEKDN       1\n",
       "                                                                     KEKKN       1\n",
       "Nicotiana umbratica                                                  EEKKN       5\n",
       "                                                                     DPRNP       4\n",
       "Solanum americanum (American black nightshade) (Solanum nodiflorum)  EGSPQ       3\n",
       "                                                                     EGSPE       2\n",
       "                                                                     DPKNP       1\n",
       "                                                                     DPRNP       1\n",
       "                                                                     EGETI       1\n",
       "Solanum chacoense (Chaco potato)                                     EGSPE       2\n",
       "                                                                     DPKKP       1\n",
       "                                                                     DPKNP       1\n",
       "                                                                     DPRNP       1\n",
       "                                                                     EGNRV       1\n",
       "                                                                     GSTKL       1\n",
       "Solanum lycopersicum (Tomato) (Lycopersicon esculentum)              DPKRP       5\n",
       "                                                                     EGSPL       5\n",
       "                                                                     DPRKP       3\n",
       "                                                                     ETKRV       3\n",
       "                                                                     GGKTF       3\n",
       "                                                                     GLAKL       3\n",
       "                                                                     QGSPQ       3\n",
       "                                                                     DPKNP       2\n",
       "                                                                     EGKTI       2\n",
       "                                                                     EGSPE       2\n",
       "                                                                     KISNK       2\n",
       "                                                                     DNNHG       1\n",
       "                                                                     DPKKP       1\n",
       "                                                                     DPRNP       1\n",
       "                                                                     EGSPK       1\n",
       "                                                                     EGSPR       1\n",
       "                                                                     EISNK       1\n",
       "                                                                     EKDNN       1\n",
       "                                                                     ESDEP       1\n",
       "                                                                     GNKKF       1\n",
       "Solanum melongena (Eggplant) (Aubergine)                             NPENP       1\n",
       "Solanum nigrum (Black nightshade)                                    EGSPE       2\n",
       "                                                                     ETKRI       2\n",
       "                                                                     DPKNP       1\n",
       "                                                                     DPRNP       1\n",
       "Solanum phureja                                                      DPKNP       1\n",
       "                                                                     EGSPE       1\n",
       "Solanum tuberosum (Potato)                                           EGSPE      20\n",
       "                                                                     DPKNP      17\n",
       "                                                                     DPKKP      13\n",
       "                                                                     GDEQI       6\n",
       "                                                                     DPRKP       2\n",
       "                                                                     DPRNP       2\n",
       "                                                                     GLAKL       2\n",
       "                                                                     DLKNP       1\n",
       "                                                                     EGKTI       1\n",
       "                                                                     EGNRV       1\n",
       "                                                                     EGSPK       1\n",
       "                                                                     EGSPR       1\n",
       "                                                                     EGSPT       1\n",
       "                                                                     GGNTL       1\n",
       "                                                                     GLAKI       1\n",
       "                                                                     GNKKF       1\n",
       "                                                                     GSTKL       1\n",
       "                                                                     HPKNP       1\n",
       "                                                                     RGKTL       1\n",
       "Name: Linker, dtype: int64"
      ]
     },
     "execution_count": 202,
     "metadata": {},
     "output_type": "execute_result"
    }
   ],
   "source": [
    "pinir.groupby('Organism').Linker.value_counts()"
   ]
  },
  {
   "cell_type": "code",
   "execution_count": 4,
   "metadata": {},
   "outputs": [],
   "source": [
    "domains=pd.read_csv('PINIRV4/dom_rcl_linker_tp.csv')"
   ]
  },
  {
   "cell_type": "code",
   "execution_count": 6,
   "metadata": {},
   "outputs": [
    {
     "data": {
      "text/plain": [
       "695"
      ]
     },
     "execution_count": 6,
     "metadata": {},
     "output_type": "execute_result"
    }
   ],
   "source": [
    "domains.id.count()"
   ]
  },
  {
   "cell_type": "code",
   "execution_count": 8,
   "metadata": {},
   "outputs": [
    {
     "data": {
      "text/plain": [
       "63"
      ]
     },
     "execution_count": 8,
     "metadata": {},
     "output_type": "execute_result"
    }
   ],
   "source": [
    "domains.RclID.nunique()"
   ]
  },
  {
   "cell_type": "code",
   "execution_count": 11,
   "metadata": {},
   "outputs": [
    {
     "data": {
      "text/html": [
       "<div>\n",
       "<style scoped>\n",
       "    .dataframe tbody tr th:only-of-type {\n",
       "        vertical-align: middle;\n",
       "    }\n",
       "\n",
       "    .dataframe tbody tr th {\n",
       "        vertical-align: top;\n",
       "    }\n",
       "\n",
       "    .dataframe thead th {\n",
       "        text-align: right;\n",
       "    }\n",
       "</style>\n",
       "<table border=\"1\" class=\"dataframe\">\n",
       "  <thead>\n",
       "    <tr style=\"text-align: right;\">\n",
       "      <th></th>\n",
       "      <th>UniprotID</th>\n",
       "      <th>OrganismID</th>\n",
       "      <th>Organism</th>\n",
       "      <th>Solanaceae</th>\n",
       "      <th>DomainID</th>\n",
       "      <th>DomainType</th>\n",
       "      <th>RclID</th>\n",
       "      <th>Rcl</th>\n",
       "      <th>linkerID</th>\n",
       "      <th>Linker</th>\n",
       "      <th>LinkerType</th>\n",
       "      <th>tpID</th>\n",
       "      <th>TargetProtease</th>\n",
       "    </tr>\n",
       "  </thead>\n",
       "  <tbody>\n",
       "    <tr>\n",
       "      <th>0</th>\n",
       "      <td>K4D750</td>\n",
       "      <td>4081</td>\n",
       "      <td>Solanum lycopersicum (Tomato) (Lycopersicon es...</td>\n",
       "      <td>1</td>\n",
       "      <td>IRD-1</td>\n",
       "      <td>3</td>\n",
       "      <td>RL-1</td>\n",
       "      <td>CPRNC</td>\n",
       "      <td>NaN</td>\n",
       "      <td>NaN</td>\n",
       "      <td>NaN</td>\n",
       "      <td>TP-1</td>\n",
       "      <td>Trypsin</td>\n",
       "    </tr>\n",
       "    <tr>\n",
       "      <th>1</th>\n",
       "      <td>E9JGT0</td>\n",
       "      <td>4112</td>\n",
       "      <td>Solanum nigrum (Black nightshade)</td>\n",
       "      <td>1</td>\n",
       "      <td>IRD-3</td>\n",
       "      <td>3</td>\n",
       "      <td>RL-1</td>\n",
       "      <td>CPRNC</td>\n",
       "      <td>NaN</td>\n",
       "      <td>NaN</td>\n",
       "      <td>NaN</td>\n",
       "      <td>TP-1</td>\n",
       "      <td>Trypsin</td>\n",
       "    </tr>\n",
       "    <tr>\n",
       "      <th>2</th>\n",
       "      <td>Q7M222</td>\n",
       "      <td>4081</td>\n",
       "      <td>Solanum lycopersicum (Tomato) (Lycopersicon es...</td>\n",
       "      <td>1</td>\n",
       "      <td>IRD-4</td>\n",
       "      <td>3</td>\n",
       "      <td>RL-1</td>\n",
       "      <td>CPRNC</td>\n",
       "      <td>NaN</td>\n",
       "      <td>NaN</td>\n",
       "      <td>NaN</td>\n",
       "      <td>TP-1</td>\n",
       "      <td>Trypsin</td>\n",
       "    </tr>\n",
       "    <tr>\n",
       "      <th>3</th>\n",
       "      <td>A0A1S4BIG0</td>\n",
       "      <td>4097</td>\n",
       "      <td>Nicotiana tabacum (Common tobacco)</td>\n",
       "      <td>1</td>\n",
       "      <td>IRD-5</td>\n",
       "      <td>3</td>\n",
       "      <td>RL-1</td>\n",
       "      <td>CPRNC</td>\n",
       "      <td>NaN</td>\n",
       "      <td>NaN</td>\n",
       "      <td>NaN</td>\n",
       "      <td>TP-1</td>\n",
       "      <td>Trypsin</td>\n",
       "    </tr>\n",
       "    <tr>\n",
       "      <th>4</th>\n",
       "      <td>A0A1S3Z2Q3</td>\n",
       "      <td>4097</td>\n",
       "      <td>Nicotiana tabacum (Common tobacco)</td>\n",
       "      <td>1</td>\n",
       "      <td>IRD-6</td>\n",
       "      <td>3</td>\n",
       "      <td>RL-5</td>\n",
       "      <td>CPFNC</td>\n",
       "      <td>NaN</td>\n",
       "      <td>NaN</td>\n",
       "      <td>NaN</td>\n",
       "      <td>TP-2</td>\n",
       "      <td>Chymotrypsin</td>\n",
       "    </tr>\n",
       "  </tbody>\n",
       "</table>\n",
       "</div>"
      ],
      "text/plain": [
       "    UniprotID  OrganismID                                           Organism  \\\n",
       "0      K4D750        4081  Solanum lycopersicum (Tomato) (Lycopersicon es...   \n",
       "1      E9JGT0        4112                  Solanum nigrum (Black nightshade)   \n",
       "2      Q7M222        4081  Solanum lycopersicum (Tomato) (Lycopersicon es...   \n",
       "3  A0A1S4BIG0        4097                 Nicotiana tabacum (Common tobacco)   \n",
       "4  A0A1S3Z2Q3        4097                 Nicotiana tabacum (Common tobacco)   \n",
       "\n",
       "   Solanaceae DomainID  DomainType RclID    Rcl linkerID Linker  LinkerType  \\\n",
       "0           1    IRD-1           3  RL-1  CPRNC      NaN    NaN         NaN   \n",
       "1           1    IRD-3           3  RL-1  CPRNC      NaN    NaN         NaN   \n",
       "2           1    IRD-4           3  RL-1  CPRNC      NaN    NaN         NaN   \n",
       "3           1    IRD-5           3  RL-1  CPRNC      NaN    NaN         NaN   \n",
       "4           1    IRD-6           3  RL-5  CPFNC      NaN    NaN         NaN   \n",
       "\n",
       "   tpID TargetProtease  \n",
       "0  TP-1        Trypsin  \n",
       "1  TP-1        Trypsin  \n",
       "2  TP-1        Trypsin  \n",
       "3  TP-1        Trypsin  \n",
       "4  TP-2   Chymotrypsin  "
      ]
     },
     "execution_count": 11,
     "metadata": {},
     "output_type": "execute_result"
    }
   ],
   "source": [
    "pinir.head()"
   ]
  },
  {
   "cell_type": "code",
   "execution_count": 12,
   "metadata": {},
   "outputs": [
    {
     "data": {
      "text/plain": [
       "63"
      ]
     },
     "execution_count": 12,
     "metadata": {},
     "output_type": "execute_result"
    }
   ],
   "source": [
    "pinir.RclID.nunique()"
   ]
  },
  {
   "cell_type": "code",
   "execution_count": 13,
   "metadata": {},
   "outputs": [
    {
     "data": {
      "text/plain": [
       "CPRNC    578\n",
       "CTLNC    113\n",
       "CPRYC     94\n",
       "CPLNC     55\n",
       "CTLEC     51\n",
       "CPQFC     35\n",
       "CTREC     34\n",
       "CPLYC     29\n",
       "CTKEC     27\n",
       "CPQYC     22\n",
       "CSKEC     21\n",
       "CPKNC     17\n",
       "CPFNC     16\n",
       "CTFEC     14\n",
       "CTFNC     13\n",
       "CTQEC     11\n",
       "CTQQC     10\n",
       "CLQVC      9\n",
       "CTRNC      8\n",
       "CTTEC      8\n",
       "CPRDC      7\n",
       "CPLIC      7\n",
       "CTMEC      7\n",
       "CLQFC      6\n",
       "CTQHC      6\n",
       "CPQIC      5\n",
       "CPANC      5\n",
       "CSRNC      5\n",
       "CPAIC      5\n",
       "CSYEC      4\n",
       "        ... \n",
       "CAMYC      4\n",
       "CPRIC      4\n",
       "CPPNC      4\n",
       "CRRNC      4\n",
       "CLQYC      3\n",
       "CPLFC      3\n",
       "CTPNC      2\n",
       "CPFYC      2\n",
       "CTIEC      2\n",
       "CPQNC      2\n",
       "CPLVC      2\n",
       "CHLNC      2\n",
       "CLGNC      2\n",
       "CTLDC      2\n",
       "CNKIC      2\n",
       "CSFNC      1\n",
       "CIREC      1\n",
       "CYLYC      1\n",
       "CTFKC      1\n",
       "CHQYC      1\n",
       "CPFFC      1\n",
       "CLQKC      1\n",
       "CTQDC      1\n",
       "CPMYC      1\n",
       "CPRFC      1\n",
       "CYLIC      1\n",
       "CPDIC      1\n",
       "CIQIC      1\n",
       "CIEIC      1\n",
       "CIETC      1\n",
       "Name: Rcl, Length: 63, dtype: int64"
      ]
     },
     "execution_count": 13,
     "metadata": {},
     "output_type": "execute_result"
    }
   ],
   "source": [
    "pinir.Rcl.value_counts()"
   ]
  },
  {
   "cell_type": "code",
   "execution_count": 23,
   "metadata": {},
   "outputs": [],
   "source": [
    "#pinir.groupby('Rcl').Organism.value_counts().to_csv('PINIRV4/d24_RclOccurrenceInSpecies.csv')"
   ]
  },
  {
   "cell_type": "code",
   "execution_count": 24,
   "metadata": {},
   "outputs": [
    {
     "data": {
      "text/plain": [
       "Rcl    Organism                                                           \n",
       "CAMYC  Panicum hallii var. hallii                                             2\n",
       "       Setaria italica (Foxtail millet) (Panicum italicum)                    2\n",
       "CHLNC  Solanum lycopersicum (Tomato) (Lycopersicon esculentum)                2\n",
       "CHQYC  Aegilops tauschii (Tausch's goatgrass) (Aegilops squarrosa)            1\n",
       "CIEIC  Saccharum hybrid cultivar R570                                         1\n",
       "CIETC  Sorghum bicolor (Sorghum) (Sorghum vulgare)                            1\n",
       "CIQIC  Rosa chinensis (China rose)                                            1\n",
       "CIQVC  Capsicum annuum (Bell pepper)                                          2\n",
       "       Capsicum baccatum (Peruvian pepper)                                    1\n",
       "       Capsicum chinense (Scotch bonnet) (Bonnet pepper)                      1\n",
       "CIREC  Solanum tuberosum (Potato)                                             1\n",
       "CLGNC  Capsicum baccatum (Peruvian pepper)                                    2\n",
       "CLQFC  Nicotiana tabacum (Common tobacco)                                     2\n",
       "       Capsicum baccatum (Peruvian pepper)                                    1\n",
       "       Capsicum chinense (Scotch bonnet) (Bonnet pepper)                      1\n",
       "       Nicotiana attenuata (Coyote tobacco)                                   1\n",
       "       Nicotiana sylvestris (Wood tobacco) (South American tobacco)           1\n",
       "CLQKC  Nicotiana sylvestris (Wood tobacco) (South American tobacco)           1\n",
       "CLQVC  Solanum tuberosum (Potato)                                             4\n",
       "       Capsicum annuum (Bell pepper)                                          2\n",
       "       Capsicum baccatum (Peruvian pepper)                                    1\n",
       "       Capsicum chinense (Scotch bonnet) (Bonnet pepper)                      1\n",
       "       Solanum lycopersicum (Tomato) (Lycopersicon esculentum)                1\n",
       "CLQYC  Solanum tuberosum (Potato)                                             3\n",
       "CNKIC  Prunus persica (Peach) (Amygdalus persica)                             1\n",
       "       Prunus yedoensis var. nudiflora                                        1\n",
       "CPAIC  Capsicum chinense (Scotch bonnet) (Bonnet pepper)                      3\n",
       "       Capsicum baccatum (Peruvian pepper)                                    2\n",
       "CPANC  Capsicum chinense (Scotch bonnet) (Bonnet pepper)                      3\n",
       "       Capsicum baccatum (Peruvian pepper)                                    2\n",
       "                                                                             ..\n",
       "CTQEC  Capsicum chinense (Scotch bonnet) (Bonnet pepper)                      2\n",
       "       Solanum tuberosum (Potato)                                             2\n",
       "       Cuscuta australis                                                      1\n",
       "CTQHC  Capsicum annuum (Bell pepper)                                          4\n",
       "       Capsicum chinense (Scotch bonnet) (Bonnet pepper)                      2\n",
       "CTQQC  Solanum lycopersicum (Tomato) (Lycopersicon esculentum)                4\n",
       "       Solanum tuberosum (Potato)                                             4\n",
       "       Solanum chacoense (Chaco potato)                                       2\n",
       "CTREC  Solanum lycopersicum (Tomato) (Lycopersicon esculentum)                7\n",
       "       Capsicum annuum (Bell pepper)                                          6\n",
       "       Solanum americanum (American black nightshade) (Solanum nodiflorum)    5\n",
       "       Nicotiana occidentalis subsp. hesperis                                 3\n",
       "       Selaginella moellendorffii (Spikemoss)                                 3\n",
       "       Solanum nigrum (Black nightshade)                                      3\n",
       "       Capsicum baccatum (Peruvian pepper)                                    1\n",
       "       Nicotiana benthamiana                                                  1\n",
       "       Nicotiana cavicola                                                     1\n",
       "       Nicotiana megalosiphon                                                 1\n",
       "       Nicotiana simulans                                                     1\n",
       "       Nicotiana umbratica                                                    1\n",
       "       Solanum tuberosum (Potato)                                             1\n",
       "CTRNC  Nicotiana tabacum (Common tobacco)                                     4\n",
       "       Nicotiana sylvestris (Wood tobacco) (South American tobacco)           2\n",
       "       Nicotiana attenuata (Coyote tobacco)                                   1\n",
       "       Solanum tuberosum (Potato)                                             1\n",
       "CTTEC  Nicotiana tabacum (Common tobacco)                                     4\n",
       "       Nicotiana attenuata (Coyote tobacco)                                   2\n",
       "       Nicotiana sylvestris (Wood tobacco) (South American tobacco)           2\n",
       "CYLIC  Genlisea aurea                                                         1\n",
       "CYLYC  Daucus carota subsp. sativus                                           1\n",
       "Name: Organism, Length: 256, dtype: int64"
      ]
     },
     "execution_count": 24,
     "metadata": {},
     "output_type": "execute_result"
    }
   ],
   "source": [
    "pinir.groupby('Rcl').Organism.value_counts()"
   ]
  },
  {
   "cell_type": "code",
   "execution_count": 29,
   "metadata": {},
   "outputs": [],
   "source": [
    "#pinir.groupby('Organism').Rcl.value_counts().to_csv('PINIRV4/d25_OrganismDiversityOfRCL.csv')"
   ]
  },
  {
   "cell_type": "code",
   "execution_count": 30,
   "metadata": {},
   "outputs": [
    {
     "data": {
      "text/plain": [
       "Organism                                                                              Rcl  \n",
       "Aegilops tauschii (Tausch's goatgrass) (Aegilops squarrosa)                           CHQYC      1\n",
       "Ananas comosus (Pineapple) (Ananas ananas)                                            CPQYC      2\n",
       "Apostasia shenzhenica                                                                 CPLYC      1\n",
       "Arabidopsis lyrata subsp. lyrata (Lyre-leaved rock-cress)                             CPLYC      1\n",
       "Arabidopsis thaliana (Mouse-ear cress)                                                CPLYC      2\n",
       "Brachypodium distachyon (Purple false brome) (Trachynia distachya)                    CPQYC      1\n",
       "Brassica oleracea var. oleracea                                                       CPLYC      1\n",
       "Brassica rapa subsp. pekinensis (Chinese cabbage) (Brassica pekinensis)               CPLYC      1\n",
       "Capsella rubella                                                                      CPLYC      1\n",
       "Capsicum annuum (Bell pepper)                                                         CPRNC    188\n",
       "                                                                                      CPRYC     88\n",
       "                                                                                      CTLNC     81\n",
       "                                                                                      CTLEC     16\n",
       "                                                                                      CPKNC     12\n",
       "                                                                                      CTREC      6\n",
       "                                                                                      CTQEC      4\n",
       "                                                                                      CTQHC      4\n",
       "                                                                                      CSRNC      3\n",
       "                                                                                      CIQVC      2\n",
       "                                                                                      CLQVC      2\n",
       "                                                                                      CPQFC      2\n",
       "                                                                                      CTKEC      2\n",
       "                                                                                      CTMEC      2\n",
       "                                                                                      CTPNC      2\n",
       "                                                                                      CPQIC      1\n",
       "                                                                                      CPRDC      1\n",
       "Capsicum baccatum (Peruvian pepper)                                                   CPRNC      5\n",
       "                                                                                      CPRYC      4\n",
       "                                                                                      CTLEC      4\n",
       "                                                                                      CLGNC      2\n",
       "                                                                                      CPAIC      2\n",
       "                                                                                      CPANC      2\n",
       "                                                                                      CTKEC      2\n",
       "                                                                                      CTLDC      2\n",
       "                                                                                      CTQEC      2\n",
       "                                                                                      CIQVC      1\n",
       "                                                                                      CLQFC      1\n",
       "                                                                                      CLQVC      1\n",
       "                                                                                      CPKNC      1\n",
       "                                                                                      CPQFC      1\n",
       "                                                                                      CPQIC      1\n",
       "                                                                                      CPRDC      1\n",
       "                                                                                      CTREC      1\n",
       "Capsicum chinense (Scotch bonnet) (Bonnet pepper)                                     CPRNC     10\n",
       "                                                                                      CTLNC      5\n",
       "                                                                                      CTLEC      4\n",
       "                                                                                      CPAIC      3\n",
       "                                                                                      CPANC      3\n",
       "                                                                                      CPRYC      2\n",
       "                                                                                      CSRNC      2\n",
       "                                                                                      CTKEC      2\n",
       "                                                                                      CTQEC      2\n",
       "                                                                                      CTQHC      2\n",
       "                                                                                      CIQVC      1\n",
       "                                                                                      CLQFC      1\n",
       "                                                                                      CLQVC      1\n",
       "                                                                                      CPKNC      1\n",
       "                                                                                      CPQIC      1\n",
       "                                                                                      CPRDC      1\n",
       "                                                                                      CTMEC      1\n",
       "Cicer arietinum (Chickpea) (Garbanzo)                                                 CPLIC      1\n",
       "Coffea canephora (Robusta coffee)                                                     CPQYC      2\n",
       "                                                                                      CPFFC      1\n",
       "                                                                                      CPLVC      1\n",
       "                                                                                      CPRFC      1\n",
       "Cuscuta australis                                                                     CPRNC      1\n",
       "                                                                                      CTLEC      1\n",
       "                                                                                      CTQEC      1\n",
       "Daucus carota subsp. sativus                                                          CYLYC      1\n",
       "Dendrobium catenatum                                                                  CPQYC      1\n",
       "Dichanthelium oligosanthes                                                            CPLYC      1\n",
       "                                                                                      CPQFC      1\n",
       "                                                                                      CPQYC      1\n",
       "Dorcoceras hygrometricum                                                              CPLYC      1\n",
       "Erythranthe guttata (Yellow monkey flower) (Mimulus guttatus)                         CPLYC      1\n",
       "Eucalyptus grandis (Flooded gum)                                                      CPLVC      1\n",
       "Fagus sylvatica (Beechnut)                                                            CPLYC      1\n",
       "Genlisea aurea                                                                        CPLFC      1\n",
       "                                                                                      CYLIC      1\n",
       "Handroanthus impetiginosus                                                            CPLYC      3\n",
       "Hordeum vulgare subsp. vulgare (Domesticated barley)                                  CPQYC      1\n",
       "Jatropha curcas (Barbados nut)                                                        CPLYC      1\n",
       "Juglans regia (English walnut)                                                        CPLYC      1\n",
       "Leersia perrieri                                                                      CPQFC      2\n",
       "Manihot esculenta (Cassava) (Jatropha manihot)                                        CPLYC      2\n",
       "Medicago truncatula (Barrel medic) (Medicago tribuloides)                             CPQFC      2\n",
       "Morus notabilis                                                                       CPQYC      1\n",
       "Mucuna pruriens (Velvet bean) (Dolichos pruriens)                                     CPQIC      1\n",
       "Nicotiana acuminata (Acuminate tobacco)                                               CPRNC     12\n",
       "                                                                                      CPFNC      1\n",
       "Nicotiana alata (Winged tobacco) (Persian tobacco)                                    CPRNC     12\n",
       "                                                                                      CTLNC      6\n",
       "Nicotiana attenuata (Coyote tobacco)                                                  CPRNC     43\n",
       "                                                                                      CPQFC      2\n",
       "                                                                                      CTTEC      2\n",
       "                                                                                      CLQFC      1\n",
       "                                                                                      CPRDC      1\n",
       "                                                                                      CTKEC      1\n",
       "                                                                                      CTRNC      1\n",
       "Nicotiana benthamiana                                                                 CPRNC      4\n",
       "                                                                                      CTFEC      2\n",
       "                                                                                      CTREC      1\n",
       "Nicotiana cavicola                                                                    CTFEC      2\n",
       "                                                                                      CTREC      1\n",
       "Nicotiana clevelandii (Wild tobacco)                                                  CPRNC     11\n",
       "Nicotiana corymbosa                                                                   CPRNC      2\n",
       "                                                                                      CPFNC      1\n",
       "Nicotiana glutinosa (Tobacco)                                                         CPRNC     22\n",
       "                                                                                      CPLNC      4\n",
       "Nicotiana linearis                                                                    CPRNC      9\n",
       "Nicotiana megalosiphon                                                                CPRNC      6\n",
       "                                                                                      CTFEC      2\n",
       "                                                                                      CTREC      1\n",
       "Nicotiana miersii                                                                     CPRNC     10\n",
       "                                                                                      CTFNC      1\n",
       "Nicotiana obtusifolia                                                                 CPRNC     26\n",
       "                                                                                      CPFNC      4\n",
       "Nicotiana occidentalis subsp. hesperis                                                CPRNC      6\n",
       "                                                                                      CTREC      3\n",
       "                                                                                      CTIEC      2\n",
       "Nicotiana pauciflora                                                                  CPRNC     10\n",
       "                                                                                      CPFNC      1\n",
       "Nicotiana quadrivalvis                                                                CPRNC     11\n",
       "Nicotiana repanda                                                                     CPLNC      6\n",
       "                                                                                      CPQNC      2\n",
       "                                                                                      CPRNC      2\n",
       "                                                                                      CTFNC      1\n",
       "Nicotiana rustica (Aztec tobacco)                                                     CPRNC      8\n",
       "                                                                                      CTLNC      5\n",
       "Nicotiana simulans                                                                    CPRNC      6\n",
       "                                                                                      CTFEC      2\n",
       "                                                                                      CTREC      1\n",
       "Nicotiana spegazzinii                                                                 CPRNC      7\n",
       "                                                                                      CPRIC      2\n",
       "Nicotiana sylvestris (Wood tobacco) (South American tobacco)                          CPRNC     41\n",
       "                                                                                      CTLNC      6\n",
       "                                                                                      CPLNC      2\n",
       "                                                                                      CPQFC      2\n",
       "                                                                                      CRRNC      2\n",
       "                                                                                      CTRNC      2\n",
       "                                                                                      CTTEC      2\n",
       "                                                                                      CLQFC      1\n",
       "                                                                                      CLQKC      1\n",
       "                                                                                      CPRDC      1\n",
       "                                                                                      CSFNC      1\n",
       "                                                                                      CTKEC      1\n",
       "Nicotiana tabacum (Common tobacco)                                                    CPRNC     77\n",
       "                                                                                      CTLNC     10\n",
       "                                                                                      CPLNC      7\n",
       "                                                                                      CPFNC      5\n",
       "                                                                                      CPQFC      4\n",
       "                                                                                      CTRNC      4\n",
       "                                                                                      CTTEC      4\n",
       "                                                                                      CLQFC      2\n",
       "                                                                                      CPPNC      2\n",
       "                                                                                      CPRDC      2\n",
       "                                                                                      CRRNC      2\n",
       "                                                                                      CTKEC      2\n",
       "                                                                                      CTQDC      1\n",
       "Nicotiana umbratica                                                                   CPRNC      6\n",
       "                                                                                      CTFEC      2\n",
       "                                                                                      CTREC      1\n",
       "Noccaea caerulescens (Alpine penny-cress) (Thlaspi caerulescens)                      CPLYC      4\n",
       "Olea europaea (Common olive)                                                          CTKEC      1\n",
       "Oryza barthii                                                                         CPQFC      1\n",
       "Oryza brachyantha                                                                     CPQFC      1\n",
       "Oryza glaberrima (African rice)                                                       CPQFC      1\n",
       "Oryza glumipatula                                                                     CPQFC      1\n",
       "Oryza meridionalis                                                                    CPQFC      1\n",
       "Oryza nivara (Indian wild rice) (Oryza sativa f. spontanea)                           CPQFC      1\n",
       "Oryza punctata (Red rice)                                                             CPQFC      1\n",
       "Oryza rufipogon (Brownbeard rice) (Asian wild rice)                                   CPQFC      1\n",
       "Oryza sativa subsp. indica (Rice)                                                     CPQFC      1\n",
       "Oryza sativa subsp. japonica (Rice)                                                   CPQFC      1\n",
       "Panicum hallii                                                                        CPQYC      1\n",
       "Panicum hallii var. hallii                                                            CAMYC      2\n",
       "                                                                                      CPQYC      2\n",
       "Parasponia andersonii (Sponia andersonii)                                             CPQFC      1\n",
       "Populus trichocarpa (Western balsam poplar) (Populus balsamifera subsp. trichocarpa)  CPLYC      2\n",
       "Prunus persica (Peach) (Amygdalus persica)                                            CPQYC      2\n",
       "                                                                                      CNKIC      1\n",
       "Prunus yedoensis var. nudiflora                                                       CNKIC      1\n",
       "Punica granatum (Pomegranate)                                                         CPQYC      1\n",
       "Quercus suber (Cork oak)                                                              CPQYC      3\n",
       "                                                                                      CPDIC      1\n",
       "Ricinus communis (Castor bean)                                                        CPLYC      1\n",
       "Rosa chinensis (China rose)                                                           CPLIC      2\n",
       "                                                                                      CIQIC      1\n",
       "                                                                                      CPQFC      1\n",
       "                                                                                      CPQIC      1\n",
       "Saccharum hybrid cultivar R570                                                        CIEIC      1\n",
       "                                                                                      CPMYC      1\n",
       "Selaginella moellendorffii (Spikemoss)                                                CPLIC      4\n",
       "                                                                                      CTREC      3\n",
       "                                                                                      CTLEC      2\n",
       "                                                                                      CPQYC      1\n",
       "                                                                                      CTFKC      1\n",
       "Setaria italica (Foxtail millet) (Panicum italicum)                                   CAMYC      2\n",
       "Solanum americanum (American black nightshade) (Solanum nodiflorum)                   CTREC      5\n",
       "                                                                                      CPLFC      2\n",
       "                                                                                      CTFEC      2\n",
       "Solanum chacoense (Chaco potato)                                                      CPLNC      4\n",
       "                                                                                      CSKEC      2\n",
       "                                                                                      CSYEC      2\n",
       "                                                                                      CTQQC      2\n",
       "                                                                                      CPKNC      1\n",
       "                                                                                      CPRIC      1\n",
       "                                                                                      CTLEC      1\n",
       "Solanum lycopersicum (Tomato) (Lycopersicon esculentum)                               CTKEC     13\n",
       "                                                                                      CTFNC     11\n",
       "                                                                                      CPRNC      9\n",
       "                                                                                      CTREC      7\n",
       "                                                                                      CPKEC      4\n",
       "                                                                                      CPSYC      4\n",
       "                                                                                      CTQQC      4\n",
       "                                                                                      CTMEC      3\n",
       "                                                                                      CHLNC      2\n",
       "                                                                                      CPFNC      2\n",
       "                                                                                      CPLNC      2\n",
       "                                                                                      CLQVC      1\n",
       "                                                                                      CPQFC      1\n",
       "Solanum melongena (Eggplant) (Aubergine)                                              CPRNC      1\n",
       "Solanum nigrum (Black nightshade)                                                     CPRNC      6\n",
       "                                                                                      CTREC      3\n",
       "                                                                                      CPLYC      2\n",
       "                                                                                      CTFEC      2\n",
       "Solanum phureja                                                                       CPRNC      2\n",
       "                                                                                      CTLEC      1\n",
       "Solanum tuberosum (Potato)                                                            CPLNC     30\n",
       "                                                                                      CPRNC     25\n",
       "                                                                                      CTLEC     22\n",
       "                                                                                      CSKEC     19\n",
       "                                                                                      CLQVC      4\n",
       "                                                                                      CTQQC      4\n",
       "                                                                                      CLQYC      3\n",
       "                                                                                      CPQFC      3\n",
       "                                                                                      CTKEC      3\n",
       "                                                                                      CPFNC      2\n",
       "                                                                                      CPFYC      2\n",
       "                                                                                      CPKNC      2\n",
       "                                                                                      CPPNC      2\n",
       "                                                                                      CSYEC      2\n",
       "                                                                                      CTQEC      2\n",
       "                                                                                      CIREC      1\n",
       "                                                                                      CPRIC      1\n",
       "                                                                                      CTMEC      1\n",
       "                                                                                      CTREC      1\n",
       "                                                                                      CTRNC      1\n",
       "Sorghum bicolor (Sorghum) (Sorghum vulgare)                                           CIETC      1\n",
       "                                                                                      CPLYC      1\n",
       "                                                                                      CPQYC      1\n",
       "Spinacia oleracea (Spinach)                                                           CPQFC      1\n",
       "Triticum aestivum (Wheat)                                                             CPQYC      1\n",
       "Triticum urartu (Red wild einkorn) (Crithodium urartu)                                CPQYC      1\n",
       "Vitis vinifera (Grape)                                                                CPLYC      1\n",
       "Zea mays (Maize)                                                                      CPQFC      2\n",
       "Name: Rcl, dtype: int64"
      ]
     },
     "execution_count": 30,
     "metadata": {},
     "output_type": "execute_result"
    }
   ],
   "source": [
    "pinir.groupby('Organism').Rcl.value_counts()"
   ]
  },
  {
   "cell_type": "code",
   "execution_count": 31,
   "metadata": {},
   "outputs": [
    {
     "data": {
      "text/plain": [
       "Index(['UniprotID', 'OrganismID', 'Organism', 'Solanaceae', 'DomainID',\n",
       "       'DomainType', 'RclID', 'Rcl', 'linkerID', 'Linker', 'LinkerType',\n",
       "       'tpID', 'TargetProtease'],\n",
       "      dtype='object')"
      ]
     },
     "execution_count": 31,
     "metadata": {},
     "output_type": "execute_result"
    }
   ],
   "source": [
    "pinir.columns"
   ]
  },
  {
   "cell_type": "code",
   "execution_count": 34,
   "metadata": {},
   "outputs": [],
   "source": [
    "#pinir.groupby('Solanaceae').Rcl.value_counts().to_csv('PINIRV4/d25_SolanaceaeDiversityOfRcl.csv')"
   ]
  },
  {
   "cell_type": "code",
   "execution_count": 35,
   "metadata": {},
   "outputs": [
    {
     "data": {
      "text/plain": [
       "Solanaceae  Rcl  \n",
       "0           CPLYC     27\n",
       "            CPQYC     22\n",
       "            CPQFC     20\n",
       "            CPLIC      7\n",
       "            CAMYC      4\n",
       "            CTLEC      3\n",
       "            CTREC      3\n",
       "            CNKIC      2\n",
       "            CPLVC      2\n",
       "            CPQIC      2\n",
       "            CHQYC      1\n",
       "            CIEIC      1\n",
       "            CIETC      1\n",
       "            CIQIC      1\n",
       "            CPDIC      1\n",
       "            CPFFC      1\n",
       "            CPLFC      1\n",
       "            CPMYC      1\n",
       "            CPRFC      1\n",
       "            CPRNC      1\n",
       "            CTFKC      1\n",
       "            CTKEC      1\n",
       "            CTQEC      1\n",
       "            CYLIC      1\n",
       "            CYLYC      1\n",
       "1           CPRNC    577\n",
       "            CTLNC    113\n",
       "            CPRYC     94\n",
       "            CPLNC     55\n",
       "            CTLEC     48\n",
       "            CTREC     31\n",
       "            CTKEC     26\n",
       "            CSKEC     21\n",
       "            CPKNC     17\n",
       "            CPFNC     16\n",
       "            CPQFC     15\n",
       "            CTFEC     14\n",
       "            CTFNC     13\n",
       "            CTQEC     10\n",
       "            CTQQC     10\n",
       "            CLQVC      9\n",
       "            CTRNC      8\n",
       "            CTTEC      8\n",
       "            CPRDC      7\n",
       "            CTMEC      7\n",
       "            CLQFC      6\n",
       "            CTQHC      6\n",
       "            CPAIC      5\n",
       "            CPANC      5\n",
       "            CSRNC      5\n",
       "            CIQVC      4\n",
       "            CPKEC      4\n",
       "            CPPNC      4\n",
       "            CPRIC      4\n",
       "            CPSYC      4\n",
       "            CRRNC      4\n",
       "            CSYEC      4\n",
       "            CLQYC      3\n",
       "            CPQIC      3\n",
       "            CHLNC      2\n",
       "            CLGNC      2\n",
       "            CPFYC      2\n",
       "            CPLFC      2\n",
       "            CPLYC      2\n",
       "            CPQNC      2\n",
       "            CTIEC      2\n",
       "            CTLDC      2\n",
       "            CTPNC      2\n",
       "            CIREC      1\n",
       "            CLQKC      1\n",
       "            CSFNC      1\n",
       "            CTQDC      1\n",
       "Name: Rcl, dtype: int64"
      ]
     },
     "execution_count": 35,
     "metadata": {},
     "output_type": "execute_result"
    }
   ],
   "source": [
    "pinir.groupby('Solanaceae').Rcl.value_counts()"
   ]
  },
  {
   "cell_type": "code",
   "execution_count": 36,
   "metadata": {},
   "outputs": [],
   "source": [
    "rcl=pd.read_csv('PINIRV4/rcl_targetProtease.csv')"
   ]
  },
  {
   "cell_type": "code",
   "execution_count": 37,
   "metadata": {},
   "outputs": [
    {
     "data": {
      "text/plain": [
       "id                63\n",
       "RclID             63\n",
       "Rcl               63\n",
       "targetProtease    63\n",
       "tpID              63\n",
       "dtype: int64"
      ]
     },
     "execution_count": 37,
     "metadata": {},
     "output_type": "execute_result"
    }
   ],
   "source": [
    "rcl.count()"
   ]
  },
  {
   "cell_type": "code",
   "execution_count": 38,
   "metadata": {},
   "outputs": [
    {
     "data": {
      "text/plain": [
       "Unknown         25\n",
       "Chymotrypsin    20\n",
       "Trypsin         15\n",
       "Elastase         3\n",
       "Name: targetProtease, dtype: int64"
      ]
     },
     "execution_count": 38,
     "metadata": {},
     "output_type": "execute_result"
    }
   ],
   "source": [
    "rcl.targetProtease.value_counts()"
   ]
  },
  {
   "cell_type": "code",
   "execution_count": 42,
   "metadata": {},
   "outputs": [
    {
     "data": {
      "text/plain": [
       "Trypsin         396\n",
       "Chymotrypsin    177\n",
       "Unknown         110\n",
       "Elastase         12\n",
       "Name: targetProtease, dtype: int64"
      ]
     },
     "execution_count": 42,
     "metadata": {},
     "output_type": "execute_result"
    }
   ],
   "source": [
    "domains.targetProtease.value_counts()"
   ]
  },
  {
   "cell_type": "code",
   "execution_count": 43,
   "metadata": {},
   "outputs": [
    {
     "data": {
      "text/html": [
       "<div>\n",
       "<style scoped>\n",
       "    .dataframe tbody tr th:only-of-type {\n",
       "        vertical-align: middle;\n",
       "    }\n",
       "\n",
       "    .dataframe tbody tr th {\n",
       "        vertical-align: top;\n",
       "    }\n",
       "\n",
       "    .dataframe thead th {\n",
       "        text-align: right;\n",
       "    }\n",
       "</style>\n",
       "<table border=\"1\" class=\"dataframe\">\n",
       "  <thead>\n",
       "    <tr style=\"text-align: right;\">\n",
       "      <th></th>\n",
       "      <th>UniprotID</th>\n",
       "      <th>OrganismID</th>\n",
       "      <th>Organism</th>\n",
       "      <th>Solanaceae</th>\n",
       "      <th>DomainID</th>\n",
       "      <th>DomainType</th>\n",
       "      <th>RclID</th>\n",
       "      <th>Rcl</th>\n",
       "      <th>linkerID</th>\n",
       "      <th>Linker</th>\n",
       "      <th>LinkerType</th>\n",
       "      <th>tpID</th>\n",
       "      <th>TargetProtease</th>\n",
       "    </tr>\n",
       "  </thead>\n",
       "  <tbody>\n",
       "    <tr>\n",
       "      <th>0</th>\n",
       "      <td>K4D750</td>\n",
       "      <td>4081</td>\n",
       "      <td>Solanum lycopersicum (Tomato) (Lycopersicon es...</td>\n",
       "      <td>1</td>\n",
       "      <td>IRD-1</td>\n",
       "      <td>3</td>\n",
       "      <td>RL-1</td>\n",
       "      <td>CPRNC</td>\n",
       "      <td>NaN</td>\n",
       "      <td>NaN</td>\n",
       "      <td>NaN</td>\n",
       "      <td>TP-1</td>\n",
       "      <td>Trypsin</td>\n",
       "    </tr>\n",
       "    <tr>\n",
       "      <th>1</th>\n",
       "      <td>E9JGT0</td>\n",
       "      <td>4112</td>\n",
       "      <td>Solanum nigrum (Black nightshade)</td>\n",
       "      <td>1</td>\n",
       "      <td>IRD-3</td>\n",
       "      <td>3</td>\n",
       "      <td>RL-1</td>\n",
       "      <td>CPRNC</td>\n",
       "      <td>NaN</td>\n",
       "      <td>NaN</td>\n",
       "      <td>NaN</td>\n",
       "      <td>TP-1</td>\n",
       "      <td>Trypsin</td>\n",
       "    </tr>\n",
       "    <tr>\n",
       "      <th>2</th>\n",
       "      <td>Q7M222</td>\n",
       "      <td>4081</td>\n",
       "      <td>Solanum lycopersicum (Tomato) (Lycopersicon es...</td>\n",
       "      <td>1</td>\n",
       "      <td>IRD-4</td>\n",
       "      <td>3</td>\n",
       "      <td>RL-1</td>\n",
       "      <td>CPRNC</td>\n",
       "      <td>NaN</td>\n",
       "      <td>NaN</td>\n",
       "      <td>NaN</td>\n",
       "      <td>TP-1</td>\n",
       "      <td>Trypsin</td>\n",
       "    </tr>\n",
       "    <tr>\n",
       "      <th>3</th>\n",
       "      <td>A0A1S4BIG0</td>\n",
       "      <td>4097</td>\n",
       "      <td>Nicotiana tabacum (Common tobacco)</td>\n",
       "      <td>1</td>\n",
       "      <td>IRD-5</td>\n",
       "      <td>3</td>\n",
       "      <td>RL-1</td>\n",
       "      <td>CPRNC</td>\n",
       "      <td>NaN</td>\n",
       "      <td>NaN</td>\n",
       "      <td>NaN</td>\n",
       "      <td>TP-1</td>\n",
       "      <td>Trypsin</td>\n",
       "    </tr>\n",
       "    <tr>\n",
       "      <th>4</th>\n",
       "      <td>A0A1S3Z2Q3</td>\n",
       "      <td>4097</td>\n",
       "      <td>Nicotiana tabacum (Common tobacco)</td>\n",
       "      <td>1</td>\n",
       "      <td>IRD-6</td>\n",
       "      <td>3</td>\n",
       "      <td>RL-5</td>\n",
       "      <td>CPFNC</td>\n",
       "      <td>NaN</td>\n",
       "      <td>NaN</td>\n",
       "      <td>NaN</td>\n",
       "      <td>TP-2</td>\n",
       "      <td>Chymotrypsin</td>\n",
       "    </tr>\n",
       "  </tbody>\n",
       "</table>\n",
       "</div>"
      ],
      "text/plain": [
       "    UniprotID  OrganismID                                           Organism  \\\n",
       "0      K4D750        4081  Solanum lycopersicum (Tomato) (Lycopersicon es...   \n",
       "1      E9JGT0        4112                  Solanum nigrum (Black nightshade)   \n",
       "2      Q7M222        4081  Solanum lycopersicum (Tomato) (Lycopersicon es...   \n",
       "3  A0A1S4BIG0        4097                 Nicotiana tabacum (Common tobacco)   \n",
       "4  A0A1S3Z2Q3        4097                 Nicotiana tabacum (Common tobacco)   \n",
       "\n",
       "   Solanaceae DomainID  DomainType RclID    Rcl linkerID Linker  LinkerType  \\\n",
       "0           1    IRD-1           3  RL-1  CPRNC      NaN    NaN         NaN   \n",
       "1           1    IRD-3           3  RL-1  CPRNC      NaN    NaN         NaN   \n",
       "2           1    IRD-4           3  RL-1  CPRNC      NaN    NaN         NaN   \n",
       "3           1    IRD-5           3  RL-1  CPRNC      NaN    NaN         NaN   \n",
       "4           1    IRD-6           3  RL-5  CPFNC      NaN    NaN         NaN   \n",
       "\n",
       "   tpID TargetProtease  \n",
       "0  TP-1        Trypsin  \n",
       "1  TP-1        Trypsin  \n",
       "2  TP-1        Trypsin  \n",
       "3  TP-1        Trypsin  \n",
       "4  TP-2   Chymotrypsin  "
      ]
     },
     "execution_count": 43,
     "metadata": {},
     "output_type": "execute_result"
    }
   ],
   "source": [
    "pinir.head()"
   ]
  },
  {
   "cell_type": "code",
   "execution_count": 48,
   "metadata": {},
   "outputs": [],
   "source": [
    "#pinir.groupby('Organism').TargetProtease.value_counts().to_csv('PINIRV4/d30_targetSpecificityAcrossSpecies.csv')"
   ]
  },
  {
   "cell_type": "code",
   "execution_count": 47,
   "metadata": {},
   "outputs": [
    {
     "data": {
      "text/plain": [
       "Organism                                                                              TargetProtease\n",
       "Aegilops tauschii (Tausch's goatgrass) (Aegilops squarrosa)                           Unknown             1\n",
       "Ananas comosus (Pineapple) (Ananas ananas)                                            Unknown             2\n",
       "Apostasia shenzhenica                                                                 Chymotrypsin        1\n",
       "Arabidopsis lyrata subsp. lyrata (Lyre-leaved rock-cress)                             Chymotrypsin        1\n",
       "Arabidopsis thaliana (Mouse-ear cress)                                                Chymotrypsin        2\n",
       "Brachypodium distachyon (Purple false brome) (Trachynia distachya)                    Unknown             1\n",
       "Brassica oleracea var. oleracea                                                       Chymotrypsin        1\n",
       "Brassica rapa subsp. pekinensis (Chinese cabbage) (Brassica pekinensis)               Chymotrypsin        1\n",
       "Capsella rubella                                                                      Chymotrypsin        1\n",
       "Capsicum annuum (Bell pepper)                                                         Trypsin           300\n",
       "                                                                                      Chymotrypsin       97\n",
       "                                                                                      Unknown            19\n",
       "Capsicum baccatum (Peruvian pepper)                                                   Trypsin            14\n",
       "                                                                                      Unknown             7\n",
       "                                                                                      Chymotrypsin        6\n",
       "                                                                                      Elastase            6\n",
       "Capsicum chinense (Scotch bonnet) (Bonnet pepper)                                     Trypsin            18\n",
       "                                                                                      Chymotrypsin        9\n",
       "                                                                                      Unknown             9\n",
       "                                                                                      Elastase            6\n",
       "Cicer arietinum (Chickpea) (Garbanzo)                                                 Chymotrypsin        1\n",
       "Coffea canephora (Robusta coffee)                                                     Chymotrypsin        2\n",
       "                                                                                      Unknown             2\n",
       "                                                                                      Trypsin             1\n",
       "Cuscuta australis                                                                     Chymotrypsin        1\n",
       "                                                                                      Trypsin             1\n",
       "                                                                                      Unknown             1\n",
       "Daucus carota subsp. sativus                                                          Chymotrypsin        1\n",
       "Dendrobium catenatum                                                                  Unknown             1\n",
       "Dichanthelium oligosanthes                                                            Unknown             2\n",
       "                                                                                      Chymotrypsin        1\n",
       "Dorcoceras hygrometricum                                                              Chymotrypsin        1\n",
       "Erythranthe guttata (Yellow monkey flower) (Mimulus guttatus)                         Chymotrypsin        1\n",
       "Eucalyptus grandis (Flooded gum)                                                      Chymotrypsin        1\n",
       "Fagus sylvatica (Beechnut)                                                            Chymotrypsin        1\n",
       "Genlisea aurea                                                                        Chymotrypsin        2\n",
       "Handroanthus impetiginosus                                                            Chymotrypsin        3\n",
       "Hordeum vulgare subsp. vulgare (Domesticated barley)                                  Unknown             1\n",
       "Jatropha curcas (Barbados nut)                                                        Chymotrypsin        1\n",
       "Juglans regia (English walnut)                                                        Chymotrypsin        1\n",
       "Leersia perrieri                                                                      Unknown             2\n",
       "Manihot esculenta (Cassava) (Jatropha manihot)                                        Chymotrypsin        2\n",
       "Medicago truncatula (Barrel medic) (Medicago tribuloides)                             Unknown             2\n",
       "Morus notabilis                                                                       Unknown             1\n",
       "Mucuna pruriens (Velvet bean) (Dolichos pruriens)                                     Unknown             1\n",
       "Nicotiana acuminata (Acuminate tobacco)                                               Trypsin            12\n",
       "                                                                                      Chymotrypsin        1\n",
       "Nicotiana alata (Winged tobacco) (Persian tobacco)                                    Trypsin            12\n",
       "                                                                                      Chymotrypsin        6\n",
       "Nicotiana attenuata (Coyote tobacco)                                                  Trypsin            46\n",
       "                                                                                      Unknown             5\n",
       "Nicotiana benthamiana                                                                 Trypsin             5\n",
       "                                                                                      Chymotrypsin        2\n",
       "Nicotiana cavicola                                                                    Chymotrypsin        2\n",
       "                                                                                      Trypsin             1\n",
       "Nicotiana clevelandii (Wild tobacco)                                                  Trypsin            11\n",
       "Nicotiana corymbosa                                                                   Trypsin             2\n",
       "                                                                                      Chymotrypsin        1\n",
       "Nicotiana glutinosa (Tobacco)                                                         Trypsin            22\n",
       "                                                                                      Chymotrypsin        4\n",
       "Nicotiana linearis                                                                    Trypsin             9\n",
       "Nicotiana megalosiphon                                                                Trypsin             7\n",
       "                                                                                      Chymotrypsin        2\n",
       "Nicotiana miersii                                                                     Trypsin            10\n",
       "                                                                                      Chymotrypsin        1\n",
       "Nicotiana obtusifolia                                                                 Trypsin            26\n",
       "                                                                                      Chymotrypsin        4\n",
       "Nicotiana occidentalis subsp. hesperis                                                Trypsin             9\n",
       "                                                                                      Chymotrypsin        2\n",
       "Nicotiana pauciflora                                                                  Trypsin            10\n",
       "                                                                                      Chymotrypsin        1\n",
       "Nicotiana quadrivalvis                                                                Trypsin            11\n",
       "Nicotiana repanda                                                                     Chymotrypsin        7\n",
       "                                                                                      Trypsin             2\n",
       "                                                                                      Unknown             2\n",
       "Nicotiana rustica (Aztec tobacco)                                                     Trypsin             8\n",
       "                                                                                      Chymotrypsin        5\n",
       "Nicotiana simulans                                                                    Trypsin             7\n",
       "                                                                                      Chymotrypsin        2\n",
       "Nicotiana spegazzinii                                                                 Trypsin             9\n",
       "Nicotiana sylvestris (Wood tobacco) (South American tobacco)                          Trypsin            47\n",
       "                                                                                      Chymotrypsin        9\n",
       "                                                                                      Unknown             6\n",
       "Nicotiana tabacum (Common tobacco)                                                    Trypsin            87\n",
       "                                                                                      Chymotrypsin       22\n",
       "                                                                                      Unknown            13\n",
       "Nicotiana umbratica                                                                   Trypsin             7\n",
       "                                                                                      Chymotrypsin        2\n",
       "Noccaea caerulescens (Alpine penny-cress) (Thlaspi caerulescens)                      Chymotrypsin        4\n",
       "Olea europaea (Common olive)                                                          Trypsin             1\n",
       "Oryza barthii                                                                         Unknown             1\n",
       "Oryza brachyantha                                                                     Unknown             1\n",
       "Oryza glaberrima (African rice)                                                       Unknown             1\n",
       "Oryza glumipatula                                                                     Unknown             1\n",
       "Oryza meridionalis                                                                    Unknown             1\n",
       "Oryza nivara (Indian wild rice) (Oryza sativa f. spontanea)                           Unknown             1\n",
       "Oryza punctata (Red rice)                                                             Unknown             1\n",
       "Oryza rufipogon (Brownbeard rice) (Asian wild rice)                                   Unknown             1\n",
       "Oryza sativa subsp. indica (Rice)                                                     Unknown             1\n",
       "Oryza sativa subsp. japonica (Rice)                                                   Unknown             1\n",
       "Panicum hallii                                                                        Unknown             1\n",
       "Panicum hallii var. hallii                                                            Unknown             4\n",
       "Parasponia andersonii (Sponia andersonii)                                             Unknown             1\n",
       "Populus trichocarpa (Western balsam poplar) (Populus balsamifera subsp. trichocarpa)  Chymotrypsin        2\n",
       "Prunus persica (Peach) (Amygdalus persica)                                            Unknown             2\n",
       "                                                                                      Trypsin             1\n",
       "Prunus yedoensis var. nudiflora                                                       Trypsin             1\n",
       "Punica granatum (Pomegranate)                                                         Unknown             1\n",
       "Quercus suber (Cork oak)                                                              Unknown             4\n",
       "Ricinus communis (Castor bean)                                                        Chymotrypsin        1\n",
       "Rosa chinensis (China rose)                                                           Unknown             3\n",
       "                                                                                      Chymotrypsin        2\n",
       "Saccharum hybrid cultivar R570                                                        Unknown             2\n",
       "Selaginella moellendorffii (Spikemoss)                                                Chymotrypsin        7\n",
       "                                                                                      Trypsin             3\n",
       "                                                                                      Unknown             1\n",
       "Setaria italica (Foxtail millet) (Panicum italicum)                                   Unknown             2\n",
       "Solanum americanum (American black nightshade) (Solanum nodiflorum)                   Trypsin             5\n",
       "                                                                                      Chymotrypsin        4\n",
       "Solanum chacoense (Chaco potato)                                                      Chymotrypsin        7\n",
       "                                                                                      Trypsin             4\n",
       "                                                                                      Unknown             2\n",
       "Solanum lycopersicum (Tomato) (Lycopersicon esculentum)                               Trypsin            33\n",
       "                                                                                      Chymotrypsin       17\n",
       "                                                                                      Unknown            13\n",
       "Solanum melongena (Eggplant) (Aubergine)                                              Trypsin             1\n",
       "Solanum nigrum (Black nightshade)                                                     Trypsin             9\n",
       "                                                                                      Chymotrypsin        4\n",
       "Solanum phureja                                                                       Trypsin             2\n",
       "                                                                                      Chymotrypsin        1\n",
       "Solanum tuberosum (Potato)                                                            Chymotrypsin       58\n",
       "                                                                                      Trypsin            53\n",
       "                                                                                      Unknown            19\n",
       "Sorghum bicolor (Sorghum) (Sorghum vulgare)                                           Unknown             2\n",
       "                                                                                      Chymotrypsin        1\n",
       "Spinacia oleracea (Spinach)                                                           Unknown             1\n",
       "Triticum aestivum (Wheat)                                                             Unknown             1\n",
       "Triticum urartu (Red wild einkorn) (Crithodium urartu)                                Unknown             1\n",
       "Vitis vinifera (Grape)                                                                Chymotrypsin        1\n",
       "Zea mays (Maize)                                                                      Unknown             2\n",
       "Name: TargetProtease, dtype: int64"
      ]
     },
     "execution_count": 47,
     "metadata": {},
     "output_type": "execute_result"
    }
   ],
   "source": [
    "pinir.groupby('Organism').TargetProtease.value_counts()"
   ]
  },
  {
   "cell_type": "code",
   "execution_count": 150,
   "metadata": {},
   "outputs": [],
   "source": [
    "## Adding Genus Column to OrganismList.xlsx"
   ]
  },
  {
   "cell_type": "code",
   "execution_count": 5,
   "metadata": {},
   "outputs": [],
   "source": [
    "organism=pd.read_excel('PINIRV4/OrganismList.xlsx')"
   ]
  },
  {
   "cell_type": "code",
   "execution_count": 114,
   "metadata": {},
   "outputs": [
    {
     "data": {
      "text/plain": [
       "94"
      ]
     },
     "execution_count": 114,
     "metadata": {},
     "output_type": "execute_result"
    }
   ],
   "source": [
    "organism.OrganismID.nunique()"
   ]
  },
  {
   "cell_type": "code",
   "execution_count": 115,
   "metadata": {},
   "outputs": [
    {
     "data": {
      "text/html": [
       "<div>\n",
       "<style scoped>\n",
       "    .dataframe tbody tr th:only-of-type {\n",
       "        vertical-align: middle;\n",
       "    }\n",
       "\n",
       "    .dataframe tbody tr th {\n",
       "        vertical-align: top;\n",
       "    }\n",
       "\n",
       "    .dataframe thead th {\n",
       "        text-align: right;\n",
       "    }\n",
       "</style>\n",
       "<table border=\"1\" class=\"dataframe\">\n",
       "  <thead>\n",
       "    <tr style=\"text-align: right;\">\n",
       "      <th></th>\n",
       "      <th>OrganismID</th>\n",
       "      <th>Organism</th>\n",
       "      <th>Solanaceae</th>\n",
       "    </tr>\n",
       "  </thead>\n",
       "  <tbody>\n",
       "    <tr>\n",
       "      <th>0</th>\n",
       "      <td>3476</td>\n",
       "      <td>Parasponia andersonii (Sponia andersonii)</td>\n",
       "      <td>0</td>\n",
       "    </tr>\n",
       "    <tr>\n",
       "      <th>1</th>\n",
       "      <td>3562</td>\n",
       "      <td>Spinacia oleracea (Spinach)</td>\n",
       "      <td>0</td>\n",
       "    </tr>\n",
       "    <tr>\n",
       "      <th>2</th>\n",
       "      <td>3694</td>\n",
       "      <td>Populus trichocarpa (Western balsam poplar) (P...</td>\n",
       "      <td>0</td>\n",
       "    </tr>\n",
       "    <tr>\n",
       "      <th>3</th>\n",
       "      <td>3702</td>\n",
       "      <td>Arabidopsis thaliana (Mouse-ear cress)</td>\n",
       "      <td>0</td>\n",
       "    </tr>\n",
       "    <tr>\n",
       "      <th>4</th>\n",
       "      <td>3760</td>\n",
       "      <td>Prunus persica (Peach) (Amygdalus persica)</td>\n",
       "      <td>0</td>\n",
       "    </tr>\n",
       "  </tbody>\n",
       "</table>\n",
       "</div>"
      ],
      "text/plain": [
       "   OrganismID                                           Organism  Solanaceae\n",
       "0        3476          Parasponia andersonii (Sponia andersonii)           0\n",
       "1        3562                        Spinacia oleracea (Spinach)           0\n",
       "2        3694  Populus trichocarpa (Western balsam poplar) (P...           0\n",
       "3        3702             Arabidopsis thaliana (Mouse-ear cress)           0\n",
       "4        3760         Prunus persica (Peach) (Amygdalus persica)           0"
      ]
     },
     "execution_count": 115,
     "metadata": {},
     "output_type": "execute_result"
    }
   ],
   "source": [
    "organism.head()"
   ]
  },
  {
   "cell_type": "code",
   "execution_count": 118,
   "metadata": {},
   "outputs": [
    {
     "data": {
      "text/plain": [
       "'Parasponia'"
      ]
     },
     "execution_count": 118,
     "metadata": {},
     "output_type": "execute_result"
    }
   ],
   "source": [
    "'Parasponia andersonii (Sponia andersonii)'.split()[0]"
   ]
  },
  {
   "cell_type": "code",
   "execution_count": 120,
   "metadata": {},
   "outputs": [],
   "source": [
    "organism['Genus']=organism['Organism'].apply(lambda x:x.split()[0])"
   ]
  },
  {
   "cell_type": "code",
   "execution_count": 151,
   "metadata": {},
   "outputs": [
    {
     "data": {
      "text/html": [
       "<div>\n",
       "<style scoped>\n",
       "    .dataframe tbody tr th:only-of-type {\n",
       "        vertical-align: middle;\n",
       "    }\n",
       "\n",
       "    .dataframe tbody tr th {\n",
       "        vertical-align: top;\n",
       "    }\n",
       "\n",
       "    .dataframe thead th {\n",
       "        text-align: right;\n",
       "    }\n",
       "</style>\n",
       "<table border=\"1\" class=\"dataframe\">\n",
       "  <thead>\n",
       "    <tr style=\"text-align: right;\">\n",
       "      <th></th>\n",
       "      <th>OrganismID</th>\n",
       "      <th>Organism</th>\n",
       "      <th>Solanaceae</th>\n",
       "      <th>Genus</th>\n",
       "    </tr>\n",
       "  </thead>\n",
       "  <tbody>\n",
       "    <tr>\n",
       "      <th>0</th>\n",
       "      <td>3476</td>\n",
       "      <td>Parasponia andersonii (Sponia andersonii)</td>\n",
       "      <td>0</td>\n",
       "      <td>Parasponia</td>\n",
       "    </tr>\n",
       "    <tr>\n",
       "      <th>1</th>\n",
       "      <td>3562</td>\n",
       "      <td>Spinacia oleracea (Spinach)</td>\n",
       "      <td>0</td>\n",
       "      <td>Spinacia</td>\n",
       "    </tr>\n",
       "    <tr>\n",
       "      <th>2</th>\n",
       "      <td>3694</td>\n",
       "      <td>Populus trichocarpa (Western balsam poplar) (P...</td>\n",
       "      <td>0</td>\n",
       "      <td>Populus</td>\n",
       "    </tr>\n",
       "    <tr>\n",
       "      <th>3</th>\n",
       "      <td>3702</td>\n",
       "      <td>Arabidopsis thaliana (Mouse-ear cress)</td>\n",
       "      <td>0</td>\n",
       "      <td>Arabidopsis</td>\n",
       "    </tr>\n",
       "    <tr>\n",
       "      <th>4</th>\n",
       "      <td>3760</td>\n",
       "      <td>Prunus persica (Peach) (Amygdalus persica)</td>\n",
       "      <td>0</td>\n",
       "      <td>Prunus</td>\n",
       "    </tr>\n",
       "  </tbody>\n",
       "</table>\n",
       "</div>"
      ],
      "text/plain": [
       "   OrganismID                                           Organism  Solanaceae  \\\n",
       "0        3476          Parasponia andersonii (Sponia andersonii)           0   \n",
       "1        3562                        Spinacia oleracea (Spinach)           0   \n",
       "2        3694  Populus trichocarpa (Western balsam poplar) (P...           0   \n",
       "3        3702             Arabidopsis thaliana (Mouse-ear cress)           0   \n",
       "4        3760         Prunus persica (Peach) (Amygdalus persica)           0   \n",
       "\n",
       "         Genus  \n",
       "0   Parasponia  \n",
       "1     Spinacia  \n",
       "2      Populus  \n",
       "3  Arabidopsis  \n",
       "4       Prunus  "
      ]
     },
     "execution_count": 151,
     "metadata": {},
     "output_type": "execute_result"
    }
   ],
   "source": [
    "organism.head()"
   ]
  },
  {
   "cell_type": "code",
   "execution_count": 153,
   "metadata": {},
   "outputs": [],
   "source": [
    "#organism.to_excel('PINIRV4/OrganismList.xlsx',index=False)"
   ]
  },
  {
   "cell_type": "code",
   "execution_count": 154,
   "metadata": {},
   "outputs": [],
   "source": [
    "#*******************************************************************************************************************#"
   ]
  },
  {
   "cell_type": "code",
   "execution_count": 156,
   "metadata": {},
   "outputs": [
    {
     "data": {
      "text/html": [
       "<div>\n",
       "<style scoped>\n",
       "    .dataframe tbody tr th:only-of-type {\n",
       "        vertical-align: middle;\n",
       "    }\n",
       "\n",
       "    .dataframe tbody tr th {\n",
       "        vertical-align: top;\n",
       "    }\n",
       "\n",
       "    .dataframe thead th {\n",
       "        text-align: right;\n",
       "    }\n",
       "</style>\n",
       "<table border=\"1\" class=\"dataframe\">\n",
       "  <thead>\n",
       "    <tr style=\"text-align: right;\">\n",
       "      <th></th>\n",
       "      <th>UniprotID</th>\n",
       "      <th>OrganismID</th>\n",
       "      <th>Organism</th>\n",
       "      <th>Solanaceae</th>\n",
       "      <th>Genus</th>\n",
       "      <th>DomainID</th>\n",
       "      <th>DomainType</th>\n",
       "      <th>RclID</th>\n",
       "      <th>Rcl</th>\n",
       "      <th>linkerID</th>\n",
       "      <th>Linker</th>\n",
       "      <th>LinkerType</th>\n",
       "      <th>tpID</th>\n",
       "      <th>TargetProtease</th>\n",
       "    </tr>\n",
       "  </thead>\n",
       "  <tbody>\n",
       "    <tr>\n",
       "      <th>0</th>\n",
       "      <td>K4D750</td>\n",
       "      <td>4081</td>\n",
       "      <td>Solanum lycopersicum (Tomato) (Lycopersicon es...</td>\n",
       "      <td>1</td>\n",
       "      <td>Solanum</td>\n",
       "      <td>IRD-1</td>\n",
       "      <td>3</td>\n",
       "      <td>RL-1</td>\n",
       "      <td>CPRNC</td>\n",
       "      <td>NaN</td>\n",
       "      <td>NaN</td>\n",
       "      <td>NaN</td>\n",
       "      <td>TP-1</td>\n",
       "      <td>Trypsin</td>\n",
       "    </tr>\n",
       "    <tr>\n",
       "      <th>1</th>\n",
       "      <td>E9JGT0</td>\n",
       "      <td>4112</td>\n",
       "      <td>Solanum nigrum (Black nightshade)</td>\n",
       "      <td>1</td>\n",
       "      <td>Solanum</td>\n",
       "      <td>IRD-3</td>\n",
       "      <td>3</td>\n",
       "      <td>RL-1</td>\n",
       "      <td>CPRNC</td>\n",
       "      <td>NaN</td>\n",
       "      <td>NaN</td>\n",
       "      <td>NaN</td>\n",
       "      <td>TP-1</td>\n",
       "      <td>Trypsin</td>\n",
       "    </tr>\n",
       "  </tbody>\n",
       "</table>\n",
       "</div>"
      ],
      "text/plain": [
       "  UniprotID  OrganismID                                           Organism  \\\n",
       "0    K4D750        4081  Solanum lycopersicum (Tomato) (Lycopersicon es...   \n",
       "1    E9JGT0        4112                  Solanum nigrum (Black nightshade)   \n",
       "\n",
       "   Solanaceae    Genus DomainID  DomainType RclID    Rcl linkerID Linker  \\\n",
       "0           1  Solanum    IRD-1           3  RL-1  CPRNC      NaN    NaN   \n",
       "1           1  Solanum    IRD-3           3  RL-1  CPRNC      NaN    NaN   \n",
       "\n",
       "   LinkerType  tpID TargetProtease  \n",
       "0         NaN  TP-1        Trypsin  \n",
       "1         NaN  TP-1        Trypsin  "
      ]
     },
     "execution_count": 156,
     "metadata": {},
     "output_type": "execute_result"
    }
   ],
   "source": [
    "pinir.head(2)"
   ]
  },
  {
   "cell_type": "code",
   "execution_count": 157,
   "metadata": {},
   "outputs": [
    {
     "data": {
      "text/plain": [
       "49"
      ]
     },
     "execution_count": 157,
     "metadata": {},
     "output_type": "execute_result"
    }
   ],
   "source": [
    "pinir.Genus.nunique()"
   ]
  },
  {
   "cell_type": "code",
   "execution_count": 158,
   "metadata": {},
   "outputs": [
    {
     "data": {
      "text/plain": [
       "Capsicum         491\n",
       "Nicotiana        459\n",
       "Solanum          232\n",
       "Selaginella       11\n",
       "Oryza             10\n",
       "Coffea             5\n",
       "Rosa               5\n",
       "Panicum            5\n",
       "Quercus            4\n",
       "Prunus             4\n",
       "Noccaea            4\n",
       "Arabidopsis        3\n",
       "Sorghum            3\n",
       "Cuscuta            3\n",
       "Dichanthelium      3\n",
       "Handroanthus       3\n",
       "Brassica           2\n",
       "Populus            2\n",
       "Ananas             2\n",
       "Manihot            2\n",
       "Triticum           2\n",
       "Saccharum          2\n",
       "Setaria            2\n",
       "Zea                2\n",
       "Genlisea           2\n",
       "Leersia            2\n",
       "Medicago           2\n",
       "Apostasia          1\n",
       "Vitis              1\n",
       "Brachypodium       1\n",
       "Capsella           1\n",
       "Jatropha           1\n",
       "Morus              1\n",
       "Juglans            1\n",
       "Dorcoceras         1\n",
       "Aegilops           1\n",
       "Fagus              1\n",
       "Erythranthe        1\n",
       "Olea               1\n",
       "Mucuna             1\n",
       "Eucalyptus         1\n",
       "Punica             1\n",
       "Daucus             1\n",
       "Parasponia         1\n",
       "Dendrobium         1\n",
       "Hordeum            1\n",
       "Spinacia           1\n",
       "Ricinus            1\n",
       "Cicer              1\n",
       "Name: Genus, dtype: int64"
      ]
     },
     "execution_count": 158,
     "metadata": {},
     "output_type": "execute_result"
    }
   ],
   "source": [
    "pinir.Genus.value_counts()"
   ]
  },
  {
   "cell_type": "code",
   "execution_count": null,
   "metadata": {},
   "outputs": [],
   "source": []
  },
  {
   "cell_type": "code",
   "execution_count": null,
   "metadata": {},
   "outputs": [],
   "source": []
  },
  {
   "cell_type": "code",
   "execution_count": null,
   "metadata": {},
   "outputs": [],
   "source": []
  },
  {
   "cell_type": "markdown",
   "metadata": {},
   "source": [
    "# Extracting the Taxonomy for used Species and Genus"
   ]
  },
  {
   "cell_type": "markdown",
   "metadata": {},
   "source": [
    "#So overall Taxon which are used are:[3476,    3562,    3694,    3702,    3760,    3827,    3880, 3983,    3988,    4072,    4081,    4086,    4087,    4093,  4096,    4097,    4100,    4108,    4111,    4112,    4113,  4146,    4155,    4529,    4533,    4536,    4537,    4538,  4555,    4558,    4565,    4572,    4577,    4615,   15368,  22663,   28930,   29760,   33113,   33114,   35889,   37682,  39946,   39947,   40148,   40149,   49390,   49451,   51240,         51351,   58331,   63057,   65489,   71139,   74649,   76336,         77586,   79200,   80379,   81866,   81972,   81985,   88036,        107243,  109376,  109975,  112509,  118690,  118701,  118703,        118704,  118709,  118712,  131158,  157652,  172790,  180498,        192259,  200300,  200301,  200306,  200315,  200316,  206008,        267555,  278839,  429701,  472368,  888268,  906689,  981085,       1088818, 1504633, 2094558]\n",
    "#+ [15367.,   49693.,   37818.,   24609.,   49274.,    4071.,          4107.,    4085.,  200313.,    4145., 1288022.,  192258.,         21024.,    3511.,   16718.,    3689.,    3987.,    3982.,          3995.,    3475.,    3479.,    3497.,    3754.,    3764.,          3701.,   59689.,    3718.,    3711.,    3712.,  290573.,         22662., 1502711.,    3246.,    4527.,    4530.,    4557.,        128810.,   35711.,    4575.,    4513.,    4554.,    4480.,        161620.,    4564.,    3932., 1803640.,    3561., 1824901.,          4039.,    4614.,   13442.,    3759., 2100772.,  206008.,          3826.,    3877.,   40336.,    3603.] \n",
    "#+ [4107.,    4085.,    3754.,    3701.,    3705.,    4527.,        286192.,    4512., 1824618., 1873447.,    4539., 2100772.] + \n",
    "#[4546,4038,4539]"
   ]
  },
  {
   "cell_type": "code",
   "execution_count": 74,
   "metadata": {},
   "outputs": [],
   "source": [
    "usedTaxonomy=taxonomy.loc[taxonomy.Taxon.isin([3476,    3562,    3694,    3702,    3760,    3827,    3880,\n",
    "          3983,    3988,    4072,    4081,    4086,    4087,    4093,\n",
    "          4096,    4097,    4100,    4108,    4111,    4112,    4113,\n",
    "          4146,    4155,    4529,    4533,    4536,    4537,    4538,\n",
    "          4555,    4558,    4565,    4572,    4577,    4615,   15368,\n",
    "         22663,   28930,   29760,   33113,   33114,   35889,   37682,\n",
    "         39946,   39947,   40148,   40149,   49390,   49451,   51240,\n",
    "         51351,   58331,   63057,   65489,   71139,   74649,   76336,\n",
    "         77586,   79200,   80379,   81866,   81972,   81985,   88036,\n",
    "        107243,  109376,  109975,  112509,  118690,  118701,  118703,\n",
    "        118704,  118709,  118712,  131158,  157652,  172790,  180498,\n",
    "        192259,  200300,  200301,  200306,  200315,  200316,  206008,\n",
    "        267555,  278839,  429701,  472368,  888268,  906689,  981085,\n",
    "       1088818, 1504633, 2094558,15367.,   49693.,   37818.,   24609.,   49274.,    4071.,\n",
    "          4107.,    4085.,  200313.,    4145., 1288022.,  192258.,\n",
    "         21024.,    3511.,   16718.,    3689.,    3987.,    3982.,\n",
    "          3995.,    3475.,    3479.,    3497.,    3754.,    3764.,\n",
    "          3701.,   59689.,    3718.,    3711.,    3712.,  290573.,\n",
    "         22662., 1502711.,    3246.,    4527.,    4530.,    4557.,\n",
    "        128810.,   35711.,    4575.,    4513.,    4554.,    4480.,\n",
    "        161620.,    4564.,    3932., 1803640.,    3561., 1824901.,\n",
    "          4039.,    4614.,   13442.,    3759., 2100772.,  206008.,\n",
    "          3826.,    3877.,   40336.,    3603.,4107.,    4085.,    3754.,    3701.,    3705.,    4527.,\n",
    "        286192.,    4512., 1824618., 1873447.,    4539., 2100772.,4546,4038,4539]),:]"
   ]
  },
  {
   "cell_type": "code",
   "execution_count": 149,
   "metadata": {},
   "outputs": [],
   "source": [
    "#usedTaxonomy.to_csv('PINIRV4/TaxonomyForUsedSpeciesAndGenus.csv')"
   ]
  },
  {
   "cell_type": "code",
   "execution_count": null,
   "metadata": {},
   "outputs": [],
   "source": []
  }
 ],
 "metadata": {
  "kernelspec": {
   "display_name": "Python 3",
   "language": "python",
   "name": "python3"
  },
  "language_info": {
   "codemirror_mode": {
    "name": "ipython",
    "version": 3
   },
   "file_extension": ".py",
   "mimetype": "text/x-python",
   "name": "python",
   "nbconvert_exporter": "python",
   "pygments_lexer": "ipython3",
   "version": "3.9.4"
  }
 },
 "nbformat": 4,
 "nbformat_minor": 2
}
