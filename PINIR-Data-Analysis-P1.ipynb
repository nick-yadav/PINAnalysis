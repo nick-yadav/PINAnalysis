{
 "cells": [
  {
   "cell_type": "markdown",
   "id": "f2591aaf",
   "metadata": {},
   "source": [
    "# PINIR Data Analysis Page-1"
   ]
  },
  {
   "cell_type": "code",
   "execution_count": 1,
   "id": "fb678605",
   "metadata": {},
   "outputs": [],
   "source": [
    "import pandas as pd\n",
    "import numpy as np"
   ]
  },
  {
   "cell_type": "code",
   "execution_count": 2,
   "id": "42ccfd7c",
   "metadata": {},
   "outputs": [],
   "source": [
    "pd.set_option('display.max_columns',None)\n",
    "pd.set_option('display.max_rows',None)"
   ]
  },
  {
   "cell_type": "code",
   "execution_count": 3,
   "id": "f95dfb3f",
   "metadata": {},
   "outputs": [],
   "source": [
    "pd.reset_option('display.max_columns')\n",
    "pd.reset_option('display.max_rows')"
   ]
  },
  {
   "cell_type": "code",
   "execution_count": 4,
   "id": "9e4796ba",
   "metadata": {},
   "outputs": [],
   "source": [
    "pd.set_option('display.max_colwidth',2000)"
   ]
  },
  {
   "cell_type": "code",
   "execution_count": 5,
   "id": "cdae814e",
   "metadata": {},
   "outputs": [],
   "source": [
    "pd.reset_option('display.max_colwidth')"
   ]
  },
  {
   "cell_type": "markdown",
   "id": "8384fa1c",
   "metadata": {},
   "source": [
    "## Organism Wise Distribution of PIN II PIs"
   ]
  },
  {
   "cell_type": "code",
   "execution_count": 6,
   "id": "a51b6c49",
   "metadata": {},
   "outputs": [],
   "source": [
    "seq=pd.read_csv('data/24_Sequence_Organism_IsoelectricPoint_Amino_Composition.csv')"
   ]
  },
  {
   "cell_type": "code",
   "execution_count": 7,
   "id": "c107dcb0",
   "metadata": {},
   "outputs": [
    {
     "data": {
      "text/plain": [
       "Index(['UniprotID', 'ProteinNames', 'GeneNames', 'OrganismID', 'Organism',\n",
       "       'Genus', 'Species', 'Solanaceae', 'Function[CC]', 'Sequence', 'Length',\n",
       "       'Mass', 'average_pI', 'pH_5.5_charge', 'pH_7.4_charge', 'pH_8.0_charge',\n",
       "       'A', 'A_per', 'C', 'C_per', 'D', 'D_per', 'E', 'E_per', 'F', 'F_per',\n",
       "       'G', 'G_per', 'H', 'H_per', 'I', 'I_per', 'K', 'K_per', 'L', 'L_per',\n",
       "       'M', 'M_per', 'N', 'N_per', 'O', 'O_per', 'P', 'P_per', 'Q', 'Q_per',\n",
       "       'R', 'R_per', 'S', 'S_per', 'T', 'T_per', 'U', 'U_per', 'V', 'V_per',\n",
       "       'W', 'W_per', 'X', 'X_per', 'Y', 'Y_per', 'Z', 'Z_per'],\n",
       "      dtype='object')"
      ]
     },
     "execution_count": 7,
     "metadata": {},
     "output_type": "execute_result"
    }
   ],
   "source": [
    "seq.columns"
   ]
  },
  {
   "cell_type": "code",
   "execution_count": 9,
   "id": "a9d9ce02",
   "metadata": {},
   "outputs": [],
   "source": [
    "seq_org=seq[['UniprotID','OrganismID', 'Organism',\n",
    "       'Genus', 'Species', 'Solanaceae', 'Function[CC]', 'Length',\n",
    "       'Mass']]"
   ]
  },
  {
   "cell_type": "code",
   "execution_count": 11,
   "id": "3458c5c4",
   "metadata": {},
   "outputs": [
    {
     "data": {
      "text/html": [
       "<div>\n",
       "<style scoped>\n",
       "    .dataframe tbody tr th:only-of-type {\n",
       "        vertical-align: middle;\n",
       "    }\n",
       "\n",
       "    .dataframe tbody tr th {\n",
       "        vertical-align: top;\n",
       "    }\n",
       "\n",
       "    .dataframe thead th {\n",
       "        text-align: right;\n",
       "    }\n",
       "</style>\n",
       "<table border=\"1\" class=\"dataframe\">\n",
       "  <thead>\n",
       "    <tr style=\"text-align: right;\">\n",
       "      <th></th>\n",
       "      <th>UniprotID</th>\n",
       "      <th>OrganismID</th>\n",
       "      <th>Organism</th>\n",
       "      <th>Genus</th>\n",
       "      <th>Species</th>\n",
       "      <th>Solanaceae</th>\n",
       "      <th>Function[CC]</th>\n",
       "      <th>Length</th>\n",
       "      <th>Mass</th>\n",
       "    </tr>\n",
       "  </thead>\n",
       "  <tbody>\n",
       "    <tr>\n",
       "      <th>0</th>\n",
       "      <td>P05119</td>\n",
       "      <td>4081</td>\n",
       "      <td>Solanum lycopersicum (Tomato) (Lycopersicon es...</td>\n",
       "      <td>Solanum</td>\n",
       "      <td>Solanum lycopersicum</td>\n",
       "      <td>1</td>\n",
       "      <td>FUNCTION: Potent inhibitor of both trypsin and...</td>\n",
       "      <td>148</td>\n",
       "      <td>16293.0</td>\n",
       "    </tr>\n",
       "    <tr>\n",
       "      <th>1</th>\n",
       "      <td>P84813</td>\n",
       "      <td>4113</td>\n",
       "      <td>Solanum tuberosum (Potato)</td>\n",
       "      <td>Solanum</td>\n",
       "      <td>Solanum tuberosum</td>\n",
       "      <td>1</td>\n",
       "      <td>FUNCTION: Inhibitor of serine proteases chymot...</td>\n",
       "      <td>47</td>\n",
       "      <td>4833.0</td>\n",
       "    </tr>\n",
       "  </tbody>\n",
       "</table>\n",
       "</div>"
      ],
      "text/plain": [
       "  UniprotID  OrganismID                                           Organism  \\\n",
       "0    P05119        4081  Solanum lycopersicum (Tomato) (Lycopersicon es...   \n",
       "1    P84813        4113                         Solanum tuberosum (Potato)   \n",
       "\n",
       "     Genus                Species  Solanaceae  \\\n",
       "0  Solanum  Solanum lycopersicum            1   \n",
       "1  Solanum     Solanum tuberosum            1   \n",
       "\n",
       "                                        Function[CC]  Length     Mass  \n",
       "0  FUNCTION: Potent inhibitor of both trypsin and...     148  16293.0  \n",
       "1  FUNCTION: Inhibitor of serine proteases chymot...      47   4833.0  "
      ]
     },
     "execution_count": 11,
     "metadata": {},
     "output_type": "execute_result"
    }
   ],
   "source": [
    "seq_org.head(2)"
   ]
  },
  {
   "cell_type": "code",
   "execution_count": 13,
   "id": "55839a5f",
   "metadata": {},
   "outputs": [
    {
     "data": {
      "text/plain": [
       "125"
      ]
     },
     "execution_count": 13,
     "metadata": {},
     "output_type": "execute_result"
    }
   ],
   "source": [
    "seq_org.OrganismID.nunique()## Distributed across 125 Organisms"
   ]
  },
  {
   "cell_type": "code",
   "execution_count": 14,
   "id": "407265b9",
   "metadata": {},
   "outputs": [],
   "source": [
    "## Organism wise Distribution of PIN II PI sequences"
   ]
  },
  {
   "cell_type": "code",
   "execution_count": 15,
   "id": "0b14e767",
   "metadata": {},
   "outputs": [
    {
     "data": {
      "text/plain": [
       "Capsicum annuum (Capsicum pepper)                          99\n",
       "Solanum tuberosum (Potato)                                 52\n",
       "Nicotiana tabacum (Common tobacco)                         22\n",
       "Solanum lycopersicum (Tomato) (Lycopersicon esculentum)    21\n",
       "Capsicum chinense (Scotch bonnet) (Bonnet pepper)          13\n",
       "                                                           ..\n",
       "Oryza punctata (Red rice)                                   1\n",
       "Lupinus angustifolius (Narrow-leaved blue lupine)           1\n",
       "Punica granatum (Pomegranate)                               1\n",
       "Nicotiana miersii                                           1\n",
       "Oryza sativa subsp. indica (Rice)                           1\n",
       "Name: Organism, Length: 125, dtype: int64"
      ]
     },
     "execution_count": 15,
     "metadata": {},
     "output_type": "execute_result"
    }
   ],
   "source": [
    "seq_org.Organism.value_counts()"
   ]
  },
  {
   "cell_type": "code",
   "execution_count": 16,
   "id": "960ea4a3",
   "metadata": {},
   "outputs": [],
   "source": [
    "## PIN II PI sequences distribution in Solanaceae and non Solanaceae plants"
   ]
  },
  {
   "cell_type": "code",
   "execution_count": 17,
   "id": "7b7d6b79",
   "metadata": {},
   "outputs": [
    {
     "data": {
      "text/plain": [
       "1    288\n",
       "0    164\n",
       "Name: Solanaceae, dtype: int64"
      ]
     },
     "execution_count": 17,
     "metadata": {},
     "output_type": "execute_result"
    }
   ],
   "source": [
    "seq_org.Solanaceae.value_counts()"
   ]
  },
  {
   "cell_type": "code",
   "execution_count": 18,
   "id": "191585a9",
   "metadata": {},
   "outputs": [],
   "source": [
    "## PIN II PI sequences distribution in Top 10 Solanaceae plants"
   ]
  },
  {
   "cell_type": "code",
   "execution_count": 20,
   "id": "4b14e573",
   "metadata": {},
   "outputs": [
    {
     "data": {
      "text/plain": [
       "Capsicum annuum (Capsicum pepper)                               99\n",
       "Solanum tuberosum (Potato)                                      52\n",
       "Nicotiana tabacum (Common tobacco)                              22\n",
       "Solanum lycopersicum (Tomato) (Lycopersicon esculentum)         21\n",
       "Capsicum chinense (Scotch bonnet) (Bonnet pepper)               13\n",
       "Nicotiana attenuata (Coyote tobacco)                            11\n",
       "Capsicum baccatum (Peruvian pepper)                             11\n",
       "Solanum chilense (Tomato) (Lycopersicon chilense)               11\n",
       "Nicotiana sylvestris (Wood tobacco) (South American tobacco)    10\n",
       "Solanum chacoense (Chaco potato)                                 5\n",
       "Name: Organism, dtype: int64"
      ]
     },
     "execution_count": 20,
     "metadata": {},
     "output_type": "execute_result"
    }
   ],
   "source": [
    "filt=seq_org.Solanaceae==1\n",
    "seq_org.loc[filt,:].Organism.value_counts().head(10)"
   ]
  },
  {
   "cell_type": "code",
   "execution_count": 21,
   "id": "6c39cbdc",
   "metadata": {},
   "outputs": [],
   "source": [
    "## PIN II PI sequences distribution in Top 10 non-Solanaceae plants"
   ]
  },
  {
   "cell_type": "code",
   "execution_count": 22,
   "id": "11ff99fd",
   "metadata": {},
   "outputs": [
    {
     "data": {
      "text/plain": [
       "Selaginella moellendorffii (Spikemoss)                              7\n",
       "Coffea canephora (Robusta coffee)                                   6\n",
       "Rosa chinensis (China rose)                                         5\n",
       "Dichanthelium oligosanthes                                          4\n",
       "Cuscuta australis                                                   4\n",
       "Arachis hypogaea (Peanut)                                           4\n",
       "Panicum hallii var. hallii                                          4\n",
       "Cuscuta campestris                                                  4\n",
       "Noccaea caerulescens (Alpine penny-cress) (Thlaspi caerulescens)    4\n",
       "Eragrostis curvula (weeping love grass)                             3\n",
       "Name: Organism, dtype: int64"
      ]
     },
     "execution_count": 22,
     "metadata": {},
     "output_type": "execute_result"
    }
   ],
   "source": [
    "filt=seq_org.Solanaceae==0\n",
    "seq_org.loc[filt,:].Organism.value_counts().head(10)"
   ]
  },
  {
   "cell_type": "markdown",
   "id": "ea179e24",
   "metadata": {},
   "source": [
    "##### Above results show: Out of 452 sequences, 288 Pin-II Sequences are from Solanaceae plants and the remaining 164 are from non-Solanaceae plants. Distribution of Pin-II sequences in top 3 Species is as follows: Capsicum annuum 99;Solanum tuberosum 52; and Nicotiana tabacum 22"
   ]
  },
  {
   "cell_type": "markdown",
   "id": "6df9aeca",
   "metadata": {},
   "source": [
    "## Domain (IRDs) Wise Distribution of PIN II PIs"
   ]
  },
  {
   "cell_type": "code",
   "execution_count": 23,
   "id": "0df7e937",
   "metadata": {},
   "outputs": [],
   "source": [
    "pinir=pd.read_csv('data/19_Sequences_Domains_RCL_Linker_Organisms.csv')"
   ]
  },
  {
   "cell_type": "code",
   "execution_count": 24,
   "id": "2044b06e",
   "metadata": {},
   "outputs": [
    {
     "data": {
      "text/html": [
       "<div>\n",
       "<style scoped>\n",
       "    .dataframe tbody tr th:only-of-type {\n",
       "        vertical-align: middle;\n",
       "    }\n",
       "\n",
       "    .dataframe tbody tr th {\n",
       "        vertical-align: top;\n",
       "    }\n",
       "\n",
       "    .dataframe thead th {\n",
       "        text-align: right;\n",
       "    }\n",
       "</style>\n",
       "<table border=\"1\" class=\"dataframe\">\n",
       "  <thead>\n",
       "    <tr style=\"text-align: right;\">\n",
       "      <th></th>\n",
       "      <th>UniprotID</th>\n",
       "      <th>Sequence</th>\n",
       "      <th>OrganismID</th>\n",
       "      <th>Organism</th>\n",
       "      <th>Genus</th>\n",
       "      <th>Species</th>\n",
       "      <th>Solanaceae</th>\n",
       "      <th>DomainID</th>\n",
       "      <th>Domain</th>\n",
       "      <th>DomainStartPosition</th>\n",
       "      <th>...</th>\n",
       "      <th>P1primeResidue</th>\n",
       "      <th>targetProtease</th>\n",
       "      <th>tpID</th>\n",
       "      <th>RCL_startPosition</th>\n",
       "      <th>RCL_endPosition</th>\n",
       "      <th>linkerID</th>\n",
       "      <th>Linker</th>\n",
       "      <th>LinkerType</th>\n",
       "      <th>Linker_startPosition</th>\n",
       "      <th>Linker_endPosition</th>\n",
       "    </tr>\n",
       "  </thead>\n",
       "  <tbody>\n",
       "    <tr>\n",
       "      <th>0</th>\n",
       "      <td>P05119</td>\n",
       "      <td>MAVHKEVNFVAYLLIVLGMFLYVDAKACTRECGNLGFGICPRSEGS...</td>\n",
       "      <td>4081</td>\n",
       "      <td>Solanum lycopersicum (Tomato) (Lycopersicon es...</td>\n",
       "      <td>Solanum</td>\n",
       "      <td>Solanum lycopersicum</td>\n",
       "      <td>1</td>\n",
       "      <td>IRD-62</td>\n",
       "      <td>PICINCCSGYKGCNYYNSFGKFICEGESDPKRPNACTFNCDPNIAY...</td>\n",
       "      <td>49</td>\n",
       "      <td>...</td>\n",
       "      <td>N</td>\n",
       "      <td>Chymotrypsin</td>\n",
       "      <td>TP-2</td>\n",
       "      <td>35.0</td>\n",
       "      <td>39.0</td>\n",
       "      <td>L-21</td>\n",
       "      <td>DPKRP</td>\n",
       "      <td>1.0</td>\n",
       "      <td>28.0</td>\n",
       "      <td>32.0</td>\n",
       "    </tr>\n",
       "    <tr>\n",
       "      <th>1</th>\n",
       "      <td>P05119</td>\n",
       "      <td>MAVHKEVNFVAYLLIVLGMFLYVDAKACTRECGNLGFGICPRSEGS...</td>\n",
       "      <td>4081</td>\n",
       "      <td>Solanum lycopersicum (Tomato) (Lycopersicon es...</td>\n",
       "      <td>Solanum</td>\n",
       "      <td>Solanum lycopersicum</td>\n",
       "      <td>1</td>\n",
       "      <td>IRD-405</td>\n",
       "      <td>NACTFNCDPNIAYSRCPRSQGKSLIYPTGCTTCCTGYKGCYYFGKD...</td>\n",
       "      <td>82</td>\n",
       "      <td>...</td>\n",
       "      <td>N</td>\n",
       "      <td>Chymotrypsin</td>\n",
       "      <td>TP-2</td>\n",
       "      <td>2.0</td>\n",
       "      <td>6.0</td>\n",
       "      <td>NaN</td>\n",
       "      <td>NaN</td>\n",
       "      <td>NaN</td>\n",
       "      <td>NaN</td>\n",
       "      <td>NaN</td>\n",
       "    </tr>\n",
       "  </tbody>\n",
       "</table>\n",
       "<p>2 rows × 26 columns</p>\n",
       "</div>"
      ],
      "text/plain": [
       "  UniprotID                                           Sequence  OrganismID  \\\n",
       "0    P05119  MAVHKEVNFVAYLLIVLGMFLYVDAKACTRECGNLGFGICPRSEGS...        4081   \n",
       "1    P05119  MAVHKEVNFVAYLLIVLGMFLYVDAKACTRECGNLGFGICPRSEGS...        4081   \n",
       "\n",
       "                                            Organism    Genus  \\\n",
       "0  Solanum lycopersicum (Tomato) (Lycopersicon es...  Solanum   \n",
       "1  Solanum lycopersicum (Tomato) (Lycopersicon es...  Solanum   \n",
       "\n",
       "                 Species  Solanaceae DomainID  \\\n",
       "0  Solanum lycopersicum            1   IRD-62   \n",
       "1  Solanum lycopersicum            1  IRD-405   \n",
       "\n",
       "                                              Domain  DomainStartPosition  \\\n",
       "0  PICINCCSGYKGCNYYNSFGKFICEGESDPKRPNACTFNCDPNIAY...                   49   \n",
       "1  NACTFNCDPNIAYSRCPRSQGKSLIYPTGCTTCCTGYKGCYYFGKD...                   82   \n",
       "\n",
       "   ...  P1primeResidue  targetProtease  tpID RCL_startPosition  \\\n",
       "0  ...               N    Chymotrypsin  TP-2              35.0   \n",
       "1  ...               N    Chymotrypsin  TP-2               2.0   \n",
       "\n",
       "  RCL_endPosition linkerID Linker LinkerType Linker_startPosition  \\\n",
       "0            39.0     L-21  DPKRP        1.0                 28.0   \n",
       "1             6.0      NaN    NaN        NaN                  NaN   \n",
       "\n",
       "   Linker_endPosition  \n",
       "0                32.0  \n",
       "1                 NaN  \n",
       "\n",
       "[2 rows x 26 columns]"
      ]
     },
     "execution_count": 24,
     "metadata": {},
     "output_type": "execute_result"
    }
   ],
   "source": [
    "pinir.head(2)"
   ]
  },
  {
   "cell_type": "code",
   "execution_count": 27,
   "id": "4ebdad65",
   "metadata": {},
   "outputs": [
    {
     "data": {
      "text/plain": [
       "(1309, 26)"
      ]
     },
     "execution_count": 27,
     "metadata": {},
     "output_type": "execute_result"
    }
   ],
   "source": [
    "pinir.shape"
   ]
  },
  {
   "cell_type": "code",
   "execution_count": 28,
   "id": "927c5968",
   "metadata": {},
   "outputs": [
    {
     "data": {
      "text/plain": [
       "Index(['UniprotID', 'Sequence', 'OrganismID', 'Organism', 'Genus', 'Species',\n",
       "       'Solanaceae', 'DomainID', 'Domain', 'DomainStartPosition',\n",
       "       'DomainEndPosition', 'DomainType', 'RclID', 'RCL', 'P2Residue',\n",
       "       'P1Residue', 'P1primeResidue', 'targetProtease', 'tpID',\n",
       "       'RCL_startPosition', 'RCL_endPosition', 'linkerID', 'Linker',\n",
       "       'LinkerType', 'Linker_startPosition', 'Linker_endPosition'],\n",
       "      dtype='object')"
      ]
     },
     "execution_count": 28,
     "metadata": {},
     "output_type": "execute_result"
    }
   ],
   "source": [
    "pinir.columns"
   ]
  },
  {
   "cell_type": "code",
   "execution_count": 29,
   "id": "6b1e53c0",
   "metadata": {},
   "outputs": [],
   "source": [
    "seq_domain=pinir[['UniprotID', 'OrganismID', 'Organism', 'Genus', 'Species',\n",
    "       'Solanaceae', 'DomainID','DomainType', 'RclID', 'RCL', 'P2Residue',\n",
    "       'P1Residue', 'P1primeResidue', 'targetProtease', 'tpID',\n",
    "       'linkerID', 'Linker',\n",
    "       'LinkerType']]"
   ]
  },
  {
   "cell_type": "code",
   "execution_count": 30,
   "id": "500fcd33",
   "metadata": {},
   "outputs": [
    {
     "data": {
      "text/html": [
       "<div>\n",
       "<style scoped>\n",
       "    .dataframe tbody tr th:only-of-type {\n",
       "        vertical-align: middle;\n",
       "    }\n",
       "\n",
       "    .dataframe tbody tr th {\n",
       "        vertical-align: top;\n",
       "    }\n",
       "\n",
       "    .dataframe thead th {\n",
       "        text-align: right;\n",
       "    }\n",
       "</style>\n",
       "<table border=\"1\" class=\"dataframe\">\n",
       "  <thead>\n",
       "    <tr style=\"text-align: right;\">\n",
       "      <th></th>\n",
       "      <th>UniprotID</th>\n",
       "      <th>OrganismID</th>\n",
       "      <th>Organism</th>\n",
       "      <th>Genus</th>\n",
       "      <th>Species</th>\n",
       "      <th>Solanaceae</th>\n",
       "      <th>DomainID</th>\n",
       "      <th>DomainType</th>\n",
       "      <th>RclID</th>\n",
       "      <th>RCL</th>\n",
       "      <th>P2Residue</th>\n",
       "      <th>P1Residue</th>\n",
       "      <th>P1primeResidue</th>\n",
       "      <th>targetProtease</th>\n",
       "      <th>tpID</th>\n",
       "      <th>linkerID</th>\n",
       "      <th>Linker</th>\n",
       "      <th>LinkerType</th>\n",
       "    </tr>\n",
       "  </thead>\n",
       "  <tbody>\n",
       "    <tr>\n",
       "      <th>0</th>\n",
       "      <td>P05119</td>\n",
       "      <td>4081</td>\n",
       "      <td>Solanum lycopersicum (Tomato) (Lycopersicon es...</td>\n",
       "      <td>Solanum</td>\n",
       "      <td>Solanum lycopersicum</td>\n",
       "      <td>1</td>\n",
       "      <td>IRD-62</td>\n",
       "      <td>1.0</td>\n",
       "      <td>RL-7</td>\n",
       "      <td>CTFNC</td>\n",
       "      <td>T</td>\n",
       "      <td>F</td>\n",
       "      <td>N</td>\n",
       "      <td>Chymotrypsin</td>\n",
       "      <td>TP-2</td>\n",
       "      <td>L-21</td>\n",
       "      <td>DPKRP</td>\n",
       "      <td>1.0</td>\n",
       "    </tr>\n",
       "    <tr>\n",
       "      <th>1</th>\n",
       "      <td>P05119</td>\n",
       "      <td>4081</td>\n",
       "      <td>Solanum lycopersicum (Tomato) (Lycopersicon es...</td>\n",
       "      <td>Solanum</td>\n",
       "      <td>Solanum lycopersicum</td>\n",
       "      <td>1</td>\n",
       "      <td>IRD-405</td>\n",
       "      <td>3.0</td>\n",
       "      <td>RL-7</td>\n",
       "      <td>CTFNC</td>\n",
       "      <td>T</td>\n",
       "      <td>F</td>\n",
       "      <td>N</td>\n",
       "      <td>Chymotrypsin</td>\n",
       "      <td>TP-2</td>\n",
       "      <td>NaN</td>\n",
       "      <td>NaN</td>\n",
       "      <td>NaN</td>\n",
       "    </tr>\n",
       "  </tbody>\n",
       "</table>\n",
       "</div>"
      ],
      "text/plain": [
       "  UniprotID  OrganismID                                           Organism  \\\n",
       "0    P05119        4081  Solanum lycopersicum (Tomato) (Lycopersicon es...   \n",
       "1    P05119        4081  Solanum lycopersicum (Tomato) (Lycopersicon es...   \n",
       "\n",
       "     Genus                Species  Solanaceae DomainID  DomainType RclID  \\\n",
       "0  Solanum  Solanum lycopersicum            1   IRD-62         1.0  RL-7   \n",
       "1  Solanum  Solanum lycopersicum            1  IRD-405         3.0  RL-7   \n",
       "\n",
       "     RCL P2Residue P1Residue P1primeResidue targetProtease  tpID linkerID  \\\n",
       "0  CTFNC         T         F              N   Chymotrypsin  TP-2     L-21   \n",
       "1  CTFNC         T         F              N   Chymotrypsin  TP-2      NaN   \n",
       "\n",
       "  Linker  LinkerType  \n",
       "0  DPKRP         1.0  \n",
       "1    NaN         NaN  "
      ]
     },
     "execution_count": 30,
     "metadata": {},
     "output_type": "execute_result"
    }
   ],
   "source": [
    "seq_domain.head(2)"
   ]
  },
  {
   "cell_type": "code",
   "execution_count": 31,
   "id": "88204e3a",
   "metadata": {},
   "outputs": [
    {
     "data": {
      "text/plain": [
       "(1309, 18)"
      ]
     },
     "execution_count": 31,
     "metadata": {},
     "output_type": "execute_result"
    }
   ],
   "source": [
    "seq_domain.shape"
   ]
  },
  {
   "cell_type": "code",
   "execution_count": 32,
   "id": "e929324c",
   "metadata": {},
   "outputs": [
    {
     "data": {
      "text/plain": [
       "387"
      ]
     },
     "execution_count": 32,
     "metadata": {},
     "output_type": "execute_result"
    }
   ],
   "source": [
    "seq_domain.UniprotID.nunique()"
   ]
  },
  {
   "cell_type": "code",
   "execution_count": 33,
   "id": "d919c53c",
   "metadata": {},
   "outputs": [
    {
     "data": {
      "text/plain": [
       "690"
      ]
     },
     "execution_count": 33,
     "metadata": {},
     "output_type": "execute_result"
    }
   ],
   "source": [
    "seq_domain.DomainID.nunique()"
   ]
  },
  {
   "cell_type": "markdown",
   "id": "b5900890",
   "metadata": {},
   "source": [
    "### Domain Frequency In PINIR"
   ]
  },
  {
   "cell_type": "code",
   "execution_count": 36,
   "id": "2f8f3fad",
   "metadata": {},
   "outputs": [],
   "source": [
    "## seq_domain.DomainID.value_counts().to_csv('data/25a_DomainFrequencyInPINIR.csv')"
   ]
  },
  {
   "cell_type": "code",
   "execution_count": 34,
   "id": "58f2fa87",
   "metadata": {},
   "outputs": [
    {
     "data": {
      "text/plain": [
       "IRD-133    39\n",
       "IRD-84     29\n",
       "IRD-536    25\n",
       "IRD-559    23\n",
       "IRD-122    19\n",
       "           ..\n",
       "IRD-105     1\n",
       "IRD-565     1\n",
       "IRD-332     1\n",
       "IRD-151     1\n",
       "IRD-269     1\n",
       "Name: DomainID, Length: 690, dtype: int64"
      ]
     },
     "execution_count": 34,
     "metadata": {},
     "output_type": "execute_result"
    }
   ],
   "source": [
    "seq_domain.DomainID.value_counts()"
   ]
  },
  {
   "cell_type": "markdown",
   "id": "3ca13c16",
   "metadata": {},
   "source": [
    "#### From the above result we can say that IRD-133 is found 39 times in seq_domain table. But we can't say it is found in 39 unique sequences because it might occur more than once in a sequence. To find unique sequences frquency we have to filter out duplicated records"
   ]
  },
  {
   "cell_type": "code",
   "execution_count": 38,
   "id": "c751755c",
   "metadata": {},
   "outputs": [],
   "source": [
    "## Sequences in which same Domain is found more than once"
   ]
  },
  {
   "cell_type": "code",
   "execution_count": 37,
   "id": "781303a2",
   "metadata": {},
   "outputs": [
    {
     "data": {
      "text/plain": [
       "59"
      ]
     },
     "execution_count": 37,
     "metadata": {},
     "output_type": "execute_result"
    }
   ],
   "source": [
    "seq_domain.duplicated().sum()"
   ]
  },
  {
   "cell_type": "code",
   "execution_count": 39,
   "id": "efe23804",
   "metadata": {},
   "outputs": [
    {
     "data": {
      "text/plain": [
       "1250"
      ]
     },
     "execution_count": 39,
     "metadata": {},
     "output_type": "execute_result"
    }
   ],
   "source": [
    "seq_domain.loc[~seq_domain.duplicated(),:].UniprotID.count()"
   ]
  },
  {
   "cell_type": "code",
   "execution_count": 40,
   "id": "56861fb3",
   "metadata": {},
   "outputs": [],
   "source": [
    "seq_uniqueDomain=seq_domain.loc[~seq_domain.duplicated(),:]"
   ]
  },
  {
   "cell_type": "code",
   "execution_count": 41,
   "id": "1112eecd",
   "metadata": {},
   "outputs": [
    {
     "data": {
      "text/plain": [
       "0"
      ]
     },
     "execution_count": 41,
     "metadata": {},
     "output_type": "execute_result"
    }
   ],
   "source": [
    "seq_uniqueDomain.duplicated().sum()"
   ]
  },
  {
   "cell_type": "code",
   "execution_count": 43,
   "id": "cbddf3c7",
   "metadata": {},
   "outputs": [],
   "source": [
    "seq_uniqueDomain.DomainID.value_counts().to_csv('data/25b_UniqueDomainFrequencyInPINIR.csv')"
   ]
  },
  {
   "cell_type": "code",
   "execution_count": 44,
   "id": "07fc81fc",
   "metadata": {},
   "outputs": [
    {
     "data": {
      "text/plain": [
       "IRD-133    34\n",
       "IRD-84     29\n",
       "IRD-536    25\n",
       "IRD-559    21\n",
       "IRD-122    18\n",
       "           ..\n",
       "IRD-473     1\n",
       "IRD-266     1\n",
       "IRD-643     1\n",
       "IRD-100     1\n",
       "IRD-251     1\n",
       "Name: DomainID, Length: 690, dtype: int64"
      ]
     },
     "execution_count": 44,
     "metadata": {},
     "output_type": "execute_result"
    }
   ],
   "source": [
    "seq_uniqueDomain.DomainID.value_counts()"
   ]
  },
  {
   "cell_type": "markdown",
   "id": "04edca77",
   "metadata": {},
   "source": [
    "#### From the above result we can say that IRD-133 is found in 34 unique sequences."
   ]
  },
  {
   "cell_type": "markdown",
   "id": "a844be5d",
   "metadata": {},
   "source": [
    "### Domain Frequency in terms of Species in which they are found"
   ]
  },
  {
   "cell_type": "code",
   "execution_count": 45,
   "id": "b3a13969",
   "metadata": {},
   "outputs": [
    {
     "data": {
      "text/html": [
       "<div>\n",
       "<style scoped>\n",
       "    .dataframe tbody tr th:only-of-type {\n",
       "        vertical-align: middle;\n",
       "    }\n",
       "\n",
       "    .dataframe tbody tr th {\n",
       "        vertical-align: top;\n",
       "    }\n",
       "\n",
       "    .dataframe thead th {\n",
       "        text-align: right;\n",
       "    }\n",
       "</style>\n",
       "<table border=\"1\" class=\"dataframe\">\n",
       "  <thead>\n",
       "    <tr style=\"text-align: right;\">\n",
       "      <th></th>\n",
       "      <th>UniprotID</th>\n",
       "      <th>OrganismID</th>\n",
       "      <th>Organism</th>\n",
       "      <th>Genus</th>\n",
       "      <th>Species</th>\n",
       "      <th>Solanaceae</th>\n",
       "      <th>DomainID</th>\n",
       "      <th>DomainType</th>\n",
       "      <th>RclID</th>\n",
       "      <th>RCL</th>\n",
       "      <th>P2Residue</th>\n",
       "      <th>P1Residue</th>\n",
       "      <th>P1primeResidue</th>\n",
       "      <th>targetProtease</th>\n",
       "      <th>tpID</th>\n",
       "      <th>linkerID</th>\n",
       "      <th>Linker</th>\n",
       "      <th>LinkerType</th>\n",
       "    </tr>\n",
       "  </thead>\n",
       "  <tbody>\n",
       "    <tr>\n",
       "      <th>0</th>\n",
       "      <td>P05119</td>\n",
       "      <td>4081</td>\n",
       "      <td>Solanum lycopersicum (Tomato) (Lycopersicon es...</td>\n",
       "      <td>Solanum</td>\n",
       "      <td>Solanum lycopersicum</td>\n",
       "      <td>1</td>\n",
       "      <td>IRD-62</td>\n",
       "      <td>1.0</td>\n",
       "      <td>RL-7</td>\n",
       "      <td>CTFNC</td>\n",
       "      <td>T</td>\n",
       "      <td>F</td>\n",
       "      <td>N</td>\n",
       "      <td>Chymotrypsin</td>\n",
       "      <td>TP-2</td>\n",
       "      <td>L-21</td>\n",
       "      <td>DPKRP</td>\n",
       "      <td>1.0</td>\n",
       "    </tr>\n",
       "    <tr>\n",
       "      <th>1</th>\n",
       "      <td>P05119</td>\n",
       "      <td>4081</td>\n",
       "      <td>Solanum lycopersicum (Tomato) (Lycopersicon es...</td>\n",
       "      <td>Solanum</td>\n",
       "      <td>Solanum lycopersicum</td>\n",
       "      <td>1</td>\n",
       "      <td>IRD-405</td>\n",
       "      <td>3.0</td>\n",
       "      <td>RL-7</td>\n",
       "      <td>CTFNC</td>\n",
       "      <td>T</td>\n",
       "      <td>F</td>\n",
       "      <td>N</td>\n",
       "      <td>Chymotrypsin</td>\n",
       "      <td>TP-2</td>\n",
       "      <td>NaN</td>\n",
       "      <td>NaN</td>\n",
       "      <td>NaN</td>\n",
       "    </tr>\n",
       "  </tbody>\n",
       "</table>\n",
       "</div>"
      ],
      "text/plain": [
       "  UniprotID  OrganismID                                           Organism  \\\n",
       "0    P05119        4081  Solanum lycopersicum (Tomato) (Lycopersicon es...   \n",
       "1    P05119        4081  Solanum lycopersicum (Tomato) (Lycopersicon es...   \n",
       "\n",
       "     Genus                Species  Solanaceae DomainID  DomainType RclID  \\\n",
       "0  Solanum  Solanum lycopersicum            1   IRD-62         1.0  RL-7   \n",
       "1  Solanum  Solanum lycopersicum            1  IRD-405         3.0  RL-7   \n",
       "\n",
       "     RCL P2Residue P1Residue P1primeResidue targetProtease  tpID linkerID  \\\n",
       "0  CTFNC         T         F              N   Chymotrypsin  TP-2     L-21   \n",
       "1  CTFNC         T         F              N   Chymotrypsin  TP-2      NaN   \n",
       "\n",
       "  Linker  LinkerType  \n",
       "0  DPKRP         1.0  \n",
       "1    NaN         NaN  "
      ]
     },
     "execution_count": 45,
     "metadata": {},
     "output_type": "execute_result"
    }
   ],
   "source": [
    "seq_uniqueDomain.head(2)"
   ]
  },
  {
   "cell_type": "code",
   "execution_count": 51,
   "id": "1a0ead75",
   "metadata": {},
   "outputs": [
    {
     "data": {
      "text/plain": [
       "448"
      ]
     },
     "execution_count": 51,
     "metadata": {},
     "output_type": "execute_result"
    }
   ],
   "source": [
    "seq_uniqueDomain[['DomainID','OrganismID']].duplicated().sum()"
   ]
  },
  {
   "cell_type": "code",
   "execution_count": 52,
   "id": "0b17c916",
   "metadata": {},
   "outputs": [
    {
     "data": {
      "text/plain": [
       "558"
      ]
     },
     "execution_count": 52,
     "metadata": {},
     "output_type": "execute_result"
    }
   ],
   "source": [
    "seq_uniqueDomain[['DomainID','Genus']].duplicated().sum()"
   ]
  },
  {
   "cell_type": "code",
   "execution_count": 53,
   "id": "3e4e0437",
   "metadata": {},
   "outputs": [
    {
     "data": {
      "text/plain": [
       "448"
      ]
     },
     "execution_count": 53,
     "metadata": {},
     "output_type": "execute_result"
    }
   ],
   "source": [
    "seq_uniqueDomain[['DomainID','Species']].duplicated().sum()"
   ]
  },
  {
   "cell_type": "code",
   "execution_count": 54,
   "id": "864352b5",
   "metadata": {},
   "outputs": [],
   "source": [
    "orga_domain=seq_uniqueDomain[['DomainID','OrganismID','Organism','Genus','Species','Solanaceae']]"
   ]
  },
  {
   "cell_type": "code",
   "execution_count": 55,
   "id": "89719d09",
   "metadata": {},
   "outputs": [
    {
     "data": {
      "text/html": [
       "<div>\n",
       "<style scoped>\n",
       "    .dataframe tbody tr th:only-of-type {\n",
       "        vertical-align: middle;\n",
       "    }\n",
       "\n",
       "    .dataframe tbody tr th {\n",
       "        vertical-align: top;\n",
       "    }\n",
       "\n",
       "    .dataframe thead th {\n",
       "        text-align: right;\n",
       "    }\n",
       "</style>\n",
       "<table border=\"1\" class=\"dataframe\">\n",
       "  <thead>\n",
       "    <tr style=\"text-align: right;\">\n",
       "      <th></th>\n",
       "      <th>DomainID</th>\n",
       "      <th>OrganismID</th>\n",
       "      <th>Organism</th>\n",
       "      <th>Genus</th>\n",
       "      <th>Species</th>\n",
       "      <th>Solanaceae</th>\n",
       "    </tr>\n",
       "  </thead>\n",
       "  <tbody>\n",
       "    <tr>\n",
       "      <th>0</th>\n",
       "      <td>IRD-62</td>\n",
       "      <td>4081</td>\n",
       "      <td>Solanum lycopersicum (Tomato) (Lycopersicon es...</td>\n",
       "      <td>Solanum</td>\n",
       "      <td>Solanum lycopersicum</td>\n",
       "      <td>1</td>\n",
       "    </tr>\n",
       "    <tr>\n",
       "      <th>1</th>\n",
       "      <td>IRD-405</td>\n",
       "      <td>4081</td>\n",
       "      <td>Solanum lycopersicum (Tomato) (Lycopersicon es...</td>\n",
       "      <td>Solanum</td>\n",
       "      <td>Solanum lycopersicum</td>\n",
       "      <td>1</td>\n",
       "    </tr>\n",
       "    <tr>\n",
       "      <th>2</th>\n",
       "      <td>IRD-456</td>\n",
       "      <td>4081</td>\n",
       "      <td>Solanum lycopersicum (Tomato) (Lycopersicon es...</td>\n",
       "      <td>Solanum</td>\n",
       "      <td>Solanum lycopersicum</td>\n",
       "      <td>1</td>\n",
       "    </tr>\n",
       "    <tr>\n",
       "      <th>3</th>\n",
       "      <td>IRD-54</td>\n",
       "      <td>4113</td>\n",
       "      <td>Solanum tuberosum (Potato)</td>\n",
       "      <td>Solanum</td>\n",
       "      <td>Solanum tuberosum</td>\n",
       "      <td>1</td>\n",
       "    </tr>\n",
       "    <tr>\n",
       "      <th>4</th>\n",
       "      <td>IRD-56</td>\n",
       "      <td>4113</td>\n",
       "      <td>Solanum tuberosum (Potato)</td>\n",
       "      <td>Solanum</td>\n",
       "      <td>Solanum tuberosum</td>\n",
       "      <td>1</td>\n",
       "    </tr>\n",
       "  </tbody>\n",
       "</table>\n",
       "</div>"
      ],
      "text/plain": [
       "  DomainID  OrganismID                                           Organism  \\\n",
       "0   IRD-62        4081  Solanum lycopersicum (Tomato) (Lycopersicon es...   \n",
       "1  IRD-405        4081  Solanum lycopersicum (Tomato) (Lycopersicon es...   \n",
       "2  IRD-456        4081  Solanum lycopersicum (Tomato) (Lycopersicon es...   \n",
       "3   IRD-54        4113                         Solanum tuberosum (Potato)   \n",
       "4   IRD-56        4113                         Solanum tuberosum (Potato)   \n",
       "\n",
       "     Genus                Species  Solanaceae  \n",
       "0  Solanum  Solanum lycopersicum            1  \n",
       "1  Solanum  Solanum lycopersicum            1  \n",
       "2  Solanum  Solanum lycopersicum            1  \n",
       "3  Solanum     Solanum tuberosum            1  \n",
       "4  Solanum     Solanum tuberosum            1  "
      ]
     },
     "execution_count": 55,
     "metadata": {},
     "output_type": "execute_result"
    }
   ],
   "source": [
    "orga_domain.head()"
   ]
  },
  {
   "cell_type": "code",
   "execution_count": 56,
   "id": "eb7d4d41",
   "metadata": {},
   "outputs": [
    {
     "data": {
      "text/plain": [
       "448"
      ]
     },
     "execution_count": 56,
     "metadata": {},
     "output_type": "execute_result"
    }
   ],
   "source": [
    "orga_domain.duplicated().sum()"
   ]
  },
  {
   "cell_type": "code",
   "execution_count": 57,
   "id": "53eb8d41",
   "metadata": {},
   "outputs": [
    {
     "data": {
      "text/plain": [
       "448"
      ]
     },
     "execution_count": 57,
     "metadata": {},
     "output_type": "execute_result"
    }
   ],
   "source": [
    "orga_domain[['Species','DomainID']].duplicated().sum()"
   ]
  },
  {
   "cell_type": "code",
   "execution_count": 58,
   "id": "02f9df6b",
   "metadata": {},
   "outputs": [],
   "source": [
    "species_uniqueDomains=orga_domain.loc[~orga_domain[['Species','DomainID']].duplicated(),:]"
   ]
  },
  {
   "cell_type": "code",
   "execution_count": 59,
   "id": "8128f3eb",
   "metadata": {},
   "outputs": [
    {
     "data": {
      "text/html": [
       "<div>\n",
       "<style scoped>\n",
       "    .dataframe tbody tr th:only-of-type {\n",
       "        vertical-align: middle;\n",
       "    }\n",
       "\n",
       "    .dataframe tbody tr th {\n",
       "        vertical-align: top;\n",
       "    }\n",
       "\n",
       "    .dataframe thead th {\n",
       "        text-align: right;\n",
       "    }\n",
       "</style>\n",
       "<table border=\"1\" class=\"dataframe\">\n",
       "  <thead>\n",
       "    <tr style=\"text-align: right;\">\n",
       "      <th></th>\n",
       "      <th>DomainID</th>\n",
       "      <th>OrganismID</th>\n",
       "      <th>Organism</th>\n",
       "      <th>Genus</th>\n",
       "      <th>Species</th>\n",
       "      <th>Solanaceae</th>\n",
       "    </tr>\n",
       "  </thead>\n",
       "  <tbody>\n",
       "    <tr>\n",
       "      <th>0</th>\n",
       "      <td>IRD-62</td>\n",
       "      <td>4081</td>\n",
       "      <td>Solanum lycopersicum (Tomato) (Lycopersicon es...</td>\n",
       "      <td>Solanum</td>\n",
       "      <td>Solanum lycopersicum</td>\n",
       "      <td>1</td>\n",
       "    </tr>\n",
       "    <tr>\n",
       "      <th>1</th>\n",
       "      <td>IRD-405</td>\n",
       "      <td>4081</td>\n",
       "      <td>Solanum lycopersicum (Tomato) (Lycopersicon es...</td>\n",
       "      <td>Solanum</td>\n",
       "      <td>Solanum lycopersicum</td>\n",
       "      <td>1</td>\n",
       "    </tr>\n",
       "    <tr>\n",
       "      <th>2</th>\n",
       "      <td>IRD-456</td>\n",
       "      <td>4081</td>\n",
       "      <td>Solanum lycopersicum (Tomato) (Lycopersicon es...</td>\n",
       "      <td>Solanum</td>\n",
       "      <td>Solanum lycopersicum</td>\n",
       "      <td>1</td>\n",
       "    </tr>\n",
       "    <tr>\n",
       "      <th>3</th>\n",
       "      <td>IRD-54</td>\n",
       "      <td>4113</td>\n",
       "      <td>Solanum tuberosum (Potato)</td>\n",
       "      <td>Solanum</td>\n",
       "      <td>Solanum tuberosum</td>\n",
       "      <td>1</td>\n",
       "    </tr>\n",
       "    <tr>\n",
       "      <th>4</th>\n",
       "      <td>IRD-56</td>\n",
       "      <td>4113</td>\n",
       "      <td>Solanum tuberosum (Potato)</td>\n",
       "      <td>Solanum</td>\n",
       "      <td>Solanum tuberosum</td>\n",
       "      <td>1</td>\n",
       "    </tr>\n",
       "  </tbody>\n",
       "</table>\n",
       "</div>"
      ],
      "text/plain": [
       "  DomainID  OrganismID                                           Organism  \\\n",
       "0   IRD-62        4081  Solanum lycopersicum (Tomato) (Lycopersicon es...   \n",
       "1  IRD-405        4081  Solanum lycopersicum (Tomato) (Lycopersicon es...   \n",
       "2  IRD-456        4081  Solanum lycopersicum (Tomato) (Lycopersicon es...   \n",
       "3   IRD-54        4113                         Solanum tuberosum (Potato)   \n",
       "4   IRD-56        4113                         Solanum tuberosum (Potato)   \n",
       "\n",
       "     Genus                Species  Solanaceae  \n",
       "0  Solanum  Solanum lycopersicum            1  \n",
       "1  Solanum  Solanum lycopersicum            1  \n",
       "2  Solanum  Solanum lycopersicum            1  \n",
       "3  Solanum     Solanum tuberosum            1  \n",
       "4  Solanum     Solanum tuberosum            1  "
      ]
     },
     "execution_count": 59,
     "metadata": {},
     "output_type": "execute_result"
    }
   ],
   "source": [
    "species_uniqueDomains.head()"
   ]
  },
  {
   "cell_type": "code",
   "execution_count": 60,
   "id": "64772aad",
   "metadata": {},
   "outputs": [
    {
     "data": {
      "text/plain": [
       "IRD-387    7\n",
       "IRD-176    4\n",
       "IRD-211    4\n",
       "IRD-357    3\n",
       "IRD-360    3\n",
       "          ..\n",
       "IRD-555    1\n",
       "IRD-23     1\n",
       "IRD-694    1\n",
       "IRD-543    1\n",
       "IRD-251    1\n",
       "Name: DomainID, Length: 690, dtype: int64"
      ]
     },
     "execution_count": 60,
     "metadata": {},
     "output_type": "execute_result"
    }
   ],
   "source": [
    "species_uniqueDomains.DomainID.value_counts()"
   ]
  },
  {
   "cell_type": "markdown",
   "id": "c701dc9a",
   "metadata": {},
   "source": [
    "#### The above result gives Domain Frequency in terms of species in which they are found"
   ]
  },
  {
   "cell_type": "markdown",
   "id": "ef6d7f07",
   "metadata": {},
   "source": [
    "### Distribution of Domains Species wise"
   ]
  },
  {
   "cell_type": "code",
   "execution_count": 62,
   "id": "fbd8dc53",
   "metadata": {},
   "outputs": [
    {
     "data": {
      "text/plain": [
       "DomainID  Species              \n",
       "IRD-1     Solanum lycopersicum     1\n",
       "IRD-10    Capsicum annuum          1\n",
       "          Capsicum chinense        1\n",
       "IRD-100   Capsicum annuum          1\n",
       "IRD-101   Capsicum annuum          1\n",
       "                                  ..\n",
       "IRD-95    Capsicum annuum          1\n",
       "IRD-96    Capsicum annuum          1\n",
       "IRD-97    Capsicum annuum          1\n",
       "IRD-98    Capsicum annuum          1\n",
       "IRD-99    Capsicum annuum          1\n",
       "Name: Species, Length: 802, dtype: int64"
      ]
     },
     "execution_count": 62,
     "metadata": {},
     "output_type": "execute_result"
    }
   ],
   "source": [
    "species_uniqueDomains.groupby('DomainID').Species.value_counts()"
   ]
  },
  {
   "cell_type": "code",
   "execution_count": 64,
   "id": "7431f691",
   "metadata": {},
   "outputs": [],
   "source": [
    "## species_uniqueDomains.groupby('DomainID').Species.value_counts().to_csv('data/26_UniqueDomainFrequency_In_Species.csv')"
   ]
  },
  {
   "cell_type": "markdown",
   "id": "d8cca12b",
   "metadata": {},
   "source": [
    "## Domain Architectures"
   ]
  },
  {
   "cell_type": "code",
   "execution_count": 66,
   "id": "aaad73e8",
   "metadata": {},
   "outputs": [
    {
     "data": {
      "text/html": [
       "<div>\n",
       "<style scoped>\n",
       "    .dataframe tbody tr th:only-of-type {\n",
       "        vertical-align: middle;\n",
       "    }\n",
       "\n",
       "    .dataframe tbody tr th {\n",
       "        vertical-align: top;\n",
       "    }\n",
       "\n",
       "    .dataframe thead th {\n",
       "        text-align: right;\n",
       "    }\n",
       "</style>\n",
       "<table border=\"1\" class=\"dataframe\">\n",
       "  <thead>\n",
       "    <tr style=\"text-align: right;\">\n",
       "      <th></th>\n",
       "      <th>UniprotID</th>\n",
       "      <th>OrganismID</th>\n",
       "      <th>Organism</th>\n",
       "      <th>Genus</th>\n",
       "      <th>Species</th>\n",
       "      <th>Solanaceae</th>\n",
       "      <th>DomainID</th>\n",
       "      <th>DomainType</th>\n",
       "      <th>RclID</th>\n",
       "      <th>RCL</th>\n",
       "      <th>P2Residue</th>\n",
       "      <th>P1Residue</th>\n",
       "      <th>P1primeResidue</th>\n",
       "      <th>targetProtease</th>\n",
       "      <th>tpID</th>\n",
       "      <th>linkerID</th>\n",
       "      <th>Linker</th>\n",
       "      <th>LinkerType</th>\n",
       "    </tr>\n",
       "  </thead>\n",
       "  <tbody>\n",
       "    <tr>\n",
       "      <th>0</th>\n",
       "      <td>P05119</td>\n",
       "      <td>4081</td>\n",
       "      <td>Solanum lycopersicum (Tomato) (Lycopersicon es...</td>\n",
       "      <td>Solanum</td>\n",
       "      <td>Solanum lycopersicum</td>\n",
       "      <td>1</td>\n",
       "      <td>IRD-62</td>\n",
       "      <td>1.0</td>\n",
       "      <td>RL-7</td>\n",
       "      <td>CTFNC</td>\n",
       "      <td>T</td>\n",
       "      <td>F</td>\n",
       "      <td>N</td>\n",
       "      <td>Chymotrypsin</td>\n",
       "      <td>TP-2</td>\n",
       "      <td>L-21</td>\n",
       "      <td>DPKRP</td>\n",
       "      <td>1.0</td>\n",
       "    </tr>\n",
       "    <tr>\n",
       "      <th>1</th>\n",
       "      <td>P05119</td>\n",
       "      <td>4081</td>\n",
       "      <td>Solanum lycopersicum (Tomato) (Lycopersicon es...</td>\n",
       "      <td>Solanum</td>\n",
       "      <td>Solanum lycopersicum</td>\n",
       "      <td>1</td>\n",
       "      <td>IRD-405</td>\n",
       "      <td>3.0</td>\n",
       "      <td>RL-7</td>\n",
       "      <td>CTFNC</td>\n",
       "      <td>T</td>\n",
       "      <td>F</td>\n",
       "      <td>N</td>\n",
       "      <td>Chymotrypsin</td>\n",
       "      <td>TP-2</td>\n",
       "      <td>NaN</td>\n",
       "      <td>NaN</td>\n",
       "      <td>NaN</td>\n",
       "    </tr>\n",
       "  </tbody>\n",
       "</table>\n",
       "</div>"
      ],
      "text/plain": [
       "  UniprotID  OrganismID                                           Organism  \\\n",
       "0    P05119        4081  Solanum lycopersicum (Tomato) (Lycopersicon es...   \n",
       "1    P05119        4081  Solanum lycopersicum (Tomato) (Lycopersicon es...   \n",
       "\n",
       "     Genus                Species  Solanaceae DomainID  DomainType RclID  \\\n",
       "0  Solanum  Solanum lycopersicum            1   IRD-62         1.0  RL-7   \n",
       "1  Solanum  Solanum lycopersicum            1  IRD-405         3.0  RL-7   \n",
       "\n",
       "     RCL P2Residue P1Residue P1primeResidue targetProtease  tpID linkerID  \\\n",
       "0  CTFNC         T         F              N   Chymotrypsin  TP-2     L-21   \n",
       "1  CTFNC         T         F              N   Chymotrypsin  TP-2      NaN   \n",
       "\n",
       "  Linker  LinkerType  \n",
       "0  DPKRP         1.0  \n",
       "1    NaN         NaN  "
      ]
     },
     "execution_count": 66,
     "metadata": {},
     "output_type": "execute_result"
    }
   ],
   "source": [
    "seq_domain.head(2)"
   ]
  },
  {
   "cell_type": "code",
   "execution_count": 68,
   "id": "52c97860",
   "metadata": {},
   "outputs": [
    {
     "data": {
      "text/plain": [
       "1309"
      ]
     },
     "execution_count": 68,
     "metadata": {},
     "output_type": "execute_result"
    }
   ],
   "source": [
    "seq_domain.UniprotID.count()"
   ]
  },
  {
   "cell_type": "code",
   "execution_count": 69,
   "id": "e70885af",
   "metadata": {},
   "outputs": [],
   "source": [
    "## Domain Count in Sequences"
   ]
  },
  {
   "cell_type": "code",
   "execution_count": 70,
   "id": "aa6c6280",
   "metadata": {},
   "outputs": [
    {
     "data": {
      "text/plain": [
       "A0A1U7WDA6    21\n",
       "Q9SDW8        15\n",
       "Q1WL31        15\n",
       "Q1WL35        15\n",
       "A0A1U7Y2F0    13\n",
       "              ..\n",
       "A0A446KEB4     1\n",
       "I7AXR4         1\n",
       "D8QVL2         1\n",
       "Q2TU74         1\n",
       "M1C870         1\n",
       "Name: UniprotID, Length: 387, dtype: int64"
      ]
     },
     "execution_count": 70,
     "metadata": {},
     "output_type": "execute_result"
    }
   ],
   "source": [
    "seq_domain.UniprotID.value_counts()"
   ]
  },
  {
   "cell_type": "code",
   "execution_count": 71,
   "id": "37a0d172",
   "metadata": {},
   "outputs": [],
   "source": [
    "domArch=seq_domain.UniprotID.value_counts()"
   ]
  },
  {
   "cell_type": "code",
   "execution_count": 73,
   "id": "51779b18",
   "metadata": {},
   "outputs": [],
   "source": [
    "## domArch.to_csv('data/27_DomainCOuntInSequences.csv')"
   ]
  },
  {
   "cell_type": "code",
   "execution_count": 76,
   "id": "8a79dc60",
   "metadata": {},
   "outputs": [],
   "source": [
    "## domArch.value_counts().to_csv('data/28_DomainArchitectures.csv')"
   ]
  },
  {
   "cell_type": "code",
   "execution_count": 74,
   "id": "44101b36",
   "metadata": {},
   "outputs": [
    {
     "data": {
      "text/plain": [
       "1     174\n",
       "5      77\n",
       "3      51\n",
       "2      24\n",
       "11     17\n",
       "7      16\n",
       "4      10\n",
       "9       6\n",
       "13      4\n",
       "15      3\n",
       "10      2\n",
       "6       1\n",
       "12      1\n",
       "21      1\n",
       "Name: UniprotID, dtype: int64"
      ]
     },
     "execution_count": 74,
     "metadata": {},
     "output_type": "execute_result"
    }
   ],
   "source": [
    "domArch.value_counts()"
   ]
  },
  {
   "cell_type": "markdown",
   "id": "7a0483c7",
   "metadata": {},
   "source": [
    "#### Above result shows that 14 type of Domain Architectures are found in PIN-II sequences in which sequences with single domains are the most i.e. 174 and 162 PIs consisted domains between 2 to 5."
   ]
  },
  {
   "cell_type": "code",
   "execution_count": 77,
   "id": "7c97b8ec",
   "metadata": {},
   "outputs": [
    {
     "data": {
      "text/html": [
       "<div>\n",
       "<style scoped>\n",
       "    .dataframe tbody tr th:only-of-type {\n",
       "        vertical-align: middle;\n",
       "    }\n",
       "\n",
       "    .dataframe tbody tr th {\n",
       "        vertical-align: top;\n",
       "    }\n",
       "\n",
       "    .dataframe thead th {\n",
       "        text-align: right;\n",
       "    }\n",
       "</style>\n",
       "<table border=\"1\" class=\"dataframe\">\n",
       "  <thead>\n",
       "    <tr style=\"text-align: right;\">\n",
       "      <th></th>\n",
       "      <th>UniprotID</th>\n",
       "      <th>ProteinNames</th>\n",
       "      <th>GeneNames</th>\n",
       "      <th>OrganismID</th>\n",
       "      <th>Organism</th>\n",
       "      <th>Genus</th>\n",
       "      <th>Species</th>\n",
       "      <th>Solanaceae</th>\n",
       "      <th>Function[CC]</th>\n",
       "      <th>Sequence</th>\n",
       "      <th>...</th>\n",
       "      <th>V</th>\n",
       "      <th>V_per</th>\n",
       "      <th>W</th>\n",
       "      <th>W_per</th>\n",
       "      <th>X</th>\n",
       "      <th>X_per</th>\n",
       "      <th>Y</th>\n",
       "      <th>Y_per</th>\n",
       "      <th>Z</th>\n",
       "      <th>Z_per</th>\n",
       "    </tr>\n",
       "  </thead>\n",
       "  <tbody>\n",
       "    <tr>\n",
       "      <th>0</th>\n",
       "      <td>P05119</td>\n",
       "      <td>Wound-induced proteinase inhibitor 2 (Wound-in...</td>\n",
       "      <td>NaN</td>\n",
       "      <td>4081</td>\n",
       "      <td>Solanum lycopersicum (Tomato) (Lycopersicon es...</td>\n",
       "      <td>Solanum</td>\n",
       "      <td>Solanum lycopersicum</td>\n",
       "      <td>1</td>\n",
       "      <td>FUNCTION: Potent inhibitor of both trypsin and...</td>\n",
       "      <td>MAVHKEVNFVAYLLIVLGMFLYVDAKACTRECGNLGFGICPRSEGS...</td>\n",
       "      <td>...</td>\n",
       "      <td>7</td>\n",
       "      <td>4.72973</td>\n",
       "      <td>0</td>\n",
       "      <td>0.0</td>\n",
       "      <td>0</td>\n",
       "      <td>0.0</td>\n",
       "      <td>11</td>\n",
       "      <td>7.432432</td>\n",
       "      <td>0</td>\n",
       "      <td>0</td>\n",
       "    </tr>\n",
       "  </tbody>\n",
       "</table>\n",
       "<p>1 rows × 64 columns</p>\n",
       "</div>"
      ],
      "text/plain": [
       "  UniprotID                                       ProteinNames GeneNames  \\\n",
       "0    P05119  Wound-induced proteinase inhibitor 2 (Wound-in...       NaN   \n",
       "\n",
       "   OrganismID                                           Organism    Genus  \\\n",
       "0        4081  Solanum lycopersicum (Tomato) (Lycopersicon es...  Solanum   \n",
       "\n",
       "                 Species  Solanaceae  \\\n",
       "0  Solanum lycopersicum            1   \n",
       "\n",
       "                                        Function[CC]  \\\n",
       "0  FUNCTION: Potent inhibitor of both trypsin and...   \n",
       "\n",
       "                                            Sequence  ...  V    V_per  W  \\\n",
       "0  MAVHKEVNFVAYLLIVLGMFLYVDAKACTRECGNLGFGICPRSEGS...  ...  7  4.72973  0   \n",
       "\n",
       "   W_per  X  X_per   Y     Y_per  Z  Z_per  \n",
       "0    0.0  0    0.0  11  7.432432  0      0  \n",
       "\n",
       "[1 rows x 64 columns]"
      ]
     },
     "execution_count": 77,
     "metadata": {},
     "output_type": "execute_result"
    }
   ],
   "source": [
    "seq.head(1)"
   ]
  },
  {
   "cell_type": "code",
   "execution_count": 78,
   "id": "4c337a4c",
   "metadata": {},
   "outputs": [
    {
     "data": {
      "text/plain": [
       "(452, 64)"
      ]
     },
     "execution_count": 78,
     "metadata": {},
     "output_type": "execute_result"
    }
   ],
   "source": [
    "seq.shape"
   ]
  },
  {
   "cell_type": "code",
   "execution_count": 79,
   "id": "6556d0dd",
   "metadata": {},
   "outputs": [],
   "source": [
    "seq_with_DomainCount=pd.read_csv('data/27_DomainCOuntInSequences.csv')"
   ]
  },
  {
   "cell_type": "code",
   "execution_count": 80,
   "id": "bfb05cce",
   "metadata": {},
   "outputs": [
    {
     "data": {
      "text/html": [
       "<div>\n",
       "<style scoped>\n",
       "    .dataframe tbody tr th:only-of-type {\n",
       "        vertical-align: middle;\n",
       "    }\n",
       "\n",
       "    .dataframe tbody tr th {\n",
       "        vertical-align: top;\n",
       "    }\n",
       "\n",
       "    .dataframe thead th {\n",
       "        text-align: right;\n",
       "    }\n",
       "</style>\n",
       "<table border=\"1\" class=\"dataframe\">\n",
       "  <thead>\n",
       "    <tr style=\"text-align: right;\">\n",
       "      <th></th>\n",
       "      <th>UniprotID</th>\n",
       "      <th>DomainCount</th>\n",
       "    </tr>\n",
       "  </thead>\n",
       "  <tbody>\n",
       "    <tr>\n",
       "      <th>0</th>\n",
       "      <td>A0A1U7WDA6</td>\n",
       "      <td>21</td>\n",
       "    </tr>\n",
       "  </tbody>\n",
       "</table>\n",
       "</div>"
      ],
      "text/plain": [
       "    UniprotID  DomainCount\n",
       "0  A0A1U7WDA6           21"
      ]
     },
     "execution_count": 80,
     "metadata": {},
     "output_type": "execute_result"
    }
   ],
   "source": [
    "seq_with_DomainCount.head(1)"
   ]
  },
  {
   "cell_type": "code",
   "execution_count": 81,
   "id": "2ad5a18f",
   "metadata": {},
   "outputs": [
    {
     "data": {
      "text/plain": [
       "(387, 2)"
      ]
     },
     "execution_count": 81,
     "metadata": {},
     "output_type": "execute_result"
    }
   ],
   "source": [
    "seq_with_DomainCount.shape"
   ]
  },
  {
   "cell_type": "code",
   "execution_count": 82,
   "id": "a0405b2e",
   "metadata": {},
   "outputs": [],
   "source": [
    "## Creating new Sequence data fame with 'No. of Domains init' information"
   ]
  },
  {
   "cell_type": "code",
   "execution_count": 83,
   "id": "3bc5e5e5",
   "metadata": {},
   "outputs": [],
   "source": [
    "seq_with_DomainCount=pd.merge(seq_with_DomainCount,seq,on='UniprotID',how='left')"
   ]
  },
  {
   "cell_type": "code",
   "execution_count": 84,
   "id": "68d6662d",
   "metadata": {},
   "outputs": [
    {
     "data": {
      "text/plain": [
       "(387, 65)"
      ]
     },
     "execution_count": 84,
     "metadata": {},
     "output_type": "execute_result"
    }
   ],
   "source": [
    "seq_with_DomainCount.shape"
   ]
  },
  {
   "cell_type": "code",
   "execution_count": 85,
   "id": "ae01bf39",
   "metadata": {},
   "outputs": [
    {
     "data": {
      "text/html": [
       "<div>\n",
       "<style scoped>\n",
       "    .dataframe tbody tr th:only-of-type {\n",
       "        vertical-align: middle;\n",
       "    }\n",
       "\n",
       "    .dataframe tbody tr th {\n",
       "        vertical-align: top;\n",
       "    }\n",
       "\n",
       "    .dataframe thead th {\n",
       "        text-align: right;\n",
       "    }\n",
       "</style>\n",
       "<table border=\"1\" class=\"dataframe\">\n",
       "  <thead>\n",
       "    <tr style=\"text-align: right;\">\n",
       "      <th></th>\n",
       "      <th>UniprotID</th>\n",
       "      <th>DomainCount</th>\n",
       "      <th>ProteinNames</th>\n",
       "      <th>GeneNames</th>\n",
       "      <th>OrganismID</th>\n",
       "      <th>Organism</th>\n",
       "      <th>Genus</th>\n",
       "      <th>Species</th>\n",
       "      <th>Solanaceae</th>\n",
       "      <th>Function[CC]</th>\n",
       "      <th>...</th>\n",
       "      <th>V</th>\n",
       "      <th>V_per</th>\n",
       "      <th>W</th>\n",
       "      <th>W_per</th>\n",
       "      <th>X</th>\n",
       "      <th>X_per</th>\n",
       "      <th>Y</th>\n",
       "      <th>Y_per</th>\n",
       "      <th>Z</th>\n",
       "      <th>Z_per</th>\n",
       "    </tr>\n",
       "  </thead>\n",
       "  <tbody>\n",
       "    <tr>\n",
       "      <th>0</th>\n",
       "      <td>A0A1U7WDA6</td>\n",
       "      <td>21</td>\n",
       "      <td>uncharacterized protein LOC104227417</td>\n",
       "      <td>LOC104227417</td>\n",
       "      <td>4096</td>\n",
       "      <td>Nicotiana sylvestris (Wood tobacco) (South Ame...</td>\n",
       "      <td>Nicotiana</td>\n",
       "      <td>Nicotiana sylvestris</td>\n",
       "      <td>1</td>\n",
       "      <td>NaN</td>\n",
       "      <td>...</td>\n",
       "      <td>20</td>\n",
       "      <td>2.911208</td>\n",
       "      <td>0</td>\n",
       "      <td>0.0</td>\n",
       "      <td>0</td>\n",
       "      <td>0.0</td>\n",
       "      <td>24</td>\n",
       "      <td>3.49345</td>\n",
       "      <td>0</td>\n",
       "      <td>0</td>\n",
       "    </tr>\n",
       "  </tbody>\n",
       "</table>\n",
       "<p>1 rows × 65 columns</p>\n",
       "</div>"
      ],
      "text/plain": [
       "    UniprotID  DomainCount                          ProteinNames  \\\n",
       "0  A0A1U7WDA6           21  uncharacterized protein LOC104227417   \n",
       "\n",
       "      GeneNames  OrganismID  \\\n",
       "0  LOC104227417        4096   \n",
       "\n",
       "                                            Organism      Genus  \\\n",
       "0  Nicotiana sylvestris (Wood tobacco) (South Ame...  Nicotiana   \n",
       "\n",
       "                 Species  Solanaceae Function[CC]  ...   V     V_per  W  \\\n",
       "0  Nicotiana sylvestris            1          NaN  ...  20  2.911208  0   \n",
       "\n",
       "   W_per  X  X_per   Y    Y_per  Z  Z_per  \n",
       "0    0.0  0    0.0  24  3.49345  0      0  \n",
       "\n",
       "[1 rows x 65 columns]"
      ]
     },
     "execution_count": 85,
     "metadata": {},
     "output_type": "execute_result"
    }
   ],
   "source": [
    "seq_with_DomainCount.head(1)"
   ]
  },
  {
   "cell_type": "markdown",
   "id": "4c801a50",
   "metadata": {},
   "source": [
    "### Solanaceae wise distribution of DomainArchitecture"
   ]
  },
  {
   "cell_type": "code",
   "execution_count": 86,
   "id": "19507488",
   "metadata": {},
   "outputs": [
    {
     "data": {
      "text/plain": [
       "Solanaceae  DomainCount\n",
       "0           1              112\n",
       "            2                4\n",
       "1           5               77\n",
       "            1               62\n",
       "            3               51\n",
       "            2               20\n",
       "            11              17\n",
       "            7               16\n",
       "            4               10\n",
       "            9                6\n",
       "            13               4\n",
       "            15               3\n",
       "            10               2\n",
       "            6                1\n",
       "            12               1\n",
       "            21               1\n",
       "Name: DomainCount, dtype: int64"
      ]
     },
     "execution_count": 86,
     "metadata": {},
     "output_type": "execute_result"
    }
   ],
   "source": [
    "seq_with_DomainCount.groupby('Solanaceae').DomainCount.value_counts()"
   ]
  },
  {
   "cell_type": "code",
   "execution_count": 88,
   "id": "992de7df",
   "metadata": {},
   "outputs": [],
   "source": [
    "# seq_with_DomainCount.groupby('Solanaceae').DomainCount.value_counts().to_csv('data/29_Solanaceae_wise_distribution_of_DomainArchitecture.csv')"
   ]
  },
  {
   "cell_type": "code",
   "execution_count": 89,
   "id": "7061b66a",
   "metadata": {},
   "outputs": [],
   "source": [
    "## Sequences with Single Domain"
   ]
  },
  {
   "cell_type": "code",
   "execution_count": 90,
   "id": "b978768a",
   "metadata": {},
   "outputs": [
    {
     "data": {
      "text/plain": [
       "174"
      ]
     },
     "execution_count": 90,
     "metadata": {},
     "output_type": "execute_result"
    }
   ],
   "source": [
    "seq_with_DomainCount.loc[seq_with_DomainCount.DomainCount==1,:].UniprotID.count()"
   ]
  },
  {
   "cell_type": "code",
   "execution_count": 91,
   "id": "2f1ead7f",
   "metadata": {},
   "outputs": [],
   "source": [
    "seq_with_singleDomain=seq_with_DomainCount.loc[seq_with_DomainCount.DomainCount==1,:]"
   ]
  },
  {
   "cell_type": "markdown",
   "id": "83d4fc4c",
   "metadata": {},
   "source": [
    "### Distribution of Single Domain Architecture Sequences, Solanaceae wise"
   ]
  },
  {
   "cell_type": "code",
   "execution_count": 92,
   "id": "0c7f921c",
   "metadata": {},
   "outputs": [
    {
     "data": {
      "text/plain": [
       "0    112\n",
       "1     62\n",
       "Name: Solanaceae, dtype: int64"
      ]
     },
     "execution_count": 92,
     "metadata": {},
     "output_type": "execute_result"
    }
   ],
   "source": [
    "seq_with_singleDomain.Solanaceae.value_counts()"
   ]
  },
  {
   "cell_type": "markdown",
   "id": "de7c9b79",
   "metadata": {},
   "source": [
    "### Species wise distribution of Single Domain Architecture Sequences, grouped by Solanaceae"
   ]
  },
  {
   "cell_type": "code",
   "execution_count": 93,
   "id": "18bbe064",
   "metadata": {},
   "outputs": [
    {
     "data": {
      "text/plain": [
       "Solanaceae\n",
       "0    70\n",
       "1    11\n",
       "Name: Species, dtype: int64"
      ]
     },
     "execution_count": 93,
     "metadata": {},
     "output_type": "execute_result"
    }
   ],
   "source": [
    "seq_with_singleDomain.groupby('Solanaceae').Species.nunique()"
   ]
  },
  {
   "cell_type": "code",
   "execution_count": 94,
   "id": "c5917d80",
   "metadata": {},
   "outputs": [
    {
     "data": {
      "text/plain": [
       "Solanaceae  Species                   \n",
       "0           Coffea canephora              5\n",
       "            Rosa chinensis                5\n",
       "            Noccaea caerulescens          4\n",
       "            Panicum hallii var. hallii    4\n",
       "            Cuscuta australis             3\n",
       "                                         ..\n",
       "1           Nicotiana attenuata           3\n",
       "            Solanum americanum            2\n",
       "            Solanum chilense              2\n",
       "            Solanum lycopersicum          2\n",
       "            Solanum melongena             1\n",
       "Name: Species, Length: 81, dtype: int64"
      ]
     },
     "execution_count": 94,
     "metadata": {},
     "output_type": "execute_result"
    }
   ],
   "source": [
    "seq_with_singleDomain.groupby('Solanaceae').Species.value_counts()"
   ]
  },
  {
   "cell_type": "code",
   "execution_count": 96,
   "id": "0e1367c8",
   "metadata": {},
   "outputs": [],
   "source": [
    "## seq_with_singleDomain.groupby('Solanaceae').Species.value_counts().to_csv('data/30_Species_wise_distribution_of_singleDomain_sequences.csv')"
   ]
  },
  {
   "cell_type": "markdown",
   "id": "db022524",
   "metadata": {},
   "source": [
    "### Organism wise distribution of Domain Architecture"
   ]
  },
  {
   "cell_type": "code",
   "execution_count": 97,
   "id": "bbf0d54c",
   "metadata": {},
   "outputs": [
    {
     "data": {
      "text/plain": [
       "Organism                                                       DomainCount\n",
       "Aegilops tauschii (Tausch's goatgrass) (Aegilops squarrosa)    1              1\n",
       "Aegilops tauschii subsp. strangulata (Goatgrass)               1              2\n",
       "Ananas comosus (Pineapple) (Ananas ananas)                     1              2\n",
       "Apostasia shenzhenica                                          1              1\n",
       "Arabidopsis lyrata subsp. lyrata (Lyre-leaved rock-cress)      1              1\n",
       "                                                                             ..\n",
       "Triticum aestivum (Wheat)                                      1              3\n",
       "Triticum turgidum subsp. durum (Durum wheat) (Triticum durum)  1              1\n",
       "Triticum urartu (Red wild einkorn) (Crithodium urartu)         1              1\n",
       "Vitis vinifera (Grape)                                         1              1\n",
       "Zea mays (Maize)                                               1              2\n",
       "Name: DomainCount, Length: 147, dtype: int64"
      ]
     },
     "execution_count": 97,
     "metadata": {},
     "output_type": "execute_result"
    }
   ],
   "source": [
    "seq_with_DomainCount.groupby('Organism').DomainCount.value_counts()"
   ]
  },
  {
   "cell_type": "code",
   "execution_count": 99,
   "id": "690a6787",
   "metadata": {},
   "outputs": [],
   "source": [
    "## seq_with_DomainCount.groupby('Organism').DomainCount.value_counts().to_csv('data/31_Organism_wise_distribution_of_DomainArchitecture.csv')"
   ]
  },
  {
   "cell_type": "code",
   "execution_count": 101,
   "id": "e472f3d4",
   "metadata": {},
   "outputs": [],
   "source": [
    "## seq_with_DomainCount.to_csv('data/32_Pin_II_sequences_with_DOmainCount.csv',index=False)"
   ]
  },
  {
   "cell_type": "code",
   "execution_count": null,
   "id": "82b8df64",
   "metadata": {},
   "outputs": [],
   "source": []
  }
 ],
 "metadata": {
  "kernelspec": {
   "display_name": "Python 3",
   "language": "python",
   "name": "python3"
  },
  "language_info": {
   "codemirror_mode": {
    "name": "ipython",
    "version": 3
   },
   "file_extension": ".py",
   "mimetype": "text/x-python",
   "name": "python",
   "nbconvert_exporter": "python",
   "pygments_lexer": "ipython3",
   "version": "3.9.4"
  }
 },
 "nbformat": 4,
 "nbformat_minor": 5
}
