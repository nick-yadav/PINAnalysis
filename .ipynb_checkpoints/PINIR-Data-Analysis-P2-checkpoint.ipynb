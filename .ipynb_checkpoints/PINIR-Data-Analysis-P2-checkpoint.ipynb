{
 "cells": [
  {
   "cell_type": "markdown",
   "id": "2192dc0b",
   "metadata": {},
   "source": [
    "# PINIR Data Analysis Page-2"
   ]
  },
  {
   "cell_type": "code",
   "execution_count": 1,
   "id": "dc352af9",
   "metadata": {},
   "outputs": [],
   "source": [
    "import pandas as pd\n",
    "import numpy as np"
   ]
  },
  {
   "cell_type": "code",
   "execution_count": 73,
   "id": "c84bb0ab",
   "metadata": {},
   "outputs": [],
   "source": [
    "pd.set_option('display.max_columns',None)\n",
    "pd.set_option('display.max_rows',None)"
   ]
  },
  {
   "cell_type": "code",
   "execution_count": 3,
   "id": "01c46cd1",
   "metadata": {},
   "outputs": [],
   "source": [
    "pd.reset_option('display.max_columns')\n",
    "pd.reset_option('display.max_rows')"
   ]
  },
  {
   "cell_type": "code",
   "execution_count": 4,
   "id": "223631a1",
   "metadata": {},
   "outputs": [],
   "source": [
    "pd.set_option('display.max_colwidth',2000)"
   ]
  },
  {
   "cell_type": "code",
   "execution_count": 5,
   "id": "392bdd45",
   "metadata": {},
   "outputs": [],
   "source": [
    "pd.reset_option('display.max_colwidth')"
   ]
  },
  {
   "cell_type": "markdown",
   "id": "7646b1d3",
   "metadata": {},
   "source": [
    "## Linker Diversity and Distribution in Pin-II PIs"
   ]
  },
  {
   "cell_type": "code",
   "execution_count": 6,
   "id": "b5ab5938",
   "metadata": {},
   "outputs": [],
   "source": [
    "pinir=pd.read_csv('data/19_Sequences_Domains_RCL_Linker_Organisms.csv')"
   ]
  },
  {
   "cell_type": "code",
   "execution_count": 7,
   "id": "eca417a3",
   "metadata": {},
   "outputs": [
    {
     "data": {
      "text/plain": [
       "Index(['UniprotID', 'Sequence', 'OrganismID', 'Organism', 'Genus', 'Species',\n",
       "       'Solanaceae', 'DomainID', 'Domain', 'DomainStartPosition',\n",
       "       'DomainEndPosition', 'DomainType', 'RclID', 'RCL', 'P2Residue',\n",
       "       'P1Residue', 'P1primeResidue', 'targetProtease', 'tpID',\n",
       "       'RCL_startPosition', 'RCL_endPosition', 'linkerID', 'Linker',\n",
       "       'LinkerType', 'Linker_startPosition', 'Linker_endPosition'],\n",
       "      dtype='object')"
      ]
     },
     "execution_count": 7,
     "metadata": {},
     "output_type": "execute_result"
    }
   ],
   "source": [
    "pinir.columns"
   ]
  },
  {
   "cell_type": "code",
   "execution_count": 8,
   "id": "a3fe3938",
   "metadata": {},
   "outputs": [],
   "source": [
    "seq_domain=pinir[['UniprotID', 'OrganismID', 'Organism', 'Genus', 'Species',\n",
    "       'Solanaceae', 'DomainID','DomainType', 'RclID', 'RCL', 'P2Residue',\n",
    "       'P1Residue', 'P1primeResidue', 'targetProtease', 'tpID',\n",
    "       'linkerID', 'Linker',\n",
    "       'LinkerType']]"
   ]
  },
  {
   "cell_type": "code",
   "execution_count": 9,
   "id": "99c22184",
   "metadata": {},
   "outputs": [
    {
     "data": {
      "text/html": [
       "<div>\n",
       "<style scoped>\n",
       "    .dataframe tbody tr th:only-of-type {\n",
       "        vertical-align: middle;\n",
       "    }\n",
       "\n",
       "    .dataframe tbody tr th {\n",
       "        vertical-align: top;\n",
       "    }\n",
       "\n",
       "    .dataframe thead th {\n",
       "        text-align: right;\n",
       "    }\n",
       "</style>\n",
       "<table border=\"1\" class=\"dataframe\">\n",
       "  <thead>\n",
       "    <tr style=\"text-align: right;\">\n",
       "      <th></th>\n",
       "      <th>UniprotID</th>\n",
       "      <th>OrganismID</th>\n",
       "      <th>Organism</th>\n",
       "      <th>Genus</th>\n",
       "      <th>Species</th>\n",
       "      <th>Solanaceae</th>\n",
       "      <th>DomainID</th>\n",
       "      <th>DomainType</th>\n",
       "      <th>RclID</th>\n",
       "      <th>RCL</th>\n",
       "      <th>P2Residue</th>\n",
       "      <th>P1Residue</th>\n",
       "      <th>P1primeResidue</th>\n",
       "      <th>targetProtease</th>\n",
       "      <th>tpID</th>\n",
       "      <th>linkerID</th>\n",
       "      <th>Linker</th>\n",
       "      <th>LinkerType</th>\n",
       "    </tr>\n",
       "  </thead>\n",
       "  <tbody>\n",
       "    <tr>\n",
       "      <th>0</th>\n",
       "      <td>P05119</td>\n",
       "      <td>4081</td>\n",
       "      <td>Solanum lycopersicum (Tomato) (Lycopersicon es...</td>\n",
       "      <td>Solanum</td>\n",
       "      <td>Solanum lycopersicum</td>\n",
       "      <td>1</td>\n",
       "      <td>IRD-62</td>\n",
       "      <td>1.0</td>\n",
       "      <td>RL-7</td>\n",
       "      <td>CTFNC</td>\n",
       "      <td>T</td>\n",
       "      <td>F</td>\n",
       "      <td>N</td>\n",
       "      <td>Chymotrypsin</td>\n",
       "      <td>TP-2</td>\n",
       "      <td>L-21</td>\n",
       "      <td>DPKRP</td>\n",
       "      <td>1.0</td>\n",
       "    </tr>\n",
       "    <tr>\n",
       "      <th>1</th>\n",
       "      <td>P05119</td>\n",
       "      <td>4081</td>\n",
       "      <td>Solanum lycopersicum (Tomato) (Lycopersicon es...</td>\n",
       "      <td>Solanum</td>\n",
       "      <td>Solanum lycopersicum</td>\n",
       "      <td>1</td>\n",
       "      <td>IRD-405</td>\n",
       "      <td>3.0</td>\n",
       "      <td>RL-7</td>\n",
       "      <td>CTFNC</td>\n",
       "      <td>T</td>\n",
       "      <td>F</td>\n",
       "      <td>N</td>\n",
       "      <td>Chymotrypsin</td>\n",
       "      <td>TP-2</td>\n",
       "      <td>NaN</td>\n",
       "      <td>NaN</td>\n",
       "      <td>NaN</td>\n",
       "    </tr>\n",
       "  </tbody>\n",
       "</table>\n",
       "</div>"
      ],
      "text/plain": [
       "  UniprotID  OrganismID                                           Organism  \\\n",
       "0    P05119        4081  Solanum lycopersicum (Tomato) (Lycopersicon es...   \n",
       "1    P05119        4081  Solanum lycopersicum (Tomato) (Lycopersicon es...   \n",
       "\n",
       "     Genus                Species  Solanaceae DomainID  DomainType RclID  \\\n",
       "0  Solanum  Solanum lycopersicum            1   IRD-62         1.0  RL-7   \n",
       "1  Solanum  Solanum lycopersicum            1  IRD-405         3.0  RL-7   \n",
       "\n",
       "     RCL P2Residue P1Residue P1primeResidue targetProtease  tpID linkerID  \\\n",
       "0  CTFNC         T         F              N   Chymotrypsin  TP-2     L-21   \n",
       "1  CTFNC         T         F              N   Chymotrypsin  TP-2      NaN   \n",
       "\n",
       "  Linker  LinkerType  \n",
       "0  DPKRP         1.0  \n",
       "1    NaN         NaN  "
      ]
     },
     "execution_count": 9,
     "metadata": {},
     "output_type": "execute_result"
    }
   ],
   "source": [
    "seq_domain.head(2)"
   ]
  },
  {
   "cell_type": "code",
   "execution_count": 10,
   "id": "54400e61",
   "metadata": {},
   "outputs": [],
   "source": [
    "linkers=pd.read_csv('data/8_Linkers.csv')"
   ]
  },
  {
   "cell_type": "code",
   "execution_count": 11,
   "id": "ac403de7",
   "metadata": {},
   "outputs": [
    {
     "data": {
      "text/plain": [
       "(78, 3)"
      ]
     },
     "execution_count": 11,
     "metadata": {},
     "output_type": "execute_result"
    }
   ],
   "source": [
    "linkers.shape"
   ]
  },
  {
   "cell_type": "code",
   "execution_count": 12,
   "id": "c185bc07",
   "metadata": {},
   "outputs": [
    {
     "data": {
      "text/plain": [
       "linkerID    78\n",
       "Linker      78\n",
       "Type        78\n",
       "dtype: int64"
      ]
     },
     "execution_count": 12,
     "metadata": {},
     "output_type": "execute_result"
    }
   ],
   "source": [
    "linkers.count()"
   ]
  },
  {
   "cell_type": "code",
   "execution_count": 14,
   "id": "70be47cc",
   "metadata": {},
   "outputs": [
    {
     "data": {
      "text/plain": [
       "2    54\n",
       "1    24\n",
       "Name: Type, dtype: int64"
      ]
     },
     "execution_count": 14,
     "metadata": {},
     "output_type": "execute_result"
    }
   ],
   "source": [
    "linkers.Type.value_counts()"
   ]
  },
  {
   "cell_type": "code",
   "execution_count": 15,
   "id": "8cd1e269",
   "metadata": {},
   "outputs": [
    {
     "data": {
      "text/plain": [
       "(1309, 18)"
      ]
     },
     "execution_count": 15,
     "metadata": {},
     "output_type": "execute_result"
    }
   ],
   "source": [
    "seq_domain.shape"
   ]
  },
  {
   "cell_type": "code",
   "execution_count": 18,
   "id": "e9e28303",
   "metadata": {},
   "outputs": [
    {
     "data": {
      "text/plain": [
       "293"
      ]
     },
     "execution_count": 18,
     "metadata": {},
     "output_type": "execute_result"
    }
   ],
   "source": [
    "seq_domain.LinkerType.isna().sum()"
   ]
  },
  {
   "cell_type": "code",
   "execution_count": 19,
   "id": "fe900876",
   "metadata": {},
   "outputs": [
    {
     "data": {
      "text/plain": [
       "1016"
      ]
     },
     "execution_count": 19,
     "metadata": {},
     "output_type": "execute_result"
    }
   ],
   "source": [
    "filt=(~seq_domain.LinkerType.isna())\n",
    "seq_domain.loc[filt,:].UniprotID.count()"
   ]
  },
  {
   "cell_type": "code",
   "execution_count": 17,
   "id": "465da5d6",
   "metadata": {},
   "outputs": [
    {
     "data": {
      "text/plain": [
       "2.0    511\n",
       "1.0    505\n",
       "Name: LinkerType, dtype: int64"
      ]
     },
     "execution_count": 17,
     "metadata": {},
     "output_type": "execute_result"
    }
   ],
   "source": [
    "seq_domain.LinkerType.value_counts() ## Distribution by Linker Type"
   ]
  },
  {
   "cell_type": "code",
   "execution_count": 20,
   "id": "8f06b820",
   "metadata": {},
   "outputs": [],
   "source": [
    "domainDetails=pd.read_csv('data/11_Domain_RCL_Linker.csv')"
   ]
  },
  {
   "cell_type": "code",
   "execution_count": 21,
   "id": "67dc7924",
   "metadata": {},
   "outputs": [
    {
     "data": {
      "text/plain": [
       "(695, 18)"
      ]
     },
     "execution_count": 21,
     "metadata": {},
     "output_type": "execute_result"
    }
   ],
   "source": [
    "domainDetails.shape"
   ]
  },
  {
   "cell_type": "code",
   "execution_count": 22,
   "id": "e00c5fc5",
   "metadata": {},
   "outputs": [
    {
     "data": {
      "text/plain": [
       "Index(['id', 'domainID', 'domain', 'DomainType', 'RclID', 'RCL', 'P2Residue',\n",
       "       'P1Residue', 'P1primeResidue', 'targetProtease', 'tpID',\n",
       "       'RCL_startPosition', 'RCL_endPosition', 'linkerID', 'Linker',\n",
       "       'LinkerType', 'Linker_startPosition', 'Linker_endPosition'],\n",
       "      dtype='object')"
      ]
     },
     "execution_count": 22,
     "metadata": {},
     "output_type": "execute_result"
    }
   ],
   "source": [
    "domainDetails.columns"
   ]
  },
  {
   "cell_type": "markdown",
   "id": "e88dcf74",
   "metadata": {},
   "source": [
    "### Domains distribution by Domain Type"
   ]
  },
  {
   "cell_type": "code",
   "execution_count": 23,
   "id": "da1ddc46",
   "metadata": {},
   "outputs": [
    {
     "data": {
      "text/plain": [
       "2.0    256\n",
       "1.0    238\n",
       "3.0    201\n",
       "Name: DomainType, dtype: int64"
      ]
     },
     "execution_count": 23,
     "metadata": {},
     "output_type": "execute_result"
    }
   ],
   "source": [
    "domainDetails.DomainType.value_counts()"
   ]
  },
  {
   "cell_type": "code",
   "execution_count": 24,
   "id": "ec019951",
   "metadata": {},
   "outputs": [
    {
     "data": {
      "text/plain": [
       "Index(['UniprotID', 'OrganismID', 'Organism', 'Genus', 'Species', 'Solanaceae',\n",
       "       'DomainID', 'DomainType', 'RclID', 'RCL', 'P2Residue', 'P1Residue',\n",
       "       'P1primeResidue', 'targetProtease', 'tpID', 'linkerID', 'Linker',\n",
       "       'LinkerType'],\n",
       "      dtype='object')"
      ]
     },
     "execution_count": 24,
     "metadata": {},
     "output_type": "execute_result"
    }
   ],
   "source": [
    "seq_domain.columns"
   ]
  },
  {
   "cell_type": "code",
   "execution_count": 25,
   "id": "5bc17153",
   "metadata": {},
   "outputs": [
    {
     "data": {
      "text/plain": [
       "(1309, 18)"
      ]
     },
     "execution_count": 25,
     "metadata": {},
     "output_type": "execute_result"
    }
   ],
   "source": [
    "seq_domain.shape"
   ]
  },
  {
   "cell_type": "code",
   "execution_count": 28,
   "id": "09421bab",
   "metadata": {},
   "outputs": [
    {
     "data": {
      "text/plain": [
       "59"
      ]
     },
     "execution_count": 28,
     "metadata": {},
     "output_type": "execute_result"
    }
   ],
   "source": [
    "seq_domain.duplicated().sum()"
   ]
  },
  {
   "cell_type": "code",
   "execution_count": 29,
   "id": "27537d9c",
   "metadata": {},
   "outputs": [],
   "source": [
    "## Records without duplicated records, due to presence of same domain multiple times in sequence"
   ]
  },
  {
   "cell_type": "code",
   "execution_count": 30,
   "id": "51eb52b5",
   "metadata": {},
   "outputs": [
    {
     "data": {
      "text/plain": [
       "1250"
      ]
     },
     "execution_count": 30,
     "metadata": {},
     "output_type": "execute_result"
    }
   ],
   "source": [
    "seq_domain.loc[~seq_domain.duplicated(),:].UniprotID.count()"
   ]
  },
  {
   "cell_type": "code",
   "execution_count": 31,
   "id": "25af9d48",
   "metadata": {},
   "outputs": [],
   "source": [
    "seq_domain_uniqueRecords=seq_domain.loc[~seq_domain.duplicated(),:]"
   ]
  },
  {
   "cell_type": "code",
   "execution_count": 32,
   "id": "96e26815",
   "metadata": {},
   "outputs": [
    {
     "data": {
      "text/plain": [
       "0"
      ]
     },
     "execution_count": 32,
     "metadata": {},
     "output_type": "execute_result"
    }
   ],
   "source": [
    "seq_domain_uniqueRecords.duplicated().sum()"
   ]
  },
  {
   "cell_type": "code",
   "execution_count": null,
   "id": "17abd617",
   "metadata": {},
   "outputs": [],
   "source": [
    "## Dropping UniprotID these many are duplicated records bcz of different sequences\n",
    "## belonging to same organism"
   ]
  },
  {
   "cell_type": "code",
   "execution_count": 35,
   "id": "0bad470c",
   "metadata": {},
   "outputs": [
    {
     "data": {
      "text/plain": [
       "448"
      ]
     },
     "execution_count": 35,
     "metadata": {},
     "output_type": "execute_result"
    }
   ],
   "source": [
    "seq_domain_uniqueRecords[['OrganismID', 'Organism', 'Genus', 'Species', 'Solanaceae',\n",
    "       'DomainID', 'DomainType', 'RclID', 'RCL', 'P2Residue', 'P1Residue',\n",
    "       'P1primeResidue', 'targetProtease', 'tpID', 'linkerID', 'Linker',\n",
    "       'LinkerType']].duplicated().sum()"
   ]
  },
  {
   "cell_type": "markdown",
   "id": "a215cf6f",
   "metadata": {},
   "source": [
    "### Finding Unique relation between Organisms and Domain found in them"
   ]
  },
  {
   "cell_type": "code",
   "execution_count": 36,
   "id": "0751b08a",
   "metadata": {},
   "outputs": [],
   "source": [
    "org_domain=seq_domain_uniqueRecords[['OrganismID', 'Organism', 'Genus', 'Species', 'Solanaceae',\n",
    "       'DomainID', 'DomainType', 'RclID', 'RCL', 'P2Residue', 'P1Residue',\n",
    "       'P1primeResidue', 'targetProtease', 'tpID', 'linkerID', 'Linker',\n",
    "       'LinkerType']]"
   ]
  },
  {
   "cell_type": "code",
   "execution_count": 38,
   "id": "1470a26d",
   "metadata": {},
   "outputs": [
    {
     "data": {
      "text/plain": [
       "(448, 17)"
      ]
     },
     "execution_count": 38,
     "metadata": {},
     "output_type": "execute_result"
    }
   ],
   "source": [
    "org_domain.loc[org_domain.duplicated(),:].shape"
   ]
  },
  {
   "cell_type": "code",
   "execution_count": 39,
   "id": "94ed3eef",
   "metadata": {},
   "outputs": [
    {
     "data": {
      "text/plain": [
       "(802, 17)"
      ]
     },
     "execution_count": 39,
     "metadata": {},
     "output_type": "execute_result"
    }
   ],
   "source": [
    "org_domain.loc[~org_domain.duplicated(),:].shape"
   ]
  },
  {
   "cell_type": "code",
   "execution_count": 40,
   "id": "261d5adb",
   "metadata": {},
   "outputs": [],
   "source": [
    "org_domain_uniqueRecords=org_domain.loc[~org_domain.duplicated(),:]"
   ]
  },
  {
   "cell_type": "code",
   "execution_count": 41,
   "id": "0834a955",
   "metadata": {},
   "outputs": [
    {
     "data": {
      "text/plain": [
       "802"
      ]
     },
     "execution_count": 41,
     "metadata": {},
     "output_type": "execute_result"
    }
   ],
   "source": [
    "org_domain_uniqueRecords.OrganismID.count()"
   ]
  },
  {
   "cell_type": "markdown",
   "id": "00e060a6",
   "metadata": {},
   "source": [
    "### Distribution of Organisms Domain Type wise"
   ]
  },
  {
   "cell_type": "code",
   "execution_count": 42,
   "id": "606d4416",
   "metadata": {},
   "outputs": [
    {
     "data": {
      "text/plain": [
       "DomainType  Organism                                                     \n",
       "1.0         Capsicum annuum (Capsicum pepper)                                68\n",
       "            Nicotiana tabacum (Common tobacco)                               24\n",
       "            Solanum tuberosum (Potato)                                       21\n",
       "            Nicotiana sylvestris (Wood tobacco) (South American tobacco)     14\n",
       "            Nicotiana attenuata (Coyote tobacco)                             13\n",
       "                                                                             ..\n",
       "3.0         Solanum phureja                                                   1\n",
       "            Spinacia oleracea (Spinach)                                       1\n",
       "            Triticum turgidum subsp. durum (Durum wheat) (Triticum durum)     1\n",
       "            Triticum urartu (Red wild einkorn) (Crithodium urartu)            1\n",
       "            Vitis vinifera (Grape)                                            1\n",
       "Name: Organism, Length: 147, dtype: int64"
      ]
     },
     "execution_count": 42,
     "metadata": {},
     "output_type": "execute_result"
    }
   ],
   "source": [
    "org_domain_uniqueRecords.groupby('DomainType').Organism.value_counts()"
   ]
  },
  {
   "cell_type": "code",
   "execution_count": 43,
   "id": "b48b8629",
   "metadata": {},
   "outputs": [],
   "source": [
    "## org_domain_uniqueRecords.groupby('DomainType').Organism.value_counts().to_csv('data/33_Distribution_of_Organism_by_domainType.csv')"
   ]
  },
  {
   "cell_type": "markdown",
   "id": "71605f47",
   "metadata": {},
   "source": [
    "## RCL distribution and specificity"
   ]
  },
  {
   "cell_type": "code",
   "execution_count": 44,
   "id": "db6efc39",
   "metadata": {},
   "outputs": [
    {
     "data": {
      "text/plain": [
       "(1309, 18)"
      ]
     },
     "execution_count": 44,
     "metadata": {},
     "output_type": "execute_result"
    }
   ],
   "source": [
    "seq_domain.shape"
   ]
  },
  {
   "cell_type": "code",
   "execution_count": 45,
   "id": "2815420c",
   "metadata": {},
   "outputs": [
    {
     "data": {
      "text/plain": [
       "Index(['UniprotID', 'OrganismID', 'Organism', 'Genus', 'Species', 'Solanaceae',\n",
       "       'DomainID', 'DomainType', 'RclID', 'RCL', 'P2Residue', 'P1Residue',\n",
       "       'P1primeResidue', 'targetProtease', 'tpID', 'linkerID', 'Linker',\n",
       "       'LinkerType'],\n",
       "      dtype='object')"
      ]
     },
     "execution_count": 45,
     "metadata": {},
     "output_type": "execute_result"
    }
   ],
   "source": [
    "seq_domain.columns"
   ]
  },
  {
   "cell_type": "markdown",
   "id": "dff21e2b",
   "metadata": {},
   "source": [
    "### RCL Distribution in PIN-II PI Sequences"
   ]
  },
  {
   "cell_type": "code",
   "execution_count": 46,
   "id": "267edbd9",
   "metadata": {},
   "outputs": [
    {
     "data": {
      "text/plain": [
       "CPRNC    578\n",
       "CTLNC    113\n",
       "CPRYC     94\n",
       "CPLNC     55\n",
       "CTLEC     52\n",
       "Name: RCL, dtype: int64"
      ]
     },
     "execution_count": 46,
     "metadata": {},
     "output_type": "execute_result"
    }
   ],
   "source": [
    "seq_domain.RCL.value_counts().head()"
   ]
  },
  {
   "cell_type": "markdown",
   "id": "701d1809",
   "metadata": {},
   "source": [
    "### RCL Distribution in IRDs Sequences"
   ]
  },
  {
   "cell_type": "code",
   "execution_count": 47,
   "id": "19ab9569",
   "metadata": {},
   "outputs": [
    {
     "data": {
      "text/plain": [
       "CPRNC    291\n",
       "CTLNC     36\n",
       "CPLNC     35\n",
       "CTLEC     25\n",
       "CPLYC     23\n",
       "Name: RCL, dtype: int64"
      ]
     },
     "execution_count": 47,
     "metadata": {},
     "output_type": "execute_result"
    }
   ],
   "source": [
    "domainDetails.RCL.value_counts().head()"
   ]
  },
  {
   "cell_type": "markdown",
   "id": "79122ee7",
   "metadata": {},
   "source": [
    "### RCL distribution Organism wise in all PI sequences"
   ]
  },
  {
   "cell_type": "code",
   "execution_count": 48,
   "id": "f5eefabf",
   "metadata": {},
   "outputs": [
    {
     "data": {
      "text/plain": [
       "Organism                                                       RCL  \n",
       "Aegilops tauschii (Tausch's goatgrass) (Aegilops squarrosa)    CHQYC    1\n",
       "Aegilops tauschii subsp. strangulata (Goatgrass)               CHQYC    1\n",
       "                                                               CPQYC    1\n",
       "Ananas comosus (Pineapple) (Ananas ananas)                     CPQYC    2\n",
       "Apostasia shenzhenica                                          CPLYC    1\n",
       "                                                                       ..\n",
       "Triticum aestivum (Wheat)                                      CHQYC    1\n",
       "Triticum turgidum subsp. durum (Durum wheat) (Triticum durum)  CPQYC    1\n",
       "Triticum urartu (Red wild einkorn) (Crithodium urartu)         CPQYC    1\n",
       "Vitis vinifera (Grape)                                         CPLYC    1\n",
       "Zea mays (Maize)                                               CPQFC    2\n",
       "Name: RCL, Length: 273, dtype: int64"
      ]
     },
     "execution_count": 48,
     "metadata": {},
     "output_type": "execute_result"
    }
   ],
   "source": [
    "seq_domain.groupby('Organism').RCL.value_counts()"
   ]
  },
  {
   "cell_type": "markdown",
   "id": "06118f5f",
   "metadata": {},
   "source": [
    "### RCL distribution Organism wise in Unique-Organism occurrences"
   ]
  },
  {
   "cell_type": "code",
   "execution_count": 49,
   "id": "07418412",
   "metadata": {},
   "outputs": [
    {
     "data": {
      "text/plain": [
       "802"
      ]
     },
     "execution_count": 49,
     "metadata": {},
     "output_type": "execute_result"
    }
   ],
   "source": [
    "org_domain_uniqueRecords.OrganismID.count()"
   ]
  },
  {
   "cell_type": "code",
   "execution_count": 50,
   "id": "8eb24ac8",
   "metadata": {},
   "outputs": [
    {
     "data": {
      "text/plain": [
       "Organism                                                       RCL  \n",
       "Aegilops tauschii (Tausch's goatgrass) (Aegilops squarrosa)    CHQYC    1\n",
       "Aegilops tauschii subsp. strangulata (Goatgrass)               CHQYC    1\n",
       "                                                               CPQYC    1\n",
       "Ananas comosus (Pineapple) (Ananas ananas)                     CPQYC    2\n",
       "Apostasia shenzhenica                                          CPLYC    1\n",
       "                                                                       ..\n",
       "Triticum aestivum (Wheat)                                      CHQYC    1\n",
       "Triticum turgidum subsp. durum (Durum wheat) (Triticum durum)  CPQYC    1\n",
       "Triticum urartu (Red wild einkorn) (Crithodium urartu)         CPQYC    1\n",
       "Vitis vinifera (Grape)                                         CPLYC    1\n",
       "Zea mays (Maize)                                               CPQFC    2\n",
       "Name: RCL, Length: 273, dtype: int64"
      ]
     },
     "execution_count": 50,
     "metadata": {},
     "output_type": "execute_result"
    }
   ],
   "source": [
    "org_domain_uniqueRecords.groupby('Organism').RCL.value_counts()"
   ]
  },
  {
   "cell_type": "code",
   "execution_count": 51,
   "id": "fde3138a",
   "metadata": {},
   "outputs": [],
   "source": [
    "rcl=pd.read_csv('data/7_RCL_TP.csv')"
   ]
  },
  {
   "cell_type": "code",
   "execution_count": 52,
   "id": "fb69d090",
   "metadata": {},
   "outputs": [
    {
     "data": {
      "text/plain": [
       "RclID             63\n",
       "Rcl               63\n",
       "targetProtease    63\n",
       "tpID              63\n",
       "dtype: int64"
      ]
     },
     "execution_count": 52,
     "metadata": {},
     "output_type": "execute_result"
    }
   ],
   "source": [
    "rcl.count()"
   ]
  },
  {
   "cell_type": "code",
   "execution_count": 53,
   "id": "0c958e95",
   "metadata": {},
   "outputs": [
    {
     "data": {
      "text/plain": [
       "Unknown         25\n",
       "Chymotrypsin    20\n",
       "Trypsin         15\n",
       "Elastase         3\n",
       "Name: targetProtease, dtype: int64"
      ]
     },
     "execution_count": 53,
     "metadata": {},
     "output_type": "execute_result"
    }
   ],
   "source": [
    "rcl.targetProtease.value_counts()"
   ]
  },
  {
   "cell_type": "markdown",
   "id": "1ab74a90",
   "metadata": {},
   "source": [
    "### Residue Distribution in IRDs"
   ]
  },
  {
   "cell_type": "code",
   "execution_count": 54,
   "id": "ae08ca8d",
   "metadata": {},
   "outputs": [
    {
     "data": {
      "text/plain": [
       "Index(['id', 'domainID', 'domain', 'DomainType', 'RclID', 'RCL', 'P2Residue',\n",
       "       'P1Residue', 'P1primeResidue', 'targetProtease', 'tpID',\n",
       "       'RCL_startPosition', 'RCL_endPosition', 'linkerID', 'Linker',\n",
       "       'LinkerType', 'Linker_startPosition', 'Linker_endPosition'],\n",
       "      dtype='object')"
      ]
     },
     "execution_count": 54,
     "metadata": {},
     "output_type": "execute_result"
    }
   ],
   "source": [
    "domainDetails.columns"
   ]
  },
  {
   "cell_type": "code",
   "execution_count": 55,
   "id": "db59ce6f",
   "metadata": {},
   "outputs": [
    {
     "data": {
      "text/plain": [
       "R    352\n",
       "L    137\n",
       "Q     85\n",
       "K     44\n",
       "F     36\n",
       "A     10\n",
       "M      9\n",
       "P      6\n",
       "T      4\n",
       "S      3\n",
       "G      2\n",
       "I      2\n",
       "E      2\n",
       "Y      2\n",
       "D      1\n",
       "Name: P1Residue, dtype: int64"
      ]
     },
     "execution_count": 55,
     "metadata": {},
     "output_type": "execute_result"
    }
   ],
   "source": [
    "domainDetails.P1Residue.value_counts()"
   ]
  },
  {
   "cell_type": "code",
   "execution_count": 56,
   "id": "1209ef3b",
   "metadata": {},
   "outputs": [
    {
     "data": {
      "text/plain": [
       "P    479\n",
       "T    165\n",
       "S     19\n",
       "L     13\n",
       "I      6\n",
       "H      3\n",
       "R      3\n",
       "A      3\n",
       "N      2\n",
       "Y      2\n",
       "Name: P2Residue, dtype: int64"
      ]
     },
     "execution_count": 56,
     "metadata": {},
     "output_type": "execute_result"
    }
   ],
   "source": [
    "domainDetails.P2Residue.value_counts()"
   ]
  },
  {
   "cell_type": "code",
   "execution_count": 57,
   "id": "5c12419e",
   "metadata": {},
   "outputs": [
    {
     "data": {
      "text/plain": [
       "N    421\n",
       "E    115\n",
       "Y     73\n",
       "F     30\n",
       "I     24\n",
       "V     10\n",
       "Q      8\n",
       "D      7\n",
       "H      4\n",
       "K      2\n",
       "T      1\n",
       "Name: P1primeResidue, dtype: int64"
      ]
     },
     "execution_count": 57,
     "metadata": {},
     "output_type": "execute_result"
    }
   ],
   "source": [
    "domainDetails.P1primeResidue.value_counts()"
   ]
  },
  {
   "cell_type": "markdown",
   "id": "c10e9860",
   "metadata": {},
   "source": [
    "### P1 Residue Distribution for Solanaceae and NON Solanaceae"
   ]
  },
  {
   "cell_type": "code",
   "execution_count": 58,
   "id": "12e80aeb",
   "metadata": {},
   "outputs": [
    {
     "data": {
      "text/plain": [
       "(802, 17)"
      ]
     },
     "execution_count": 58,
     "metadata": {},
     "output_type": "execute_result"
    }
   ],
   "source": [
    "org_domain_uniqueRecords.shape"
   ]
  },
  {
   "cell_type": "code",
   "execution_count": 59,
   "id": "02569a73",
   "metadata": {},
   "outputs": [
    {
     "data": {
      "text/plain": [
       "802"
      ]
     },
     "execution_count": 59,
     "metadata": {},
     "output_type": "execute_result"
    }
   ],
   "source": [
    "org_domain_uniqueRecords.OrganismID.count()"
   ]
  },
  {
   "cell_type": "code",
   "execution_count": 60,
   "id": "346cc88e",
   "metadata": {},
   "outputs": [
    {
     "data": {
      "text/plain": [
       "Index(['OrganismID', 'Organism', 'Genus', 'Species', 'Solanaceae', 'DomainID',\n",
       "       'DomainType', 'RclID', 'RCL', 'P2Residue', 'P1Residue',\n",
       "       'P1primeResidue', 'targetProtease', 'tpID', 'linkerID', 'Linker',\n",
       "       'LinkerType'],\n",
       "      dtype='object')"
      ]
     },
     "execution_count": 60,
     "metadata": {},
     "output_type": "execute_result"
    }
   ],
   "source": [
    "org_domain_uniqueRecords.columns"
   ]
  },
  {
   "cell_type": "code",
   "execution_count": 61,
   "id": "02f3c120",
   "metadata": {},
   "outputs": [
    {
     "data": {
      "text/plain": [
       "Solanaceae  P1Residue\n",
       "0           Q             49\n",
       "            L             39\n",
       "            M              6\n",
       "            K              5\n",
       "            R              4\n",
       "            F              3\n",
       "            E              2\n",
       "1           R            395\n",
       "            L            115\n",
       "            Q             58\n",
       "            K             45\n",
       "            F             37\n",
       "            A             10\n",
       "            M              6\n",
       "            P              6\n",
       "            T              6\n",
       "            S              5\n",
       "            Y              4\n",
       "            G              2\n",
       "            I              2\n",
       "Name: P1Residue, dtype: int64"
      ]
     },
     "execution_count": 61,
     "metadata": {},
     "output_type": "execute_result"
    }
   ],
   "source": [
    "org_domain_uniqueRecords.groupby('Solanaceae').P1Residue.value_counts()"
   ]
  },
  {
   "cell_type": "code",
   "execution_count": 63,
   "id": "6cfb6ba7",
   "metadata": {},
   "outputs": [],
   "source": [
    "## org_domain_uniqueRecords.groupby('Solanaceae').P1Residue.value_counts().to_csv('data/34_P1Residue_distribution_for_Solanaceae.csv')"
   ]
  },
  {
   "cell_type": "markdown",
   "id": "e2ea2d24",
   "metadata": {},
   "source": [
    "### RCL distribution Solanaceae wise"
   ]
  },
  {
   "cell_type": "code",
   "execution_count": 64,
   "id": "dda28eaf",
   "metadata": {},
   "outputs": [
    {
     "data": {
      "text/plain": [
       "Solanaceae  RCL  \n",
       "0           CPLYC    23\n",
       "            CPQYC    22\n",
       "            CPQFC    20\n",
       "            CPLIC     7\n",
       "            CAMYC     5\n",
       "                     ..\n",
       "1           CTPNC     2\n",
       "            CIREC     1\n",
       "            CLQKC     1\n",
       "            CSFNC     1\n",
       "            CTQDC     1\n",
       "Name: RCL, Length: 71, dtype: int64"
      ]
     },
     "execution_count": 64,
     "metadata": {},
     "output_type": "execute_result"
    }
   ],
   "source": [
    "org_domain_uniqueRecords.groupby('Solanaceae').RCL.value_counts()"
   ]
  },
  {
   "cell_type": "markdown",
   "id": "a305f18e",
   "metadata": {},
   "source": [
    "## Disulphide Bond variations in the Pin-II family"
   ]
  },
  {
   "cell_type": "code",
   "execution_count": 65,
   "id": "00756164",
   "metadata": {},
   "outputs": [],
   "source": [
    "seq=pd.read_csv('data/24_Sequence_Organism_IsoelectricPoint_Amino_Composition.csv')"
   ]
  },
  {
   "cell_type": "code",
   "execution_count": 66,
   "id": "fbe72db5",
   "metadata": {},
   "outputs": [
    {
     "data": {
      "text/plain": [
       "(452, 64)"
      ]
     },
     "execution_count": 66,
     "metadata": {},
     "output_type": "execute_result"
    }
   ],
   "source": [
    "seq.shape"
   ]
  },
  {
   "cell_type": "code",
   "execution_count": 68,
   "id": "1492169f",
   "metadata": {},
   "outputs": [
    {
     "data": {
      "text/plain": [
       "Index(['UniprotID', 'ProteinNames', 'GeneNames', 'OrganismID', 'Organism',\n",
       "       'Genus', 'Species', 'Solanaceae', 'Function[CC]', 'Sequence', 'Length',\n",
       "       'Mass', 'average_pI', 'pH_5.5_charge', 'pH_7.4_charge', 'pH_8.0_charge',\n",
       "       'A', 'A_per', 'C', 'C_per', 'D', 'D_per', 'E', 'E_per', 'F', 'F_per',\n",
       "       'G', 'G_per', 'H', 'H_per', 'I', 'I_per', 'K', 'K_per', 'L', 'L_per',\n",
       "       'M', 'M_per', 'N', 'N_per', 'O', 'O_per', 'P', 'P_per', 'Q', 'Q_per',\n",
       "       'R', 'R_per', 'S', 'S_per', 'T', 'T_per', 'U', 'U_per', 'V', 'V_per',\n",
       "       'W', 'W_per', 'X', 'X_per', 'Y', 'Y_per', 'Z', 'Z_per'],\n",
       "      dtype='object')"
      ]
     },
     "execution_count": 68,
     "metadata": {},
     "output_type": "execute_result"
    }
   ],
   "source": [
    "seq.columns"
   ]
  },
  {
   "cell_type": "code",
   "execution_count": 69,
   "id": "0e3b33aa",
   "metadata": {},
   "outputs": [],
   "source": [
    "seq_amino=seq[['UniprotID',\n",
    "       'A', 'C','D','E','F','G','H','I','K','L','M','N','O','P','Q','R','S','T','U','V','W','X','Y','Z']]"
   ]
  },
  {
   "cell_type": "code",
   "execution_count": 70,
   "id": "b8448665",
   "metadata": {},
   "outputs": [
    {
     "data": {
      "text/html": [
       "<div>\n",
       "<style scoped>\n",
       "    .dataframe tbody tr th:only-of-type {\n",
       "        vertical-align: middle;\n",
       "    }\n",
       "\n",
       "    .dataframe tbody tr th {\n",
       "        vertical-align: top;\n",
       "    }\n",
       "\n",
       "    .dataframe thead th {\n",
       "        text-align: right;\n",
       "    }\n",
       "</style>\n",
       "<table border=\"1\" class=\"dataframe\">\n",
       "  <thead>\n",
       "    <tr style=\"text-align: right;\">\n",
       "      <th></th>\n",
       "      <th>UniprotID</th>\n",
       "      <th>A</th>\n",
       "      <th>C</th>\n",
       "      <th>D</th>\n",
       "      <th>E</th>\n",
       "      <th>F</th>\n",
       "      <th>G</th>\n",
       "      <th>H</th>\n",
       "      <th>I</th>\n",
       "      <th>K</th>\n",
       "      <th>...</th>\n",
       "      <th>Q</th>\n",
       "      <th>R</th>\n",
       "      <th>S</th>\n",
       "      <th>T</th>\n",
       "      <th>U</th>\n",
       "      <th>V</th>\n",
       "      <th>W</th>\n",
       "      <th>X</th>\n",
       "      <th>Y</th>\n",
       "      <th>Z</th>\n",
       "    </tr>\n",
       "  </thead>\n",
       "  <tbody>\n",
       "    <tr>\n",
       "      <th>0</th>\n",
       "      <td>P05119</td>\n",
       "      <td>7</td>\n",
       "      <td>16</td>\n",
       "      <td>5</td>\n",
       "      <td>8</td>\n",
       "      <td>8</td>\n",
       "      <td>16</td>\n",
       "      <td>1</td>\n",
       "      <td>7</td>\n",
       "      <td>10</td>\n",
       "      <td>...</td>\n",
       "      <td>1</td>\n",
       "      <td>5</td>\n",
       "      <td>9</td>\n",
       "      <td>6</td>\n",
       "      <td>0</td>\n",
       "      <td>7</td>\n",
       "      <td>0</td>\n",
       "      <td>0</td>\n",
       "      <td>11</td>\n",
       "      <td>0</td>\n",
       "    </tr>\n",
       "    <tr>\n",
       "      <th>1</th>\n",
       "      <td>P84813</td>\n",
       "      <td>6</td>\n",
       "      <td>7</td>\n",
       "      <td>3</td>\n",
       "      <td>1</td>\n",
       "      <td>1</td>\n",
       "      <td>4</td>\n",
       "      <td>1</td>\n",
       "      <td>3</td>\n",
       "      <td>4</td>\n",
       "      <td>...</td>\n",
       "      <td>1</td>\n",
       "      <td>0</td>\n",
       "      <td>2</td>\n",
       "      <td>4</td>\n",
       "      <td>0</td>\n",
       "      <td>0</td>\n",
       "      <td>0</td>\n",
       "      <td>0</td>\n",
       "      <td>1</td>\n",
       "      <td>0</td>\n",
       "    </tr>\n",
       "    <tr>\n",
       "      <th>2</th>\n",
       "      <td>P01080</td>\n",
       "      <td>11</td>\n",
       "      <td>16</td>\n",
       "      <td>6</td>\n",
       "      <td>9</td>\n",
       "      <td>5</td>\n",
       "      <td>16</td>\n",
       "      <td>2</td>\n",
       "      <td>7</td>\n",
       "      <td>12</td>\n",
       "      <td>...</td>\n",
       "      <td>1</td>\n",
       "      <td>3</td>\n",
       "      <td>9</td>\n",
       "      <td>5</td>\n",
       "      <td>0</td>\n",
       "      <td>8</td>\n",
       "      <td>0</td>\n",
       "      <td>0</td>\n",
       "      <td>10</td>\n",
       "      <td>0</td>\n",
       "    </tr>\n",
       "    <tr>\n",
       "      <th>3</th>\n",
       "      <td>P83241</td>\n",
       "      <td>4</td>\n",
       "      <td>8</td>\n",
       "      <td>2</td>\n",
       "      <td>1</td>\n",
       "      <td>1</td>\n",
       "      <td>4</td>\n",
       "      <td>0</td>\n",
       "      <td>4</td>\n",
       "      <td>5</td>\n",
       "      <td>...</td>\n",
       "      <td>1</td>\n",
       "      <td>4</td>\n",
       "      <td>4</td>\n",
       "      <td>4</td>\n",
       "      <td>0</td>\n",
       "      <td>2</td>\n",
       "      <td>0</td>\n",
       "      <td>0</td>\n",
       "      <td>1</td>\n",
       "      <td>0</td>\n",
       "    </tr>\n",
       "    <tr>\n",
       "      <th>4</th>\n",
       "      <td>P01078</td>\n",
       "      <td>3</td>\n",
       "      <td>8</td>\n",
       "      <td>2</td>\n",
       "      <td>3</td>\n",
       "      <td>2</td>\n",
       "      <td>6</td>\n",
       "      <td>0</td>\n",
       "      <td>4</td>\n",
       "      <td>3</td>\n",
       "      <td>...</td>\n",
       "      <td>1</td>\n",
       "      <td>3</td>\n",
       "      <td>4</td>\n",
       "      <td>2</td>\n",
       "      <td>0</td>\n",
       "      <td>0</td>\n",
       "      <td>0</td>\n",
       "      <td>0</td>\n",
       "      <td>2</td>\n",
       "      <td>0</td>\n",
       "    </tr>\n",
       "  </tbody>\n",
       "</table>\n",
       "<p>5 rows × 25 columns</p>\n",
       "</div>"
      ],
      "text/plain": [
       "  UniprotID   A   C  D  E  F   G  H  I   K  ...  Q  R  S  T  U  V  W  X   Y  Z\n",
       "0    P05119   7  16  5  8  8  16  1  7  10  ...  1  5  9  6  0  7  0  0  11  0\n",
       "1    P84813   6   7  3  1  1   4  1  3   4  ...  1  0  2  4  0  0  0  0   1  0\n",
       "2    P01080  11  16  6  9  5  16  2  7  12  ...  1  3  9  5  0  8  0  0  10  0\n",
       "3    P83241   4   8  2  1  1   4  0  4   5  ...  1  4  4  4  0  2  0  0   1  0\n",
       "4    P01078   3   8  2  3  2   6  0  4   3  ...  1  3  4  2  0  0  0  0   2  0\n",
       "\n",
       "[5 rows x 25 columns]"
      ]
     },
     "execution_count": 70,
     "metadata": {},
     "output_type": "execute_result"
    }
   ],
   "source": [
    "seq_amino.head()"
   ]
  },
  {
   "cell_type": "code",
   "execution_count": 71,
   "id": "071e0e92",
   "metadata": {},
   "outputs": [],
   "source": [
    "seq_amino.set_index('UniprotID',inplace=True)"
   ]
  },
  {
   "cell_type": "code",
   "execution_count": 72,
   "id": "8f1c5885",
   "metadata": {},
   "outputs": [
    {
     "data": {
      "text/html": [
       "<div>\n",
       "<style scoped>\n",
       "    .dataframe tbody tr th:only-of-type {\n",
       "        vertical-align: middle;\n",
       "    }\n",
       "\n",
       "    .dataframe tbody tr th {\n",
       "        vertical-align: top;\n",
       "    }\n",
       "\n",
       "    .dataframe thead th {\n",
       "        text-align: right;\n",
       "    }\n",
       "</style>\n",
       "<table border=\"1\" class=\"dataframe\">\n",
       "  <thead>\n",
       "    <tr style=\"text-align: right;\">\n",
       "      <th></th>\n",
       "      <th>A</th>\n",
       "      <th>C</th>\n",
       "      <th>D</th>\n",
       "      <th>E</th>\n",
       "      <th>F</th>\n",
       "      <th>G</th>\n",
       "      <th>H</th>\n",
       "      <th>I</th>\n",
       "      <th>K</th>\n",
       "      <th>L</th>\n",
       "      <th>...</th>\n",
       "      <th>Q</th>\n",
       "      <th>R</th>\n",
       "      <th>S</th>\n",
       "      <th>T</th>\n",
       "      <th>U</th>\n",
       "      <th>V</th>\n",
       "      <th>W</th>\n",
       "      <th>X</th>\n",
       "      <th>Y</th>\n",
       "      <th>Z</th>\n",
       "    </tr>\n",
       "    <tr>\n",
       "      <th>UniprotID</th>\n",
       "      <th></th>\n",
       "      <th></th>\n",
       "      <th></th>\n",
       "      <th></th>\n",
       "      <th></th>\n",
       "      <th></th>\n",
       "      <th></th>\n",
       "      <th></th>\n",
       "      <th></th>\n",
       "      <th></th>\n",
       "      <th></th>\n",
       "      <th></th>\n",
       "      <th></th>\n",
       "      <th></th>\n",
       "      <th></th>\n",
       "      <th></th>\n",
       "      <th></th>\n",
       "      <th></th>\n",
       "      <th></th>\n",
       "      <th></th>\n",
       "      <th></th>\n",
       "    </tr>\n",
       "  </thead>\n",
       "  <tbody>\n",
       "    <tr>\n",
       "      <th>P05119</th>\n",
       "      <td>7</td>\n",
       "      <td>16</td>\n",
       "      <td>5</td>\n",
       "      <td>8</td>\n",
       "      <td>8</td>\n",
       "      <td>16</td>\n",
       "      <td>1</td>\n",
       "      <td>7</td>\n",
       "      <td>10</td>\n",
       "      <td>7</td>\n",
       "      <td>...</td>\n",
       "      <td>1</td>\n",
       "      <td>5</td>\n",
       "      <td>9</td>\n",
       "      <td>6</td>\n",
       "      <td>0</td>\n",
       "      <td>7</td>\n",
       "      <td>0</td>\n",
       "      <td>0</td>\n",
       "      <td>11</td>\n",
       "      <td>0</td>\n",
       "    </tr>\n",
       "    <tr>\n",
       "      <th>P84813</th>\n",
       "      <td>6</td>\n",
       "      <td>7</td>\n",
       "      <td>3</td>\n",
       "      <td>1</td>\n",
       "      <td>1</td>\n",
       "      <td>4</td>\n",
       "      <td>1</td>\n",
       "      <td>3</td>\n",
       "      <td>4</td>\n",
       "      <td>1</td>\n",
       "      <td>...</td>\n",
       "      <td>1</td>\n",
       "      <td>0</td>\n",
       "      <td>2</td>\n",
       "      <td>4</td>\n",
       "      <td>0</td>\n",
       "      <td>0</td>\n",
       "      <td>0</td>\n",
       "      <td>0</td>\n",
       "      <td>1</td>\n",
       "      <td>0</td>\n",
       "    </tr>\n",
       "    <tr>\n",
       "      <th>P01080</th>\n",
       "      <td>11</td>\n",
       "      <td>16</td>\n",
       "      <td>6</td>\n",
       "      <td>9</td>\n",
       "      <td>5</td>\n",
       "      <td>16</td>\n",
       "      <td>2</td>\n",
       "      <td>7</td>\n",
       "      <td>12</td>\n",
       "      <td>9</td>\n",
       "      <td>...</td>\n",
       "      <td>1</td>\n",
       "      <td>3</td>\n",
       "      <td>9</td>\n",
       "      <td>5</td>\n",
       "      <td>0</td>\n",
       "      <td>8</td>\n",
       "      <td>0</td>\n",
       "      <td>0</td>\n",
       "      <td>10</td>\n",
       "      <td>0</td>\n",
       "    </tr>\n",
       "    <tr>\n",
       "      <th>P83241</th>\n",
       "      <td>4</td>\n",
       "      <td>8</td>\n",
       "      <td>2</td>\n",
       "      <td>1</td>\n",
       "      <td>1</td>\n",
       "      <td>4</td>\n",
       "      <td>0</td>\n",
       "      <td>4</td>\n",
       "      <td>5</td>\n",
       "      <td>1</td>\n",
       "      <td>...</td>\n",
       "      <td>1</td>\n",
       "      <td>4</td>\n",
       "      <td>4</td>\n",
       "      <td>4</td>\n",
       "      <td>0</td>\n",
       "      <td>2</td>\n",
       "      <td>0</td>\n",
       "      <td>0</td>\n",
       "      <td>1</td>\n",
       "      <td>0</td>\n",
       "    </tr>\n",
       "    <tr>\n",
       "      <th>P01078</th>\n",
       "      <td>3</td>\n",
       "      <td>8</td>\n",
       "      <td>2</td>\n",
       "      <td>3</td>\n",
       "      <td>2</td>\n",
       "      <td>6</td>\n",
       "      <td>0</td>\n",
       "      <td>4</td>\n",
       "      <td>3</td>\n",
       "      <td>1</td>\n",
       "      <td>...</td>\n",
       "      <td>1</td>\n",
       "      <td>3</td>\n",
       "      <td>4</td>\n",
       "      <td>2</td>\n",
       "      <td>0</td>\n",
       "      <td>0</td>\n",
       "      <td>0</td>\n",
       "      <td>0</td>\n",
       "      <td>2</td>\n",
       "      <td>0</td>\n",
       "    </tr>\n",
       "  </tbody>\n",
       "</table>\n",
       "<p>5 rows × 24 columns</p>\n",
       "</div>"
      ],
      "text/plain": [
       "            A   C  D  E  F   G  H  I   K  L  ...  Q  R  S  T  U  V  W  X   Y  \\\n",
       "UniprotID                                    ...                               \n",
       "P05119      7  16  5  8  8  16  1  7  10  7  ...  1  5  9  6  0  7  0  0  11   \n",
       "P84813      6   7  3  1  1   4  1  3   4  1  ...  1  0  2  4  0  0  0  0   1   \n",
       "P01080     11  16  6  9  5  16  2  7  12  9  ...  1  3  9  5  0  8  0  0  10   \n",
       "P83241      4   8  2  1  1   4  0  4   5  1  ...  1  4  4  4  0  2  0  0   1   \n",
       "P01078      3   8  2  3  2   6  0  4   3  1  ...  1  3  4  2  0  0  0  0   2   \n",
       "\n",
       "           Z  \n",
       "UniprotID     \n",
       "P05119     0  \n",
       "P84813     0  \n",
       "P01080     0  \n",
       "P83241     0  \n",
       "P01078     0  \n",
       "\n",
       "[5 rows x 24 columns]"
      ]
     },
     "execution_count": 72,
     "metadata": {},
     "output_type": "execute_result"
    }
   ],
   "source": [
    "seq_amino.head()"
   ]
  },
  {
   "cell_type": "markdown",
   "id": "fefb67c2",
   "metadata": {},
   "source": [
    "### Display the Max,Min and Mean value of each Amino Acid"
   ]
  },
  {
   "cell_type": "code",
   "execution_count": null,
   "id": "91d0d496",
   "metadata": {},
   "outputs": [],
   "source": []
  }
 ],
 "metadata": {
  "kernelspec": {
   "display_name": "Python 3",
   "language": "python",
   "name": "python3"
  },
  "language_info": {
   "codemirror_mode": {
    "name": "ipython",
    "version": 3
   },
   "file_extension": ".py",
   "mimetype": "text/x-python",
   "name": "python",
   "nbconvert_exporter": "python",
   "pygments_lexer": "ipython3",
   "version": "3.9.4"
  }
 },
 "nbformat": 4,
 "nbformat_minor": 5
}
