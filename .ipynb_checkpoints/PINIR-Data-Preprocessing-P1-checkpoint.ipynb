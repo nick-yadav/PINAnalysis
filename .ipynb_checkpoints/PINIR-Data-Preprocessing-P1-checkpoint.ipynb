{
 "cells": [
  {
   "cell_type": "markdown",
   "id": "60ecb101",
   "metadata": {},
   "source": [
    "# PINIR Data Prepocessing - Page1"
   ]
  },
  {
   "cell_type": "code",
   "execution_count": 1,
   "id": "6214b345",
   "metadata": {},
   "outputs": [],
   "source": [
    "import pandas as pd\n",
    "import numpy as np"
   ]
  },
  {
   "cell_type": "code",
   "execution_count": 2,
   "id": "e42e5c1e",
   "metadata": {},
   "outputs": [],
   "source": [
    "pd.set_option('display.max_columns',None)\n",
    "pd.set_option('display.max_rows',None)"
   ]
  },
  {
   "cell_type": "code",
   "execution_count": 3,
   "id": "bfc651fa",
   "metadata": {},
   "outputs": [],
   "source": [
    "pd.reset_option('display.max_columns')\n",
    "pd.reset_option('display.max_rows')"
   ]
  },
  {
   "cell_type": "code",
   "execution_count": 4,
   "id": "f2870240",
   "metadata": {},
   "outputs": [],
   "source": [
    "pd.set_option('display.max_colwidth',2000)"
   ]
  },
  {
   "cell_type": "code",
   "execution_count": 5,
   "id": "a6837eb6",
   "metadata": {},
   "outputs": [],
   "source": [
    "pd.reset_option('display.max_colwidth')"
   ]
  },
  {
   "cell_type": "code",
   "execution_count": 6,
   "id": "19481bfa",
   "metadata": {},
   "outputs": [
    {
     "name": "stderr",
     "output_type": "stream",
     "text": [
      "c:\\users\\nikhilesh\\appdata\\local\\programs\\python\\python39\\lib\\site-packages\\openpyxl\\styles\\stylesheet.py:221: UserWarning: Workbook contains no default style, apply openpyxl's default\n",
      "  warn(\"Workbook contains no default style, apply openpyxl's default\")\n"
     ]
    }
   ],
   "source": [
    "uniprot=pd.read_excel('data/uniprot-18May2021.xlsx',index_col='Entry')"
   ]
  },
  {
   "cell_type": "code",
   "execution_count": 7,
   "id": "93c230ed",
   "metadata": {},
   "outputs": [
    {
     "data": {
      "text/html": [
       "<div>\n",
       "<style scoped>\n",
       "    .dataframe tbody tr th:only-of-type {\n",
       "        vertical-align: middle;\n",
       "    }\n",
       "\n",
       "    .dataframe tbody tr th {\n",
       "        vertical-align: top;\n",
       "    }\n",
       "\n",
       "    .dataframe thead th {\n",
       "        text-align: right;\n",
       "    }\n",
       "</style>\n",
       "<table border=\"1\" class=\"dataframe\">\n",
       "  <thead>\n",
       "    <tr style=\"text-align: right;\">\n",
       "      <th></th>\n",
       "      <th>Entry name</th>\n",
       "      <th>Status</th>\n",
       "      <th>Protein names</th>\n",
       "      <th>Gene names</th>\n",
       "      <th>Organism</th>\n",
       "      <th>Cross-reference (EMBL)</th>\n",
       "      <th>Length</th>\n",
       "      <th>Mass</th>\n",
       "      <th>Organism ID</th>\n",
       "      <th>Taxonomic lineage (ALL)</th>\n",
       "      <th>...</th>\n",
       "      <th>Transmembrane</th>\n",
       "      <th>Disulfide bond</th>\n",
       "      <th>PubMed ID</th>\n",
       "      <th>Mapped PubMed ID</th>\n",
       "      <th>Taxonomic lineage IDs</th>\n",
       "      <th>Taxonomic lineage (all)</th>\n",
       "      <th>Cross-reference (InterPro)</th>\n",
       "      <th>Cross-reference (Pfam)</th>\n",
       "      <th>Cross-reference (MEROPS)</th>\n",
       "      <th>Signal peptide</th>\n",
       "    </tr>\n",
       "    <tr>\n",
       "      <th>Entry</th>\n",
       "      <th></th>\n",
       "      <th></th>\n",
       "      <th></th>\n",
       "      <th></th>\n",
       "      <th></th>\n",
       "      <th></th>\n",
       "      <th></th>\n",
       "      <th></th>\n",
       "      <th></th>\n",
       "      <th></th>\n",
       "      <th></th>\n",
       "      <th></th>\n",
       "      <th></th>\n",
       "      <th></th>\n",
       "      <th></th>\n",
       "      <th></th>\n",
       "      <th></th>\n",
       "      <th></th>\n",
       "      <th></th>\n",
       "      <th></th>\n",
       "      <th></th>\n",
       "    </tr>\n",
       "  </thead>\n",
       "  <tbody>\n",
       "    <tr>\n",
       "      <th>P05119</th>\n",
       "      <td>IP21_SOLLC</td>\n",
       "      <td>reviewed</td>\n",
       "      <td>Wound-induced proteinase inhibitor 2 (Wound-in...</td>\n",
       "      <td>NaN</td>\n",
       "      <td>Solanum lycopersicum (Tomato) (Lycopersicon es...</td>\n",
       "      <td>K03291;</td>\n",
       "      <td>148</td>\n",
       "      <td>16,293</td>\n",
       "      <td>4081</td>\n",
       "      <td>cellular organisms, Eukaryota, Viridiplantae, ...</td>\n",
       "      <td>...</td>\n",
       "      <td>NaN</td>\n",
       "      <td>DISULFID 28..116; DISULFID 32..112; DISULFID 4...</td>\n",
       "      <td>3838986; 12684499</td>\n",
       "      <td>3838986; 12684499; 12788916</td>\n",
       "      <td>4081</td>\n",
       "      <td>cellular organisms, Eukaryota, Viridiplantae, ...</td>\n",
       "      <td>IPR003465;</td>\n",
       "      <td>PF02428;</td>\n",
       "      <td>I20.003;</td>\n",
       "      <td>SIGNAL 1..25</td>\n",
       "    </tr>\n",
       "    <tr>\n",
       "      <th>P84813</th>\n",
       "      <td>POTM1_SOLTU</td>\n",
       "      <td>reviewed</td>\n",
       "      <td>Potamin-1 (PT-1) (Fragment)</td>\n",
       "      <td>NaN</td>\n",
       "      <td>Solanum tuberosum (Potato)</td>\n",
       "      <td>NaN</td>\n",
       "      <td>47</td>\n",
       "      <td>4,833</td>\n",
       "      <td>4113</td>\n",
       "      <td>cellular organisms, Eukaryota, Viridiplantae, ...</td>\n",
       "      <td>...</td>\n",
       "      <td>NaN</td>\n",
       "      <td>DISULFID 3..40;  /evidence=\"ECO:0000250|UniPro...</td>\n",
       "      <td>15809084</td>\n",
       "      <td>NaN</td>\n",
       "      <td>4113</td>\n",
       "      <td>cellular organisms, Eukaryota, Viridiplantae, ...</td>\n",
       "      <td>IPR003465;</td>\n",
       "      <td>PF02428;</td>\n",
       "      <td>NaN</td>\n",
       "      <td>NaN</td>\n",
       "    </tr>\n",
       "  </tbody>\n",
       "</table>\n",
       "<p>2 rows × 33 columns</p>\n",
       "</div>"
      ],
      "text/plain": [
       "         Entry name    Status  \\\n",
       "Entry                           \n",
       "P05119   IP21_SOLLC  reviewed   \n",
       "P84813  POTM1_SOLTU  reviewed   \n",
       "\n",
       "                                            Protein names Gene names  \\\n",
       "Entry                                                                  \n",
       "P05119  Wound-induced proteinase inhibitor 2 (Wound-in...        NaN   \n",
       "P84813                        Potamin-1 (PT-1) (Fragment)        NaN   \n",
       "\n",
       "                                                 Organism  \\\n",
       "Entry                                                       \n",
       "P05119  Solanum lycopersicum (Tomato) (Lycopersicon es...   \n",
       "P84813                         Solanum tuberosum (Potato)   \n",
       "\n",
       "       Cross-reference (EMBL)  Length    Mass  Organism ID  \\\n",
       "Entry                                                        \n",
       "P05119                K03291;     148  16,293         4081   \n",
       "P84813                    NaN      47   4,833         4113   \n",
       "\n",
       "                                  Taxonomic lineage (ALL)  ... Transmembrane  \\\n",
       "Entry                                                      ...                 \n",
       "P05119  cellular organisms, Eukaryota, Viridiplantae, ...  ...           NaN   \n",
       "P84813  cellular organisms, Eukaryota, Viridiplantae, ...  ...           NaN   \n",
       "\n",
       "                                           Disulfide bond          PubMed ID  \\\n",
       "Entry                                                                          \n",
       "P05119  DISULFID 28..116; DISULFID 32..112; DISULFID 4...  3838986; 12684499   \n",
       "P84813  DISULFID 3..40;  /evidence=\"ECO:0000250|UniPro...           15809084   \n",
       "\n",
       "                   Mapped PubMed ID Taxonomic lineage IDs  \\\n",
       "Entry                                                       \n",
       "P05119  3838986; 12684499; 12788916                  4081   \n",
       "P84813                          NaN                  4113   \n",
       "\n",
       "                                  Taxonomic lineage (all)  \\\n",
       "Entry                                                       \n",
       "P05119  cellular organisms, Eukaryota, Viridiplantae, ...   \n",
       "P84813  cellular organisms, Eukaryota, Viridiplantae, ...   \n",
       "\n",
       "       Cross-reference (InterPro)  Cross-reference (Pfam)  \\\n",
       "Entry                                                       \n",
       "P05119                 IPR003465;                PF02428;   \n",
       "P84813                 IPR003465;                PF02428;   \n",
       "\n",
       "       Cross-reference (MEROPS) Signal peptide  \n",
       "Entry                                           \n",
       "P05119                 I20.003;   SIGNAL 1..25  \n",
       "P84813                      NaN            NaN  \n",
       "\n",
       "[2 rows x 33 columns]"
      ]
     },
     "execution_count": 7,
     "metadata": {},
     "output_type": "execute_result"
    }
   ],
   "source": [
    "uniprot.head(2)"
   ]
  },
  {
   "cell_type": "code",
   "execution_count": 8,
   "id": "eff36b74",
   "metadata": {},
   "outputs": [
    {
     "data": {
      "text/plain": [
       "(452, 33)"
      ]
     },
     "execution_count": 8,
     "metadata": {},
     "output_type": "execute_result"
    }
   ],
   "source": [
    "uniprot.shape"
   ]
  },
  {
   "cell_type": "code",
   "execution_count": 9,
   "id": "31ec23e4",
   "metadata": {},
   "outputs": [
    {
     "data": {
      "text/plain": [
       "Index(['Entry name', 'Status', 'Protein names', 'Gene names', 'Organism',\n",
       "       'Cross-reference (EMBL)', 'Length', 'Mass', 'Organism ID',\n",
       "       'Taxonomic lineage (ALL)', 'Sequence', 'Function [CC]', 'Features',\n",
       "       'Keyword ID', 'Keywords', 'Protein existence', 'Induction',\n",
       "       'Developmental stage', 'Gene ontology (biological process)',\n",
       "       'Gene ontology IDs', 'Gene ontology (GO)',\n",
       "       'Gene ontology (cellular component)',\n",
       "       'Gene ontology (molecular function)', 'Transmembrane', 'Disulfide bond',\n",
       "       'PubMed ID', 'Mapped PubMed ID', 'Taxonomic lineage IDs',\n",
       "       'Taxonomic lineage (all)', 'Cross-reference (InterPro)',\n",
       "       'Cross-reference (Pfam)', 'Cross-reference (MEROPS)', 'Signal peptide'],\n",
       "      dtype='object')"
      ]
     },
     "execution_count": 9,
     "metadata": {},
     "output_type": "execute_result"
    }
   ],
   "source": [
    "uniprot.columns"
   ]
  },
  {
   "cell_type": "code",
   "execution_count": 10,
   "id": "7ff355f0",
   "metadata": {},
   "outputs": [
    {
     "name": "stdout",
     "output_type": "stream",
     "text": [
      "<class 'pandas.core.frame.DataFrame'>\n",
      "Index: 452 entries, P05119 to A0A0D9VYN1\n",
      "Data columns (total 33 columns):\n",
      " #   Column                              Non-Null Count  Dtype  \n",
      "---  ------                              --------------  -----  \n",
      " 0   Entry name                          452 non-null    object \n",
      " 1   Status                              452 non-null    object \n",
      " 2   Protein names                       452 non-null    object \n",
      " 3   Gene names                          301 non-null    object \n",
      " 4   Organism                            452 non-null    object \n",
      " 5   Cross-reference (EMBL)              355 non-null    object \n",
      " 6   Length                              452 non-null    int64  \n",
      " 7   Mass                                452 non-null    object \n",
      " 8   Organism ID                         452 non-null    int64  \n",
      " 9   Taxonomic lineage (ALL)             452 non-null    object \n",
      " 10  Sequence                            452 non-null    object \n",
      " 11  Function [CC]                       6 non-null      object \n",
      " 12  Features                            402 non-null    object \n",
      " 13  Keyword ID                          451 non-null    object \n",
      " 14  Keywords                            451 non-null    object \n",
      " 15  Protein existence                   452 non-null    object \n",
      " 16  Induction                           6 non-null      object \n",
      " 17  Developmental stage                 0 non-null      float64\n",
      " 18  Gene ontology (biological process)  15 non-null     object \n",
      " 19  Gene ontology IDs                   452 non-null    object \n",
      " 20  Gene ontology (GO)                  452 non-null    object \n",
      " 21  Gene ontology (cellular component)  39 non-null     object \n",
      " 22  Gene ontology (molecular function)  452 non-null    object \n",
      " 23  Transmembrane                       34 non-null     object \n",
      " 24  Disulfide bond                      18 non-null     object \n",
      " 25  PubMed ID                           255 non-null    object \n",
      " 26  Mapped PubMed ID                    3 non-null      object \n",
      " 27  Taxonomic lineage IDs               452 non-null    int64  \n",
      " 28  Taxonomic lineage (all)             452 non-null    object \n",
      " 29  Cross-reference (InterPro)          452 non-null    object \n",
      " 30  Cross-reference (Pfam)              452 non-null    object \n",
      " 31  Cross-reference (MEROPS)            55 non-null     object \n",
      " 32  Signal peptide                      344 non-null    object \n",
      "dtypes: float64(1), int64(3), object(29)\n",
      "memory usage: 120.1+ KB\n"
     ]
    }
   ],
   "source": [
    "uniprot.info()"
   ]
  },
  {
   "cell_type": "code",
   "execution_count": 11,
   "id": "27beb3a9",
   "metadata": {},
   "outputs": [
    {
     "data": {
      "text/plain": [
       "Entry name                            452\n",
       "Status                                452\n",
       "Protein names                         452\n",
       "Gene names                            301\n",
       "Organism                              452\n",
       "Cross-reference (EMBL)                355\n",
       "Length                                452\n",
       "Mass                                  452\n",
       "Organism ID                           452\n",
       "Taxonomic lineage (ALL)               452\n",
       "Sequence                              452\n",
       "Function [CC]                           6\n",
       "Features                              402\n",
       "Keyword ID                            451\n",
       "Keywords                              451\n",
       "Protein existence                     452\n",
       "Induction                               6\n",
       "Developmental stage                     0\n",
       "Gene ontology (biological process)     15\n",
       "Gene ontology IDs                     452\n",
       "Gene ontology (GO)                    452\n",
       "Gene ontology (cellular component)     39\n",
       "Gene ontology (molecular function)    452\n",
       "Transmembrane                          34\n",
       "Disulfide bond                         18\n",
       "PubMed ID                             255\n",
       "Mapped PubMed ID                        3\n",
       "Taxonomic lineage IDs                 452\n",
       "Taxonomic lineage (all)               452\n",
       "Cross-reference (InterPro)            452\n",
       "Cross-reference (Pfam)                452\n",
       "Cross-reference (MEROPS)               55\n",
       "Signal peptide                        344\n",
       "dtype: int64"
      ]
     },
     "execution_count": 11,
     "metadata": {},
     "output_type": "execute_result"
    }
   ],
   "source": [
    "uniprot.count()"
   ]
  },
  {
   "cell_type": "markdown",
   "id": "3342de4b",
   "metadata": {},
   "source": [
    "## Extracting General features of PI from Uniprot Data"
   ]
  },
  {
   "cell_type": "code",
   "execution_count": 12,
   "id": "49fffa6c",
   "metadata": {},
   "outputs": [],
   "source": [
    "pi_general_features=uniprot[['Entry name','Status','Protein names','Sequence','Signal peptide','Gene names','Organism ID','Taxonomic lineage IDs',\n",
    "       'Organism','Taxonomic lineage (ALL)','Gene ontology (biological process)','Length','Mass','Function [CC]','Gene ontology IDs', 'Gene ontology (GO)','Gene ontology (cellular component)',\n",
    "       'Gene ontology (molecular function)','PubMed ID','Cross-reference (InterPro)','Cross-reference (Pfam)',\n",
    "                            'Cross-reference (MEROPS)','Cross-reference (EMBL)']]"
   ]
  },
  {
   "cell_type": "code",
   "execution_count": 13,
   "id": "9d81e942",
   "metadata": {},
   "outputs": [
    {
     "data": {
      "text/html": [
       "<div>\n",
       "<style scoped>\n",
       "    .dataframe tbody tr th:only-of-type {\n",
       "        vertical-align: middle;\n",
       "    }\n",
       "\n",
       "    .dataframe tbody tr th {\n",
       "        vertical-align: top;\n",
       "    }\n",
       "\n",
       "    .dataframe thead th {\n",
       "        text-align: right;\n",
       "    }\n",
       "</style>\n",
       "<table border=\"1\" class=\"dataframe\">\n",
       "  <thead>\n",
       "    <tr style=\"text-align: right;\">\n",
       "      <th></th>\n",
       "      <th>Entry name</th>\n",
       "      <th>Status</th>\n",
       "      <th>Protein names</th>\n",
       "      <th>Sequence</th>\n",
       "      <th>Signal peptide</th>\n",
       "      <th>Gene names</th>\n",
       "      <th>Organism ID</th>\n",
       "      <th>Taxonomic lineage IDs</th>\n",
       "      <th>Organism</th>\n",
       "      <th>Taxonomic lineage (ALL)</th>\n",
       "      <th>...</th>\n",
       "      <th>Function [CC]</th>\n",
       "      <th>Gene ontology IDs</th>\n",
       "      <th>Gene ontology (GO)</th>\n",
       "      <th>Gene ontology (cellular component)</th>\n",
       "      <th>Gene ontology (molecular function)</th>\n",
       "      <th>PubMed ID</th>\n",
       "      <th>Cross-reference (InterPro)</th>\n",
       "      <th>Cross-reference (Pfam)</th>\n",
       "      <th>Cross-reference (MEROPS)</th>\n",
       "      <th>Cross-reference (EMBL)</th>\n",
       "    </tr>\n",
       "    <tr>\n",
       "      <th>Entry</th>\n",
       "      <th></th>\n",
       "      <th></th>\n",
       "      <th></th>\n",
       "      <th></th>\n",
       "      <th></th>\n",
       "      <th></th>\n",
       "      <th></th>\n",
       "      <th></th>\n",
       "      <th></th>\n",
       "      <th></th>\n",
       "      <th></th>\n",
       "      <th></th>\n",
       "      <th></th>\n",
       "      <th></th>\n",
       "      <th></th>\n",
       "      <th></th>\n",
       "      <th></th>\n",
       "      <th></th>\n",
       "      <th></th>\n",
       "      <th></th>\n",
       "      <th></th>\n",
       "    </tr>\n",
       "  </thead>\n",
       "  <tbody>\n",
       "    <tr>\n",
       "      <th>P05119</th>\n",
       "      <td>IP21_SOLLC</td>\n",
       "      <td>reviewed</td>\n",
       "      <td>Wound-induced proteinase inhibitor 2 (Wound-in...</td>\n",
       "      <td>MAVHKEVNFVAYLLIVLGMFLYVDAKACTRECGNLGFGICPRSEGS...</td>\n",
       "      <td>SIGNAL 1..25</td>\n",
       "      <td>NaN</td>\n",
       "      <td>4081</td>\n",
       "      <td>4081</td>\n",
       "      <td>Solanum lycopersicum (Tomato) (Lycopersicon es...</td>\n",
       "      <td>cellular organisms, Eukaryota, Viridiplantae, ...</td>\n",
       "      <td>...</td>\n",
       "      <td>FUNCTION: Potent inhibitor of both trypsin and...</td>\n",
       "      <td>GO:0004867; GO:0005576</td>\n",
       "      <td>extracellular region [GO:0005576]; serine-type...</td>\n",
       "      <td>extracellular region [GO:0005576]</td>\n",
       "      <td>serine-type endopeptidase inhibitor activity [...</td>\n",
       "      <td>3838986; 12684499</td>\n",
       "      <td>IPR003465;</td>\n",
       "      <td>PF02428;</td>\n",
       "      <td>I20.003;</td>\n",
       "      <td>K03291;</td>\n",
       "    </tr>\n",
       "    <tr>\n",
       "      <th>P84813</th>\n",
       "      <td>POTM1_SOLTU</td>\n",
       "      <td>reviewed</td>\n",
       "      <td>Potamin-1 (PT-1) (Fragment)</td>\n",
       "      <td>DICTNCCAGTKGCNTTSANGAFICEGQSDPKKPKACPLNCDPHIAYA</td>\n",
       "      <td>NaN</td>\n",
       "      <td>NaN</td>\n",
       "      <td>4113</td>\n",
       "      <td>4113</td>\n",
       "      <td>Solanum tuberosum (Potato)</td>\n",
       "      <td>cellular organisms, Eukaryota, Viridiplantae, ...</td>\n",
       "      <td>...</td>\n",
       "      <td>FUNCTION: Inhibitor of serine proteases chymot...</td>\n",
       "      <td>GO:0004867; GO:0031640; GO:0050830; GO:0050832</td>\n",
       "      <td>serine-type endopeptidase inhibitor activity [...</td>\n",
       "      <td>NaN</td>\n",
       "      <td>serine-type endopeptidase inhibitor activity [...</td>\n",
       "      <td>15809084</td>\n",
       "      <td>IPR003465;</td>\n",
       "      <td>PF02428;</td>\n",
       "      <td>NaN</td>\n",
       "      <td>NaN</td>\n",
       "    </tr>\n",
       "  </tbody>\n",
       "</table>\n",
       "<p>2 rows × 23 columns</p>\n",
       "</div>"
      ],
      "text/plain": [
       "         Entry name    Status  \\\n",
       "Entry                           \n",
       "P05119   IP21_SOLLC  reviewed   \n",
       "P84813  POTM1_SOLTU  reviewed   \n",
       "\n",
       "                                            Protein names  \\\n",
       "Entry                                                       \n",
       "P05119  Wound-induced proteinase inhibitor 2 (Wound-in...   \n",
       "P84813                        Potamin-1 (PT-1) (Fragment)   \n",
       "\n",
       "                                                 Sequence Signal peptide  \\\n",
       "Entry                                                                      \n",
       "P05119  MAVHKEVNFVAYLLIVLGMFLYVDAKACTRECGNLGFGICPRSEGS...   SIGNAL 1..25   \n",
       "P84813    DICTNCCAGTKGCNTTSANGAFICEGQSDPKKPKACPLNCDPHIAYA            NaN   \n",
       "\n",
       "       Gene names  Organism ID  Taxonomic lineage IDs  \\\n",
       "Entry                                                   \n",
       "P05119        NaN         4081                   4081   \n",
       "P84813        NaN         4113                   4113   \n",
       "\n",
       "                                                 Organism  \\\n",
       "Entry                                                       \n",
       "P05119  Solanum lycopersicum (Tomato) (Lycopersicon es...   \n",
       "P84813                         Solanum tuberosum (Potato)   \n",
       "\n",
       "                                  Taxonomic lineage (ALL)  ...  \\\n",
       "Entry                                                      ...   \n",
       "P05119  cellular organisms, Eukaryota, Viridiplantae, ...  ...   \n",
       "P84813  cellular organisms, Eukaryota, Viridiplantae, ...  ...   \n",
       "\n",
       "                                            Function [CC]  \\\n",
       "Entry                                                       \n",
       "P05119  FUNCTION: Potent inhibitor of both trypsin and...   \n",
       "P84813  FUNCTION: Inhibitor of serine proteases chymot...   \n",
       "\n",
       "                                     Gene ontology IDs  \\\n",
       "Entry                                                    \n",
       "P05119                          GO:0004867; GO:0005576   \n",
       "P84813  GO:0004867; GO:0031640; GO:0050830; GO:0050832   \n",
       "\n",
       "                                       Gene ontology (GO)  \\\n",
       "Entry                                                       \n",
       "P05119  extracellular region [GO:0005576]; serine-type...   \n",
       "P84813  serine-type endopeptidase inhibitor activity [...   \n",
       "\n",
       "       Gene ontology (cellular component)  \\\n",
       "Entry                                       \n",
       "P05119  extracellular region [GO:0005576]   \n",
       "P84813                                NaN   \n",
       "\n",
       "                       Gene ontology (molecular function)          PubMed ID  \\\n",
       "Entry                                                                          \n",
       "P05119  serine-type endopeptidase inhibitor activity [...  3838986; 12684499   \n",
       "P84813  serine-type endopeptidase inhibitor activity [...           15809084   \n",
       "\n",
       "       Cross-reference (InterPro) Cross-reference (Pfam)  \\\n",
       "Entry                                                      \n",
       "P05119                 IPR003465;               PF02428;   \n",
       "P84813                 IPR003465;               PF02428;   \n",
       "\n",
       "       Cross-reference (MEROPS) Cross-reference (EMBL)  \n",
       "Entry                                                   \n",
       "P05119                 I20.003;                K03291;  \n",
       "P84813                      NaN                    NaN  \n",
       "\n",
       "[2 rows x 23 columns]"
      ]
     },
     "execution_count": 13,
     "metadata": {},
     "output_type": "execute_result"
    }
   ],
   "source": [
    "pi_general_features.head(2)"
   ]
  },
  {
   "cell_type": "code",
   "execution_count": 14,
   "id": "52498283",
   "metadata": {},
   "outputs": [],
   "source": [
    "filt=~(pi_general_features['Organism ID']==pi_general_features['Taxonomic lineage IDs'])"
   ]
  },
  {
   "cell_type": "code",
   "execution_count": 15,
   "id": "f9a25716",
   "metadata": {},
   "outputs": [
    {
     "data": {
      "text/html": [
       "<div>\n",
       "<style scoped>\n",
       "    .dataframe tbody tr th:only-of-type {\n",
       "        vertical-align: middle;\n",
       "    }\n",
       "\n",
       "    .dataframe tbody tr th {\n",
       "        vertical-align: top;\n",
       "    }\n",
       "\n",
       "    .dataframe thead th {\n",
       "        text-align: right;\n",
       "    }\n",
       "</style>\n",
       "<table border=\"1\" class=\"dataframe\">\n",
       "  <thead>\n",
       "    <tr style=\"text-align: right;\">\n",
       "      <th></th>\n",
       "      <th>Entry name</th>\n",
       "      <th>Status</th>\n",
       "      <th>Protein names</th>\n",
       "      <th>Sequence</th>\n",
       "      <th>Signal peptide</th>\n",
       "      <th>Gene names</th>\n",
       "      <th>Organism ID</th>\n",
       "      <th>Taxonomic lineage IDs</th>\n",
       "      <th>Organism</th>\n",
       "      <th>Taxonomic lineage (ALL)</th>\n",
       "      <th>...</th>\n",
       "      <th>Function [CC]</th>\n",
       "      <th>Gene ontology IDs</th>\n",
       "      <th>Gene ontology (GO)</th>\n",
       "      <th>Gene ontology (cellular component)</th>\n",
       "      <th>Gene ontology (molecular function)</th>\n",
       "      <th>PubMed ID</th>\n",
       "      <th>Cross-reference (InterPro)</th>\n",
       "      <th>Cross-reference (Pfam)</th>\n",
       "      <th>Cross-reference (MEROPS)</th>\n",
       "      <th>Cross-reference (EMBL)</th>\n",
       "    </tr>\n",
       "    <tr>\n",
       "      <th>Entry</th>\n",
       "      <th></th>\n",
       "      <th></th>\n",
       "      <th></th>\n",
       "      <th></th>\n",
       "      <th></th>\n",
       "      <th></th>\n",
       "      <th></th>\n",
       "      <th></th>\n",
       "      <th></th>\n",
       "      <th></th>\n",
       "      <th></th>\n",
       "      <th></th>\n",
       "      <th></th>\n",
       "      <th></th>\n",
       "      <th></th>\n",
       "      <th></th>\n",
       "      <th></th>\n",
       "      <th></th>\n",
       "      <th></th>\n",
       "      <th></th>\n",
       "      <th></th>\n",
       "    </tr>\n",
       "  </thead>\n",
       "  <tbody>\n",
       "  </tbody>\n",
       "</table>\n",
       "<p>0 rows × 23 columns</p>\n",
       "</div>"
      ],
      "text/plain": [
       "Empty DataFrame\n",
       "Columns: [Entry name, Status, Protein names, Sequence, Signal peptide, Gene names, Organism ID, Taxonomic lineage IDs, Organism, Taxonomic lineage (ALL), Gene ontology (biological process), Length, Mass, Function [CC], Gene ontology IDs, Gene ontology (GO), Gene ontology (cellular component), Gene ontology (molecular function), PubMed ID, Cross-reference (InterPro), Cross-reference (Pfam), Cross-reference (MEROPS), Cross-reference (EMBL)]\n",
       "Index: []\n",
       "\n",
       "[0 rows x 23 columns]"
      ]
     },
     "execution_count": 15,
     "metadata": {},
     "output_type": "execute_result"
    }
   ],
   "source": [
    "pi_general_features[filt]"
   ]
  },
  {
   "cell_type": "code",
   "execution_count": 16,
   "id": "eeca6a14",
   "metadata": {},
   "outputs": [],
   "source": [
    "## That means Organism ID and Taxonomic lineage IDs are same so we can drop one"
   ]
  },
  {
   "cell_type": "code",
   "execution_count": 17,
   "id": "3912ef12",
   "metadata": {},
   "outputs": [
    {
     "name": "stderr",
     "output_type": "stream",
     "text": [
      "c:\\users\\nikhilesh\\appdata\\local\\programs\\python\\python39\\lib\\site-packages\\pandas\\core\\frame.py:4308: SettingWithCopyWarning: \n",
      "A value is trying to be set on a copy of a slice from a DataFrame\n",
      "\n",
      "See the caveats in the documentation: https://pandas.pydata.org/pandas-docs/stable/user_guide/indexing.html#returning-a-view-versus-a-copy\n",
      "  return super().drop(\n"
     ]
    }
   ],
   "source": [
    "pi_general_features.drop(columns='Taxonomic lineage IDs',inplace=True)"
   ]
  },
  {
   "cell_type": "code",
   "execution_count": 18,
   "id": "883a27a2",
   "metadata": {},
   "outputs": [
    {
     "data": {
      "text/plain": [
       "Index(['Entry name', 'Status', 'Protein names', 'Sequence', 'Signal peptide',\n",
       "       'Gene names', 'Organism ID', 'Organism', 'Taxonomic lineage (ALL)',\n",
       "       'Gene ontology (biological process)', 'Length', 'Mass', 'Function [CC]',\n",
       "       'Gene ontology IDs', 'Gene ontology (GO)',\n",
       "       'Gene ontology (cellular component)',\n",
       "       'Gene ontology (molecular function)', 'PubMed ID',\n",
       "       'Cross-reference (InterPro)', 'Cross-reference (Pfam)',\n",
       "       'Cross-reference (MEROPS)', 'Cross-reference (EMBL)'],\n",
       "      dtype='object')"
      ]
     },
     "execution_count": 18,
     "metadata": {},
     "output_type": "execute_result"
    }
   ],
   "source": [
    "pi_general_features.columns"
   ]
  },
  {
   "cell_type": "code",
   "execution_count": 19,
   "id": "a1d14160",
   "metadata": {},
   "outputs": [],
   "source": [
    "## Making a new CSV file 1_pi_general_features.csv"
   ]
  },
  {
   "cell_type": "code",
   "execution_count": 37,
   "id": "de71095c",
   "metadata": {},
   "outputs": [],
   "source": [
    "#pi_general_features.to_csv('data/1_pi_general_features.csv')"
   ]
  },
  {
   "cell_type": "code",
   "execution_count": 38,
   "id": "304e174a",
   "metadata": {},
   "outputs": [],
   "source": [
    "pi_general_features=pd.read_csv('data/1_pi_general_features.csv')"
   ]
  },
  {
   "cell_type": "code",
   "execution_count": 42,
   "id": "18bbdbf9",
   "metadata": {},
   "outputs": [],
   "source": [
    "pi_general_features.columns"
   ]
  },
  {
   "cell_type": "code",
   "execution_count": null,
   "id": "5b1cf621",
   "metadata": {},
   "outputs": [],
   "source": [
    "## Renaming Column 'Entry' and removing space between column names"
   ]
  },
  {
   "cell_type": "code",
   "execution_count": null,
   "id": "ac4245d3",
   "metadata": {},
   "outputs": [],
   "source": [
    "pi_general_features.rename(columns={'Entry':'UniprotID'},inplace=True)"
   ]
  },
  {
   "cell_type": "code",
   "execution_count": null,
   "id": "0d8549e8",
   "metadata": {},
   "outputs": [],
   "source": [
    "pi_general_features.columns=pi_general_features.columns.str.replace(' ','')"
   ]
  },
  {
   "cell_type": "code",
   "execution_count": null,
   "id": "f6b4b9c4",
   "metadata": {},
   "outputs": [],
   "source": [
    "pi_general_features.columns"
   ]
  },
  {
   "cell_type": "code",
   "execution_count": 44,
   "id": "549632b8",
   "metadata": {},
   "outputs": [],
   "source": [
    "#pi_general_features.to_csv('data/1_pi_general_features.csv',index=False)"
   ]
  },
  {
   "cell_type": "code",
   "execution_count": 45,
   "id": "2845c8b2",
   "metadata": {},
   "outputs": [],
   "source": [
    "pi_gf=pd.read_csv('data/1_pi_general_features.csv',usecols=['UniprotID','Sequence','OrganismID','Organism','GeneNames','Length','Mass'])"
   ]
  },
  {
   "cell_type": "code",
   "execution_count": 46,
   "id": "c781fb11",
   "metadata": {},
   "outputs": [
    {
     "data": {
      "text/html": [
       "<div>\n",
       "<style scoped>\n",
       "    .dataframe tbody tr th:only-of-type {\n",
       "        vertical-align: middle;\n",
       "    }\n",
       "\n",
       "    .dataframe tbody tr th {\n",
       "        vertical-align: top;\n",
       "    }\n",
       "\n",
       "    .dataframe thead th {\n",
       "        text-align: right;\n",
       "    }\n",
       "</style>\n",
       "<table border=\"1\" class=\"dataframe\">\n",
       "  <thead>\n",
       "    <tr style=\"text-align: right;\">\n",
       "      <th></th>\n",
       "      <th>UniprotID</th>\n",
       "      <th>Sequence</th>\n",
       "      <th>GeneNames</th>\n",
       "      <th>OrganismID</th>\n",
       "      <th>Organism</th>\n",
       "      <th>Length</th>\n",
       "      <th>Mass</th>\n",
       "    </tr>\n",
       "  </thead>\n",
       "  <tbody>\n",
       "    <tr>\n",
       "      <th>0</th>\n",
       "      <td>P05119</td>\n",
       "      <td>MAVHKEVNFVAYLLIVLGMFLYVDAKACTRECGNLGFGICPRSEGS...</td>\n",
       "      <td>NaN</td>\n",
       "      <td>4081</td>\n",
       "      <td>Solanum lycopersicum (Tomato) (Lycopersicon es...</td>\n",
       "      <td>148</td>\n",
       "      <td>16,293</td>\n",
       "    </tr>\n",
       "    <tr>\n",
       "      <th>1</th>\n",
       "      <td>P84813</td>\n",
       "      <td>DICTNCCAGTKGCNTTSANGAFICEGQSDPKKPKACPLNCDPHIAYA</td>\n",
       "      <td>NaN</td>\n",
       "      <td>4113</td>\n",
       "      <td>Solanum tuberosum (Potato)</td>\n",
       "      <td>47</td>\n",
       "      <td>4,833</td>\n",
       "    </tr>\n",
       "    <tr>\n",
       "      <th>2</th>\n",
       "      <td>P01080</td>\n",
       "      <td>MDVHKEVNFVAYLLIVLGLLVLVSAMDVDAKACIRECGNLGFGICP...</td>\n",
       "      <td>PIN2K</td>\n",
       "      <td>4113</td>\n",
       "      <td>Solanum tuberosum (Potato)</td>\n",
       "      <td>153</td>\n",
       "      <td>16,505</td>\n",
       "    </tr>\n",
       "    <tr>\n",
       "      <th>3</th>\n",
       "      <td>P83241</td>\n",
       "      <td>KACPRNCDTDIAYMVCPSSGERIIRKVCTNCCAAQKGCKLFRSNGS...</td>\n",
       "      <td>NaN</td>\n",
       "      <td>4072</td>\n",
       "      <td>Capsicum annuum (Capsicum pepper)</td>\n",
       "      <td>52</td>\n",
       "      <td>5,604</td>\n",
       "    </tr>\n",
       "    <tr>\n",
       "      <th>4</th>\n",
       "      <td>P01078</td>\n",
       "      <td>QICTNCCAGRKGCSYFSEDGTFICKGESNPENPKACPRNCDGRIAY...</td>\n",
       "      <td>NaN</td>\n",
       "      <td>4111</td>\n",
       "      <td>Solanum melongena (Eggplant) (Aubergine)</td>\n",
       "      <td>52</td>\n",
       "      <td>5,579</td>\n",
       "    </tr>\n",
       "  </tbody>\n",
       "</table>\n",
       "</div>"
      ],
      "text/plain": [
       "  UniprotID                                           Sequence GeneNames  \\\n",
       "0    P05119  MAVHKEVNFVAYLLIVLGMFLYVDAKACTRECGNLGFGICPRSEGS...       NaN   \n",
       "1    P84813    DICTNCCAGTKGCNTTSANGAFICEGQSDPKKPKACPLNCDPHIAYA       NaN   \n",
       "2    P01080  MDVHKEVNFVAYLLIVLGLLVLVSAMDVDAKACIRECGNLGFGICP...     PIN2K   \n",
       "3    P83241  KACPRNCDTDIAYMVCPSSGERIIRKVCTNCCAAQKGCKLFRSNGS...       NaN   \n",
       "4    P01078  QICTNCCAGRKGCSYFSEDGTFICKGESNPENPKACPRNCDGRIAY...       NaN   \n",
       "\n",
       "   OrganismID                                           Organism  Length  \\\n",
       "0        4081  Solanum lycopersicum (Tomato) (Lycopersicon es...     148   \n",
       "1        4113                         Solanum tuberosum (Potato)      47   \n",
       "2        4113                         Solanum tuberosum (Potato)     153   \n",
       "3        4072                  Capsicum annuum (Capsicum pepper)      52   \n",
       "4        4111           Solanum melongena (Eggplant) (Aubergine)      52   \n",
       "\n",
       "     Mass  \n",
       "0  16,293  \n",
       "1   4,833  \n",
       "2  16,505  \n",
       "3   5,604  \n",
       "4   5,579  "
      ]
     },
     "execution_count": 46,
     "metadata": {},
     "output_type": "execute_result"
    }
   ],
   "source": [
    "pi_gf.head()"
   ]
  },
  {
   "cell_type": "code",
   "execution_count": 47,
   "id": "8db37e53",
   "metadata": {},
   "outputs": [
    {
     "data": {
      "text/plain": [
       "UniprotID     452\n",
       "Sequence      452\n",
       "GeneNames     301\n",
       "OrganismID    452\n",
       "Organism      452\n",
       "Length        452\n",
       "Mass          452\n",
       "dtype: int64"
      ]
     },
     "execution_count": 47,
     "metadata": {},
     "output_type": "execute_result"
    }
   ],
   "source": [
    "pi_gf.count()"
   ]
  },
  {
   "cell_type": "code",
   "execution_count": 48,
   "id": "45dab081",
   "metadata": {},
   "outputs": [
    {
     "data": {
      "text/plain": [
       "452"
      ]
     },
     "execution_count": 48,
     "metadata": {},
     "output_type": "execute_result"
    }
   ],
   "source": [
    "pi_gf.UniprotID.nunique()"
   ]
  },
  {
   "cell_type": "code",
   "execution_count": 49,
   "id": "c255fa71",
   "metadata": {},
   "outputs": [
    {
     "data": {
      "text/plain": [
       "422"
      ]
     },
     "execution_count": 49,
     "metadata": {},
     "output_type": "execute_result"
    }
   ],
   "source": [
    "pi_gf.Sequence.nunique() ## That is there are some duplicate"
   ]
  },
  {
   "cell_type": "code",
   "execution_count": 50,
   "id": "d0c4a846",
   "metadata": {},
   "outputs": [
    {
     "data": {
      "text/plain": [
       "30"
      ]
     },
     "execution_count": 50,
     "metadata": {},
     "output_type": "execute_result"
    }
   ],
   "source": [
    "pi_gf.Sequence.duplicated().sum() ## Leaving one of each of the duplicated one"
   ]
  },
  {
   "cell_type": "code",
   "execution_count": 51,
   "id": "c506d870",
   "metadata": {},
   "outputs": [
    {
     "data": {
      "text/plain": [
       "51"
      ]
     },
     "execution_count": 51,
     "metadata": {},
     "output_type": "execute_result"
    }
   ],
   "source": [
    "pi_gf.Sequence.duplicated(keep=False).sum()"
   ]
  },
  {
   "cell_type": "markdown",
   "id": "0a619158",
   "metadata": {},
   "source": [
    "### Total Duplicated Sequences: 51-30= 21"
   ]
  },
  {
   "cell_type": "code",
   "execution_count": 52,
   "id": "afbef3a1",
   "metadata": {},
   "outputs": [
    {
     "data": {
      "text/plain": [
       "MASIKLALPMALLLCGLMVIGSIQSAEAQGGKFCPQFCYDGLEYMTCPSTGSQHLKPACNCCIAGEKGCVLYLNNGQVINCT                                                                                                                                                                                                                                                                                                                                                                                                                                                                                                                                                                                                                                                                                                                                                                                                                                                                                                                                        8\n",
       "MATCRFHIACAPLLVCVMLLGKNQEGMEAVACHQYCLEVDYITCPSSGSEKLPARCNCCMAGKGCTLHLSGGINQTCN                                                                                                                                                                                                                                                                                                                                                                                                                                                                                                                                                                                                                                                                                                                                                                                                                                                                                                                                            3\n",
       "MATSRLHIACALLLAGVVLLGQNQEGMEAVACPQYCLEVDYITCPSSGSQKLPARCNCCMAPKGCTLHLSDGINQTCS                                                                                                                                                                                                                                                                                                                                                                                                                                                                                                                                                                                                                                                                                                                                                                                                                                                                                                                                            3\n",
       "MASSKVGVLTLLLLCVLLVGSNYVESADAKICPQFCEPNIGYMTCPSTGHKKLYPKCINCCKAGKGCKLYRKNGSLRCTGT                                                                                                                                                                                                                                                                                                                                                                                                                                                                                                                                                                                                                                                                                                                                                                                                                                                                                                                                         3\n",
       "MAGTKVGVITLLLCATILLGLKPEHASAKVCPFFCYAEVAYMTCPPAPYKKLGPVCNCCLAKPGCKLFRADGTVICTAS                                                                                                                                                                                                                                                                                                                                                                                                                                                                                                                                                                                                                                                                                                                                                                                                                                                                                                                                           2\n",
       "MAVHKVSFVAHLLVLGMFLLLVDAKACTKECGNFAYGICPRSQGTPDDPICTTCCAGYKGCNYYSANGTFICEGSSDPKNPNVCPQFCDPDIAYSKCPRSEGETIINPTGCTTCCTGYKGCYYFGQDGEFVCEGESDEPKSCTTECDPRVATISCPFSGLVKINQECINCCNADKGCELYDNDGSLICTGGEPQSAA                                                                                                                                                                                                                                                                                                                                                                                                                                                                                                                                                                                                                                                                                                                                                                                                                     2\n",
       "MAFYKASILSLLLLSGIFLLGIGEVKYVNAKSCLQFCDNEVAYMTCPSSGDEQISPVCVNCCTADEGCKLFRTDGSLICTGTQD                                                                                                                                                                                                                                                                                                                                                                                                                                                                                                                                                                                                                                                                                                                                                                                                                                                                                                                                      2\n",
       "MAFCKVGILSLLLVSGIFLLGIEVEFGNAQKMCIQVCDPEVASMTCPSSGDEKINDVCVNCCTAAVGCKLFRSDGSLICTGTLE                                                                                                                                                                                                                                                                                                                                                                                                                                                                                                                                                                                                                                                                                                                                                                                                                                                                                                                                      2\n",
       "MAISRINGVMAILLCGMILLSSNVEVKVVEACPQYCLDVEYMTCGNSETKLPPRCNCCLAPKGCTLHLADGTSQYCS                                                                                                                                                                                                                                                                                                                                                                                                                                                                                                                                                                                                                                                                                                                                                                                                                                                                                                                                             2\n",
       "MAVHKEVSFLGYLLVLGIFLHHVDGKACTRECGNLGYGICPRSEGSAEEPICTNCCAGYKGCKYYSADGTFICEGESDPKNPKGCPRNCDPRIAYSKCPRSQGETLIYPTGCTTCCTGYKGCYYFGKDGKFLCEGESTEPKACTLECDPRVAYMTCPSTGLAKIKDVCVNCCTAGEGCKLYGHNGSLLCTGESQSISTA                                                                                                                                                                                                                                                                                                                                                                                                                                                                                                                                                                                                                                                                                                                                                                                                                   2\n",
       "MAFCKVGILSLLLLSGIFLLGIEVEYGNAQKMCLQVCDPEVAYMTCPSSGDEKMSDVCVNCCTAAVGCKLFRSDGSFICTGTPE                                                                                                                                                                                                                                                                                                                                                                                                                                                                                                                                                                                                                                                                                                                                                                                                                                                                                                                                      2\n",
       "MATFRLHISCALLLAGVVLLGTNQGGMEAMACPQYCLEVDYITCPSSGSQKLPARCNCCMAPKGCTLHLPDGINQTCS                                                                                                                                                                                                                                                                                                                                                                                                                                                                                                                                                                                                                                                                                                                                                                                                                                                                                                                                            2\n",
       "MAIHKVGFLALLLLFGTHVLGSKMATAAEEEKSCPRDCISDAAYMVCPTRHGRHKLIESYCDNCCTLPENCKLFKENGDLICTGTDY                                                                                                                                                                                                                                                                                                                                                                                                                                                                                                                                                                                                                                                                                                                                                                                                                                                                                                                                   2\n",
       "MATYKIWLMSLMITGAILADVIPGVTITKTAIACPLYCLEVEYMTCPSSGDEKLPPRCNCCLAPKDCTLHLSGSTSIHCTK                                                                                                                                                                                                                                                                                                                                                                                                                                                                                                                                                                                                                                                                                                                                                                                                                                                                                                                                         2\n",
       "MAISKIGILSLLLFSVVILLGISNMEKVEGKICPQICFDAAAYMMCPSSGTQKLAPTCNCCLAPQGCSLYYADRTLICTST                                                                                                                                                                                                                                                                                                                                                                                                                                                                                                                                                                                                                                                                                                                                                                                                                                                                                                                                         2\n",
       "MAADKNIGAMVLLLVCGSILLLAINPTEAKVCNKICYGAAAYMTCPSSGSTQLDPVCNCCLAPALGCTLYESDGTPICTST                                                                                                                                                                                                                                                                                                                                                                                                                                                                                                                                                                                                                                                                                                                                                                                                                                                                                                                                         2\n",
       "MATIKLALPVALLLCGLMVIGCSVQSAEAKPGRMCAMYCLDAKYMTCPPKDTEQLPPACNCCVAEKRGCTIYLSNGGVEKCP                                                                                                                                                                                                                                                                                                                                                                                                                                                                                                                                                                                                                                                                                                                                                                                                                                                                                                                                        2\n",
       "MATYKIWLMSLMITGAILADVIPGVTITKTAIACPLYCLEVEYMTCPSSGDEKLPPRCNCCLAPKNCTLHLSGSTSIHCTK                                                                                                                                                                                                                                                                                                                                                                                                                                                                                                                                                                                                                                                                                                                                                                                                                                                                                                                                         2\n",
       "MVIGCSIQSAEAKPGRVCAMYCLNGTYMTCPPKDPEKLPPACNCCLAKKRGCTIYLSDGGAVSGEMPMESLIMKSKSKNEIDSCCLARTA                                                                                                                                                                                                                                                                                                                                                                                                                                                                                                                                                                                                                                                                                                                                                                                                                                                                                                                                2\n",
       "MAVHKEVNFVAYLLIVLGLLVLVSAMEHVDAKACTLECGNLGFGICPRSEGSPENRICTNCCAGYKGCNYYSANGAFICEGESDPKKPKACPRNCDPHIAYSKCPRSEGKSLIYPTGCTTCCTGYKGCYYFGKNGKFVCEGESDEPKANMYPAM                                                                                                                                                                                                                                                                                                                                                                                                                                                                                                                                                                                                                                                                                                                                                                                                                                                                2\n",
       "MAVHKEVNFVAYLLIVLGMFLYVDAKACTRECGNLGFGICPRSEGSPLNPICINCCSGYKGCNYYNSFGKFICEGESDPKRPNACTFNCDPNIAYSRCPRSQGKSLIYPTGCTTCCTGYKGCYYFGKDGKFVCEGESDEPKANMYPVM                                                                                                                                                                                                                                                                                                                                                                                                                                                                                                                                                                                                                                                                                                                                                                                                                                                                      2\n",
       "MAVPKEVSFPACLLVLGMFVIANAVELGDDIKVCTMECGNFAYGICPRSEGSPICTNCCSGYKGCNYYSANGTFICEGRSDPRKTNICTQHCDPRVAYSKCPRSGGNTIIKHTGCTTCCTGYKGCYYFGHDGKFVCEGQSSEPRACTLECDPKVAYMTCPSSGSTKLTRICFNCCTARVQGCKLYGHDESLLCTGDPRNY                                                                                                                                                                                                                                                                                                                                                                                                                                                                                                                                                                                                                                                                                                                                                                                                                  1\n",
       "MADARKVGILVLFLLYVLSSSANVEAKVCPFYCLDVVYMTCKASSDEKLKAECNCCLAPKDCTLHLSDGSSVDCN                                                                                                                                                                                                                                                                                                                                                                                                                                                                                                                                                                                                                                                                                                                                                                                                                                                                                                                                               1\n",
       "MGGRKAYLGVLLLLVCALLGDNNGGLVTSAKACPQYCLDVEYMTCPSTGEQQLSPKCNCCLAPKGCILHLSDGTSVTCS                                                                                                                                                                                                                                                                                                                                                                                                                                                                                                                                                                                                                                                                                                                                                                                                                                                                                                                                           1\n",
       "MSSTTTNTSPTTNSTAINSNSKNGSNQDPGSYFIDVARQYSSPIGPETELEPKELNTLNSSGGFIVVSTDKLSIKYPGVNLHGHDVGVIQADKPVPEKRLVYYFEIFVKNAGAKGQIAIGFTNQSFKMRRQPGWETNSCGYHGDDGNLYTGHGKGDAFGPTFTTNDTVGAGINYASQEFFFTKNGAVVGAVYKDKDMKGPLFPTVAVHSQNEEYVAHLLQLVAIFNYYSETVCLSIPVLDLNYADMVDYPVATMEYERQEAMKQISAVDKISLPPNISYRLVRSYLLHYGYEATLNAFDVASKNTIPPIYIAQENGSGEQDIAYALTHRKTLRQLIRNGEIDAALSNLRDWYPQIMQDEKSAACFLLHCQNFIELVRDCVALLAYEQPQKCSAGYLLEDSQREIVADAVNAMILSTDPNVKDSQSCLRSHLESLLRQLTVCCLERRSLNGDQGEVFHLHRRLTLHSSDSGRNMTGARPTANAMVLLLLVLLGAIGGDSIAKACPLYCLDVDYMTCKSSGDKKLDSACNCCLAPQNCTLHLADGRRKSRNTKLPQGKTGWPVIGETWDFMMAARCGTPEKFINDRVRKYSPEVFQTSLLGHNMAVFCGSGGNKFLFSSENKSVTGWLPHPLLKILFSPERVINSFKEESAKLRKFLPELLKPEPLQHFIPVMDSMAKDHLKADWFPYKQVKVFPLSKTYTFALACRLFMRIKDPEHVSRLQNHFNLVTKGILSIPLNFPCTAYNRAINGGNMIRAEILAIMEDRRRELIISESKEPEFIDILTRMLLVRDENGNPMDDMEIVDRVVGLLFGSHDTTSASISMVMYYLADNPHVYMKVLKEQVEIQKLKAPGEFLTWNDTQKMKYTWCVVCEVMRLSPPAHGGFREAIADFSYADFTIPKGWKVLWSVHSTHKNPKYFRDPERFDPSRFERNGIEPYSFVPFGGGPRMCPGKEYARLAILVFMHNVVTQFRWEKVIQDEKIITS    1\n",
       "MASSTFFFPNIAGLMVIGCSIQTTEAWAWRARARFCPMYCLDFEYMTCNSTGTKQLPGVCNCCLAAQKGCTIHLRNGGVQKCP                                                                                                                                                                                                                                                                                                                                                                                                                                                                                                                                                                                                                                                                                                                                                                                                                                                                                                                                       1\n",
       "MKHFSSKAMSLLLIMIALMAQVESTPCTSTFFSALVQLIPCRSAVAPFSPIPPTDSCCNALKALGQPCLCVLVNGPPIAGVDRSMASQLPDKCTTDFEPCGMIMGGDMKIVEGKICPQICYEAAYMTCPSTGDEHLSPACSCCIASTGCTLYNSDGTPICTAS                                                                                                                                                                                                                                                                                                                                                                                                                                                                                                                                                                                                                                                                                                                                                                                                                                                       1\n",
       "MASIKLALPTALLLCGIMVIGSIQSAEAQGGKICPQFCYDGLEYMTCPSTGSQHLKPACNCCIAGEKGCVLYLNNGQVINCT                                                                                                                                                                                                                                                                                                                                                                                                                                                                                                                                                                                                                                                                                                                                                                                                                                                                                                                                        1\n",
       "MATYNKVCLFTVVFLVCGIFLMGNNVEQVNAQICTQECNPNAAYMICQPNNKKTKNVCTNCCKIQNTRCHIYTSKGGLIC                                                                                                                                                                                                                                                                                                                                                                                                                                                                                                                                                                                                                                                                                                                                                                                                                                                                                                                                          1\n",
       "MAVPKEVSFLAFVLVLGILLLHVDAKACSEENAENRICTNCCAGRKGCNYYSADGTFICEGESDPNNPKPCTLNCDPRIFYSKCPRSEGNAENRICTNCCAGRKGCYYYSDDGTFICEGESDPNNPKPCPRNCDTRIAYSICPHSEGNAENRICTNCCAGRKGCNYYSADGTFICEGESDPNNPKACPRNCDPNIAYSLCLYEK                                                                                                                                                                                                                                                                                                                                                                                                                                                                                                                                                                                                                                                                                                                                                                                                              1\n",
       "Name: Sequence, dtype: int64"
      ]
     },
     "execution_count": 52,
     "metadata": {},
     "output_type": "execute_result"
    }
   ],
   "source": [
    "pi_gf.Sequence.value_counts().head(30)"
   ]
  },
  {
   "cell_type": "markdown",
   "id": "09120f40",
   "metadata": {},
   "source": [
    "### Above result shows out of 21: 1 sequence occur 8 times; 3 sequence occur 3 times; and 17 sequence occur 2 time "
   ]
  },
  {
   "cell_type": "code",
   "execution_count": null,
   "id": "4181d16a",
   "metadata": {},
   "outputs": [],
   "source": [
    "## Listing all the Duplicated Sequence usually the difference is in Organism or\n",
    "## Gene Names. Saving the records in a new file 2_DuplicateSequenceRecordsInUniprotData_51.csv"
   ]
  },
  {
   "cell_type": "code",
   "execution_count": 53,
   "id": "3f7480b3",
   "metadata": {
    "scrolled": true
   },
   "outputs": [
    {
     "data": {
      "text/html": [
       "<div>\n",
       "<style scoped>\n",
       "    .dataframe tbody tr th:only-of-type {\n",
       "        vertical-align: middle;\n",
       "    }\n",
       "\n",
       "    .dataframe tbody tr th {\n",
       "        vertical-align: top;\n",
       "    }\n",
       "\n",
       "    .dataframe thead th {\n",
       "        text-align: right;\n",
       "    }\n",
       "</style>\n",
       "<table border=\"1\" class=\"dataframe\">\n",
       "  <thead>\n",
       "    <tr style=\"text-align: right;\">\n",
       "      <th></th>\n",
       "      <th>UniprotID</th>\n",
       "      <th>Sequence</th>\n",
       "      <th>OrganismID</th>\n",
       "      <th>Organism</th>\n",
       "      <th>GeneNames</th>\n",
       "    </tr>\n",
       "  </thead>\n",
       "  <tbody>\n",
       "    <tr>\n",
       "      <th>38</th>\n",
       "      <td>M5XPI6</td>\n",
       "      <td>MAADKNIGAMVLLLVCGSILLLAINPTEAKVCNKICYGAAAYMTCP...</td>\n",
       "      <td>3760</td>\n",
       "      <td>Prunus persica (Peach) (Amygdalus persica)</td>\n",
       "      <td>PRUPE_1G552600 PRUPE_ppa017948mg</td>\n",
       "    </tr>\n",
       "    <tr>\n",
       "      <th>248</th>\n",
       "      <td>A0A6J5TTZ0</td>\n",
       "      <td>MAADKNIGAMVLLLVCGSILLLAINPTEAKVCNKICYGAAAYMTCP...</td>\n",
       "      <td>36596</td>\n",
       "      <td>Prunus armeniaca (Apricot) (Armeniaca vulgaris)</td>\n",
       "      <td>CURHAP_LOCUS10213</td>\n",
       "    </tr>\n",
       "    <tr>\n",
       "      <th>445</th>\n",
       "      <td>A0A2G3C7I2</td>\n",
       "      <td>MAFCKVGILSLLLLSGIFLLGIEVEYGNAQKMCLQVCDPEVAYMTC...</td>\n",
       "      <td>80379</td>\n",
       "      <td>Capsicum chinense (Scotch bonnet) (Bonnet pepper)</td>\n",
       "      <td>BC332_15893</td>\n",
       "    </tr>\n",
       "    <tr>\n",
       "      <th>362</th>\n",
       "      <td>A0A1U8HFR9</td>\n",
       "      <td>MAFCKVGILSLLLLSGIFLLGIEVEYGNAQKMCLQVCDPEVAYMTC...</td>\n",
       "      <td>4072</td>\n",
       "      <td>Capsicum annuum (Capsicum pepper)</td>\n",
       "      <td>LOC107879784</td>\n",
       "    </tr>\n",
       "    <tr>\n",
       "      <th>408</th>\n",
       "      <td>A0A2G2ZAE0</td>\n",
       "      <td>MAFCKVGILSLLLVSGIFLLGIEVEFGNAQKMCIQVCDPEVASMTC...</td>\n",
       "      <td>4072</td>\n",
       "      <td>Capsicum annuum (Capsicum pepper)</td>\n",
       "      <td>LOC107879783</td>\n",
       "    </tr>\n",
       "    <tr>\n",
       "      <th>387</th>\n",
       "      <td>A0A1U8HFS2</td>\n",
       "      <td>MAFCKVGILSLLLVSGIFLLGIEVEFGNAQKMCIQVCDPEVASMTC...</td>\n",
       "      <td>4072</td>\n",
       "      <td>Capsicum annuum (Capsicum pepper)</td>\n",
       "      <td>T459_17035</td>\n",
       "    </tr>\n",
       "    <tr>\n",
       "      <th>171</th>\n",
       "      <td>A0A1S3YL26</td>\n",
       "      <td>MAFYKASILSLLLLSGIFLLGIGEVKYVNAKSCLQFCDNEVAYMTC...</td>\n",
       "      <td>4097</td>\n",
       "      <td>Nicotiana tabacum (Common tobacco)</td>\n",
       "      <td>LOC107777263</td>\n",
       "    </tr>\n",
       "    <tr>\n",
       "      <th>37</th>\n",
       "      <td>A0A1U7YPZ0</td>\n",
       "      <td>MAFYKASILSLLLLSGIFLLGIGEVKYVNAKSCLQFCDNEVAYMTC...</td>\n",
       "      <td>4096</td>\n",
       "      <td>Nicotiana sylvestris (Wood tobacco) (South Ame...</td>\n",
       "      <td>LOC104246736 LOC104234561</td>\n",
       "    </tr>\n",
       "    <tr>\n",
       "      <th>320</th>\n",
       "      <td>A0A068VJU5</td>\n",
       "      <td>MAGTKVGVITLLLCATILLGLKPEHASAKVCPFFCYAEVAYMTCPP...</td>\n",
       "      <td>49390</td>\n",
       "      <td>Coffea canephora (Robusta coffee)</td>\n",
       "      <td>GSCOC_T00005697001</td>\n",
       "    </tr>\n",
       "    <tr>\n",
       "      <th>73</th>\n",
       "      <td>A0A6P6UNR4</td>\n",
       "      <td>MAGTKVGVITLLLCATILLGLKPEHASAKVCPFFCYAEVAYMTCPP...</td>\n",
       "      <td>13443</td>\n",
       "      <td>Coffea arabica (Arabian coffee)</td>\n",
       "      <td>LOC113712766</td>\n",
       "    </tr>\n",
       "    <tr>\n",
       "      <th>313</th>\n",
       "      <td>A0A1S3ZJX9</td>\n",
       "      <td>MAIHKVGFLALLLLFGTHVLGSKMATAAEEEKSCPRDCISDAAYMV...</td>\n",
       "      <td>4097</td>\n",
       "      <td>Nicotiana tabacum (Common tobacco)</td>\n",
       "      <td>LOC107787467</td>\n",
       "    </tr>\n",
       "    <tr>\n",
       "      <th>107</th>\n",
       "      <td>A0A1U7XKN6</td>\n",
       "      <td>MAIHKVGFLALLLLFGTHVLGSKMATAAEEEKSCPRDCISDAAYMV...</td>\n",
       "      <td>4096</td>\n",
       "      <td>Nicotiana sylvestris (Wood tobacco) (South Ame...</td>\n",
       "      <td>LOC104235076</td>\n",
       "    </tr>\n",
       "    <tr>\n",
       "      <th>446</th>\n",
       "      <td>A0A2G3C8B9</td>\n",
       "      <td>MAISKIGILSLLLFSVVILLGISNMEKVEGKICPQICFDAAAYMMC...</td>\n",
       "      <td>80379</td>\n",
       "      <td>Capsicum chinense (Scotch bonnet) (Bonnet pepper)</td>\n",
       "      <td>BC332_16137</td>\n",
       "    </tr>\n",
       "    <tr>\n",
       "      <th>251</th>\n",
       "      <td>A0A2G2WK98</td>\n",
       "      <td>MAISKIGILSLLLFSVVILLGISNMEKVEGKICPQICFDAAAYMMC...</td>\n",
       "      <td>33114</td>\n",
       "      <td>Capsicum baccatum (Peruvian pepper)</td>\n",
       "      <td>CQW23_14824</td>\n",
       "    </tr>\n",
       "    <tr>\n",
       "      <th>66</th>\n",
       "      <td>A0A6P6UW59</td>\n",
       "      <td>MAISRINGVMAILLCGMILLSSNVEVKVVEACPQYCLDVEYMTCGN...</td>\n",
       "      <td>13443</td>\n",
       "      <td>Coffea arabica (Arabian coffee)</td>\n",
       "      <td>LOC113714895</td>\n",
       "    </tr>\n",
       "    <tr>\n",
       "      <th>317</th>\n",
       "      <td>A0A068UQ46</td>\n",
       "      <td>MAISRINGVMAILLCGMILLSSNVEVKVVEACPQYCLDVEYMTCGN...</td>\n",
       "      <td>49390</td>\n",
       "      <td>Coffea canephora (Robusta coffee)</td>\n",
       "      <td>GSCOC_T00031441001</td>\n",
       "    </tr>\n",
       "    <tr>\n",
       "      <th>139</th>\n",
       "      <td>A2XLR0</td>\n",
       "      <td>MASIKLALPMALLLCGLMVIGSIQSAEAQGGKFCPQFCYDGLEYMT...</td>\n",
       "      <td>39946</td>\n",
       "      <td>Oryza sativa subsp. indica (Rice)</td>\n",
       "      <td>OsI_13414</td>\n",
       "    </tr>\n",
       "    <tr>\n",
       "      <th>185</th>\n",
       "      <td>A0A0E0GTG1</td>\n",
       "      <td>MASIKLALPMALLLCGLMVIGSIQSAEAQGGKFCPQFCYDGLEYMT...</td>\n",
       "      <td>4536</td>\n",
       "      <td>Oryza nivara (Indian wild rice) (Oryza sativa ...</td>\n",
       "      <td>NaN</td>\n",
       "    </tr>\n",
       "    <tr>\n",
       "      <th>157</th>\n",
       "      <td>A3AMF1</td>\n",
       "      <td>MASIKLALPMALLLCGLMVIGSIQSAEAQGGKFCPQFCYDGLEYMT...</td>\n",
       "      <td>39947</td>\n",
       "      <td>Oryza sativa subsp. japonica (Rice)</td>\n",
       "      <td>OSJNBa0027J18.15 Os03g0734300 OsJ_12473</td>\n",
       "    </tr>\n",
       "    <tr>\n",
       "      <th>156</th>\n",
       "      <td>Q6AVT6</td>\n",
       "      <td>MASIKLALPMALLLCGLMVIGSIQSAEAQGGKFCPQFCYDGLEYMT...</td>\n",
       "      <td>39947</td>\n",
       "      <td>Oryza sativa subsp. japonica (Rice)</td>\n",
       "      <td>LOC_Os03g52390 Os03g0734300 OSNPB_030734300</td>\n",
       "    </tr>\n",
       "    <tr>\n",
       "      <th>450</th>\n",
       "      <td>A0A0D9ZCR1</td>\n",
       "      <td>MASIKLALPMALLLCGLMVIGSIQSAEAQGGKFCPQFCYDGLEYMT...</td>\n",
       "      <td>40148</td>\n",
       "      <td>Oryza glumipatula</td>\n",
       "      <td>NaN</td>\n",
       "    </tr>\n",
       "    <tr>\n",
       "      <th>67</th>\n",
       "      <td>A0A0E0P0X3</td>\n",
       "      <td>MASIKLALPMALLLCGLMVIGSIQSAEAQGGKFCPQFCYDGLEYMT...</td>\n",
       "      <td>4529</td>\n",
       "      <td>Oryza rufipogon (Brownbeard rice) (Asian wild ...</td>\n",
       "      <td>NaN</td>\n",
       "    </tr>\n",
       "    <tr>\n",
       "      <th>55</th>\n",
       "      <td>A0A0D3FNQ1</td>\n",
       "      <td>MASIKLALPMALLLCGLMVIGSIQSAEAQGGKFCPQFCYDGLEYMT...</td>\n",
       "      <td>65489</td>\n",
       "      <td>Oryza barthii</td>\n",
       "      <td>NaN</td>\n",
       "    </tr>\n",
       "    <tr>\n",
       "      <th>63</th>\n",
       "      <td>I1PF65</td>\n",
       "      <td>MASIKLALPMALLLCGLMVIGSIQSAEAQGGKFCPQFCYDGLEYMT...</td>\n",
       "      <td>4538</td>\n",
       "      <td>Oryza glaberrima (African rice)</td>\n",
       "      <td>NaN</td>\n",
       "    </tr>\n",
       "    <tr>\n",
       "      <th>256</th>\n",
       "      <td>A0A2G2WDG3</td>\n",
       "      <td>MASSKVGVLTLLLLCVLLVGSNYVESADAKICPQFCEPNIGYMTCP...</td>\n",
       "      <td>33114</td>\n",
       "      <td>Capsicum baccatum (Peruvian pepper)</td>\n",
       "      <td>CQW23_17310</td>\n",
       "    </tr>\n",
       "    <tr>\n",
       "      <th>401</th>\n",
       "      <td>A0A1U8H7N7</td>\n",
       "      <td>MASSKVGVLTLLLLCVLLVGSNYVESADAKICPQFCEPNIGYMTCP...</td>\n",
       "      <td>4072</td>\n",
       "      <td>Capsicum annuum (Capsicum pepper)</td>\n",
       "      <td>T459_20080</td>\n",
       "    </tr>\n",
       "    <tr>\n",
       "      <th>343</th>\n",
       "      <td>A0A2G2Z3H2</td>\n",
       "      <td>MASSKVGVLTLLLLCVLLVGSNYVESADAKICPQFCEPNIGYMTCP...</td>\n",
       "      <td>4072</td>\n",
       "      <td>Capsicum annuum (Capsicum pepper)</td>\n",
       "      <td>LOC107877299</td>\n",
       "    </tr>\n",
       "    <tr>\n",
       "      <th>159</th>\n",
       "      <td>R7WBW6</td>\n",
       "      <td>MATCRFHIACAPLLVCVMLLGKNQEGMEAVACHQYCLEVDYITCPS...</td>\n",
       "      <td>37682</td>\n",
       "      <td>Aegilops tauschii (Tausch's goatgrass) (Aegilo...</td>\n",
       "      <td>F775_03746</td>\n",
       "    </tr>\n",
       "    <tr>\n",
       "      <th>318</th>\n",
       "      <td>A0A453ELF2</td>\n",
       "      <td>MATCRFHIACAPLLVCVMLLGKNQEGMEAVACHQYCLEVDYITCPS...</td>\n",
       "      <td>200361</td>\n",
       "      <td>Aegilops tauschii subsp. strangulata (Goatgrass)</td>\n",
       "      <td>NaN</td>\n",
       "    </tr>\n",
       "    <tr>\n",
       "      <th>243</th>\n",
       "      <td>A0A3B6GR13</td>\n",
       "      <td>MATCRFHIACAPLLVCVMLLGKNQEGMEAVACHQYCLEVDYITCPS...</td>\n",
       "      <td>4565</td>\n",
       "      <td>Triticum aestivum (Wheat)</td>\n",
       "      <td>NaN</td>\n",
       "    </tr>\n",
       "    <tr>\n",
       "      <th>235</th>\n",
       "      <td>A0A3B5Z5G1</td>\n",
       "      <td>MATFRLHISCALLLAGVVLLGTNQGGMEAMACPQYCLEVDYITCPS...</td>\n",
       "      <td>4565</td>\n",
       "      <td>Triticum aestivum (Wheat)</td>\n",
       "      <td>NaN</td>\n",
       "    </tr>\n",
       "    <tr>\n",
       "      <th>40</th>\n",
       "      <td>A0A446KEB4</td>\n",
       "      <td>MATFRLHISCALLLAGVVLLGTNQGGMEAMACPQYCLEVDYITCPS...</td>\n",
       "      <td>4567</td>\n",
       "      <td>Triticum turgidum subsp. durum (Durum wheat) (...</td>\n",
       "      <td>TRITD_1Bv1G223970</td>\n",
       "    </tr>\n",
       "    <tr>\n",
       "      <th>161</th>\n",
       "      <td>A0A3L6S7X6</td>\n",
       "      <td>MATIKLALPVALLLCGLMVIGCSVQSAEAKPGRMCAMYCLDAKYMT...</td>\n",
       "      <td>4540</td>\n",
       "      <td>Panicum miliaceum (Proso millet) (Broomcorn mi...</td>\n",
       "      <td>C2845_PM02G04370</td>\n",
       "    </tr>\n",
       "    <tr>\n",
       "      <th>41</th>\n",
       "      <td>A0A2T7C1D4</td>\n",
       "      <td>MATIKLALPVALLLCGLMVIGCSVQSAEAKPGRMCAMYCLDAKYMT...</td>\n",
       "      <td>1504633</td>\n",
       "      <td>Panicum hallii var. hallii</td>\n",
       "      <td>GQ55_9G096400</td>\n",
       "    </tr>\n",
       "    <tr>\n",
       "      <th>225</th>\n",
       "      <td>M7ZEF2</td>\n",
       "      <td>MATSRLHIACALLLAGVVLLGQNQEGMEAVACPQYCLEVDYITCPS...</td>\n",
       "      <td>4572</td>\n",
       "      <td>Triticum urartu (Red wild einkorn) (Crithodium...</td>\n",
       "      <td>TRIUR3_07765</td>\n",
       "    </tr>\n",
       "    <tr>\n",
       "      <th>64</th>\n",
       "      <td>A0A453A379</td>\n",
       "      <td>MATSRLHIACALLLAGVVLLGQNQEGMEAVACPQYCLEVDYITCPS...</td>\n",
       "      <td>200361</td>\n",
       "      <td>Aegilops tauschii subsp. strangulata (Goatgrass)</td>\n",
       "      <td>NaN</td>\n",
       "    </tr>\n",
       "    <tr>\n",
       "      <th>29</th>\n",
       "      <td>W5ADU4</td>\n",
       "      <td>MATSRLHIACALLLAGVVLLGQNQEGMEAVACPQYCLEVDYITCPS...</td>\n",
       "      <td>4565</td>\n",
       "      <td>Triticum aestivum (Wheat)</td>\n",
       "      <td>NaN</td>\n",
       "    </tr>\n",
       "    <tr>\n",
       "      <th>30</th>\n",
       "      <td>A0A398AAP9</td>\n",
       "      <td>MATYKIWLMSLMITGAILADVIPGVTITKTAIACPLYCLEVEYMTC...</td>\n",
       "      <td>3711</td>\n",
       "      <td>Brassica campestris (Field mustard)</td>\n",
       "      <td>BRAA02T06812Z BRARA_B01996</td>\n",
       "    </tr>\n",
       "    <tr>\n",
       "      <th>56</th>\n",
       "      <td>M4CUW0</td>\n",
       "      <td>MATYKIWLMSLMITGAILADVIPGVTITKTAIACPLYCLEVEYMTC...</td>\n",
       "      <td>51351</td>\n",
       "      <td>Brassica rapa subsp. pekinensis (Chinese cabba...</td>\n",
       "      <td>NaN</td>\n",
       "    </tr>\n",
       "    <tr>\n",
       "      <th>269</th>\n",
       "      <td>A0A0D3APY5</td>\n",
       "      <td>MATYKIWLMSLMITGAILADVIPGVTITKTAIACPLYCLEVEYMTC...</td>\n",
       "      <td>109376</td>\n",
       "      <td>Brassica oleracea var. oleracea</td>\n",
       "      <td>106326242</td>\n",
       "    </tr>\n",
       "    <tr>\n",
       "      <th>59</th>\n",
       "      <td>A0A3P6DUN5</td>\n",
       "      <td>MATYKIWLMSLMITGAILADVIPGVTITKTAIACPLYCLEVEYMTC...</td>\n",
       "      <td>3712</td>\n",
       "      <td>Brassica oleracea (Wild cabbage)</td>\n",
       "      <td>BOLC2T08986H</td>\n",
       "    </tr>\n",
       "    <tr>\n",
       "      <th>12</th>\n",
       "      <td>Q41488</td>\n",
       "      <td>MAVHKEVNFVAYLLIVLGLLVLVSAMEHVDAKACTLECGNLGFGIC...</td>\n",
       "      <td>4113</td>\n",
       "      <td>Solanum tuberosum (Potato)</td>\n",
       "      <td>NaN</td>\n",
       "    </tr>\n",
       "    <tr>\n",
       "      <th>265</th>\n",
       "      <td>A0A097H1D6</td>\n",
       "      <td>MAVHKEVNFVAYLLIVLGLLVLVSAMEHVDAKACTLECGNLGFGIC...</td>\n",
       "      <td>4113</td>\n",
       "      <td>Solanum tuberosum (Potato)</td>\n",
       "      <td>PIN-II</td>\n",
       "    </tr>\n",
       "    <tr>\n",
       "      <th>27</th>\n",
       "      <td>Q6H3X6</td>\n",
       "      <td>MAVHKEVNFVAYLLIVLGMFLYVDAKACTRECGNLGFGICPRSEGS...</td>\n",
       "      <td>4081</td>\n",
       "      <td>Solanum lycopersicum (Tomato) (Lycopersicon es...</td>\n",
       "      <td>NaN</td>\n",
       "    </tr>\n",
       "    <tr>\n",
       "      <th>0</th>\n",
       "      <td>P05119</td>\n",
       "      <td>MAVHKEVNFVAYLLIVLGMFLYVDAKACTRECGNLGFGICPRSEGS...</td>\n",
       "      <td>4081</td>\n",
       "      <td>Solanum lycopersicum (Tomato) (Lycopersicon es...</td>\n",
       "      <td>NaN</td>\n",
       "    </tr>\n",
       "    <tr>\n",
       "      <th>395</th>\n",
       "      <td>A0A1U8FXN6</td>\n",
       "      <td>MAVHKEVSFLGYLLVLGIFLHHVDGKACTRECGNLGYGICPRSEGS...</td>\n",
       "      <td>4072</td>\n",
       "      <td>Capsicum annuum (Capsicum pepper)</td>\n",
       "      <td>LOC107862771</td>\n",
       "    </tr>\n",
       "    <tr>\n",
       "      <th>357</th>\n",
       "      <td>A0A097J9C9</td>\n",
       "      <td>MAVHKEVSFLGYLLVLGIFLHHVDGKACTRECGNLGYGICPRSEGS...</td>\n",
       "      <td>4072</td>\n",
       "      <td>Capsicum annuum (Capsicum pepper)</td>\n",
       "      <td>PI-69</td>\n",
       "    </tr>\n",
       "    <tr>\n",
       "      <th>228</th>\n",
       "      <td>A0A075EZT7</td>\n",
       "      <td>MAVHKVSFVAHLLVLGMFLLLVDAKACTKECGNFAYGICPRSQGTP...</td>\n",
       "      <td>4097</td>\n",
       "      <td>Nicotiana tabacum (Common tobacco)</td>\n",
       "      <td>cevi57 LOC107816122</td>\n",
       "    </tr>\n",
       "    <tr>\n",
       "      <th>9</th>\n",
       "      <td>Q40561</td>\n",
       "      <td>MAVHKVSFVAHLLVLGMFLLLVDAKACTKECGNFAYGICPRSQGTP...</td>\n",
       "      <td>4097</td>\n",
       "      <td>Nicotiana tabacum (Common tobacco)</td>\n",
       "      <td>NaN</td>\n",
       "    </tr>\n",
       "    <tr>\n",
       "      <th>85</th>\n",
       "      <td>A0A368SF18</td>\n",
       "      <td>MVIGCSIQSAEAKPGRVCAMYCLNGTYMTCPPKDPEKLPPACNCCL...</td>\n",
       "      <td>4555</td>\n",
       "      <td>Setaria italica (Foxtail millet) (Panicum ital...</td>\n",
       "      <td>SETIT_9G103700v2</td>\n",
       "    </tr>\n",
       "    <tr>\n",
       "      <th>196</th>\n",
       "      <td>A0A4U6SRV0</td>\n",
       "      <td>MVIGCSIQSAEAKPGRVCAMYCLNGTYMTCPPKDPEKLPPACNCCL...</td>\n",
       "      <td>4556</td>\n",
       "      <td>Setaria viridis (Green bristlegrass) (Setaria ...</td>\n",
       "      <td>SEVIR_9G101550v2</td>\n",
       "    </tr>\n",
       "  </tbody>\n",
       "</table>\n",
       "</div>"
      ],
      "text/plain": [
       "      UniprotID                                           Sequence  \\\n",
       "38       M5XPI6  MAADKNIGAMVLLLVCGSILLLAINPTEAKVCNKICYGAAAYMTCP...   \n",
       "248  A0A6J5TTZ0  MAADKNIGAMVLLLVCGSILLLAINPTEAKVCNKICYGAAAYMTCP...   \n",
       "445  A0A2G3C7I2  MAFCKVGILSLLLLSGIFLLGIEVEYGNAQKMCLQVCDPEVAYMTC...   \n",
       "362  A0A1U8HFR9  MAFCKVGILSLLLLSGIFLLGIEVEYGNAQKMCLQVCDPEVAYMTC...   \n",
       "408  A0A2G2ZAE0  MAFCKVGILSLLLVSGIFLLGIEVEFGNAQKMCIQVCDPEVASMTC...   \n",
       "387  A0A1U8HFS2  MAFCKVGILSLLLVSGIFLLGIEVEFGNAQKMCIQVCDPEVASMTC...   \n",
       "171  A0A1S3YL26  MAFYKASILSLLLLSGIFLLGIGEVKYVNAKSCLQFCDNEVAYMTC...   \n",
       "37   A0A1U7YPZ0  MAFYKASILSLLLLSGIFLLGIGEVKYVNAKSCLQFCDNEVAYMTC...   \n",
       "320  A0A068VJU5  MAGTKVGVITLLLCATILLGLKPEHASAKVCPFFCYAEVAYMTCPP...   \n",
       "73   A0A6P6UNR4  MAGTKVGVITLLLCATILLGLKPEHASAKVCPFFCYAEVAYMTCPP...   \n",
       "313  A0A1S3ZJX9  MAIHKVGFLALLLLFGTHVLGSKMATAAEEEKSCPRDCISDAAYMV...   \n",
       "107  A0A1U7XKN6  MAIHKVGFLALLLLFGTHVLGSKMATAAEEEKSCPRDCISDAAYMV...   \n",
       "446  A0A2G3C8B9  MAISKIGILSLLLFSVVILLGISNMEKVEGKICPQICFDAAAYMMC...   \n",
       "251  A0A2G2WK98  MAISKIGILSLLLFSVVILLGISNMEKVEGKICPQICFDAAAYMMC...   \n",
       "66   A0A6P6UW59  MAISRINGVMAILLCGMILLSSNVEVKVVEACPQYCLDVEYMTCGN...   \n",
       "317  A0A068UQ46  MAISRINGVMAILLCGMILLSSNVEVKVVEACPQYCLDVEYMTCGN...   \n",
       "139      A2XLR0  MASIKLALPMALLLCGLMVIGSIQSAEAQGGKFCPQFCYDGLEYMT...   \n",
       "185  A0A0E0GTG1  MASIKLALPMALLLCGLMVIGSIQSAEAQGGKFCPQFCYDGLEYMT...   \n",
       "157      A3AMF1  MASIKLALPMALLLCGLMVIGSIQSAEAQGGKFCPQFCYDGLEYMT...   \n",
       "156      Q6AVT6  MASIKLALPMALLLCGLMVIGSIQSAEAQGGKFCPQFCYDGLEYMT...   \n",
       "450  A0A0D9ZCR1  MASIKLALPMALLLCGLMVIGSIQSAEAQGGKFCPQFCYDGLEYMT...   \n",
       "67   A0A0E0P0X3  MASIKLALPMALLLCGLMVIGSIQSAEAQGGKFCPQFCYDGLEYMT...   \n",
       "55   A0A0D3FNQ1  MASIKLALPMALLLCGLMVIGSIQSAEAQGGKFCPQFCYDGLEYMT...   \n",
       "63       I1PF65  MASIKLALPMALLLCGLMVIGSIQSAEAQGGKFCPQFCYDGLEYMT...   \n",
       "256  A0A2G2WDG3  MASSKVGVLTLLLLCVLLVGSNYVESADAKICPQFCEPNIGYMTCP...   \n",
       "401  A0A1U8H7N7  MASSKVGVLTLLLLCVLLVGSNYVESADAKICPQFCEPNIGYMTCP...   \n",
       "343  A0A2G2Z3H2  MASSKVGVLTLLLLCVLLVGSNYVESADAKICPQFCEPNIGYMTCP...   \n",
       "159      R7WBW6  MATCRFHIACAPLLVCVMLLGKNQEGMEAVACHQYCLEVDYITCPS...   \n",
       "318  A0A453ELF2  MATCRFHIACAPLLVCVMLLGKNQEGMEAVACHQYCLEVDYITCPS...   \n",
       "243  A0A3B6GR13  MATCRFHIACAPLLVCVMLLGKNQEGMEAVACHQYCLEVDYITCPS...   \n",
       "235  A0A3B5Z5G1  MATFRLHISCALLLAGVVLLGTNQGGMEAMACPQYCLEVDYITCPS...   \n",
       "40   A0A446KEB4  MATFRLHISCALLLAGVVLLGTNQGGMEAMACPQYCLEVDYITCPS...   \n",
       "161  A0A3L6S7X6  MATIKLALPVALLLCGLMVIGCSVQSAEAKPGRMCAMYCLDAKYMT...   \n",
       "41   A0A2T7C1D4  MATIKLALPVALLLCGLMVIGCSVQSAEAKPGRMCAMYCLDAKYMT...   \n",
       "225      M7ZEF2  MATSRLHIACALLLAGVVLLGQNQEGMEAVACPQYCLEVDYITCPS...   \n",
       "64   A0A453A379  MATSRLHIACALLLAGVVLLGQNQEGMEAVACPQYCLEVDYITCPS...   \n",
       "29       W5ADU4  MATSRLHIACALLLAGVVLLGQNQEGMEAVACPQYCLEVDYITCPS...   \n",
       "30   A0A398AAP9  MATYKIWLMSLMITGAILADVIPGVTITKTAIACPLYCLEVEYMTC...   \n",
       "56       M4CUW0  MATYKIWLMSLMITGAILADVIPGVTITKTAIACPLYCLEVEYMTC...   \n",
       "269  A0A0D3APY5  MATYKIWLMSLMITGAILADVIPGVTITKTAIACPLYCLEVEYMTC...   \n",
       "59   A0A3P6DUN5  MATYKIWLMSLMITGAILADVIPGVTITKTAIACPLYCLEVEYMTC...   \n",
       "12       Q41488  MAVHKEVNFVAYLLIVLGLLVLVSAMEHVDAKACTLECGNLGFGIC...   \n",
       "265  A0A097H1D6  MAVHKEVNFVAYLLIVLGLLVLVSAMEHVDAKACTLECGNLGFGIC...   \n",
       "27       Q6H3X6  MAVHKEVNFVAYLLIVLGMFLYVDAKACTRECGNLGFGICPRSEGS...   \n",
       "0        P05119  MAVHKEVNFVAYLLIVLGMFLYVDAKACTRECGNLGFGICPRSEGS...   \n",
       "395  A0A1U8FXN6  MAVHKEVSFLGYLLVLGIFLHHVDGKACTRECGNLGYGICPRSEGS...   \n",
       "357  A0A097J9C9  MAVHKEVSFLGYLLVLGIFLHHVDGKACTRECGNLGYGICPRSEGS...   \n",
       "228  A0A075EZT7  MAVHKVSFVAHLLVLGMFLLLVDAKACTKECGNFAYGICPRSQGTP...   \n",
       "9        Q40561  MAVHKVSFVAHLLVLGMFLLLVDAKACTKECGNFAYGICPRSQGTP...   \n",
       "85   A0A368SF18  MVIGCSIQSAEAKPGRVCAMYCLNGTYMTCPPKDPEKLPPACNCCL...   \n",
       "196  A0A4U6SRV0  MVIGCSIQSAEAKPGRVCAMYCLNGTYMTCPPKDPEKLPPACNCCL...   \n",
       "\n",
       "     OrganismID                                           Organism  \\\n",
       "38         3760         Prunus persica (Peach) (Amygdalus persica)   \n",
       "248       36596    Prunus armeniaca (Apricot) (Armeniaca vulgaris)   \n",
       "445       80379  Capsicum chinense (Scotch bonnet) (Bonnet pepper)   \n",
       "362        4072                  Capsicum annuum (Capsicum pepper)   \n",
       "408        4072                  Capsicum annuum (Capsicum pepper)   \n",
       "387        4072                  Capsicum annuum (Capsicum pepper)   \n",
       "171        4097                 Nicotiana tabacum (Common tobacco)   \n",
       "37         4096  Nicotiana sylvestris (Wood tobacco) (South Ame...   \n",
       "320       49390                  Coffea canephora (Robusta coffee)   \n",
       "73        13443                    Coffea arabica (Arabian coffee)   \n",
       "313        4097                 Nicotiana tabacum (Common tobacco)   \n",
       "107        4096  Nicotiana sylvestris (Wood tobacco) (South Ame...   \n",
       "446       80379  Capsicum chinense (Scotch bonnet) (Bonnet pepper)   \n",
       "251       33114                Capsicum baccatum (Peruvian pepper)   \n",
       "66        13443                    Coffea arabica (Arabian coffee)   \n",
       "317       49390                  Coffea canephora (Robusta coffee)   \n",
       "139       39946                  Oryza sativa subsp. indica (Rice)   \n",
       "185        4536  Oryza nivara (Indian wild rice) (Oryza sativa ...   \n",
       "157       39947                Oryza sativa subsp. japonica (Rice)   \n",
       "156       39947                Oryza sativa subsp. japonica (Rice)   \n",
       "450       40148                                  Oryza glumipatula   \n",
       "67         4529  Oryza rufipogon (Brownbeard rice) (Asian wild ...   \n",
       "55        65489                                      Oryza barthii   \n",
       "63         4538                    Oryza glaberrima (African rice)   \n",
       "256       33114                Capsicum baccatum (Peruvian pepper)   \n",
       "401        4072                  Capsicum annuum (Capsicum pepper)   \n",
       "343        4072                  Capsicum annuum (Capsicum pepper)   \n",
       "159       37682  Aegilops tauschii (Tausch's goatgrass) (Aegilo...   \n",
       "318      200361   Aegilops tauschii subsp. strangulata (Goatgrass)   \n",
       "243        4565                          Triticum aestivum (Wheat)   \n",
       "235        4565                          Triticum aestivum (Wheat)   \n",
       "40         4567  Triticum turgidum subsp. durum (Durum wheat) (...   \n",
       "161        4540  Panicum miliaceum (Proso millet) (Broomcorn mi...   \n",
       "41      1504633                         Panicum hallii var. hallii   \n",
       "225        4572  Triticum urartu (Red wild einkorn) (Crithodium...   \n",
       "64       200361   Aegilops tauschii subsp. strangulata (Goatgrass)   \n",
       "29         4565                          Triticum aestivum (Wheat)   \n",
       "30         3711                Brassica campestris (Field mustard)   \n",
       "56        51351  Brassica rapa subsp. pekinensis (Chinese cabba...   \n",
       "269      109376                    Brassica oleracea var. oleracea   \n",
       "59         3712                   Brassica oleracea (Wild cabbage)   \n",
       "12         4113                         Solanum tuberosum (Potato)   \n",
       "265        4113                         Solanum tuberosum (Potato)   \n",
       "27         4081  Solanum lycopersicum (Tomato) (Lycopersicon es...   \n",
       "0          4081  Solanum lycopersicum (Tomato) (Lycopersicon es...   \n",
       "395        4072                  Capsicum annuum (Capsicum pepper)   \n",
       "357        4072                  Capsicum annuum (Capsicum pepper)   \n",
       "228        4097                 Nicotiana tabacum (Common tobacco)   \n",
       "9          4097                 Nicotiana tabacum (Common tobacco)   \n",
       "85         4555  Setaria italica (Foxtail millet) (Panicum ital...   \n",
       "196        4556  Setaria viridis (Green bristlegrass) (Setaria ...   \n",
       "\n",
       "                                       GeneNames  \n",
       "38              PRUPE_1G552600 PRUPE_ppa017948mg  \n",
       "248                            CURHAP_LOCUS10213  \n",
       "445                                  BC332_15893  \n",
       "362                                 LOC107879784  \n",
       "408                                 LOC107879783  \n",
       "387                                   T459_17035  \n",
       "171                                 LOC107777263  \n",
       "37                     LOC104246736 LOC104234561  \n",
       "320                           GSCOC_T00005697001  \n",
       "73                                  LOC113712766  \n",
       "313                                 LOC107787467  \n",
       "107                                 LOC104235076  \n",
       "446                                  BC332_16137  \n",
       "251                                  CQW23_14824  \n",
       "66                                  LOC113714895  \n",
       "317                           GSCOC_T00031441001  \n",
       "139                                    OsI_13414  \n",
       "185                                          NaN  \n",
       "157      OSJNBa0027J18.15 Os03g0734300 OsJ_12473  \n",
       "156  LOC_Os03g52390 Os03g0734300 OSNPB_030734300  \n",
       "450                                          NaN  \n",
       "67                                           NaN  \n",
       "55                                           NaN  \n",
       "63                                           NaN  \n",
       "256                                  CQW23_17310  \n",
       "401                                   T459_20080  \n",
       "343                                 LOC107877299  \n",
       "159                                   F775_03746  \n",
       "318                                          NaN  \n",
       "243                                          NaN  \n",
       "235                                          NaN  \n",
       "40                             TRITD_1Bv1G223970  \n",
       "161                             C2845_PM02G04370  \n",
       "41                                 GQ55_9G096400  \n",
       "225                                 TRIUR3_07765  \n",
       "64                                           NaN  \n",
       "29                                           NaN  \n",
       "30                    BRAA02T06812Z BRARA_B01996  \n",
       "56                                           NaN  \n",
       "269                                    106326242  \n",
       "59                                  BOLC2T08986H  \n",
       "12                                           NaN  \n",
       "265                                       PIN-II  \n",
       "27                                           NaN  \n",
       "0                                            NaN  \n",
       "395                                 LOC107862771  \n",
       "357                                        PI-69  \n",
       "228                          cevi57 LOC107816122  \n",
       "9                                            NaN  \n",
       "85                              SETIT_9G103700v2  \n",
       "196                             SEVIR_9G101550v2  "
      ]
     },
     "execution_count": 53,
     "metadata": {},
     "output_type": "execute_result"
    }
   ],
   "source": [
    "pi_gf.loc[pi_gf.Sequence.duplicated(keep=False),['UniprotID','Sequence','OrganismID','Organism','GeneNames']].sort_values('Sequence')"
   ]
  },
  {
   "cell_type": "code",
   "execution_count": null,
   "id": "4184160b",
   "metadata": {},
   "outputs": [],
   "source": [
    "## pi_gf.loc[pi_gf.Sequence.duplicated(keep=False),['UniprotID','Sequence','OrganismID','Organism','GeneNames']].sort_values('Sequence').to_csv('data/2_DuplicateSequenceRecordsInUniprotData_51.csv',index=False)"
   ]
  },
  {
   "cell_type": "code",
   "execution_count": null,
   "id": "9d8ec9a4",
   "metadata": {},
   "outputs": [],
   "source": [
    "## However these 2 records have same Sequence,Organism and Gene Name"
   ]
  },
  {
   "cell_type": "code",
   "execution_count": 54,
   "id": "15904c29",
   "metadata": {},
   "outputs": [],
   "source": [
    "filt=(pi_gf.duplicated(['Sequence','OrganismID','GeneNames'], keep=False))"
   ]
  },
  {
   "cell_type": "code",
   "execution_count": 55,
   "id": "ab4a327d",
   "metadata": {},
   "outputs": [
    {
     "data": {
      "text/plain": [
       "2"
      ]
     },
     "execution_count": 55,
     "metadata": {},
     "output_type": "execute_result"
    }
   ],
   "source": [
    "filt.sum()"
   ]
  },
  {
   "cell_type": "code",
   "execution_count": 56,
   "id": "f08a17c4",
   "metadata": {},
   "outputs": [
    {
     "data": {
      "text/html": [
       "<div>\n",
       "<style scoped>\n",
       "    .dataframe tbody tr th:only-of-type {\n",
       "        vertical-align: middle;\n",
       "    }\n",
       "\n",
       "    .dataframe tbody tr th {\n",
       "        vertical-align: top;\n",
       "    }\n",
       "\n",
       "    .dataframe thead th {\n",
       "        text-align: right;\n",
       "    }\n",
       "</style>\n",
       "<table border=\"1\" class=\"dataframe\">\n",
       "  <thead>\n",
       "    <tr style=\"text-align: right;\">\n",
       "      <th></th>\n",
       "      <th>UniprotID</th>\n",
       "      <th>Sequence</th>\n",
       "      <th>GeneNames</th>\n",
       "      <th>OrganismID</th>\n",
       "      <th>Organism</th>\n",
       "      <th>Length</th>\n",
       "      <th>Mass</th>\n",
       "    </tr>\n",
       "  </thead>\n",
       "  <tbody>\n",
       "    <tr>\n",
       "      <th>0</th>\n",
       "      <td>P05119</td>\n",
       "      <td>MAVHKEVNFVAYLLIVLGMFLYVDAKACTRECGNLGFGICPRSEGS...</td>\n",
       "      <td>NaN</td>\n",
       "      <td>4081</td>\n",
       "      <td>Solanum lycopersicum (Tomato) (Lycopersicon es...</td>\n",
       "      <td>148</td>\n",
       "      <td>16,293</td>\n",
       "    </tr>\n",
       "    <tr>\n",
       "      <th>27</th>\n",
       "      <td>Q6H3X6</td>\n",
       "      <td>MAVHKEVNFVAYLLIVLGMFLYVDAKACTRECGNLGFGICPRSEGS...</td>\n",
       "      <td>NaN</td>\n",
       "      <td>4081</td>\n",
       "      <td>Solanum lycopersicum (Tomato) (Lycopersicon es...</td>\n",
       "      <td>148</td>\n",
       "      <td>16,293</td>\n",
       "    </tr>\n",
       "  </tbody>\n",
       "</table>\n",
       "</div>"
      ],
      "text/plain": [
       "   UniprotID                                           Sequence GeneNames  \\\n",
       "0     P05119  MAVHKEVNFVAYLLIVLGMFLYVDAKACTRECGNLGFGICPRSEGS...       NaN   \n",
       "27    Q6H3X6  MAVHKEVNFVAYLLIVLGMFLYVDAKACTRECGNLGFGICPRSEGS...       NaN   \n",
       "\n",
       "    OrganismID                                           Organism  Length  \\\n",
       "0         4081  Solanum lycopersicum (Tomato) (Lycopersicon es...     148   \n",
       "27        4081  Solanum lycopersicum (Tomato) (Lycopersicon es...     148   \n",
       "\n",
       "      Mass  \n",
       "0   16,293  \n",
       "27  16,293  "
      ]
     },
     "execution_count": 56,
     "metadata": {},
     "output_type": "execute_result"
    }
   ],
   "source": [
    "pi_gf.loc[filt,]"
   ]
  },
  {
   "cell_type": "code",
   "execution_count": 57,
   "id": "755e4240",
   "metadata": {},
   "outputs": [
    {
     "data": {
      "text/plain": [
       "2"
      ]
     },
     "execution_count": 57,
     "metadata": {},
     "output_type": "execute_result"
    }
   ],
   "source": [
    "uniprot.index.isin(['P05119','Q6H3X6']).sum()"
   ]
  },
  {
   "cell_type": "code",
   "execution_count": 58,
   "id": "37baed38",
   "metadata": {},
   "outputs": [
    {
     "data": {
      "text/html": [
       "<div>\n",
       "<style scoped>\n",
       "    .dataframe tbody tr th:only-of-type {\n",
       "        vertical-align: middle;\n",
       "    }\n",
       "\n",
       "    .dataframe tbody tr th {\n",
       "        vertical-align: top;\n",
       "    }\n",
       "\n",
       "    .dataframe thead th {\n",
       "        text-align: right;\n",
       "    }\n",
       "</style>\n",
       "<table border=\"1\" class=\"dataframe\">\n",
       "  <thead>\n",
       "    <tr style=\"text-align: right;\">\n",
       "      <th></th>\n",
       "      <th>Entry name</th>\n",
       "      <th>Status</th>\n",
       "      <th>Protein names</th>\n",
       "      <th>Gene names</th>\n",
       "      <th>Organism</th>\n",
       "      <th>Cross-reference (EMBL)</th>\n",
       "      <th>Length</th>\n",
       "      <th>Mass</th>\n",
       "      <th>Organism ID</th>\n",
       "      <th>Taxonomic lineage (ALL)</th>\n",
       "      <th>...</th>\n",
       "      <th>Transmembrane</th>\n",
       "      <th>Disulfide bond</th>\n",
       "      <th>PubMed ID</th>\n",
       "      <th>Mapped PubMed ID</th>\n",
       "      <th>Taxonomic lineage IDs</th>\n",
       "      <th>Taxonomic lineage (all)</th>\n",
       "      <th>Cross-reference (InterPro)</th>\n",
       "      <th>Cross-reference (Pfam)</th>\n",
       "      <th>Cross-reference (MEROPS)</th>\n",
       "      <th>Signal peptide</th>\n",
       "    </tr>\n",
       "    <tr>\n",
       "      <th>Entry</th>\n",
       "      <th></th>\n",
       "      <th></th>\n",
       "      <th></th>\n",
       "      <th></th>\n",
       "      <th></th>\n",
       "      <th></th>\n",
       "      <th></th>\n",
       "      <th></th>\n",
       "      <th></th>\n",
       "      <th></th>\n",
       "      <th></th>\n",
       "      <th></th>\n",
       "      <th></th>\n",
       "      <th></th>\n",
       "      <th></th>\n",
       "      <th></th>\n",
       "      <th></th>\n",
       "      <th></th>\n",
       "      <th></th>\n",
       "      <th></th>\n",
       "      <th></th>\n",
       "    </tr>\n",
       "  </thead>\n",
       "  <tbody>\n",
       "    <tr>\n",
       "      <th>P05119</th>\n",
       "      <td>IP21_SOLLC</td>\n",
       "      <td>reviewed</td>\n",
       "      <td>Wound-induced proteinase inhibitor 2 (Wound-in...</td>\n",
       "      <td>NaN</td>\n",
       "      <td>Solanum lycopersicum (Tomato) (Lycopersicon es...</td>\n",
       "      <td>K03291;</td>\n",
       "      <td>148</td>\n",
       "      <td>16,293</td>\n",
       "      <td>4081</td>\n",
       "      <td>cellular organisms, Eukaryota, Viridiplantae, ...</td>\n",
       "      <td>...</td>\n",
       "      <td>NaN</td>\n",
       "      <td>DISULFID 28..116; DISULFID 32..112; DISULFID 4...</td>\n",
       "      <td>3838986; 12684499</td>\n",
       "      <td>3838986; 12684499; 12788916</td>\n",
       "      <td>4081</td>\n",
       "      <td>cellular organisms, Eukaryota, Viridiplantae, ...</td>\n",
       "      <td>IPR003465;</td>\n",
       "      <td>PF02428;</td>\n",
       "      <td>I20.003;</td>\n",
       "      <td>SIGNAL 1..25</td>\n",
       "    </tr>\n",
       "    <tr>\n",
       "      <th>Q6H3X6</th>\n",
       "      <td>Q6H3X6_SOLLC</td>\n",
       "      <td>unreviewed</td>\n",
       "      <td>Protease inhibitor II (Proteinase inhibitor II)</td>\n",
       "      <td>NaN</td>\n",
       "      <td>Solanum lycopersicum (Tomato) (Lycopersicon es...</td>\n",
       "      <td>AY007240;AY129402;AB110700;</td>\n",
       "      <td>148</td>\n",
       "      <td>16,293</td>\n",
       "      <td>4081</td>\n",
       "      <td>cellular organisms, Eukaryota, Viridiplantae, ...</td>\n",
       "      <td>...</td>\n",
       "      <td>NaN</td>\n",
       "      <td>NaN</td>\n",
       "      <td>15191748;</td>\n",
       "      <td>NaN</td>\n",
       "      <td>4081</td>\n",
       "      <td>cellular organisms, Eukaryota, Viridiplantae, ...</td>\n",
       "      <td>IPR003465;</td>\n",
       "      <td>PF02428;</td>\n",
       "      <td>I20.003;</td>\n",
       "      <td>SIGNAL 1..25;  /evidence=\"ECO:0000256|SAM:Sign...</td>\n",
       "    </tr>\n",
       "  </tbody>\n",
       "</table>\n",
       "<p>2 rows × 33 columns</p>\n",
       "</div>"
      ],
      "text/plain": [
       "          Entry name      Status  \\\n",
       "Entry                              \n",
       "P05119    IP21_SOLLC    reviewed   \n",
       "Q6H3X6  Q6H3X6_SOLLC  unreviewed   \n",
       "\n",
       "                                            Protein names Gene names  \\\n",
       "Entry                                                                  \n",
       "P05119  Wound-induced proteinase inhibitor 2 (Wound-in...        NaN   \n",
       "Q6H3X6    Protease inhibitor II (Proteinase inhibitor II)        NaN   \n",
       "\n",
       "                                                 Organism  \\\n",
       "Entry                                                       \n",
       "P05119  Solanum lycopersicum (Tomato) (Lycopersicon es...   \n",
       "Q6H3X6  Solanum lycopersicum (Tomato) (Lycopersicon es...   \n",
       "\n",
       "             Cross-reference (EMBL)  Length    Mass  Organism ID  \\\n",
       "Entry                                                              \n",
       "P05119                      K03291;     148  16,293         4081   \n",
       "Q6H3X6  AY007240;AY129402;AB110700;     148  16,293         4081   \n",
       "\n",
       "                                  Taxonomic lineage (ALL)  ... Transmembrane  \\\n",
       "Entry                                                      ...                 \n",
       "P05119  cellular organisms, Eukaryota, Viridiplantae, ...  ...           NaN   \n",
       "Q6H3X6  cellular organisms, Eukaryota, Viridiplantae, ...  ...           NaN   \n",
       "\n",
       "                                           Disulfide bond          PubMed ID  \\\n",
       "Entry                                                                          \n",
       "P05119  DISULFID 28..116; DISULFID 32..112; DISULFID 4...  3838986; 12684499   \n",
       "Q6H3X6                                                NaN         15191748;    \n",
       "\n",
       "                   Mapped PubMed ID Taxonomic lineage IDs  \\\n",
       "Entry                                                       \n",
       "P05119  3838986; 12684499; 12788916                  4081   \n",
       "Q6H3X6                          NaN                  4081   \n",
       "\n",
       "                                  Taxonomic lineage (all)  \\\n",
       "Entry                                                       \n",
       "P05119  cellular organisms, Eukaryota, Viridiplantae, ...   \n",
       "Q6H3X6  cellular organisms, Eukaryota, Viridiplantae, ...   \n",
       "\n",
       "       Cross-reference (InterPro)  Cross-reference (Pfam)  \\\n",
       "Entry                                                       \n",
       "P05119                 IPR003465;                PF02428;   \n",
       "Q6H3X6                 IPR003465;                PF02428;   \n",
       "\n",
       "       Cross-reference (MEROPS)  \\\n",
       "Entry                             \n",
       "P05119                 I20.003;   \n",
       "Q6H3X6                 I20.003;   \n",
       "\n",
       "                                           Signal peptide  \n",
       "Entry                                                      \n",
       "P05119                                       SIGNAL 1..25  \n",
       "Q6H3X6  SIGNAL 1..25;  /evidence=\"ECO:0000256|SAM:Sign...  \n",
       "\n",
       "[2 rows x 33 columns]"
      ]
     },
     "execution_count": 58,
     "metadata": {},
     "output_type": "execute_result"
    }
   ],
   "source": [
    "uniprot.loc[uniprot.index.isin(['P05119','Q6H3X6']),:]"
   ]
  },
  {
   "cell_type": "code",
   "execution_count": 59,
   "id": "24c56811",
   "metadata": {},
   "outputs": [
    {
     "data": {
      "text/plain": [
       "UniprotID     452\n",
       "Sequence      452\n",
       "GeneNames     301\n",
       "OrganismID    452\n",
       "Organism      452\n",
       "Length        452\n",
       "Mass          452\n",
       "dtype: int64"
      ]
     },
     "execution_count": 59,
     "metadata": {},
     "output_type": "execute_result"
    }
   ],
   "source": [
    "pi_gf.count()"
   ]
  },
  {
   "cell_type": "code",
   "execution_count": 60,
   "id": "18bf1642",
   "metadata": {},
   "outputs": [
    {
     "data": {
      "text/plain": [
       "265"
      ]
     },
     "execution_count": 60,
     "metadata": {},
     "output_type": "execute_result"
    }
   ],
   "source": [
    "pi_gf.GeneNames.nunique()"
   ]
  },
  {
   "cell_type": "markdown",
   "id": "0f0a3d6e",
   "metadata": {},
   "source": [
    "## Preparing Organism Information"
   ]
  },
  {
   "cell_type": "code",
   "execution_count": 61,
   "id": "5ab65423",
   "metadata": {},
   "outputs": [
    {
     "data": {
      "text/plain": [
       "125"
      ]
     },
     "execution_count": 61,
     "metadata": {},
     "output_type": "execute_result"
    }
   ],
   "source": [
    "pi_gf.OrganismID.nunique()"
   ]
  },
  {
   "cell_type": "code",
   "execution_count": 62,
   "id": "c7c36f9b",
   "metadata": {},
   "outputs": [
    {
     "data": {
      "text/plain": [
       "125"
      ]
     },
     "execution_count": 62,
     "metadata": {},
     "output_type": "execute_result"
    }
   ],
   "source": [
    "pi_gf.Organism.nunique()"
   ]
  },
  {
   "cell_type": "code",
   "execution_count": 63,
   "id": "1828833e",
   "metadata": {},
   "outputs": [
    {
     "data": {
      "text/plain": [
       "array(['Solanum lycopersicum (Tomato) (Lycopersicon esculentum)',\n",
       "       'Solanum tuberosum (Potato)', 'Capsicum annuum (Capsicum pepper)',\n",
       "       'Solanum melongena (Eggplant) (Aubergine)',\n",
       "       'Nicotiana tabacum (Common tobacco)',\n",
       "       'Camellia sinensis var. sinensis',\n",
       "       'Daucus carota subsp. sativus (Carrot)',\n",
       "       'Populus alba (White poplar)',\n",
       "       'Lupinus angustifolius (Narrow-leaved blue lupine)',\n",
       "       'Arabidopsis thaliana (Mouse-ear cress)',\n",
       "       'Salix viminalis (Common osier) (Basket willow)',\n",
       "       'Zea mays (Maize)', 'Ananas comosus (Pineapple) (Ananas ananas)',\n",
       "       'Prunus yedoensis var. nudiflora', 'Triticum aestivum (Wheat)',\n",
       "       'Brassica campestris (Field mustard)',\n",
       "       'Solanum nigrum (Black nightshade)',\n",
       "       'Lupinus albus (White lupine) (Lupinus termis)',\n",
       "       'Brachypodium distachyon (Purple false brome) (Trachynia distachya)',\n",
       "       'Nicotiana sylvestris (Wood tobacco) (South American tobacco)',\n",
       "       'Prunus persica (Peach) (Amygdalus persica)',\n",
       "       'Panicum hallii var. hallii',\n",
       "       'Triticum turgidum subsp. durum (Durum wheat) (Triticum durum)',\n",
       "       'Rosa chinensis (China rose)', 'Microthlaspi erraticum',\n",
       "       'Mucuna pruriens (Velvet bean) (Dolichos pruriens)',\n",
       "       'Genlisea aurea', 'Parasponia andersonii (Sponia andersonii)',\n",
       "       'Morella rubra', 'Oryza barthii',\n",
       "       'Brassica rapa subsp. pekinensis (Chinese cabbage) (Brassica pekinensis)',\n",
       "       'Ricinus communis (Castor bean)', 'Nicotiana spegazzinii',\n",
       "       'Brassica oleracea (Wild cabbage)',\n",
       "       'Oryza meyeriana var. granulata',\n",
       "       'Oryza glaberrima (African rice)',\n",
       "       'Aegilops tauschii subsp. strangulata (Goatgrass)',\n",
       "       'Atropa belladonna (Belladonna) (Deadly nightshade)',\n",
       "       'Coffea arabica (Arabian coffee)',\n",
       "       'Oryza rufipogon (Brownbeard rice) (Asian wild rice)',\n",
       "       'Selaginella moellendorffii (Spikemoss)',\n",
       "       'Prunus dulcis (Almond) (Amygdalus dulcis)', 'Nicotiana simulans',\n",
       "       'Vitis vinifera (Grape)', 'Nicotiana umbratica',\n",
       "       'Carpinus fangiana', 'Nicotiana linearis', 'Clostridia bacterium',\n",
       "       'Setaria italica (Foxtail millet) (Panicum italicum)',\n",
       "       'Solanum chilense (Tomato) (Lycopersicon chilense)',\n",
       "       'Nicotiana attenuata (Coyote tobacco)', 'Nicotiana obtusifolia',\n",
       "       'Apium graveolens (Celery)',\n",
       "       'Nicotiana occidentalis subsp. hesperis',\n",
       "       'Arachis hypogaea (Peanut)',\n",
       "       'Hevea brasiliensis (Para rubber tree) (Siphonia brasiliensis)',\n",
       "       'Eragrostis curvula (weeping love grass)', 'Nicotiana miersii',\n",
       "       'Cuscuta campestris',\n",
       "       'Manihot esculenta (Cassava) (Jatropha manihot)',\n",
       "       'Nicotiana megalosiphon', 'Oryza meridionalis',\n",
       "       'Populus trichocarpa (Western balsam poplar) (Populus balsamifera subsp. trichocarpa)',\n",
       "       'Cicer arietinum (Chickpea) (Garbanzo)',\n",
       "       'Brassica cretica (Mustard)',\n",
       "       'Arabidopsis lyrata subsp. lyrata (Lyre-leaved rock-cress)',\n",
       "       'Nicotiana pauciflora', 'Oryza sativa subsp. indica (Rice)',\n",
       "       'Noccaea caerulescens (Alpine penny-cress) (Thlaspi caerulescens)',\n",
       "       'Capsicum chinense (Scotch bonnet) (Bonnet pepper)',\n",
       "       'Dorcoceras hygrometricum', 'Fagus sylvatica (Beechnut)',\n",
       "       'Saccharum hybrid cultivar R570', 'Punica granatum (Pomegranate)',\n",
       "       'Oryza sativa subsp. japonica (Rice)',\n",
       "       'Raphanus sativus (Radish) (Raphanus raphanistrum var. sativus)',\n",
       "       \"Aegilops tauschii (Tausch's goatgrass) (Aegilops squarrosa)\",\n",
       "       'Nicotiana clevelandii (Wild tobacco)',\n",
       "       'Panicum miliaceum (Proso millet) (Broomcorn millet)',\n",
       "       'Nicotiana corymbosa', 'Eucalyptus grandis (Flooded gum)',\n",
       "       'Solanum americanum (American black nightshade) (Solanum nodiflorum)',\n",
       "       'Nicotiana alata (Winged tobacco) (Persian tobacco)',\n",
       "       'Nicotiana acuminata (Acuminate tobacco)',\n",
       "       'Oryza nivara (Indian wild rice) (Oryza sativa f. spontanea)',\n",
       "       'Setaria viridis (Green bristlegrass) (Setaria italica subsp. viridis)',\n",
       "       'Arachis duranensis (Wild peanut)',\n",
       "       'Nicotiana glutinosa (Tobacco)', 'Cuscuta australis',\n",
       "       'Olea europaea (Common olive)',\n",
       "       'Triticum urartu (Red wild einkorn) (Crithodium urartu)',\n",
       "       'Medicago truncatula (Barrel medic) (Medicago tribuloides)',\n",
       "       'Nicotiana quadrivalvis', 'Solanum phureja',\n",
       "       'Apostasia shenzhenica', 'Oryza punctata (Red rice)',\n",
       "       'Jatropha curcas (Barbados nut)',\n",
       "       'Sorghum bicolor (Sorghum) (Sorghum vulgare)',\n",
       "       'Capsicum baccatum (Peruvian pepper)',\n",
       "       'Spinacia oleracea (Spinach)', 'Handroanthus impetiginosus',\n",
       "       'Prunus armeniaca (Apricot) (Armeniaca vulgaris)',\n",
       "       'Solanum chacoense (Chaco potato)',\n",
       "       'Brassica oleracea var. oleracea', 'Capsella rubella',\n",
       "       'Erythranthe guttata (Yellow monkey flower) (Mimulus guttatus)',\n",
       "       'Panicum hallii', 'Coffea canephora (Robusta coffee)',\n",
       "       'Nicotiana rustica (Aztec tobacco)', 'Nicotiana benthamiana',\n",
       "       'Nicotiana repanda', 'Salix brachista', 'Dendrobium catenatum',\n",
       "       'Trema orientale (Charcoal tree) (Celtis orientalis)',\n",
       "       'Ananas comosus var. bracteatus', 'Dichanthelium oligosanthes',\n",
       "       'Musa balbisiana (Banana)', 'Nicotiana cavicola',\n",
       "       'Oryza brachyantha', 'Salvia splendens (Scarlet sage)',\n",
       "       'Durio zibethinus (Durian)', 'Morus notabilis',\n",
       "       'Hordeum vulgare subsp. vulgare (Domesticated barley)',\n",
       "       'Leersia perrieri', 'Oryza glumipatula'], dtype=object)"
      ]
     },
     "execution_count": 63,
     "metadata": {},
     "output_type": "execute_result"
    }
   ],
   "source": [
    "pi_gf.Organism.unique()"
   ]
  },
  {
   "cell_type": "code",
   "execution_count": 64,
   "id": "4a9204fa",
   "metadata": {},
   "outputs": [
    {
     "data": {
      "text/plain": [
       "327"
      ]
     },
     "execution_count": 64,
     "metadata": {},
     "output_type": "execute_result"
    }
   ],
   "source": [
    "pi_gf.Organism.duplicated().sum()"
   ]
  },
  {
   "cell_type": "code",
   "execution_count": 65,
   "id": "09d27a48",
   "metadata": {},
   "outputs": [
    {
     "data": {
      "text/plain": [
       "OrganismID    125\n",
       "Organism      125\n",
       "dtype: int64"
      ]
     },
     "execution_count": 65,
     "metadata": {},
     "output_type": "execute_result"
    }
   ],
   "source": [
    "pi_gf.loc[~pi_gf.Organism.duplicated(),['OrganismID','Organism']].count()"
   ]
  },
  {
   "cell_type": "markdown",
   "id": "1af2a99c",
   "metadata": {},
   "source": [
    "### Extracting the List of Unique Organism in a new file 3_Organism_UsedInUniprotData_125.csv"
   ]
  },
  {
   "cell_type": "code",
   "execution_count": 66,
   "id": "266f5fc0",
   "metadata": {},
   "outputs": [
    {
     "data": {
      "text/html": [
       "<div>\n",
       "<style scoped>\n",
       "    .dataframe tbody tr th:only-of-type {\n",
       "        vertical-align: middle;\n",
       "    }\n",
       "\n",
       "    .dataframe tbody tr th {\n",
       "        vertical-align: top;\n",
       "    }\n",
       "\n",
       "    .dataframe thead th {\n",
       "        text-align: right;\n",
       "    }\n",
       "</style>\n",
       "<table border=\"1\" class=\"dataframe\">\n",
       "  <thead>\n",
       "    <tr style=\"text-align: right;\">\n",
       "      <th></th>\n",
       "      <th>OrganismID</th>\n",
       "      <th>Organism</th>\n",
       "    </tr>\n",
       "  </thead>\n",
       "  <tbody>\n",
       "    <tr>\n",
       "      <th>53</th>\n",
       "      <td>3476</td>\n",
       "      <td>Parasponia andersonii (Sponia andersonii)</td>\n",
       "    </tr>\n",
       "    <tr>\n",
       "      <th>239</th>\n",
       "      <td>3562</td>\n",
       "      <td>Spinacia oleracea (Spinach)</td>\n",
       "    </tr>\n",
       "    <tr>\n",
       "      <th>122</th>\n",
       "      <td>3694</td>\n",
       "      <td>Populus trichocarpa (Western balsam poplar) (P...</td>\n",
       "    </tr>\n",
       "    <tr>\n",
       "      <th>20</th>\n",
       "      <td>3702</td>\n",
       "      <td>Arabidopsis thaliana (Mouse-ear cress)</td>\n",
       "    </tr>\n",
       "    <tr>\n",
       "      <th>30</th>\n",
       "      <td>3711</td>\n",
       "      <td>Brassica campestris (Field mustard)</td>\n",
       "    </tr>\n",
       "    <tr>\n",
       "      <th>...</th>\n",
       "      <td>...</td>\n",
       "      <td>...</td>\n",
       "    </tr>\n",
       "    <tr>\n",
       "      <th>39</th>\n",
       "      <td>1504633</td>\n",
       "      <td>Panicum hallii var. hallii</td>\n",
       "    </tr>\n",
       "    <tr>\n",
       "      <th>46</th>\n",
       "      <td>1685480</td>\n",
       "      <td>Microthlaspi erraticum</td>\n",
       "    </tr>\n",
       "    <tr>\n",
       "      <th>78</th>\n",
       "      <td>2044939</td>\n",
       "      <td>Clostridia bacterium</td>\n",
       "    </tr>\n",
       "    <tr>\n",
       "      <th>28</th>\n",
       "      <td>2094558</td>\n",
       "      <td>Prunus yedoensis var. nudiflora</td>\n",
       "    </tr>\n",
       "    <tr>\n",
       "      <th>332</th>\n",
       "      <td>2182728</td>\n",
       "      <td>Salix brachista</td>\n",
       "    </tr>\n",
       "  </tbody>\n",
       "</table>\n",
       "<p>125 rows × 2 columns</p>\n",
       "</div>"
      ],
      "text/plain": [
       "     OrganismID                                           Organism\n",
       "53         3476          Parasponia andersonii (Sponia andersonii)\n",
       "239        3562                        Spinacia oleracea (Spinach)\n",
       "122        3694  Populus trichocarpa (Western balsam poplar) (P...\n",
       "20         3702             Arabidopsis thaliana (Mouse-ear cress)\n",
       "30         3711                Brassica campestris (Field mustard)\n",
       "..          ...                                                ...\n",
       "39      1504633                         Panicum hallii var. hallii\n",
       "46      1685480                             Microthlaspi erraticum\n",
       "78      2044939                               Clostridia bacterium\n",
       "28      2094558                    Prunus yedoensis var. nudiflora\n",
       "332     2182728                                    Salix brachista\n",
       "\n",
       "[125 rows x 2 columns]"
      ]
     },
     "execution_count": 66,
     "metadata": {},
     "output_type": "execute_result"
    }
   ],
   "source": [
    "pi_gf.loc[~pi_gf.Organism.duplicated(),['OrganismID','Organism']].sort_values('OrganismID')"
   ]
  },
  {
   "cell_type": "code",
   "execution_count": null,
   "id": "e5ad4a7d",
   "metadata": {},
   "outputs": [],
   "source": [
    "## pi_gf.loc[~pi_gf.Organism.duplicated(),['OrganismID','Organism']].sort_values('OrganismID').to_csv('data/3_Organism_UsedInUniprotData_125.csv',index=False)"
   ]
  },
  {
   "cell_type": "markdown",
   "id": "83a3f823",
   "metadata": {},
   "source": [
    "#### Adding Solanaceae information"
   ]
  },
  {
   "cell_type": "code",
   "execution_count": 67,
   "id": "6969bd9e",
   "metadata": {},
   "outputs": [],
   "source": [
    "organism=pd.read_csv('data/Organisms.csv',usecols=('OrganismID','Solanaceae'))## From Old Organism file with Solanaceae info"
   ]
  },
  {
   "cell_type": "code",
   "execution_count": 68,
   "id": "c0959b11",
   "metadata": {},
   "outputs": [
    {
     "data": {
      "text/html": [
       "<div>\n",
       "<style scoped>\n",
       "    .dataframe tbody tr th:only-of-type {\n",
       "        vertical-align: middle;\n",
       "    }\n",
       "\n",
       "    .dataframe tbody tr th {\n",
       "        vertical-align: top;\n",
       "    }\n",
       "\n",
       "    .dataframe thead th {\n",
       "        text-align: right;\n",
       "    }\n",
       "</style>\n",
       "<table border=\"1\" class=\"dataframe\">\n",
       "  <thead>\n",
       "    <tr style=\"text-align: right;\">\n",
       "      <th></th>\n",
       "      <th>OrganismID</th>\n",
       "      <th>Solanaceae</th>\n",
       "    </tr>\n",
       "  </thead>\n",
       "  <tbody>\n",
       "    <tr>\n",
       "      <th>0</th>\n",
       "      <td>3476</td>\n",
       "      <td>0</td>\n",
       "    </tr>\n",
       "    <tr>\n",
       "      <th>1</th>\n",
       "      <td>3562</td>\n",
       "      <td>0</td>\n",
       "    </tr>\n",
       "  </tbody>\n",
       "</table>\n",
       "</div>"
      ],
      "text/plain": [
       "   OrganismID  Solanaceae\n",
       "0        3476           0\n",
       "1        3562           0"
      ]
     },
     "execution_count": 68,
     "metadata": {},
     "output_type": "execute_result"
    }
   ],
   "source": [
    "organism.head(2)"
   ]
  },
  {
   "cell_type": "code",
   "execution_count": 69,
   "id": "253dfd01",
   "metadata": {},
   "outputs": [
    {
     "data": {
      "text/plain": [
       "OrganismID    109\n",
       "Solanaceae    109\n",
       "dtype: int64"
      ]
     },
     "execution_count": 69,
     "metadata": {},
     "output_type": "execute_result"
    }
   ],
   "source": [
    "organism.count()"
   ]
  },
  {
   "cell_type": "code",
   "execution_count": 70,
   "id": "54ad7e58",
   "metadata": {},
   "outputs": [
    {
     "data": {
      "text/plain": [
       "0    76\n",
       "1    33\n",
       "Name: Solanaceae, dtype: int64"
      ]
     },
     "execution_count": 70,
     "metadata": {},
     "output_type": "execute_result"
    }
   ],
   "source": [
    "organism.Solanaceae.value_counts()"
   ]
  },
  {
   "cell_type": "code",
   "execution_count": 71,
   "id": "6b877012",
   "metadata": {},
   "outputs": [],
   "source": [
    "uniprot_organism=pd.read_csv('data/3_Organism_UsedInUniprotData_125.csv')"
   ]
  },
  {
   "cell_type": "code",
   "execution_count": 72,
   "id": "219d44f6",
   "metadata": {},
   "outputs": [
    {
     "data": {
      "text/plain": [
       "OrganismID    125\n",
       "Organism      125\n",
       "dtype: int64"
      ]
     },
     "execution_count": 72,
     "metadata": {},
     "output_type": "execute_result"
    }
   ],
   "source": [
    "uniprot_organism.count()"
   ]
  },
  {
   "cell_type": "code",
   "execution_count": 73,
   "id": "20c33fd2",
   "metadata": {},
   "outputs": [
    {
     "data": {
      "text/html": [
       "<div>\n",
       "<style scoped>\n",
       "    .dataframe tbody tr th:only-of-type {\n",
       "        vertical-align: middle;\n",
       "    }\n",
       "\n",
       "    .dataframe tbody tr th {\n",
       "        vertical-align: top;\n",
       "    }\n",
       "\n",
       "    .dataframe thead th {\n",
       "        text-align: right;\n",
       "    }\n",
       "</style>\n",
       "<table border=\"1\" class=\"dataframe\">\n",
       "  <thead>\n",
       "    <tr style=\"text-align: right;\">\n",
       "      <th></th>\n",
       "      <th>OrganismID</th>\n",
       "      <th>Organism</th>\n",
       "      <th>Solanaceae</th>\n",
       "    </tr>\n",
       "  </thead>\n",
       "  <tbody>\n",
       "    <tr>\n",
       "      <th>0</th>\n",
       "      <td>3476</td>\n",
       "      <td>Parasponia andersonii (Sponia andersonii)</td>\n",
       "      <td>0.0</td>\n",
       "    </tr>\n",
       "    <tr>\n",
       "      <th>1</th>\n",
       "      <td>3562</td>\n",
       "      <td>Spinacia oleracea (Spinach)</td>\n",
       "      <td>0.0</td>\n",
       "    </tr>\n",
       "    <tr>\n",
       "      <th>2</th>\n",
       "      <td>3694</td>\n",
       "      <td>Populus trichocarpa (Western balsam poplar) (P...</td>\n",
       "      <td>0.0</td>\n",
       "    </tr>\n",
       "    <tr>\n",
       "      <th>3</th>\n",
       "      <td>3702</td>\n",
       "      <td>Arabidopsis thaliana (Mouse-ear cress)</td>\n",
       "      <td>0.0</td>\n",
       "    </tr>\n",
       "    <tr>\n",
       "      <th>4</th>\n",
       "      <td>3711</td>\n",
       "      <td>Brassica campestris (Field mustard)</td>\n",
       "      <td>0.0</td>\n",
       "    </tr>\n",
       "    <tr>\n",
       "      <th>...</th>\n",
       "      <td>...</td>\n",
       "      <td>...</td>\n",
       "      <td>...</td>\n",
       "    </tr>\n",
       "    <tr>\n",
       "      <th>120</th>\n",
       "      <td>1504633</td>\n",
       "      <td>Panicum hallii var. hallii</td>\n",
       "      <td>0.0</td>\n",
       "    </tr>\n",
       "    <tr>\n",
       "      <th>121</th>\n",
       "      <td>1685480</td>\n",
       "      <td>Microthlaspi erraticum</td>\n",
       "      <td>NaN</td>\n",
       "    </tr>\n",
       "    <tr>\n",
       "      <th>122</th>\n",
       "      <td>2044939</td>\n",
       "      <td>Clostridia bacterium</td>\n",
       "      <td>NaN</td>\n",
       "    </tr>\n",
       "    <tr>\n",
       "      <th>123</th>\n",
       "      <td>2094558</td>\n",
       "      <td>Prunus yedoensis var. nudiflora</td>\n",
       "      <td>0.0</td>\n",
       "    </tr>\n",
       "    <tr>\n",
       "      <th>124</th>\n",
       "      <td>2182728</td>\n",
       "      <td>Salix brachista</td>\n",
       "      <td>NaN</td>\n",
       "    </tr>\n",
       "  </tbody>\n",
       "</table>\n",
       "<p>125 rows × 3 columns</p>\n",
       "</div>"
      ],
      "text/plain": [
       "     OrganismID                                           Organism  Solanaceae\n",
       "0          3476          Parasponia andersonii (Sponia andersonii)         0.0\n",
       "1          3562                        Spinacia oleracea (Spinach)         0.0\n",
       "2          3694  Populus trichocarpa (Western balsam poplar) (P...         0.0\n",
       "3          3702             Arabidopsis thaliana (Mouse-ear cress)         0.0\n",
       "4          3711                Brassica campestris (Field mustard)         0.0\n",
       "..          ...                                                ...         ...\n",
       "120     1504633                         Panicum hallii var. hallii         0.0\n",
       "121     1685480                             Microthlaspi erraticum         NaN\n",
       "122     2044939                               Clostridia bacterium         NaN\n",
       "123     2094558                    Prunus yedoensis var. nudiflora         0.0\n",
       "124     2182728                                    Salix brachista         NaN\n",
       "\n",
       "[125 rows x 3 columns]"
      ]
     },
     "execution_count": 73,
     "metadata": {},
     "output_type": "execute_result"
    }
   ],
   "source": [
    "pd.merge(uniprot_organism,organism,on='OrganismID',how='left')## Creating new Organism File with Solanaceae information"
   ]
  },
  {
   "cell_type": "code",
   "execution_count": null,
   "id": "1a273be1",
   "metadata": {},
   "outputs": [],
   "source": [
    "# pd.merge(uniprot_organism,organism,on='OrganismID',how='left').to_csv('data/4_OrganismsWithSolanaceaeInfo.csv',index=False)"
   ]
  },
  {
   "cell_type": "code",
   "execution_count": 74,
   "id": "6b9df16b",
   "metadata": {},
   "outputs": [],
   "source": [
    "organism=pd.read_csv('data/4_OrganismsWithSolanaceaeInfo.csv')## Reading from new updated Organism file"
   ]
  },
  {
   "cell_type": "code",
   "execution_count": 75,
   "id": "179c0a9c",
   "metadata": {},
   "outputs": [
    {
     "data": {
      "text/plain": [
       "OrganismID    125\n",
       "Organism      125\n",
       "Solanaceae    125\n",
       "dtype: int64"
      ]
     },
     "execution_count": 75,
     "metadata": {},
     "output_type": "execute_result"
    }
   ],
   "source": [
    "organism.count()"
   ]
  },
  {
   "cell_type": "code",
   "execution_count": 76,
   "id": "857e58f3",
   "metadata": {},
   "outputs": [
    {
     "data": {
      "text/plain": [
       "0    91\n",
       "1    34\n",
       "Name: Solanaceae, dtype: int64"
      ]
     },
     "execution_count": 76,
     "metadata": {},
     "output_type": "execute_result"
    }
   ],
   "source": [
    "organism.Solanaceae.value_counts()"
   ]
  },
  {
   "cell_type": "markdown",
   "id": "9356faa7",
   "metadata": {},
   "source": [
    "### Adding Genus and Species information to Organism Table"
   ]
  },
  {
   "cell_type": "code",
   "execution_count": null,
   "id": "85f707a7",
   "metadata": {},
   "outputs": [],
   "source": [
    "# Organism : Scientific Name (Common Name)(Synonym)\n",
    "# Example  : Erythranthe guttata (Yellow monkey flower) (Mimulus guttatus)\n",
    "\n",
    "# Species  : Scientific Name\n",
    "# Example  : Erythranthe guttata\n",
    "# Genus    : Erythranthe\n",
    "    \n",
    "# Plant    : Scientific Name (Common Name)(Synonym)\n",
    "# Example  : Erythranthe guttata (Yellow monkey flower) (Mimulus guttatus)"
   ]
  },
  {
   "cell_type": "code",
   "execution_count": 77,
   "id": "47d86558",
   "metadata": {},
   "outputs": [
    {
     "data": {
      "text/html": [
       "<div>\n",
       "<style scoped>\n",
       "    .dataframe tbody tr th:only-of-type {\n",
       "        vertical-align: middle;\n",
       "    }\n",
       "\n",
       "    .dataframe tbody tr th {\n",
       "        vertical-align: top;\n",
       "    }\n",
       "\n",
       "    .dataframe thead th {\n",
       "        text-align: right;\n",
       "    }\n",
       "</style>\n",
       "<table border=\"1\" class=\"dataframe\">\n",
       "  <thead>\n",
       "    <tr style=\"text-align: right;\">\n",
       "      <th></th>\n",
       "      <th>OrganismID</th>\n",
       "      <th>Organism</th>\n",
       "      <th>Solanaceae</th>\n",
       "    </tr>\n",
       "  </thead>\n",
       "  <tbody>\n",
       "    <tr>\n",
       "      <th>0</th>\n",
       "      <td>3476</td>\n",
       "      <td>Parasponia andersonii (Sponia andersonii)</td>\n",
       "      <td>0</td>\n",
       "    </tr>\n",
       "    <tr>\n",
       "      <th>1</th>\n",
       "      <td>3562</td>\n",
       "      <td>Spinacia oleracea (Spinach)</td>\n",
       "      <td>0</td>\n",
       "    </tr>\n",
       "  </tbody>\n",
       "</table>\n",
       "</div>"
      ],
      "text/plain": [
       "   OrganismID                                   Organism  Solanaceae\n",
       "0        3476  Parasponia andersonii (Sponia andersonii)           0\n",
       "1        3562                Spinacia oleracea (Spinach)           0"
      ]
     },
     "execution_count": 77,
     "metadata": {},
     "output_type": "execute_result"
    }
   ],
   "source": [
    "organism.head(2)"
   ]
  },
  {
   "cell_type": "code",
   "execution_count": 78,
   "id": "37a5d5d1",
   "metadata": {},
   "outputs": [],
   "source": [
    "organism['Genus']=organism['Organism'].apply(lambda x:x.split()[0])"
   ]
  },
  {
   "cell_type": "code",
   "execution_count": 79,
   "id": "f8ef976c",
   "metadata": {},
   "outputs": [
    {
     "data": {
      "text/html": [
       "<div>\n",
       "<style scoped>\n",
       "    .dataframe tbody tr th:only-of-type {\n",
       "        vertical-align: middle;\n",
       "    }\n",
       "\n",
       "    .dataframe tbody tr th {\n",
       "        vertical-align: top;\n",
       "    }\n",
       "\n",
       "    .dataframe thead th {\n",
       "        text-align: right;\n",
       "    }\n",
       "</style>\n",
       "<table border=\"1\" class=\"dataframe\">\n",
       "  <thead>\n",
       "    <tr style=\"text-align: right;\">\n",
       "      <th></th>\n",
       "      <th>OrganismID</th>\n",
       "      <th>Organism</th>\n",
       "      <th>Solanaceae</th>\n",
       "      <th>Genus</th>\n",
       "    </tr>\n",
       "  </thead>\n",
       "  <tbody>\n",
       "    <tr>\n",
       "      <th>0</th>\n",
       "      <td>3476</td>\n",
       "      <td>Parasponia andersonii (Sponia andersonii)</td>\n",
       "      <td>0</td>\n",
       "      <td>Parasponia</td>\n",
       "    </tr>\n",
       "    <tr>\n",
       "      <th>1</th>\n",
       "      <td>3562</td>\n",
       "      <td>Spinacia oleracea (Spinach)</td>\n",
       "      <td>0</td>\n",
       "      <td>Spinacia</td>\n",
       "    </tr>\n",
       "  </tbody>\n",
       "</table>\n",
       "</div>"
      ],
      "text/plain": [
       "   OrganismID                                   Organism  Solanaceae  \\\n",
       "0        3476  Parasponia andersonii (Sponia andersonii)           0   \n",
       "1        3562                Spinacia oleracea (Spinach)           0   \n",
       "\n",
       "        Genus  \n",
       "0  Parasponia  \n",
       "1    Spinacia  "
      ]
     },
     "execution_count": 79,
     "metadata": {},
     "output_type": "execute_result"
    }
   ],
   "source": [
    "organism.head(2)"
   ]
  },
  {
   "cell_type": "code",
   "execution_count": 80,
   "id": "f669abce",
   "metadata": {},
   "outputs": [],
   "source": [
    "organism['Species']=organism['Organism'].apply(lambda x:x.split('(')[0])"
   ]
  },
  {
   "cell_type": "code",
   "execution_count": 81,
   "id": "b4d0699b",
   "metadata": {},
   "outputs": [
    {
     "data": {
      "text/html": [
       "<div>\n",
       "<style scoped>\n",
       "    .dataframe tbody tr th:only-of-type {\n",
       "        vertical-align: middle;\n",
       "    }\n",
       "\n",
       "    .dataframe tbody tr th {\n",
       "        vertical-align: top;\n",
       "    }\n",
       "\n",
       "    .dataframe thead th {\n",
       "        text-align: right;\n",
       "    }\n",
       "</style>\n",
       "<table border=\"1\" class=\"dataframe\">\n",
       "  <thead>\n",
       "    <tr style=\"text-align: right;\">\n",
       "      <th></th>\n",
       "      <th>OrganismID</th>\n",
       "      <th>Organism</th>\n",
       "      <th>Solanaceae</th>\n",
       "      <th>Genus</th>\n",
       "      <th>Species</th>\n",
       "    </tr>\n",
       "  </thead>\n",
       "  <tbody>\n",
       "    <tr>\n",
       "      <th>0</th>\n",
       "      <td>3476</td>\n",
       "      <td>Parasponia andersonii (Sponia andersonii)</td>\n",
       "      <td>0</td>\n",
       "      <td>Parasponia</td>\n",
       "      <td>Parasponia andersonii</td>\n",
       "    </tr>\n",
       "    <tr>\n",
       "      <th>1</th>\n",
       "      <td>3562</td>\n",
       "      <td>Spinacia oleracea (Spinach)</td>\n",
       "      <td>0</td>\n",
       "      <td>Spinacia</td>\n",
       "      <td>Spinacia oleracea</td>\n",
       "    </tr>\n",
       "  </tbody>\n",
       "</table>\n",
       "</div>"
      ],
      "text/plain": [
       "   OrganismID                                   Organism  Solanaceae  \\\n",
       "0        3476  Parasponia andersonii (Sponia andersonii)           0   \n",
       "1        3562                Spinacia oleracea (Spinach)           0   \n",
       "\n",
       "        Genus                 Species  \n",
       "0  Parasponia  Parasponia andersonii   \n",
       "1    Spinacia      Spinacia oleracea   "
      ]
     },
     "execution_count": 81,
     "metadata": {},
     "output_type": "execute_result"
    }
   ],
   "source": [
    "organism.head(2)"
   ]
  },
  {
   "cell_type": "code",
   "execution_count": null,
   "id": "3510b754",
   "metadata": {},
   "outputs": [],
   "source": [
    "## Creating the Master Organism file 5_Organisms.csv"
   ]
  },
  {
   "cell_type": "code",
   "execution_count": null,
   "id": "354dee8a",
   "metadata": {},
   "outputs": [],
   "source": [
    "# organism[['OrganismID','Organism','Genus','Species','Solanaceae']].to_csv('data/5_Organisms.csv',index=False)"
   ]
  },
  {
   "cell_type": "code",
   "execution_count": 82,
   "id": "6b6cca48",
   "metadata": {},
   "outputs": [],
   "source": [
    "organism=pd.read_csv('data/5_Organisms.csv')"
   ]
  },
  {
   "cell_type": "code",
   "execution_count": 83,
   "id": "4824d978",
   "metadata": {},
   "outputs": [
    {
     "data": {
      "text/html": [
       "<div>\n",
       "<style scoped>\n",
       "    .dataframe tbody tr th:only-of-type {\n",
       "        vertical-align: middle;\n",
       "    }\n",
       "\n",
       "    .dataframe tbody tr th {\n",
       "        vertical-align: top;\n",
       "    }\n",
       "\n",
       "    .dataframe thead th {\n",
       "        text-align: right;\n",
       "    }\n",
       "</style>\n",
       "<table border=\"1\" class=\"dataframe\">\n",
       "  <thead>\n",
       "    <tr style=\"text-align: right;\">\n",
       "      <th></th>\n",
       "      <th>OrganismID</th>\n",
       "      <th>Organism</th>\n",
       "      <th>Genus</th>\n",
       "      <th>Species</th>\n",
       "      <th>Solanaceae</th>\n",
       "    </tr>\n",
       "  </thead>\n",
       "  <tbody>\n",
       "    <tr>\n",
       "      <th>0</th>\n",
       "      <td>3476</td>\n",
       "      <td>Parasponia andersonii (Sponia andersonii)</td>\n",
       "      <td>Parasponia</td>\n",
       "      <td>Parasponia andersonii</td>\n",
       "      <td>0</td>\n",
       "    </tr>\n",
       "    <tr>\n",
       "      <th>1</th>\n",
       "      <td>3562</td>\n",
       "      <td>Spinacia oleracea (Spinach)</td>\n",
       "      <td>Spinacia</td>\n",
       "      <td>Spinacia oleracea</td>\n",
       "      <td>0</td>\n",
       "    </tr>\n",
       "    <tr>\n",
       "      <th>2</th>\n",
       "      <td>3694</td>\n",
       "      <td>Populus trichocarpa (Western balsam poplar) (P...</td>\n",
       "      <td>Populus</td>\n",
       "      <td>Populus trichocarpa</td>\n",
       "      <td>0</td>\n",
       "    </tr>\n",
       "    <tr>\n",
       "      <th>3</th>\n",
       "      <td>3702</td>\n",
       "      <td>Arabidopsis thaliana (Mouse-ear cress)</td>\n",
       "      <td>Arabidopsis</td>\n",
       "      <td>Arabidopsis thaliana</td>\n",
       "      <td>0</td>\n",
       "    </tr>\n",
       "    <tr>\n",
       "      <th>4</th>\n",
       "      <td>3711</td>\n",
       "      <td>Brassica campestris (Field mustard)</td>\n",
       "      <td>Brassica</td>\n",
       "      <td>Brassica campestris</td>\n",
       "      <td>0</td>\n",
       "    </tr>\n",
       "  </tbody>\n",
       "</table>\n",
       "</div>"
      ],
      "text/plain": [
       "   OrganismID                                           Organism        Genus  \\\n",
       "0        3476          Parasponia andersonii (Sponia andersonii)   Parasponia   \n",
       "1        3562                        Spinacia oleracea (Spinach)     Spinacia   \n",
       "2        3694  Populus trichocarpa (Western balsam poplar) (P...      Populus   \n",
       "3        3702             Arabidopsis thaliana (Mouse-ear cress)  Arabidopsis   \n",
       "4        3711                Brassica campestris (Field mustard)     Brassica   \n",
       "\n",
       "                  Species  Solanaceae  \n",
       "0  Parasponia andersonii            0  \n",
       "1      Spinacia oleracea            0  \n",
       "2    Populus trichocarpa            0  \n",
       "3   Arabidopsis thaliana            0  \n",
       "4    Brassica campestris            0  "
      ]
     },
     "execution_count": 83,
     "metadata": {},
     "output_type": "execute_result"
    }
   ],
   "source": [
    "organism.head()"
   ]
  },
  {
   "cell_type": "code",
   "execution_count": 84,
   "id": "23c6281c",
   "metadata": {},
   "outputs": [
    {
     "data": {
      "text/plain": [
       "125"
      ]
     },
     "execution_count": 84,
     "metadata": {},
     "output_type": "execute_result"
    }
   ],
   "source": [
    "organism.Organism.nunique()"
   ]
  },
  {
   "cell_type": "code",
   "execution_count": 85,
   "id": "e974f71a",
   "metadata": {},
   "outputs": [
    {
     "data": {
      "text/plain": [
       "64"
      ]
     },
     "execution_count": 85,
     "metadata": {},
     "output_type": "execute_result"
    }
   ],
   "source": [
    "organism.Genus.nunique()"
   ]
  },
  {
   "cell_type": "code",
   "execution_count": 86,
   "id": "bc70a442",
   "metadata": {},
   "outputs": [
    {
     "data": {
      "text/plain": [
       "125"
      ]
     },
     "execution_count": 86,
     "metadata": {},
     "output_type": "execute_result"
    }
   ],
   "source": [
    "organism.Species.nunique()"
   ]
  },
  {
   "cell_type": "code",
   "execution_count": 87,
   "id": "7f34ac11",
   "metadata": {},
   "outputs": [
    {
     "data": {
      "text/plain": [
       "0    91\n",
       "1    34\n",
       "Name: Solanaceae, dtype: int64"
      ]
     },
     "execution_count": 87,
     "metadata": {},
     "output_type": "execute_result"
    }
   ],
   "source": [
    "organism.Solanaceae.value_counts()"
   ]
  },
  {
   "cell_type": "markdown",
   "id": "3f29a804",
   "metadata": {},
   "source": [
    "# Domains (IRDs), RCL, Linkers, Target Protease"
   ]
  },
  {
   "cell_type": "markdown",
   "id": "63b8581c",
   "metadata": {},
   "source": [
    "## Domains (IRDs)"
   ]
  },
  {
   "cell_type": "code",
   "execution_count": 21,
   "id": "648f6666",
   "metadata": {},
   "outputs": [],
   "source": [
    "domains=pd.read_excel('data/PINIR_Domains.xlsx')"
   ]
  },
  {
   "cell_type": "code",
   "execution_count": 23,
   "id": "0144e25b",
   "metadata": {},
   "outputs": [
    {
     "data": {
      "text/html": [
       "<div>\n",
       "<style scoped>\n",
       "    .dataframe tbody tr th:only-of-type {\n",
       "        vertical-align: middle;\n",
       "    }\n",
       "\n",
       "    .dataframe tbody tr th {\n",
       "        vertical-align: top;\n",
       "    }\n",
       "\n",
       "    .dataframe thead th {\n",
       "        text-align: right;\n",
       "    }\n",
       "</style>\n",
       "<table border=\"1\" class=\"dataframe\">\n",
       "  <thead>\n",
       "    <tr style=\"text-align: right;\">\n",
       "      <th></th>\n",
       "      <th>DomainID</th>\n",
       "      <th>Sequence</th>\n",
       "      <th>variant</th>\n",
       "    </tr>\n",
       "  </thead>\n",
       "  <tbody>\n",
       "    <tr>\n",
       "      <th>0</th>\n",
       "      <td>IRD-1</td>\n",
       "      <td>QICINCCAGKKGCNYFSADGTFICEGESEYVSEVNDNLEKHCPRNC...</td>\n",
       "      <td>1</td>\n",
       "    </tr>\n",
       "    <tr>\n",
       "      <th>1</th>\n",
       "      <td>IRD-2</td>\n",
       "      <td>QICTNCCAGKKGCMYFSDDGTFICEGESEYVSEVPVDNKPCPRNCD...</td>\n",
       "      <td>1</td>\n",
       "    </tr>\n",
       "    <tr>\n",
       "      <th>2</th>\n",
       "      <td>IRD-3</td>\n",
       "      <td>QICTNCCAGKKGCMYFSNDGTFICEGESEYVSEVPVDNKPCPRNCD...</td>\n",
       "      <td>1</td>\n",
       "    </tr>\n",
       "    <tr>\n",
       "      <th>3</th>\n",
       "      <td>IRD-4</td>\n",
       "      <td>VGCTNCCSGTEGCNYYSANGTFICEGQTKKTIDETNKACPRNCNPR...</td>\n",
       "      <td>1</td>\n",
       "    </tr>\n",
       "    <tr>\n",
       "      <th>4</th>\n",
       "      <td>IRD-5</td>\n",
       "      <td>LGCTNCCAGSLGCNYYSANGTFICEGESEIKVETIETEVETMVEPN...</td>\n",
       "      <td>1</td>\n",
       "    </tr>\n",
       "  </tbody>\n",
       "</table>\n",
       "</div>"
      ],
      "text/plain": [
       "  DomainID                                           Sequence  variant\n",
       "0    IRD-1  QICINCCAGKKGCNYFSADGTFICEGESEYVSEVNDNLEKHCPRNC...        1\n",
       "1    IRD-2  QICTNCCAGKKGCMYFSDDGTFICEGESEYVSEVPVDNKPCPRNCD...        1\n",
       "2    IRD-3  QICTNCCAGKKGCMYFSNDGTFICEGESEYVSEVPVDNKPCPRNCD...        1\n",
       "3    IRD-4  VGCTNCCSGTEGCNYYSANGTFICEGQTKKTIDETNKACPRNCNPR...        1\n",
       "4    IRD-5  LGCTNCCAGSLGCNYYSANGTFICEGESEIKVETIETEVETMVEPN...        1"
      ]
     },
     "execution_count": 23,
     "metadata": {},
     "output_type": "execute_result"
    }
   ],
   "source": [
    "domains.head()"
   ]
  },
  {
   "cell_type": "code",
   "execution_count": 24,
   "id": "de082502",
   "metadata": {},
   "outputs": [
    {
     "data": {
      "text/plain": [
       "DomainID    698\n",
       "Sequence    698\n",
       "variant     698\n",
       "dtype: int64"
      ]
     },
     "execution_count": 24,
     "metadata": {},
     "output_type": "execute_result"
    }
   ],
   "source": [
    "domains.count()"
   ]
  },
  {
   "cell_type": "code",
   "execution_count": 25,
   "id": "fd203930",
   "metadata": {},
   "outputs": [
    {
     "data": {
      "text/plain": [
       "0"
      ]
     },
     "execution_count": 25,
     "metadata": {},
     "output_type": "execute_result"
    }
   ],
   "source": [
    "domains.Sequence.duplicated().sum()"
   ]
  },
  {
   "cell_type": "code",
   "execution_count": 26,
   "id": "654dfc6f",
   "metadata": {},
   "outputs": [
    {
     "data": {
      "text/plain": [
       "2    420\n",
       "1    278\n",
       "Name: variant, dtype: int64"
      ]
     },
     "execution_count": 26,
     "metadata": {},
     "output_type": "execute_result"
    }
   ],
   "source": [
    "domains.variant.value_counts()"
   ]
  },
  {
   "cell_type": "code",
   "execution_count": 29,
   "id": "a1744a84",
   "metadata": {},
   "outputs": [],
   "source": [
    "## Creating Domains File 6_Domains.csv"
   ]
  },
  {
   "cell_type": "code",
   "execution_count": 30,
   "id": "4a3f1060",
   "metadata": {},
   "outputs": [],
   "source": [
    "# domains.to_csv('data/6_Domains.csv',index=False)"
   ]
  },
  {
   "cell_type": "markdown",
   "id": "34104469",
   "metadata": {},
   "source": [
    "## RCL and Target Protease"
   ]
  },
  {
   "cell_type": "code",
   "execution_count": 27,
   "id": "40e1d661",
   "metadata": {},
   "outputs": [],
   "source": [
    "rcl_tp=pd.read_excel('data/PINIR_RCL.xlsx')"
   ]
  },
  {
   "cell_type": "code",
   "execution_count": 28,
   "id": "14c1b979",
   "metadata": {},
   "outputs": [
    {
     "data": {
      "text/html": [
       "<div>\n",
       "<style scoped>\n",
       "    .dataframe tbody tr th:only-of-type {\n",
       "        vertical-align: middle;\n",
       "    }\n",
       "\n",
       "    .dataframe tbody tr th {\n",
       "        vertical-align: top;\n",
       "    }\n",
       "\n",
       "    .dataframe thead th {\n",
       "        text-align: right;\n",
       "    }\n",
       "</style>\n",
       "<table border=\"1\" class=\"dataframe\">\n",
       "  <thead>\n",
       "    <tr style=\"text-align: right;\">\n",
       "      <th></th>\n",
       "      <th>RclID</th>\n",
       "      <th>Rcl</th>\n",
       "      <th>targetProtease</th>\n",
       "      <th>tpID</th>\n",
       "    </tr>\n",
       "  </thead>\n",
       "  <tbody>\n",
       "    <tr>\n",
       "      <th>0</th>\n",
       "      <td>RL-1</td>\n",
       "      <td>CPRNC</td>\n",
       "      <td>Trypsin</td>\n",
       "      <td>TP-1</td>\n",
       "    </tr>\n",
       "    <tr>\n",
       "      <th>1</th>\n",
       "      <td>RL-2</td>\n",
       "      <td>CPLNC</td>\n",
       "      <td>Chymotrypsin</td>\n",
       "      <td>TP-2</td>\n",
       "    </tr>\n",
       "    <tr>\n",
       "      <th>2</th>\n",
       "      <td>RL-3</td>\n",
       "      <td>CTLNC</td>\n",
       "      <td>Chymotrypsin</td>\n",
       "      <td>TP-2</td>\n",
       "    </tr>\n",
       "    <tr>\n",
       "      <th>3</th>\n",
       "      <td>RL-4</td>\n",
       "      <td>CTREC</td>\n",
       "      <td>Trypsin</td>\n",
       "      <td>TP-1</td>\n",
       "    </tr>\n",
       "    <tr>\n",
       "      <th>4</th>\n",
       "      <td>RL-5</td>\n",
       "      <td>CPFNC</td>\n",
       "      <td>Chymotrypsin</td>\n",
       "      <td>TP-2</td>\n",
       "    </tr>\n",
       "  </tbody>\n",
       "</table>\n",
       "</div>"
      ],
      "text/plain": [
       "  RclID    Rcl targetProtease  tpID\n",
       "0  RL-1  CPRNC        Trypsin  TP-1\n",
       "1  RL-2  CPLNC   Chymotrypsin  TP-2\n",
       "2  RL-3  CTLNC   Chymotrypsin  TP-2\n",
       "3  RL-4  CTREC        Trypsin  TP-1\n",
       "4  RL-5  CPFNC   Chymotrypsin  TP-2"
      ]
     },
     "execution_count": 28,
     "metadata": {},
     "output_type": "execute_result"
    }
   ],
   "source": [
    "rcl_tp.head()"
   ]
  },
  {
   "cell_type": "code",
   "execution_count": 31,
   "id": "b642c802",
   "metadata": {},
   "outputs": [
    {
     "data": {
      "text/plain": [
       "RclID             63\n",
       "Rcl               63\n",
       "targetProtease    63\n",
       "tpID              63\n",
       "dtype: int64"
      ]
     },
     "execution_count": 31,
     "metadata": {},
     "output_type": "execute_result"
    }
   ],
   "source": [
    "rcl_tp.count()"
   ]
  },
  {
   "cell_type": "code",
   "execution_count": 32,
   "id": "b0beaff4",
   "metadata": {},
   "outputs": [
    {
     "data": {
      "text/plain": [
       "0"
      ]
     },
     "execution_count": 32,
     "metadata": {},
     "output_type": "execute_result"
    }
   ],
   "source": [
    "rcl_tp.Rcl.duplicated().sum()"
   ]
  },
  {
   "cell_type": "code",
   "execution_count": 33,
   "id": "a63d8c4f",
   "metadata": {},
   "outputs": [
    {
     "data": {
      "text/plain": [
       "array(['Trypsin', 'Chymotrypsin', 'Unknown', 'Elastase'], dtype=object)"
      ]
     },
     "execution_count": 33,
     "metadata": {},
     "output_type": "execute_result"
    }
   ],
   "source": [
    "rcl_tp.targetProtease.unique()"
   ]
  },
  {
   "cell_type": "code",
   "execution_count": 34,
   "id": "82887b12",
   "metadata": {},
   "outputs": [
    {
     "data": {
      "text/plain": [
       "Unknown         25\n",
       "Chymotrypsin    20\n",
       "Trypsin         15\n",
       "Elastase         3\n",
       "Name: targetProtease, dtype: int64"
      ]
     },
     "execution_count": 34,
     "metadata": {},
     "output_type": "execute_result"
    }
   ],
   "source": [
    "rcl_tp.targetProtease.value_counts()"
   ]
  },
  {
   "cell_type": "code",
   "execution_count": 35,
   "id": "0842be45",
   "metadata": {},
   "outputs": [],
   "source": [
    "## Creating RCL File 7_RCL_TP.csv"
   ]
  },
  {
   "cell_type": "code",
   "execution_count": 36,
   "id": "ff130bb1",
   "metadata": {},
   "outputs": [],
   "source": [
    "# rcl_tp.to_csv('data/7_RCL_TP.csv',index=False)"
   ]
  },
  {
   "cell_type": "markdown",
   "id": "1e5ed4cb",
   "metadata": {},
   "source": [
    "## Linkers"
   ]
  },
  {
   "cell_type": "code",
   "execution_count": 88,
   "id": "480f35ee",
   "metadata": {},
   "outputs": [],
   "source": [
    "linkers=pd.read_excel('data/PINIR_Linkers.xlsx')"
   ]
  },
  {
   "cell_type": "code",
   "execution_count": 89,
   "id": "ab85e06b",
   "metadata": {},
   "outputs": [
    {
     "data": {
      "text/html": [
       "<div>\n",
       "<style scoped>\n",
       "    .dataframe tbody tr th:only-of-type {\n",
       "        vertical-align: middle;\n",
       "    }\n",
       "\n",
       "    .dataframe tbody tr th {\n",
       "        vertical-align: top;\n",
       "    }\n",
       "\n",
       "    .dataframe thead th {\n",
       "        text-align: right;\n",
       "    }\n",
       "</style>\n",
       "<table border=\"1\" class=\"dataframe\">\n",
       "  <thead>\n",
       "    <tr style=\"text-align: right;\">\n",
       "      <th></th>\n",
       "      <th>linkerID</th>\n",
       "      <th>Linker</th>\n",
       "      <th>Type</th>\n",
       "    </tr>\n",
       "  </thead>\n",
       "  <tbody>\n",
       "    <tr>\n",
       "      <th>0</th>\n",
       "      <td>L-1</td>\n",
       "      <td>DPRNP</td>\n",
       "      <td>1</td>\n",
       "    </tr>\n",
       "    <tr>\n",
       "      <th>1</th>\n",
       "      <td>L-2</td>\n",
       "      <td>GPKNP</td>\n",
       "      <td>1</td>\n",
       "    </tr>\n",
       "    <tr>\n",
       "      <th>2</th>\n",
       "      <td>L-3</td>\n",
       "      <td>DPKNP</td>\n",
       "      <td>1</td>\n",
       "    </tr>\n",
       "    <tr>\n",
       "      <th>3</th>\n",
       "      <td>L-4</td>\n",
       "      <td>DPRNS</td>\n",
       "      <td>1</td>\n",
       "    </tr>\n",
       "    <tr>\n",
       "      <th>4</th>\n",
       "      <td>L-5</td>\n",
       "      <td>DPNNP</td>\n",
       "      <td>1</td>\n",
       "    </tr>\n",
       "  </tbody>\n",
       "</table>\n",
       "</div>"
      ],
      "text/plain": [
       "  linkerID Linker  Type\n",
       "0      L-1  DPRNP     1\n",
       "1      L-2  GPKNP     1\n",
       "2      L-3  DPKNP     1\n",
       "3      L-4  DPRNS     1\n",
       "4      L-5  DPNNP     1"
      ]
     },
     "execution_count": 89,
     "metadata": {},
     "output_type": "execute_result"
    }
   ],
   "source": [
    "linkers.head()"
   ]
  },
  {
   "cell_type": "code",
   "execution_count": 90,
   "id": "0f1cfa70",
   "metadata": {},
   "outputs": [
    {
     "data": {
      "text/plain": [
       "linkerID    78\n",
       "Linker      78\n",
       "Type        78\n",
       "dtype: int64"
      ]
     },
     "execution_count": 90,
     "metadata": {},
     "output_type": "execute_result"
    }
   ],
   "source": [
    "linkers.count()"
   ]
  },
  {
   "cell_type": "code",
   "execution_count": 91,
   "id": "940da2f1",
   "metadata": {},
   "outputs": [
    {
     "data": {
      "text/plain": [
       "0"
      ]
     },
     "execution_count": 91,
     "metadata": {},
     "output_type": "execute_result"
    }
   ],
   "source": [
    "linkers.Linker.duplicated().sum()"
   ]
  },
  {
   "cell_type": "code",
   "execution_count": 92,
   "id": "d1389898",
   "metadata": {},
   "outputs": [
    {
     "data": {
      "text/plain": [
       "2    54\n",
       "1    24\n",
       "Name: Type, dtype: int64"
      ]
     },
     "execution_count": 92,
     "metadata": {},
     "output_type": "execute_result"
    }
   ],
   "source": [
    "linkers.Type.value_counts()"
   ]
  },
  {
   "cell_type": "code",
   "execution_count": 93,
   "id": "535436a6",
   "metadata": {},
   "outputs": [],
   "source": [
    "## Creating Linkers File 8_Linkers.csv"
   ]
  },
  {
   "cell_type": "code",
   "execution_count": 96,
   "id": "b327351c",
   "metadata": {},
   "outputs": [],
   "source": [
    "## linkers.to_csv('data/8_Linkers.csv',index=False)"
   ]
  },
  {
   "cell_type": "markdown",
   "id": "9a58e023",
   "metadata": {},
   "source": [
    "## Domains- RCL Analysis\n",
    "File Used *PINIR_DomainsRCL.csv* created using python program *RclFinder.py*"
   ]
  },
  {
   "cell_type": "code",
   "execution_count": 107,
   "id": "80a6ac80",
   "metadata": {},
   "outputs": [],
   "source": [
    "domains=pd.read_csv('data/6_Domains.csv')"
   ]
  },
  {
   "cell_type": "code",
   "execution_count": 108,
   "id": "ca1a8d99",
   "metadata": {},
   "outputs": [
    {
     "data": {
      "text/html": [
       "<div>\n",
       "<style scoped>\n",
       "    .dataframe tbody tr th:only-of-type {\n",
       "        vertical-align: middle;\n",
       "    }\n",
       "\n",
       "    .dataframe tbody tr th {\n",
       "        vertical-align: top;\n",
       "    }\n",
       "\n",
       "    .dataframe thead th {\n",
       "        text-align: right;\n",
       "    }\n",
       "</style>\n",
       "<table border=\"1\" class=\"dataframe\">\n",
       "  <thead>\n",
       "    <tr style=\"text-align: right;\">\n",
       "      <th></th>\n",
       "      <th>domainID</th>\n",
       "      <th>domain</th>\n",
       "      <th>variant</th>\n",
       "    </tr>\n",
       "  </thead>\n",
       "  <tbody>\n",
       "    <tr>\n",
       "      <th>0</th>\n",
       "      <td>IRD-1</td>\n",
       "      <td>QICINCCAGKKGCNYFSADGTFICEGESEYVSEVNDNLEKHCPRNC...</td>\n",
       "      <td>1</td>\n",
       "    </tr>\n",
       "    <tr>\n",
       "      <th>1</th>\n",
       "      <td>IRD-2</td>\n",
       "      <td>QICTNCCAGKKGCMYFSDDGTFICEGESEYVSEVPVDNKPCPRNCD...</td>\n",
       "      <td>1</td>\n",
       "    </tr>\n",
       "  </tbody>\n",
       "</table>\n",
       "</div>"
      ],
      "text/plain": [
       "  domainID                                             domain  variant\n",
       "0    IRD-1  QICINCCAGKKGCNYFSADGTFICEGESEYVSEVNDNLEKHCPRNC...        1\n",
       "1    IRD-2  QICTNCCAGKKGCMYFSDDGTFICEGESEYVSEVPVDNKPCPRNCD...        1"
      ]
     },
     "execution_count": 108,
     "metadata": {},
     "output_type": "execute_result"
    }
   ],
   "source": [
    "domains.head(2)"
   ]
  },
  {
   "cell_type": "code",
   "execution_count": 110,
   "id": "e11692fb",
   "metadata": {},
   "outputs": [
    {
     "data": {
      "text/plain": [
       "698"
      ]
     },
     "execution_count": 110,
     "metadata": {},
     "output_type": "execute_result"
    }
   ],
   "source": [
    "domains.domainID.count()"
   ]
  },
  {
   "cell_type": "code",
   "execution_count": 101,
   "id": "4c9467ff",
   "metadata": {},
   "outputs": [],
   "source": [
    "domain_rcl=pd.read_csv('data/PINIR_DomainsRCL.csv',usecols=['domainID','RclID', 'RCL',\n",
    "       'targetProtease', 'tpID', 'S_position', 'E_position'])"
   ]
  },
  {
   "cell_type": "code",
   "execution_count": 103,
   "id": "30ceff70",
   "metadata": {},
   "outputs": [
    {
     "data": {
      "text/html": [
       "<div>\n",
       "<style scoped>\n",
       "    .dataframe tbody tr th:only-of-type {\n",
       "        vertical-align: middle;\n",
       "    }\n",
       "\n",
       "    .dataframe tbody tr th {\n",
       "        vertical-align: top;\n",
       "    }\n",
       "\n",
       "    .dataframe thead th {\n",
       "        text-align: right;\n",
       "    }\n",
       "</style>\n",
       "<table border=\"1\" class=\"dataframe\">\n",
       "  <thead>\n",
       "    <tr style=\"text-align: right;\">\n",
       "      <th></th>\n",
       "      <th>domainID</th>\n",
       "      <th>RclID</th>\n",
       "      <th>RCL</th>\n",
       "      <th>targetProtease</th>\n",
       "      <th>tpID</th>\n",
       "      <th>S_position</th>\n",
       "      <th>E_position</th>\n",
       "    </tr>\n",
       "  </thead>\n",
       "  <tbody>\n",
       "    <tr>\n",
       "      <th>0</th>\n",
       "      <td>IRD-1</td>\n",
       "      <td>RL-1</td>\n",
       "      <td>CPRNC</td>\n",
       "      <td>Trypsin</td>\n",
       "      <td>TP-1</td>\n",
       "      <td>41</td>\n",
       "      <td>45</td>\n",
       "    </tr>\n",
       "    <tr>\n",
       "      <th>1</th>\n",
       "      <td>IRD-2</td>\n",
       "      <td>RL-1</td>\n",
       "      <td>CPRNC</td>\n",
       "      <td>Trypsin</td>\n",
       "      <td>TP-1</td>\n",
       "      <td>40</td>\n",
       "      <td>44</td>\n",
       "    </tr>\n",
       "    <tr>\n",
       "      <th>2</th>\n",
       "      <td>IRD-3</td>\n",
       "      <td>RL-1</td>\n",
       "      <td>CPRNC</td>\n",
       "      <td>Trypsin</td>\n",
       "      <td>TP-1</td>\n",
       "      <td>40</td>\n",
       "      <td>44</td>\n",
       "    </tr>\n",
       "    <tr>\n",
       "      <th>3</th>\n",
       "      <td>IRD-4</td>\n",
       "      <td>RL-1</td>\n",
       "      <td>CPRNC</td>\n",
       "      <td>Trypsin</td>\n",
       "      <td>TP-1</td>\n",
       "      <td>38</td>\n",
       "      <td>42</td>\n",
       "    </tr>\n",
       "    <tr>\n",
       "      <th>4</th>\n",
       "      <td>IRD-5</td>\n",
       "      <td>RL-1</td>\n",
       "      <td>CPRNC</td>\n",
       "      <td>Trypsin</td>\n",
       "      <td>TP-1</td>\n",
       "      <td>48</td>\n",
       "      <td>52</td>\n",
       "    </tr>\n",
       "  </tbody>\n",
       "</table>\n",
       "</div>"
      ],
      "text/plain": [
       "  domainID RclID    RCL targetProtease  tpID  S_position  E_position\n",
       "0    IRD-1  RL-1  CPRNC        Trypsin  TP-1          41          45\n",
       "1    IRD-2  RL-1  CPRNC        Trypsin  TP-1          40          44\n",
       "2    IRD-3  RL-1  CPRNC        Trypsin  TP-1          40          44\n",
       "3    IRD-4  RL-1  CPRNC        Trypsin  TP-1          38          42\n",
       "4    IRD-5  RL-1  CPRNC        Trypsin  TP-1          48          52"
      ]
     },
     "execution_count": 103,
     "metadata": {},
     "output_type": "execute_result"
    }
   ],
   "source": [
    "domain_rcl.head()"
   ]
  },
  {
   "cell_type": "code",
   "execution_count": 104,
   "id": "d18c4121",
   "metadata": {},
   "outputs": [
    {
     "data": {
      "text/plain": [
       "695"
      ]
     },
     "execution_count": 104,
     "metadata": {},
     "output_type": "execute_result"
    }
   ],
   "source": [
    "domain_rcl.domainID.count()"
   ]
  },
  {
   "cell_type": "code",
   "execution_count": 105,
   "id": "44dbfc32",
   "metadata": {},
   "outputs": [],
   "source": [
    "# i.e. 3 IRDs (698-695) are not having any defined RCLs. Finding them :"
   ]
  },
  {
   "cell_type": "code",
   "execution_count": 112,
   "id": "30f678be",
   "metadata": {},
   "outputs": [],
   "source": [
    "# pd.merge(domains,domain_rcl,on='domainID',how='left').to_csv('data/9_Domain_RCL.csv',index=False)"
   ]
  },
  {
   "cell_type": "code",
   "execution_count": 113,
   "id": "312e4146",
   "metadata": {},
   "outputs": [],
   "source": [
    "domain_rcl=pd.read_csv('data/9_Domain_RCL.csv')"
   ]
  },
  {
   "cell_type": "code",
   "execution_count": 115,
   "id": "fda03bc9",
   "metadata": {},
   "outputs": [
    {
     "data": {
      "text/html": [
       "<div>\n",
       "<style scoped>\n",
       "    .dataframe tbody tr th:only-of-type {\n",
       "        vertical-align: middle;\n",
       "    }\n",
       "\n",
       "    .dataframe tbody tr th {\n",
       "        vertical-align: top;\n",
       "    }\n",
       "\n",
       "    .dataframe thead th {\n",
       "        text-align: right;\n",
       "    }\n",
       "</style>\n",
       "<table border=\"1\" class=\"dataframe\">\n",
       "  <thead>\n",
       "    <tr style=\"text-align: right;\">\n",
       "      <th></th>\n",
       "      <th>domainID</th>\n",
       "      <th>domain</th>\n",
       "      <th>variant</th>\n",
       "      <th>RclID</th>\n",
       "      <th>RCL</th>\n",
       "      <th>targetProtease</th>\n",
       "      <th>tpID</th>\n",
       "      <th>S_position</th>\n",
       "      <th>E_position</th>\n",
       "    </tr>\n",
       "  </thead>\n",
       "  <tbody>\n",
       "    <tr>\n",
       "      <th>0</th>\n",
       "      <td>IRD-1</td>\n",
       "      <td>QICINCCAGKKGCNYFSADGTFICEGESEYVSEVNDNLEKHCPRNC...</td>\n",
       "      <td>1</td>\n",
       "      <td>RL-1</td>\n",
       "      <td>CPRNC</td>\n",
       "      <td>Trypsin</td>\n",
       "      <td>TP-1</td>\n",
       "      <td>41.0</td>\n",
       "      <td>45.0</td>\n",
       "    </tr>\n",
       "    <tr>\n",
       "      <th>1</th>\n",
       "      <td>IRD-2</td>\n",
       "      <td>QICTNCCAGKKGCMYFSDDGTFICEGESEYVSEVPVDNKPCPRNCD...</td>\n",
       "      <td>1</td>\n",
       "      <td>RL-1</td>\n",
       "      <td>CPRNC</td>\n",
       "      <td>Trypsin</td>\n",
       "      <td>TP-1</td>\n",
       "      <td>40.0</td>\n",
       "      <td>44.0</td>\n",
       "    </tr>\n",
       "    <tr>\n",
       "      <th>2</th>\n",
       "      <td>IRD-3</td>\n",
       "      <td>QICTNCCAGKKGCMYFSNDGTFICEGESEYVSEVPVDNKPCPRNCD...</td>\n",
       "      <td>1</td>\n",
       "      <td>RL-1</td>\n",
       "      <td>CPRNC</td>\n",
       "      <td>Trypsin</td>\n",
       "      <td>TP-1</td>\n",
       "      <td>40.0</td>\n",
       "      <td>44.0</td>\n",
       "    </tr>\n",
       "    <tr>\n",
       "      <th>3</th>\n",
       "      <td>IRD-4</td>\n",
       "      <td>VGCTNCCSGTEGCNYYSANGTFICEGQTKKTIDETNKACPRNCNPR...</td>\n",
       "      <td>1</td>\n",
       "      <td>RL-1</td>\n",
       "      <td>CPRNC</td>\n",
       "      <td>Trypsin</td>\n",
       "      <td>TP-1</td>\n",
       "      <td>38.0</td>\n",
       "      <td>42.0</td>\n",
       "    </tr>\n",
       "    <tr>\n",
       "      <th>4</th>\n",
       "      <td>IRD-5</td>\n",
       "      <td>LGCTNCCAGSLGCNYYSANGTFICEGESEIKVETIETEVETMVEPN...</td>\n",
       "      <td>1</td>\n",
       "      <td>RL-1</td>\n",
       "      <td>CPRNC</td>\n",
       "      <td>Trypsin</td>\n",
       "      <td>TP-1</td>\n",
       "      <td>48.0</td>\n",
       "      <td>52.0</td>\n",
       "    </tr>\n",
       "  </tbody>\n",
       "</table>\n",
       "</div>"
      ],
      "text/plain": [
       "  domainID                                             domain  variant RclID  \\\n",
       "0    IRD-1  QICINCCAGKKGCNYFSADGTFICEGESEYVSEVNDNLEKHCPRNC...        1  RL-1   \n",
       "1    IRD-2  QICTNCCAGKKGCMYFSDDGTFICEGESEYVSEVPVDNKPCPRNCD...        1  RL-1   \n",
       "2    IRD-3  QICTNCCAGKKGCMYFSNDGTFICEGESEYVSEVPVDNKPCPRNCD...        1  RL-1   \n",
       "3    IRD-4  VGCTNCCSGTEGCNYYSANGTFICEGQTKKTIDETNKACPRNCNPR...        1  RL-1   \n",
       "4    IRD-5  LGCTNCCAGSLGCNYYSANGTFICEGESEIKVETIETEVETMVEPN...        1  RL-1   \n",
       "\n",
       "     RCL targetProtease  tpID  S_position  E_position  \n",
       "0  CPRNC        Trypsin  TP-1        41.0        45.0  \n",
       "1  CPRNC        Trypsin  TP-1        40.0        44.0  \n",
       "2  CPRNC        Trypsin  TP-1        40.0        44.0  \n",
       "3  CPRNC        Trypsin  TP-1        38.0        42.0  \n",
       "4  CPRNC        Trypsin  TP-1        48.0        52.0  "
      ]
     },
     "execution_count": 115,
     "metadata": {},
     "output_type": "execute_result"
    }
   ],
   "source": [
    "domain_rcl.head()"
   ]
  },
  {
   "cell_type": "code",
   "execution_count": 116,
   "id": "9d9ef3b7",
   "metadata": {},
   "outputs": [
    {
     "data": {
      "text/plain": [
       "698"
      ]
     },
     "execution_count": 116,
     "metadata": {},
     "output_type": "execute_result"
    }
   ],
   "source": [
    "domain_rcl.domainID.count()"
   ]
  },
  {
   "cell_type": "code",
   "execution_count": 118,
   "id": "d0161714",
   "metadata": {},
   "outputs": [
    {
     "data": {
      "text/plain": [
       "3"
      ]
     },
     "execution_count": 118,
     "metadata": {},
     "output_type": "execute_result"
    }
   ],
   "source": [
    "domain_rcl.RclID.isna().sum()"
   ]
  },
  {
   "cell_type": "code",
   "execution_count": 119,
   "id": "ee71f165",
   "metadata": {},
   "outputs": [],
   "source": [
    "## IRDs in which no RCL was traced"
   ]
  },
  {
   "cell_type": "code",
   "execution_count": 120,
   "id": "c9cee442",
   "metadata": {},
   "outputs": [
    {
     "data": {
      "text/html": [
       "<div>\n",
       "<style scoped>\n",
       "    .dataframe tbody tr th:only-of-type {\n",
       "        vertical-align: middle;\n",
       "    }\n",
       "\n",
       "    .dataframe tbody tr th {\n",
       "        vertical-align: top;\n",
       "    }\n",
       "\n",
       "    .dataframe thead th {\n",
       "        text-align: right;\n",
       "    }\n",
       "</style>\n",
       "<table border=\"1\" class=\"dataframe\">\n",
       "  <thead>\n",
       "    <tr style=\"text-align: right;\">\n",
       "      <th></th>\n",
       "      <th>domainID</th>\n",
       "      <th>domain</th>\n",
       "      <th>variant</th>\n",
       "      <th>RclID</th>\n",
       "      <th>RCL</th>\n",
       "      <th>targetProtease</th>\n",
       "      <th>tpID</th>\n",
       "      <th>S_position</th>\n",
       "      <th>E_position</th>\n",
       "    </tr>\n",
       "  </thead>\n",
       "  <tbody>\n",
       "    <tr>\n",
       "      <th>70</th>\n",
       "      <td>IRD-71</td>\n",
       "      <td>GICTNCCAGKKRCNYFSADGTFICEGESKFVSEADNNHGKPCPRIA...</td>\n",
       "      <td>1</td>\n",
       "      <td>NaN</td>\n",
       "      <td>NaN</td>\n",
       "      <td>NaN</td>\n",
       "      <td>NaN</td>\n",
       "      <td>NaN</td>\n",
       "      <td>NaN</td>\n",
       "    </tr>\n",
       "    <tr>\n",
       "      <th>147</th>\n",
       "      <td>IRD-148</td>\n",
       "      <td>RLCTNCCAGRKGCNYYSADGTFICEGESDPNNPKACPRNRDPNIAY...</td>\n",
       "      <td>1</td>\n",
       "      <td>NaN</td>\n",
       "      <td>NaN</td>\n",
       "      <td>NaN</td>\n",
       "      <td>NaN</td>\n",
       "      <td>NaN</td>\n",
       "      <td>NaN</td>\n",
       "    </tr>\n",
       "    <tr>\n",
       "      <th>687</th>\n",
       "      <td>IRD-688</td>\n",
       "      <td>KVCPQLCLGAEYMTCGSSDERLNPSCNCCLAPQGCTLYFSDGTSQYCA</td>\n",
       "      <td>2</td>\n",
       "      <td>NaN</td>\n",
       "      <td>NaN</td>\n",
       "      <td>NaN</td>\n",
       "      <td>NaN</td>\n",
       "      <td>NaN</td>\n",
       "      <td>NaN</td>\n",
       "    </tr>\n",
       "  </tbody>\n",
       "</table>\n",
       "</div>"
      ],
      "text/plain": [
       "    domainID                                             domain  variant  \\\n",
       "70    IRD-71  GICTNCCAGKKRCNYFSADGTFICEGESKFVSEADNNHGKPCPRIA...        1   \n",
       "147  IRD-148  RLCTNCCAGRKGCNYYSADGTFICEGESDPNNPKACPRNRDPNIAY...        1   \n",
       "687  IRD-688   KVCPQLCLGAEYMTCGSSDERLNPSCNCCLAPQGCTLYFSDGTSQYCA        2   \n",
       "\n",
       "    RclID  RCL targetProtease tpID  S_position  E_position  \n",
       "70    NaN  NaN            NaN  NaN         NaN         NaN  \n",
       "147   NaN  NaN            NaN  NaN         NaN         NaN  \n",
       "687   NaN  NaN            NaN  NaN         NaN         NaN  "
      ]
     },
     "execution_count": 120,
     "metadata": {},
     "output_type": "execute_result"
    }
   ],
   "source": [
    "filt=domain_rcl.RclID.isna()\n",
    "domain_rcl.loc[filt,:]"
   ]
  },
  {
   "cell_type": "code",
   "execution_count": 121,
   "id": "de5d4d8d",
   "metadata": {},
   "outputs": [],
   "source": [
    "## Saving those Domains n which no RCL were found to file 10_Domains_without_RCL.csv"
   ]
  },
  {
   "cell_type": "code",
   "execution_count": 124,
   "id": "aa5296ca",
   "metadata": {},
   "outputs": [],
   "source": [
    "# domain_rcl.loc[filt,['domainID','domain','variant']].to_csv('data/10_Domains_without_RCL.csv',index=False)"
   ]
  },
  {
   "cell_type": "code",
   "execution_count": 126,
   "id": "b6df294d",
   "metadata": {},
   "outputs": [
    {
     "data": {
      "text/plain": [
       "CPRNC    291\n",
       "CTLNC     36\n",
       "CPLNC     35\n",
       "CTLEC     25\n",
       "CPQFC     23\n",
       "        ... \n",
       "CTQDC      1\n",
       "CIREC      1\n",
       "CPFFC      1\n",
       "CTFKC      1\n",
       "CHQYC      1\n",
       "Name: RCL, Length: 63, dtype: int64"
      ]
     },
     "execution_count": 126,
     "metadata": {},
     "output_type": "execute_result"
    }
   ],
   "source": [
    "domain_rcl.RCL.value_counts()"
   ]
  },
  {
   "cell_type": "code",
   "execution_count": 127,
   "id": "c213b2d8",
   "metadata": {},
   "outputs": [
    {
     "data": {
      "text/plain": [
       "63"
      ]
     },
     "execution_count": 127,
     "metadata": {},
     "output_type": "execute_result"
    }
   ],
   "source": [
    "domain_rcl.RCL.nunique()"
   ]
  },
  {
   "cell_type": "code",
   "execution_count": 128,
   "id": "d3b4be28",
   "metadata": {},
   "outputs": [
    {
     "data": {
      "text/plain": [
       "Trypsin         396\n",
       "Chymotrypsin    177\n",
       "Unknown         110\n",
       "Elastase         12\n",
       "Name: targetProtease, dtype: int64"
      ]
     },
     "execution_count": 128,
     "metadata": {},
     "output_type": "execute_result"
    }
   ],
   "source": [
    "domain_rcl.targetProtease.value_counts()"
   ]
  },
  {
   "cell_type": "markdown",
   "id": "29d0facd",
   "metadata": {},
   "source": [
    "## Domains- Linker Analysis\n",
    "File Used *PINIR_DomainsLinker.csv* created using python program *LinkerFinder.py*"
   ]
  },
  {
   "cell_type": "code",
   "execution_count": 130,
   "id": "3b7d4a6b",
   "metadata": {},
   "outputs": [],
   "source": [
    "domain_linker=pd.read_csv('data/PINIR_DomainsLinker.csv')"
   ]
  },
  {
   "cell_type": "code",
   "execution_count": 131,
   "id": "36c3f437",
   "metadata": {},
   "outputs": [
    {
     "data": {
      "text/html": [
       "<div>\n",
       "<style scoped>\n",
       "    .dataframe tbody tr th:only-of-type {\n",
       "        vertical-align: middle;\n",
       "    }\n",
       "\n",
       "    .dataframe tbody tr th {\n",
       "        vertical-align: top;\n",
       "    }\n",
       "\n",
       "    .dataframe thead th {\n",
       "        text-align: right;\n",
       "    }\n",
       "</style>\n",
       "<table border=\"1\" class=\"dataframe\">\n",
       "  <thead>\n",
       "    <tr style=\"text-align: right;\">\n",
       "      <th></th>\n",
       "      <th>domainID</th>\n",
       "      <th>Sequence</th>\n",
       "      <th>linkerID</th>\n",
       "      <th>Linker</th>\n",
       "      <th>LinkerType</th>\n",
       "      <th>Linker_StartPosition</th>\n",
       "      <th>Linker_EndPosition</th>\n",
       "    </tr>\n",
       "  </thead>\n",
       "  <tbody>\n",
       "    <tr>\n",
       "      <th>0</th>\n",
       "      <td>IRD-16</td>\n",
       "      <td>KICTKECGNLGFGICPRSEGSPKNPICINCCSGYKGCNYYSVFGRF...</td>\n",
       "      <td>L-46</td>\n",
       "      <td>EGSPK</td>\n",
       "      <td>2</td>\n",
       "      <td>18</td>\n",
       "      <td>22</td>\n",
       "    </tr>\n",
       "    <tr>\n",
       "      <th>1</th>\n",
       "      <td>IRD-19</td>\n",
       "      <td>GLCTNCCAGKKGCKYFSKDGTYICDGESEWVSEKDNNLEKDCTKEC...</td>\n",
       "      <td>L-58</td>\n",
       "      <td>EKDNN</td>\n",
       "      <td>2</td>\n",
       "      <td>32</td>\n",
       "      <td>36</td>\n",
       "    </tr>\n",
       "    <tr>\n",
       "      <th>2</th>\n",
       "      <td>IRD-40</td>\n",
       "      <td>TGCTTCCTGYKGCYYFGKDGKFVCEGESDEPKACTMECDPRVAYMI...</td>\n",
       "      <td>L-24</td>\n",
       "      <td>ESDEP</td>\n",
       "      <td>1</td>\n",
       "      <td>26</td>\n",
       "      <td>30</td>\n",
       "    </tr>\n",
       "    <tr>\n",
       "      <th>3</th>\n",
       "      <td>IRD-41</td>\n",
       "      <td>TGCTTCCTGYKGCYYFGQDGEFVCEGESDEPKSCTTECDPRVATIS...</td>\n",
       "      <td>L-24</td>\n",
       "      <td>ESDEP</td>\n",
       "      <td>1</td>\n",
       "      <td>26</td>\n",
       "      <td>30</td>\n",
       "    </tr>\n",
       "    <tr>\n",
       "      <th>4</th>\n",
       "      <td>IRD-42</td>\n",
       "      <td>TGCTTCCTGYKGCYYFGQDGEFVCEGESDEPKSCTTECDPRVATIS...</td>\n",
       "      <td>L-24</td>\n",
       "      <td>ESDEP</td>\n",
       "      <td>1</td>\n",
       "      <td>26</td>\n",
       "      <td>30</td>\n",
       "    </tr>\n",
       "  </tbody>\n",
       "</table>\n",
       "</div>"
      ],
      "text/plain": [
       "  domainID                                           Sequence linkerID Linker  \\\n",
       "0   IRD-16  KICTKECGNLGFGICPRSEGSPKNPICINCCSGYKGCNYYSVFGRF...     L-46  EGSPK   \n",
       "1   IRD-19  GLCTNCCAGKKGCKYFSKDGTYICDGESEWVSEKDNNLEKDCTKEC...     L-58  EKDNN   \n",
       "2   IRD-40  TGCTTCCTGYKGCYYFGKDGKFVCEGESDEPKACTMECDPRVAYMI...     L-24  ESDEP   \n",
       "3   IRD-41  TGCTTCCTGYKGCYYFGQDGEFVCEGESDEPKSCTTECDPRVATIS...     L-24  ESDEP   \n",
       "4   IRD-42  TGCTTCCTGYKGCYYFGQDGEFVCEGESDEPKSCTTECDPRVATIS...     L-24  ESDEP   \n",
       "\n",
       "   LinkerType  Linker_StartPosition  Linker_EndPosition  \n",
       "0           2                    18                  22  \n",
       "1           2                    32                  36  \n",
       "2           1                    26                  30  \n",
       "3           1                    26                  30  \n",
       "4           1                    26                  30  "
      ]
     },
     "execution_count": 131,
     "metadata": {},
     "output_type": "execute_result"
    }
   ],
   "source": [
    "domain_linker.head()"
   ]
  },
  {
   "cell_type": "code",
   "execution_count": 132,
   "id": "faa92836",
   "metadata": {},
   "outputs": [
    {
     "data": {
      "text/plain": [
       "Index(['domainID', 'Sequence', 'linkerID', 'Linker', 'LinkerType',\n",
       "       'Linker_StartPosition', 'Linker_EndPosition'],\n",
       "      dtype='object')"
      ]
     },
     "execution_count": 132,
     "metadata": {},
     "output_type": "execute_result"
    }
   ],
   "source": [
    "domain_linker.columns"
   ]
  },
  {
   "cell_type": "code",
   "execution_count": 134,
   "id": "adbdb71e",
   "metadata": {},
   "outputs": [],
   "source": [
    "domain_linker=pd.read_csv('data/PINIR_DomainsLinker.csv',usecols=['domainID','linkerID', 'Linker', 'LinkerType',\n",
    "       'Linker_StartPosition', 'Linker_EndPosition'])"
   ]
  },
  {
   "cell_type": "code",
   "execution_count": 135,
   "id": "0f90dd35",
   "metadata": {},
   "outputs": [
    {
     "data": {
      "text/html": [
       "<div>\n",
       "<style scoped>\n",
       "    .dataframe tbody tr th:only-of-type {\n",
       "        vertical-align: middle;\n",
       "    }\n",
       "\n",
       "    .dataframe tbody tr th {\n",
       "        vertical-align: top;\n",
       "    }\n",
       "\n",
       "    .dataframe thead th {\n",
       "        text-align: right;\n",
       "    }\n",
       "</style>\n",
       "<table border=\"1\" class=\"dataframe\">\n",
       "  <thead>\n",
       "    <tr style=\"text-align: right;\">\n",
       "      <th></th>\n",
       "      <th>domainID</th>\n",
       "      <th>linkerID</th>\n",
       "      <th>Linker</th>\n",
       "      <th>LinkerType</th>\n",
       "      <th>Linker_StartPosition</th>\n",
       "      <th>Linker_EndPosition</th>\n",
       "    </tr>\n",
       "  </thead>\n",
       "  <tbody>\n",
       "    <tr>\n",
       "      <th>0</th>\n",
       "      <td>IRD-16</td>\n",
       "      <td>L-46</td>\n",
       "      <td>EGSPK</td>\n",
       "      <td>2</td>\n",
       "      <td>18</td>\n",
       "      <td>22</td>\n",
       "    </tr>\n",
       "    <tr>\n",
       "      <th>1</th>\n",
       "      <td>IRD-19</td>\n",
       "      <td>L-58</td>\n",
       "      <td>EKDNN</td>\n",
       "      <td>2</td>\n",
       "      <td>32</td>\n",
       "      <td>36</td>\n",
       "    </tr>\n",
       "    <tr>\n",
       "      <th>2</th>\n",
       "      <td>IRD-40</td>\n",
       "      <td>L-24</td>\n",
       "      <td>ESDEP</td>\n",
       "      <td>1</td>\n",
       "      <td>26</td>\n",
       "      <td>30</td>\n",
       "    </tr>\n",
       "    <tr>\n",
       "      <th>3</th>\n",
       "      <td>IRD-41</td>\n",
       "      <td>L-24</td>\n",
       "      <td>ESDEP</td>\n",
       "      <td>1</td>\n",
       "      <td>26</td>\n",
       "      <td>30</td>\n",
       "    </tr>\n",
       "    <tr>\n",
       "      <th>4</th>\n",
       "      <td>IRD-42</td>\n",
       "      <td>L-24</td>\n",
       "      <td>ESDEP</td>\n",
       "      <td>1</td>\n",
       "      <td>26</td>\n",
       "      <td>30</td>\n",
       "    </tr>\n",
       "  </tbody>\n",
       "</table>\n",
       "</div>"
      ],
      "text/plain": [
       "  domainID linkerID Linker  LinkerType  Linker_StartPosition  \\\n",
       "0   IRD-16     L-46  EGSPK           2                    18   \n",
       "1   IRD-19     L-58  EKDNN           2                    32   \n",
       "2   IRD-40     L-24  ESDEP           1                    26   \n",
       "3   IRD-41     L-24  ESDEP           1                    26   \n",
       "4   IRD-42     L-24  ESDEP           1                    26   \n",
       "\n",
       "   Linker_EndPosition  \n",
       "0                  22  \n",
       "1                  36  \n",
       "2                  30  \n",
       "3                  30  \n",
       "4                  30  "
      ]
     },
     "execution_count": 135,
     "metadata": {},
     "output_type": "execute_result"
    }
   ],
   "source": [
    "domain_linker.head()"
   ]
  },
  {
   "cell_type": "code",
   "execution_count": 136,
   "id": "b4578759",
   "metadata": {},
   "outputs": [
    {
     "data": {
      "text/plain": [
       "509"
      ]
     },
     "execution_count": 136,
     "metadata": {},
     "output_type": "execute_result"
    }
   ],
   "source": [
    "domain_linker.domainID.count()"
   ]
  },
  {
   "cell_type": "code",
   "execution_count": 137,
   "id": "7667b61f",
   "metadata": {},
   "outputs": [
    {
     "data": {
      "text/plain": [
       "496"
      ]
     },
     "execution_count": 137,
     "metadata": {},
     "output_type": "execute_result"
    }
   ],
   "source": [
    "domain_linker.domainID.nunique()"
   ]
  },
  {
   "cell_type": "code",
   "execution_count": 138,
   "id": "5ba129b1",
   "metadata": {},
   "outputs": [
    {
     "data": {
      "text/plain": [
       "13"
      ]
     },
     "execution_count": 138,
     "metadata": {},
     "output_type": "execute_result"
    }
   ],
   "source": [
    "domain_linker.domainID.duplicated().sum()"
   ]
  },
  {
   "cell_type": "code",
   "execution_count": 139,
   "id": "3546f552",
   "metadata": {},
   "outputs": [
    {
     "data": {
      "text/plain": [
       "26"
      ]
     },
     "execution_count": 139,
     "metadata": {},
     "output_type": "execute_result"
    }
   ],
   "source": [
    "domain_linker.domainID.duplicated(keep=False).sum()"
   ]
  },
  {
   "cell_type": "code",
   "execution_count": 140,
   "id": "b876929f",
   "metadata": {},
   "outputs": [
    {
     "data": {
      "text/html": [
       "<div>\n",
       "<style scoped>\n",
       "    .dataframe tbody tr th:only-of-type {\n",
       "        vertical-align: middle;\n",
       "    }\n",
       "\n",
       "    .dataframe tbody tr th {\n",
       "        vertical-align: top;\n",
       "    }\n",
       "\n",
       "    .dataframe thead th {\n",
       "        text-align: right;\n",
       "    }\n",
       "</style>\n",
       "<table border=\"1\" class=\"dataframe\">\n",
       "  <thead>\n",
       "    <tr style=\"text-align: right;\">\n",
       "      <th></th>\n",
       "      <th>domainID</th>\n",
       "      <th>linkerID</th>\n",
       "      <th>Linker</th>\n",
       "      <th>LinkerType</th>\n",
       "      <th>Linker_StartPosition</th>\n",
       "      <th>Linker_EndPosition</th>\n",
       "    </tr>\n",
       "  </thead>\n",
       "  <tbody>\n",
       "    <tr>\n",
       "      <th>411</th>\n",
       "      <td>IRD-591</td>\n",
       "      <td>L-26</td>\n",
       "      <td>EEKKD</td>\n",
       "      <td>2</td>\n",
       "      <td>19</td>\n",
       "      <td>23</td>\n",
       "    </tr>\n",
       "    <tr>\n",
       "      <th>412</th>\n",
       "      <td>IRD-591</td>\n",
       "      <td>L-28</td>\n",
       "      <td>EKKDN</td>\n",
       "      <td>2</td>\n",
       "      <td>20</td>\n",
       "      <td>24</td>\n",
       "    </tr>\n",
       "    <tr>\n",
       "      <th>413</th>\n",
       "      <td>IRD-592</td>\n",
       "      <td>L-26</td>\n",
       "      <td>EEKKD</td>\n",
       "      <td>2</td>\n",
       "      <td>19</td>\n",
       "      <td>23</td>\n",
       "    </tr>\n",
       "    <tr>\n",
       "      <th>414</th>\n",
       "      <td>IRD-592</td>\n",
       "      <td>L-28</td>\n",
       "      <td>EKKDN</td>\n",
       "      <td>2</td>\n",
       "      <td>20</td>\n",
       "      <td>24</td>\n",
       "    </tr>\n",
       "    <tr>\n",
       "      <th>415</th>\n",
       "      <td>IRD-593</td>\n",
       "      <td>L-26</td>\n",
       "      <td>EEKKD</td>\n",
       "      <td>2</td>\n",
       "      <td>19</td>\n",
       "      <td>23</td>\n",
       "    </tr>\n",
       "    <tr>\n",
       "      <th>416</th>\n",
       "      <td>IRD-593</td>\n",
       "      <td>L-28</td>\n",
       "      <td>EKKDN</td>\n",
       "      <td>2</td>\n",
       "      <td>20</td>\n",
       "      <td>24</td>\n",
       "    </tr>\n",
       "    <tr>\n",
       "      <th>417</th>\n",
       "      <td>IRD-594</td>\n",
       "      <td>L-26</td>\n",
       "      <td>EEKKD</td>\n",
       "      <td>2</td>\n",
       "      <td>19</td>\n",
       "      <td>23</td>\n",
       "    </tr>\n",
       "    <tr>\n",
       "      <th>418</th>\n",
       "      <td>IRD-594</td>\n",
       "      <td>L-28</td>\n",
       "      <td>EKKDN</td>\n",
       "      <td>2</td>\n",
       "      <td>20</td>\n",
       "      <td>24</td>\n",
       "    </tr>\n",
       "    <tr>\n",
       "      <th>419</th>\n",
       "      <td>IRD-595</td>\n",
       "      <td>L-26</td>\n",
       "      <td>EEKKD</td>\n",
       "      <td>2</td>\n",
       "      <td>19</td>\n",
       "      <td>23</td>\n",
       "    </tr>\n",
       "    <tr>\n",
       "      <th>420</th>\n",
       "      <td>IRD-595</td>\n",
       "      <td>L-28</td>\n",
       "      <td>EKKDN</td>\n",
       "      <td>2</td>\n",
       "      <td>20</td>\n",
       "      <td>24</td>\n",
       "    </tr>\n",
       "    <tr>\n",
       "      <th>421</th>\n",
       "      <td>IRD-596</td>\n",
       "      <td>L-26</td>\n",
       "      <td>EEKKD</td>\n",
       "      <td>2</td>\n",
       "      <td>19</td>\n",
       "      <td>23</td>\n",
       "    </tr>\n",
       "    <tr>\n",
       "      <th>422</th>\n",
       "      <td>IRD-596</td>\n",
       "      <td>L-28</td>\n",
       "      <td>EKKDN</td>\n",
       "      <td>2</td>\n",
       "      <td>20</td>\n",
       "      <td>24</td>\n",
       "    </tr>\n",
       "    <tr>\n",
       "      <th>423</th>\n",
       "      <td>IRD-597</td>\n",
       "      <td>L-26</td>\n",
       "      <td>EEKKD</td>\n",
       "      <td>2</td>\n",
       "      <td>19</td>\n",
       "      <td>23</td>\n",
       "    </tr>\n",
       "    <tr>\n",
       "      <th>424</th>\n",
       "      <td>IRD-597</td>\n",
       "      <td>L-28</td>\n",
       "      <td>EKKDN</td>\n",
       "      <td>2</td>\n",
       "      <td>20</td>\n",
       "      <td>24</td>\n",
       "    </tr>\n",
       "    <tr>\n",
       "      <th>425</th>\n",
       "      <td>IRD-598</td>\n",
       "      <td>L-26</td>\n",
       "      <td>EEKKD</td>\n",
       "      <td>2</td>\n",
       "      <td>19</td>\n",
       "      <td>23</td>\n",
       "    </tr>\n",
       "    <tr>\n",
       "      <th>426</th>\n",
       "      <td>IRD-598</td>\n",
       "      <td>L-28</td>\n",
       "      <td>EKKDN</td>\n",
       "      <td>2</td>\n",
       "      <td>20</td>\n",
       "      <td>24</td>\n",
       "    </tr>\n",
       "    <tr>\n",
       "      <th>427</th>\n",
       "      <td>IRD-599</td>\n",
       "      <td>L-26</td>\n",
       "      <td>EEKKD</td>\n",
       "      <td>2</td>\n",
       "      <td>19</td>\n",
       "      <td>23</td>\n",
       "    </tr>\n",
       "    <tr>\n",
       "      <th>428</th>\n",
       "      <td>IRD-599</td>\n",
       "      <td>L-28</td>\n",
       "      <td>EKKDN</td>\n",
       "      <td>2</td>\n",
       "      <td>20</td>\n",
       "      <td>24</td>\n",
       "    </tr>\n",
       "    <tr>\n",
       "      <th>429</th>\n",
       "      <td>IRD-600</td>\n",
       "      <td>L-26</td>\n",
       "      <td>EEKKD</td>\n",
       "      <td>2</td>\n",
       "      <td>19</td>\n",
       "      <td>23</td>\n",
       "    </tr>\n",
       "    <tr>\n",
       "      <th>430</th>\n",
       "      <td>IRD-600</td>\n",
       "      <td>L-28</td>\n",
       "      <td>EKKDN</td>\n",
       "      <td>2</td>\n",
       "      <td>20</td>\n",
       "      <td>24</td>\n",
       "    </tr>\n",
       "    <tr>\n",
       "      <th>431</th>\n",
       "      <td>IRD-601</td>\n",
       "      <td>L-26</td>\n",
       "      <td>EEKKD</td>\n",
       "      <td>2</td>\n",
       "      <td>19</td>\n",
       "      <td>23</td>\n",
       "    </tr>\n",
       "    <tr>\n",
       "      <th>432</th>\n",
       "      <td>IRD-601</td>\n",
       "      <td>L-28</td>\n",
       "      <td>EKKDN</td>\n",
       "      <td>2</td>\n",
       "      <td>20</td>\n",
       "      <td>24</td>\n",
       "    </tr>\n",
       "    <tr>\n",
       "      <th>433</th>\n",
       "      <td>IRD-602</td>\n",
       "      <td>L-26</td>\n",
       "      <td>EEKKD</td>\n",
       "      <td>2</td>\n",
       "      <td>19</td>\n",
       "      <td>23</td>\n",
       "    </tr>\n",
       "    <tr>\n",
       "      <th>434</th>\n",
       "      <td>IRD-602</td>\n",
       "      <td>L-28</td>\n",
       "      <td>EKKDN</td>\n",
       "      <td>2</td>\n",
       "      <td>20</td>\n",
       "      <td>24</td>\n",
       "    </tr>\n",
       "    <tr>\n",
       "      <th>435</th>\n",
       "      <td>IRD-603</td>\n",
       "      <td>L-26</td>\n",
       "      <td>EEKKD</td>\n",
       "      <td>2</td>\n",
       "      <td>19</td>\n",
       "      <td>23</td>\n",
       "    </tr>\n",
       "    <tr>\n",
       "      <th>436</th>\n",
       "      <td>IRD-603</td>\n",
       "      <td>L-28</td>\n",
       "      <td>EKKDN</td>\n",
       "      <td>2</td>\n",
       "      <td>20</td>\n",
       "      <td>24</td>\n",
       "    </tr>\n",
       "  </tbody>\n",
       "</table>\n",
       "</div>"
      ],
      "text/plain": [
       "    domainID linkerID Linker  LinkerType  Linker_StartPosition  \\\n",
       "411  IRD-591     L-26  EEKKD           2                    19   \n",
       "412  IRD-591     L-28  EKKDN           2                    20   \n",
       "413  IRD-592     L-26  EEKKD           2                    19   \n",
       "414  IRD-592     L-28  EKKDN           2                    20   \n",
       "415  IRD-593     L-26  EEKKD           2                    19   \n",
       "416  IRD-593     L-28  EKKDN           2                    20   \n",
       "417  IRD-594     L-26  EEKKD           2                    19   \n",
       "418  IRD-594     L-28  EKKDN           2                    20   \n",
       "419  IRD-595     L-26  EEKKD           2                    19   \n",
       "420  IRD-595     L-28  EKKDN           2                    20   \n",
       "421  IRD-596     L-26  EEKKD           2                    19   \n",
       "422  IRD-596     L-28  EKKDN           2                    20   \n",
       "423  IRD-597     L-26  EEKKD           2                    19   \n",
       "424  IRD-597     L-28  EKKDN           2                    20   \n",
       "425  IRD-598     L-26  EEKKD           2                    19   \n",
       "426  IRD-598     L-28  EKKDN           2                    20   \n",
       "427  IRD-599     L-26  EEKKD           2                    19   \n",
       "428  IRD-599     L-28  EKKDN           2                    20   \n",
       "429  IRD-600     L-26  EEKKD           2                    19   \n",
       "430  IRD-600     L-28  EKKDN           2                    20   \n",
       "431  IRD-601     L-26  EEKKD           2                    19   \n",
       "432  IRD-601     L-28  EKKDN           2                    20   \n",
       "433  IRD-602     L-26  EEKKD           2                    19   \n",
       "434  IRD-602     L-28  EKKDN           2                    20   \n",
       "435  IRD-603     L-26  EEKKD           2                    19   \n",
       "436  IRD-603     L-28  EKKDN           2                    20   \n",
       "\n",
       "     Linker_EndPosition  \n",
       "411                  23  \n",
       "412                  24  \n",
       "413                  23  \n",
       "414                  24  \n",
       "415                  23  \n",
       "416                  24  \n",
       "417                  23  \n",
       "418                  24  \n",
       "419                  23  \n",
       "420                  24  \n",
       "421                  23  \n",
       "422                  24  \n",
       "423                  23  \n",
       "424                  24  \n",
       "425                  23  \n",
       "426                  24  \n",
       "427                  23  \n",
       "428                  24  \n",
       "429                  23  \n",
       "430                  24  \n",
       "431                  23  \n",
       "432                  24  \n",
       "433                  23  \n",
       "434                  24  \n",
       "435                  23  \n",
       "436                  24  "
      ]
     },
     "execution_count": 140,
     "metadata": {},
     "output_type": "execute_result"
    }
   ],
   "source": [
    "domain_linker.loc[domain_linker.domainID.duplicated(keep=False),:]"
   ]
  },
  {
   "cell_type": "code",
   "execution_count": 141,
   "id": "831723c3",
   "metadata": {},
   "outputs": [],
   "source": [
    "## For IRD-591 to 603 in the multiple IRD list, take the EEKKD linker sequence. "
   ]
  },
  {
   "cell_type": "code",
   "execution_count": 142,
   "id": "1f861be7",
   "metadata": {},
   "outputs": [],
   "source": [
    "domain_linker.to_csv('data/domain_linker.csv',index=False)"
   ]
  },
  {
   "cell_type": "code",
   "execution_count": 143,
   "id": "9622ab26",
   "metadata": {},
   "outputs": [],
   "source": [
    "## After Deleting the duplicate Records as per above suggestion"
   ]
  },
  {
   "cell_type": "code",
   "execution_count": 145,
   "id": "3e6b1883",
   "metadata": {},
   "outputs": [],
   "source": [
    "domain_linker=pd.read_csv('data/domain_linker.csv')"
   ]
  },
  {
   "cell_type": "code",
   "execution_count": 146,
   "id": "635ec171",
   "metadata": {},
   "outputs": [
    {
     "data": {
      "text/html": [
       "<div>\n",
       "<style scoped>\n",
       "    .dataframe tbody tr th:only-of-type {\n",
       "        vertical-align: middle;\n",
       "    }\n",
       "\n",
       "    .dataframe tbody tr th {\n",
       "        vertical-align: top;\n",
       "    }\n",
       "\n",
       "    .dataframe thead th {\n",
       "        text-align: right;\n",
       "    }\n",
       "</style>\n",
       "<table border=\"1\" class=\"dataframe\">\n",
       "  <thead>\n",
       "    <tr style=\"text-align: right;\">\n",
       "      <th></th>\n",
       "      <th>domainID</th>\n",
       "      <th>linkerID</th>\n",
       "      <th>Linker</th>\n",
       "      <th>LinkerType</th>\n",
       "      <th>Linker_StartPosition</th>\n",
       "      <th>Linker_EndPosition</th>\n",
       "    </tr>\n",
       "  </thead>\n",
       "  <tbody>\n",
       "  </tbody>\n",
       "</table>\n",
       "</div>"
      ],
      "text/plain": [
       "Empty DataFrame\n",
       "Columns: [domainID, linkerID, Linker, LinkerType, Linker_StartPosition, Linker_EndPosition]\n",
       "Index: []"
      ]
     },
     "execution_count": 146,
     "metadata": {},
     "output_type": "execute_result"
    }
   ],
   "source": [
    "domain_linker.loc[domain_linker.domainID.duplicated(keep=False),:]"
   ]
  },
  {
   "cell_type": "code",
   "execution_count": 147,
   "id": "f5086931",
   "metadata": {},
   "outputs": [
    {
     "data": {
      "text/plain": [
       "domainID                496\n",
       "linkerID                496\n",
       "Linker                  496\n",
       "LinkerType              496\n",
       "Linker_StartPosition    496\n",
       "Linker_EndPosition      496\n",
       "dtype: int64"
      ]
     },
     "execution_count": 147,
     "metadata": {},
     "output_type": "execute_result"
    }
   ],
   "source": [
    "domain_linker.count()"
   ]
  },
  {
   "cell_type": "code",
   "execution_count": 148,
   "id": "601c06d2",
   "metadata": {},
   "outputs": [
    {
     "data": {
      "text/plain": [
       "75"
      ]
     },
     "execution_count": 148,
     "metadata": {},
     "output_type": "execute_result"
    }
   ],
   "source": [
    "domain_linker.Linker.nunique()"
   ]
  },
  {
   "cell_type": "code",
   "execution_count": 149,
   "id": "3211f85b",
   "metadata": {},
   "outputs": [
    {
     "data": {
      "text/plain": [
       "0"
      ]
     },
     "execution_count": 149,
     "metadata": {},
     "output_type": "execute_result"
    }
   ],
   "source": [
    "domain_linker.domainID.duplicated().sum()"
   ]
  },
  {
   "cell_type": "code",
   "execution_count": 150,
   "id": "6f69610a",
   "metadata": {},
   "outputs": [
    {
     "data": {
      "text/html": [
       "<div>\n",
       "<style scoped>\n",
       "    .dataframe tbody tr th:only-of-type {\n",
       "        vertical-align: middle;\n",
       "    }\n",
       "\n",
       "    .dataframe tbody tr th {\n",
       "        vertical-align: top;\n",
       "    }\n",
       "\n",
       "    .dataframe thead th {\n",
       "        text-align: right;\n",
       "    }\n",
       "</style>\n",
       "<table border=\"1\" class=\"dataframe\">\n",
       "  <thead>\n",
       "    <tr style=\"text-align: right;\">\n",
       "      <th></th>\n",
       "      <th>domainID</th>\n",
       "      <th>linkerID</th>\n",
       "      <th>Linker</th>\n",
       "      <th>LinkerType</th>\n",
       "      <th>Linker_StartPosition</th>\n",
       "      <th>Linker_EndPosition</th>\n",
       "    </tr>\n",
       "  </thead>\n",
       "  <tbody>\n",
       "    <tr>\n",
       "      <th>0</th>\n",
       "      <td>IRD-16</td>\n",
       "      <td>L-46</td>\n",
       "      <td>EGSPK</td>\n",
       "      <td>2</td>\n",
       "      <td>18</td>\n",
       "      <td>22</td>\n",
       "    </tr>\n",
       "    <tr>\n",
       "      <th>1</th>\n",
       "      <td>IRD-19</td>\n",
       "      <td>L-58</td>\n",
       "      <td>EKDNN</td>\n",
       "      <td>2</td>\n",
       "      <td>32</td>\n",
       "      <td>36</td>\n",
       "    </tr>\n",
       "    <tr>\n",
       "      <th>2</th>\n",
       "      <td>IRD-40</td>\n",
       "      <td>L-24</td>\n",
       "      <td>ESDEP</td>\n",
       "      <td>1</td>\n",
       "      <td>26</td>\n",
       "      <td>30</td>\n",
       "    </tr>\n",
       "    <tr>\n",
       "      <th>3</th>\n",
       "      <td>IRD-41</td>\n",
       "      <td>L-24</td>\n",
       "      <td>ESDEP</td>\n",
       "      <td>1</td>\n",
       "      <td>26</td>\n",
       "      <td>30</td>\n",
       "    </tr>\n",
       "    <tr>\n",
       "      <th>4</th>\n",
       "      <td>IRD-42</td>\n",
       "      <td>L-24</td>\n",
       "      <td>ESDEP</td>\n",
       "      <td>1</td>\n",
       "      <td>26</td>\n",
       "      <td>30</td>\n",
       "    </tr>\n",
       "  </tbody>\n",
       "</table>\n",
       "</div>"
      ],
      "text/plain": [
       "  domainID linkerID Linker  LinkerType  Linker_StartPosition  \\\n",
       "0   IRD-16     L-46  EGSPK           2                    18   \n",
       "1   IRD-19     L-58  EKDNN           2                    32   \n",
       "2   IRD-40     L-24  ESDEP           1                    26   \n",
       "3   IRD-41     L-24  ESDEP           1                    26   \n",
       "4   IRD-42     L-24  ESDEP           1                    26   \n",
       "\n",
       "   Linker_EndPosition  \n",
       "0                  22  \n",
       "1                  36  \n",
       "2                  30  \n",
       "3                  30  \n",
       "4                  30  "
      ]
     },
     "execution_count": 150,
     "metadata": {},
     "output_type": "execute_result"
    }
   ],
   "source": [
    "domain_linker.head()"
   ]
  },
  {
   "cell_type": "code",
   "execution_count": 151,
   "id": "ade04de3",
   "metadata": {},
   "outputs": [],
   "source": [
    "domain_rcl=pd.read_csv('data/9_Domain_RCL.csv')"
   ]
  },
  {
   "cell_type": "code",
   "execution_count": 152,
   "id": "e044ebdc",
   "metadata": {},
   "outputs": [
    {
     "data": {
      "text/html": [
       "<div>\n",
       "<style scoped>\n",
       "    .dataframe tbody tr th:only-of-type {\n",
       "        vertical-align: middle;\n",
       "    }\n",
       "\n",
       "    .dataframe tbody tr th {\n",
       "        vertical-align: top;\n",
       "    }\n",
       "\n",
       "    .dataframe thead th {\n",
       "        text-align: right;\n",
       "    }\n",
       "</style>\n",
       "<table border=\"1\" class=\"dataframe\">\n",
       "  <thead>\n",
       "    <tr style=\"text-align: right;\">\n",
       "      <th></th>\n",
       "      <th>domainID</th>\n",
       "      <th>domain</th>\n",
       "      <th>variant</th>\n",
       "      <th>RclID</th>\n",
       "      <th>RCL</th>\n",
       "      <th>targetProtease</th>\n",
       "      <th>tpID</th>\n",
       "      <th>S_position</th>\n",
       "      <th>E_position</th>\n",
       "    </tr>\n",
       "  </thead>\n",
       "  <tbody>\n",
       "    <tr>\n",
       "      <th>0</th>\n",
       "      <td>IRD-1</td>\n",
       "      <td>QICINCCAGKKGCNYFSADGTFICEGESEYVSEVNDNLEKHCPRNC...</td>\n",
       "      <td>1</td>\n",
       "      <td>RL-1</td>\n",
       "      <td>CPRNC</td>\n",
       "      <td>Trypsin</td>\n",
       "      <td>TP-1</td>\n",
       "      <td>41.0</td>\n",
       "      <td>45.0</td>\n",
       "    </tr>\n",
       "    <tr>\n",
       "      <th>1</th>\n",
       "      <td>IRD-2</td>\n",
       "      <td>QICTNCCAGKKGCMYFSDDGTFICEGESEYVSEVPVDNKPCPRNCD...</td>\n",
       "      <td>1</td>\n",
       "      <td>RL-1</td>\n",
       "      <td>CPRNC</td>\n",
       "      <td>Trypsin</td>\n",
       "      <td>TP-1</td>\n",
       "      <td>40.0</td>\n",
       "      <td>44.0</td>\n",
       "    </tr>\n",
       "    <tr>\n",
       "      <th>2</th>\n",
       "      <td>IRD-3</td>\n",
       "      <td>QICTNCCAGKKGCMYFSNDGTFICEGESEYVSEVPVDNKPCPRNCD...</td>\n",
       "      <td>1</td>\n",
       "      <td>RL-1</td>\n",
       "      <td>CPRNC</td>\n",
       "      <td>Trypsin</td>\n",
       "      <td>TP-1</td>\n",
       "      <td>40.0</td>\n",
       "      <td>44.0</td>\n",
       "    </tr>\n",
       "    <tr>\n",
       "      <th>3</th>\n",
       "      <td>IRD-4</td>\n",
       "      <td>VGCTNCCSGTEGCNYYSANGTFICEGQTKKTIDETNKACPRNCNPR...</td>\n",
       "      <td>1</td>\n",
       "      <td>RL-1</td>\n",
       "      <td>CPRNC</td>\n",
       "      <td>Trypsin</td>\n",
       "      <td>TP-1</td>\n",
       "      <td>38.0</td>\n",
       "      <td>42.0</td>\n",
       "    </tr>\n",
       "    <tr>\n",
       "      <th>4</th>\n",
       "      <td>IRD-5</td>\n",
       "      <td>LGCTNCCAGSLGCNYYSANGTFICEGESEIKVETIETEVETMVEPN...</td>\n",
       "      <td>1</td>\n",
       "      <td>RL-1</td>\n",
       "      <td>CPRNC</td>\n",
       "      <td>Trypsin</td>\n",
       "      <td>TP-1</td>\n",
       "      <td>48.0</td>\n",
       "      <td>52.0</td>\n",
       "    </tr>\n",
       "  </tbody>\n",
       "</table>\n",
       "</div>"
      ],
      "text/plain": [
       "  domainID                                             domain  variant RclID  \\\n",
       "0    IRD-1  QICINCCAGKKGCNYFSADGTFICEGESEYVSEVNDNLEKHCPRNC...        1  RL-1   \n",
       "1    IRD-2  QICTNCCAGKKGCMYFSDDGTFICEGESEYVSEVPVDNKPCPRNCD...        1  RL-1   \n",
       "2    IRD-3  QICTNCCAGKKGCMYFSNDGTFICEGESEYVSEVPVDNKPCPRNCD...        1  RL-1   \n",
       "3    IRD-4  VGCTNCCSGTEGCNYYSANGTFICEGQTKKTIDETNKACPRNCNPR...        1  RL-1   \n",
       "4    IRD-5  LGCTNCCAGSLGCNYYSANGTFICEGESEIKVETIETEVETMVEPN...        1  RL-1   \n",
       "\n",
       "     RCL targetProtease  tpID  S_position  E_position  \n",
       "0  CPRNC        Trypsin  TP-1        41.0        45.0  \n",
       "1  CPRNC        Trypsin  TP-1        40.0        44.0  \n",
       "2  CPRNC        Trypsin  TP-1        40.0        44.0  \n",
       "3  CPRNC        Trypsin  TP-1        38.0        42.0  \n",
       "4  CPRNC        Trypsin  TP-1        48.0        52.0  "
      ]
     },
     "execution_count": 152,
     "metadata": {},
     "output_type": "execute_result"
    }
   ],
   "source": [
    "domain_rcl.head()"
   ]
  },
  {
   "cell_type": "code",
   "execution_count": 153,
   "id": "dae6a456",
   "metadata": {},
   "outputs": [],
   "source": [
    "## Making a file with complete relation of Domain with, RCL and Linkers found in them"
   ]
  },
  {
   "cell_type": "code",
   "execution_count": 155,
   "id": "7e0e64c2",
   "metadata": {},
   "outputs": [],
   "source": [
    "# pd.merge(domain_rcl,domain_linker,on='domainID',how='left').to_csv('data/11_Domain_RCL_Linker.csv',index=False)"
   ]
  },
  {
   "cell_type": "code",
   "execution_count": 156,
   "id": "29af9193",
   "metadata": {},
   "outputs": [],
   "source": [
    "domain_rcl_linker=pd.read_csv('data/11_Domain_RCL_Linker.csv')"
   ]
  },
  {
   "cell_type": "code",
   "execution_count": 157,
   "id": "d3d656c3",
   "metadata": {},
   "outputs": [
    {
     "data": {
      "text/html": [
       "<div>\n",
       "<style scoped>\n",
       "    .dataframe tbody tr th:only-of-type {\n",
       "        vertical-align: middle;\n",
       "    }\n",
       "\n",
       "    .dataframe tbody tr th {\n",
       "        vertical-align: top;\n",
       "    }\n",
       "\n",
       "    .dataframe thead th {\n",
       "        text-align: right;\n",
       "    }\n",
       "</style>\n",
       "<table border=\"1\" class=\"dataframe\">\n",
       "  <thead>\n",
       "    <tr style=\"text-align: right;\">\n",
       "      <th></th>\n",
       "      <th>domainID</th>\n",
       "      <th>domain</th>\n",
       "      <th>variant</th>\n",
       "      <th>RclID</th>\n",
       "      <th>RCL</th>\n",
       "      <th>targetProtease</th>\n",
       "      <th>tpID</th>\n",
       "      <th>S_position</th>\n",
       "      <th>E_position</th>\n",
       "      <th>linkerID</th>\n",
       "      <th>Linker</th>\n",
       "      <th>LinkerType</th>\n",
       "      <th>Linker_StartPosition</th>\n",
       "      <th>Linker_EndPosition</th>\n",
       "    </tr>\n",
       "  </thead>\n",
       "  <tbody>\n",
       "    <tr>\n",
       "      <th>0</th>\n",
       "      <td>IRD-1</td>\n",
       "      <td>QICINCCAGKKGCNYFSADGTFICEGESEYVSEVNDNLEKHCPRNC...</td>\n",
       "      <td>1</td>\n",
       "      <td>RL-1</td>\n",
       "      <td>CPRNC</td>\n",
       "      <td>Trypsin</td>\n",
       "      <td>TP-1</td>\n",
       "      <td>41.0</td>\n",
       "      <td>45.0</td>\n",
       "      <td>NaN</td>\n",
       "      <td>NaN</td>\n",
       "      <td>NaN</td>\n",
       "      <td>NaN</td>\n",
       "      <td>NaN</td>\n",
       "    </tr>\n",
       "    <tr>\n",
       "      <th>1</th>\n",
       "      <td>IRD-2</td>\n",
       "      <td>QICTNCCAGKKGCMYFSDDGTFICEGESEYVSEVPVDNKPCPRNCD...</td>\n",
       "      <td>1</td>\n",
       "      <td>RL-1</td>\n",
       "      <td>CPRNC</td>\n",
       "      <td>Trypsin</td>\n",
       "      <td>TP-1</td>\n",
       "      <td>40.0</td>\n",
       "      <td>44.0</td>\n",
       "      <td>NaN</td>\n",
       "      <td>NaN</td>\n",
       "      <td>NaN</td>\n",
       "      <td>NaN</td>\n",
       "      <td>NaN</td>\n",
       "    </tr>\n",
       "    <tr>\n",
       "      <th>2</th>\n",
       "      <td>IRD-3</td>\n",
       "      <td>QICTNCCAGKKGCMYFSNDGTFICEGESEYVSEVPVDNKPCPRNCD...</td>\n",
       "      <td>1</td>\n",
       "      <td>RL-1</td>\n",
       "      <td>CPRNC</td>\n",
       "      <td>Trypsin</td>\n",
       "      <td>TP-1</td>\n",
       "      <td>40.0</td>\n",
       "      <td>44.0</td>\n",
       "      <td>NaN</td>\n",
       "      <td>NaN</td>\n",
       "      <td>NaN</td>\n",
       "      <td>NaN</td>\n",
       "      <td>NaN</td>\n",
       "    </tr>\n",
       "    <tr>\n",
       "      <th>3</th>\n",
       "      <td>IRD-4</td>\n",
       "      <td>VGCTNCCSGTEGCNYYSANGTFICEGQTKKTIDETNKACPRNCNPR...</td>\n",
       "      <td>1</td>\n",
       "      <td>RL-1</td>\n",
       "      <td>CPRNC</td>\n",
       "      <td>Trypsin</td>\n",
       "      <td>TP-1</td>\n",
       "      <td>38.0</td>\n",
       "      <td>42.0</td>\n",
       "      <td>NaN</td>\n",
       "      <td>NaN</td>\n",
       "      <td>NaN</td>\n",
       "      <td>NaN</td>\n",
       "      <td>NaN</td>\n",
       "    </tr>\n",
       "    <tr>\n",
       "      <th>4</th>\n",
       "      <td>IRD-5</td>\n",
       "      <td>LGCTNCCAGSLGCNYYSANGTFICEGESEIKVETIETEVETMVEPN...</td>\n",
       "      <td>1</td>\n",
       "      <td>RL-1</td>\n",
       "      <td>CPRNC</td>\n",
       "      <td>Trypsin</td>\n",
       "      <td>TP-1</td>\n",
       "      <td>48.0</td>\n",
       "      <td>52.0</td>\n",
       "      <td>NaN</td>\n",
       "      <td>NaN</td>\n",
       "      <td>NaN</td>\n",
       "      <td>NaN</td>\n",
       "      <td>NaN</td>\n",
       "    </tr>\n",
       "  </tbody>\n",
       "</table>\n",
       "</div>"
      ],
      "text/plain": [
       "  domainID                                             domain  variant RclID  \\\n",
       "0    IRD-1  QICINCCAGKKGCNYFSADGTFICEGESEYVSEVNDNLEKHCPRNC...        1  RL-1   \n",
       "1    IRD-2  QICTNCCAGKKGCMYFSDDGTFICEGESEYVSEVPVDNKPCPRNCD...        1  RL-1   \n",
       "2    IRD-3  QICTNCCAGKKGCMYFSNDGTFICEGESEYVSEVPVDNKPCPRNCD...        1  RL-1   \n",
       "3    IRD-4  VGCTNCCSGTEGCNYYSANGTFICEGQTKKTIDETNKACPRNCNPR...        1  RL-1   \n",
       "4    IRD-5  LGCTNCCAGSLGCNYYSANGTFICEGESEIKVETIETEVETMVEPN...        1  RL-1   \n",
       "\n",
       "     RCL targetProtease  tpID  S_position  E_position linkerID Linker  \\\n",
       "0  CPRNC        Trypsin  TP-1        41.0        45.0      NaN    NaN   \n",
       "1  CPRNC        Trypsin  TP-1        40.0        44.0      NaN    NaN   \n",
       "2  CPRNC        Trypsin  TP-1        40.0        44.0      NaN    NaN   \n",
       "3  CPRNC        Trypsin  TP-1        38.0        42.0      NaN    NaN   \n",
       "4  CPRNC        Trypsin  TP-1        48.0        52.0      NaN    NaN   \n",
       "\n",
       "   LinkerType  Linker_StartPosition  Linker_EndPosition  \n",
       "0         NaN                   NaN                 NaN  \n",
       "1         NaN                   NaN                 NaN  \n",
       "2         NaN                   NaN                 NaN  \n",
       "3         NaN                   NaN                 NaN  \n",
       "4         NaN                   NaN                 NaN  "
      ]
     },
     "execution_count": 157,
     "metadata": {},
     "output_type": "execute_result"
    }
   ],
   "source": [
    "domain_rcl_linker.head()"
   ]
  },
  {
   "cell_type": "code",
   "execution_count": 158,
   "id": "9410b6f7",
   "metadata": {},
   "outputs": [
    {
     "data": {
      "text/plain": [
       "DPRNP    96\n",
       "EEKKN    72\n",
       "DPNNP    61\n",
       "DPKNP    32\n",
       "EGNAE    30\n",
       "         ..\n",
       "EKDNN     1\n",
       "GRNTI     1\n",
       "EEKKS     1\n",
       "EAKKN     1\n",
       "QEKKN     1\n",
       "Name: Linker, Length: 75, dtype: int64"
      ]
     },
     "execution_count": 158,
     "metadata": {},
     "output_type": "execute_result"
    }
   ],
   "source": [
    "domain_rcl_linker.Linker.value_counts()"
   ]
  },
  {
   "cell_type": "code",
   "execution_count": 159,
   "id": "63ead442",
   "metadata": {},
   "outputs": [
    {
     "data": {
      "text/plain": [
       "2.0    256\n",
       "1.0    240\n",
       "Name: LinkerType, dtype: int64"
      ]
     },
     "execution_count": 159,
     "metadata": {},
     "output_type": "execute_result"
    }
   ],
   "source": [
    "domain_rcl_linker.LinkerType.value_counts()"
   ]
  },
  {
   "cell_type": "code",
   "execution_count": 161,
   "id": "762b4615",
   "metadata": {},
   "outputs": [
    {
     "data": {
      "text/plain": [
       "75"
      ]
     },
     "execution_count": 161,
     "metadata": {},
     "output_type": "execute_result"
    }
   ],
   "source": [
    "domain_rcl_linker.Linker.nunique()"
   ]
  },
  {
   "cell_type": "code",
   "execution_count": 164,
   "id": "36010467",
   "metadata": {},
   "outputs": [
    {
     "data": {
      "text/plain": [
       "78"
      ]
     },
     "execution_count": 164,
     "metadata": {},
     "output_type": "execute_result"
    }
   ],
   "source": [
    "linkers.Linker.nunique()"
   ]
  },
  {
   "cell_type": "code",
   "execution_count": 165,
   "id": "ecded19a",
   "metadata": {},
   "outputs": [],
   "source": [
    "## i.e. 3 linkers (78-75) are not found in any of the domains. Which are these  "
   ]
  },
  {
   "cell_type": "code",
   "execution_count": null,
   "id": "46f6ef3e",
   "metadata": {},
   "outputs": [],
   "source": []
  }
 ],
 "metadata": {
  "kernelspec": {
   "display_name": "Python 3",
   "language": "python",
   "name": "python3"
  },
  "language_info": {
   "codemirror_mode": {
    "name": "ipython",
    "version": 3
   },
   "file_extension": ".py",
   "mimetype": "text/x-python",
   "name": "python",
   "nbconvert_exporter": "python",
   "pygments_lexer": "ipython3",
   "version": "3.9.4"
  }
 },
 "nbformat": 4,
 "nbformat_minor": 5
}
