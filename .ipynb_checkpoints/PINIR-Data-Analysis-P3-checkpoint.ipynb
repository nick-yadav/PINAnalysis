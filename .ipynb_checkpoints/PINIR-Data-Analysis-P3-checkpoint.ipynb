{
 "cells": [
  {
   "cell_type": "markdown",
   "id": "10c3fa44",
   "metadata": {},
   "source": [
    "# PINIR Data Analysis Page-3"
   ]
  },
  {
   "cell_type": "code",
   "execution_count": 1,
   "id": "9297ade9",
   "metadata": {},
   "outputs": [],
   "source": [
    "import pandas as pd\n",
    "import numpy as np"
   ]
  },
  {
   "cell_type": "code",
   "execution_count": 2,
   "id": "c3d7e2d1",
   "metadata": {},
   "outputs": [],
   "source": [
    "pd.set_option('display.max_columns',None)\n",
    "pd.set_option('display.max_rows',None)"
   ]
  },
  {
   "cell_type": "code",
   "execution_count": 3,
   "id": "cbeffcc1",
   "metadata": {},
   "outputs": [],
   "source": [
    "pd.reset_option('display.max_columns')\n",
    "pd.reset_option('display.max_rows')"
   ]
  },
  {
   "cell_type": "code",
   "execution_count": 4,
   "id": "ff99bfb8",
   "metadata": {},
   "outputs": [],
   "source": [
    "pd.set_option('display.max_colwidth',2000)"
   ]
  },
  {
   "cell_type": "code",
   "execution_count": 5,
   "id": "87753534",
   "metadata": {},
   "outputs": [],
   "source": [
    "pd.reset_option('display.max_colwidth')"
   ]
  },
  {
   "cell_type": "markdown",
   "id": "65dcb406",
   "metadata": {},
   "source": [
    "## Sequence-Domains-Organisms "
   ]
  },
  {
   "cell_type": "code",
   "execution_count": 6,
   "id": "afccd5e4",
   "metadata": {},
   "outputs": [],
   "source": [
    "pinir=pd.read_csv('data/19_Sequences_Domains_RCL_Linker_Organisms.csv')"
   ]
  },
  {
   "cell_type": "code",
   "execution_count": 7,
   "id": "3281b535",
   "metadata": {},
   "outputs": [
    {
     "data": {
      "text/plain": [
       "(1309, 26)"
      ]
     },
     "execution_count": 7,
     "metadata": {},
     "output_type": "execute_result"
    }
   ],
   "source": [
    "pinir.shape"
   ]
  },
  {
   "cell_type": "code",
   "execution_count": 8,
   "id": "34e0eebe",
   "metadata": {},
   "outputs": [
    {
     "data": {
      "text/plain": [
       "Index(['UniprotID', 'Sequence', 'OrganismID', 'Organism', 'Genus', 'Species',\n",
       "       'Solanaceae', 'DomainID', 'Domain', 'DomainStartPosition',\n",
       "       'DomainEndPosition', 'DomainType', 'RclID', 'RCL', 'P2Residue',\n",
       "       'P1Residue', 'P1primeResidue', 'targetProtease', 'tpID',\n",
       "       'RCL_startPosition', 'RCL_endPosition', 'linkerID', 'Linker',\n",
       "       'LinkerType', 'Linker_startPosition', 'Linker_endPosition'],\n",
       "      dtype='object')"
      ]
     },
     "execution_count": 8,
     "metadata": {},
     "output_type": "execute_result"
    }
   ],
   "source": [
    "pinir.columns"
   ]
  },
  {
   "cell_type": "code",
   "execution_count": 9,
   "id": "18176eef",
   "metadata": {},
   "outputs": [],
   "source": [
    "seq_org_dom=pinir[['UniprotID','OrganismID', 'Organism','DomainID','RclID', 'RCL','targetProtease', 'tpID','linkerID', 'Linker']]"
   ]
  },
  {
   "cell_type": "code",
   "execution_count": 10,
   "id": "ad786c71",
   "metadata": {},
   "outputs": [
    {
     "data": {
      "text/html": [
       "<div>\n",
       "<style scoped>\n",
       "    .dataframe tbody tr th:only-of-type {\n",
       "        vertical-align: middle;\n",
       "    }\n",
       "\n",
       "    .dataframe tbody tr th {\n",
       "        vertical-align: top;\n",
       "    }\n",
       "\n",
       "    .dataframe thead th {\n",
       "        text-align: right;\n",
       "    }\n",
       "</style>\n",
       "<table border=\"1\" class=\"dataframe\">\n",
       "  <thead>\n",
       "    <tr style=\"text-align: right;\">\n",
       "      <th></th>\n",
       "      <th>UniprotID</th>\n",
       "      <th>OrganismID</th>\n",
       "      <th>Organism</th>\n",
       "      <th>DomainID</th>\n",
       "      <th>RclID</th>\n",
       "      <th>RCL</th>\n",
       "      <th>targetProtease</th>\n",
       "      <th>tpID</th>\n",
       "      <th>linkerID</th>\n",
       "      <th>Linker</th>\n",
       "    </tr>\n",
       "  </thead>\n",
       "  <tbody>\n",
       "    <tr>\n",
       "      <th>0</th>\n",
       "      <td>P05119</td>\n",
       "      <td>4081</td>\n",
       "      <td>Solanum lycopersicum (Tomato) (Lycopersicon es...</td>\n",
       "      <td>IRD-62</td>\n",
       "      <td>RL-7</td>\n",
       "      <td>CTFNC</td>\n",
       "      <td>Chymotrypsin</td>\n",
       "      <td>TP-2</td>\n",
       "      <td>L-21</td>\n",
       "      <td>DPKRP</td>\n",
       "    </tr>\n",
       "    <tr>\n",
       "      <th>1</th>\n",
       "      <td>P05119</td>\n",
       "      <td>4081</td>\n",
       "      <td>Solanum lycopersicum (Tomato) (Lycopersicon es...</td>\n",
       "      <td>IRD-405</td>\n",
       "      <td>RL-7</td>\n",
       "      <td>CTFNC</td>\n",
       "      <td>Chymotrypsin</td>\n",
       "      <td>TP-2</td>\n",
       "      <td>NaN</td>\n",
       "      <td>NaN</td>\n",
       "    </tr>\n",
       "    <tr>\n",
       "      <th>2</th>\n",
       "      <td>P05119</td>\n",
       "      <td>4081</td>\n",
       "      <td>Solanum lycopersicum (Tomato) (Lycopersicon es...</td>\n",
       "      <td>IRD-456</td>\n",
       "      <td>RL-4</td>\n",
       "      <td>CTREC</td>\n",
       "      <td>Trypsin</td>\n",
       "      <td>TP-1</td>\n",
       "      <td>L-48</td>\n",
       "      <td>EGSPL</td>\n",
       "    </tr>\n",
       "  </tbody>\n",
       "</table>\n",
       "</div>"
      ],
      "text/plain": [
       "  UniprotID  OrganismID                                           Organism  \\\n",
       "0    P05119        4081  Solanum lycopersicum (Tomato) (Lycopersicon es...   \n",
       "1    P05119        4081  Solanum lycopersicum (Tomato) (Lycopersicon es...   \n",
       "2    P05119        4081  Solanum lycopersicum (Tomato) (Lycopersicon es...   \n",
       "\n",
       "  DomainID RclID    RCL targetProtease  tpID linkerID Linker  \n",
       "0   IRD-62  RL-7  CTFNC   Chymotrypsin  TP-2     L-21  DPKRP  \n",
       "1  IRD-405  RL-7  CTFNC   Chymotrypsin  TP-2      NaN    NaN  \n",
       "2  IRD-456  RL-4  CTREC        Trypsin  TP-1     L-48  EGSPL  "
      ]
     },
     "execution_count": 10,
     "metadata": {},
     "output_type": "execute_result"
    }
   ],
   "source": [
    "seq_org_dom.head(3)"
   ]
  },
  {
   "cell_type": "code",
   "execution_count": 11,
   "id": "5d0a00bd",
   "metadata": {},
   "outputs": [
    {
     "data": {
      "text/plain": [
       "59"
      ]
     },
     "execution_count": 11,
     "metadata": {},
     "output_type": "execute_result"
    }
   ],
   "source": [
    "seq_org_dom.duplicated().sum()"
   ]
  },
  {
   "cell_type": "code",
   "execution_count": 12,
   "id": "6f267db2",
   "metadata": {},
   "outputs": [],
   "source": [
    "seq_dom=seq_org_dom[['UniprotID','DomainID']]"
   ]
  },
  {
   "cell_type": "code",
   "execution_count": 13,
   "id": "865e4a35",
   "metadata": {},
   "outputs": [],
   "source": [
    "seq_org=seq_org_dom[['UniprotID','Organism']]"
   ]
  },
  {
   "cell_type": "code",
   "execution_count": 14,
   "id": "d308edd0",
   "metadata": {},
   "outputs": [],
   "source": [
    "seq_rcl=seq_org_dom[['UniprotID','RclID']]"
   ]
  },
  {
   "cell_type": "code",
   "execution_count": 15,
   "id": "dd24e51b",
   "metadata": {},
   "outputs": [],
   "source": [
    "seq_linker=seq_org_dom[['UniprotID','linkerID']]"
   ]
  },
  {
   "cell_type": "markdown",
   "id": "d376014f",
   "metadata": {},
   "source": [
    "## Sequence- Domains"
   ]
  },
  {
   "cell_type": "code",
   "execution_count": 16,
   "id": "192adcf8",
   "metadata": {},
   "outputs": [
    {
     "data": {
      "text/plain": [
       "59"
      ]
     },
     "execution_count": 16,
     "metadata": {},
     "output_type": "execute_result"
    }
   ],
   "source": [
    "seq_dom.duplicated().sum()"
   ]
  },
  {
   "cell_type": "code",
   "execution_count": 17,
   "id": "a94274f7",
   "metadata": {},
   "outputs": [
    {
     "data": {
      "text/plain": [
       "UniprotID    1250\n",
       "DomainID     1250\n",
       "dtype: int64"
      ]
     },
     "execution_count": 17,
     "metadata": {},
     "output_type": "execute_result"
    }
   ],
   "source": [
    "seq_dom.loc[~seq_dom.duplicated(),:].count()"
   ]
  },
  {
   "cell_type": "markdown",
   "id": "c949fd47",
   "metadata": {},
   "source": [
    "### Sequences With Number Of Domains \n",
    "Duplicated Domains counted in a sequence"
   ]
  },
  {
   "cell_type": "code",
   "execution_count": 18,
   "id": "90949624",
   "metadata": {},
   "outputs": [
    {
     "data": {
      "text/plain": [
       "A0A1U7WDA6    21\n",
       "Q1WL31        15\n",
       "Q9SDW8        15\n",
       "Q1WL35        15\n",
       "A0A1U7Y2F0    13\n",
       "              ..\n",
       "A0A1U8FAF4     1\n",
       "C5WLW2         1\n",
       "A0A4U6SRV0     1\n",
       "A0A059BUH3     1\n",
       "B9S759         1\n",
       "Name: UniprotID, Length: 387, dtype: int64"
      ]
     },
     "execution_count": 18,
     "metadata": {},
     "output_type": "execute_result"
    }
   ],
   "source": [
    "seq_dom.UniprotID.value_counts()"
   ]
  },
  {
   "cell_type": "code",
   "execution_count": 20,
   "id": "e8616f1f",
   "metadata": {},
   "outputs": [],
   "source": [
    "## seq_dom.UniprotID.value_counts().to_csv('data/37(a)_SequenceWithNumberOfDomains.csv')"
   ]
  },
  {
   "cell_type": "markdown",
   "id": "90899854",
   "metadata": {},
   "source": [
    "### Domains Distribution across sequences"
   ]
  },
  {
   "cell_type": "code",
   "execution_count": 21,
   "id": "2ee5dfa3",
   "metadata": {},
   "outputs": [
    {
     "data": {
      "text/plain": [
       "UniprotID   DomainID\n",
       "A0A022Q5A4  IRD-300     1\n",
       "A0A023UDB8  IRD-237     1\n",
       "            IRD-240     1\n",
       "            IRD-467     1\n",
       "            IRD-489     1\n",
       "                       ..\n",
       "T1PZL0      IRD-560     1\n",
       "            IRD-90      1\n",
       "            IRD-99      1\n",
       "W5ADU4      IRD-329     1\n",
       "W9RZD9      IRD-681     1\n",
       "Name: DomainID, Length: 1250, dtype: int64"
      ]
     },
     "execution_count": 21,
     "metadata": {},
     "output_type": "execute_result"
    }
   ],
   "source": [
    "seq_dom.groupby('UniprotID').DomainID.value_counts()"
   ]
  },
  {
   "cell_type": "code",
   "execution_count": 23,
   "id": "ac67b911",
   "metadata": {},
   "outputs": [],
   "source": [
    "## seq_dom.groupby('UniprotID').DomainID.value_counts().to_csv('data/37(b)_SequenceWithOccuringDomains.csv')"
   ]
  },
  {
   "cell_type": "markdown",
   "id": "0c168430",
   "metadata": {},
   "source": [
    "### Sequence Distribution across Domains"
   ]
  },
  {
   "cell_type": "code",
   "execution_count": 24,
   "id": "b343add1",
   "metadata": {},
   "outputs": [
    {
     "data": {
      "text/plain": [
       "DomainID  UniprotID \n",
       "IRD-1     A0A3Q7IU74    1\n",
       "IRD-10    A0A2G2XU31    1\n",
       "          A0A2G3AT01    1\n",
       "IRD-100   T1PZ73        1\n",
       "IRD-101   T1PZK0        1\n",
       "                       ..\n",
       "IRD-95    T1PZB5        1\n",
       "IRD-96    T1PZB3        1\n",
       "IRD-97    T1PZ76        1\n",
       "IRD-98    T1PZ76        1\n",
       "IRD-99    T1PZL0        1\n",
       "Name: UniprotID, Length: 1250, dtype: int64"
      ]
     },
     "execution_count": 24,
     "metadata": {},
     "output_type": "execute_result"
    }
   ],
   "source": [
    "seq_dom.groupby('DomainID').UniprotID.value_counts()"
   ]
  },
  {
   "cell_type": "code",
   "execution_count": 26,
   "id": "25bd73fa",
   "metadata": {},
   "outputs": [],
   "source": [
    "## seq_dom.groupby('DomainID').UniprotID.value_counts().to_csv('data/37(c)_DomainsWithSequencesInWhichTheyOccur.csv')"
   ]
  },
  {
   "cell_type": "markdown",
   "id": "66c1badd",
   "metadata": {},
   "source": [
    "## Sequence-Organism"
   ]
  },
  {
   "cell_type": "code",
   "execution_count": 27,
   "id": "822e1aa0",
   "metadata": {},
   "outputs": [
    {
     "data": {
      "text/html": [
       "<div>\n",
       "<style scoped>\n",
       "    .dataframe tbody tr th:only-of-type {\n",
       "        vertical-align: middle;\n",
       "    }\n",
       "\n",
       "    .dataframe tbody tr th {\n",
       "        vertical-align: top;\n",
       "    }\n",
       "\n",
       "    .dataframe thead th {\n",
       "        text-align: right;\n",
       "    }\n",
       "</style>\n",
       "<table border=\"1\" class=\"dataframe\">\n",
       "  <thead>\n",
       "    <tr style=\"text-align: right;\">\n",
       "      <th></th>\n",
       "      <th>UniprotID</th>\n",
       "      <th>Organism</th>\n",
       "    </tr>\n",
       "  </thead>\n",
       "  <tbody>\n",
       "    <tr>\n",
       "      <th>0</th>\n",
       "      <td>P05119</td>\n",
       "      <td>Solanum lycopersicum (Tomato) (Lycopersicon es...</td>\n",
       "    </tr>\n",
       "    <tr>\n",
       "      <th>1</th>\n",
       "      <td>P05119</td>\n",
       "      <td>Solanum lycopersicum (Tomato) (Lycopersicon es...</td>\n",
       "    </tr>\n",
       "    <tr>\n",
       "      <th>2</th>\n",
       "      <td>P05119</td>\n",
       "      <td>Solanum lycopersicum (Tomato) (Lycopersicon es...</td>\n",
       "    </tr>\n",
       "    <tr>\n",
       "      <th>3</th>\n",
       "      <td>P84813</td>\n",
       "      <td>Solanum tuberosum (Potato)</td>\n",
       "    </tr>\n",
       "    <tr>\n",
       "      <th>4</th>\n",
       "      <td>P01080</td>\n",
       "      <td>Solanum tuberosum (Potato)</td>\n",
       "    </tr>\n",
       "  </tbody>\n",
       "</table>\n",
       "</div>"
      ],
      "text/plain": [
       "  UniprotID                                           Organism\n",
       "0    P05119  Solanum lycopersicum (Tomato) (Lycopersicon es...\n",
       "1    P05119  Solanum lycopersicum (Tomato) (Lycopersicon es...\n",
       "2    P05119  Solanum lycopersicum (Tomato) (Lycopersicon es...\n",
       "3    P84813                         Solanum tuberosum (Potato)\n",
       "4    P01080                         Solanum tuberosum (Potato)"
      ]
     },
     "execution_count": 27,
     "metadata": {},
     "output_type": "execute_result"
    }
   ],
   "source": [
    "seq_org.head()"
   ]
  },
  {
   "cell_type": "code",
   "execution_count": 29,
   "id": "64cc0578",
   "metadata": {},
   "outputs": [
    {
     "data": {
      "text/plain": [
       "(1309, 2)"
      ]
     },
     "execution_count": 29,
     "metadata": {},
     "output_type": "execute_result"
    }
   ],
   "source": [
    "seq_org.shape"
   ]
  },
  {
   "cell_type": "code",
   "execution_count": 30,
   "id": "7a3caaf2",
   "metadata": {},
   "outputs": [
    {
     "data": {
      "text/plain": [
       "922"
      ]
     },
     "execution_count": 30,
     "metadata": {},
     "output_type": "execute_result"
    }
   ],
   "source": [
    "seq_org.duplicated().sum()"
   ]
  },
  {
   "cell_type": "code",
   "execution_count": 31,
   "id": "b328e133",
   "metadata": {},
   "outputs": [
    {
     "data": {
      "text/plain": [
       "UniprotID    387\n",
       "Organism     387\n",
       "dtype: int64"
      ]
     },
     "execution_count": 31,
     "metadata": {},
     "output_type": "execute_result"
    }
   ],
   "source": [
    "seq_org.loc[~seq_org.duplicated(),:].count()"
   ]
  },
  {
   "cell_type": "code",
   "execution_count": 32,
   "id": "5ba01d40",
   "metadata": {},
   "outputs": [],
   "source": [
    "seq_org_unique=seq_org.loc[~seq_org.duplicated(),:]"
   ]
  },
  {
   "cell_type": "code",
   "execution_count": 33,
   "id": "dd3d6fda",
   "metadata": {},
   "outputs": [
    {
     "data": {
      "text/html": [
       "<div>\n",
       "<style scoped>\n",
       "    .dataframe tbody tr th:only-of-type {\n",
       "        vertical-align: middle;\n",
       "    }\n",
       "\n",
       "    .dataframe tbody tr th {\n",
       "        vertical-align: top;\n",
       "    }\n",
       "\n",
       "    .dataframe thead th {\n",
       "        text-align: right;\n",
       "    }\n",
       "</style>\n",
       "<table border=\"1\" class=\"dataframe\">\n",
       "  <thead>\n",
       "    <tr style=\"text-align: right;\">\n",
       "      <th></th>\n",
       "      <th>UniprotID</th>\n",
       "      <th>Organism</th>\n",
       "    </tr>\n",
       "  </thead>\n",
       "  <tbody>\n",
       "    <tr>\n",
       "      <th>0</th>\n",
       "      <td>P05119</td>\n",
       "      <td>Solanum lycopersicum (Tomato) (Lycopersicon es...</td>\n",
       "    </tr>\n",
       "    <tr>\n",
       "      <th>3</th>\n",
       "      <td>P84813</td>\n",
       "      <td>Solanum tuberosum (Potato)</td>\n",
       "    </tr>\n",
       "    <tr>\n",
       "      <th>4</th>\n",
       "      <td>P01080</td>\n",
       "      <td>Solanum tuberosum (Potato)</td>\n",
       "    </tr>\n",
       "    <tr>\n",
       "      <th>7</th>\n",
       "      <td>P01078</td>\n",
       "      <td>Solanum melongena (Eggplant) (Aubergine)</td>\n",
       "    </tr>\n",
       "    <tr>\n",
       "      <th>8</th>\n",
       "      <td>P83241</td>\n",
       "      <td>Capsicum annuum (Capsicum pepper)</td>\n",
       "    </tr>\n",
       "  </tbody>\n",
       "</table>\n",
       "</div>"
      ],
      "text/plain": [
       "  UniprotID                                           Organism\n",
       "0    P05119  Solanum lycopersicum (Tomato) (Lycopersicon es...\n",
       "3    P84813                         Solanum tuberosum (Potato)\n",
       "4    P01080                         Solanum tuberosum (Potato)\n",
       "7    P01078           Solanum melongena (Eggplant) (Aubergine)\n",
       "8    P83241                  Capsicum annuum (Capsicum pepper)"
      ]
     },
     "execution_count": 33,
     "metadata": {},
     "output_type": "execute_result"
    }
   ],
   "source": [
    "seq_org_unique.head()"
   ]
  },
  {
   "cell_type": "code",
   "execution_count": 35,
   "id": "59147e59",
   "metadata": {},
   "outputs": [],
   "source": [
    "## seq_org_unique.to_csv('data/38(a)SequencesWithOrganism.csv',index=False)"
   ]
  },
  {
   "cell_type": "markdown",
   "id": "2dabc2a5",
   "metadata": {},
   "source": [
    "### Sequence Distribution Organism Wise"
   ]
  },
  {
   "cell_type": "code",
   "execution_count": 36,
   "id": "6276c5c2",
   "metadata": {},
   "outputs": [
    {
     "data": {
      "text/plain": [
       "Organism                                                       UniprotID \n",
       "Aegilops tauschii (Tausch's goatgrass) (Aegilops squarrosa)    R7WBW6        1\n",
       "Aegilops tauschii subsp. strangulata (Goatgrass)               A0A453A379    1\n",
       "                                                               A0A453ELF2    1\n",
       "Ananas comosus (Pineapple) (Ananas ananas)                     A0A199UJF1    1\n",
       "                                                               A0A199W8X6    1\n",
       "                                                                            ..\n",
       "Triticum turgidum subsp. durum (Durum wheat) (Triticum durum)  A0A446KEB4    1\n",
       "Triticum urartu (Red wild einkorn) (Crithodium urartu)         M7ZEF2        1\n",
       "Vitis vinifera (Grape)                                         D7TGT1        1\n",
       "Zea mays (Maize)                                               A3FMA3        1\n",
       "                                                               B6SSS5        1\n",
       "Name: UniprotID, Length: 387, dtype: int64"
      ]
     },
     "execution_count": 36,
     "metadata": {},
     "output_type": "execute_result"
    }
   ],
   "source": [
    "seq_org_unique.groupby('Organism').UniprotID.value_counts()"
   ]
  },
  {
   "cell_type": "code",
   "execution_count": 38,
   "id": "99b70c8a",
   "metadata": {},
   "outputs": [],
   "source": [
    "## seq_org_unique.groupby('Organism').UniprotID.value_counts().to_csv('data/38(b)OrganismWithSequencesInWhichTheyOccur.csv')"
   ]
  },
  {
   "cell_type": "markdown",
   "id": "a51983e4",
   "metadata": {},
   "source": [
    "### Organism Distribution"
   ]
  },
  {
   "cell_type": "code",
   "execution_count": 39,
   "id": "116d5739",
   "metadata": {},
   "outputs": [
    {
     "data": {
      "text/plain": [
       "Capsicum annuum (Capsicum pepper)                          98\n",
       "Solanum tuberosum (Potato)                                 52\n",
       "Nicotiana tabacum (Common tobacco)                         21\n",
       "Solanum lycopersicum (Tomato) (Lycopersicon esculentum)    16\n",
       "Capsicum chinense (Scotch bonnet) (Bonnet pepper)          13\n",
       "Name: Organism, dtype: int64"
      ]
     },
     "execution_count": 39,
     "metadata": {},
     "output_type": "execute_result"
    }
   ],
   "source": [
    "seq_org_unique.Organism.value_counts().head()"
   ]
  },
  {
   "cell_type": "code",
   "execution_count": 41,
   "id": "c7e78fb2",
   "metadata": {},
   "outputs": [],
   "source": [
    "## seq_org_unique.Organism.value_counts().to_csv('data/38(c)OrganismWithNumberOfSequencesInWhichTheyOccur.csv')"
   ]
  },
  {
   "cell_type": "markdown",
   "id": "07032280",
   "metadata": {},
   "source": [
    "## Sequence-RCL"
   ]
  },
  {
   "cell_type": "code",
   "execution_count": 42,
   "id": "753c89e7",
   "metadata": {},
   "outputs": [
    {
     "data": {
      "text/plain": [
       "UniprotID    1309\n",
       "RclID        1306\n",
       "dtype: int64"
      ]
     },
     "execution_count": 42,
     "metadata": {},
     "output_type": "execute_result"
    }
   ],
   "source": [
    "seq_rcl.count()"
   ]
  },
  {
   "cell_type": "markdown",
   "id": "27fc8251",
   "metadata": {},
   "source": [
    "### RCL Distribution across sequences"
   ]
  },
  {
   "cell_type": "code",
   "execution_count": 43,
   "id": "e69d558a",
   "metadata": {},
   "outputs": [
    {
     "data": {
      "text/plain": [
       "UniprotID   RclID\n",
       "A0A022Q5A4  RL-27    1\n",
       "A0A023UDB8  RL-1     3\n",
       "            RL-9     1\n",
       "A0A059BUH3  RL-41    1\n",
       "A0A059PYZ4  RL-58    1\n",
       "                    ..\n",
       "T1PZK7      RL-6     2\n",
       "T1PZL0      RL-1     3\n",
       "            RL-6     2\n",
       "W5ADU4      RL-33    1\n",
       "W9RZD9      RL-33    1\n",
       "Name: RclID, Length: 619, dtype: int64"
      ]
     },
     "execution_count": 43,
     "metadata": {},
     "output_type": "execute_result"
    }
   ],
   "source": [
    "seq_rcl.groupby('UniprotID').RclID.value_counts()"
   ]
  },
  {
   "cell_type": "code",
   "execution_count": 45,
   "id": "d3521b62",
   "metadata": {},
   "outputs": [],
   "source": [
    "## seq_rcl.groupby('UniprotID').RclID.value_counts().to_csv('data/39(a)RCLsFoundInSequences.csv')"
   ]
  },
  {
   "cell_type": "markdown",
   "id": "514fdd67",
   "metadata": {},
   "source": [
    "### Distribution of Sequences across RCL"
   ]
  },
  {
   "cell_type": "code",
   "execution_count": 46,
   "id": "1b1f42c6",
   "metadata": {},
   "outputs": [
    {
     "data": {
      "text/plain": [
       "RclID  UniprotID \n",
       "RL-1   A0A1U7WDA6    18\n",
       "       Q1WL31        13\n",
       "       Q1WL35        13\n",
       "       Q84LJ9        13\n",
       "       Q9SDW8        13\n",
       "                     ..\n",
       "RL-9   Q3S483         1\n",
       "       Q3S485         1\n",
       "       Q3S493         1\n",
       "       Q41488         1\n",
       "       Q84L56         1\n",
       "Name: UniprotID, Length: 619, dtype: int64"
      ]
     },
     "execution_count": 46,
     "metadata": {},
     "output_type": "execute_result"
    }
   ],
   "source": [
    "seq_rcl.groupby('RclID').UniprotID.value_counts()"
   ]
  },
  {
   "cell_type": "code",
   "execution_count": 48,
   "id": "6c2eb921",
   "metadata": {},
   "outputs": [],
   "source": [
    "## seq_rcl.groupby('RclID').UniprotID.value_counts().to_csv('data/39(b)SequencesInwhichRCLisFound.csv')"
   ]
  },
  {
   "cell_type": "markdown",
   "id": "264503f4",
   "metadata": {},
   "source": [
    "### RCL Occurrence Frequency"
   ]
  },
  {
   "cell_type": "code",
   "execution_count": 49,
   "id": "2740dbc7",
   "metadata": {},
   "outputs": [
    {
     "data": {
      "text/plain": [
       "RL-1     578\n",
       "RL-3     113\n",
       "RL-6      94\n",
       "RL-2      55\n",
       "RL-9      52\n",
       "        ... \n",
       "RL-51      1\n",
       "RL-45      1\n",
       "RL-55      1\n",
       "RL-57      1\n",
       "RL-54      1\n",
       "Name: RclID, Length: 62, dtype: int64"
      ]
     },
     "execution_count": 49,
     "metadata": {},
     "output_type": "execute_result"
    }
   ],
   "source": [
    "seq_rcl.RclID.value_counts()"
   ]
  },
  {
   "cell_type": "code",
   "execution_count": 51,
   "id": "31faa5a5",
   "metadata": {},
   "outputs": [],
   "source": [
    "## seq_rcl.RclID.value_counts().to_csv('data/39(c)SequencesCountInwhichRCLisFound.csv')"
   ]
  },
  {
   "cell_type": "markdown",
   "id": "70e62842",
   "metadata": {},
   "source": [
    "## Sequence- Linker"
   ]
  },
  {
   "cell_type": "code",
   "execution_count": 52,
   "id": "a7bbb85c",
   "metadata": {},
   "outputs": [
    {
     "data": {
      "text/plain": [
       "UniprotID    1309\n",
       "linkerID     1016\n",
       "dtype: int64"
      ]
     },
     "execution_count": 52,
     "metadata": {},
     "output_type": "execute_result"
    }
   ],
   "source": [
    "seq_linker.count()"
   ]
  },
  {
   "cell_type": "markdown",
   "id": "dba5a895",
   "metadata": {},
   "source": [
    "### Linker Distribution across Sequences"
   ]
  },
  {
   "cell_type": "code",
   "execution_count": 53,
   "id": "0d8412db",
   "metadata": {},
   "outputs": [
    {
     "data": {
      "text/plain": [
       "UniprotID   linkerID\n",
       "A0A023UDB8  L-3         2\n",
       "            L-47        1\n",
       "A0A075EZT7  L-24        1\n",
       "            L-3         1\n",
       "            L-55        1\n",
       "                       ..\n",
       "T1PZK4      L-19        1\n",
       "T1PZK7      L-5         3\n",
       "            L-33        2\n",
       "T1PZL0      L-5         3\n",
       "            L-33        2\n",
       "Name: linkerID, Length: 555, dtype: int64"
      ]
     },
     "execution_count": 53,
     "metadata": {},
     "output_type": "execute_result"
    }
   ],
   "source": [
    "seq_linker.groupby('UniprotID').linkerID.value_counts()"
   ]
  },
  {
   "cell_type": "code",
   "execution_count": 55,
   "id": "ba7dc4f7",
   "metadata": {},
   "outputs": [],
   "source": [
    "## seq_linker.groupby('UniprotID').linkerID.value_counts().to_csv('data/40(a)LinkersFoundInSequences.csv')"
   ]
  },
  {
   "cell_type": "markdown",
   "id": "21f8b392",
   "metadata": {},
   "source": [
    "### Sequences Distribution across Linkers"
   ]
  },
  {
   "cell_type": "code",
   "execution_count": 56,
   "id": "dc43a208",
   "metadata": {},
   "outputs": [
    {
     "data": {
      "text/plain": [
       "linkerID  UniprotID \n",
       "L-1       A0A1U7WDA6    10\n",
       "          A0A1U7Y2F0     6\n",
       "          Q1WL36         6\n",
       "          Q1WL38         6\n",
       "          Q84LJ9         6\n",
       "                        ..\n",
       "L-8       T1PZF9         1\n",
       "          T1PZK0         1\n",
       "L-9       A0A097J9D7     1\n",
       "          T1PZ75         1\n",
       "          T1PZ76         1\n",
       "Name: UniprotID, Length: 555, dtype: int64"
      ]
     },
     "execution_count": 56,
     "metadata": {},
     "output_type": "execute_result"
    }
   ],
   "source": [
    "seq_linker.groupby('linkerID').UniprotID.value_counts()"
   ]
  },
  {
   "cell_type": "code",
   "execution_count": 58,
   "id": "8f4c7271",
   "metadata": {},
   "outputs": [],
   "source": [
    "## seq_linker.groupby('linkerID').UniprotID.value_counts().to_csv('data/40(b)SequencesInWhichLinkerIsFound.csv')"
   ]
  },
  {
   "cell_type": "markdown",
   "id": "7b6a67ac",
   "metadata": {},
   "source": [
    "### Linker Occurrence Frequency"
   ]
  },
  {
   "cell_type": "code",
   "execution_count": 59,
   "id": "7332048c",
   "metadata": {},
   "outputs": [
    {
     "data": {
      "text/plain": [
       "L-5     209\n",
       "L-1     165\n",
       "L-25    142\n",
       "L-33    129\n",
       "L-3      50\n",
       "       ... \n",
       "L-11      1\n",
       "L-19      1\n",
       "L-52      1\n",
       "L-12      1\n",
       "L-62      1\n",
       "Name: linkerID, Length: 75, dtype: int64"
      ]
     },
     "execution_count": 59,
     "metadata": {},
     "output_type": "execute_result"
    }
   ],
   "source": [
    "seq_linker.linkerID.value_counts()"
   ]
  },
  {
   "cell_type": "code",
   "execution_count": 61,
   "id": "ed03493d",
   "metadata": {},
   "outputs": [],
   "source": [
    "## seq_linker.linkerID.value_counts().to_csv('data/40(c)SequencesCountInwhichLinkerIsFound.csv')"
   ]
  },
  {
   "cell_type": "code",
   "execution_count": 62,
   "id": "8b94b1a5",
   "metadata": {},
   "outputs": [],
   "source": [
    "org_dom=seq_org_dom[['OrganismID','DomainID']]"
   ]
  },
  {
   "cell_type": "code",
   "execution_count": 63,
   "id": "2dd30a3a",
   "metadata": {},
   "outputs": [],
   "source": [
    "org_rcl=seq_org_dom[['OrganismID','RclID']]"
   ]
  },
  {
   "cell_type": "code",
   "execution_count": 64,
   "id": "386403a6",
   "metadata": {},
   "outputs": [],
   "source": [
    "org_linker=seq_org_dom[['OrganismID','linkerID']]"
   ]
  },
  {
   "cell_type": "markdown",
   "id": "1bb86cd3",
   "metadata": {},
   "source": [
    "## Organism- Domain"
   ]
  },
  {
   "cell_type": "code",
   "execution_count": 65,
   "id": "e17425a4",
   "metadata": {},
   "outputs": [
    {
     "data": {
      "text/plain": [
       "OrganismID    1309\n",
       "DomainID      1309\n",
       "dtype: int64"
      ]
     },
     "execution_count": 65,
     "metadata": {},
     "output_type": "execute_result"
    }
   ],
   "source": [
    "org_dom.count()"
   ]
  },
  {
   "cell_type": "markdown",
   "id": "603cf071",
   "metadata": {},
   "source": [
    "### Domain Distribution across Organisms"
   ]
  },
  {
   "cell_type": "code",
   "execution_count": 66,
   "id": "53b46365",
   "metadata": {},
   "outputs": [
    {
     "data": {
      "text/plain": [
       "OrganismID  DomainID\n",
       "3476        IRD-676     1\n",
       "3562        IRD-393     1\n",
       "3694        IRD-301     1\n",
       "3702        IRD-307     2\n",
       "3711        IRD-310     1\n",
       "                       ..\n",
       "981085      IRD-681     1\n",
       "1088818     IRD-309     1\n",
       "1504633     IRD-338     2\n",
       "            IRD-364     2\n",
       "2094558     IRD-358     1\n",
       "Name: DomainID, Length: 802, dtype: int64"
      ]
     },
     "execution_count": 66,
     "metadata": {},
     "output_type": "execute_result"
    }
   ],
   "source": [
    "org_dom.groupby('OrganismID').DomainID.value_counts()"
   ]
  },
  {
   "cell_type": "code",
   "execution_count": 68,
   "id": "1141a134",
   "metadata": {},
   "outputs": [],
   "source": [
    "## org_dom.groupby('OrganismID').DomainID.value_counts().to_csv('data/41(a)DomainsFoundInAnOrganism.csv')"
   ]
  },
  {
   "cell_type": "markdown",
   "id": "71797e34",
   "metadata": {},
   "source": [
    "### Organisms Distribution across Domain"
   ]
  },
  {
   "cell_type": "code",
   "execution_count": 69,
   "id": "cf948c77",
   "metadata": {},
   "outputs": [
    {
     "data": {
      "text/plain": [
       "DomainID  OrganismID\n",
       "IRD-1     4081          1\n",
       "IRD-10    4072          1\n",
       "          80379         1\n",
       "IRD-100   4072          1\n",
       "IRD-101   4072          1\n",
       "                       ..\n",
       "IRD-95    4072          1\n",
       "IRD-96    4072          1\n",
       "IRD-97    4072          1\n",
       "IRD-98    4072          1\n",
       "IRD-99    4072          1\n",
       "Name: OrganismID, Length: 802, dtype: int64"
      ]
     },
     "execution_count": 69,
     "metadata": {},
     "output_type": "execute_result"
    }
   ],
   "source": [
    "org_dom.groupby('DomainID').OrganismID.value_counts()"
   ]
  },
  {
   "cell_type": "code",
   "execution_count": 71,
   "id": "964743af",
   "metadata": {},
   "outputs": [],
   "source": [
    "## org_dom.groupby('DomainID').OrganismID.value_counts().to_csv('data/41(b)OrganismsInWhichDomainFound.csv')"
   ]
  },
  {
   "cell_type": "code",
   "execution_count": 73,
   "id": "0932f668",
   "metadata": {},
   "outputs": [],
   "source": [
    "## org_rcl.groupby('OrganismID').RclID.value_counts().to_csv('data/42(a)RCLsFoundInAnOrganism.csv')"
   ]
  },
  {
   "cell_type": "code",
   "execution_count": 75,
   "id": "5fae7457",
   "metadata": {},
   "outputs": [],
   "source": [
    "## org_rcl.groupby('RclID').OrganismID.value_counts().to_csv('data/42(b)OrganismsInWhichRCLFound.csv')"
   ]
  },
  {
   "cell_type": "code",
   "execution_count": 77,
   "id": "9e2b65a6",
   "metadata": {},
   "outputs": [],
   "source": [
    "## org_linker.groupby('OrganismID').linkerID.value_counts().to_csv('data/43(a)LinkersFoundInAnOrganism.csv')"
   ]
  },
  {
   "cell_type": "code",
   "execution_count": 79,
   "id": "bd88346a",
   "metadata": {},
   "outputs": [],
   "source": [
    "## org_linker.groupby('linkerID').OrganismID.value_counts().to_csv('data/43(b)OrganismsInWhichLinkerFound.csv')"
   ]
  },
  {
   "cell_type": "code",
   "execution_count": null,
   "id": "6660a50e",
   "metadata": {},
   "outputs": [],
   "source": []
  }
 ],
 "metadata": {
  "kernelspec": {
   "display_name": "Python 3",
   "language": "python",
   "name": "python3"
  },
  "language_info": {
   "codemirror_mode": {
    "name": "ipython",
    "version": 3
   },
   "file_extension": ".py",
   "mimetype": "text/x-python",
   "name": "python",
   "nbconvert_exporter": "python",
   "pygments_lexer": "ipython3",
   "version": "3.9.4"
  }
 },
 "nbformat": 4,
 "nbformat_minor": 5
}
