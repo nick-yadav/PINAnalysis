{
 "cells": [
  {
   "cell_type": "code",
   "execution_count": 1,
   "metadata": {},
   "outputs": [],
   "source": [
    "import pandas as pd\n",
    "import numpy as np"
   ]
  },
  {
   "cell_type": "code",
   "execution_count": 2,
   "metadata": {},
   "outputs": [],
   "source": [
    "import matplotlib.pyplot as plt\n",
    "import seaborn as sns"
   ]
  },
  {
   "cell_type": "code",
   "execution_count": 3,
   "metadata": {},
   "outputs": [],
   "source": [
    "%matplotlib inline\n",
    "sns.set()"
   ]
  },
  {
   "cell_type": "code",
   "execution_count": 4,
   "metadata": {},
   "outputs": [],
   "source": [
    "pd.set_option('display.max_columns',None)\n",
    "pd.set_option('display.max_rows',None)"
   ]
  },
  {
   "cell_type": "code",
   "execution_count": 5,
   "metadata": {},
   "outputs": [],
   "source": [
    "pd.set_option('display.max_colwidth',2000)\n",
    "pd.reset_option('display.max_colwidth')"
   ]
  },
  {
   "cell_type": "code",
   "execution_count": 6,
   "metadata": {},
   "outputs": [],
   "source": [
    "seq_details=pd.read_csv('19_Sequence_Organism_IsoelectricPoint_Amino_Composition.csv')"
   ]
  },
  {
   "cell_type": "code",
   "execution_count": 8,
   "metadata": {},
   "outputs": [
    {
     "data": {
      "text/plain": [
       "415"
      ]
     },
     "execution_count": 8,
     "metadata": {},
     "output_type": "execute_result"
    }
   ],
   "source": [
    "seq_details.UniprotID.count()"
   ]
  },
  {
   "cell_type": "code",
   "execution_count": 9,
   "metadata": {},
   "outputs": [
    {
     "data": {
      "text/plain": [
       "Index(['UniprotID', 'Protein names', 'GeneNames', 'OrganismID', 'Organism',\n",
       "       'Genus', 'Species', 'Solanaceae', 'Function [CC]', 'Sequence', 'Length',\n",
       "       'Mass', 'average_pI', 'pH_5.5_charge', 'pH_7.4_charge', 'pH_8.0_charge',\n",
       "       'A', 'A_per', 'C', 'C_per', 'D', 'D_per', 'E', 'E_per', 'F', 'F_per',\n",
       "       'G', 'G_per', 'H', 'H_per', 'I', 'I_per', 'K', 'K_per', 'L', 'L_per',\n",
       "       'M', 'M_per', 'N', 'N_per', 'O', 'O_per', 'P', 'P_per', 'Q', 'Q_per',\n",
       "       'R', 'R_per', 'S', 'S_per', 'T', 'T_per', 'U', 'U_per', 'V', 'V_per',\n",
       "       'W', 'W_per', 'X', 'X_per', 'Y', 'Y_per', 'Z', 'Z_per'],\n",
       "      dtype='object')"
      ]
     },
     "execution_count": 9,
     "metadata": {},
     "output_type": "execute_result"
    }
   ],
   "source": [
    "seq_details.columns"
   ]
  },
  {
   "cell_type": "code",
   "execution_count": 10,
   "metadata": {},
   "outputs": [
    {
     "data": {
      "text/plain": [
       "Genus          Species       \n",
       "Aegilops       tauschii           3\n",
       "Ananas         comosus            3\n",
       "Apostasia      shenzhenica        1\n",
       "Arabidopsis    thaliana           2\n",
       "               lyrata             1\n",
       "Arachis        hypogaea           4\n",
       "Atropa         belladonna         1\n",
       "Brachypodium   distachyon         2\n",
       "Brassica       oleracea           2\n",
       "               campestris         1\n",
       "               cretica            1\n",
       "               rapa               1\n",
       "Camellia       sinensis           1\n",
       "Capsella       rubella            1\n",
       "Capsicum       annuum            99\n",
       "               chinense          13\n",
       "               baccatum          11\n",
       "Cicer          arietinum          1\n",
       "Coffea         canephora          6\n",
       "Cuscuta        australis          4\n",
       "               campestris         4\n",
       "Daucus         carota             1\n",
       "Dendrobium     catenatum          1\n",
       "Dichanthelium  oligosanthes       4\n",
       "Dorcoceras     hygrometricum      1\n",
       "Eragrostis     curvula            3\n",
       "Erythranthe    guttata            1\n",
       "Eucalyptus     grandis            1\n",
       "Fagus          sylvatica          1\n",
       "Genlisea       aurea              2\n",
       "Handroanthus   impetiginosus      3\n",
       "Hordeum        vulgare            1\n",
       "Jatropha       curcas             1\n",
       "Juglans        regia              1\n",
       "Leersia        perrieri           2\n",
       "Lupinus        angustifolius      1\n",
       "Manihot        esculenta          2\n",
       "Medicago       truncatula         2\n",
       "Morus          notabilis          1\n",
       "Mucuna         pruriens           1\n",
       "Musa           balbisiana         1\n",
       "Nicotiana      tabacum           22\n",
       "               attenuata         11\n",
       "               sylvestris        10\n",
       "               alata              2\n",
       "               glutinosa          2\n",
       "               obtusifolia        2\n",
       "               acuminata          1\n",
       "               benthamiana        1\n",
       "               cavicola           1\n",
       "               clevelandii        1\n",
       "               corymbosa          1\n",
       "               linearis           1\n",
       "               megalosiphon       1\n",
       "               miersii            1\n",
       "               occidentalis       1\n",
       "               pauciflora         1\n",
       "               quadrivalvis       1\n",
       "               repanda            1\n",
       "               rustica            1\n",
       "               simulans           1\n",
       "               spegazzinii        1\n",
       "               umbratica          1\n",
       "Noccaea        caerulescens       4\n",
       "Olea           europaea           1\n",
       "Oryza          sativa             3\n",
       "               barthii            1\n",
       "               brachyantha        1\n",
       "               glaberrima         1\n",
       "               glumipatula        1\n",
       "               meridionalis       1\n",
       "               nivara             1\n",
       "               punctata           1\n",
       "               rufipogon          1\n",
       "Panicum        hallii             5\n",
       "               miliaceum          3\n",
       "Parasponia     andersonii         1\n",
       "Populus        alba               1\n",
       "               trichocarpa        1\n",
       "Prunus         dulcis             3\n",
       "               persica            3\n",
       "               yedoensis          1\n",
       "Punica         granatum           1\n",
       "Ricinus        communis           1\n",
       "Rosa           chinensis          5\n",
       "Saccharum      hybrid             2\n",
       "Salvia         splendens          1\n",
       "Selaginella    moellendorffii     7\n",
       "Setaria        italica            2\n",
       "               viridis            1\n",
       "Solanum        tuberosum         52\n",
       "               lycopersicum      21\n",
       "               chacoense          5\n",
       "               americanum         4\n",
       "               nigrum             4\n",
       "               melongena          1\n",
       "               phureja            1\n",
       "Sorghum        bicolor            3\n",
       "Spinacia       oleracea           1\n",
       "Trema          orientale          1\n",
       "Triticum       aestivum           3\n",
       "               turgidum           1\n",
       "               urartu             1\n",
       "Vitis          vinifera           3\n",
       "Zea            mays               2\n",
       "Name: Species, dtype: int64"
      ]
     },
     "execution_count": 10,
     "metadata": {},
     "output_type": "execute_result"
    }
   ],
   "source": [
    "seq_details.groupby('Genus').Species.value_counts()"
   ]
  },
  {
   "cell_type": "code",
   "execution_count": 17,
   "metadata": {},
   "outputs": [],
   "source": [
    "#seq_details.groupby('Genus').Species.value_counts().to_csv('Tables/T1_Genus_Species_sequenceDistribution.csv')"
   ]
  },
  {
   "cell_type": "markdown",
   "metadata": {},
   "source": [
    "# Table 2: Domain Architecture"
   ]
  },
  {
   "cell_type": "code",
   "execution_count": 13,
   "metadata": {},
   "outputs": [],
   "source": [
    "domainArchitecture=pd.read_csv('22_DomainArchitectures.csv')"
   ]
  },
  {
   "cell_type": "code",
   "execution_count": 15,
   "metadata": {},
   "outputs": [],
   "source": [
    "domainArchitecture.to_csv('Tables/T2_DomainArchitecture.csv')"
   ]
  },
  {
   "cell_type": "markdown",
   "metadata": {},
   "source": [
    "# Table 3: "
   ]
  },
  {
   "cell_type": "code",
   "execution_count": 18,
   "metadata": {},
   "outputs": [],
   "source": [
    "seq_domCount=pd.read_csv('26_Pin_II_sequences_with_DOmainCount.csv')"
   ]
  },
  {
   "cell_type": "code",
   "execution_count": null,
   "metadata": {},
   "outputs": [],
   "source": []
  },
  {
   "cell_type": "code",
   "execution_count": null,
   "metadata": {},
   "outputs": [],
   "source": []
  },
  {
   "cell_type": "code",
   "execution_count": null,
   "metadata": {},
   "outputs": [],
   "source": []
  },
  {
   "cell_type": "code",
   "execution_count": null,
   "metadata": {},
   "outputs": [],
   "source": []
  },
  {
   "cell_type": "code",
   "execution_count": null,
   "metadata": {},
   "outputs": [],
   "source": []
  },
  {
   "cell_type": "code",
   "execution_count": null,
   "metadata": {},
   "outputs": [],
   "source": []
  },
  {
   "cell_type": "code",
   "execution_count": null,
   "metadata": {},
   "outputs": [],
   "source": []
  },
  {
   "cell_type": "code",
   "execution_count": null,
   "metadata": {},
   "outputs": [],
   "source": []
  }
 ],
 "metadata": {
  "kernelspec": {
   "display_name": "Python 3",
   "language": "python",
   "name": "python3"
  },
  "language_info": {
   "codemirror_mode": {
    "name": "ipython",
    "version": 3
   },
   "file_extension": ".py",
   "mimetype": "text/x-python",
   "name": "python",
   "nbconvert_exporter": "python",
   "pygments_lexer": "ipython3",
   "version": "3.7.2"
  }
 },
 "nbformat": 4,
 "nbformat_minor": 2
}
