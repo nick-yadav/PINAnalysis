{
 "cells": [
  {
   "cell_type": "markdown",
   "id": "2192dc0b",
   "metadata": {},
   "source": [
    "# PINIR Data Analysis Page-2"
   ]
  },
  {
   "cell_type": "code",
   "execution_count": 1,
   "id": "dc352af9",
   "metadata": {},
   "outputs": [],
   "source": [
    "import pandas as pd\n",
    "import numpy as np"
   ]
  },
  {
   "cell_type": "code",
   "execution_count": 73,
   "id": "c84bb0ab",
   "metadata": {},
   "outputs": [],
   "source": [
    "pd.set_option('display.max_columns',None)\n",
    "pd.set_option('display.max_rows',None)"
   ]
  },
  {
   "cell_type": "code",
   "execution_count": 3,
   "id": "01c46cd1",
   "metadata": {},
   "outputs": [],
   "source": [
    "pd.reset_option('display.max_columns')\n",
    "pd.reset_option('display.max_rows')"
   ]
  },
  {
   "cell_type": "code",
   "execution_count": 4,
   "id": "223631a1",
   "metadata": {},
   "outputs": [],
   "source": [
    "pd.set_option('display.max_colwidth',2000)"
   ]
  },
  {
   "cell_type": "code",
   "execution_count": 5,
   "id": "392bdd45",
   "metadata": {},
   "outputs": [],
   "source": [
    "pd.reset_option('display.max_colwidth')"
   ]
  },
  {
   "cell_type": "markdown",
   "id": "7646b1d3",
   "metadata": {},
   "source": [
    "## Linker Diversity and Distribution in Pin-II PIs"
   ]
  },
  {
   "cell_type": "code",
   "execution_count": 6,
   "id": "b5ab5938",
   "metadata": {},
   "outputs": [],
   "source": [
    "pinir=pd.read_csv('data/19_Sequences_Domains_RCL_Linker_Organisms.csv')"
   ]
  },
  {
   "cell_type": "code",
   "execution_count": 7,
   "id": "b38f50c7",
   "metadata": {},
   "outputs": [
    {
     "data": {
      "text/plain": [
       "Index(['UniprotID', 'Sequence', 'OrganismID', 'Organism', 'Genus', 'Species',\n",
       "       'Solanaceae', 'DomainID', 'Domain', 'DomainStartPosition',\n",
       "       'DomainEndPosition', 'DomainType', 'RclID', 'RCL', 'P2Residue',\n",
       "       'P1Residue', 'P1primeResidue', 'targetProtease', 'tpID',\n",
       "       'RCL_startPosition', 'RCL_endPosition', 'linkerID', 'Linker',\n",
       "       'LinkerType', 'Linker_startPosition', 'Linker_endPosition'],\n",
       "      dtype='object')"
      ]
     },
     "execution_count": 7,
     "metadata": {},
     "output_type": "execute_result"
    }
   ],
   "source": [
    "pinir.columns"
   ]
  },
  {
   "cell_type": "code",
   "execution_count": 8,
   "id": "69c85ab5",
   "metadata": {},
   "outputs": [],
   "source": [
    "seq_domain=pinir[['UniprotID', 'OrganismID', 'Organism', 'Genus', 'Species',\n",
    "       'Solanaceae', 'DomainID','DomainType', 'RclID', 'RCL', 'P2Residue',\n",
    "       'P1Residue', 'P1primeResidue', 'targetProtease', 'tpID',\n",
    "       'linkerID', 'Linker',\n",
    "       'LinkerType']]"
   ]
  },
  {
   "cell_type": "code",
   "execution_count": 9,
   "id": "7003fe9b",
   "metadata": {},
   "outputs": [
    {
     "data": {
      "text/html": [
       "<div>\n",
       "<style scoped>\n",
       "    .dataframe tbody tr th:only-of-type {\n",
       "        vertical-align: middle;\n",
       "    }\n",
       "\n",
       "    .dataframe tbody tr th {\n",
       "        vertical-align: top;\n",
       "    }\n",
       "\n",
       "    .dataframe thead th {\n",
       "        text-align: right;\n",
       "    }\n",
       "</style>\n",
       "<table border=\"1\" class=\"dataframe\">\n",
       "  <thead>\n",
       "    <tr style=\"text-align: right;\">\n",
       "      <th></th>\n",
       "      <th>UniprotID</th>\n",
       "      <th>OrganismID</th>\n",
       "      <th>Organism</th>\n",
       "      <th>Genus</th>\n",
       "      <th>Species</th>\n",
       "      <th>Solanaceae</th>\n",
       "      <th>DomainID</th>\n",
       "      <th>DomainType</th>\n",
       "      <th>RclID</th>\n",
       "      <th>RCL</th>\n",
       "      <th>P2Residue</th>\n",
       "      <th>P1Residue</th>\n",
       "      <th>P1primeResidue</th>\n",
       "      <th>targetProtease</th>\n",
       "      <th>tpID</th>\n",
       "      <th>linkerID</th>\n",
       "      <th>Linker</th>\n",
       "      <th>LinkerType</th>\n",
       "    </tr>\n",
       "  </thead>\n",
       "  <tbody>\n",
       "    <tr>\n",
       "      <th>0</th>\n",
       "      <td>P05119</td>\n",
       "      <td>4081</td>\n",
       "      <td>Solanum lycopersicum (Tomato) (Lycopersicon es...</td>\n",
       "      <td>Solanum</td>\n",
       "      <td>Solanum lycopersicum</td>\n",
       "      <td>1</td>\n",
       "      <td>IRD-62</td>\n",
       "      <td>1.0</td>\n",
       "      <td>RL-7</td>\n",
       "      <td>CTFNC</td>\n",
       "      <td>T</td>\n",
       "      <td>F</td>\n",
       "      <td>N</td>\n",
       "      <td>Chymotrypsin</td>\n",
       "      <td>TP-2</td>\n",
       "      <td>L-21</td>\n",
       "      <td>DPKRP</td>\n",
       "      <td>1.0</td>\n",
       "    </tr>\n",
       "    <tr>\n",
       "      <th>1</th>\n",
       "      <td>P05119</td>\n",
       "      <td>4081</td>\n",
       "      <td>Solanum lycopersicum (Tomato) (Lycopersicon es...</td>\n",
       "      <td>Solanum</td>\n",
       "      <td>Solanum lycopersicum</td>\n",
       "      <td>1</td>\n",
       "      <td>IRD-405</td>\n",
       "      <td>3.0</td>\n",
       "      <td>RL-7</td>\n",
       "      <td>CTFNC</td>\n",
       "      <td>T</td>\n",
       "      <td>F</td>\n",
       "      <td>N</td>\n",
       "      <td>Chymotrypsin</td>\n",
       "      <td>TP-2</td>\n",
       "      <td>NaN</td>\n",
       "      <td>NaN</td>\n",
       "      <td>NaN</td>\n",
       "    </tr>\n",
       "  </tbody>\n",
       "</table>\n",
       "</div>"
      ],
      "text/plain": [
       "  UniprotID  OrganismID                                           Organism  \\\n",
       "0    P05119        4081  Solanum lycopersicum (Tomato) (Lycopersicon es...   \n",
       "1    P05119        4081  Solanum lycopersicum (Tomato) (Lycopersicon es...   \n",
       "\n",
       "     Genus                Species  Solanaceae DomainID  DomainType RclID  \\\n",
       "0  Solanum  Solanum lycopersicum            1   IRD-62         1.0  RL-7   \n",
       "1  Solanum  Solanum lycopersicum            1  IRD-405         3.0  RL-7   \n",
       "\n",
       "     RCL P2Residue P1Residue P1primeResidue targetProtease  tpID linkerID  \\\n",
       "0  CTFNC         T         F              N   Chymotrypsin  TP-2     L-21   \n",
       "1  CTFNC         T         F              N   Chymotrypsin  TP-2      NaN   \n",
       "\n",
       "  Linker  LinkerType  \n",
       "0  DPKRP         1.0  \n",
       "1    NaN         NaN  "
      ]
     },
     "execution_count": 9,
     "metadata": {},
     "output_type": "execute_result"
    }
   ],
   "source": [
    "seq_domain.head(2)"
   ]
  },
  {
   "cell_type": "code",
   "execution_count": 10,
   "id": "3a21e019",
   "metadata": {},
   "outputs": [],
   "source": [
    "linkers=pd.read_csv('data/8_Linkers.csv')"
   ]
  },
  {
   "cell_type": "code",
   "execution_count": 11,
   "id": "121c7577",
   "metadata": {},
   "outputs": [
    {
     "data": {
      "text/plain": [
       "(78, 3)"
      ]
     },
     "execution_count": 11,
     "metadata": {},
     "output_type": "execute_result"
    }
   ],
   "source": [
    "linkers.shape"
   ]
  },
  {
   "cell_type": "code",
   "execution_count": 12,
   "id": "fe5b6de9",
   "metadata": {},
   "outputs": [
    {
     "data": {
      "text/plain": [
       "linkerID    78\n",
       "Linker      78\n",
       "Type        78\n",
       "dtype: int64"
      ]
     },
     "execution_count": 12,
     "metadata": {},
     "output_type": "execute_result"
    }
   ],
   "source": [
    "linkers.count()"
   ]
  },
  {
   "cell_type": "code",
   "execution_count": 14,
   "id": "f462b288",
   "metadata": {},
   "outputs": [
    {
     "data": {
      "text/plain": [
       "2    54\n",
       "1    24\n",
       "Name: Type, dtype: int64"
      ]
     },
     "execution_count": 14,
     "metadata": {},
     "output_type": "execute_result"
    }
   ],
   "source": [
    "linkers.Type.value_counts()"
   ]
  },
  {
   "cell_type": "code",
   "execution_count": 15,
   "id": "ec06c7c8",
   "metadata": {},
   "outputs": [
    {
     "data": {
      "text/plain": [
       "(1309, 18)"
      ]
     },
     "execution_count": 15,
     "metadata": {},
     "output_type": "execute_result"
    }
   ],
   "source": [
    "seq_domain.shape"
   ]
  },
  {
   "cell_type": "code",
   "execution_count": 18,
   "id": "404c5628",
   "metadata": {},
   "outputs": [
    {
     "data": {
      "text/plain": [
       "293"
      ]
     },
     "execution_count": 18,
     "metadata": {},
     "output_type": "execute_result"
    }
   ],
   "source": [
    "seq_domain.LinkerType.isna().sum()"
   ]
  },
  {
   "cell_type": "code",
   "execution_count": 19,
   "id": "e6d51f2c",
   "metadata": {},
   "outputs": [
    {
     "data": {
      "text/plain": [
       "1016"
      ]
     },
     "execution_count": 19,
     "metadata": {},
     "output_type": "execute_result"
    }
   ],
   "source": [
    "filt=(~seq_domain.LinkerType.isna())\n",
    "seq_domain.loc[filt,:].UniprotID.count()"
   ]
  },
  {
   "cell_type": "code",
   "execution_count": 17,
   "id": "2857bbc2",
   "metadata": {},
   "outputs": [
    {
     "data": {
      "text/plain": [
       "2.0    511\n",
       "1.0    505\n",
       "Name: LinkerType, dtype: int64"
      ]
     },
     "execution_count": 17,
     "metadata": {},
     "output_type": "execute_result"
    }
   ],
   "source": [
    "seq_domain.LinkerType.value_counts() ## Distribution by Linker Type"
   ]
  },
  {
   "cell_type": "code",
   "execution_count": 20,
   "id": "9263c33d",
   "metadata": {},
   "outputs": [],
   "source": [
    "domainDetails=pd.read_csv('data/11_Domain_RCL_Linker.csv')"
   ]
  },
  {
   "cell_type": "code",
   "execution_count": 21,
   "id": "62abef15",
   "metadata": {},
   "outputs": [
    {
     "data": {
      "text/plain": [
       "(695, 18)"
      ]
     },
     "execution_count": 21,
     "metadata": {},
     "output_type": "execute_result"
    }
   ],
   "source": [
    "domainDetails.shape"
   ]
  },
  {
   "cell_type": "code",
   "execution_count": 22,
   "id": "5f612d20",
   "metadata": {},
   "outputs": [
    {
     "data": {
      "text/plain": [
       "Index(['id', 'domainID', 'domain', 'DomainType', 'RclID', 'RCL', 'P2Residue',\n",
       "       'P1Residue', 'P1primeResidue', 'targetProtease', 'tpID',\n",
       "       'RCL_startPosition', 'RCL_endPosition', 'linkerID', 'Linker',\n",
       "       'LinkerType', 'Linker_startPosition', 'Linker_endPosition'],\n",
       "      dtype='object')"
      ]
     },
     "execution_count": 22,
     "metadata": {},
     "output_type": "execute_result"
    }
   ],
   "source": [
    "domainDetails.columns"
   ]
  },
  {
   "cell_type": "markdown",
   "id": "4db921e1",
   "metadata": {},
   "source": [
    "### Domains distribution by Domain Type"
   ]
  },
  {
   "cell_type": "code",
   "execution_count": 23,
   "id": "34be4bdb",
   "metadata": {},
   "outputs": [
    {
     "data": {
      "text/plain": [
       "2.0    256\n",
       "1.0    238\n",
       "3.0    201\n",
       "Name: DomainType, dtype: int64"
      ]
     },
     "execution_count": 23,
     "metadata": {},
     "output_type": "execute_result"
    }
   ],
   "source": [
    "domainDetails.DomainType.value_counts()"
   ]
  },
  {
   "cell_type": "code",
   "execution_count": 24,
   "id": "c22decf7",
   "metadata": {},
   "outputs": [
    {
     "data": {
      "text/plain": [
       "Index(['UniprotID', 'OrganismID', 'Organism', 'Genus', 'Species', 'Solanaceae',\n",
       "       'DomainID', 'DomainType', 'RclID', 'RCL', 'P2Residue', 'P1Residue',\n",
       "       'P1primeResidue', 'targetProtease', 'tpID', 'linkerID', 'Linker',\n",
       "       'LinkerType'],\n",
       "      dtype='object')"
      ]
     },
     "execution_count": 24,
     "metadata": {},
     "output_type": "execute_result"
    }
   ],
   "source": [
    "seq_domain.columns"
   ]
  },
  {
   "cell_type": "code",
   "execution_count": 25,
   "id": "f218a911",
   "metadata": {},
   "outputs": [
    {
     "data": {
      "text/plain": [
       "(1309, 18)"
      ]
     },
     "execution_count": 25,
     "metadata": {},
     "output_type": "execute_result"
    }
   ],
   "source": [
    "seq_domain.shape"
   ]
  },
  {
   "cell_type": "code",
   "execution_count": 28,
   "id": "44e570d9",
   "metadata": {},
   "outputs": [
    {
     "data": {
      "text/plain": [
       "59"
      ]
     },
     "execution_count": 28,
     "metadata": {},
     "output_type": "execute_result"
    }
   ],
   "source": [
    "seq_domain.duplicated().sum()"
   ]
  },
  {
   "cell_type": "code",
   "execution_count": 29,
   "id": "1d65dd03",
   "metadata": {},
   "outputs": [],
   "source": [
    "## Records without duplicated records, due to presence of same domain multiple times in sequence"
   ]
  },
  {
   "cell_type": "code",
   "execution_count": 30,
   "id": "3af054e6",
   "metadata": {},
   "outputs": [
    {
     "data": {
      "text/plain": [
       "1250"
      ]
     },
     "execution_count": 30,
     "metadata": {},
     "output_type": "execute_result"
    }
   ],
   "source": [
    "seq_domain.loc[~seq_domain.duplicated(),:].UniprotID.count()"
   ]
  },
  {
   "cell_type": "code",
   "execution_count": 31,
   "id": "fd54e4b8",
   "metadata": {},
   "outputs": [],
   "source": [
    "seq_domain_uniqueRecords=seq_domain.loc[~seq_domain.duplicated(),:]"
   ]
  },
  {
   "cell_type": "code",
   "execution_count": 32,
   "id": "7f1d4ead",
   "metadata": {},
   "outputs": [
    {
     "data": {
      "text/plain": [
       "0"
      ]
     },
     "execution_count": 32,
     "metadata": {},
     "output_type": "execute_result"
    }
   ],
   "source": [
    "seq_domain_uniqueRecords.duplicated().sum()"
   ]
  },
  {
   "cell_type": "code",
   "execution_count": null,
   "id": "6cbe2637",
   "metadata": {},
   "outputs": [],
   "source": [
    "## Dropping UniprotID these many are duplicated records bcz of different sequences\n",
    "## belonging to same organism"
   ]
  },
  {
   "cell_type": "code",
   "execution_count": 35,
   "id": "7fd341bc",
   "metadata": {},
   "outputs": [
    {
     "data": {
      "text/plain": [
       "448"
      ]
     },
     "execution_count": 35,
     "metadata": {},
     "output_type": "execute_result"
    }
   ],
   "source": [
    "seq_domain_uniqueRecords[['OrganismID', 'Organism', 'Genus', 'Species', 'Solanaceae',\n",
    "       'DomainID', 'DomainType', 'RclID', 'RCL', 'P2Residue', 'P1Residue',\n",
    "       'P1primeResidue', 'targetProtease', 'tpID', 'linkerID', 'Linker',\n",
    "       'LinkerType']].duplicated().sum()"
   ]
  },
  {
   "cell_type": "markdown",
   "id": "3d10d72a",
   "metadata": {},
   "source": [
    "### Finding Unique relation between Organisms and Domain found in them"
   ]
  },
  {
   "cell_type": "code",
   "execution_count": 36,
   "id": "93a99f41",
   "metadata": {},
   "outputs": [],
   "source": [
    "org_domain=seq_domain_uniqueRecords[['OrganismID', 'Organism', 'Genus', 'Species', 'Solanaceae',\n",
    "       'DomainID', 'DomainType', 'RclID', 'RCL', 'P2Residue', 'P1Residue',\n",
    "       'P1primeResidue', 'targetProtease', 'tpID', 'linkerID', 'Linker',\n",
    "       'LinkerType']]"
   ]
  },
  {
   "cell_type": "code",
   "execution_count": 38,
   "id": "6907b23a",
   "metadata": {},
   "outputs": [
    {
     "data": {
      "text/plain": [
       "(448, 17)"
      ]
     },
     "execution_count": 38,
     "metadata": {},
     "output_type": "execute_result"
    }
   ],
   "source": [
    "org_domain.loc[org_domain.duplicated(),:].shape"
   ]
  },
  {
   "cell_type": "code",
   "execution_count": 39,
   "id": "1e70e1e2",
   "metadata": {},
   "outputs": [
    {
     "data": {
      "text/plain": [
       "(802, 17)"
      ]
     },
     "execution_count": 39,
     "metadata": {},
     "output_type": "execute_result"
    }
   ],
   "source": [
    "org_domain.loc[~org_domain.duplicated(),:].shape"
   ]
  },
  {
   "cell_type": "code",
   "execution_count": 40,
   "id": "0b3443b5",
   "metadata": {},
   "outputs": [],
   "source": [
    "org_domain_uniqueRecords=org_domain.loc[~org_domain.duplicated(),:]"
   ]
  },
  {
   "cell_type": "code",
   "execution_count": 41,
   "id": "043dfe6c",
   "metadata": {},
   "outputs": [
    {
     "data": {
      "text/plain": [
       "802"
      ]
     },
     "execution_count": 41,
     "metadata": {},
     "output_type": "execute_result"
    }
   ],
   "source": [
    "org_domain_uniqueRecords.OrganismID.count()"
   ]
  },
  {
   "cell_type": "markdown",
   "id": "8b0b5a09",
   "metadata": {},
   "source": [
    "### Distribution of Organisms Domain Type wise"
   ]
  },
  {
   "cell_type": "code",
   "execution_count": 42,
   "id": "f71e1bf0",
   "metadata": {},
   "outputs": [
    {
     "data": {
      "text/plain": [
       "DomainType  Organism                                                     \n",
       "1.0         Capsicum annuum (Capsicum pepper)                                68\n",
       "            Nicotiana tabacum (Common tobacco)                               24\n",
       "            Solanum tuberosum (Potato)                                       21\n",
       "            Nicotiana sylvestris (Wood tobacco) (South American tobacco)     14\n",
       "            Nicotiana attenuata (Coyote tobacco)                             13\n",
       "                                                                             ..\n",
       "3.0         Solanum phureja                                                   1\n",
       "            Spinacia oleracea (Spinach)                                       1\n",
       "            Triticum turgidum subsp. durum (Durum wheat) (Triticum durum)     1\n",
       "            Triticum urartu (Red wild einkorn) (Crithodium urartu)            1\n",
       "            Vitis vinifera (Grape)                                            1\n",
       "Name: Organism, Length: 147, dtype: int64"
      ]
     },
     "execution_count": 42,
     "metadata": {},
     "output_type": "execute_result"
    }
   ],
   "source": [
    "org_domain_uniqueRecords.groupby('DomainType').Organism.value_counts()"
   ]
  },
  {
   "cell_type": "code",
   "execution_count": 43,
   "id": "831ecef3",
   "metadata": {},
   "outputs": [],
   "source": [
    "## org_domain_uniqueRecords.groupby('DomainType').Organism.value_counts().to_csv('data/33_Distribution_of_Organism_by_domainType.csv')"
   ]
  },
  {
   "cell_type": "markdown",
   "id": "5256a219",
   "metadata": {},
   "source": [
    "## RCL distribution and specificity"
   ]
  },
  {
   "cell_type": "code",
   "execution_count": 44,
   "id": "a18057ec",
   "metadata": {},
   "outputs": [
    {
     "data": {
      "text/plain": [
       "(1309, 18)"
      ]
     },
     "execution_count": 44,
     "metadata": {},
     "output_type": "execute_result"
    }
   ],
   "source": [
    "seq_domain.shape"
   ]
  },
  {
   "cell_type": "code",
   "execution_count": 45,
   "id": "8ad406ef",
   "metadata": {},
   "outputs": [
    {
     "data": {
      "text/plain": [
       "Index(['UniprotID', 'OrganismID', 'Organism', 'Genus', 'Species', 'Solanaceae',\n",
       "       'DomainID', 'DomainType', 'RclID', 'RCL', 'P2Residue', 'P1Residue',\n",
       "       'P1primeResidue', 'targetProtease', 'tpID', 'linkerID', 'Linker',\n",
       "       'LinkerType'],\n",
       "      dtype='object')"
      ]
     },
     "execution_count": 45,
     "metadata": {},
     "output_type": "execute_result"
    }
   ],
   "source": [
    "seq_domain.columns"
   ]
  },
  {
   "cell_type": "markdown",
   "id": "4fbea1c9",
   "metadata": {},
   "source": [
    "### RCL Distribution in PIN-II PI Sequences"
   ]
  },
  {
   "cell_type": "code",
   "execution_count": 46,
   "id": "65946cbf",
   "metadata": {},
   "outputs": [
    {
     "data": {
      "text/plain": [
       "CPRNC    578\n",
       "CTLNC    113\n",
       "CPRYC     94\n",
       "CPLNC     55\n",
       "CTLEC     52\n",
       "Name: RCL, dtype: int64"
      ]
     },
     "execution_count": 46,
     "metadata": {},
     "output_type": "execute_result"
    }
   ],
   "source": [
    "seq_domain.RCL.value_counts().head()"
   ]
  },
  {
   "cell_type": "markdown",
   "id": "c6551d02",
   "metadata": {},
   "source": [
    "### RCL Distribution in IRDs Sequences"
   ]
  },
  {
   "cell_type": "code",
   "execution_count": 47,
   "id": "cbb7c9a3",
   "metadata": {},
   "outputs": [
    {
     "data": {
      "text/plain": [
       "CPRNC    291\n",
       "CTLNC     36\n",
       "CPLNC     35\n",
       "CTLEC     25\n",
       "CPLYC     23\n",
       "Name: RCL, dtype: int64"
      ]
     },
     "execution_count": 47,
     "metadata": {},
     "output_type": "execute_result"
    }
   ],
   "source": [
    "domainDetails.RCL.value_counts().head()"
   ]
  },
  {
   "cell_type": "markdown",
   "id": "a0431b1a",
   "metadata": {},
   "source": [
    "### RCL distribution Organism wise in all PI sequences"
   ]
  },
  {
   "cell_type": "code",
   "execution_count": 48,
   "id": "669cc553",
   "metadata": {},
   "outputs": [
    {
     "data": {
      "text/plain": [
       "Organism                                                       RCL  \n",
       "Aegilops tauschii (Tausch's goatgrass) (Aegilops squarrosa)    CHQYC    1\n",
       "Aegilops tauschii subsp. strangulata (Goatgrass)               CHQYC    1\n",
       "                                                               CPQYC    1\n",
       "Ananas comosus (Pineapple) (Ananas ananas)                     CPQYC    2\n",
       "Apostasia shenzhenica                                          CPLYC    1\n",
       "                                                                       ..\n",
       "Triticum aestivum (Wheat)                                      CHQYC    1\n",
       "Triticum turgidum subsp. durum (Durum wheat) (Triticum durum)  CPQYC    1\n",
       "Triticum urartu (Red wild einkorn) (Crithodium urartu)         CPQYC    1\n",
       "Vitis vinifera (Grape)                                         CPLYC    1\n",
       "Zea mays (Maize)                                               CPQFC    2\n",
       "Name: RCL, Length: 273, dtype: int64"
      ]
     },
     "execution_count": 48,
     "metadata": {},
     "output_type": "execute_result"
    }
   ],
   "source": [
    "seq_domain.groupby('Organism').RCL.value_counts()"
   ]
  },
  {
   "cell_type": "markdown",
   "id": "0f5eeadd",
   "metadata": {},
   "source": [
    "### RCL distribution Organism wise in Unique-Organism occurrences"
   ]
  },
  {
   "cell_type": "code",
   "execution_count": 49,
   "id": "9cce402e",
   "metadata": {},
   "outputs": [
    {
     "data": {
      "text/plain": [
       "802"
      ]
     },
     "execution_count": 49,
     "metadata": {},
     "output_type": "execute_result"
    }
   ],
   "source": [
    "org_domain_uniqueRecords.OrganismID.count()"
   ]
  },
  {
   "cell_type": "code",
   "execution_count": 50,
   "id": "5c079492",
   "metadata": {},
   "outputs": [
    {
     "data": {
      "text/plain": [
       "Organism                                                       RCL  \n",
       "Aegilops tauschii (Tausch's goatgrass) (Aegilops squarrosa)    CHQYC    1\n",
       "Aegilops tauschii subsp. strangulata (Goatgrass)               CHQYC    1\n",
       "                                                               CPQYC    1\n",
       "Ananas comosus (Pineapple) (Ananas ananas)                     CPQYC    2\n",
       "Apostasia shenzhenica                                          CPLYC    1\n",
       "                                                                       ..\n",
       "Triticum aestivum (Wheat)                                      CHQYC    1\n",
       "Triticum turgidum subsp. durum (Durum wheat) (Triticum durum)  CPQYC    1\n",
       "Triticum urartu (Red wild einkorn) (Crithodium urartu)         CPQYC    1\n",
       "Vitis vinifera (Grape)                                         CPLYC    1\n",
       "Zea mays (Maize)                                               CPQFC    2\n",
       "Name: RCL, Length: 273, dtype: int64"
      ]
     },
     "execution_count": 50,
     "metadata": {},
     "output_type": "execute_result"
    }
   ],
   "source": [
    "org_domain_uniqueRecords.groupby('Organism').RCL.value_counts()"
   ]
  },
  {
   "cell_type": "code",
   "execution_count": 51,
   "id": "33c092ca",
   "metadata": {},
   "outputs": [],
   "source": [
    "rcl=pd.read_csv('data/7_RCL_TP.csv')"
   ]
  },
  {
   "cell_type": "code",
   "execution_count": 52,
   "id": "8fe9870f",
   "metadata": {},
   "outputs": [
    {
     "data": {
      "text/plain": [
       "RclID             63\n",
       "Rcl               63\n",
       "targetProtease    63\n",
       "tpID              63\n",
       "dtype: int64"
      ]
     },
     "execution_count": 52,
     "metadata": {},
     "output_type": "execute_result"
    }
   ],
   "source": [
    "rcl.count()"
   ]
  },
  {
   "cell_type": "code",
   "execution_count": 53,
   "id": "c766cd83",
   "metadata": {},
   "outputs": [
    {
     "data": {
      "text/plain": [
       "Unknown         25\n",
       "Chymotrypsin    20\n",
       "Trypsin         15\n",
       "Elastase         3\n",
       "Name: targetProtease, dtype: int64"
      ]
     },
     "execution_count": 53,
     "metadata": {},
     "output_type": "execute_result"
    }
   ],
   "source": [
    "rcl.targetProtease.value_counts()"
   ]
  },
  {
   "cell_type": "markdown",
   "id": "3ec5db2b",
   "metadata": {},
   "source": [
    "### Residue Distribution in IRDs"
   ]
  },
  {
   "cell_type": "code",
   "execution_count": 54,
   "id": "adfddb2c",
   "metadata": {},
   "outputs": [
    {
     "data": {
      "text/plain": [
       "Index(['id', 'domainID', 'domain', 'DomainType', 'RclID', 'RCL', 'P2Residue',\n",
       "       'P1Residue', 'P1primeResidue', 'targetProtease', 'tpID',\n",
       "       'RCL_startPosition', 'RCL_endPosition', 'linkerID', 'Linker',\n",
       "       'LinkerType', 'Linker_startPosition', 'Linker_endPosition'],\n",
       "      dtype='object')"
      ]
     },
     "execution_count": 54,
     "metadata": {},
     "output_type": "execute_result"
    }
   ],
   "source": [
    "domainDetails.columns"
   ]
  },
  {
   "cell_type": "code",
   "execution_count": 55,
   "id": "be9620b5",
   "metadata": {},
   "outputs": [
    {
     "data": {
      "text/plain": [
       "R    352\n",
       "L    137\n",
       "Q     85\n",
       "K     44\n",
       "F     36\n",
       "A     10\n",
       "M      9\n",
       "P      6\n",
       "T      4\n",
       "S      3\n",
       "G      2\n",
       "I      2\n",
       "E      2\n",
       "Y      2\n",
       "D      1\n",
       "Name: P1Residue, dtype: int64"
      ]
     },
     "execution_count": 55,
     "metadata": {},
     "output_type": "execute_result"
    }
   ],
   "source": [
    "domainDetails.P1Residue.value_counts()"
   ]
  },
  {
   "cell_type": "code",
   "execution_count": 56,
   "id": "c6f12dca",
   "metadata": {},
   "outputs": [
    {
     "data": {
      "text/plain": [
       "P    479\n",
       "T    165\n",
       "S     19\n",
       "L     13\n",
       "I      6\n",
       "H      3\n",
       "R      3\n",
       "A      3\n",
       "N      2\n",
       "Y      2\n",
       "Name: P2Residue, dtype: int64"
      ]
     },
     "execution_count": 56,
     "metadata": {},
     "output_type": "execute_result"
    }
   ],
   "source": [
    "domainDetails.P2Residue.value_counts()"
   ]
  },
  {
   "cell_type": "code",
   "execution_count": 57,
   "id": "67f00b1d",
   "metadata": {},
   "outputs": [
    {
     "data": {
      "text/plain": [
       "N    421\n",
       "E    115\n",
       "Y     73\n",
       "F     30\n",
       "I     24\n",
       "V     10\n",
       "Q      8\n",
       "D      7\n",
       "H      4\n",
       "K      2\n",
       "T      1\n",
       "Name: P1primeResidue, dtype: int64"
      ]
     },
     "execution_count": 57,
     "metadata": {},
     "output_type": "execute_result"
    }
   ],
   "source": [
    "domainDetails.P1primeResidue.value_counts()"
   ]
  },
  {
   "cell_type": "markdown",
   "id": "f76fbd7a",
   "metadata": {},
   "source": [
    "### P1 Residue Distribution for Solanaceae and NON Solanaceae"
   ]
  },
  {
   "cell_type": "code",
   "execution_count": 58,
   "id": "6a3d85c6",
   "metadata": {},
   "outputs": [
    {
     "data": {
      "text/plain": [
       "(802, 17)"
      ]
     },
     "execution_count": 58,
     "metadata": {},
     "output_type": "execute_result"
    }
   ],
   "source": [
    "org_domain_uniqueRecords.shape"
   ]
  },
  {
   "cell_type": "code",
   "execution_count": 59,
   "id": "30378797",
   "metadata": {},
   "outputs": [
    {
     "data": {
      "text/plain": [
       "802"
      ]
     },
     "execution_count": 59,
     "metadata": {},
     "output_type": "execute_result"
    }
   ],
   "source": [
    "org_domain_uniqueRecords.OrganismID.count()"
   ]
  },
  {
   "cell_type": "code",
   "execution_count": 60,
   "id": "e2dd0086",
   "metadata": {},
   "outputs": [
    {
     "data": {
      "text/plain": [
       "Index(['OrganismID', 'Organism', 'Genus', 'Species', 'Solanaceae', 'DomainID',\n",
       "       'DomainType', 'RclID', 'RCL', 'P2Residue', 'P1Residue',\n",
       "       'P1primeResidue', 'targetProtease', 'tpID', 'linkerID', 'Linker',\n",
       "       'LinkerType'],\n",
       "      dtype='object')"
      ]
     },
     "execution_count": 60,
     "metadata": {},
     "output_type": "execute_result"
    }
   ],
   "source": [
    "org_domain_uniqueRecords.columns"
   ]
  },
  {
   "cell_type": "code",
   "execution_count": 61,
   "id": "b4c57d05",
   "metadata": {},
   "outputs": [
    {
     "data": {
      "text/plain": [
       "Solanaceae  P1Residue\n",
       "0           Q             49\n",
       "            L             39\n",
       "            M              6\n",
       "            K              5\n",
       "            R              4\n",
       "            F              3\n",
       "            E              2\n",
       "1           R            395\n",
       "            L            115\n",
       "            Q             58\n",
       "            K             45\n",
       "            F             37\n",
       "            A             10\n",
       "            M              6\n",
       "            P              6\n",
       "            T              6\n",
       "            S              5\n",
       "            Y              4\n",
       "            G              2\n",
       "            I              2\n",
       "Name: P1Residue, dtype: int64"
      ]
     },
     "execution_count": 61,
     "metadata": {},
     "output_type": "execute_result"
    }
   ],
   "source": [
    "org_domain_uniqueRecords.groupby('Solanaceae').P1Residue.value_counts()"
   ]
  },
  {
   "cell_type": "code",
   "execution_count": 63,
   "id": "5f744bd3",
   "metadata": {},
   "outputs": [],
   "source": [
    "## org_domain_uniqueRecords.groupby('Solanaceae').P1Residue.value_counts().to_csv('data/34_P1Residue_distribution_for_Solanaceae.csv')"
   ]
  },
  {
   "cell_type": "markdown",
   "id": "771dd331",
   "metadata": {},
   "source": [
    "### RCL distribution Solanaceae wise"
   ]
  },
  {
   "cell_type": "code",
   "execution_count": 64,
   "id": "f26e2eb0",
   "metadata": {},
   "outputs": [
    {
     "data": {
      "text/plain": [
       "Solanaceae  RCL  \n",
       "0           CPLYC    23\n",
       "            CPQYC    22\n",
       "            CPQFC    20\n",
       "            CPLIC     7\n",
       "            CAMYC     5\n",
       "                     ..\n",
       "1           CTPNC     2\n",
       "            CIREC     1\n",
       "            CLQKC     1\n",
       "            CSFNC     1\n",
       "            CTQDC     1\n",
       "Name: RCL, Length: 71, dtype: int64"
      ]
     },
     "execution_count": 64,
     "metadata": {},
     "output_type": "execute_result"
    }
   ],
   "source": [
    "org_domain_uniqueRecords.groupby('Solanaceae').RCL.value_counts()"
   ]
  },
  {
   "cell_type": "markdown",
   "id": "96c6b556",
   "metadata": {},
   "source": [
    "## Disulphide Bond variations in the Pin-II family"
   ]
  },
  {
   "cell_type": "code",
   "execution_count": 65,
   "id": "10cee78d",
   "metadata": {},
   "outputs": [],
   "source": [
    "seq=pd.read_csv('data/24_Sequence_Organism_IsoelectricPoint_Amino_Composition.csv')"
   ]
  },
  {
   "cell_type": "code",
   "execution_count": 66,
   "id": "37da5c3b",
   "metadata": {},
   "outputs": [
    {
     "data": {
      "text/plain": [
       "(452, 64)"
      ]
     },
     "execution_count": 66,
     "metadata": {},
     "output_type": "execute_result"
    }
   ],
   "source": [
    "seq.shape"
   ]
  },
  {
   "cell_type": "code",
   "execution_count": 68,
   "id": "1f6072a4",
   "metadata": {},
   "outputs": [
    {
     "data": {
      "text/plain": [
       "Index(['UniprotID', 'ProteinNames', 'GeneNames', 'OrganismID', 'Organism',\n",
       "       'Genus', 'Species', 'Solanaceae', 'Function[CC]', 'Sequence', 'Length',\n",
       "       'Mass', 'average_pI', 'pH_5.5_charge', 'pH_7.4_charge', 'pH_8.0_charge',\n",
       "       'A', 'A_per', 'C', 'C_per', 'D', 'D_per', 'E', 'E_per', 'F', 'F_per',\n",
       "       'G', 'G_per', 'H', 'H_per', 'I', 'I_per', 'K', 'K_per', 'L', 'L_per',\n",
       "       'M', 'M_per', 'N', 'N_per', 'O', 'O_per', 'P', 'P_per', 'Q', 'Q_per',\n",
       "       'R', 'R_per', 'S', 'S_per', 'T', 'T_per', 'U', 'U_per', 'V', 'V_per',\n",
       "       'W', 'W_per', 'X', 'X_per', 'Y', 'Y_per', 'Z', 'Z_per'],\n",
       "      dtype='object')"
      ]
     },
     "execution_count": 68,
     "metadata": {},
     "output_type": "execute_result"
    }
   ],
   "source": [
    "seq.columns"
   ]
  },
  {
   "cell_type": "code",
   "execution_count": 69,
   "id": "92a1c15c",
   "metadata": {},
   "outputs": [],
   "source": [
    "seq_amino=seq[['UniprotID',\n",
    "       'A', 'C','D','E','F','G','H','I','K','L','M','N','O','P','Q','R','S','T','U','V','W','X','Y','Z']]"
   ]
  },
  {
   "cell_type": "code",
   "execution_count": 74,
   "id": "a9050940",
   "metadata": {},
   "outputs": [
    {
     "data": {
      "text/html": [
       "<div>\n",
       "<style scoped>\n",
       "    .dataframe tbody tr th:only-of-type {\n",
       "        vertical-align: middle;\n",
       "    }\n",
       "\n",
       "    .dataframe tbody tr th {\n",
       "        vertical-align: top;\n",
       "    }\n",
       "\n",
       "    .dataframe thead th {\n",
       "        text-align: right;\n",
       "    }\n",
       "</style>\n",
       "<table border=\"1\" class=\"dataframe\">\n",
       "  <thead>\n",
       "    <tr style=\"text-align: right;\">\n",
       "      <th></th>\n",
       "      <th>A</th>\n",
       "      <th>C</th>\n",
       "      <th>D</th>\n",
       "      <th>E</th>\n",
       "      <th>F</th>\n",
       "      <th>G</th>\n",
       "      <th>H</th>\n",
       "      <th>I</th>\n",
       "      <th>K</th>\n",
       "      <th>L</th>\n",
       "      <th>M</th>\n",
       "      <th>N</th>\n",
       "      <th>O</th>\n",
       "      <th>P</th>\n",
       "      <th>Q</th>\n",
       "      <th>R</th>\n",
       "      <th>S</th>\n",
       "      <th>T</th>\n",
       "      <th>U</th>\n",
       "      <th>V</th>\n",
       "      <th>W</th>\n",
       "      <th>X</th>\n",
       "      <th>Y</th>\n",
       "      <th>Z</th>\n",
       "    </tr>\n",
       "    <tr>\n",
       "      <th>UniprotID</th>\n",
       "      <th></th>\n",
       "      <th></th>\n",
       "      <th></th>\n",
       "      <th></th>\n",
       "      <th></th>\n",
       "      <th></th>\n",
       "      <th></th>\n",
       "      <th></th>\n",
       "      <th></th>\n",
       "      <th></th>\n",
       "      <th></th>\n",
       "      <th></th>\n",
       "      <th></th>\n",
       "      <th></th>\n",
       "      <th></th>\n",
       "      <th></th>\n",
       "      <th></th>\n",
       "      <th></th>\n",
       "      <th></th>\n",
       "      <th></th>\n",
       "      <th></th>\n",
       "      <th></th>\n",
       "      <th></th>\n",
       "      <th></th>\n",
       "    </tr>\n",
       "  </thead>\n",
       "  <tbody>\n",
       "    <tr>\n",
       "      <th>P05119</th>\n",
       "      <td>7</td>\n",
       "      <td>16</td>\n",
       "      <td>5</td>\n",
       "      <td>8</td>\n",
       "      <td>8</td>\n",
       "      <td>16</td>\n",
       "      <td>1</td>\n",
       "      <td>7</td>\n",
       "      <td>10</td>\n",
       "      <td>7</td>\n",
       "      <td>4</td>\n",
       "      <td>10</td>\n",
       "      <td>0</td>\n",
       "      <td>10</td>\n",
       "      <td>1</td>\n",
       "      <td>5</td>\n",
       "      <td>9</td>\n",
       "      <td>6</td>\n",
       "      <td>0</td>\n",
       "      <td>7</td>\n",
       "      <td>0</td>\n",
       "      <td>0</td>\n",
       "      <td>11</td>\n",
       "      <td>0</td>\n",
       "    </tr>\n",
       "    <tr>\n",
       "      <th>P84813</th>\n",
       "      <td>6</td>\n",
       "      <td>7</td>\n",
       "      <td>3</td>\n",
       "      <td>1</td>\n",
       "      <td>1</td>\n",
       "      <td>4</td>\n",
       "      <td>1</td>\n",
       "      <td>3</td>\n",
       "      <td>4</td>\n",
       "      <td>1</td>\n",
       "      <td>0</td>\n",
       "      <td>4</td>\n",
       "      <td>0</td>\n",
       "      <td>4</td>\n",
       "      <td>1</td>\n",
       "      <td>0</td>\n",
       "      <td>2</td>\n",
       "      <td>4</td>\n",
       "      <td>0</td>\n",
       "      <td>0</td>\n",
       "      <td>0</td>\n",
       "      <td>0</td>\n",
       "      <td>1</td>\n",
       "      <td>0</td>\n",
       "    </tr>\n",
       "    <tr>\n",
       "      <th>P01080</th>\n",
       "      <td>11</td>\n",
       "      <td>16</td>\n",
       "      <td>6</td>\n",
       "      <td>9</td>\n",
       "      <td>5</td>\n",
       "      <td>16</td>\n",
       "      <td>2</td>\n",
       "      <td>7</td>\n",
       "      <td>12</td>\n",
       "      <td>9</td>\n",
       "      <td>4</td>\n",
       "      <td>9</td>\n",
       "      <td>0</td>\n",
       "      <td>11</td>\n",
       "      <td>1</td>\n",
       "      <td>3</td>\n",
       "      <td>9</td>\n",
       "      <td>5</td>\n",
       "      <td>0</td>\n",
       "      <td>8</td>\n",
       "      <td>0</td>\n",
       "      <td>0</td>\n",
       "      <td>10</td>\n",
       "      <td>0</td>\n",
       "    </tr>\n",
       "    <tr>\n",
       "      <th>P83241</th>\n",
       "      <td>4</td>\n",
       "      <td>8</td>\n",
       "      <td>2</td>\n",
       "      <td>1</td>\n",
       "      <td>1</td>\n",
       "      <td>4</td>\n",
       "      <td>0</td>\n",
       "      <td>4</td>\n",
       "      <td>5</td>\n",
       "      <td>1</td>\n",
       "      <td>1</td>\n",
       "      <td>3</td>\n",
       "      <td>0</td>\n",
       "      <td>2</td>\n",
       "      <td>1</td>\n",
       "      <td>4</td>\n",
       "      <td>4</td>\n",
       "      <td>4</td>\n",
       "      <td>0</td>\n",
       "      <td>2</td>\n",
       "      <td>0</td>\n",
       "      <td>0</td>\n",
       "      <td>1</td>\n",
       "      <td>0</td>\n",
       "    </tr>\n",
       "    <tr>\n",
       "      <th>P01078</th>\n",
       "      <td>3</td>\n",
       "      <td>8</td>\n",
       "      <td>2</td>\n",
       "      <td>3</td>\n",
       "      <td>2</td>\n",
       "      <td>6</td>\n",
       "      <td>0</td>\n",
       "      <td>4</td>\n",
       "      <td>3</td>\n",
       "      <td>1</td>\n",
       "      <td>0</td>\n",
       "      <td>4</td>\n",
       "      <td>0</td>\n",
       "      <td>4</td>\n",
       "      <td>1</td>\n",
       "      <td>3</td>\n",
       "      <td>4</td>\n",
       "      <td>2</td>\n",
       "      <td>0</td>\n",
       "      <td>0</td>\n",
       "      <td>0</td>\n",
       "      <td>0</td>\n",
       "      <td>2</td>\n",
       "      <td>0</td>\n",
       "    </tr>\n",
       "  </tbody>\n",
       "</table>\n",
       "</div>"
      ],
      "text/plain": [
       "            A   C  D  E  F   G  H  I   K  L  M   N  O   P  Q  R  S  T  U  V  \\\n",
       "UniprotID                                                                     \n",
       "P05119      7  16  5  8  8  16  1  7  10  7  4  10  0  10  1  5  9  6  0  7   \n",
       "P84813      6   7  3  1  1   4  1  3   4  1  0   4  0   4  1  0  2  4  0  0   \n",
       "P01080     11  16  6  9  5  16  2  7  12  9  4   9  0  11  1  3  9  5  0  8   \n",
       "P83241      4   8  2  1  1   4  0  4   5  1  1   3  0   2  1  4  4  4  0  2   \n",
       "P01078      3   8  2  3  2   6  0  4   3  1  0   4  0   4  1  3  4  2  0  0   \n",
       "\n",
       "           W  X   Y  Z  \n",
       "UniprotID               \n",
       "P05119     0  0  11  0  \n",
       "P84813     0  0   1  0  \n",
       "P01080     0  0  10  0  \n",
       "P83241     0  0   1  0  \n",
       "P01078     0  0   2  0  "
      ]
     },
     "execution_count": 74,
     "metadata": {},
     "output_type": "execute_result"
    }
   ],
   "source": [
    "seq_amino.head()"
   ]
  },
  {
   "cell_type": "code",
   "execution_count": 71,
   "id": "2cc9c6c7",
   "metadata": {},
   "outputs": [],
   "source": [
    "seq_amino.set_index('UniprotID',inplace=True)"
   ]
  },
  {
   "cell_type": "code",
   "execution_count": 75,
   "id": "9fa02c41",
   "metadata": {},
   "outputs": [
    {
     "data": {
      "text/html": [
       "<div>\n",
       "<style scoped>\n",
       "    .dataframe tbody tr th:only-of-type {\n",
       "        vertical-align: middle;\n",
       "    }\n",
       "\n",
       "    .dataframe tbody tr th {\n",
       "        vertical-align: top;\n",
       "    }\n",
       "\n",
       "    .dataframe thead th {\n",
       "        text-align: right;\n",
       "    }\n",
       "</style>\n",
       "<table border=\"1\" class=\"dataframe\">\n",
       "  <thead>\n",
       "    <tr style=\"text-align: right;\">\n",
       "      <th></th>\n",
       "      <th>A</th>\n",
       "      <th>C</th>\n",
       "      <th>D</th>\n",
       "      <th>E</th>\n",
       "      <th>F</th>\n",
       "      <th>G</th>\n",
       "      <th>H</th>\n",
       "      <th>I</th>\n",
       "      <th>K</th>\n",
       "      <th>L</th>\n",
       "      <th>M</th>\n",
       "      <th>N</th>\n",
       "      <th>O</th>\n",
       "      <th>P</th>\n",
       "      <th>Q</th>\n",
       "      <th>R</th>\n",
       "      <th>S</th>\n",
       "      <th>T</th>\n",
       "      <th>U</th>\n",
       "      <th>V</th>\n",
       "      <th>W</th>\n",
       "      <th>X</th>\n",
       "      <th>Y</th>\n",
       "      <th>Z</th>\n",
       "    </tr>\n",
       "    <tr>\n",
       "      <th>UniprotID</th>\n",
       "      <th></th>\n",
       "      <th></th>\n",
       "      <th></th>\n",
       "      <th></th>\n",
       "      <th></th>\n",
       "      <th></th>\n",
       "      <th></th>\n",
       "      <th></th>\n",
       "      <th></th>\n",
       "      <th></th>\n",
       "      <th></th>\n",
       "      <th></th>\n",
       "      <th></th>\n",
       "      <th></th>\n",
       "      <th></th>\n",
       "      <th></th>\n",
       "      <th></th>\n",
       "      <th></th>\n",
       "      <th></th>\n",
       "      <th></th>\n",
       "      <th></th>\n",
       "      <th></th>\n",
       "      <th></th>\n",
       "      <th></th>\n",
       "    </tr>\n",
       "  </thead>\n",
       "  <tbody>\n",
       "    <tr>\n",
       "      <th>P05119</th>\n",
       "      <td>7</td>\n",
       "      <td>16</td>\n",
       "      <td>5</td>\n",
       "      <td>8</td>\n",
       "      <td>8</td>\n",
       "      <td>16</td>\n",
       "      <td>1</td>\n",
       "      <td>7</td>\n",
       "      <td>10</td>\n",
       "      <td>7</td>\n",
       "      <td>4</td>\n",
       "      <td>10</td>\n",
       "      <td>0</td>\n",
       "      <td>10</td>\n",
       "      <td>1</td>\n",
       "      <td>5</td>\n",
       "      <td>9</td>\n",
       "      <td>6</td>\n",
       "      <td>0</td>\n",
       "      <td>7</td>\n",
       "      <td>0</td>\n",
       "      <td>0</td>\n",
       "      <td>11</td>\n",
       "      <td>0</td>\n",
       "    </tr>\n",
       "    <tr>\n",
       "      <th>P84813</th>\n",
       "      <td>6</td>\n",
       "      <td>7</td>\n",
       "      <td>3</td>\n",
       "      <td>1</td>\n",
       "      <td>1</td>\n",
       "      <td>4</td>\n",
       "      <td>1</td>\n",
       "      <td>3</td>\n",
       "      <td>4</td>\n",
       "      <td>1</td>\n",
       "      <td>0</td>\n",
       "      <td>4</td>\n",
       "      <td>0</td>\n",
       "      <td>4</td>\n",
       "      <td>1</td>\n",
       "      <td>0</td>\n",
       "      <td>2</td>\n",
       "      <td>4</td>\n",
       "      <td>0</td>\n",
       "      <td>0</td>\n",
       "      <td>0</td>\n",
       "      <td>0</td>\n",
       "      <td>1</td>\n",
       "      <td>0</td>\n",
       "    </tr>\n",
       "    <tr>\n",
       "      <th>P01080</th>\n",
       "      <td>11</td>\n",
       "      <td>16</td>\n",
       "      <td>6</td>\n",
       "      <td>9</td>\n",
       "      <td>5</td>\n",
       "      <td>16</td>\n",
       "      <td>2</td>\n",
       "      <td>7</td>\n",
       "      <td>12</td>\n",
       "      <td>9</td>\n",
       "      <td>4</td>\n",
       "      <td>9</td>\n",
       "      <td>0</td>\n",
       "      <td>11</td>\n",
       "      <td>1</td>\n",
       "      <td>3</td>\n",
       "      <td>9</td>\n",
       "      <td>5</td>\n",
       "      <td>0</td>\n",
       "      <td>8</td>\n",
       "      <td>0</td>\n",
       "      <td>0</td>\n",
       "      <td>10</td>\n",
       "      <td>0</td>\n",
       "    </tr>\n",
       "    <tr>\n",
       "      <th>P83241</th>\n",
       "      <td>4</td>\n",
       "      <td>8</td>\n",
       "      <td>2</td>\n",
       "      <td>1</td>\n",
       "      <td>1</td>\n",
       "      <td>4</td>\n",
       "      <td>0</td>\n",
       "      <td>4</td>\n",
       "      <td>5</td>\n",
       "      <td>1</td>\n",
       "      <td>1</td>\n",
       "      <td>3</td>\n",
       "      <td>0</td>\n",
       "      <td>2</td>\n",
       "      <td>1</td>\n",
       "      <td>4</td>\n",
       "      <td>4</td>\n",
       "      <td>4</td>\n",
       "      <td>0</td>\n",
       "      <td>2</td>\n",
       "      <td>0</td>\n",
       "      <td>0</td>\n",
       "      <td>1</td>\n",
       "      <td>0</td>\n",
       "    </tr>\n",
       "    <tr>\n",
       "      <th>P01078</th>\n",
       "      <td>3</td>\n",
       "      <td>8</td>\n",
       "      <td>2</td>\n",
       "      <td>3</td>\n",
       "      <td>2</td>\n",
       "      <td>6</td>\n",
       "      <td>0</td>\n",
       "      <td>4</td>\n",
       "      <td>3</td>\n",
       "      <td>1</td>\n",
       "      <td>0</td>\n",
       "      <td>4</td>\n",
       "      <td>0</td>\n",
       "      <td>4</td>\n",
       "      <td>1</td>\n",
       "      <td>3</td>\n",
       "      <td>4</td>\n",
       "      <td>2</td>\n",
       "      <td>0</td>\n",
       "      <td>0</td>\n",
       "      <td>0</td>\n",
       "      <td>0</td>\n",
       "      <td>2</td>\n",
       "      <td>0</td>\n",
       "    </tr>\n",
       "  </tbody>\n",
       "</table>\n",
       "</div>"
      ],
      "text/plain": [
       "            A   C  D  E  F   G  H  I   K  L  M   N  O   P  Q  R  S  T  U  V  \\\n",
       "UniprotID                                                                     \n",
       "P05119      7  16  5  8  8  16  1  7  10  7  4  10  0  10  1  5  9  6  0  7   \n",
       "P84813      6   7  3  1  1   4  1  3   4  1  0   4  0   4  1  0  2  4  0  0   \n",
       "P01080     11  16  6  9  5  16  2  7  12  9  4   9  0  11  1  3  9  5  0  8   \n",
       "P83241      4   8  2  1  1   4  0  4   5  1  1   3  0   2  1  4  4  4  0  2   \n",
       "P01078      3   8  2  3  2   6  0  4   3  1  0   4  0   4  1  3  4  2  0  0   \n",
       "\n",
       "           W  X   Y  Z  \n",
       "UniprotID               \n",
       "P05119     0  0  11  0  \n",
       "P84813     0  0   1  0  \n",
       "P01080     0  0  10  0  \n",
       "P83241     0  0   1  0  \n",
       "P01078     0  0   2  0  "
      ]
     },
     "execution_count": 75,
     "metadata": {},
     "output_type": "execute_result"
    }
   ],
   "source": [
    "seq_amino.head()"
   ]
  },
  {
   "cell_type": "markdown",
   "id": "944c8e15",
   "metadata": {},
   "source": [
    "### Display the Max,Min and Mean value of each Amino Acid"
   ]
  },
  {
   "cell_type": "code",
   "execution_count": 77,
   "id": "56ac1ca0",
   "metadata": {},
   "outputs": [
    {
     "data": {
      "text/html": [
       "<div>\n",
       "<style scoped>\n",
       "    .dataframe tbody tr th:only-of-type {\n",
       "        vertical-align: middle;\n",
       "    }\n",
       "\n",
       "    .dataframe tbody tr th {\n",
       "        vertical-align: top;\n",
       "    }\n",
       "\n",
       "    .dataframe thead th {\n",
       "        text-align: right;\n",
       "    }\n",
       "</style>\n",
       "<table border=\"1\" class=\"dataframe\">\n",
       "  <thead>\n",
       "    <tr style=\"text-align: right;\">\n",
       "      <th></th>\n",
       "      <th>A</th>\n",
       "      <th>C</th>\n",
       "      <th>D</th>\n",
       "      <th>E</th>\n",
       "      <th>F</th>\n",
       "      <th>G</th>\n",
       "      <th>H</th>\n",
       "      <th>I</th>\n",
       "      <th>K</th>\n",
       "      <th>L</th>\n",
       "      <th>M</th>\n",
       "      <th>N</th>\n",
       "      <th>O</th>\n",
       "      <th>P</th>\n",
       "      <th>Q</th>\n",
       "      <th>R</th>\n",
       "      <th>S</th>\n",
       "      <th>T</th>\n",
       "      <th>U</th>\n",
       "      <th>V</th>\n",
       "      <th>W</th>\n",
       "      <th>X</th>\n",
       "      <th>Y</th>\n",
       "      <th>Z</th>\n",
       "    </tr>\n",
       "  </thead>\n",
       "  <tbody>\n",
       "    <tr>\n",
       "      <th>max</th>\n",
       "      <td>121.000000</td>\n",
       "      <td>88.00000</td>\n",
       "      <td>84.000000</td>\n",
       "      <td>80.000000</td>\n",
       "      <td>74.000000</td>\n",
       "      <td>133.000000</td>\n",
       "      <td>42.00000</td>\n",
       "      <td>79.00000</td>\n",
       "      <td>79.000000</td>\n",
       "      <td>159.000000</td>\n",
       "      <td>40.000000</td>\n",
       "      <td>57.00000</td>\n",
       "      <td>0.0</td>\n",
       "      <td>80.000000</td>\n",
       "      <td>61.000000</td>\n",
       "      <td>102.000000</td>\n",
       "      <td>140.000000</td>\n",
       "      <td>79.000000</td>\n",
       "      <td>0.0</td>\n",
       "      <td>130.000000</td>\n",
       "      <td>39.000000</td>\n",
       "      <td>1.000000</td>\n",
       "      <td>43.000000</td>\n",
       "      <td>0.0</td>\n",
       "    </tr>\n",
       "    <tr>\n",
       "      <th>min</th>\n",
       "      <td>1.000000</td>\n",
       "      <td>3.00000</td>\n",
       "      <td>0.000000</td>\n",
       "      <td>0.000000</td>\n",
       "      <td>0.000000</td>\n",
       "      <td>1.000000</td>\n",
       "      <td>0.00000</td>\n",
       "      <td>0.00000</td>\n",
       "      <td>0.000000</td>\n",
       "      <td>0.000000</td>\n",
       "      <td>0.000000</td>\n",
       "      <td>0.00000</td>\n",
       "      <td>0.0</td>\n",
       "      <td>0.000000</td>\n",
       "      <td>0.000000</td>\n",
       "      <td>0.000000</td>\n",
       "      <td>1.000000</td>\n",
       "      <td>0.000000</td>\n",
       "      <td>0.0</td>\n",
       "      <td>0.000000</td>\n",
       "      <td>0.000000</td>\n",
       "      <td>0.000000</td>\n",
       "      <td>0.000000</td>\n",
       "      <td>0.0</td>\n",
       "    </tr>\n",
       "    <tr>\n",
       "      <th>mean</th>\n",
       "      <td>11.473451</td>\n",
       "      <td>17.39823</td>\n",
       "      <td>7.889381</td>\n",
       "      <td>9.732301</td>\n",
       "      <td>5.334071</td>\n",
       "      <td>13.561947</td>\n",
       "      <td>2.04646</td>\n",
       "      <td>8.20354</td>\n",
       "      <td>10.573009</td>\n",
       "      <td>10.918142</td>\n",
       "      <td>2.893805</td>\n",
       "      <td>10.60177</td>\n",
       "      <td>0.0</td>\n",
       "      <td>9.763274</td>\n",
       "      <td>2.643805</td>\n",
       "      <td>7.238938</td>\n",
       "      <td>11.287611</td>\n",
       "      <td>8.646018</td>\n",
       "      <td>0.0</td>\n",
       "      <td>7.349558</td>\n",
       "      <td>0.396018</td>\n",
       "      <td>0.006637</td>\n",
       "      <td>7.086283</td>\n",
       "      <td>0.0</td>\n",
       "    </tr>\n",
       "  </tbody>\n",
       "</table>\n",
       "</div>"
      ],
      "text/plain": [
       "               A         C          D          E          F           G  \\\n",
       "max   121.000000  88.00000  84.000000  80.000000  74.000000  133.000000   \n",
       "min     1.000000   3.00000   0.000000   0.000000   0.000000    1.000000   \n",
       "mean   11.473451  17.39823   7.889381   9.732301   5.334071   13.561947   \n",
       "\n",
       "             H         I          K           L          M         N    O  \\\n",
       "max   42.00000  79.00000  79.000000  159.000000  40.000000  57.00000  0.0   \n",
       "min    0.00000   0.00000   0.000000    0.000000   0.000000   0.00000  0.0   \n",
       "mean   2.04646   8.20354  10.573009   10.918142   2.893805  10.60177  0.0   \n",
       "\n",
       "              P          Q           R           S          T    U  \\\n",
       "max   80.000000  61.000000  102.000000  140.000000  79.000000  0.0   \n",
       "min    0.000000   0.000000    0.000000    1.000000   0.000000  0.0   \n",
       "mean   9.763274   2.643805    7.238938   11.287611   8.646018  0.0   \n",
       "\n",
       "               V          W         X          Y    Z  \n",
       "max   130.000000  39.000000  1.000000  43.000000  0.0  \n",
       "min     0.000000   0.000000  0.000000   0.000000  0.0  \n",
       "mean    7.349558   0.396018  0.006637   7.086283  0.0  "
      ]
     },
     "execution_count": 77,
     "metadata": {},
     "output_type": "execute_result"
    }
   ],
   "source": [
    "seq_amino.agg([max,min,np.mean],axis=0)"
   ]
  },
  {
   "cell_type": "markdown",
   "id": "b5bf58d7",
   "metadata": {},
   "source": [
    "### Display the sequence in which each of the Amino Acid has the Maximum value"
   ]
  },
  {
   "cell_type": "code",
   "execution_count": 78,
   "id": "39f1be6f",
   "metadata": {},
   "outputs": [
    {
     "data": {
      "text/plain": [
       "A    A0A2N9F3Z0\n",
       "C    A0A1U7WDA6\n",
       "D    A0A2N9F3Z0\n",
       "E    A0A2N9F3Z0\n",
       "F    A0A2N9F3Z0\n",
       "dtype: object"
      ]
     },
     "execution_count": 78,
     "metadata": {},
     "output_type": "execute_result"
    }
   ],
   "source": [
    "seq_amino.idxmax().head()"
   ]
  },
  {
   "cell_type": "markdown",
   "id": "824e6a9d",
   "metadata": {},
   "source": [
    "### Display the Amino Acid which has maximum count in each sequence"
   ]
  },
  {
   "cell_type": "code",
   "execution_count": 79,
   "id": "6d16cd6b",
   "metadata": {},
   "outputs": [
    {
     "data": {
      "text/plain": [
       "UniprotID\n",
       "P05119    C\n",
       "P84813    C\n",
       "P01080    C\n",
       "P83241    C\n",
       "P01078    C\n",
       "dtype: object"
      ]
     },
     "execution_count": 79,
     "metadata": {},
     "output_type": "execute_result"
    }
   ],
   "source": [
    "seq_amino.idxmax(axis=1).head()"
   ]
  },
  {
   "cell_type": "markdown",
   "id": "f695243b",
   "metadata": {},
   "source": [
    "### Calculate the number of sequences in which a particular Amino Acid has maximum count"
   ]
  },
  {
   "cell_type": "code",
   "execution_count": 80,
   "id": "54a93e6d",
   "metadata": {},
   "outputs": [
    {
     "data": {
      "text/plain": [
       "C    277\n",
       "L    109\n",
       "G     19\n",
       "A     16\n",
       "S      9\n",
       "K      8\n",
       "N      4\n",
       "T      4\n",
       "P      2\n",
       "D      2\n",
       "E      1\n",
       "V      1\n",
       "dtype: int64"
      ]
     },
     "execution_count": 80,
     "metadata": {},
     "output_type": "execute_result"
    }
   ],
   "source": [
    "seq_amino.idxmax(axis=1).value_counts()"
   ]
  },
  {
   "cell_type": "markdown",
   "id": "77bac057",
   "metadata": {},
   "source": [
    "### Cysteine Distribution in Sequences"
   ]
  },
  {
   "cell_type": "code",
   "execution_count": 82,
   "id": "f2b26868",
   "metadata": {},
   "outputs": [
    {
     "data": {
      "text/plain": [
       "8     91\n",
       "9     89\n",
       "25    45\n",
       "24    41\n",
       "16    40\n",
       "10    20\n",
       "17    18\n",
       "48    16\n",
       "11    11\n",
       "14    10\n",
       "33    10\n",
       "40     6\n",
       "22     5\n",
       "15     5\n",
       "32     5\n",
       "56     4\n",
       "13     4\n",
       "7      4\n",
       "12     3\n",
       "26     3\n",
       "50     2\n",
       "38     2\n",
       "63     2\n",
       "3      2\n",
       "23     2\n",
       "4      2\n",
       "19     2\n",
       "34     1\n",
       "42     1\n",
       "45     1\n",
       "21     1\n",
       "18     1\n",
       "6      1\n",
       "64     1\n",
       "88     1\n",
       "Name: C, dtype: int64"
      ]
     },
     "execution_count": 82,
     "metadata": {},
     "output_type": "execute_result"
    }
   ],
   "source": [
    "seq_amino.C.value_counts()"
   ]
  },
  {
   "cell_type": "markdown",
   "id": "f156b6c3",
   "metadata": {},
   "source": [
    "#### Clearly the results show that sequences with 8 or 8+1 Cysteine are the most"
   ]
  },
  {
   "cell_type": "code",
   "execution_count": 84,
   "id": "629e6ec8",
   "metadata": {},
   "outputs": [],
   "source": [
    "## seq_amino.C.value_counts().to_csv('data/35_Cysteines_distribution_in_Sequences.csv')"
   ]
  },
  {
   "cell_type": "code",
   "execution_count": 85,
   "id": "ad83b6c9",
   "metadata": {},
   "outputs": [
    {
     "data": {
      "text/plain": [
       "Index(['UniprotID', 'ProteinNames', 'GeneNames', 'OrganismID', 'Organism',\n",
       "       'Genus', 'Species', 'Solanaceae', 'Function[CC]', 'Sequence', 'Length',\n",
       "       'Mass', 'average_pI', 'pH_5.5_charge', 'pH_7.4_charge', 'pH_8.0_charge',\n",
       "       'A', 'A_per', 'C', 'C_per', 'D', 'D_per', 'E', 'E_per', 'F', 'F_per',\n",
       "       'G', 'G_per', 'H', 'H_per', 'I', 'I_per', 'K', 'K_per', 'L', 'L_per',\n",
       "       'M', 'M_per', 'N', 'N_per', 'O', 'O_per', 'P', 'P_per', 'Q', 'Q_per',\n",
       "       'R', 'R_per', 'S', 'S_per', 'T', 'T_per', 'U', 'U_per', 'V', 'V_per',\n",
       "       'W', 'W_per', 'X', 'X_per', 'Y', 'Y_per', 'Z', 'Z_per'],\n",
       "      dtype='object')"
      ]
     },
     "execution_count": 85,
     "metadata": {},
     "output_type": "execute_result"
    }
   ],
   "source": [
    "seq.columns"
   ]
  },
  {
   "cell_type": "code",
   "execution_count": 86,
   "id": "02fde305",
   "metadata": {},
   "outputs": [],
   "source": [
    "seq_cysAmino=seq[['UniprotID','OrganismID', 'Organism',\n",
    "       'Genus', 'Species', 'Solanaceae','C']]"
   ]
  },
  {
   "cell_type": "code",
   "execution_count": 87,
   "id": "5b8a9f9e",
   "metadata": {},
   "outputs": [
    {
     "data": {
      "text/html": [
       "<div>\n",
       "<style scoped>\n",
       "    .dataframe tbody tr th:only-of-type {\n",
       "        vertical-align: middle;\n",
       "    }\n",
       "\n",
       "    .dataframe tbody tr th {\n",
       "        vertical-align: top;\n",
       "    }\n",
       "\n",
       "    .dataframe thead th {\n",
       "        text-align: right;\n",
       "    }\n",
       "</style>\n",
       "<table border=\"1\" class=\"dataframe\">\n",
       "  <thead>\n",
       "    <tr style=\"text-align: right;\">\n",
       "      <th></th>\n",
       "      <th>UniprotID</th>\n",
       "      <th>OrganismID</th>\n",
       "      <th>Organism</th>\n",
       "      <th>Genus</th>\n",
       "      <th>Species</th>\n",
       "      <th>Solanaceae</th>\n",
       "      <th>C</th>\n",
       "    </tr>\n",
       "  </thead>\n",
       "  <tbody>\n",
       "    <tr>\n",
       "      <th>0</th>\n",
       "      <td>P05119</td>\n",
       "      <td>4081</td>\n",
       "      <td>Solanum lycopersicum (Tomato) (Lycopersicon es...</td>\n",
       "      <td>Solanum</td>\n",
       "      <td>Solanum lycopersicum</td>\n",
       "      <td>1</td>\n",
       "      <td>16</td>\n",
       "    </tr>\n",
       "    <tr>\n",
       "      <th>1</th>\n",
       "      <td>P84813</td>\n",
       "      <td>4113</td>\n",
       "      <td>Solanum tuberosum (Potato)</td>\n",
       "      <td>Solanum</td>\n",
       "      <td>Solanum tuberosum</td>\n",
       "      <td>1</td>\n",
       "      <td>7</td>\n",
       "    </tr>\n",
       "    <tr>\n",
       "      <th>2</th>\n",
       "      <td>P01080</td>\n",
       "      <td>4113</td>\n",
       "      <td>Solanum tuberosum (Potato)</td>\n",
       "      <td>Solanum</td>\n",
       "      <td>Solanum tuberosum</td>\n",
       "      <td>1</td>\n",
       "      <td>16</td>\n",
       "    </tr>\n",
       "    <tr>\n",
       "      <th>3</th>\n",
       "      <td>P83241</td>\n",
       "      <td>4072</td>\n",
       "      <td>Capsicum annuum (Capsicum pepper)</td>\n",
       "      <td>Capsicum</td>\n",
       "      <td>Capsicum annuum</td>\n",
       "      <td>1</td>\n",
       "      <td>8</td>\n",
       "    </tr>\n",
       "    <tr>\n",
       "      <th>4</th>\n",
       "      <td>P01078</td>\n",
       "      <td>4111</td>\n",
       "      <td>Solanum melongena (Eggplant) (Aubergine)</td>\n",
       "      <td>Solanum</td>\n",
       "      <td>Solanum melongena</td>\n",
       "      <td>1</td>\n",
       "      <td>8</td>\n",
       "    </tr>\n",
       "  </tbody>\n",
       "</table>\n",
       "</div>"
      ],
      "text/plain": [
       "  UniprotID  OrganismID                                           Organism  \\\n",
       "0    P05119        4081  Solanum lycopersicum (Tomato) (Lycopersicon es...   \n",
       "1    P84813        4113                         Solanum tuberosum (Potato)   \n",
       "2    P01080        4113                         Solanum tuberosum (Potato)   \n",
       "3    P83241        4072                  Capsicum annuum (Capsicum pepper)   \n",
       "4    P01078        4111           Solanum melongena (Eggplant) (Aubergine)   \n",
       "\n",
       "      Genus                Species  Solanaceae   C  \n",
       "0   Solanum  Solanum lycopersicum            1  16  \n",
       "1   Solanum     Solanum tuberosum            1   7  \n",
       "2   Solanum     Solanum tuberosum            1  16  \n",
       "3  Capsicum       Capsicum annuum            1   8  \n",
       "4   Solanum     Solanum melongena            1   8  "
      ]
     },
     "execution_count": 87,
     "metadata": {},
     "output_type": "execute_result"
    }
   ],
   "source": [
    "seq_cysAmino.head()"
   ]
  },
  {
   "cell_type": "markdown",
   "id": "20c624cf",
   "metadata": {},
   "source": [
    "### Organism wise CysCount distribution"
   ]
  },
  {
   "cell_type": "code",
   "execution_count": 88,
   "id": "e314b7cd",
   "metadata": {},
   "outputs": [
    {
     "data": {
      "text/plain": [
       "Organism                                                       C \n",
       "Aegilops tauschii (Tausch's goatgrass) (Aegilops squarrosa)    11    1\n",
       "Aegilops tauschii subsp. strangulata (Goatgrass)               9     1\n",
       "                                                               11    1\n",
       "Ananas comosus (Pineapple) (Ananas ananas)                     8     3\n",
       "Ananas comosus var. bracteatus                                 11    1\n",
       "                                                                    ..\n",
       "Triticum turgidum subsp. durum (Durum wheat) (Triticum durum)  9     1\n",
       "Triticum urartu (Red wild einkorn) (Crithodium urartu)         9     1\n",
       "Vitis vinifera (Grape)                                         8     2\n",
       "                                                               9     1\n",
       "Zea mays (Maize)                                               9     2\n",
       "Name: C, Length: 233, dtype: int64"
      ]
     },
     "execution_count": 88,
     "metadata": {},
     "output_type": "execute_result"
    }
   ],
   "source": [
    "seq_cysAmino.groupby('Organism').C.value_counts()"
   ]
  },
  {
   "cell_type": "code",
   "execution_count": 90,
   "id": "82b0e1bf",
   "metadata": {},
   "outputs": [],
   "source": [
    "## seq_cysAmino.groupby('Organism').C.value_counts().to_csv('data/36_Organism_wise_Cys_distribution.csv')"
   ]
  },
  {
   "cell_type": "code",
   "execution_count": 94,
   "id": "3f47ef51",
   "metadata": {},
   "outputs": [],
   "source": [
    "domains_amino=pd.read_csv('data/23_Domain_Amino_Composition.csv')"
   ]
  },
  {
   "cell_type": "code",
   "execution_count": 95,
   "id": "e3857159",
   "metadata": {},
   "outputs": [
    {
     "data": {
      "text/html": [
       "<div>\n",
       "<style scoped>\n",
       "    .dataframe tbody tr th:only-of-type {\n",
       "        vertical-align: middle;\n",
       "    }\n",
       "\n",
       "    .dataframe tbody tr th {\n",
       "        vertical-align: top;\n",
       "    }\n",
       "\n",
       "    .dataframe thead th {\n",
       "        text-align: right;\n",
       "    }\n",
       "</style>\n",
       "<table border=\"1\" class=\"dataframe\">\n",
       "  <thead>\n",
       "    <tr style=\"text-align: right;\">\n",
       "      <th></th>\n",
       "      <th>Unnamed: 0</th>\n",
       "      <th>DomainID</th>\n",
       "      <th>Sequence</th>\n",
       "      <th>Length</th>\n",
       "      <th>A</th>\n",
       "      <th>A_per</th>\n",
       "      <th>C</th>\n",
       "      <th>C_per</th>\n",
       "      <th>D</th>\n",
       "      <th>D_per</th>\n",
       "      <th>E</th>\n",
       "      <th>E_per</th>\n",
       "      <th>F</th>\n",
       "      <th>F_per</th>\n",
       "      <th>G</th>\n",
       "      <th>G_per</th>\n",
       "      <th>H</th>\n",
       "      <th>H_per</th>\n",
       "      <th>I</th>\n",
       "      <th>I_per</th>\n",
       "      <th>K</th>\n",
       "      <th>K_per</th>\n",
       "      <th>L</th>\n",
       "      <th>L_per</th>\n",
       "      <th>M</th>\n",
       "      <th>M_per</th>\n",
       "      <th>N</th>\n",
       "      <th>N_per</th>\n",
       "      <th>O</th>\n",
       "      <th>O_per</th>\n",
       "      <th>P</th>\n",
       "      <th>P_per</th>\n",
       "      <th>Q</th>\n",
       "      <th>Q_per</th>\n",
       "      <th>R</th>\n",
       "      <th>R_per</th>\n",
       "      <th>S</th>\n",
       "      <th>S_per</th>\n",
       "      <th>T</th>\n",
       "      <th>T_per</th>\n",
       "      <th>U</th>\n",
       "      <th>U_per</th>\n",
       "      <th>V</th>\n",
       "      <th>V_per</th>\n",
       "      <th>W</th>\n",
       "      <th>W_per</th>\n",
       "      <th>X</th>\n",
       "      <th>X_per</th>\n",
       "      <th>Y</th>\n",
       "      <th>Y_per</th>\n",
       "      <th>Z</th>\n",
       "      <th>Z_per</th>\n",
       "    </tr>\n",
       "  </thead>\n",
       "  <tbody>\n",
       "    <tr>\n",
       "      <th>0</th>\n",
       "      <td>1</td>\n",
       "      <td>IRD-1</td>\n",
       "      <td>QICINCCAGKKGCNYFSADGTFICEGESEYVSEVNDNLEKHCPRNC...</td>\n",
       "      <td>58</td>\n",
       "      <td>3</td>\n",
       "      <td>5.172414</td>\n",
       "      <td>8</td>\n",
       "      <td>13.793103</td>\n",
       "      <td>3</td>\n",
       "      <td>5.172414</td>\n",
       "      <td>5</td>\n",
       "      <td>8.620690</td>\n",
       "      <td>2</td>\n",
       "      <td>3.448276</td>\n",
       "      <td>4</td>\n",
       "      <td>6.896552</td>\n",
       "      <td>1</td>\n",
       "      <td>1.724138</td>\n",
       "      <td>5</td>\n",
       "      <td>8.620690</td>\n",
       "      <td>3</td>\n",
       "      <td>5.172414</td>\n",
       "      <td>1</td>\n",
       "      <td>1.724138</td>\n",
       "      <td>0</td>\n",
       "      <td>0.000000</td>\n",
       "      <td>5</td>\n",
       "      <td>8.620690</td>\n",
       "      <td>0</td>\n",
       "      <td>0</td>\n",
       "      <td>3</td>\n",
       "      <td>5.172414</td>\n",
       "      <td>1</td>\n",
       "      <td>1.724138</td>\n",
       "      <td>3</td>\n",
       "      <td>5.172414</td>\n",
       "      <td>4</td>\n",
       "      <td>6.896552</td>\n",
       "      <td>1</td>\n",
       "      <td>1.724138</td>\n",
       "      <td>0</td>\n",
       "      <td>0</td>\n",
       "      <td>3</td>\n",
       "      <td>5.172414</td>\n",
       "      <td>0</td>\n",
       "      <td>0.0</td>\n",
       "      <td>0</td>\n",
       "      <td>0.0</td>\n",
       "      <td>3</td>\n",
       "      <td>5.172414</td>\n",
       "      <td>0</td>\n",
       "      <td>0</td>\n",
       "    </tr>\n",
       "    <tr>\n",
       "      <th>1</th>\n",
       "      <td>2</td>\n",
       "      <td>IRD-2</td>\n",
       "      <td>QICTNCCAGKKGCMYFSDDGTFICEGESEYVSEVPVDNKPCPRNCD...</td>\n",
       "      <td>57</td>\n",
       "      <td>2</td>\n",
       "      <td>3.508772</td>\n",
       "      <td>8</td>\n",
       "      <td>14.035088</td>\n",
       "      <td>4</td>\n",
       "      <td>7.017544</td>\n",
       "      <td>4</td>\n",
       "      <td>7.017544</td>\n",
       "      <td>2</td>\n",
       "      <td>3.508772</td>\n",
       "      <td>6</td>\n",
       "      <td>10.526316</td>\n",
       "      <td>0</td>\n",
       "      <td>0.000000</td>\n",
       "      <td>4</td>\n",
       "      <td>7.017544</td>\n",
       "      <td>3</td>\n",
       "      <td>5.263158</td>\n",
       "      <td>1</td>\n",
       "      <td>1.754386</td>\n",
       "      <td>1</td>\n",
       "      <td>1.754386</td>\n",
       "      <td>3</td>\n",
       "      <td>5.263158</td>\n",
       "      <td>0</td>\n",
       "      <td>0</td>\n",
       "      <td>4</td>\n",
       "      <td>7.017544</td>\n",
       "      <td>1</td>\n",
       "      <td>1.754386</td>\n",
       "      <td>2</td>\n",
       "      <td>3.508772</td>\n",
       "      <td>4</td>\n",
       "      <td>7.017544</td>\n",
       "      <td>2</td>\n",
       "      <td>3.508772</td>\n",
       "      <td>0</td>\n",
       "      <td>0</td>\n",
       "      <td>3</td>\n",
       "      <td>5.263158</td>\n",
       "      <td>0</td>\n",
       "      <td>0.0</td>\n",
       "      <td>0</td>\n",
       "      <td>0.0</td>\n",
       "      <td>3</td>\n",
       "      <td>5.263158</td>\n",
       "      <td>0</td>\n",
       "      <td>0</td>\n",
       "    </tr>\n",
       "    <tr>\n",
       "      <th>2</th>\n",
       "      <td>3</td>\n",
       "      <td>IRD-3</td>\n",
       "      <td>QICTNCCAGKKGCMYFSNDGTFICEGESEYVSEVPVDNKPCPRNCD...</td>\n",
       "      <td>57</td>\n",
       "      <td>2</td>\n",
       "      <td>3.508772</td>\n",
       "      <td>8</td>\n",
       "      <td>14.035088</td>\n",
       "      <td>3</td>\n",
       "      <td>5.263158</td>\n",
       "      <td>4</td>\n",
       "      <td>7.017544</td>\n",
       "      <td>2</td>\n",
       "      <td>3.508772</td>\n",
       "      <td>6</td>\n",
       "      <td>10.526316</td>\n",
       "      <td>0</td>\n",
       "      <td>0.000000</td>\n",
       "      <td>4</td>\n",
       "      <td>7.017544</td>\n",
       "      <td>3</td>\n",
       "      <td>5.263158</td>\n",
       "      <td>1</td>\n",
       "      <td>1.754386</td>\n",
       "      <td>1</td>\n",
       "      <td>1.754386</td>\n",
       "      <td>4</td>\n",
       "      <td>7.017544</td>\n",
       "      <td>0</td>\n",
       "      <td>0</td>\n",
       "      <td>4</td>\n",
       "      <td>7.017544</td>\n",
       "      <td>1</td>\n",
       "      <td>1.754386</td>\n",
       "      <td>2</td>\n",
       "      <td>3.508772</td>\n",
       "      <td>4</td>\n",
       "      <td>7.017544</td>\n",
       "      <td>2</td>\n",
       "      <td>3.508772</td>\n",
       "      <td>0</td>\n",
       "      <td>0</td>\n",
       "      <td>3</td>\n",
       "      <td>5.263158</td>\n",
       "      <td>0</td>\n",
       "      <td>0.0</td>\n",
       "      <td>0</td>\n",
       "      <td>0.0</td>\n",
       "      <td>3</td>\n",
       "      <td>5.263158</td>\n",
       "      <td>0</td>\n",
       "      <td>0</td>\n",
       "    </tr>\n",
       "    <tr>\n",
       "      <th>3</th>\n",
       "      <td>4</td>\n",
       "      <td>IRD-4</td>\n",
       "      <td>VGCTNCCSGTEGCNYYSANGTFICEGQTKKTIDETNKACPRNCNPR...</td>\n",
       "      <td>55</td>\n",
       "      <td>3</td>\n",
       "      <td>5.454545</td>\n",
       "      <td>8</td>\n",
       "      <td>14.545455</td>\n",
       "      <td>1</td>\n",
       "      <td>1.818182</td>\n",
       "      <td>3</td>\n",
       "      <td>5.454545</td>\n",
       "      <td>1</td>\n",
       "      <td>1.818182</td>\n",
       "      <td>6</td>\n",
       "      <td>10.909091</td>\n",
       "      <td>0</td>\n",
       "      <td>0.000000</td>\n",
       "      <td>4</td>\n",
       "      <td>7.272727</td>\n",
       "      <td>3</td>\n",
       "      <td>5.454545</td>\n",
       "      <td>0</td>\n",
       "      <td>0.000000</td>\n",
       "      <td>0</td>\n",
       "      <td>0.000000</td>\n",
       "      <td>7</td>\n",
       "      <td>12.727273</td>\n",
       "      <td>0</td>\n",
       "      <td>0</td>\n",
       "      <td>3</td>\n",
       "      <td>5.454545</td>\n",
       "      <td>1</td>\n",
       "      <td>1.818182</td>\n",
       "      <td>2</td>\n",
       "      <td>3.636364</td>\n",
       "      <td>3</td>\n",
       "      <td>5.454545</td>\n",
       "      <td>6</td>\n",
       "      <td>10.909091</td>\n",
       "      <td>0</td>\n",
       "      <td>0</td>\n",
       "      <td>1</td>\n",
       "      <td>1.818182</td>\n",
       "      <td>0</td>\n",
       "      <td>0.0</td>\n",
       "      <td>0</td>\n",
       "      <td>0.0</td>\n",
       "      <td>3</td>\n",
       "      <td>5.454545</td>\n",
       "      <td>0</td>\n",
       "      <td>0</td>\n",
       "    </tr>\n",
       "    <tr>\n",
       "      <th>4</th>\n",
       "      <td>5</td>\n",
       "      <td>IRD-5</td>\n",
       "      <td>LGCTNCCAGSLGCNYYSANGTFICEGESEIKVETIETEVETMVEPN...</td>\n",
       "      <td>60</td>\n",
       "      <td>2</td>\n",
       "      <td>3.333333</td>\n",
       "      <td>7</td>\n",
       "      <td>11.666667</td>\n",
       "      <td>1</td>\n",
       "      <td>1.666667</td>\n",
       "      <td>8</td>\n",
       "      <td>13.333333</td>\n",
       "      <td>1</td>\n",
       "      <td>1.666667</td>\n",
       "      <td>6</td>\n",
       "      <td>10.000000</td>\n",
       "      <td>0</td>\n",
       "      <td>0.000000</td>\n",
       "      <td>5</td>\n",
       "      <td>8.333333</td>\n",
       "      <td>3</td>\n",
       "      <td>5.000000</td>\n",
       "      <td>2</td>\n",
       "      <td>3.333333</td>\n",
       "      <td>1</td>\n",
       "      <td>1.666667</td>\n",
       "      <td>5</td>\n",
       "      <td>8.333333</td>\n",
       "      <td>0</td>\n",
       "      <td>0</td>\n",
       "      <td>3</td>\n",
       "      <td>5.000000</td>\n",
       "      <td>0</td>\n",
       "      <td>0.000000</td>\n",
       "      <td>2</td>\n",
       "      <td>3.333333</td>\n",
       "      <td>3</td>\n",
       "      <td>5.000000</td>\n",
       "      <td>5</td>\n",
       "      <td>8.333333</td>\n",
       "      <td>0</td>\n",
       "      <td>0</td>\n",
       "      <td>3</td>\n",
       "      <td>5.000000</td>\n",
       "      <td>0</td>\n",
       "      <td>0.0</td>\n",
       "      <td>0</td>\n",
       "      <td>0.0</td>\n",
       "      <td>3</td>\n",
       "      <td>5.000000</td>\n",
       "      <td>0</td>\n",
       "      <td>0</td>\n",
       "    </tr>\n",
       "  </tbody>\n",
       "</table>\n",
       "</div>"
      ],
      "text/plain": [
       "   Unnamed: 0 DomainID                                           Sequence  \\\n",
       "0           1    IRD-1  QICINCCAGKKGCNYFSADGTFICEGESEYVSEVNDNLEKHCPRNC...   \n",
       "1           2    IRD-2  QICTNCCAGKKGCMYFSDDGTFICEGESEYVSEVPVDNKPCPRNCD...   \n",
       "2           3    IRD-3  QICTNCCAGKKGCMYFSNDGTFICEGESEYVSEVPVDNKPCPRNCD...   \n",
       "3           4    IRD-4  VGCTNCCSGTEGCNYYSANGTFICEGQTKKTIDETNKACPRNCNPR...   \n",
       "4           5    IRD-5  LGCTNCCAGSLGCNYYSANGTFICEGESEIKVETIETEVETMVEPN...   \n",
       "\n",
       "   Length  A     A_per  C      C_per  D     D_per  E      E_per  F     F_per  \\\n",
       "0      58  3  5.172414  8  13.793103  3  5.172414  5   8.620690  2  3.448276   \n",
       "1      57  2  3.508772  8  14.035088  4  7.017544  4   7.017544  2  3.508772   \n",
       "2      57  2  3.508772  8  14.035088  3  5.263158  4   7.017544  2  3.508772   \n",
       "3      55  3  5.454545  8  14.545455  1  1.818182  3   5.454545  1  1.818182   \n",
       "4      60  2  3.333333  7  11.666667  1  1.666667  8  13.333333  1  1.666667   \n",
       "\n",
       "   G      G_per  H     H_per  I     I_per  K     K_per  L     L_per  M  \\\n",
       "0  4   6.896552  1  1.724138  5  8.620690  3  5.172414  1  1.724138  0   \n",
       "1  6  10.526316  0  0.000000  4  7.017544  3  5.263158  1  1.754386  1   \n",
       "2  6  10.526316  0  0.000000  4  7.017544  3  5.263158  1  1.754386  1   \n",
       "3  6  10.909091  0  0.000000  4  7.272727  3  5.454545  0  0.000000  0   \n",
       "4  6  10.000000  0  0.000000  5  8.333333  3  5.000000  2  3.333333  1   \n",
       "\n",
       "      M_per  N      N_per  O  O_per  P     P_per  Q     Q_per  R     R_per  S  \\\n",
       "0  0.000000  5   8.620690  0      0  3  5.172414  1  1.724138  3  5.172414  4   \n",
       "1  1.754386  3   5.263158  0      0  4  7.017544  1  1.754386  2  3.508772  4   \n",
       "2  1.754386  4   7.017544  0      0  4  7.017544  1  1.754386  2  3.508772  4   \n",
       "3  0.000000  7  12.727273  0      0  3  5.454545  1  1.818182  2  3.636364  3   \n",
       "4  1.666667  5   8.333333  0      0  3  5.000000  0  0.000000  2  3.333333  3   \n",
       "\n",
       "      S_per  T      T_per  U  U_per  V     V_per  W  W_per  X  X_per  Y  \\\n",
       "0  6.896552  1   1.724138  0      0  3  5.172414  0    0.0  0    0.0  3   \n",
       "1  7.017544  2   3.508772  0      0  3  5.263158  0    0.0  0    0.0  3   \n",
       "2  7.017544  2   3.508772  0      0  3  5.263158  0    0.0  0    0.0  3   \n",
       "3  5.454545  6  10.909091  0      0  1  1.818182  0    0.0  0    0.0  3   \n",
       "4  5.000000  5   8.333333  0      0  3  5.000000  0    0.0  0    0.0  3   \n",
       "\n",
       "      Y_per  Z  Z_per  \n",
       "0  5.172414  0      0  \n",
       "1  5.263158  0      0  \n",
       "2  5.263158  0      0  \n",
       "3  5.454545  0      0  \n",
       "4  5.000000  0      0  "
      ]
     },
     "execution_count": 95,
     "metadata": {},
     "output_type": "execute_result"
    }
   ],
   "source": [
    "domains_amino.head()"
   ]
  },
  {
   "cell_type": "code",
   "execution_count": 96,
   "id": "e10896d5",
   "metadata": {},
   "outputs": [],
   "source": [
    "domains_amino=domains_amino[['DomainID',\n",
    "       'A', 'C','D','E','F','G','H','I','K','L','M','N','O','P','Q','R','S','T','U','V','W','X','Y','Z']]"
   ]
  },
  {
   "cell_type": "code",
   "execution_count": 97,
   "id": "5b52b879",
   "metadata": {},
   "outputs": [
    {
     "data": {
      "text/html": [
       "<div>\n",
       "<style scoped>\n",
       "    .dataframe tbody tr th:only-of-type {\n",
       "        vertical-align: middle;\n",
       "    }\n",
       "\n",
       "    .dataframe tbody tr th {\n",
       "        vertical-align: top;\n",
       "    }\n",
       "\n",
       "    .dataframe thead th {\n",
       "        text-align: right;\n",
       "    }\n",
       "</style>\n",
       "<table border=\"1\" class=\"dataframe\">\n",
       "  <thead>\n",
       "    <tr style=\"text-align: right;\">\n",
       "      <th></th>\n",
       "      <th>DomainID</th>\n",
       "      <th>A</th>\n",
       "      <th>C</th>\n",
       "      <th>D</th>\n",
       "      <th>E</th>\n",
       "      <th>F</th>\n",
       "      <th>G</th>\n",
       "      <th>H</th>\n",
       "      <th>I</th>\n",
       "      <th>K</th>\n",
       "      <th>L</th>\n",
       "      <th>M</th>\n",
       "      <th>N</th>\n",
       "      <th>O</th>\n",
       "      <th>P</th>\n",
       "      <th>Q</th>\n",
       "      <th>R</th>\n",
       "      <th>S</th>\n",
       "      <th>T</th>\n",
       "      <th>U</th>\n",
       "      <th>V</th>\n",
       "      <th>W</th>\n",
       "      <th>X</th>\n",
       "      <th>Y</th>\n",
       "      <th>Z</th>\n",
       "    </tr>\n",
       "  </thead>\n",
       "  <tbody>\n",
       "    <tr>\n",
       "      <th>0</th>\n",
       "      <td>IRD-1</td>\n",
       "      <td>3</td>\n",
       "      <td>8</td>\n",
       "      <td>3</td>\n",
       "      <td>5</td>\n",
       "      <td>2</td>\n",
       "      <td>4</td>\n",
       "      <td>1</td>\n",
       "      <td>5</td>\n",
       "      <td>3</td>\n",
       "      <td>1</td>\n",
       "      <td>0</td>\n",
       "      <td>5</td>\n",
       "      <td>0</td>\n",
       "      <td>3</td>\n",
       "      <td>1</td>\n",
       "      <td>3</td>\n",
       "      <td>4</td>\n",
       "      <td>1</td>\n",
       "      <td>0</td>\n",
       "      <td>3</td>\n",
       "      <td>0</td>\n",
       "      <td>0</td>\n",
       "      <td>3</td>\n",
       "      <td>0</td>\n",
       "    </tr>\n",
       "    <tr>\n",
       "      <th>1</th>\n",
       "      <td>IRD-2</td>\n",
       "      <td>2</td>\n",
       "      <td>8</td>\n",
       "      <td>4</td>\n",
       "      <td>4</td>\n",
       "      <td>2</td>\n",
       "      <td>6</td>\n",
       "      <td>0</td>\n",
       "      <td>4</td>\n",
       "      <td>3</td>\n",
       "      <td>1</td>\n",
       "      <td>1</td>\n",
       "      <td>3</td>\n",
       "      <td>0</td>\n",
       "      <td>4</td>\n",
       "      <td>1</td>\n",
       "      <td>2</td>\n",
       "      <td>4</td>\n",
       "      <td>2</td>\n",
       "      <td>0</td>\n",
       "      <td>3</td>\n",
       "      <td>0</td>\n",
       "      <td>0</td>\n",
       "      <td>3</td>\n",
       "      <td>0</td>\n",
       "    </tr>\n",
       "    <tr>\n",
       "      <th>2</th>\n",
       "      <td>IRD-3</td>\n",
       "      <td>2</td>\n",
       "      <td>8</td>\n",
       "      <td>3</td>\n",
       "      <td>4</td>\n",
       "      <td>2</td>\n",
       "      <td>6</td>\n",
       "      <td>0</td>\n",
       "      <td>4</td>\n",
       "      <td>3</td>\n",
       "      <td>1</td>\n",
       "      <td>1</td>\n",
       "      <td>4</td>\n",
       "      <td>0</td>\n",
       "      <td>4</td>\n",
       "      <td>1</td>\n",
       "      <td>2</td>\n",
       "      <td>4</td>\n",
       "      <td>2</td>\n",
       "      <td>0</td>\n",
       "      <td>3</td>\n",
       "      <td>0</td>\n",
       "      <td>0</td>\n",
       "      <td>3</td>\n",
       "      <td>0</td>\n",
       "    </tr>\n",
       "    <tr>\n",
       "      <th>3</th>\n",
       "      <td>IRD-4</td>\n",
       "      <td>3</td>\n",
       "      <td>8</td>\n",
       "      <td>1</td>\n",
       "      <td>3</td>\n",
       "      <td>1</td>\n",
       "      <td>6</td>\n",
       "      <td>0</td>\n",
       "      <td>4</td>\n",
       "      <td>3</td>\n",
       "      <td>0</td>\n",
       "      <td>0</td>\n",
       "      <td>7</td>\n",
       "      <td>0</td>\n",
       "      <td>3</td>\n",
       "      <td>1</td>\n",
       "      <td>2</td>\n",
       "      <td>3</td>\n",
       "      <td>6</td>\n",
       "      <td>0</td>\n",
       "      <td>1</td>\n",
       "      <td>0</td>\n",
       "      <td>0</td>\n",
       "      <td>3</td>\n",
       "      <td>0</td>\n",
       "    </tr>\n",
       "    <tr>\n",
       "      <th>4</th>\n",
       "      <td>IRD-5</td>\n",
       "      <td>2</td>\n",
       "      <td>7</td>\n",
       "      <td>1</td>\n",
       "      <td>8</td>\n",
       "      <td>1</td>\n",
       "      <td>6</td>\n",
       "      <td>0</td>\n",
       "      <td>5</td>\n",
       "      <td>3</td>\n",
       "      <td>2</td>\n",
       "      <td>1</td>\n",
       "      <td>5</td>\n",
       "      <td>0</td>\n",
       "      <td>3</td>\n",
       "      <td>0</td>\n",
       "      <td>2</td>\n",
       "      <td>3</td>\n",
       "      <td>5</td>\n",
       "      <td>0</td>\n",
       "      <td>3</td>\n",
       "      <td>0</td>\n",
       "      <td>0</td>\n",
       "      <td>3</td>\n",
       "      <td>0</td>\n",
       "    </tr>\n",
       "  </tbody>\n",
       "</table>\n",
       "</div>"
      ],
      "text/plain": [
       "  DomainID  A  C  D  E  F  G  H  I  K  L  M  N  O  P  Q  R  S  T  U  V  W  X  \\\n",
       "0    IRD-1  3  8  3  5  2  4  1  5  3  1  0  5  0  3  1  3  4  1  0  3  0  0   \n",
       "1    IRD-2  2  8  4  4  2  6  0  4  3  1  1  3  0  4  1  2  4  2  0  3  0  0   \n",
       "2    IRD-3  2  8  3  4  2  6  0  4  3  1  1  4  0  4  1  2  4  2  0  3  0  0   \n",
       "3    IRD-4  3  8  1  3  1  6  0  4  3  0  0  7  0  3  1  2  3  6  0  1  0  0   \n",
       "4    IRD-5  2  7  1  8  1  6  0  5  3  2  1  5  0  3  0  2  3  5  0  3  0  0   \n",
       "\n",
       "   Y  Z  \n",
       "0  3  0  \n",
       "1  3  0  \n",
       "2  3  0  \n",
       "3  3  0  \n",
       "4  3  0  "
      ]
     },
     "execution_count": 97,
     "metadata": {},
     "output_type": "execute_result"
    }
   ],
   "source": [
    "   domains_amino.head() "
   ]
  },
  {
   "cell_type": "code",
   "execution_count": 98,
   "id": "f3860749",
   "metadata": {},
   "outputs": [],
   "source": [
    "domains_amino.set_index('DomainID',inplace=True)"
   ]
  },
  {
   "cell_type": "code",
   "execution_count": 99,
   "id": "74660781",
   "metadata": {},
   "outputs": [
    {
     "data": {
      "text/html": [
       "<div>\n",
       "<style scoped>\n",
       "    .dataframe tbody tr th:only-of-type {\n",
       "        vertical-align: middle;\n",
       "    }\n",
       "\n",
       "    .dataframe tbody tr th {\n",
       "        vertical-align: top;\n",
       "    }\n",
       "\n",
       "    .dataframe thead th {\n",
       "        text-align: right;\n",
       "    }\n",
       "</style>\n",
       "<table border=\"1\" class=\"dataframe\">\n",
       "  <thead>\n",
       "    <tr style=\"text-align: right;\">\n",
       "      <th></th>\n",
       "      <th>A</th>\n",
       "      <th>C</th>\n",
       "      <th>D</th>\n",
       "      <th>E</th>\n",
       "      <th>F</th>\n",
       "      <th>G</th>\n",
       "      <th>H</th>\n",
       "      <th>I</th>\n",
       "      <th>K</th>\n",
       "      <th>L</th>\n",
       "      <th>M</th>\n",
       "      <th>N</th>\n",
       "      <th>O</th>\n",
       "      <th>P</th>\n",
       "      <th>Q</th>\n",
       "      <th>R</th>\n",
       "      <th>S</th>\n",
       "      <th>T</th>\n",
       "      <th>U</th>\n",
       "      <th>V</th>\n",
       "      <th>W</th>\n",
       "      <th>X</th>\n",
       "      <th>Y</th>\n",
       "      <th>Z</th>\n",
       "    </tr>\n",
       "    <tr>\n",
       "      <th>DomainID</th>\n",
       "      <th></th>\n",
       "      <th></th>\n",
       "      <th></th>\n",
       "      <th></th>\n",
       "      <th></th>\n",
       "      <th></th>\n",
       "      <th></th>\n",
       "      <th></th>\n",
       "      <th></th>\n",
       "      <th></th>\n",
       "      <th></th>\n",
       "      <th></th>\n",
       "      <th></th>\n",
       "      <th></th>\n",
       "      <th></th>\n",
       "      <th></th>\n",
       "      <th></th>\n",
       "      <th></th>\n",
       "      <th></th>\n",
       "      <th></th>\n",
       "      <th></th>\n",
       "      <th></th>\n",
       "      <th></th>\n",
       "      <th></th>\n",
       "    </tr>\n",
       "  </thead>\n",
       "  <tbody>\n",
       "    <tr>\n",
       "      <th>IRD-1</th>\n",
       "      <td>3</td>\n",
       "      <td>8</td>\n",
       "      <td>3</td>\n",
       "      <td>5</td>\n",
       "      <td>2</td>\n",
       "      <td>4</td>\n",
       "      <td>1</td>\n",
       "      <td>5</td>\n",
       "      <td>3</td>\n",
       "      <td>1</td>\n",
       "      <td>0</td>\n",
       "      <td>5</td>\n",
       "      <td>0</td>\n",
       "      <td>3</td>\n",
       "      <td>1</td>\n",
       "      <td>3</td>\n",
       "      <td>4</td>\n",
       "      <td>1</td>\n",
       "      <td>0</td>\n",
       "      <td>3</td>\n",
       "      <td>0</td>\n",
       "      <td>0</td>\n",
       "      <td>3</td>\n",
       "      <td>0</td>\n",
       "    </tr>\n",
       "    <tr>\n",
       "      <th>IRD-2</th>\n",
       "      <td>2</td>\n",
       "      <td>8</td>\n",
       "      <td>4</td>\n",
       "      <td>4</td>\n",
       "      <td>2</td>\n",
       "      <td>6</td>\n",
       "      <td>0</td>\n",
       "      <td>4</td>\n",
       "      <td>3</td>\n",
       "      <td>1</td>\n",
       "      <td>1</td>\n",
       "      <td>3</td>\n",
       "      <td>0</td>\n",
       "      <td>4</td>\n",
       "      <td>1</td>\n",
       "      <td>2</td>\n",
       "      <td>4</td>\n",
       "      <td>2</td>\n",
       "      <td>0</td>\n",
       "      <td>3</td>\n",
       "      <td>0</td>\n",
       "      <td>0</td>\n",
       "      <td>3</td>\n",
       "      <td>0</td>\n",
       "    </tr>\n",
       "    <tr>\n",
       "      <th>IRD-3</th>\n",
       "      <td>2</td>\n",
       "      <td>8</td>\n",
       "      <td>3</td>\n",
       "      <td>4</td>\n",
       "      <td>2</td>\n",
       "      <td>6</td>\n",
       "      <td>0</td>\n",
       "      <td>4</td>\n",
       "      <td>3</td>\n",
       "      <td>1</td>\n",
       "      <td>1</td>\n",
       "      <td>4</td>\n",
       "      <td>0</td>\n",
       "      <td>4</td>\n",
       "      <td>1</td>\n",
       "      <td>2</td>\n",
       "      <td>4</td>\n",
       "      <td>2</td>\n",
       "      <td>0</td>\n",
       "      <td>3</td>\n",
       "      <td>0</td>\n",
       "      <td>0</td>\n",
       "      <td>3</td>\n",
       "      <td>0</td>\n",
       "    </tr>\n",
       "    <tr>\n",
       "      <th>IRD-4</th>\n",
       "      <td>3</td>\n",
       "      <td>8</td>\n",
       "      <td>1</td>\n",
       "      <td>3</td>\n",
       "      <td>1</td>\n",
       "      <td>6</td>\n",
       "      <td>0</td>\n",
       "      <td>4</td>\n",
       "      <td>3</td>\n",
       "      <td>0</td>\n",
       "      <td>0</td>\n",
       "      <td>7</td>\n",
       "      <td>0</td>\n",
       "      <td>3</td>\n",
       "      <td>1</td>\n",
       "      <td>2</td>\n",
       "      <td>3</td>\n",
       "      <td>6</td>\n",
       "      <td>0</td>\n",
       "      <td>1</td>\n",
       "      <td>0</td>\n",
       "      <td>0</td>\n",
       "      <td>3</td>\n",
       "      <td>0</td>\n",
       "    </tr>\n",
       "    <tr>\n",
       "      <th>IRD-5</th>\n",
       "      <td>2</td>\n",
       "      <td>7</td>\n",
       "      <td>1</td>\n",
       "      <td>8</td>\n",
       "      <td>1</td>\n",
       "      <td>6</td>\n",
       "      <td>0</td>\n",
       "      <td>5</td>\n",
       "      <td>3</td>\n",
       "      <td>2</td>\n",
       "      <td>1</td>\n",
       "      <td>5</td>\n",
       "      <td>0</td>\n",
       "      <td>3</td>\n",
       "      <td>0</td>\n",
       "      <td>2</td>\n",
       "      <td>3</td>\n",
       "      <td>5</td>\n",
       "      <td>0</td>\n",
       "      <td>3</td>\n",
       "      <td>0</td>\n",
       "      <td>0</td>\n",
       "      <td>3</td>\n",
       "      <td>0</td>\n",
       "    </tr>\n",
       "  </tbody>\n",
       "</table>\n",
       "</div>"
      ],
      "text/plain": [
       "          A  C  D  E  F  G  H  I  K  L  M  N  O  P  Q  R  S  T  U  V  W  X  Y  \\\n",
       "DomainID                                                                        \n",
       "IRD-1     3  8  3  5  2  4  1  5  3  1  0  5  0  3  1  3  4  1  0  3  0  0  3   \n",
       "IRD-2     2  8  4  4  2  6  0  4  3  1  1  3  0  4  1  2  4  2  0  3  0  0  3   \n",
       "IRD-3     2  8  3  4  2  6  0  4  3  1  1  4  0  4  1  2  4  2  0  3  0  0  3   \n",
       "IRD-4     3  8  1  3  1  6  0  4  3  0  0  7  0  3  1  2  3  6  0  1  0  0  3   \n",
       "IRD-5     2  7  1  8  1  6  0  5  3  2  1  5  0  3  0  2  3  5  0  3  0  0  3   \n",
       "\n",
       "          Z  \n",
       "DomainID     \n",
       "IRD-1     0  \n",
       "IRD-2     0  \n",
       "IRD-3     0  \n",
       "IRD-4     0  \n",
       "IRD-5     0  "
      ]
     },
     "execution_count": 99,
     "metadata": {},
     "output_type": "execute_result"
    }
   ],
   "source": [
    "domains_amino.head()"
   ]
  },
  {
   "cell_type": "code",
   "execution_count": 101,
   "id": "e23f0e41",
   "metadata": {},
   "outputs": [
    {
     "data": {
      "text/plain": [
       "DomainID\n",
       "IRD-1      C\n",
       "IRD-2      C\n",
       "IRD-3      C\n",
       "IRD-4      C\n",
       "IRD-5      E\n",
       "          ..\n",
       "IRD-694    C\n",
       "IRD-695    C\n",
       "IRD-696    C\n",
       "IRD-697    C\n",
       "IRD-698    C\n",
       "Length: 698, dtype: object"
      ]
     },
     "execution_count": 101,
     "metadata": {},
     "output_type": "execute_result"
    }
   ],
   "source": [
    "domains_amino.idxmax(axis=1)"
   ]
  },
  {
   "cell_type": "code",
   "execution_count": 102,
   "id": "c07d0076",
   "metadata": {},
   "outputs": [
    {
     "data": {
      "text/plain": [
       "C    681\n",
       "P      6\n",
       "G      5\n",
       "A      3\n",
       "E      2\n",
       "K      1\n",
       "dtype: int64"
      ]
     },
     "execution_count": 102,
     "metadata": {},
     "output_type": "execute_result"
    }
   ],
   "source": [
    "domains_amino.idxmax(axis=1).value_counts()"
   ]
  },
  {
   "cell_type": "code",
   "execution_count": 103,
   "id": "ea2c04b4",
   "metadata": {},
   "outputs": [
    {
     "data": {
      "text/plain": [
       "8    642\n",
       "7     38\n",
       "9      7\n",
       "4      6\n",
       "3      2\n",
       "6      2\n",
       "5      1\n",
       "Name: C, dtype: int64"
      ]
     },
     "execution_count": 103,
     "metadata": {},
     "output_type": "execute_result"
    }
   ],
   "source": [
    "domains_amino.C.value_counts()"
   ]
  },
  {
   "cell_type": "code",
   "execution_count": null,
   "id": "77fd65f6",
   "metadata": {},
   "outputs": [],
   "source": []
  }
 ],
 "metadata": {
  "kernelspec": {
   "display_name": "Python 3",
   "language": "python",
   "name": "python3"
  },
  "language_info": {
   "codemirror_mode": {
    "name": "ipython",
    "version": 3
   },
   "file_extension": ".py",
   "mimetype": "text/x-python",
   "name": "python",
   "nbconvert_exporter": "python",
   "pygments_lexer": "ipython3",
   "version": "3.9.4"
  }
 },
 "nbformat": 4,
 "nbformat_minor": 5
}
